{
  "nbformat": 4,
  "nbformat_minor": 0,
  "metadata": {
    "colab": {
      "name": "global_temp_modelling.ipynb",
      "provenance": [],
      "collapsed_sections": []
    },
    "kernelspec": {
      "name": "python3",
      "display_name": "Python 3"
    },
    "language_info": {
      "name": "python"
    }
  },
  "cells": [
    {
      "cell_type": "code",
      "metadata": {
        "colab": {
          "base_uri": "https://localhost:8080/"
        },
        "id": "t9gVK0AVLPTY",
        "outputId": "b14ce6f9-bb07-41b3-bc53-6be419d882e6"
      },
      "source": [
        "! sudo apt install openjdk-8-jdk\n",
        "! sudo update-alternatives --config java"
      ],
      "execution_count": 1,
      "outputs": [
        {
          "output_type": "stream",
          "name": "stdout",
          "text": [
            "Reading package lists... Done\n",
            "Building dependency tree       \n",
            "Reading state information... Done\n",
            "The following additional packages will be installed:\n",
            "  fonts-dejavu-core fonts-dejavu-extra libatk-wrapper-java\n",
            "  libatk-wrapper-java-jni libgail-common libgail18 libgtk2.0-0 libgtk2.0-bin\n",
            "  libgtk2.0-common libxxf86dga1 openjdk-8-jdk-headless openjdk-8-jre\n",
            "  openjdk-8-jre-headless x11-utils\n",
            "Suggested packages:\n",
            "  gvfs openjdk-8-demo openjdk-8-source visualvm icedtea-8-plugin libnss-mdns\n",
            "  fonts-ipafont-gothic fonts-ipafont-mincho fonts-wqy-microhei\n",
            "  fonts-wqy-zenhei fonts-indic mesa-utils\n",
            "The following NEW packages will be installed:\n",
            "  fonts-dejavu-core fonts-dejavu-extra libatk-wrapper-java\n",
            "  libatk-wrapper-java-jni libgail-common libgail18 libgtk2.0-0 libgtk2.0-bin\n",
            "  libgtk2.0-common libxxf86dga1 openjdk-8-jdk openjdk-8-jdk-headless\n",
            "  openjdk-8-jre openjdk-8-jre-headless x11-utils\n",
            "0 upgraded, 15 newly installed, 0 to remove and 37 not upgraded.\n",
            "Need to get 43.5 MB of archives.\n",
            "After this operation, 163 MB of additional disk space will be used.\n",
            "Get:1 http://archive.ubuntu.com/ubuntu bionic/main amd64 libxxf86dga1 amd64 2:1.1.4-1 [13.7 kB]\n",
            "Get:2 http://archive.ubuntu.com/ubuntu bionic/main amd64 fonts-dejavu-core all 2.37-1 [1,041 kB]\n",
            "Get:3 http://archive.ubuntu.com/ubuntu bionic/main amd64 fonts-dejavu-extra all 2.37-1 [1,953 kB]\n",
            "Get:4 http://archive.ubuntu.com/ubuntu bionic/main amd64 x11-utils amd64 7.7+3build1 [196 kB]\n",
            "Get:5 http://archive.ubuntu.com/ubuntu bionic/main amd64 libatk-wrapper-java all 0.33.3-20ubuntu0.1 [34.7 kB]\n",
            "Get:6 http://archive.ubuntu.com/ubuntu bionic/main amd64 libatk-wrapper-java-jni amd64 0.33.3-20ubuntu0.1 [28.3 kB]\n",
            "Get:7 http://archive.ubuntu.com/ubuntu bionic/main amd64 libgtk2.0-common all 2.24.32-1ubuntu1 [125 kB]\n",
            "Get:8 http://archive.ubuntu.com/ubuntu bionic/main amd64 libgtk2.0-0 amd64 2.24.32-1ubuntu1 [1,769 kB]\n",
            "Get:9 http://archive.ubuntu.com/ubuntu bionic/main amd64 libgail18 amd64 2.24.32-1ubuntu1 [14.2 kB]\n",
            "Get:10 http://archive.ubuntu.com/ubuntu bionic/main amd64 libgail-common amd64 2.24.32-1ubuntu1 [112 kB]\n",
            "Get:11 http://archive.ubuntu.com/ubuntu bionic/main amd64 libgtk2.0-bin amd64 2.24.32-1ubuntu1 [7,536 B]\n",
            "Get:12 http://archive.ubuntu.com/ubuntu bionic-updates/universe amd64 openjdk-8-jre-headless amd64 8u292-b10-0ubuntu1~18.04 [28.2 MB]\n",
            "Get:13 http://archive.ubuntu.com/ubuntu bionic-updates/universe amd64 openjdk-8-jre amd64 8u292-b10-0ubuntu1~18.04 [69.6 kB]\n",
            "Get:14 http://archive.ubuntu.com/ubuntu bionic-updates/universe amd64 openjdk-8-jdk-headless amd64 8u292-b10-0ubuntu1~18.04 [8,284 kB]\n",
            "Get:15 http://archive.ubuntu.com/ubuntu bionic-updates/universe amd64 openjdk-8-jdk amd64 8u292-b10-0ubuntu1~18.04 [1,644 kB]\n",
            "Fetched 43.5 MB in 6s (7,785 kB/s)\n",
            "debconf: unable to initialize frontend: Dialog\n",
            "debconf: (No usable dialog-like program is installed, so the dialog based frontend cannot be used. at /usr/share/perl5/Debconf/FrontEnd/Dialog.pm line 76, <> line 15.)\n",
            "debconf: falling back to frontend: Readline\n",
            "debconf: unable to initialize frontend: Readline\n",
            "debconf: (This frontend requires a controlling tty.)\n",
            "debconf: falling back to frontend: Teletype\n",
            "dpkg-preconfigure: unable to re-open stdin: \n",
            "Selecting previously unselected package libxxf86dga1:amd64.\n",
            "(Reading database ... 155222 files and directories currently installed.)\n",
            "Preparing to unpack .../00-libxxf86dga1_2%3a1.1.4-1_amd64.deb ...\n",
            "Unpacking libxxf86dga1:amd64 (2:1.1.4-1) ...\n",
            "Selecting previously unselected package fonts-dejavu-core.\n",
            "Preparing to unpack .../01-fonts-dejavu-core_2.37-1_all.deb ...\n",
            "Unpacking fonts-dejavu-core (2.37-1) ...\n",
            "Selecting previously unselected package fonts-dejavu-extra.\n",
            "Preparing to unpack .../02-fonts-dejavu-extra_2.37-1_all.deb ...\n",
            "Unpacking fonts-dejavu-extra (2.37-1) ...\n",
            "Selecting previously unselected package x11-utils.\n",
            "Preparing to unpack .../03-x11-utils_7.7+3build1_amd64.deb ...\n",
            "Unpacking x11-utils (7.7+3build1) ...\n",
            "Selecting previously unselected package libatk-wrapper-java.\n",
            "Preparing to unpack .../04-libatk-wrapper-java_0.33.3-20ubuntu0.1_all.deb ...\n",
            "Unpacking libatk-wrapper-java (0.33.3-20ubuntu0.1) ...\n",
            "Selecting previously unselected package libatk-wrapper-java-jni:amd64.\n",
            "Preparing to unpack .../05-libatk-wrapper-java-jni_0.33.3-20ubuntu0.1_amd64.deb ...\n",
            "Unpacking libatk-wrapper-java-jni:amd64 (0.33.3-20ubuntu0.1) ...\n",
            "Selecting previously unselected package libgtk2.0-common.\n",
            "Preparing to unpack .../06-libgtk2.0-common_2.24.32-1ubuntu1_all.deb ...\n",
            "Unpacking libgtk2.0-common (2.24.32-1ubuntu1) ...\n",
            "Selecting previously unselected package libgtk2.0-0:amd64.\n",
            "Preparing to unpack .../07-libgtk2.0-0_2.24.32-1ubuntu1_amd64.deb ...\n",
            "Unpacking libgtk2.0-0:amd64 (2.24.32-1ubuntu1) ...\n",
            "Selecting previously unselected package libgail18:amd64.\n",
            "Preparing to unpack .../08-libgail18_2.24.32-1ubuntu1_amd64.deb ...\n",
            "Unpacking libgail18:amd64 (2.24.32-1ubuntu1) ...\n",
            "Selecting previously unselected package libgail-common:amd64.\n",
            "Preparing to unpack .../09-libgail-common_2.24.32-1ubuntu1_amd64.deb ...\n",
            "Unpacking libgail-common:amd64 (2.24.32-1ubuntu1) ...\n",
            "Selecting previously unselected package libgtk2.0-bin.\n",
            "Preparing to unpack .../10-libgtk2.0-bin_2.24.32-1ubuntu1_amd64.deb ...\n",
            "Unpacking libgtk2.0-bin (2.24.32-1ubuntu1) ...\n",
            "Selecting previously unselected package openjdk-8-jre-headless:amd64.\n",
            "Preparing to unpack .../11-openjdk-8-jre-headless_8u292-b10-0ubuntu1~18.04_amd64.deb ...\n",
            "Unpacking openjdk-8-jre-headless:amd64 (8u292-b10-0ubuntu1~18.04) ...\n",
            "Selecting previously unselected package openjdk-8-jre:amd64.\n",
            "Preparing to unpack .../12-openjdk-8-jre_8u292-b10-0ubuntu1~18.04_amd64.deb ...\n",
            "Unpacking openjdk-8-jre:amd64 (8u292-b10-0ubuntu1~18.04) ...\n",
            "Selecting previously unselected package openjdk-8-jdk-headless:amd64.\n",
            "Preparing to unpack .../13-openjdk-8-jdk-headless_8u292-b10-0ubuntu1~18.04_amd64.deb ...\n",
            "Unpacking openjdk-8-jdk-headless:amd64 (8u292-b10-0ubuntu1~18.04) ...\n",
            "Selecting previously unselected package openjdk-8-jdk:amd64.\n",
            "Preparing to unpack .../14-openjdk-8-jdk_8u292-b10-0ubuntu1~18.04_amd64.deb ...\n",
            "Unpacking openjdk-8-jdk:amd64 (8u292-b10-0ubuntu1~18.04) ...\n",
            "Setting up libgtk2.0-common (2.24.32-1ubuntu1) ...\n",
            "Setting up fonts-dejavu-core (2.37-1) ...\n",
            "Setting up libxxf86dga1:amd64 (2:1.1.4-1) ...\n",
            "Setting up fonts-dejavu-extra (2.37-1) ...\n",
            "Setting up openjdk-8-jre-headless:amd64 (8u292-b10-0ubuntu1~18.04) ...\n",
            "update-alternatives: using /usr/lib/jvm/java-8-openjdk-amd64/jre/bin/orbd to provide /usr/bin/orbd (orbd) in auto mode\n",
            "update-alternatives: using /usr/lib/jvm/java-8-openjdk-amd64/jre/bin/servertool to provide /usr/bin/servertool (servertool) in auto mode\n",
            "update-alternatives: using /usr/lib/jvm/java-8-openjdk-amd64/jre/bin/tnameserv to provide /usr/bin/tnameserv (tnameserv) in auto mode\n",
            "Setting up libgtk2.0-0:amd64 (2.24.32-1ubuntu1) ...\n",
            "Setting up libgail18:amd64 (2.24.32-1ubuntu1) ...\n",
            "Setting up openjdk-8-jdk-headless:amd64 (8u292-b10-0ubuntu1~18.04) ...\n",
            "update-alternatives: using /usr/lib/jvm/java-8-openjdk-amd64/bin/idlj to provide /usr/bin/idlj (idlj) in auto mode\n",
            "update-alternatives: using /usr/lib/jvm/java-8-openjdk-amd64/bin/wsimport to provide /usr/bin/wsimport (wsimport) in auto mode\n",
            "update-alternatives: using /usr/lib/jvm/java-8-openjdk-amd64/bin/jsadebugd to provide /usr/bin/jsadebugd (jsadebugd) in auto mode\n",
            "update-alternatives: using /usr/lib/jvm/java-8-openjdk-amd64/bin/native2ascii to provide /usr/bin/native2ascii (native2ascii) in auto mode\n",
            "update-alternatives: using /usr/lib/jvm/java-8-openjdk-amd64/bin/javah to provide /usr/bin/javah (javah) in auto mode\n",
            "update-alternatives: using /usr/lib/jvm/java-8-openjdk-amd64/bin/hsdb to provide /usr/bin/hsdb (hsdb) in auto mode\n",
            "update-alternatives: using /usr/lib/jvm/java-8-openjdk-amd64/bin/clhsdb to provide /usr/bin/clhsdb (clhsdb) in auto mode\n",
            "update-alternatives: using /usr/lib/jvm/java-8-openjdk-amd64/bin/extcheck to provide /usr/bin/extcheck (extcheck) in auto mode\n",
            "update-alternatives: using /usr/lib/jvm/java-8-openjdk-amd64/bin/schemagen to provide /usr/bin/schemagen (schemagen) in auto mode\n",
            "update-alternatives: using /usr/lib/jvm/java-8-openjdk-amd64/bin/xjc to provide /usr/bin/xjc (xjc) in auto mode\n",
            "update-alternatives: using /usr/lib/jvm/java-8-openjdk-amd64/bin/jhat to provide /usr/bin/jhat (jhat) in auto mode\n",
            "update-alternatives: using /usr/lib/jvm/java-8-openjdk-amd64/bin/wsgen to provide /usr/bin/wsgen (wsgen) in auto mode\n",
            "Setting up x11-utils (7.7+3build1) ...\n",
            "Setting up libgail-common:amd64 (2.24.32-1ubuntu1) ...\n",
            "Setting up libatk-wrapper-java (0.33.3-20ubuntu0.1) ...\n",
            "Setting up libgtk2.0-bin (2.24.32-1ubuntu1) ...\n",
            "Setting up libatk-wrapper-java-jni:amd64 (0.33.3-20ubuntu0.1) ...\n",
            "Setting up openjdk-8-jre:amd64 (8u292-b10-0ubuntu1~18.04) ...\n",
            "update-alternatives: using /usr/lib/jvm/java-8-openjdk-amd64/jre/bin/policytool to provide /usr/bin/policytool (policytool) in auto mode\n",
            "Setting up openjdk-8-jdk:amd64 (8u292-b10-0ubuntu1~18.04) ...\n",
            "update-alternatives: using /usr/lib/jvm/java-8-openjdk-amd64/bin/appletviewer to provide /usr/bin/appletviewer (appletviewer) in auto mode\n",
            "update-alternatives: using /usr/lib/jvm/java-8-openjdk-amd64/bin/jconsole to provide /usr/bin/jconsole (jconsole) in auto mode\n",
            "Processing triggers for man-db (2.8.3-2ubuntu0.1) ...\n",
            "Processing triggers for hicolor-icon-theme (0.17-2) ...\n",
            "Processing triggers for fontconfig (2.12.6-0ubuntu2) ...\n",
            "Processing triggers for mime-support (3.60ubuntu1) ...\n",
            "Processing triggers for libc-bin (2.27-3ubuntu1.3) ...\n",
            "/sbin/ldconfig.real: /usr/local/lib/python3.7/dist-packages/ideep4py/lib/libmkldnn.so.0 is not a symbolic link\n",
            "\n",
            "There are 2 choices for the alternative java (providing /usr/bin/java).\n",
            "\n",
            "  Selection    Path                                            Priority   Status\n",
            "------------------------------------------------------------\n",
            "* 0            /usr/lib/jvm/java-11-openjdk-amd64/bin/java      1111      auto mode\n",
            "  1            /usr/lib/jvm/java-11-openjdk-amd64/bin/java      1111      manual mode\n",
            "  2            /usr/lib/jvm/java-8-openjdk-amd64/jre/bin/java   1081      manual mode\n",
            "\n",
            "Press <enter> to keep the current choice[*], or type selection number: 2\n",
            "update-alternatives: using /usr/lib/jvm/java-8-openjdk-amd64/jre/bin/java to provide /usr/bin/java (java) in manual mode\n"
          ]
        }
      ]
    },
    {
      "cell_type": "code",
      "metadata": {
        "colab": {
          "base_uri": "https://localhost:8080/"
        },
        "id": "JY8-jrYwLTTK",
        "outputId": "601a9c00-8ca0-42a9-e9b7-ef702f02af50"
      },
      "source": [
        "# Sklearn and Pandas Setup\n",
        "\n",
        "import pandas as pd\n",
        "print(pd.__version__ == '1.1.5')\n",
        "import numpy as np \n",
        "import json\n",
        "import matplotlib\n",
        "import matplotlib.pyplot as plt\n",
        "from matplotlib import cm\n",
        "from datetime import datetime\n",
        "import glob\n",
        "import seaborn as sns\n",
        "import re\n",
        "import os\n",
        "from sklearn.preprocessing import LabelEncoder"
      ],
      "execution_count": 2,
      "outputs": [
        {
          "output_type": "stream",
          "name": "stdout",
          "text": [
            "True\n"
          ]
        }
      ]
    },
    {
      "cell_type": "code",
      "metadata": {
        "colab": {
          "base_uri": "https://localhost:8080/"
        },
        "id": "B-RCVYh4Lczt",
        "outputId": "02d5ee17-8fc3-4e6f-8187-9ccd8aa754d4"
      },
      "source": [
        "!apt update\n",
        "!apt install gcc python-dev libkrb5-dev"
      ],
      "execution_count": 3,
      "outputs": [
        {
          "output_type": "stream",
          "name": "stdout",
          "text": [
            "Get:1 https://cloud.r-project.org/bin/linux/ubuntu bionic-cran40/ InRelease [3,626 B]\n",
            "Ign:2 https://developer.download.nvidia.com/compute/cuda/repos/ubuntu1804/x86_64  InRelease\n",
            "Ign:3 https://developer.download.nvidia.com/compute/machine-learning/repos/ubuntu1804/x86_64  InRelease\n",
            "Hit:4 https://developer.download.nvidia.com/compute/cuda/repos/ubuntu1804/x86_64  Release\n",
            "Get:5 http://ppa.launchpad.net/c2d4u.team/c2d4u4.0+/ubuntu bionic InRelease [15.9 kB]\n",
            "Get:6 https://cloud.r-project.org/bin/linux/ubuntu bionic-cran40/ Packages [73.9 kB]\n",
            "Get:7 http://security.ubuntu.com/ubuntu bionic-security InRelease [88.7 kB]\n",
            "Hit:8 https://developer.download.nvidia.com/compute/machine-learning/repos/ubuntu1804/x86_64  Release\n",
            "Hit:10 http://archive.ubuntu.com/ubuntu bionic InRelease\n",
            "Get:12 http://archive.ubuntu.com/ubuntu bionic-updates InRelease [88.7 kB]\n",
            "Hit:13 http://ppa.launchpad.net/cran/libgit2/ubuntu bionic InRelease\n",
            "Get:14 http://ppa.launchpad.net/deadsnakes/ppa/ubuntu bionic InRelease [15.9 kB]\n",
            "Get:15 http://archive.ubuntu.com/ubuntu bionic-backports InRelease [74.6 kB]\n",
            "Get:16 http://security.ubuntu.com/ubuntu bionic-security/universe amd64 Packages [1,450 kB]\n",
            "Get:17 http://archive.ubuntu.com/ubuntu bionic-updates/main amd64 Packages [2,898 kB]\n",
            "Hit:18 http://ppa.launchpad.net/graphics-drivers/ppa/ubuntu bionic InRelease\n",
            "Get:19 http://ppa.launchpad.net/c2d4u.team/c2d4u4.0+/ubuntu bionic/main Sources [1,819 kB]\n",
            "Get:20 http://security.ubuntu.com/ubuntu bionic-security/main amd64 Packages [2,461 kB]\n",
            "Get:21 http://security.ubuntu.com/ubuntu bionic-security/restricted amd64 Packages [691 kB]\n",
            "Get:22 http://archive.ubuntu.com/ubuntu bionic-updates/universe amd64 Packages [2,228 kB]\n",
            "Get:23 http://ppa.launchpad.net/c2d4u.team/c2d4u4.0+/ubuntu bionic/main amd64 Packages [933 kB]\n",
            "Get:24 http://ppa.launchpad.net/deadsnakes/ppa/ubuntu bionic/main amd64 Packages [45.9 kB]\n",
            "Fetched 12.9 MB in 7s (1,801 kB/s)\n",
            "Reading package lists... Done\n",
            "Building dependency tree       \n",
            "Reading state information... Done\n",
            "60 packages can be upgraded. Run 'apt list --upgradable' to see them.\n",
            "Reading package lists... Done\n",
            "Building dependency tree       \n",
            "Reading state information... Done\n",
            "python-dev is already the newest version (2.7.15~rc1-1).\n",
            "gcc is already the newest version (4:7.4.0-1ubuntu2.3).\n",
            "gcc set to manually installed.\n",
            "The following additional packages will be installed:\n",
            "  comerr-dev krb5-multidev libgssrpc4 libkadm5clnt-mit11 libkadm5srv-mit11\n",
            "  libkdb5-9\n",
            "Suggested packages:\n",
            "  doc-base krb5-doc krb5-user\n",
            "The following NEW packages will be installed:\n",
            "  comerr-dev krb5-multidev libgssrpc4 libkadm5clnt-mit11 libkadm5srv-mit11\n",
            "  libkdb5-9 libkrb5-dev\n",
            "0 upgraded, 7 newly installed, 0 to remove and 60 not upgraded.\n",
            "Need to get 349 kB of archives.\n",
            "After this operation, 1,992 kB of additional disk space will be used.\n",
            "Get:1 http://archive.ubuntu.com/ubuntu bionic-updates/main amd64 libgssrpc4 amd64 1.16-2ubuntu0.2 [54.4 kB]\n",
            "Get:2 http://archive.ubuntu.com/ubuntu bionic-updates/main amd64 libkdb5-9 amd64 1.16-2ubuntu0.2 [37.3 kB]\n",
            "Get:3 http://archive.ubuntu.com/ubuntu bionic-updates/main amd64 libkadm5srv-mit11 amd64 1.16-2ubuntu0.2 [49.7 kB]\n",
            "Get:4 http://archive.ubuntu.com/ubuntu bionic-updates/main amd64 libkadm5clnt-mit11 amd64 1.16-2ubuntu0.2 [38.0 kB]\n",
            "Get:5 http://archive.ubuntu.com/ubuntu bionic-updates/main amd64 comerr-dev amd64 2.1-1.44.1-1ubuntu1.3 [38.5 kB]\n",
            "Get:6 http://archive.ubuntu.com/ubuntu bionic-updates/main amd64 krb5-multidev amd64 1.16-2ubuntu0.2 [120 kB]\n",
            "Get:7 http://archive.ubuntu.com/ubuntu bionic-updates/main amd64 libkrb5-dev amd64 1.16-2ubuntu0.2 [11.7 kB]\n",
            "Fetched 349 kB in 2s (197 kB/s)\n",
            "Selecting previously unselected package libgssrpc4:amd64.\n",
            "(Reading database ... 155798 files and directories currently installed.)\n",
            "Preparing to unpack .../0-libgssrpc4_1.16-2ubuntu0.2_amd64.deb ...\n",
            "Unpacking libgssrpc4:amd64 (1.16-2ubuntu0.2) ...\n",
            "Selecting previously unselected package libkdb5-9:amd64.\n",
            "Preparing to unpack .../1-libkdb5-9_1.16-2ubuntu0.2_amd64.deb ...\n",
            "Unpacking libkdb5-9:amd64 (1.16-2ubuntu0.2) ...\n",
            "Selecting previously unselected package libkadm5srv-mit11:amd64.\n",
            "Preparing to unpack .../2-libkadm5srv-mit11_1.16-2ubuntu0.2_amd64.deb ...\n",
            "Unpacking libkadm5srv-mit11:amd64 (1.16-2ubuntu0.2) ...\n",
            "Selecting previously unselected package libkadm5clnt-mit11:amd64.\n",
            "Preparing to unpack .../3-libkadm5clnt-mit11_1.16-2ubuntu0.2_amd64.deb ...\n",
            "Unpacking libkadm5clnt-mit11:amd64 (1.16-2ubuntu0.2) ...\n",
            "Selecting previously unselected package comerr-dev:amd64.\n",
            "Preparing to unpack .../4-comerr-dev_2.1-1.44.1-1ubuntu1.3_amd64.deb ...\n",
            "Unpacking comerr-dev:amd64 (2.1-1.44.1-1ubuntu1.3) ...\n",
            "Selecting previously unselected package krb5-multidev:amd64.\n",
            "Preparing to unpack .../5-krb5-multidev_1.16-2ubuntu0.2_amd64.deb ...\n",
            "Unpacking krb5-multidev:amd64 (1.16-2ubuntu0.2) ...\n",
            "Selecting previously unselected package libkrb5-dev:amd64.\n",
            "Preparing to unpack .../6-libkrb5-dev_1.16-2ubuntu0.2_amd64.deb ...\n",
            "Unpacking libkrb5-dev:amd64 (1.16-2ubuntu0.2) ...\n",
            "Setting up libgssrpc4:amd64 (1.16-2ubuntu0.2) ...\n",
            "Setting up comerr-dev:amd64 (2.1-1.44.1-1ubuntu1.3) ...\n",
            "Setting up libkdb5-9:amd64 (1.16-2ubuntu0.2) ...\n",
            "Setting up libkadm5srv-mit11:amd64 (1.16-2ubuntu0.2) ...\n",
            "Setting up libkadm5clnt-mit11:amd64 (1.16-2ubuntu0.2) ...\n",
            "Setting up krb5-multidev:amd64 (1.16-2ubuntu0.2) ...\n",
            "Setting up libkrb5-dev:amd64 (1.16-2ubuntu0.2) ...\n",
            "Processing triggers for man-db (2.8.3-2ubuntu0.1) ...\n",
            "Processing triggers for libc-bin (2.27-3ubuntu1.3) ...\n",
            "/sbin/ldconfig.real: /usr/local/lib/python3.7/dist-packages/ideep4py/lib/libmkldnn.so.0 is not a symbolic link\n",
            "\n"
          ]
        }
      ]
    },
    {
      "cell_type": "code",
      "metadata": {
        "colab": {
          "base_uri": "https://localhost:8080/",
          "height": 226
        },
        "id": "MuEtFAa6L-hk",
        "outputId": "5d452877-ddd4-4427-faef-0dd35e6a13c8"
      },
      "source": [
        "co2_df = pd.read_csv('/content/drive/MyDrive/CIS 545/545 Project/global_average_yearly_temp_with_features_clean.csv')\n",
        "co2_df.head(5)"
      ],
      "execution_count": 4,
      "outputs": [
        {
          "output_type": "execute_result",
          "data": {
            "text/html": [
              "<div>\n",
              "<style scoped>\n",
              "    .dataframe tbody tr th:only-of-type {\n",
              "        vertical-align: middle;\n",
              "    }\n",
              "\n",
              "    .dataframe tbody tr th {\n",
              "        vertical-align: top;\n",
              "    }\n",
              "\n",
              "    .dataframe thead th {\n",
              "        text-align: right;\n",
              "    }\n",
              "</style>\n",
              "<table border=\"1\" class=\"dataframe\">\n",
              "  <thead>\n",
              "    <tr style=\"text-align: right;\">\n",
              "      <th></th>\n",
              "      <th>iso_code</th>\n",
              "      <th>year</th>\n",
              "      <th>oil_co2_per_capita</th>\n",
              "      <th>oil_co2</th>\n",
              "      <th>share_global_oil_co2</th>\n",
              "      <th>cumulative_oil_co2</th>\n",
              "      <th>share_global_cumulative_oil_co2</th>\n",
              "      <th>co2_growth_abs</th>\n",
              "      <th>co2_per_capita</th>\n",
              "      <th>co2</th>\n",
              "      <th>share_global_co2</th>\n",
              "      <th>cumulative_co2</th>\n",
              "      <th>share_global_cumulative_co2</th>\n",
              "      <th>co2_growth_prct</th>\n",
              "      <th>population</th>\n",
              "      <th>AvgYearlyTemp</th>\n",
              "    </tr>\n",
              "  </thead>\n",
              "  <tbody>\n",
              "    <tr>\n",
              "      <th>0</th>\n",
              "      <td>FRA</td>\n",
              "      <td>1855</td>\n",
              "      <td>0.001</td>\n",
              "      <td>0.037</td>\n",
              "      <td>100.00</td>\n",
              "      <td>0.037</td>\n",
              "      <td>100.00</td>\n",
              "      <td>3.858</td>\n",
              "      <td>0.899</td>\n",
              "      <td>33.071</td>\n",
              "      <td>12.71</td>\n",
              "      <td>469.655</td>\n",
              "      <td>7.96</td>\n",
              "      <td>13.21</td>\n",
              "      <td>36768948.0</td>\n",
              "      <td>11.763583</td>\n",
              "    </tr>\n",
              "    <tr>\n",
              "      <th>1</th>\n",
              "      <td>FRA</td>\n",
              "      <td>1856</td>\n",
              "      <td>0.001</td>\n",
              "      <td>0.040</td>\n",
              "      <td>100.00</td>\n",
              "      <td>0.077</td>\n",
              "      <td>100.00</td>\n",
              "      <td>1.561</td>\n",
              "      <td>0.940</td>\n",
              "      <td>34.632</td>\n",
              "      <td>12.49</td>\n",
              "      <td>504.287</td>\n",
              "      <td>8.17</td>\n",
              "      <td>4.72</td>\n",
              "      <td>36853256.0</td>\n",
              "      <td>12.615917</td>\n",
              "    </tr>\n",
              "    <tr>\n",
              "      <th>2</th>\n",
              "      <td>FRA</td>\n",
              "      <td>1857</td>\n",
              "      <td>0.001</td>\n",
              "      <td>0.044</td>\n",
              "      <td>85.71</td>\n",
              "      <td>0.121</td>\n",
              "      <td>94.29</td>\n",
              "      <td>0.649</td>\n",
              "      <td>0.955</td>\n",
              "      <td>35.281</td>\n",
              "      <td>12.61</td>\n",
              "      <td>539.568</td>\n",
              "      <td>8.36</td>\n",
              "      <td>1.87</td>\n",
              "      <td>36937755.0</td>\n",
              "      <td>12.823250</td>\n",
              "    </tr>\n",
              "    <tr>\n",
              "      <th>3</th>\n",
              "      <td>FRA</td>\n",
              "      <td>1858</td>\n",
              "      <td>0.001</td>\n",
              "      <td>0.048</td>\n",
              "      <td>76.47</td>\n",
              "      <td>0.169</td>\n",
              "      <td>88.46</td>\n",
              "      <td>-0.685</td>\n",
              "      <td>0.934</td>\n",
              "      <td>34.595</td>\n",
              "      <td>12.17</td>\n",
              "      <td>574.163</td>\n",
              "      <td>8.52</td>\n",
              "      <td>-1.94</td>\n",
              "      <td>37022445.0</td>\n",
              "      <td>12.382083</td>\n",
              "    </tr>\n",
              "    <tr>\n",
              "      <th>4</th>\n",
              "      <td>FRA</td>\n",
              "      <td>1859</td>\n",
              "      <td>0.001</td>\n",
              "      <td>0.048</td>\n",
              "      <td>86.67</td>\n",
              "      <td>0.216</td>\n",
              "      <td>88.06</td>\n",
              "      <td>0.396</td>\n",
              "      <td>0.943</td>\n",
              "      <td>34.991</td>\n",
              "      <td>11.61</td>\n",
              "      <td>609.155</td>\n",
              "      <td>8.65</td>\n",
              "      <td>1.14</td>\n",
              "      <td>37110539.0</td>\n",
              "      <td>13.107500</td>\n",
              "    </tr>\n",
              "  </tbody>\n",
              "</table>\n",
              "</div>"
            ],
            "text/plain": [
              "  iso_code  year  ...  population  AvgYearlyTemp\n",
              "0      FRA  1855  ...  36768948.0      11.763583\n",
              "1      FRA  1856  ...  36853256.0      12.615917\n",
              "2      FRA  1857  ...  36937755.0      12.823250\n",
              "3      FRA  1858  ...  37022445.0      12.382083\n",
              "4      FRA  1859  ...  37110539.0      13.107500\n",
              "\n",
              "[5 rows x 16 columns]"
            ]
          },
          "metadata": {},
          "execution_count": 4
        }
      ]
    },
    {
      "cell_type": "code",
      "metadata": {
        "id": "ikcaV7X_oqMC"
      },
      "source": [
        "iso_codes = co2_df['iso_code']\n",
        "iso_codes_le = LabelEncoder()\n",
        "iso_codes_le.fit(iso_codes)\n",
        "co2_df['iso_code_labels'] = iso_codes_le.transform(co2_df['iso_code'])\n",
        "co2_le_df = co2_df[['iso_code_labels', 'year', 'oil_co2_per_capita', 'oil_co2',\n",
        "       'share_global_oil_co2', 'cumulative_oil_co2',\n",
        "       'share_global_cumulative_oil_co2', 'co2_growth_abs', 'co2_per_capita',\n",
        "       'co2', 'share_global_co2', 'cumulative_co2',\n",
        "       'share_global_cumulative_co2', 'co2_growth_prct', 'population',\n",
        "       'AvgYearlyTemp']]"
      ],
      "execution_count": 5,
      "outputs": []
    },
    {
      "cell_type": "code",
      "metadata": {
        "colab": {
          "base_uri": "https://localhost:8080/"
        },
        "id": "nygdKz7zpZ2z",
        "outputId": "cded00b8-24af-42ca-d392-03790c38a1ba"
      },
      "source": [
        "co2_le_df.dtypes"
      ],
      "execution_count": 6,
      "outputs": [
        {
          "output_type": "execute_result",
          "data": {
            "text/plain": [
              "iso_code_labels                      int64\n",
              "year                                 int64\n",
              "oil_co2_per_capita                 float64\n",
              "oil_co2                            float64\n",
              "share_global_oil_co2               float64\n",
              "cumulative_oil_co2                 float64\n",
              "share_global_cumulative_oil_co2    float64\n",
              "co2_growth_abs                     float64\n",
              "co2_per_capita                     float64\n",
              "co2                                float64\n",
              "share_global_co2                   float64\n",
              "cumulative_co2                     float64\n",
              "share_global_cumulative_co2        float64\n",
              "co2_growth_prct                    float64\n",
              "population                         float64\n",
              "AvgYearlyTemp                      float64\n",
              "dtype: object"
            ]
          },
          "metadata": {},
          "execution_count": 6
        }
      ]
    },
    {
      "cell_type": "code",
      "metadata": {
        "colab": {
          "base_uri": "https://localhost:8080/"
        },
        "id": "Z0FwXnAPNEqF",
        "outputId": "89f1a068-7a1a-4d9a-8e3b-54c44378788f"
      },
      "source": [
        "co2_maxes = [co2_le_df['iso_code_labels'].max(), co2_le_df['year'].max(),\n",
        "             co2_le_df['oil_co2_per_capita'].max(), co2_le_df['oil_co2'].max(), \n",
        "             co2_le_df['share_global_oil_co2'].max(), co2_le_df['cumulative_oil_co2'].max(),\n",
        "             co2_le_df['share_global_cumulative_oil_co2'].max(), co2_le_df['co2_growth_abs'].max(),\n",
        "             co2_le_df['co2_per_capita'].max(), co2_le_df['co2'].max(),\n",
        "             co2_le_df['share_global_co2'].max(), co2_le_df['cumulative_co2'].max(),\n",
        "             co2_le_df['co2_growth_prct'].max(),co2_le_df['population'].max(),\n",
        "             co2_le_df['AvgYearlyTemp'].max()]\n",
        "co2_mins = [co2_le_df['iso_code_labels'].min(), co2_le_df['year'].min(),\n",
        "            co2_le_df['oil_co2_per_capita'].min(), co2_le_df['oil_co2'].min(), \n",
        "            co2_le_df['share_global_oil_co2'].min(), co2_le_df['cumulative_oil_co2'].min(),\n",
        "            co2_le_df['share_global_cumulative_oil_co2'].min(), co2_le_df['co2_growth_abs'].min(),\n",
        "            co2_le_df['co2_per_capita'].min(), co2_le_df['co2'].min(),\n",
        "            co2_le_df['share_global_co2'].min(), co2_le_df['cumulative_co2'].min(),\n",
        "            co2_le_df['co2_growth_prct'].min(),co2_le_df['population'].min(),\n",
        "            co2_le_df['AvgYearlyTemp'].min()]\n",
        "co2_stds = [co2_le_df['iso_code_labels'].std(), co2_le_df['year'].std(),\n",
        "            co2_le_df['oil_co2_per_capita'].std(), co2_le_df['oil_co2'].std(), \n",
        "            co2_le_df['share_global_oil_co2'].std(), co2_le_df['cumulative_oil_co2'].std(),\n",
        "            co2_le_df['share_global_cumulative_oil_co2'].std(), co2_le_df['co2_growth_abs'].std(),\n",
        "            co2_le_df['co2_per_capita'].std(), co2_le_df['co2'].std(),\n",
        "            co2_le_df['share_global_co2'].std(), co2_le_df['cumulative_co2'].std(),\n",
        "            co2_le_df['co2_growth_prct'].std(),co2_le_df['population'].std(),\n",
        "            co2_le_df['AvgYearlyTemp'].std()]\n",
        "co2_means = [co2_le_df['iso_code_labels'].mean(), co2_le_df['year'].mean(),\n",
        "             co2_le_df['oil_co2_per_capita'].mean(), co2_le_df['oil_co2'].mean(), \n",
        "             co2_le_df['share_global_oil_co2'].mean(), co2_le_df['cumulative_oil_co2'].mean(),\n",
        "             co2_le_df['share_global_cumulative_oil_co2'].mean(), co2_le_df['co2_growth_abs'].mean(),\n",
        "             co2_le_df['co2_per_capita'].mean(), co2_le_df['co2'].mean(),\n",
        "             co2_le_df['share_global_co2'].mean(), co2_le_df['cumulative_co2'].mean(),\n",
        "             co2_le_df['co2_growth_prct'].mean(),co2_le_df['population'].mean(),\n",
        "             co2_le_df['AvgYearlyTemp'].mean()]\n",
        "print(co2_maxes)\n",
        "print(co2_mins)\n",
        "print(co2_stds)\n",
        "print(co2_means)"
      ],
      "execution_count": 7,
      "outputs": [
        {
          "output_type": "stream",
          "name": "stdout",
          "text": [
            "[169, 2013, 117.074, 1234.622, 100.0, 29636.441000000003, 100.0, 911.903, 117.074, 9952.744, 28.21, 164641.241, 20100.0, 1391883335.0, 30.74475]\n",
            "[0, 1855, 0.0, 0.0, 0.0, 0.0, 0.0, -484.209, 0.0, 0.001, 0.0, 0.005, -97.31, 1606.0, -20.446833333333327]\n",
            "[49.141037979806526, 36.31320850309408, 5.069324021416378, 65.53871129465425, 2.00414917301564, 1760.8809615665916, 2.048854425789231, 20.647831755660107, 7.501548129944552, 280.1851562747391, 1.6539905741050949, 6989.705089669289, 261.01291368905214, 97458627.968185, 9.51062917030768]\n",
            "[84.59564344658389, 1965.7389785146086, 2.031057988253668, 19.816517879711462, 0.4445424132035285, 492.1741074269563, 0.4054323098654781, 1.8169498178574193, 3.848366218125045, 57.6736932570069, 0.4725031596164261, 1752.669691844469, 16.451691324065184, 23887302.032042228, 17.041792875581358]\n"
          ]
        }
      ]
    },
    {
      "cell_type": "code",
      "metadata": {
        "colab": {
          "base_uri": "https://localhost:8080/"
        },
        "id": "XivPrTNsFPid",
        "outputId": "2edca0ab-911f-4107-be7b-b2fe45c2318b"
      },
      "source": [
        "print(co2_maxes[14])\n",
        "print(co2_mins[14])"
      ],
      "execution_count": 8,
      "outputs": [
        {
          "output_type": "stream",
          "name": "stdout",
          "text": [
            "30.74475\n",
            "-20.446833333333327\n"
          ]
        }
      ]
    },
    {
      "cell_type": "code",
      "metadata": {
        "colab": {
          "base_uri": "https://localhost:8080/",
          "height": 440
        },
        "id": "jMLcnd4MMrD3",
        "outputId": "0138e548-2083-453b-b050-8f5ebe915b2d"
      },
      "source": [
        "co2_corr = co2_df.corr()\n",
        "sns.heatmap(co2_corr)"
      ],
      "execution_count": 9,
      "outputs": [
        {
          "output_type": "execute_result",
          "data": {
            "text/plain": [
              "<matplotlib.axes._subplots.AxesSubplot at 0x7f44ba90c790>"
            ]
          },
          "metadata": {},
          "execution_count": 9
        },
        {
          "output_type": "display_data",
          "data": {
            "image/png": "[encoded data removed]",
            "text/plain": [
              "<Figure size 432x288 with 2 Axes>"
            ]
          },
          "metadata": {
            "needs_background": "light"
          }
        }
      ]
    },
    {
      "cell_type": "markdown",
      "metadata": {
        "id": "04CabRPxPSj4"
      },
      "source": [
        "*   High correlation between cumulative_co2 and {oil_o2, cumulative_oil_co2}\n",
        "*   High correlation between co2_per_capita and oil_co2_per_capita\n",
        "*   Correlation between population and co2\n",
        "*   Low correlation between AvgYearlyTemp and all features except year"
      ]
    },
    {
      "cell_type": "code",
      "metadata": {
        "id": "OhZXpfL5qiRt"
      },
      "source": [
        "combined_data_sec_2 = co2_le_df.copy()\n",
        "combined_data_sec_2.rename(columns = {'views_log':'label'}, inplace = True) \n",
        "combined_data_sec_2.to_csv('/content/co2_le.csv')"
      ],
      "execution_count": 10,
      "outputs": []
    },
    {
      "cell_type": "markdown",
      "metadata": {
        "id": "QND0qMl3mzAi"
      },
      "source": [
        "# Modelling"
      ]
    },
    {
      "cell_type": "code",
      "metadata": {
        "colab": {
          "base_uri": "https://localhost:8080/"
        },
        "id": "1VT9mcHBmyje",
        "outputId": "559e0757-fc56-4af5-b11d-a4cb83ffa84c"
      },
      "source": [
        "!apt install libkrb5-dev\n",
        "!wget https://downloads.apache.org/spark/spark-3.1.2/spark-3.1.2-bin-hadoop3.2.tgz\n",
        "!tar xf spark-3.1.2-bin-hadoop3.2.tgz\n",
        "!pip install findspark\n",
        "!pip install sparkmagic\n",
        "!pip install pyspark\n",
        "! pip install pyspark --user\n",
        "! pip install seaborn --user\n",
        "! pip install plotly --user\n",
        "! pip install imageio --user\n",
        "! pip install folium --user"
      ],
      "execution_count": 11,
      "outputs": [
        {
          "output_type": "stream",
          "name": "stdout",
          "text": [
            "Reading package lists... Done\n",
            "Building dependency tree       \n",
            "Reading state information... Done\n",
            "libkrb5-dev is already the newest version (1.16-2ubuntu0.2).\n",
            "0 upgraded, 0 newly installed, 0 to remove and 60 not upgraded.\n",
            "--2021-12-12 19:21:55--  https://downloads.apache.org/spark/spark-3.1.2/spark-3.1.2-bin-hadoop3.2.tgz\n",
            "Resolving downloads.apache.org (downloads.apache.org)... 135.181.214.104, 88.99.95.219, 2a01:4f9:3a:2c57::2, ...\n",
            "Connecting to downloads.apache.org (downloads.apache.org)|135.181.214.104|:443... connected.\n",
            "HTTP request sent, awaiting response... 200 OK\n",
            "Length: 228834641 (218M) [application/x-gzip]\n",
            "Saving to: ‘spark-3.1.2-bin-hadoop3.2.tgz’\n",
            "\n",
            "spark-3.1.2-bin-had 100%[===================>] 218.23M  10.5MB/s    in 23s     \n",
            "\n",
            "2021-12-12 19:22:19 (9.58 MB/s) - ‘spark-3.1.2-bin-hadoop3.2.tgz’ saved [228834641/228834641]\n",
            "\n",
            "Collecting findspark\n",
            "  Downloading findspark-1.4.2-py2.py3-none-any.whl (4.2 kB)\n",
            "Installing collected packages: findspark\n",
            "Successfully installed findspark-1.4.2\n",
            "Collecting sparkmagic\n",
            "  Downloading sparkmagic-0.19.1.tar.gz (43 kB)\n",
            "\u001b[K     |████████████████████████████████| 43 kB 1.2 MB/s \n",
            "\u001b[?25hCollecting hdijupyterutils>=0.6\n",
            "  Downloading hdijupyterutils-0.19.1.tar.gz (5.0 kB)\n",
            "Collecting autovizwidget>=0.6\n",
            "  Downloading autovizwidget-0.19.1.tar.gz (8.7 kB)\n",
            "Requirement already satisfied: ipython>=4.0.2 in /usr/local/lib/python3.7/dist-packages (from sparkmagic) (5.5.0)\n",
            "Collecting nose\n",
            "  Downloading nose-1.3.7-py3-none-any.whl (154 kB)\n",
            "\u001b[K     |████████████████████████████████| 154 kB 6.1 MB/s \n",
            "\u001b[?25hCollecting mock\n",
            "  Downloading mock-4.0.3-py3-none-any.whl (28 kB)\n",
            "Requirement already satisfied: pandas>=0.17.1 in /usr/local/lib/python3.7/dist-packages (from sparkmagic) (1.1.5)\n",
            "Requirement already satisfied: numpy in /usr/local/lib/python3.7/dist-packages (from sparkmagic) (1.19.5)\n",
            "Requirement already satisfied: requests in /usr/local/lib/python3.7/dist-packages (from sparkmagic) (2.23.0)\n",
            "Requirement already satisfied: ipykernel<6.0.0 in /usr/local/lib/python3.7/dist-packages (from sparkmagic) (4.10.1)\n",
            "Requirement already satisfied: ipywidgets>5.0.0 in /usr/local/lib/python3.7/dist-packages (from sparkmagic) (7.6.5)\n",
            "Requirement already satisfied: notebook>=4.2 in /usr/local/lib/python3.7/dist-packages (from sparkmagic) (5.3.1)\n",
            "Requirement already satisfied: tornado>=4 in /usr/local/lib/python3.7/dist-packages (from sparkmagic) (5.1.1)\n",
            "Collecting requests_kerberos>=0.8.0\n",
            "  Downloading requests_kerberos-0.14.0-py2.py3-none-any.whl (11 kB)\n",
            "Requirement already satisfied: plotly>=3 in /usr/local/lib/python3.7/dist-packages (from autovizwidget>=0.6->sparkmagic) (4.4.1)\n",
            "Requirement already satisfied: jupyter>=1 in /usr/local/lib/python3.7/dist-packages (from hdijupyterutils>=0.6->sparkmagic) (1.0.0)\n",
            "Requirement already satisfied: traitlets>=4.1.0 in /usr/local/lib/python3.7/dist-packages (from ipykernel<6.0.0->sparkmagic) (5.1.1)\n",
            "Requirement already satisfied: jupyter-client in /usr/local/lib/python3.7/dist-packages (from ipykernel<6.0.0->sparkmagic) (5.3.5)\n",
            "Requirement already satisfied: pygments in /usr/local/lib/python3.7/dist-packages (from ipython>=4.0.2->sparkmagic) (2.6.1)\n",
            "Requirement already satisfied: pexpect in /usr/local/lib/python3.7/dist-packages (from ipython>=4.0.2->sparkmagic) (4.8.0)\n",
            "Requirement already satisfied: setuptools>=18.5 in /usr/local/lib/python3.7/dist-packages (from ipython>=4.0.2->sparkmagic) (57.4.0)\n",
            "Requirement already satisfied: decorator in /usr/local/lib/python3.7/dist-packages (from ipython>=4.0.2->sparkmagic) (4.4.2)\n",
            "Requirement already satisfied: prompt-toolkit<2.0.0,>=1.0.4 in /usr/local/lib/python3.7/dist-packages (from ipython>=4.0.2->sparkmagic) (1.0.18)\n",
            "Requirement already satisfied: pickleshare in /usr/local/lib/python3.7/dist-packages (from ipython>=4.0.2->sparkmagic) (0.7.5)\n",
            "Requirement already satisfied: simplegeneric>0.8 in /usr/local/lib/python3.7/dist-packages (from ipython>=4.0.2->sparkmagic) (0.8.1)\n",
            "Requirement already satisfied: nbformat>=4.2.0 in /usr/local/lib/python3.7/dist-packages (from ipywidgets>5.0.0->sparkmagic) (5.1.3)\n",
            "Requirement already satisfied: jupyterlab-widgets>=1.0.0 in /usr/local/lib/python3.7/dist-packages (from ipywidgets>5.0.0->sparkmagic) (1.0.2)\n",
            "Requirement already satisfied: widgetsnbextension~=3.5.0 in /usr/local/lib/python3.7/dist-packages (from ipywidgets>5.0.0->sparkmagic) (3.5.2)\n",
            "Requirement already satisfied: ipython-genutils~=0.2.0 in /usr/local/lib/python3.7/dist-packages (from ipywidgets>5.0.0->sparkmagic) (0.2.0)\n",
            "Requirement already satisfied: qtconsole in /usr/local/lib/python3.7/dist-packages (from jupyter>=1->hdijupyterutils>=0.6->sparkmagic) (5.2.1)\n",
            "Requirement already satisfied: jupyter-console in /usr/local/lib/python3.7/dist-packages (from jupyter>=1->hdijupyterutils>=0.6->sparkmagic) (5.2.0)\n",
            "Requirement already satisfied: nbconvert in /usr/local/lib/python3.7/dist-packages (from jupyter>=1->hdijupyterutils>=0.6->sparkmagic) (5.6.1)\n",
            "Requirement already satisfied: jupyter-core in /usr/local/lib/python3.7/dist-packages (from nbformat>=4.2.0->ipywidgets>5.0.0->sparkmagic) (4.9.1)\n",
            "Requirement already satisfied: jsonschema!=2.5.0,>=2.4 in /usr/local/lib/python3.7/dist-packages (from nbformat>=4.2.0->ipywidgets>5.0.0->sparkmagic) (2.6.0)\n",
            "Requirement already satisfied: terminado>=0.8.1 in /usr/local/lib/python3.7/dist-packages (from notebook>=4.2->sparkmagic) (0.12.1)\n",
            "Requirement already satisfied: Send2Trash in /usr/local/lib/python3.7/dist-packages (from notebook>=4.2->sparkmagic) (1.8.0)\n",
            "Requirement already satisfied: jinja2 in /usr/local/lib/python3.7/dist-packages (from notebook>=4.2->sparkmagic) (2.11.3)\n",
            "Requirement already satisfied: pyzmq>=13 in /usr/local/lib/python3.7/dist-packages (from jupyter-client->ipykernel<6.0.0->sparkmagic) (22.3.0)\n",
            "Requirement already satisfied: python-dateutil>=2.1 in /usr/local/lib/python3.7/dist-packages (from jupyter-client->ipykernel<6.0.0->sparkmagic) (2.8.2)\n",
            "Requirement already satisfied: pytz>=2017.2 in /usr/local/lib/python3.7/dist-packages (from pandas>=0.17.1->sparkmagic) (2018.9)\n",
            "Requirement already satisfied: six in /usr/local/lib/python3.7/dist-packages (from plotly>=3->autovizwidget>=0.6->sparkmagic) (1.15.0)\n",
            "Requirement already satisfied: retrying>=1.3.3 in /usr/local/lib/python3.7/dist-packages (from plotly>=3->autovizwidget>=0.6->sparkmagic) (1.3.3)\n",
            "Requirement already satisfied: wcwidth in /usr/local/lib/python3.7/dist-packages (from prompt-toolkit<2.0.0,>=1.0.4->ipython>=4.0.2->sparkmagic) (0.2.5)\n",
            "Collecting pyspnego[kerberos]\n",
            "  Downloading pyspnego-0.3.1-py2.py3-none-any.whl (110 kB)\n",
            "\u001b[K     |████████████████████████████████| 110 kB 21.8 MB/s \n",
            "\u001b[?25hCollecting cryptography>=1.3\n",
            "  Downloading cryptography-36.0.0-cp36-abi3-manylinux_2_24_x86_64.whl (3.6 MB)\n",
            "\u001b[K     |████████████████████████████████| 3.6 MB 19.7 MB/s \n",
            "\u001b[?25hRequirement already satisfied: cffi>=1.12 in /usr/local/lib/python3.7/dist-packages (from cryptography>=1.3->requests_kerberos>=0.8.0->sparkmagic) (1.15.0)\n",
            "Requirement already satisfied: pycparser in /usr/local/lib/python3.7/dist-packages (from cffi>=1.12->cryptography>=1.3->requests_kerberos>=0.8.0->sparkmagic) (2.21)\n",
            "Requirement already satisfied: idna<3,>=2.5 in /usr/local/lib/python3.7/dist-packages (from requests->sparkmagic) (2.10)\n",
            "Requirement already satisfied: certifi>=2017.4.17 in /usr/local/lib/python3.7/dist-packages (from requests->sparkmagic) (2021.10.8)\n",
            "Requirement already satisfied: urllib3!=1.25.0,!=1.25.1,<1.26,>=1.21.1 in /usr/local/lib/python3.7/dist-packages (from requests->sparkmagic) (1.24.3)\n",
            "Requirement already satisfied: chardet<4,>=3.0.2 in /usr/local/lib/python3.7/dist-packages (from requests->sparkmagic) (3.0.4)\n",
            "Requirement already satisfied: ptyprocess in /usr/local/lib/python3.7/dist-packages (from terminado>=0.8.1->notebook>=4.2->sparkmagic) (0.7.0)\n",
            "Requirement already satisfied: MarkupSafe>=0.23 in /usr/local/lib/python3.7/dist-packages (from jinja2->notebook>=4.2->sparkmagic) (2.0.1)\n",
            "Requirement already satisfied: pandocfilters>=1.4.1 in /usr/local/lib/python3.7/dist-packages (from nbconvert->jupyter>=1->hdijupyterutils>=0.6->sparkmagic) (1.5.0)\n",
            "Requirement already satisfied: mistune<2,>=0.8.1 in /usr/local/lib/python3.7/dist-packages (from nbconvert->jupyter>=1->hdijupyterutils>=0.6->sparkmagic) (0.8.4)\n",
            "Requirement already satisfied: testpath in /usr/local/lib/python3.7/dist-packages (from nbconvert->jupyter>=1->hdijupyterutils>=0.6->sparkmagic) (0.5.0)\n",
            "Requirement already satisfied: defusedxml in /usr/local/lib/python3.7/dist-packages (from nbconvert->jupyter>=1->hdijupyterutils>=0.6->sparkmagic) (0.7.1)\n",
            "Requirement already satisfied: entrypoints>=0.2.2 in /usr/local/lib/python3.7/dist-packages (from nbconvert->jupyter>=1->hdijupyterutils>=0.6->sparkmagic) (0.3)\n",
            "Requirement already satisfied: bleach in /usr/local/lib/python3.7/dist-packages (from nbconvert->jupyter>=1->hdijupyterutils>=0.6->sparkmagic) (4.1.0)\n",
            "Requirement already satisfied: webencodings in /usr/local/lib/python3.7/dist-packages (from bleach->nbconvert->jupyter>=1->hdijupyterutils>=0.6->sparkmagic) (0.5.1)\n",
            "Requirement already satisfied: packaging in /usr/local/lib/python3.7/dist-packages (from bleach->nbconvert->jupyter>=1->hdijupyterutils>=0.6->sparkmagic) (21.3)\n",
            "Requirement already satisfied: pyparsing!=3.0.5,>=2.0.2 in /usr/local/lib/python3.7/dist-packages (from packaging->bleach->nbconvert->jupyter>=1->hdijupyterutils>=0.6->sparkmagic) (3.0.6)\n",
            "Collecting gssapi>=1.5.0\n",
            "  Downloading gssapi-1.7.2.tar.gz (1.2 MB)\n",
            "\u001b[K     |████████████████████████████████| 1.2 MB 23.6 MB/s \n",
            "\u001b[?25hCollecting krb5\n",
            "  Downloading krb5-0.2.0.tar.gz (1.1 MB)\n",
            "\u001b[K     |████████████████████████████████| 1.1 MB 68.8 MB/s \n",
            "\u001b[?25h  Installing build dependencies ... \u001b[?25l\u001b[?25hdone\n",
            "  Getting requirements to build wheel ... \u001b[?25l\u001b[?25hdone\n",
            "    Preparing wheel metadata ... \u001b[?25l\u001b[?25hdone\n",
            "Requirement already satisfied: qtpy in /usr/local/lib/python3.7/dist-packages (from qtconsole->jupyter>=1->hdijupyterutils>=0.6->sparkmagic) (1.11.2)\n",
            "Building wheels for collected packages: sparkmagic, autovizwidget, hdijupyterutils, gssapi, krb5\n",
            "  Building wheel for sparkmagic (setup.py) ... \u001b[?25l\u001b[?25hdone\n",
            "  Created wheel for sparkmagic: filename=sparkmagic-0.19.1-py3-none-any.whl size=64701 sha256=f7379880ba4630289ab71f1b02f611c562d18ff7e13aeb5dd2148ddc46fe4dc7\n",
            "  Stored in directory: /root/.cache/pip/wheels/77/00/d5/153197547803fa423ee3d0a7a1ff19f138cbcc385a5d11e0dd\n",
            "  Building wheel for autovizwidget (setup.py) ... \u001b[?25l\u001b[?25hdone\n",
            "  Created wheel for autovizwidget: filename=autovizwidget-0.19.1-py3-none-any.whl size=14544 sha256=fe242f3307c134113166bfeb68867b64e4325b6f48c61fee90efe784df84bea7\n",
            "  Stored in directory: /root/.cache/pip/wheels/09/76/d9/ff313b7bd4ff55b1ff8c299f31889f525dc5129556853e1330\n",
            "  Building wheel for hdijupyterutils (setup.py) ... \u001b[?25l\u001b[?25hdone\n",
            "  Created wheel for hdijupyterutils: filename=hdijupyterutils-0.19.1-py3-none-any.whl size=7675 sha256=118cea78bebd99a206859cff9d973bfee67f120f05aaa46f70f364f7a84c298a\n",
            "  Stored in directory: /root/.cache/pip/wheels/18/64/eb/292698b4780fb4eed0d7521f8e8acac011eda244f368b88aa0\n",
            "  Building wheel for gssapi (setup.py) ... \u001b[?25l\u001b[?25hdone\n",
            "  Created wheel for gssapi: filename=gssapi-1.7.2-cp37-cp37m-linux_x86_64.whl size=2742966 sha256=0452c67ac493a78c4ff7143ddc9a62853e3c56f48e22b949eb839235d7f10299\n",
            "  Stored in directory: /root/.cache/pip/wheels/7d/4a/6e/8842dfec4065ade6e79c0bd2c27217fec1d7f14d0b32452a8f\n",
            "  Building wheel for krb5 (PEP 517) ... \u001b[?25l\u001b[?25hdone\n",
            "  Created wheel for krb5: filename=krb5-0.2.0-cp37-cp37m-linux_x86_64.whl size=1707997 sha256=50f1d3f923af38ab691d276984a8989a6c13f20b62e4baf22ecb1a16ab1c018f\n",
            "  Stored in directory: /root/.cache/pip/wheels/09/f9/57/67fd688ebb69ae46210f945dbe258cc694c7697e698267d461\n",
            "Successfully built sparkmagic autovizwidget hdijupyterutils gssapi krb5\n",
            "Installing collected packages: cryptography, pyspnego, nose, mock, krb5, gssapi, hdijupyterutils, requests-kerberos, autovizwidget, sparkmagic\n",
            "Successfully installed autovizwidget-0.19.1 cryptography-36.0.0 gssapi-1.7.2 hdijupyterutils-0.19.1 krb5-0.2.0 mock-4.0.3 nose-1.3.7 pyspnego-0.3.1 requests-kerberos-0.14.0 sparkmagic-0.19.1\n",
            "Collecting pyspark\n",
            "  Downloading pyspark-3.2.0.tar.gz (281.3 MB)\n",
            "\u001b[K     |████████████████████████████████| 281.3 MB 40 kB/s \n",
            "\u001b[?25hCollecting py4j==0.10.9.2\n",
            "  Downloading py4j-0.10.9.2-py2.py3-none-any.whl (198 kB)\n",
            "\u001b[K     |████████████████████████████████| 198 kB 46.2 MB/s \n",
            "\u001b[?25hBuilding wheels for collected packages: pyspark\n",
            "  Building wheel for pyspark (setup.py) ... \u001b[?25l\u001b[?25hdone\n",
            "  Created wheel for pyspark: filename=pyspark-3.2.0-py2.py3-none-any.whl size=281805912 sha256=933303cd02f3e4c53a7d224d3ab8cffa0948e7dd8f60632747613f869e36bde5\n",
            "  Stored in directory: /root/.cache/pip/wheels/0b/de/d2/9be5d59d7331c6c2a7c1b6d1a4f463ce107332b1ecd4e80718\n",
            "Successfully built pyspark\n",
            "Installing collected packages: py4j, pyspark\n",
            "Successfully installed py4j-0.10.9.2 pyspark-3.2.0\n",
            "Requirement already satisfied: pyspark in /usr/local/lib/python3.7/dist-packages (3.2.0)\n",
            "Requirement already satisfied: py4j==0.10.9.2 in /usr/local/lib/python3.7/dist-packages (from pyspark) (0.10.9.2)\n",
            "Requirement already satisfied: seaborn in /usr/local/lib/python3.7/dist-packages (0.11.2)\n",
            "Requirement already satisfied: scipy>=1.0 in /usr/local/lib/python3.7/dist-packages (from seaborn) (1.4.1)\n",
            "Requirement already satisfied: numpy>=1.15 in /usr/local/lib/python3.7/dist-packages (from seaborn) (1.19.5)\n",
            "Requirement already satisfied: pandas>=0.23 in /usr/local/lib/python3.7/dist-packages (from seaborn) (1.1.5)\n",
            "Requirement already satisfied: matplotlib>=2.2 in /usr/local/lib/python3.7/dist-packages (from seaborn) (3.2.2)\n",
            "Requirement already satisfied: kiwisolver>=1.0.1 in /usr/local/lib/python3.7/dist-packages (from matplotlib>=2.2->seaborn) (1.3.2)\n",
            "Requirement already satisfied: python-dateutil>=2.1 in /usr/local/lib/python3.7/dist-packages (from matplotlib>=2.2->seaborn) (2.8.2)\n",
            "Requirement already satisfied: pyparsing!=2.0.4,!=2.1.2,!=2.1.6,>=2.0.1 in /usr/local/lib/python3.7/dist-packages (from matplotlib>=2.2->seaborn) (3.0.6)\n",
            "Requirement already satisfied: cycler>=0.10 in /usr/local/lib/python3.7/dist-packages (from matplotlib>=2.2->seaborn) (0.11.0)\n",
            "Requirement already satisfied: pytz>=2017.2 in /usr/local/lib/python3.7/dist-packages (from pandas>=0.23->seaborn) (2018.9)\n",
            "Requirement already satisfied: six>=1.5 in /usr/local/lib/python3.7/dist-packages (from python-dateutil>=2.1->matplotlib>=2.2->seaborn) (1.15.0)\n",
            "Requirement already satisfied: plotly in /usr/local/lib/python3.7/dist-packages (4.4.1)\n",
            "Requirement already satisfied: six in /usr/local/lib/python3.7/dist-packages (from plotly) (1.15.0)\n",
            "Requirement already satisfied: retrying>=1.3.3 in /usr/local/lib/python3.7/dist-packages (from plotly) (1.3.3)\n",
            "Requirement already satisfied: imageio in /usr/local/lib/python3.7/dist-packages (2.4.1)\n",
            "Requirement already satisfied: numpy in /usr/local/lib/python3.7/dist-packages (from imageio) (1.19.5)\n",
            "Requirement already satisfied: pillow in /usr/local/lib/python3.7/dist-packages (from imageio) (7.1.2)\n",
            "Requirement already satisfied: folium in /usr/local/lib/python3.7/dist-packages (0.8.3)\n",
            "Requirement already satisfied: requests in /usr/local/lib/python3.7/dist-packages (from folium) (2.23.0)\n",
            "Requirement already satisfied: six in /usr/local/lib/python3.7/dist-packages (from folium) (1.15.0)\n",
            "Requirement already satisfied: jinja2 in /usr/local/lib/python3.7/dist-packages (from folium) (2.11.3)\n",
            "Requirement already satisfied: numpy in /usr/local/lib/python3.7/dist-packages (from folium) (1.19.5)\n",
            "Requirement already satisfied: branca>=0.3.0 in /usr/local/lib/python3.7/dist-packages (from folium) (0.4.2)\n",
            "Requirement already satisfied: MarkupSafe>=0.23 in /usr/local/lib/python3.7/dist-packages (from jinja2->folium) (2.0.1)\n",
            "Requirement already satisfied: urllib3!=1.25.0,!=1.25.1,<1.26,>=1.21.1 in /usr/local/lib/python3.7/dist-packages (from requests->folium) (1.24.3)\n",
            "Requirement already satisfied: idna<3,>=2.5 in /usr/local/lib/python3.7/dist-packages (from requests->folium) (2.10)\n",
            "Requirement already satisfied: chardet<4,>=3.0.2 in /usr/local/lib/python3.7/dist-packages (from requests->folium) (3.0.4)\n",
            "Requirement already satisfied: certifi>=2017.4.17 in /usr/local/lib/python3.7/dist-packages (from requests->folium) (2021.10.8)\n"
          ]
        }
      ]
    },
    {
      "cell_type": "code",
      "metadata": {
        "id": "qwV-fV24mwVl"
      },
      "source": [
        "from pyspark.sql import SparkSession\n",
        "from pyspark.sql.types import *\n",
        "import pyspark.sql.functions as F\n",
        "\n",
        "import os\n",
        "\n",
        "spark = SparkSession.builder.appName('ml-hw4').getOrCreate()"
      ],
      "execution_count": 12,
      "outputs": []
    },
    {
      "cell_type": "code",
      "metadata": {
        "id": "vbWSlygfmtrg"
      },
      "source": [
        "%load_ext sparkmagic.magics"
      ],
      "execution_count": 13,
      "outputs": []
    },
    {
      "cell_type": "code",
      "metadata": {
        "id": "hB3VKRCTmsGe"
      },
      "source": [
        "#graph section\n",
        "import networkx as nx\n",
        "# SQLite RDBMS\n",
        "import sqlite3\n",
        "# Parallel processing\n",
        "# import swifter\n",
        "import pandas as pd\n",
        "# NoSQL DB\n",
        "from pymongo import MongoClient\n",
        "from pymongo.errors import DuplicateKeyError, OperationFailure\n",
        "\n",
        "import os\n",
        "os.environ['SPARK_HOME'] = '/content/spark-3.1.2-bin-hadoop3.2'\n",
        "os.environ[\"JAVA_HOME\"] = \"/usr/lib/jvm/java-8-openjdk-amd64\"\n",
        "import pyspark\n",
        "from pyspark.sql import SQLContext"
      ],
      "execution_count": 14,
      "outputs": []
    },
    {
      "cell_type": "code",
      "metadata": {
        "id": "aUYTUadsmqYl"
      },
      "source": [
        "try:\n",
        "    if(spark == None):\n",
        "        spark = SparkSession.builder.appName('Initial').getOrCreate()\n",
        "        sqlContext=SQLContext(spark)\n",
        "except NameError:\n",
        "    spark = SparkSession.builder.appName('Initial').getOrCreate()\n",
        "    sqlContext=SQLContext(spark)"
      ],
      "execution_count": 15,
      "outputs": []
    },
    {
      "cell_type": "code",
      "metadata": {
        "colab": {
          "base_uri": "https://localhost:8080/"
        },
        "id": "oGo2eA9RmmiO",
        "outputId": "e3d50c2d-8cc0-42bf-d27f-f7e24329a8c4"
      },
      "source": [
        "train_sdf = spark.read.csv(\"/content/co2_le.csv\", header=True, inferSchema=True)\n",
        "train_sdf.show()"
      ],
      "execution_count": 16,
      "outputs": [
        {
          "output_type": "stream",
          "name": "stdout",
          "text": [
            "+---+---------------+----+------------------+--------------------+--------------------+--------------------+-------------------------------+--------------------+--------------------+--------------------+----------------+--------------------+---------------------------+---------------+-----------+------------------+\n",
            "|_c0|iso_code_labels|year|oil_co2_per_capita|             oil_co2|share_global_oil_co2|  cumulative_oil_co2|share_global_cumulative_oil_co2|      co2_growth_abs|      co2_per_capita|                 co2|share_global_co2|      cumulative_co2|share_global_cumulative_co2|co2_growth_prct| population|     AvgYearlyTemp|\n",
            "+---+---------------+----+------------------+--------------------+--------------------+--------------------+-------------------------------+--------------------+--------------------+--------------------+----------------+--------------------+---------------------------+---------------+-----------+------------------+\n",
            "|  0|             53|1855|             0.001|0.037000000000000005|               100.0|0.037000000000000005|                          100.0|               3.858|               0.899|              33.071|           12.71|             469.655|                       7.96|          13.21|3.6768948E7|11.763583333333335|\n",
            "|  1|             53|1856|             0.001|                0.04|               100.0|               0.077|                          100.0|               1.561|                0.94|              34.632|           12.49|             504.287|                       8.17|           4.72|3.6853256E7|12.615916666666665|\n",
            "|  2|             53|1857|             0.001|0.044000000000000004|               85.71|               0.121|                          94.29|               0.649|               0.955|              35.281|           12.61|             539.568|                       8.36|           1.87|3.6937755E7|12.823250000000002|\n",
            "|  3|             53|1858|             0.001|               0.048|               76.47| 0.16899999999999998|                          88.46|              -0.685|               0.934|              34.595|           12.17|             574.163|                       8.52|          -1.94|3.7022445E7|12.382083333333336|\n",
            "|  4|             53|1859|             0.001|               0.048|               86.67| 0.21600000000000003|                          88.06|               0.396|               0.943|              34.991|           11.61|             609.155|                       8.65|           1.14|3.7110539E7|           13.1075|\n",
            "|  5|            136|1859|               0.0|               0.004|                6.67|0.006999999999999999|                           2.99|                 0.0|                 0.0|               0.004|             0.0|0.006999999999999999|                        0.0|            0.0|  8499134.0| 9.252083333333333|\n",
            "|  6|              8|1860|               0.0|                 0.0|                0.05|                 0.0|                           0.03|                 0.0|               0.003|               0.002|             0.0|               0.005|                        0.0|          32.14|   594311.0| 8.464083333333333|\n",
            "|  7|             11|1860|             0.004|               0.005|                1.79|               0.005|                           0.94|               0.002|0.006999999999999999|0.009000000000000001|             0.0|0.028999999999999998|                        0.0|          32.15|  1268561.0|           11.0185|\n",
            "|  8|             20|1860|             0.001|               0.003|                0.92|               0.003|                           0.49|               0.005|               0.006|               0.019|            0.01|               0.061|                        0.0|          32.14|  3396680.0| 5.694416666666667|\n",
            "|  9|             49|1860|               0.0|                 0.0|                0.02|                 0.0|                           0.01|               0.002|0.013000000000000001|0.006999999999999999|             0.0|0.022000000000000002|                        0.0|          32.14|   540368.0| 4.418916666666667|\n",
            "| 10|             53|1860|             0.001|               0.048|                17.4|               0.264|                          50.82|                3.14|               1.025|              38.131|           11.53|             647.286|                       8.78|           8.97|3.7202052E7|11.752250000000002|\n",
            "| 11|             56|1860|               0.0|                 0.0|                 0.1|                 0.0|                           0.05|               0.001|               0.002|               0.003|             0.0|0.009000000000000001|                        0.0|           32.1|  1544908.0| 8.018333333333333|\n",
            "| 12|             83|1860|               0.0|                 0.0|                0.12|                 0.0|                           0.06|0.011000000000000001|               0.015|               0.045|            0.01|               0.146|                        0.0|          32.14|  2934178.0| 3.708083333333336|\n",
            "| 13|             85|1860|               0.0|                 0.0|                0.03|                 0.0|                           0.01|               0.001|               0.005|               0.004|             0.0|0.013000000000000001|                        0.0|          32.15|   763476.0|2.0403333333333333|\n",
            "| 14|             96|1860|             0.001|               0.001|                0.32|               0.001|                           0.17|               0.002|               0.005|0.006999999999999999|             0.0|               0.023|                        0.0|          32.13|  1401276.0| 5.662000000000001|\n",
            "| 15|             98|1860|               0.0|                 0.0|                0.16|                 0.0|                           0.08|               0.001|               0.004|               0.005|             0.0|               0.015|                        0.0|          32.14|  1130272.0| 5.015833333333334|\n",
            "| 16|            136|1860|               0.0|               0.004|                1.34|0.011000000000000001|                           2.12|                 0.0|                 0.0|               0.004|             0.0|0.011000000000000001|                        0.0|            0.0|  8556435.0| 8.930750000000002|\n",
            "| 17|            155|1860|               0.0|                 0.0|                0.05|                 0.0|                           0.03|               0.001|               0.003|               0.002|             0.0|               0.008|                        0.0|          32.11|   671264.0| 3.093166666666668|\n",
            "| 18|            156|1860|             0.002|               0.001|                0.35|               0.001|                           0.19|               0.001|0.011000000000000001|               0.006|             0.0|               0.019|                        0.0|          32.15|   528786.0|14.109666666666666|\n",
            "| 19|            162|1860|               0.0|               0.001|                0.48|               0.001|                           0.25|               0.032|               0.008|               0.131|            0.04| 0.42700000000000005|                       0.01|          32.14|1.6189352E7| 7.730083333333333|\n",
            "+---+---------------+----+------------------+--------------------+--------------------+--------------------+-------------------------------+--------------------+--------------------+--------------------+----------------+--------------------+---------------------------+---------------+-----------+------------------+\n",
            "only showing top 20 rows\n",
            "\n"
          ]
        }
      ]
    },
    {
      "cell_type": "code",
      "metadata": {
        "id": "Kyjb01yXmkO1"
      },
      "source": [
        "from pyspark.ml.feature import StringIndexer, VectorAssembler"
      ],
      "execution_count": 17,
      "outputs": []
    },
    {
      "cell_type": "code",
      "metadata": {
        "colab": {
          "base_uri": "https://localhost:8080/"
        },
        "id": "cEsiLxcfmgxY",
        "outputId": "6da9d835-204d-417d-bf46-422dcbbfea60"
      },
      "source": [
        "train_sdf.columns"
      ],
      "execution_count": 18,
      "outputs": [
        {
          "output_type": "execute_result",
          "data": {
            "text/plain": [
              "['_c0',\n",
              " 'iso_code_labels',\n",
              " 'year',\n",
              " 'oil_co2_per_capita',\n",
              " 'oil_co2',\n",
              " 'share_global_oil_co2',\n",
              " 'cumulative_oil_co2',\n",
              " 'share_global_cumulative_oil_co2',\n",
              " 'co2_growth_abs',\n",
              " 'co2_per_capita',\n",
              " 'co2',\n",
              " 'share_global_co2',\n",
              " 'cumulative_co2',\n",
              " 'share_global_cumulative_co2',\n",
              " 'co2_growth_prct',\n",
              " 'population',\n",
              " 'AvgYearlyTemp']"
            ]
          },
          "metadata": {},
          "execution_count": 18
        }
      ]
    },
    {
      "cell_type": "markdown",
      "metadata": {
        "id": "kcHw4Kbk-jWH"
      },
      "source": [
        "# Random Splitting Models"
      ]
    },
    {
      "cell_type": "markdown",
      "metadata": {
        "id": "a56faX5Iw1oD"
      },
      "source": [
        "## Choosing all columns as features"
      ]
    },
    {
      "cell_type": "code",
      "metadata": {
        "id": "gyfyRg1CrYxV"
      },
      "source": [
        "columns_to_use = ['iso_code_labels','year','oil_co2_per_capita','oil_co2','share_global_oil_co2',\n",
        "                  'cumulative_oil_co2','share_global_cumulative_oil_co2','co2_growth_abs',\n",
        "                  'co2_per_capita','co2','share_global_co2','cumulative_co2',\n",
        "                  'share_global_cumulative_co2','co2_growth_prct','population']"
      ],
      "execution_count": 19,
      "outputs": []
    },
    {
      "cell_type": "code",
      "metadata": {
        "id": "qNUTEbNvlJPJ"
      },
      "source": [
        "assembler = VectorAssembler(inputCols=columns_to_use, outputCol=\"features\")"
      ],
      "execution_count": 20,
      "outputs": []
    },
    {
      "cell_type": "code",
      "metadata": {
        "colab": {
          "base_uri": "https://localhost:8080/"
        },
        "id": "Zd981bzfl6M9",
        "outputId": "5553d0cc-83c6-4b11-fe92-9378bdcd5336"
      },
      "source": [
        "from pyspark.ml import Pipeline\n",
        "\n",
        "modified_data_sdf = assembler.transform(train_sdf)\n",
        "modified_data_sdf.show()"
      ],
      "execution_count": 21,
      "outputs": [
        {
          "output_type": "stream",
          "name": "stdout",
          "text": [
            "+---+---------------+----+------------------+--------------------+--------------------+--------------------+-------------------------------+--------------------+--------------------+--------------------+----------------+--------------------+---------------------------+---------------+-----------+------------------+--------------------+\n",
            "|_c0|iso_code_labels|year|oil_co2_per_capita|             oil_co2|share_global_oil_co2|  cumulative_oil_co2|share_global_cumulative_oil_co2|      co2_growth_abs|      co2_per_capita|                 co2|share_global_co2|      cumulative_co2|share_global_cumulative_co2|co2_growth_prct| population|     AvgYearlyTemp|            features|\n",
            "+---+---------------+----+------------------+--------------------+--------------------+--------------------+-------------------------------+--------------------+--------------------+--------------------+----------------+--------------------+---------------------------+---------------+-----------+------------------+--------------------+\n",
            "|  0|             53|1855|             0.001|0.037000000000000005|               100.0|0.037000000000000005|                          100.0|               3.858|               0.899|              33.071|           12.71|             469.655|                       7.96|          13.21|3.6768948E7|11.763583333333335|[53.0,1855.0,0.00...|\n",
            "|  1|             53|1856|             0.001|                0.04|               100.0|               0.077|                          100.0|               1.561|                0.94|              34.632|           12.49|             504.287|                       8.17|           4.72|3.6853256E7|12.615916666666665|[53.0,1856.0,0.00...|\n",
            "|  2|             53|1857|             0.001|0.044000000000000004|               85.71|               0.121|                          94.29|               0.649|               0.955|              35.281|           12.61|             539.568|                       8.36|           1.87|3.6937755E7|12.823250000000002|[53.0,1857.0,0.00...|\n",
            "|  3|             53|1858|             0.001|               0.048|               76.47| 0.16899999999999998|                          88.46|              -0.685|               0.934|              34.595|           12.17|             574.163|                       8.52|          -1.94|3.7022445E7|12.382083333333336|[53.0,1858.0,0.00...|\n",
            "|  4|             53|1859|             0.001|               0.048|               86.67| 0.21600000000000003|                          88.06|               0.396|               0.943|              34.991|           11.61|             609.155|                       8.65|           1.14|3.7110539E7|           13.1075|[53.0,1859.0,0.00...|\n",
            "|  5|            136|1859|               0.0|               0.004|                6.67|0.006999999999999999|                           2.99|                 0.0|                 0.0|               0.004|             0.0|0.006999999999999999|                        0.0|            0.0|  8499134.0| 9.252083333333333|[136.0,1859.0,0.0...|\n",
            "|  6|              8|1860|               0.0|                 0.0|                0.05|                 0.0|                           0.03|                 0.0|               0.003|               0.002|             0.0|               0.005|                        0.0|          32.14|   594311.0| 8.464083333333333|[8.0,1860.0,0.0,0...|\n",
            "|  7|             11|1860|             0.004|               0.005|                1.79|               0.005|                           0.94|               0.002|0.006999999999999999|0.009000000000000001|             0.0|0.028999999999999998|                        0.0|          32.15|  1268561.0|           11.0185|[11.0,1860.0,0.00...|\n",
            "|  8|             20|1860|             0.001|               0.003|                0.92|               0.003|                           0.49|               0.005|               0.006|               0.019|            0.01|               0.061|                        0.0|          32.14|  3396680.0| 5.694416666666667|[20.0,1860.0,0.00...|\n",
            "|  9|             49|1860|               0.0|                 0.0|                0.02|                 0.0|                           0.01|               0.002|0.013000000000000001|0.006999999999999999|             0.0|0.022000000000000002|                        0.0|          32.14|   540368.0| 4.418916666666667|[49.0,1860.0,0.0,...|\n",
            "| 10|             53|1860|             0.001|               0.048|                17.4|               0.264|                          50.82|                3.14|               1.025|              38.131|           11.53|             647.286|                       8.78|           8.97|3.7202052E7|11.752250000000002|[53.0,1860.0,0.00...|\n",
            "| 11|             56|1860|               0.0|                 0.0|                 0.1|                 0.0|                           0.05|               0.001|               0.002|               0.003|             0.0|0.009000000000000001|                        0.0|           32.1|  1544908.0| 8.018333333333333|[56.0,1860.0,0.0,...|\n",
            "| 12|             83|1860|               0.0|                 0.0|                0.12|                 0.0|                           0.06|0.011000000000000001|               0.015|               0.045|            0.01|               0.146|                        0.0|          32.14|  2934178.0| 3.708083333333336|[83.0,1860.0,0.0,...|\n",
            "| 13|             85|1860|               0.0|                 0.0|                0.03|                 0.0|                           0.01|               0.001|               0.005|               0.004|             0.0|0.013000000000000001|                        0.0|          32.15|   763476.0|2.0403333333333333|[85.0,1860.0,0.0,...|\n",
            "| 14|             96|1860|             0.001|               0.001|                0.32|               0.001|                           0.17|               0.002|               0.005|0.006999999999999999|             0.0|               0.023|                        0.0|          32.13|  1401276.0| 5.662000000000001|[96.0,1860.0,0.00...|\n",
            "| 15|             98|1860|               0.0|                 0.0|                0.16|                 0.0|                           0.08|               0.001|               0.004|               0.005|             0.0|               0.015|                        0.0|          32.14|  1130272.0| 5.015833333333334|[98.0,1860.0,0.0,...|\n",
            "| 16|            136|1860|               0.0|               0.004|                1.34|0.011000000000000001|                           2.12|                 0.0|                 0.0|               0.004|             0.0|0.011000000000000001|                        0.0|            0.0|  8556435.0| 8.930750000000002|[136.0,1860.0,0.0...|\n",
            "| 17|            155|1860|               0.0|                 0.0|                0.05|                 0.0|                           0.03|               0.001|               0.003|               0.002|             0.0|               0.008|                        0.0|          32.11|   671264.0| 3.093166666666668|[155.0,1860.0,0.0...|\n",
            "| 18|            156|1860|             0.002|               0.001|                0.35|               0.001|                           0.19|               0.001|0.011000000000000001|               0.006|             0.0|               0.019|                        0.0|          32.15|   528786.0|14.109666666666666|[156.0,1860.0,0.0...|\n",
            "| 19|            162|1860|               0.0|               0.001|                0.48|               0.001|                           0.25|               0.032|               0.008|               0.131|            0.04| 0.42700000000000005|                       0.01|          32.14|1.6189352E7| 7.730083333333333|[162.0,1860.0,0.0...|\n",
            "+---+---------------+----+------------------+--------------------+--------------------+--------------------+-------------------------------+--------------------+--------------------+--------------------+----------------+--------------------+---------------------------+---------------+-----------+------------------+--------------------+\n",
            "only showing top 20 rows\n",
            "\n"
          ]
        }
      ]
    },
    {
      "cell_type": "code",
      "metadata": {
        "id": "Rah7TKlHl96k"
      },
      "source": [
        "train_sdf, test_sdf = modified_data_sdf.randomSplit([0.8, 0.2], seed=24)"
      ],
      "execution_count": 22,
      "outputs": []
    },
    {
      "cell_type": "markdown",
      "metadata": {
        "id": "Fa0ObDMHMQKV"
      },
      "source": [
        "### Linear Regression"
      ]
    },
    {
      "cell_type": "code",
      "metadata": {
        "id": "gtgYC9kJmAR2"
      },
      "source": [
        "from pyspark.ml.regression import LinearRegression\n",
        "\n",
        "# TODO define model\n",
        "lr = LinearRegression(featuresCol='features',labelCol='AvgYearlyTemp',maxIter=5, regParam=0.3, elasticNetParam = 0.8)\n",
        "\n",
        "\n",
        "# fit on training data\n",
        "clfModel = lr.fit(train_sdf)"
      ],
      "execution_count": 23,
      "outputs": []
    },
    {
      "cell_type": "code",
      "metadata": {
        "colab": {
          "base_uri": "https://localhost:8080/"
        },
        "id": "a8gQ7UURmDvg",
        "outputId": "7f3d9687-b819-46ca-8438-881341c1e914"
      },
      "source": [
        "from pyspark.ml.evaluation import RegressionEvaluator\n",
        "\n",
        "# prediction and evaluation\n",
        "prediction = clfModel.transform(train_sdf)\n",
        "evaluator = RegressionEvaluator()\n",
        "evaluator.setPredictionCol('prediction')\n",
        "evaluator.setLabelCol('AvgYearlyTemp')"
      ],
      "execution_count": 24,
      "outputs": [
        {
          "output_type": "execute_result",
          "data": {
            "text/plain": [
              "RegressionEvaluator_a795fda9f9a4"
            ]
          },
          "metadata": {},
          "execution_count": 24
        }
      ]
    },
    {
      "cell_type": "code",
      "metadata": {
        "colab": {
          "base_uri": "https://localhost:8080/"
        },
        "id": "updbV4jkKmek",
        "outputId": "e9fc7c78-0fac-4c58-ff1b-c9543c071037"
      },
      "source": [
        "training_accuracy = evaluator.evaluate(prediction, {evaluator.metricName: \"r2\"})\n",
        "test_prediction = clfModel.transform(test_sdf)\n",
        "test_accuracy = evaluator.evaluate(test_prediction, {evaluator.metricName: \"r2\"})\n",
        "\n",
        "print(\"training accuracy:\",training_accuracy)\n",
        "print(\"test accuracy:\",test_accuracy)"
      ],
      "execution_count": 26,
      "outputs": [
        {
          "output_type": "stream",
          "name": "stdout",
          "text": [
            "training accuracy: 0.2174208150599808\n",
            "test accuracy: 0.2294293862152943\n"
          ]
        }
      ]
    },
    {
      "cell_type": "code",
      "source": [
        "lr_df = test_prediction.toPandas()\n",
        "plt.plot(lr_df['year'], lr_df['AvgYearlyTemp'], label = 'Actual Temperature')\n",
        "plt.plot(lr_df['year'], lr_df['prediction'], label=\"Temperature Prediction\")\n",
        "plt.xlabel('Year')\n",
        "plt.ylabel('Temperature')\n",
        "plt.legend(loc='lower left')\n",
        "plt.show()"
      ],
      "metadata": {
        "colab": {
          "base_uri": "https://localhost:8080/",
          "height": 279
        },
        "id": "b9KH5UiC1mSm",
        "outputId": "4bf6a4d5-8512-4176-a740-6f4e29e7f967"
      },
      "execution_count": 28,
      "outputs": [
        {
          "output_type": "display_data",
          "data": {
            "image/png": "[encoded data removed]",
            "text/plain": [
              "<Figure size 432x288 with 1 Axes>"
            ]
          },
          "metadata": {
            "needs_background": "light"
          }
        }
      ]
    },
    {
      "cell_type": "code",
      "metadata": {
        "id": "K5e2Ug2VmMOl"
      },
      "source": [
        "# LASSO L1\n",
        "lasso = LinearRegression(featuresCol='features',labelCol='AvgYearlyTemp',maxIter=10, regParam=0.3, elasticNetParam = 1)\n",
        "lassoModel = lasso.fit(train_sdf)\n",
        "prediction = lassoModel.transform(train_sdf)\n",
        "lasso_test_prediction = lassoModel.transform(test_sdf)\n",
        "l1_accuracy = evaluator.evaluate(lasso_test_prediction, {evaluator.metricName: \"r2\"})\n",
        "\n",
        "# RIDGE L2 TO DO\n",
        "ridge = LinearRegression(featuresCol='features',labelCol='AvgYearlyTemp',maxIter=10, regParam=0.3, elasticNetParam = 0)\n",
        "ridgeModel = ridge.fit(train_sdf)\n",
        "prediction = ridgeModel.transform(train_sdf)\n",
        "ridge_test_prediction = ridgeModel.transform(test_sdf)\n",
        "l2_accuracy = evaluator.evaluate(test_prediction, {evaluator.metricName: \"r2\"})\n",
        "\n",
        "# Some variant of elastic net TO DO\n",
        "elastic = LinearRegression(featuresCol='features',labelCol='AvgYearlyTemp',maxIter=10, regParam=0.3, elasticNetParam = 0.8)\n",
        "elasticModel = elastic.fit(train_sdf)\n",
        "prediction = elasticModel.transform(train_sdf)\n",
        "elastic_test_prediction = elasticModel.transform(test_sdf)\n",
        "elastic_accuracy = evaluator.evaluate(elastic_test_prediction, {evaluator.metricName: \"r2\"})"
      ],
      "execution_count": 29,
      "outputs": []
    },
    {
      "cell_type": "code",
      "metadata": {
        "colab": {
          "base_uri": "https://localhost:8080/"
        },
        "id": "cUID4j6xmWpC",
        "outputId": "22a64d80-1dd9-4096-a08b-8933516d39ea"
      },
      "source": [
        "print(\"lasso test accuracy:\",l1_accuracy)\n",
        "print(\"ridge test accuracy:\", l2_accuracy)\n",
        "print(\"elastic test accuracy:\", elastic_accuracy)"
      ],
      "execution_count": 30,
      "outputs": [
        {
          "output_type": "stream",
          "name": "stdout",
          "text": [
            "lasso test accuracy: 0.22808427457398306\n",
            "ridge test accuracy: 0.2294293862152943\n",
            "elastic test accuracy: 0.23112894786509108\n"
          ]
        }
      ]
    },
    {
      "cell_type": "code",
      "source": [
        "# Plotting Lasso\n",
        "lr_lasso_df = lasso_test_prediction.toPandas()\n",
        "plt.plot(lr_lasso_df['year'], lr_lasso_df['AvgYearlyTemp'], label = 'Actual Temperature')\n",
        "plt.plot(lr_lasso_df['year'], lr_lasso_df['prediction'], label=\"Temperature Prediction\")\n",
        "plt.xlabel('Year')\n",
        "plt.ylabel('Temperature')\n",
        "plt.legend(loc='lower left')\n",
        "plt.show()"
      ],
      "metadata": {
        "colab": {
          "base_uri": "https://localhost:8080/",
          "height": 279
        },
        "id": "rMwH7o_22T5i",
        "outputId": "beeb5c73-e848-40ed-b4e8-2ec37e6103f0"
      },
      "execution_count": 31,
      "outputs": [
        {
          "output_type": "display_data",
          "data": {
            "image/png": "[encoded data removed]",
            "text/plain": [
              "<Figure size 432x288 with 1 Axes>"
            ]
          },
          "metadata": {
            "needs_background": "light"
          }
        }
      ]
    },
    {
      "cell_type": "code",
      "source": [
        "# Plotting Ridge\n",
        "lr_ridge_df = ridge_test_prediction.toPandas()\n",
        "plt.plot(lr_ridge_df['year'], lr_ridge_df['AvgYearlyTemp'], label = 'Actual Temperature')\n",
        "plt.plot(lr_ridge_df['year'], lr_ridge_df['prediction'], label=\"Temperature Prediction\")\n",
        "plt.xlabel('Year')\n",
        "plt.ylabel('Temperature')\n",
        "plt.legend(loc='lower left')\n",
        "plt.show()"
      ],
      "metadata": {
        "colab": {
          "base_uri": "https://localhost:8080/",
          "height": 279
        },
        "id": "aZpp8ZAJ3D6b",
        "outputId": "c0507064-b353-42e1-b646-adefa0277601"
      },
      "execution_count": 32,
      "outputs": [
        {
          "output_type": "display_data",
          "data": {
            "image/png": "[encoded data removed]",
            "text/plain": [
              "<Figure size 432x288 with 1 Axes>"
            ]
          },
          "metadata": {
            "needs_background": "light"
          }
        }
      ]
    },
    {
      "cell_type": "code",
      "source": [
        "# Plotting elastic net\n",
        "lr_elastic_df = elastic_test_prediction.toPandas()\n",
        "plt.plot(lr_elastic_df['year'], lr_elastic_df['AvgYearlyTemp'], label = 'Actual Temperature')\n",
        "plt.plot(lr_elastic_df['year'], lr_elastic_df['prediction'], label=\"Temperature Prediction\")\n",
        "plt.xlabel('Year')\n",
        "plt.ylabel('Temperature')\n",
        "plt.legend(loc='lower left')\n",
        "plt.show()"
      ],
      "metadata": {
        "colab": {
          "base_uri": "https://localhost:8080/",
          "height": 279
        },
        "id": "oOI-FAWk3X8h",
        "outputId": "59d50d03-b6f8-4528-cdd3-81257361a363"
      },
      "execution_count": 33,
      "outputs": [
        {
          "output_type": "display_data",
          "data": {
            "image/png": "[encoded data removed]",
            "text/plain": [
              "<Figure size 432x288 with 1 Axes>"
            ]
          },
          "metadata": {
            "needs_background": "light"
          }
        }
      ]
    },
    {
      "cell_type": "markdown",
      "metadata": {
        "id": "tqmRFGNLMWRr"
      },
      "source": [
        "### RandomForestRegression"
      ]
    },
    {
      "cell_type": "code",
      "metadata": {
        "id": "aYojvNdkGdlC"
      },
      "source": [
        "from pyspark.ml.regression import RandomForestRegressor\n",
        "\n",
        "# TODO define model\n",
        "rfc = RandomForestRegressor(featuresCol=\"features\",labelCol=\"AvgYearlyTemp\", maxDepth = 10, numTrees=50)\n",
        "# TODO fit on training data\n",
        "rfModel = rfc.fit(train_sdf)\n"
      ],
      "execution_count": 34,
      "outputs": []
    },
    {
      "cell_type": "code",
      "metadata": {
        "id": "6Fo7a7I3G75j"
      },
      "source": [
        "# TODO predictions\n",
        "train_prediction = rfModel.transform(train_sdf)\n",
        "test_prediction = rfModel.transform(test_sdf)"
      ],
      "execution_count": 35,
      "outputs": []
    },
    {
      "cell_type": "code",
      "source": [
        "# TODO evaluate predictions\n",
        "train_accuracy = evaluator.evaluate(train_prediction, {evaluator.metricName: \"r2\"})\n",
        "test_accuracy = evaluator.evaluate(test_prediction, {evaluator.metricName: \"r2\"})\n",
        "print(\"train accuracy:\", train_accuracy)\n",
        "print(\"test accuracy:\", test_accuracy)"
      ],
      "metadata": {
        "colab": {
          "base_uri": "https://localhost:8080/"
        },
        "id": "Tm4aofIz3ywU",
        "outputId": "3636a450-5038-4cfb-ac8c-258ab590ed4d"
      },
      "execution_count": 36,
      "outputs": [
        {
          "output_type": "stream",
          "name": "stdout",
          "text": [
            "train accuracy: 0.9335099630088364\n",
            "test accuracy: 0.9108449663772078\n"
          ]
        }
      ]
    },
    {
      "cell_type": "code",
      "source": [
        "# Plotting random forest regressor\n",
        "rf_df = test_prediction.toPandas()\n",
        "plt.plot(rf_df['year'], rf_df['AvgYearlyTemp'], label = 'Actual Temperature')\n",
        "plt.plot(rf_df['year'], rf_df['prediction'], label=\"Temperature Prediction\")\n",
        "plt.xlabel('Year')\n",
        "plt.ylabel('Temperature')\n",
        "plt.legend(loc='lower left')\n",
        "plt.show()"
      ],
      "metadata": {
        "colab": {
          "base_uri": "https://localhost:8080/",
          "height": 279
        },
        "id": "OdD77GXa3i5K",
        "outputId": "a6b04e8c-a349-461a-b0a0-6a6d6a185cf4"
      },
      "execution_count": 37,
      "outputs": [
        {
          "output_type": "display_data",
          "data": {
            "image/png": "[encoded data removed]",
            "text/plain": [
              "<Figure size 432x288 with 1 Axes>"
            ]
          },
          "metadata": {
            "needs_background": "light"
          }
        }
      ]
    },
    {
      "cell_type": "markdown",
      "metadata": {
        "id": "bZTkFgekH3gF"
      },
      "source": [
        "### PCA"
      ]
    },
    {
      "cell_type": "code",
      "metadata": {
        "id": "EWb92i2uIS25"
      },
      "source": [
        "# TODO initialize a PCA model\n",
        "from pyspark.ml import Pipeline\n",
        "from pyspark.ml.feature import PCA\n",
        "\n",
        "pca = PCA(k=2, inputCol=\"features\", outputCol=\"pcaFeatures\")"
      ],
      "execution_count": 38,
      "outputs": []
    },
    {
      "cell_type": "code",
      "metadata": {
        "id": "TMJNHXt2H5K1"
      },
      "source": [
        "# Set up PCA\n",
        "lr = LinearRegression(featuresCol='features',labelCol='AvgYearlyTemp',maxIter=5, regParam=0.3, elasticNetParam = 0.8)\n",
        "# TODO Fit the model using the training data\n",
        "pca_pipe = Pipeline(stages=[assembler,pca, lr])"
      ],
      "execution_count": 39,
      "outputs": []
    },
    {
      "cell_type": "code",
      "metadata": {
        "id": "eMnRcluZIQh2"
      },
      "source": [
        "# Get the PCA feature from the trained model\n",
        "train_sdf = train_sdf.drop(\"features\")\n",
        "pca_model = pca_pipe.fit(train_sdf)"
      ],
      "execution_count": 40,
      "outputs": []
    },
    {
      "cell_type": "code",
      "metadata": {
        "id": "sWJjwINJIST8"
      },
      "source": [
        "# Train a logistic regression model using the PCA features\n",
        "train_prediction = pca_model.transform(train_sdf)\n",
        "\n",
        "test_sdf = test_sdf.drop(\"features\")\n",
        "test_prediction = pca_model.transform(test_sdf)"
      ],
      "execution_count": 41,
      "outputs": []
    },
    {
      "cell_type": "code",
      "source": [
        "# k=2 TODO evaluate predictions\n",
        "training_pca = evaluator.evaluate(train_prediction, {evaluator.metricName: \"r2\"})\n",
        "test_pca = evaluator.evaluate(test_prediction, {evaluator.metricName: \"r2\"})\n",
        "print(training_pca, test_pca)"
      ],
      "metadata": {
        "colab": {
          "base_uri": "https://localhost:8080/"
        },
        "id": "QfBemoEW5xS5",
        "outputId": "5c788552-67d4-4678-b41d-7b565f37056b"
      },
      "execution_count": 42,
      "outputs": [
        {
          "output_type": "stream",
          "name": "stdout",
          "text": [
            "0.2174208150599808 0.2294293862152943\n"
          ]
        }
      ]
    },
    {
      "cell_type": "code",
      "metadata": {
        "id": "J0yQVsrFITpp"
      },
      "source": [
        "# k=6 TODO evaluate predictions\n",
        "training_pca = evaluator.evaluate(train_prediction, {evaluator.metricName: \"r2\"})\n",
        "test_pca = evaluator.evaluate(test_prediction, {evaluator.metricName: \"r2\"})\n",
        "print(training_pca, test_pca)"
      ],
      "execution_count": null,
      "outputs": []
    },
    {
      "cell_type": "markdown",
      "metadata": {
        "id": "faPWCsHHw7if"
      },
      "source": [
        "## Choosing main columns as features"
      ]
    },
    {
      "cell_type": "code",
      "metadata": {
        "id": "vU_tra3-IVyD"
      },
      "source": [
        "# remove duplicate columns\n",
        "columns_to_use_2 = ['iso_code_labels','year','co2','co2_growth_prct','population']"
      ],
      "execution_count": 43,
      "outputs": []
    },
    {
      "cell_type": "code",
      "metadata": {
        "id": "QbWxMyHPxJNS"
      },
      "source": [
        "assembler2 = VectorAssembler(inputCols=columns_to_use_2, outputCol=\"features\")"
      ],
      "execution_count": 44,
      "outputs": []
    },
    {
      "cell_type": "code",
      "metadata": {
        "colab": {
          "base_uri": "https://localhost:8080/"
        },
        "id": "e6FFs5XKxRkU",
        "outputId": "3804d7ac-122c-4a78-ea81-40513ada142b"
      },
      "source": [
        "from pyspark.ml import Pipeline\n",
        "\n",
        "modified_data_sdf_2 = assembler2.transform(train_sdf)\n",
        "modified_data_sdf_2.show()"
      ],
      "execution_count": 45,
      "outputs": [
        {
          "output_type": "stream",
          "name": "stdout",
          "text": [
            "+---+---------------+----+------------------+--------------------+--------------------+--------------------+-------------------------------+--------------------+--------------------+--------------------+----------------+--------------------+---------------------------+---------------+-----------+------------------+--------------------+\n",
            "|_c0|iso_code_labels|year|oil_co2_per_capita|             oil_co2|share_global_oil_co2|  cumulative_oil_co2|share_global_cumulative_oil_co2|      co2_growth_abs|      co2_per_capita|                 co2|share_global_co2|      cumulative_co2|share_global_cumulative_co2|co2_growth_prct| population|     AvgYearlyTemp|            features|\n",
            "+---+---------------+----+------------------+--------------------+--------------------+--------------------+-------------------------------+--------------------+--------------------+--------------------+----------------+--------------------+---------------------------+---------------+-----------+------------------+--------------------+\n",
            "|  0|             53|1855|             0.001|0.037000000000000005|               100.0|0.037000000000000005|                          100.0|               3.858|               0.899|              33.071|           12.71|             469.655|                       7.96|          13.21|3.6768948E7|11.763583333333335|[53.0,1855.0,33.0...|\n",
            "|  1|             53|1856|             0.001|                0.04|               100.0|               0.077|                          100.0|               1.561|                0.94|              34.632|           12.49|             504.287|                       8.17|           4.72|3.6853256E7|12.615916666666665|[53.0,1856.0,34.6...|\n",
            "|  2|             53|1857|             0.001|0.044000000000000004|               85.71|               0.121|                          94.29|               0.649|               0.955|              35.281|           12.61|             539.568|                       8.36|           1.87|3.6937755E7|12.823250000000002|[53.0,1857.0,35.2...|\n",
            "|  3|             53|1858|             0.001|               0.048|               76.47| 0.16899999999999998|                          88.46|              -0.685|               0.934|              34.595|           12.17|             574.163|                       8.52|          -1.94|3.7022445E7|12.382083333333336|[53.0,1858.0,34.5...|\n",
            "|  4|             53|1859|             0.001|               0.048|               86.67| 0.21600000000000003|                          88.06|               0.396|               0.943|              34.991|           11.61|             609.155|                       8.65|           1.14|3.7110539E7|           13.1075|[53.0,1859.0,34.9...|\n",
            "|  5|            136|1859|               0.0|               0.004|                6.67|0.006999999999999999|                           2.99|                 0.0|                 0.0|               0.004|             0.0|0.006999999999999999|                        0.0|            0.0|  8499134.0| 9.252083333333333|[136.0,1859.0,0.0...|\n",
            "|  6|              8|1860|               0.0|                 0.0|                0.05|                 0.0|                           0.03|                 0.0|               0.003|               0.002|             0.0|               0.005|                        0.0|          32.14|   594311.0| 8.464083333333333|[8.0,1860.0,0.002...|\n",
            "|  8|             20|1860|             0.001|               0.003|                0.92|               0.003|                           0.49|               0.005|               0.006|               0.019|            0.01|               0.061|                        0.0|          32.14|  3396680.0| 5.694416666666667|[20.0,1860.0,0.01...|\n",
            "|  9|             49|1860|               0.0|                 0.0|                0.02|                 0.0|                           0.01|               0.002|0.013000000000000001|0.006999999999999999|             0.0|0.022000000000000002|                        0.0|          32.14|   540368.0| 4.418916666666667|[49.0,1860.0,0.00...|\n",
            "| 10|             53|1860|             0.001|               0.048|                17.4|               0.264|                          50.82|                3.14|               1.025|              38.131|           11.53|             647.286|                       8.78|           8.97|3.7202052E7|11.752250000000002|[53.0,1860.0,38.1...|\n",
            "| 11|             56|1860|               0.0|                 0.0|                 0.1|                 0.0|                           0.05|               0.001|               0.002|               0.003|             0.0|0.009000000000000001|                        0.0|           32.1|  1544908.0| 8.018333333333333|[56.0,1860.0,0.00...|\n",
            "| 12|             83|1860|               0.0|                 0.0|                0.12|                 0.0|                           0.06|0.011000000000000001|               0.015|               0.045|            0.01|               0.146|                        0.0|          32.14|  2934178.0| 3.708083333333336|[83.0,1860.0,0.04...|\n",
            "| 14|             96|1860|             0.001|               0.001|                0.32|               0.001|                           0.17|               0.002|               0.005|0.006999999999999999|             0.0|               0.023|                        0.0|          32.13|  1401276.0| 5.662000000000001|[96.0,1860.0,0.00...|\n",
            "| 15|             98|1860|               0.0|                 0.0|                0.16|                 0.0|                           0.08|               0.001|               0.004|               0.005|             0.0|               0.015|                        0.0|          32.14|  1130272.0| 5.015833333333334|[98.0,1860.0,0.00...|\n",
            "| 16|            136|1860|               0.0|               0.004|                1.34|0.011000000000000001|                           2.12|                 0.0|                 0.0|               0.004|             0.0|0.011000000000000001|                        0.0|            0.0|  8556435.0| 8.930750000000002|[136.0,1860.0,0.0...|\n",
            "| 17|            155|1860|               0.0|                 0.0|                0.05|                 0.0|                           0.03|               0.001|               0.003|               0.002|             0.0|               0.008|                        0.0|          32.11|   671264.0| 3.093166666666668|[155.0,1860.0,0.0...|\n",
            "| 19|            162|1860|               0.0|               0.001|                0.48|               0.001|                           0.25|               0.032|               0.008|               0.131|            0.04| 0.42700000000000005|                       0.01|          32.14|1.6189352E7| 7.730083333333333|[162.0,1860.0,0.1...|\n",
            "| 21|              8|1861|               0.0|                 0.0|                0.01|                 0.0|                           0.02|                 0.0|               0.003|               0.002|             0.0|0.006999999999999999|                        0.0|          27.03|   599626.0| 7.355000000000001|[8.0,1861.0,0.002...|\n",
            "| 22|             11|1861|             0.004|               0.006|                0.58|                0.01|                           0.71|               0.002|0.009000000000000001|0.011000000000000001|             0.0|0.040999999999999995|                        0.0|          27.03|  1280239.0| 9.968583333333333|[11.0,1861.0,0.01...|\n",
            "| 23|             20|1861|             0.001|               0.003|                0.27|               0.005|                           0.35|               0.005|0.006999999999999999|               0.024|            0.01|               0.085|                        0.0|          27.03|  3428107.0| 5.364750000000001|[20.0,1861.0,0.02...|\n",
            "+---+---------------+----+------------------+--------------------+--------------------+--------------------+-------------------------------+--------------------+--------------------+--------------------+----------------+--------------------+---------------------------+---------------+-----------+------------------+--------------------+\n",
            "only showing top 20 rows\n",
            "\n"
          ]
        }
      ]
    },
    {
      "cell_type": "code",
      "metadata": {
        "id": "dtZGTmPKxcRS"
      },
      "source": [
        "train_sdf_2, test_sdf_2 = modified_data_sdf_2.randomSplit([0.8, 0.2], seed=24)"
      ],
      "execution_count": 47,
      "outputs": []
    },
    {
      "cell_type": "markdown",
      "metadata": {
        "id": "k18auqM8yyKq"
      },
      "source": [
        "### Linear Regression"
      ]
    },
    {
      "cell_type": "code",
      "metadata": {
        "id": "0MfgDNEyxf3q",
        "colab": {
          "base_uri": "https://localhost:8080/"
        },
        "outputId": "b91fc65e-2255-4d20-f801-61b1d547f10e"
      },
      "source": [
        "# fit on training data\n",
        "clfModel_2 = lr.fit(train_sdf_2)\n",
        "prediction_2 = clfModel_2.transform(train_sdf_2)\n",
        "training_accuracy_2 = evaluator.evaluate(prediction_2, {evaluator.metricName: \"r2\"})\n",
        "test_prediction_2 = clfModel_2.transform(test_sdf_2)\n",
        "test_accuracy_2 = evaluator.evaluate(test_prediction_2, {evaluator.metricName: \"r2\"})\n",
        "\n",
        "print(\"training accuracy:\", training_accuracy_2)\n",
        "print(\"test accuracy:\", test_accuracy_2)"
      ],
      "execution_count": 48,
      "outputs": [
        {
          "output_type": "stream",
          "name": "stdout",
          "text": [
            "training accuracy: 0.18317091666022378\n",
            "test accuracy: 0.1793725288489989\n"
          ]
        }
      ]
    },
    {
      "cell_type": "code",
      "metadata": {
        "colab": {
          "base_uri": "https://localhost:8080/"
        },
        "id": "vg2Z9EJ00Uou",
        "outputId": "e4962dff-88b2-4aa7-aa04-e05fa9b449cb"
      },
      "source": [
        "prediction_2[['AvgYearlyTemp']].show()"
      ],
      "execution_count": 49,
      "outputs": [
        {
          "output_type": "stream",
          "name": "stdout",
          "text": [
            "+------------------+\n",
            "|     AvgYearlyTemp|\n",
            "+------------------+\n",
            "|11.763583333333335|\n",
            "|12.615916666666665|\n",
            "|12.823250000000002|\n",
            "|12.382083333333336|\n",
            "|           13.1075|\n",
            "| 9.252083333333333|\n",
            "| 8.464083333333333|\n",
            "| 4.418916666666667|\n",
            "|11.752250000000002|\n",
            "| 8.018333333333333|\n",
            "| 3.708083333333336|\n",
            "| 5.662000000000001|\n",
            "| 8.930750000000002|\n",
            "| 3.093166666666668|\n",
            "| 7.730083333333333|\n",
            "| 7.355000000000001|\n",
            "| 5.364750000000001|\n",
            "|12.658083333333332|\n",
            "| 6.822583333333332|\n",
            "| 4.445333333333334|\n",
            "+------------------+\n",
            "only showing top 20 rows\n",
            "\n"
          ]
        }
      ]
    },
    {
      "cell_type": "code",
      "metadata": {
        "id": "QhV0BHwpx_b9"
      },
      "source": [
        "# LASSO L1\n",
        "lassoModel_2 = lasso.fit(train_sdf_2)\n",
        "prediction_2 = lassoModel_2.transform(train_sdf_2)\n",
        "test_prediction_2 = lassoModel_2.transform(test_sdf_2)\n",
        "test_area_l1_2 = evaluator.evaluate(test_prediction_2, {evaluator.metricName: \"r2\"})\n",
        "\n",
        "# RIDGE L2\n",
        "ridgeModel_2 = ridge.fit(train_sdf_2)\n",
        "prediction_2 = ridgeModel_2.transform(train_sdf_2)\n",
        "test_prediction_2 = ridgeModel_2.transform(test_sdf_2)\n",
        "test_area_l2_2 = evaluator.evaluate(test_prediction_2, {evaluator.metricName: \"r2\"})\n",
        "\n",
        "# elastic net\n",
        "elasticModel_2 = elastic.fit(train_sdf_2)\n",
        "prediction_2 = elasticModel_2.transform(train_sdf_2)\n",
        "test_prediction_2 = elasticModel_2.transform(test_sdf_2)\n",
        "test_area_elastic_2 = evaluator.evaluate(test_prediction_2, {evaluator.metricName: \"r2\"})"
      ],
      "execution_count": 50,
      "outputs": []
    },
    {
      "cell_type": "code",
      "metadata": {
        "colab": {
          "base_uri": "https://localhost:8080/"
        },
        "id": "o5x7r4cOysph",
        "outputId": "272ef75f-b3d1-43ff-8179-6489c20e3617"
      },
      "source": [
        "print(\"lasso test accuracy:\", test_area_l1_2)\n",
        "print(\"ridge test accuracy:\", test_area_l2_2)\n",
        "print(\"elastic net test accuracy:\", test_area_elastic_2)"
      ],
      "execution_count": 51,
      "outputs": [
        {
          "output_type": "stream",
          "name": "stdout",
          "text": [
            "lasso test accuracy: 0.17586465186208866\n",
            "ridge test accuracy: 0.1925065663695369\n",
            "elastic net test accuracy: 0.18024560045689153\n"
          ]
        }
      ]
    },
    {
      "cell_type": "markdown",
      "metadata": {
        "id": "eQQVgV_Fy0rC"
      },
      "source": [
        "### RandomForestRegression"
      ]
    },
    {
      "cell_type": "code",
      "metadata": {
        "colab": {
          "base_uri": "https://localhost:8080/"
        },
        "id": "7GZ4hXGzzOQq",
        "outputId": "d20d7c41-d5af-4af8-bb5c-cb809ad11158"
      },
      "source": [
        "rfModel_2 = rfc.fit(train_sdf_2)\n",
        "train_prediction_2 = rfModel_2.transform(train_sdf_2)\n",
        "test_prediction_2 = rfModel_2.transform(test_sdf_2)\n",
        "train_area_2 = evaluator.evaluate(train_prediction_2, {evaluator.metricName: \"r2\"})\n",
        "test_area_2 = evaluator.evaluate(test_prediction_2, {evaluator.metricName: \"r2\"})\n",
        "print(\"training accuracy:\",train_area_2)\n",
        "print(\"test accuracy:\", test_area_2)"
      ],
      "execution_count": 52,
      "outputs": [
        {
          "output_type": "stream",
          "name": "stdout",
          "text": [
            "training accuracy: 0.8938064947485026\n",
            "test accuracy: 0.8499214691446004\n"
          ]
        }
      ]
    },
    {
      "cell_type": "markdown",
      "metadata": {
        "id": "Ifi7GaD_zHXy"
      },
      "source": [
        "### PCA"
      ]
    },
    {
      "cell_type": "code",
      "metadata": {
        "colab": {
          "base_uri": "https://localhost:8080/"
        },
        "id": "fQ5KiGRIzegh",
        "outputId": "7c36fdff-ec7f-47f0-e2aa-16baf927c3c9"
      },
      "source": [
        "train_sdf_2 = train_sdf_2.drop(\"features\")\n",
        "pca_model_2 = pca_pipe.fit(train_sdf_2)\n",
        "train_prediction_2 = pca_model_2.transform(train_sdf_2)\n",
        "\n",
        "test_sdf_2 = test_sdf_2.drop(\"features\")\n",
        "test_prediction_2 = pca_model_2.transform(test_sdf_2)\n",
        "training_pca_2 = evaluator.evaluate(train_prediction_2, {evaluator.metricName: \"r2\"})\n",
        "test_pca_2 = evaluator.evaluate(test_prediction_2, {evaluator.metricName: \"r2\"})\n",
        "print(\"training accuracy:\", training_pca_2)\n",
        "print(\"test accuracy:\", test_pca_2)"
      ],
      "execution_count": 53,
      "outputs": [
        {
          "output_type": "stream",
          "name": "stdout",
          "text": [
            "training accuracy: 0.21743975848854913\n",
            "test accuracy: 0.21821522925338754\n"
          ]
        }
      ]
    },
    {
      "cell_type": "markdown",
      "metadata": {
        "id": "IyKOybpc_FKi"
      },
      "source": [
        "# Split by Year"
      ]
    },
    {
      "cell_type": "markdown",
      "source": [
        "### Choosing all columns as features"
      ],
      "metadata": {
        "id": "CHHcbUkhdQdv"
      }
    },
    {
      "cell_type": "markdown",
      "metadata": {
        "id": "Hq2YHsD1_OW9"
      },
      "source": [
        "Training (1750 - 1950)\n",
        "Validation (1950 - 1980)\n",
        "Testing (1980 - 2013)\n",
        "and comment on biases"
      ]
    },
    {
      "cell_type": "code",
      "source": [
        "training_data = modified_data_sdf[modified_data_sdf['year'] < 1950]\n",
        "training_data.show()"
      ],
      "metadata": {
        "colab": {
          "base_uri": "https://localhost:8080/"
        },
        "id": "4edflKDwbZPe",
        "outputId": "ec65e72b-f256-4685-c747-f36efe8cf003"
      },
      "execution_count": 63,
      "outputs": [
        {
          "output_type": "stream",
          "name": "stdout",
          "text": [
            "+---+---------------+----+------------------+--------------------+--------------------+--------------------+-------------------------------+--------------------+--------------------+--------------------+----------------+--------------------+---------------------------+---------------+-----------+------------------+--------------------+\n",
            "|_c0|iso_code_labels|year|oil_co2_per_capita|             oil_co2|share_global_oil_co2|  cumulative_oil_co2|share_global_cumulative_oil_co2|      co2_growth_abs|      co2_per_capita|                 co2|share_global_co2|      cumulative_co2|share_global_cumulative_co2|co2_growth_prct| population|     AvgYearlyTemp|            features|\n",
            "+---+---------------+----+------------------+--------------------+--------------------+--------------------+-------------------------------+--------------------+--------------------+--------------------+----------------+--------------------+---------------------------+---------------+-----------+------------------+--------------------+\n",
            "|  0|             53|1855|             0.001|0.037000000000000005|               100.0|0.037000000000000005|                          100.0|               3.858|               0.899|              33.071|           12.71|             469.655|                       7.96|          13.21|3.6768948E7|11.763583333333335|[53.0,1855.0,0.00...|\n",
            "|  1|             53|1856|             0.001|                0.04|               100.0|               0.077|                          100.0|               1.561|                0.94|              34.632|           12.49|             504.287|                       8.17|           4.72|3.6853256E7|12.615916666666665|[53.0,1856.0,0.00...|\n",
            "|  2|             53|1857|             0.001|0.044000000000000004|               85.71|               0.121|                          94.29|               0.649|               0.955|              35.281|           12.61|             539.568|                       8.36|           1.87|3.6937755E7|12.823250000000002|[53.0,1857.0,0.00...|\n",
            "|  3|             53|1858|             0.001|               0.048|               76.47| 0.16899999999999998|                          88.46|              -0.685|               0.934|              34.595|           12.17|             574.163|                       8.52|          -1.94|3.7022445E7|12.382083333333336|[53.0,1858.0,0.00...|\n",
            "|  4|             53|1859|             0.001|               0.048|               86.67| 0.21600000000000003|                          88.06|               0.396|               0.943|              34.991|           11.61|             609.155|                       8.65|           1.14|3.7110539E7|           13.1075|[53.0,1859.0,0.00...|\n",
            "|  5|            136|1859|               0.0|               0.004|                6.67|0.006999999999999999|                           2.99|                 0.0|                 0.0|               0.004|             0.0|0.006999999999999999|                        0.0|            0.0|  8499134.0| 9.252083333333333|[136.0,1859.0,0.0...|\n",
            "|  6|              8|1860|               0.0|                 0.0|                0.05|                 0.0|                           0.03|                 0.0|               0.003|               0.002|             0.0|               0.005|                        0.0|          32.14|   594311.0| 8.464083333333333|[8.0,1860.0,0.0,0...|\n",
            "|  7|             11|1860|             0.004|               0.005|                1.79|               0.005|                           0.94|               0.002|0.006999999999999999|0.009000000000000001|             0.0|0.028999999999999998|                        0.0|          32.15|  1268561.0|           11.0185|[11.0,1860.0,0.00...|\n",
            "|  8|             20|1860|             0.001|               0.003|                0.92|               0.003|                           0.49|               0.005|               0.006|               0.019|            0.01|               0.061|                        0.0|          32.14|  3396680.0| 5.694416666666667|[20.0,1860.0,0.00...|\n",
            "|  9|             49|1860|               0.0|                 0.0|                0.02|                 0.0|                           0.01|               0.002|0.013000000000000001|0.006999999999999999|             0.0|0.022000000000000002|                        0.0|          32.14|   540368.0| 4.418916666666667|[49.0,1860.0,0.0,...|\n",
            "| 10|             53|1860|             0.001|               0.048|                17.4|               0.264|                          50.82|                3.14|               1.025|              38.131|           11.53|             647.286|                       8.78|           8.97|3.7202052E7|11.752250000000002|[53.0,1860.0,0.00...|\n",
            "| 11|             56|1860|               0.0|                 0.0|                 0.1|                 0.0|                           0.05|               0.001|               0.002|               0.003|             0.0|0.009000000000000001|                        0.0|           32.1|  1544908.0| 8.018333333333333|[56.0,1860.0,0.0,...|\n",
            "| 12|             83|1860|               0.0|                 0.0|                0.12|                 0.0|                           0.06|0.011000000000000001|               0.015|               0.045|            0.01|               0.146|                        0.0|          32.14|  2934178.0| 3.708083333333336|[83.0,1860.0,0.0,...|\n",
            "| 13|             85|1860|               0.0|                 0.0|                0.03|                 0.0|                           0.01|               0.001|               0.005|               0.004|             0.0|0.013000000000000001|                        0.0|          32.15|   763476.0|2.0403333333333333|[85.0,1860.0,0.0,...|\n",
            "| 14|             96|1860|             0.001|               0.001|                0.32|               0.001|                           0.17|               0.002|               0.005|0.006999999999999999|             0.0|               0.023|                        0.0|          32.13|  1401276.0| 5.662000000000001|[96.0,1860.0,0.00...|\n",
            "| 15|             98|1860|               0.0|                 0.0|                0.16|                 0.0|                           0.08|               0.001|               0.004|               0.005|             0.0|               0.015|                        0.0|          32.14|  1130272.0| 5.015833333333334|[98.0,1860.0,0.0,...|\n",
            "| 16|            136|1860|               0.0|               0.004|                1.34|0.011000000000000001|                           2.12|                 0.0|                 0.0|               0.004|             0.0|0.011000000000000001|                        0.0|            0.0|  8556435.0| 8.930750000000002|[136.0,1860.0,0.0...|\n",
            "| 17|            155|1860|               0.0|                 0.0|                0.05|                 0.0|                           0.03|               0.001|               0.003|               0.002|             0.0|               0.008|                        0.0|          32.11|   671264.0| 3.093166666666668|[155.0,1860.0,0.0...|\n",
            "| 18|            156|1860|             0.002|               0.001|                0.35|               0.001|                           0.19|               0.001|0.011000000000000001|               0.006|             0.0|               0.019|                        0.0|          32.15|   528786.0|14.109666666666666|[156.0,1860.0,0.0...|\n",
            "| 19|            162|1860|               0.0|               0.001|                0.48|               0.001|                           0.25|               0.032|               0.008|               0.131|            0.04| 0.42700000000000005|                       0.01|          32.14|1.6189352E7| 7.730083333333333|[162.0,1860.0,0.0...|\n",
            "+---+---------------+----+------------------+--------------------+--------------------+--------------------+-------------------------------+--------------------+--------------------+--------------------+----------------+--------------------+---------------------------+---------------+-----------+------------------+--------------------+\n",
            "only showing top 20 rows\n",
            "\n"
          ]
        }
      ]
    },
    {
      "cell_type": "code",
      "source": [
        "validation_data = modified_data_sdf[(modified_data_sdf['year'] < 1980) & (modified_data_sdf['year'] >= 1950) ]\n",
        "validation_data.show()"
      ],
      "metadata": {
        "colab": {
          "base_uri": "https://localhost:8080/"
        },
        "id": "fHN_-7Z_f8R1",
        "outputId": "8e78547b-3ba9-4a16-b267-959450ce7995"
      },
      "execution_count": 64,
      "outputs": [
        {
          "output_type": "stream",
          "name": "stdout",
          "text": [
            "+----+---------------+----+--------------------+-------------------+--------------------+------------------+-------------------------------+------------------+--------------------+------------------+----------------+-------------------+---------------------------+---------------+------------+------------------+--------------------+\n",
            "| _c0|iso_code_labels|year|  oil_co2_per_capita|            oil_co2|share_global_oil_co2|cumulative_oil_co2|share_global_cumulative_oil_co2|    co2_growth_abs|      co2_per_capita|               co2|share_global_co2|     cumulative_co2|share_global_cumulative_co2|co2_growth_prct|  population|     AvgYearlyTemp|            features|\n",
            "+----+---------------+----+--------------------+-------------------+--------------------+------------------+-------------------------------+------------------+--------------------+------------------+----------------+-------------------+---------------------------+---------------+------------+------------------+--------------------+\n",
            "|3209|              1|1950|               0.008|              0.063|                 0.0|             0.063|                            0.0|              0.07|0.011000000000000001|             0.084|             0.0|              0.099|                        0.0|          475.0|   7752117.0|           13.0435|[1.0,1950.0,0.008...|\n",
            "|3210|              4|1950|               0.195|0.24600000000000002|                0.01|             7.365|                           0.03|            -0.718|               0.235|             0.297|             0.0| 7.4639999999999995|                        0.0|         -70.76|   1263164.0|13.812833333333336|[4.0,1950.0,0.195...|\n",
            "|3211|              7|1950|  1.5019999999999998| 25.581999999999997|                1.55|215.43200000000002|                           0.79|            14.557|               1.756|            29.921|             0.5|            555.981|                       0.24|          94.74|  1.703791E7|14.795083333333332|[7.0,1950.0,1.501...|\n",
            "|3212|              8|1950|               0.593| 0.8029999999999999|                0.05|            15.432|                           0.06|             0.156|               1.136|             1.538|            0.03| 24.898000000000003|                       0.01|          11.28|   1353502.0| 8.213000000000001|[8.0,1950.0,0.593...|\n",
            "|3213|              9|1950|               1.227|             10.036|                0.61|            11.945|                           0.04|            17.092|               6.694|            54.739|            0.91|           1340.047|                       0.58|           45.4|   8177348.0|21.322916666666668|[9.0,1950.0,1.227...|\n",
            "|3214|             10|1950|               0.281|              1.949|                0.12|            50.548|                           0.18|             -5.68|               3.012|20.894000000000002|            0.35| 1678.1170000000002|                       0.73|         -21.37|   6936442.0| 7.035749999999998|[10.0,1950.0,0.28...|\n",
            "|3215|             11|1950|  2.5610000000000004|  7.497999999999999|                0.45|           131.583|                           0.48|             0.907|  3.0460000000000003|             8.918|            0.15| 144.22799999999998|                       0.06|          11.33|   2927926.0| 10.89133333333333|[11.0,1950.0,2.56...|\n",
            "|3216|             13|1950|               0.722|               6.24|                0.38|63.461000000000006|                           0.23|            -4.572|   8.822000000000001|              76.2|            1.27|  4702.164000000001|                       2.04|          -5.66|   8637521.0| 9.829166666666667|[13.0,1950.0,0.72...|\n",
            "|3217|             16|1950|0.013000000000000001|              0.493|                0.03|0.6779999999999999|                            0.0|0.8029999999999999|0.026000000000000002|             0.993|            0.02|              1.556|                        0.0|         422.03| 3.7894671E7|25.020333333333333|[16.0,1950.0,0.01...|\n",
            "|3218|             17|1950|               0.075| 0.5429999999999999|                0.03|0.5429999999999999|                            0.0|             0.045|               1.034| 7.497999999999999|            0.12|             119.35|                       0.05|           0.61|   7250996.0|11.464750000000002|[17.0,1950.0,0.07...|\n",
            "|3219|             18|1950|              11.948|              1.381|                0.08|            47.478|                           0.17|            -3.228|              11.948|             1.381|            0.02|             47.478|                       0.02|         -70.03|    115612.0|25.438000000000002|[18.0,1950.0,11.9...|\n",
            "|3220|             20|1950|  1.5959999999999999| 12.357000000000001|                0.75|           221.793|                           0.81|             1.922|               2.423|            18.768|            0.31|            302.592|                       0.13|          11.41|   7745004.0| 6.231916666666668|[20.0,1950.0,1.59...|\n",
            "|3221|             22|1950|               0.233|             12.579|                0.76|            13.945|                           0.05|            12.292|               0.364|19.659000000000002|            0.33|            255.112|                       0.11|         166.86| 5.3974728E7|            24.639|[22.0,1950.0,0.23...|\n",
            "|3222|             23|1950|               0.313|              0.066|                 0.0|             0.099|                            0.0|              0.07| 0.34700000000000003|             0.073|             0.0|0.11699999999999999|                        0.0|         1900.0|    210990.0|          26.18125|[23.0,1950.0,0.31...|\n",
            "|3223|             27|1950|               3.819|             52.448|                3.18|           579.869|                           2.11|             9.112|  11.222999999999999|           154.134|            2.57|           4506.218|                       1.96|           6.28| 1.3733398E7|-5.952916666666668|[27.0,1950.0,3.81...|\n",
            "|3224|             28|1950|                0.62| 2.8960000000000004|                0.18|            36.128|                           0.13|             1.703|  2.1919999999999997|10.232999999999999|            0.17|            473.202|                       0.21|          19.97|   4668089.0| 7.730916666666667|[28.0,1950.0,0.62...|\n",
            "|3225|             29|1950|               0.522|              3.448|                0.21|              3.47|                           0.01|             2.576|               1.281|             8.451|            0.14|            203.248|                       0.09|          43.84|   6598518.0|             9.292|[29.0,1950.0,0.52...|\n",
            "|3226|             30|1950|               0.001|              0.619|                0.04|14.722000000000001|                           0.05|            19.475|               0.142|            78.835|            1.31|           1870.779|                       0.81|          32.81|5.54419269E8| 6.641166666666666|[30.0,1950.0,0.00...|\n",
            "|3227|             33|1950|               0.386|              4.624|                0.28|            34.113|                           0.12|             2.363|               0.626| 7.497999999999999|            0.12|              75.41|                       0.03|          46.02| 1.1981576E7| 24.42583333333333|[33.0,1950.0,0.38...|\n",
            "|3228|             36|1950|               0.899|               5.32|                0.32|             5.478|                           0.02| 5.422999999999999|  0.9470000000000001|             5.605|            0.09|              6.765|                        0.0|        2980.29|   5919989.0|25.144000000000005|[36.0,1950.0,0.89...|\n",
            "+----+---------------+----+--------------------+-------------------+--------------------+------------------+-------------------------------+------------------+--------------------+------------------+----------------+-------------------+---------------------------+---------------+------------+------------------+--------------------+\n",
            "only showing top 20 rows\n",
            "\n"
          ]
        }
      ]
    },
    {
      "cell_type": "code",
      "metadata": {
        "id": "1-aUuZtP_lE2",
        "colab": {
          "base_uri": "https://localhost:8080/"
        },
        "outputId": "74a38cb2-237a-42e8-dcfc-f4d22cf52649"
      },
      "source": [
        "testing_data = modified_data_sdf[modified_data_sdf['year'] >= 1980]\n",
        "testing_data.show()"
      ],
      "execution_count": 65,
      "outputs": [
        {
          "output_type": "stream",
          "name": "stdout",
          "text": [
            "+----+---------------+----+------------------+-------------------+--------------------+------------------+-------------------------------+--------------------+------------------+-------------------+----------------+------------------+---------------------------+---------------+-----------+------------------+--------------------+\n",
            "| _c0|iso_code_labels|year|oil_co2_per_capita|            oil_co2|share_global_oil_co2|cumulative_oil_co2|share_global_cumulative_oil_co2|      co2_growth_abs|    co2_per_capita|                co2|share_global_co2|    cumulative_co2|share_global_cumulative_co2|co2_growth_prct| population|     AvgYearlyTemp|            features|\n",
            "+----+---------------+----+------------------+-------------------+--------------------+------------------+-------------------------------+--------------------+------------------+-------------------+----------------+------------------+---------------------------+---------------+-----------+------------------+--------------------+\n",
            "|7763|              0|1980|             9.742|              0.585|                0.01|24.951999999999998|                           0.01|               0.017|             9.742|              0.585|             0.0|24.951999999999998|                        0.0|           2.91|    60097.0| 28.62691666666667|[0.0,1980.0,9.742...|\n",
            "|7764|              1|1980|             0.069|              0.925|                0.01|            15.013|                           0.01|-0.47600000000000003|             0.132|              1.756|            0.01|            31.794|                       0.01|         -21.34|  1.33565E7|14.887333333333332|[1.0,1980.0,0.069...|\n",
            "|7765|              2|1980|             0.319|              2.658|                0.03|37.961999999999996|                           0.02|              -0.155|              0.64|              5.334|            0.03|            65.517|                       0.01|          -2.82|  8341290.0|22.077583333333337|[2.0,1980.0,0.319...|\n",
            "|7766|              4|1980|             0.586| 1.5719999999999998|                0.02|62.843999999999994|                           0.03|              -2.415|             1.926|              5.166|            0.03| 97.23200000000001|                       0.02|         -31.85|  2682697.0|12.162083333333335|[4.0,1980.0,0.586...|\n",
            "|7767|              6|1980|              8.84|              9.013|                 0.1|46.346000000000004|                           0.03| 0.27699999999999997|            36.119|             36.823|            0.19|           372.085|                       0.06|           0.76|  1019507.0| 28.30108333333333|[6.0,1980.0,8.84,...|\n",
            "|7768|              7|1980|2.7430000000000003|             76.508|                0.85|          1787.481|                           0.98|               -1.96|             3.895|            108.656|            0.56|          2584.472|                       0.43|          -1.77|2.7896532E7|15.226916666666664|[7.0,1980.0,2.743...|\n",
            "|7769|              8|1980|             1.527|              4.734|                0.05|            95.521|                           0.05|               0.302|2.5869999999999997|  8.017999999999999|            0.04|           162.666|                       0.03|           3.91|  3099759.0| 9.358583333333334|[8.0,1980.0,1.527...|\n",
            "|7770|              9|1980|             5.636|  82.22200000000001|                0.92|          1444.851|                           0.79|              15.662|            15.117|            220.537|            1.13|           5061.29|                       0.84|           7.64|  1.45884E7| 22.58616666666667|[9.0,1980.0,5.636...|\n",
            "|7771|             10|1980|             3.426| 26.070999999999998|                0.29| 576.2080000000001|                           0.31|              -9.296| 6.837000000000001|             52.025|            0.27|2903.7059999999997|                       0.48|         -15.16|  7609750.0| 5.633583333333334|[10.0,1980.0,3.42...|\n",
            "|7772|             11|1980|              4.52|             27.801|                0.31|           657.195|                           0.36|               1.744|             7.515|             46.222|            0.24| 941.4010000000001|                       0.16|           3.92|  6150735.0|11.800999999999998|[11.0,1980.0,4.52...|\n",
            "|7773|             12|1980|             0.034|              0.139|                 0.0|              1.59|                            0.0|0.037000000000000005|             0.035|              0.147|             0.0|             1.611|                        0.0|          33.33|  4157296.0|20.576999999999998|[12.0,1980.0,0.03...|\n",
            "|7774|             13|1980|             6.476|             63.917|                0.71|           1297.35|                           0.71| -4.9510000000000005|            13.663|            134.836|            0.69|          7993.899|                       1.33|          -3.54|  9868999.0| 9.297333333333334|[13.0,1980.0,6.47...|\n",
            "|7775|             14|1980|               0.1|              0.374|                 0.0|5.5329999999999995|                            0.0|               0.113|             0.129|               0.48|             0.0| 5.638999999999999|                        0.0|          30.96|  3717161.0| 27.56433333333333|[14.0,1980.0,0.1,...|\n",
            "|7776|             15|1980|             0.063|0.43200000000000005|                 0.0|             3.653|                            0.0|0.026000000000000002|             0.063|0.43200000000000005|             0.0|             3.653|                        0.0|           6.31|  6822837.0| 28.76683333333333|[15.0,1980.0,0.06...|\n",
            "|7777|             16|1980|              0.06|              4.801|                0.05|            64.506|                           0.04|               0.985|             0.095|              7.597|            0.04|           101.853|                       0.02|          14.89|7.9639498E7| 25.34066666666667|[16.0,1980.0,0.06...|\n",
            "|7778|             17|1980|             3.484|             30.934|                0.35|483.99199999999996|                           0.26| -1.6769999999999998|             8.701|             77.251|             0.4|           1455.99|                       0.24|          -2.13|  8878787.0|          10.03725|[17.0,1980.0,3.48...|\n",
            "|7779|             18|1980|             6.353|              2.286|                0.03|            92.412|                           0.05|              -0.245|            21.899|              7.881|            0.04|           133.553|                       0.02|          -3.02|   359897.0| 26.55733333333333|[18.0,1980.0,6.35...|\n",
            "|7780|             19|1980|            36.798|              7.749|                0.09| 84.87299999999999|                           0.05|               1.056|            37.856|              7.972|            0.04|            89.109|                       0.01|          15.28|   210589.0|          25.50825|[19.0,1980.0,36.7...|\n",
            "|7781|             20|1980|             7.965|              76.22|                0.85|1493.5320000000002|                           0.82|  3.6319999999999997|            10.115|             96.796|             0.5|          1975.817|                       0.33|            3.9|  9569847.0| 4.997166666666667|[20.0,1980.0,7.96...|\n",
            "|7782|             21|1980|1.3219999999999998|              0.191|                 0.0|3.0039999999999996|                            0.0|-0.01800000000000...|1.3219999999999998|              0.191|             0.0|3.0039999999999996|                        0.0|          -8.77|   144142.0|25.672916666666666|[21.0,1980.0,1.32...|\n",
            "+----+---------------+----+------------------+-------------------+--------------------+------------------+-------------------------------+--------------------+------------------+-------------------+----------------+------------------+---------------------------+---------------+-----------+------------------+--------------------+\n",
            "only showing top 20 rows\n",
            "\n"
          ]
        }
      ]
    },
    {
      "cell_type": "code",
      "source": [
        "# split training x, y\n",
        "training_df = training_data.toPandas()\n",
        "training_x = training_df[['iso_code_labels', 'year', 'oil_co2_per_capita', \n",
        "            'oil_co2', 'share_global_oil_co2', 'cumulative_oil_co2',\n",
        "            'share_global_cumulative_oil_co2', 'co2_growth_abs', \n",
        "            'co2_per_capita', 'co2', 'share_global_co2', 'cumulative_co2',\n",
        "            'share_global_cumulative_co2', 'co2_growth_prct', 'population']]\n",
        "training_y = training_df['AvgYearlyTemp']\n",
        "\n",
        "# split validation x, y\n",
        "validation_df = validation_data.toPandas()\n",
        "validation_x = validation_df[['iso_code_labels', 'year', 'oil_co2_per_capita', \n",
        "            'oil_co2', 'share_global_oil_co2', 'cumulative_oil_co2',\n",
        "            'share_global_cumulative_oil_co2', 'co2_growth_abs', \n",
        "            'co2_per_capita', 'co2', 'share_global_co2', 'cumulative_co2',\n",
        "            'share_global_cumulative_co2', 'co2_growth_prct', 'population']]\n",
        "validation_y = validation_df['AvgYearlyTemp']\n",
        "\n",
        "# split test x, y\n",
        "testing_df = testing_data.toPandas()\n",
        "testing_x = testing_df[['iso_code_labels', 'year', 'oil_co2_per_capita', \n",
        "            'oil_co2', 'share_global_oil_co2', 'cumulative_oil_co2',\n",
        "            'share_global_cumulative_oil_co2', 'co2_growth_abs', \n",
        "            'co2_per_capita', 'co2', 'share_global_co2', 'cumulative_co2',\n",
        "            'share_global_cumulative_co2', 'co2_growth_prct', 'population']]\n",
        "testing_y = testing_df['AvgYearlyTemp']"
      ],
      "metadata": {
        "id": "HOpWRWOwJGLh"
      },
      "execution_count": 123,
      "outputs": []
    },
    {
      "cell_type": "code",
      "source": [
        "print(\"training shape:\", training_x.shape, training_y.shape)\n",
        "print(\"validation shape:\", validation_x.shape, validation_y.shape)\n",
        "print(\"testing shape:\", testing_x.shape, testing_y.shape)"
      ],
      "metadata": {
        "colab": {
          "base_uri": "https://localhost:8080/"
        },
        "id": "uw3cARPdLP9A",
        "outputId": "a1b2b04f-0f1e-4779-92a8-3195d97cd2c5"
      },
      "execution_count": 124,
      "outputs": [
        {
          "output_type": "stream",
          "name": "stdout",
          "text": [
            "training shape: (3209, 15) (3209,)\n",
            "validation shape: (4554, 15) (4554,)\n",
            "testing shape: (5688, 15) (5688,)\n"
          ]
        }
      ]
    },
    {
      "cell_type": "code",
      "source": [
        "from sklearn.preprocessing import StandardScaler\n",
        "scaler = StandardScaler()\n",
        "s = pd.concat([training_x, validation_x])\n",
        "scaler.fit(s)\n",
        "scaled_training_x = scaler.transform(training_x)\n",
        "scaled_validation_x = scaler.transform(validation_x)\n",
        "scaled_testing_x = scaler.transform(testing_x)"
      ],
      "metadata": {
        "id": "pp3Vs6rjPXOH"
      },
      "execution_count": 125,
      "outputs": []
    },
    {
      "cell_type": "code",
      "source": [
        "scaled_training_x"
      ],
      "metadata": {
        "colab": {
          "base_uri": "https://localhost:8080/"
        },
        "id": "WY1VKgafXqS5",
        "outputId": "48c115ea-7c60-43fe-b60a-6a6463c2d6b4"
      },
      "execution_count": 130,
      "outputs": [
        {
          "output_type": "execute_result",
          "data": {
            "text/plain": [
              "array([[-0.63842616, -2.78608772, -0.26846311, ...,  4.25625686,\n",
              "        -0.03643425,  0.23970883],\n",
              "       [-0.63842616, -2.75445203, -0.26846311, ...,  4.37593151,\n",
              "        -0.06121392,  0.24089696],\n",
              "       [-0.63842616, -2.72281635, -0.26846311, ...,  4.48420857,\n",
              "        -0.06953219,  0.24208778],\n",
              "       ...,\n",
              "       [ 1.53700608,  0.18766647, -0.26828031, ..., -0.24009074,\n",
              "        -0.07925142, -0.17841017],\n",
              "       [ 1.57766836,  0.18766647, -0.20046185, ...,  0.22151149,\n",
              "        -0.03506247,  0.24117924],\n",
              "       [ 1.61833065,  0.18766647, -0.01857677, ..., -0.21159677,\n",
              "        -0.03552946, -0.19175368]])"
            ]
          },
          "metadata": {},
          "execution_count": 130
        }
      ]
    },
    {
      "cell_type": "code",
      "source": [
        "training_y.values"
      ],
      "metadata": {
        "colab": {
          "base_uri": "https://localhost:8080/"
        },
        "id": "tl7YatWwXy86",
        "outputId": "a32e4661-0364-4ec4-89e5-5f9f51c50436"
      },
      "execution_count": 132,
      "outputs": [
        {
          "output_type": "execute_result",
          "data": {
            "text/plain": [
              "array([11.76358333, 12.61591667, 12.82325   , ..., 22.36491667,\n",
              "        8.23908333, 11.12383333])"
            ]
          },
          "metadata": {},
          "execution_count": 132
        }
      ]
    },
    {
      "cell_type": "markdown",
      "source": [
        "#### Linear Regression"
      ],
      "metadata": {
        "id": "ARlm1so2dEnf"
      }
    },
    {
      "cell_type": "code",
      "source": [
        "from sklearn.linear_model import LinearRegression\n",
        "\n",
        "lr_3 = LinearRegression()\n",
        "lr_3.fit(scaled_training_x, training_y.values)\n",
        "training_accuracy_3 = lr_3.score(scaled_training_x, training_y.values)\n",
        "lr_3.fit(scaled_validation_x, validation_y.values)\n",
        "validation_accuracy_3 = lr_3.score(scaled_validation_x, validation_y.values)\n",
        "lr_3_predictions = lr_3.predict(scaled_testing_x)\n",
        "testing_accuracy_3 = lr_3.score(scaled_testing_x, testing_y)\n",
        "\n",
        "print(\"training accuracy:\", training_accuracy_3)\n",
        "print(\"validation accuracy:\", validation_accuracy_3)\n",
        "print(\"testing accuracy:\", testing_accuracy_3)\n"
      ],
      "metadata": {
        "colab": {
          "base_uri": "https://localhost:8080/"
        },
        "id": "1coQmtFMLzDs",
        "outputId": "0a221a39-b52c-4de3-8e0e-89a299f3b421"
      },
      "execution_count": 138,
      "outputs": [
        {
          "output_type": "stream",
          "name": "stdout",
          "text": [
            "training accuracy: 0.29827341050617384\n",
            "validation accuracy: 0.15231195875044123\n",
            "testing accuracy: -2.7256238003553555\n"
          ]
        }
      ]
    },
    {
      "cell_type": "markdown",
      "source": [
        "#### RandomForestRegression"
      ],
      "metadata": {
        "id": "oXhlHXoVeTZG"
      }
    },
    {
      "cell_type": "code",
      "source": [
        "# from sklearn.model_selection import GridSearchCV\n",
        "\n",
        "# def print_best_params(results):\n",
        "#     print('best_params: {}\\n'.format(results.best_params_))\n",
        "\n",
        "# rf_3 = RandomForestRegressor()\n",
        "# param_grid = { \n",
        "#     'n_estimators': [30, 50, 100],\n",
        "#     'max_depth' : [20, 30, 50]\n",
        "# }\n",
        "# rf_cv = GridSearchCV(rf_3,param_grid)\n",
        "# rf_cv.fit(scaled_training_x, training_y)\n",
        "\n",
        "# print_best_params(rf_cv)"
      ],
      "metadata": {
        "id": "yVmXORq3ZK1R"
      },
      "execution_count": 142,
      "outputs": []
    },
    {
      "cell_type": "code",
      "source": [
        "from sklearn.ensemble import RandomForestRegressor\n",
        "from sklearn.metrics import accuracy_score\n",
        "\n",
        "rf_3 = RandomForestRegressor(max_depth= 50, n_estimators = 50)\n",
        "rf_3.fit(scaled_training_x, training_y)\n",
        "rf_training_accuracy_3 = rf_3.score(scaled_training_x, training_y)\n",
        "rf_3.fit(scaled_validation_x, validation_y)\n",
        "rf_validation_accuracy_3 = rf_3.score(scaled_validation_x, validation_y)\n",
        "rf_testing_predictions_3 = rf_3.predict(scaled_testing_x)\n",
        "rf_testing_accuracy_3 = rf_3.score(scaled_testing_x, testing_y)\n",
        "\n",
        "print(\"training accuracy:\", rf_training_accuracy_3)\n",
        "print(\"validation accuracy:\", rf_validation_accuracy_3)\n",
        "print(\"test accuracy:\", rf_testing_accuracy_3)\n"
      ],
      "metadata": {
        "colab": {
          "base_uri": "https://localhost:8080/"
        },
        "id": "Wp2cXin4YKZf",
        "outputId": "025e9b17-69ec-406e-8b86-5e6f5a8adb3a"
      },
      "execution_count": 149,
      "outputs": [
        {
          "output_type": "stream",
          "name": "stdout",
          "text": [
            "training accuracy: 0.9969426398174606\n",
            "validation accuracy: 0.9957118731379261\n",
            "test accuracy: 0.5029783872176332\n"
          ]
        }
      ]
    },
    {
      "cell_type": "markdown",
      "source": [
        "#### PCA"
      ],
      "metadata": {
        "id": "yek4-GfypfJ9"
      }
    },
    {
      "cell_type": "code",
      "source": [
        "from sklearn.decomposition import PCA\n",
        "pca = PCA(n_components=15)\n",
        "x_train_pca = pca.fit_transform(scaled_training_x)\n",
        "x_test_pca = pca.transform(scaled_testing_x)\n",
        "pca_components = pca.components_\n",
        "\n",
        "# Explained variance\n",
        "np.set_printoptions(suppress=True)\n",
        "pca_ratio = pca.explained_variance_ratio_\n",
        "plt.plot(np.arange(0, 15), np.cumsum(pca.explained_variance_ratio_))\n",
        "plt.plot(np.arange(0, 15), [0.98]*15)\n",
        "plt.show()"
      ],
      "metadata": {
        "colab": {
          "base_uri": "https://localhost:8080/",
          "height": 265
        },
        "id": "D8lOKShSb4ca",
        "outputId": "64af6107-5dbb-4bb0-f019-31e0e8304eba"
      },
      "execution_count": 155,
      "outputs": [
        {
          "output_type": "display_data",
          "data": {
            "image/png": "[encoded data removed]",
            "text/plain": [
              "<Figure size 432x288 with 1 Axes>"
            ]
          },
          "metadata": {
            "needs_background": "light"
          }
        }
      ]
    },
    {
      "cell_type": "code",
      "source": [
        "new_pca = PCA(n_components=8)\n",
        "x_train = new_pca.fit_transform(scaled_training_x)\n",
        "pca_training_accuracy = new_pca.score(scaled_training_x, training_y)\n",
        "x_validate = new_pca.fit_transform(scaled_validation_x, validation_y)\n",
        "pca_validation_accuracy = new_pca.score(scaled_validation_x, validation_y)\n",
        "x_test = new_pca.transform(scaled_testing_x)\n",
        "pca_testing_accuracy = new_pca.score(scaled_testing_x, testing_y)\n",
        "print(pca_training_accuracy)\n",
        "print(pca_validation_accuracy)\n",
        "print(pca_testing_accuracy)"
      ],
      "metadata": {
        "colab": {
          "base_uri": "https://localhost:8080/"
        },
        "id": "cyB0xOAAcbkA",
        "outputId": "f4fb9cb3-99cf-4726-95e7-ef9090a38158"
      },
      "execution_count": 161,
      "outputs": [
        {
          "output_type": "stream",
          "name": "stdout",
          "text": [
            "-11.568632216076203\n",
            "-10.998562307368173\n",
            "-165.07709042433152\n"
          ]
        }
      ]
    },
    {
      "cell_type": "code",
      "source": [
        "pca_training_data = training_data.drop(\"features\")\n",
        "pca_model_3 = pca_pipe.fit(pca_training_data)\n",
        "\n",
        "pca_validation_data = validation_data.drop(\"features\")\n",
        "validation_prediction_3 = pca_model_3.transform(pca_validation_data)\n",
        "\n",
        "pca_testing_data = testing_data.drop(\"features\")\n",
        "test_prediction_3 = pca_model_3.transform(pca_testing_data)\n",
        "validation_pca_3 = evaluator.evaluate(validation_prediction_3, {evaluator.metricName: \"r2\"})\n",
        "test_pca_3 = evaluator.evaluate(test_prediction_3, {evaluator.metricName: \"r2\"})\n",
        "print(\"validation accuracy:\",validation_pca_3)\n",
        "print(\"testing accuracy:\", test_pca_3)"
      ],
      "metadata": {
        "colab": {
          "base_uri": "https://localhost:8080/"
        },
        "id": "mBCyLdqapejj",
        "outputId": "d4b68d5c-5fb7-4c69-a4e8-f87812864426"
      },
      "execution_count": null,
      "outputs": [
        {
          "output_type": "stream",
          "name": "stdout",
          "text": [
            "validation accuracy: -0.6629233963855403\n",
            "testing accuracy: -0.5487738325504703\n"
          ]
        }
      ]
    }
  ]
}