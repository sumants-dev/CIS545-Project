{
 "cells": [
  {
   "cell_type": "markdown",
   "metadata": {
    "colab_type": "text",
    "id": "view-in-github"
   },
   "source": [
    "<a href=\"https://colab.research.google.com/github/sumants-dev/CIS545-Project/blob/main/DataCleaning/Polution_data_cleaning.ipynb\" target=\"_parent\"><img src=\"https://colab.research.google.com/assets/colab-badge.svg\" alt=\"Open In Colab\"/></a>"
   ]
  },
  {
   "cell_type": "markdown",
   "metadata": {
    "id": "_9tZyWsp4bOk"
   },
   "source": [
    "\n",
    "Air Pollution By Country\n",
    "\n",
    "  Date range: 2010 - 2017\n",
    "  \n",
    "  Final dataset is 1352 records\n",
    "\n"
   ]
  },
  {
   "cell_type": "markdown",
   "metadata": {
    "id": "O74HLKAPF8-O"
   },
   "source": [
    "# Importing data and library"
   ]
  },
  {
   "cell_type": "code",
   "execution_count": 2,
   "metadata": {
    "colab": {
     "base_uri": "https://localhost:8080/"
    },
    "id": "j2jqLTNq39r0",
    "outputId": "236514da-71a7-4f69-e0ad-15fcc47a7193"
   },
   "outputs": [
    {
     "name": "stdout",
     "output_type": "stream",
     "text": [
      "Requirement already satisfied: pandasql in /Users/ashleyfchang/opt/anaconda3/envs/cis545/lib/python3.7/site-packages (0.7.3)\n",
      "Requirement already satisfied: numpy in /Users/ashleyfchang/opt/anaconda3/envs/cis545/lib/python3.7/site-packages (from pandasql) (1.21.4)\n",
      "Requirement already satisfied: pandas in /Users/ashleyfchang/opt/anaconda3/envs/cis545/lib/python3.7/site-packages (from pandasql) (1.3.4)\n",
      "Requirement already satisfied: sqlalchemy in /Users/ashleyfchang/opt/anaconda3/envs/cis545/lib/python3.7/site-packages (from pandasql) (1.4.28)\n",
      "Requirement already satisfied: pytz>=2017.3 in /Users/ashleyfchang/opt/anaconda3/envs/cis545/lib/python3.7/site-packages (from pandas->pandasql) (2021.3)\n",
      "Requirement already satisfied: python-dateutil>=2.7.3 in /Users/ashleyfchang/opt/anaconda3/envs/cis545/lib/python3.7/site-packages (from pandas->pandasql) (2.8.2)\n",
      "Requirement already satisfied: six>=1.5 in /Users/ashleyfchang/opt/anaconda3/envs/cis545/lib/python3.7/site-packages (from python-dateutil>=2.7.3->pandas->pandasql) (1.16.0)\n",
      "Requirement already satisfied: importlib-metadata in /Users/ashleyfchang/opt/anaconda3/envs/cis545/lib/python3.7/site-packages (from sqlalchemy->pandasql) (4.8.2)\n",
      "Requirement already satisfied: greenlet!=0.4.17 in /Users/ashleyfchang/opt/anaconda3/envs/cis545/lib/python3.7/site-packages (from sqlalchemy->pandasql) (1.1.2)\n",
      "Requirement already satisfied: typing-extensions>=3.6.4 in /Users/ashleyfchang/opt/anaconda3/envs/cis545/lib/python3.7/site-packages (from importlib-metadata->sqlalchemy->pandasql) (4.0.1)\n",
      "Requirement already satisfied: zipp>=0.5 in /Users/ashleyfchang/opt/anaconda3/envs/cis545/lib/python3.7/site-packages (from importlib-metadata->sqlalchemy->pandasql) (3.6.0)\n",
      "Requirement already satisfied: pandas in /Users/ashleyfchang/opt/anaconda3/envs/cis545/lib/python3.7/site-packages (1.3.4)\n",
      "Requirement already satisfied: pytz>=2017.3 in /Users/ashleyfchang/opt/anaconda3/envs/cis545/lib/python3.7/site-packages (from pandas) (2021.3)\n",
      "Requirement already satisfied: python-dateutil>=2.7.3 in /Users/ashleyfchang/opt/anaconda3/envs/cis545/lib/python3.7/site-packages (from pandas) (2.8.2)\n",
      "Requirement already satisfied: numpy>=1.17.3 in /Users/ashleyfchang/opt/anaconda3/envs/cis545/lib/python3.7/site-packages (from pandas) (1.21.4)\n",
      "Requirement already satisfied: six>=1.5 in /Users/ashleyfchang/opt/anaconda3/envs/cis545/lib/python3.7/site-packages (from python-dateutil>=2.7.3->pandas) (1.16.0)\n",
      "Requirement already satisfied: requests in /Users/ashleyfchang/opt/anaconda3/envs/cis545/lib/python3.7/site-packages (2.26.0)\n",
      "Requirement already satisfied: idna<4,>=2.5 in /Users/ashleyfchang/opt/anaconda3/envs/cis545/lib/python3.7/site-packages (from requests) (3.1)\n",
      "Requirement already satisfied: urllib3<1.27,>=1.21.1 in /Users/ashleyfchang/opt/anaconda3/envs/cis545/lib/python3.7/site-packages (from requests) (1.26.7)\n",
      "Requirement already satisfied: charset-normalizer~=2.0.0 in /Users/ashleyfchang/opt/anaconda3/envs/cis545/lib/python3.7/site-packages (from requests) (2.0.9)\n",
      "Requirement already satisfied: certifi>=2017.4.17 in /Users/ashleyfchang/opt/anaconda3/envs/cis545/lib/python3.7/site-packages (from requests) (2021.10.8)\n",
      "Requirement already satisfied: lxml in /Users/ashleyfchang/opt/anaconda3/envs/cis545/lib/python3.7/site-packages (4.6.4)\n",
      "Requirement already satisfied: nltk in /Users/ashleyfchang/opt/anaconda3/envs/cis545/lib/python3.7/site-packages (3.6.5)\n",
      "Requirement already satisfied: click in /Users/ashleyfchang/opt/anaconda3/envs/cis545/lib/python3.7/site-packages (from nltk) (8.0.3)\n",
      "Requirement already satisfied: tqdm in /Users/ashleyfchang/opt/anaconda3/envs/cis545/lib/python3.7/site-packages (from nltk) (4.62.3)\n",
      "Requirement already satisfied: regex>=2021.8.3 in /Users/ashleyfchang/opt/anaconda3/envs/cis545/lib/python3.7/site-packages (from nltk) (2021.11.10)\n",
      "Requirement already satisfied: joblib in /Users/ashleyfchang/opt/anaconda3/envs/cis545/lib/python3.7/site-packages (from nltk) (1.1.0)\n",
      "Requirement already satisfied: importlib-metadata in /Users/ashleyfchang/opt/anaconda3/envs/cis545/lib/python3.7/site-packages (from click->nltk) (4.8.2)\n",
      "Requirement already satisfied: typing-extensions>=3.6.4 in /Users/ashleyfchang/opt/anaconda3/envs/cis545/lib/python3.7/site-packages (from importlib-metadata->click->nltk) (4.0.1)\n",
      "Requirement already satisfied: zipp>=0.5 in /Users/ashleyfchang/opt/anaconda3/envs/cis545/lib/python3.7/site-packages (from importlib-metadata->click->nltk) (3.6.0)\n"
     ]
    }
   ],
   "source": [
    "!pip install pandasql\n",
    "!pip install pandas\n",
    "!pip install requests\n",
    "!pip install lxml\n",
    "!pip install nltk"
   ]
  },
  {
   "cell_type": "code",
   "execution_count": 3,
   "metadata": {
    "id": "Tr7ssJ-rsSBC"
   },
   "outputs": [],
   "source": [
    "# Imports\n",
    "import pandas as pd\n",
    "import pandasql as psql\n",
    "from lxml import html\n",
    "import requests\n",
    "import nltk"
   ]
  },
  {
   "cell_type": "code",
   "execution_count": 4,
   "metadata": {
    "id": "sNGOaWR3Img1"
   },
   "outputs": [
    {
     "ename": "FileNotFoundError",
     "evalue": "[Errno 2] No such file or directory: '../Data/PM2.5 Global Air Pollution 2010-2017.csv'",
     "output_type": "error",
     "traceback": [
      "\u001b[0;31m---------------------------------------------------------------------------\u001b[0m",
      "\u001b[0;31mFileNotFoundError\u001b[0m                         Traceback (most recent call last)",
      "\u001b[0;32m/var/folders/1l/w4y7yw0d3696kyv235sfd3hw0000gn/T/ipykernel_13445/3752776593.py\u001b[0m in \u001b[0;36m<module>\u001b[0;34m\u001b[0m\n\u001b[0;32m----> 1\u001b[0;31m \u001b[0mair_polution_pd\u001b[0m \u001b[0;34m=\u001b[0m \u001b[0mpd\u001b[0m\u001b[0;34m.\u001b[0m\u001b[0mread_csv\u001b[0m\u001b[0;34m(\u001b[0m\u001b[0;34m\"../Data/PM2.5 Global Air Pollution 2010-2017.csv\"\u001b[0m\u001b[0;34m)\u001b[0m\u001b[0;34m\u001b[0m\u001b[0;34m\u001b[0m\u001b[0m\n\u001b[0m\u001b[1;32m      2\u001b[0m \u001b[0mair_polution_death_pd\u001b[0m \u001b[0;34m=\u001b[0m \u001b[0mpd\u001b[0m\u001b[0;34m.\u001b[0m\u001b[0mread_csv\u001b[0m\u001b[0;34m(\u001b[0m\u001b[0;34m\"../Data/death-rates-from-air-pollution.csv\"\u001b[0m\u001b[0;34m)\u001b[0m\u001b[0;34m\u001b[0m\u001b[0;34m\u001b[0m\u001b[0m\n\u001b[1;32m      3\u001b[0m \u001b[0mcities_air_polution_pd\u001b[0m \u001b[0;34m=\u001b[0m \u001b[0mpd\u001b[0m\u001b[0;34m.\u001b[0m\u001b[0mread_csv\u001b[0m\u001b[0;34m(\u001b[0m\u001b[0;34m\"../Data/cities_air_quality_water_pollution.18-10-2021.csv\"\u001b[0m\u001b[0;34m)\u001b[0m\u001b[0;34m\u001b[0m\u001b[0;34m\u001b[0m\u001b[0m\n",
      "\u001b[0;32m~/opt/anaconda3/envs/cis545/lib/python3.7/site-packages/pandas/util/_decorators.py\u001b[0m in \u001b[0;36mwrapper\u001b[0;34m(*args, **kwargs)\u001b[0m\n\u001b[1;32m    309\u001b[0m                     \u001b[0mstacklevel\u001b[0m\u001b[0;34m=\u001b[0m\u001b[0mstacklevel\u001b[0m\u001b[0;34m,\u001b[0m\u001b[0;34m\u001b[0m\u001b[0;34m\u001b[0m\u001b[0m\n\u001b[1;32m    310\u001b[0m                 )\n\u001b[0;32m--> 311\u001b[0;31m             \u001b[0;32mreturn\u001b[0m \u001b[0mfunc\u001b[0m\u001b[0;34m(\u001b[0m\u001b[0;34m*\u001b[0m\u001b[0margs\u001b[0m\u001b[0;34m,\u001b[0m \u001b[0;34m**\u001b[0m\u001b[0mkwargs\u001b[0m\u001b[0;34m)\u001b[0m\u001b[0;34m\u001b[0m\u001b[0;34m\u001b[0m\u001b[0m\n\u001b[0m\u001b[1;32m    312\u001b[0m \u001b[0;34m\u001b[0m\u001b[0m\n\u001b[1;32m    313\u001b[0m         \u001b[0;32mreturn\u001b[0m \u001b[0mwrapper\u001b[0m\u001b[0;34m\u001b[0m\u001b[0;34m\u001b[0m\u001b[0m\n",
      "\u001b[0;32m~/opt/anaconda3/envs/cis545/lib/python3.7/site-packages/pandas/io/parsers/readers.py\u001b[0m in \u001b[0;36mread_csv\u001b[0;34m(filepath_or_buffer, sep, delimiter, header, names, index_col, usecols, squeeze, prefix, mangle_dupe_cols, dtype, engine, converters, true_values, false_values, skipinitialspace, skiprows, skipfooter, nrows, na_values, keep_default_na, na_filter, verbose, skip_blank_lines, parse_dates, infer_datetime_format, keep_date_col, date_parser, dayfirst, cache_dates, iterator, chunksize, compression, thousands, decimal, lineterminator, quotechar, quoting, doublequote, escapechar, comment, encoding, encoding_errors, dialect, error_bad_lines, warn_bad_lines, on_bad_lines, delim_whitespace, low_memory, memory_map, float_precision, storage_options)\u001b[0m\n\u001b[1;32m    584\u001b[0m     \u001b[0mkwds\u001b[0m\u001b[0;34m.\u001b[0m\u001b[0mupdate\u001b[0m\u001b[0;34m(\u001b[0m\u001b[0mkwds_defaults\u001b[0m\u001b[0;34m)\u001b[0m\u001b[0;34m\u001b[0m\u001b[0;34m\u001b[0m\u001b[0m\n\u001b[1;32m    585\u001b[0m \u001b[0;34m\u001b[0m\u001b[0m\n\u001b[0;32m--> 586\u001b[0;31m     \u001b[0;32mreturn\u001b[0m \u001b[0m_read\u001b[0m\u001b[0;34m(\u001b[0m\u001b[0mfilepath_or_buffer\u001b[0m\u001b[0;34m,\u001b[0m \u001b[0mkwds\u001b[0m\u001b[0;34m)\u001b[0m\u001b[0;34m\u001b[0m\u001b[0;34m\u001b[0m\u001b[0m\n\u001b[0m\u001b[1;32m    587\u001b[0m \u001b[0;34m\u001b[0m\u001b[0m\n\u001b[1;32m    588\u001b[0m \u001b[0;34m\u001b[0m\u001b[0m\n",
      "\u001b[0;32m~/opt/anaconda3/envs/cis545/lib/python3.7/site-packages/pandas/io/parsers/readers.py\u001b[0m in \u001b[0;36m_read\u001b[0;34m(filepath_or_buffer, kwds)\u001b[0m\n\u001b[1;32m    480\u001b[0m \u001b[0;34m\u001b[0m\u001b[0m\n\u001b[1;32m    481\u001b[0m     \u001b[0;31m# Create the parser.\u001b[0m\u001b[0;34m\u001b[0m\u001b[0;34m\u001b[0m\u001b[0;34m\u001b[0m\u001b[0m\n\u001b[0;32m--> 482\u001b[0;31m     \u001b[0mparser\u001b[0m \u001b[0;34m=\u001b[0m \u001b[0mTextFileReader\u001b[0m\u001b[0;34m(\u001b[0m\u001b[0mfilepath_or_buffer\u001b[0m\u001b[0;34m,\u001b[0m \u001b[0;34m**\u001b[0m\u001b[0mkwds\u001b[0m\u001b[0;34m)\u001b[0m\u001b[0;34m\u001b[0m\u001b[0;34m\u001b[0m\u001b[0m\n\u001b[0m\u001b[1;32m    483\u001b[0m \u001b[0;34m\u001b[0m\u001b[0m\n\u001b[1;32m    484\u001b[0m     \u001b[0;32mif\u001b[0m \u001b[0mchunksize\u001b[0m \u001b[0;32mor\u001b[0m \u001b[0miterator\u001b[0m\u001b[0;34m:\u001b[0m\u001b[0;34m\u001b[0m\u001b[0;34m\u001b[0m\u001b[0m\n",
      "\u001b[0;32m~/opt/anaconda3/envs/cis545/lib/python3.7/site-packages/pandas/io/parsers/readers.py\u001b[0m in \u001b[0;36m__init__\u001b[0;34m(self, f, engine, **kwds)\u001b[0m\n\u001b[1;32m    809\u001b[0m             \u001b[0mself\u001b[0m\u001b[0;34m.\u001b[0m\u001b[0moptions\u001b[0m\u001b[0;34m[\u001b[0m\u001b[0;34m\"has_index_names\"\u001b[0m\u001b[0;34m]\u001b[0m \u001b[0;34m=\u001b[0m \u001b[0mkwds\u001b[0m\u001b[0;34m[\u001b[0m\u001b[0;34m\"has_index_names\"\u001b[0m\u001b[0;34m]\u001b[0m\u001b[0;34m\u001b[0m\u001b[0;34m\u001b[0m\u001b[0m\n\u001b[1;32m    810\u001b[0m \u001b[0;34m\u001b[0m\u001b[0m\n\u001b[0;32m--> 811\u001b[0;31m         \u001b[0mself\u001b[0m\u001b[0;34m.\u001b[0m\u001b[0m_engine\u001b[0m \u001b[0;34m=\u001b[0m \u001b[0mself\u001b[0m\u001b[0;34m.\u001b[0m\u001b[0m_make_engine\u001b[0m\u001b[0;34m(\u001b[0m\u001b[0mself\u001b[0m\u001b[0;34m.\u001b[0m\u001b[0mengine\u001b[0m\u001b[0;34m)\u001b[0m\u001b[0;34m\u001b[0m\u001b[0;34m\u001b[0m\u001b[0m\n\u001b[0m\u001b[1;32m    812\u001b[0m \u001b[0;34m\u001b[0m\u001b[0m\n\u001b[1;32m    813\u001b[0m     \u001b[0;32mdef\u001b[0m \u001b[0mclose\u001b[0m\u001b[0;34m(\u001b[0m\u001b[0mself\u001b[0m\u001b[0;34m)\u001b[0m\u001b[0;34m:\u001b[0m\u001b[0;34m\u001b[0m\u001b[0;34m\u001b[0m\u001b[0m\n",
      "\u001b[0;32m~/opt/anaconda3/envs/cis545/lib/python3.7/site-packages/pandas/io/parsers/readers.py\u001b[0m in \u001b[0;36m_make_engine\u001b[0;34m(self, engine)\u001b[0m\n\u001b[1;32m   1038\u001b[0m             )\n\u001b[1;32m   1039\u001b[0m         \u001b[0;31m# error: Too many arguments for \"ParserBase\"\u001b[0m\u001b[0;34m\u001b[0m\u001b[0;34m\u001b[0m\u001b[0;34m\u001b[0m\u001b[0m\n\u001b[0;32m-> 1040\u001b[0;31m         \u001b[0;32mreturn\u001b[0m \u001b[0mmapping\u001b[0m\u001b[0;34m[\u001b[0m\u001b[0mengine\u001b[0m\u001b[0;34m]\u001b[0m\u001b[0;34m(\u001b[0m\u001b[0mself\u001b[0m\u001b[0;34m.\u001b[0m\u001b[0mf\u001b[0m\u001b[0;34m,\u001b[0m \u001b[0;34m**\u001b[0m\u001b[0mself\u001b[0m\u001b[0;34m.\u001b[0m\u001b[0moptions\u001b[0m\u001b[0;34m)\u001b[0m  \u001b[0;31m# type: ignore[call-arg]\u001b[0m\u001b[0;34m\u001b[0m\u001b[0;34m\u001b[0m\u001b[0m\n\u001b[0m\u001b[1;32m   1041\u001b[0m \u001b[0;34m\u001b[0m\u001b[0m\n\u001b[1;32m   1042\u001b[0m     \u001b[0;32mdef\u001b[0m \u001b[0m_failover_to_python\u001b[0m\u001b[0;34m(\u001b[0m\u001b[0mself\u001b[0m\u001b[0;34m)\u001b[0m\u001b[0;34m:\u001b[0m\u001b[0;34m\u001b[0m\u001b[0;34m\u001b[0m\u001b[0m\n",
      "\u001b[0;32m~/opt/anaconda3/envs/cis545/lib/python3.7/site-packages/pandas/io/parsers/c_parser_wrapper.py\u001b[0m in \u001b[0;36m__init__\u001b[0;34m(self, src, **kwds)\u001b[0m\n\u001b[1;32m     49\u001b[0m \u001b[0;34m\u001b[0m\u001b[0m\n\u001b[1;32m     50\u001b[0m         \u001b[0;31m# open handles\u001b[0m\u001b[0;34m\u001b[0m\u001b[0;34m\u001b[0m\u001b[0;34m\u001b[0m\u001b[0m\n\u001b[0;32m---> 51\u001b[0;31m         \u001b[0mself\u001b[0m\u001b[0;34m.\u001b[0m\u001b[0m_open_handles\u001b[0m\u001b[0;34m(\u001b[0m\u001b[0msrc\u001b[0m\u001b[0;34m,\u001b[0m \u001b[0mkwds\u001b[0m\u001b[0;34m)\u001b[0m\u001b[0;34m\u001b[0m\u001b[0;34m\u001b[0m\u001b[0m\n\u001b[0m\u001b[1;32m     52\u001b[0m         \u001b[0;32massert\u001b[0m \u001b[0mself\u001b[0m\u001b[0;34m.\u001b[0m\u001b[0mhandles\u001b[0m \u001b[0;32mis\u001b[0m \u001b[0;32mnot\u001b[0m \u001b[0;32mNone\u001b[0m\u001b[0;34m\u001b[0m\u001b[0;34m\u001b[0m\u001b[0m\n\u001b[1;32m     53\u001b[0m \u001b[0;34m\u001b[0m\u001b[0m\n",
      "\u001b[0;32m~/opt/anaconda3/envs/cis545/lib/python3.7/site-packages/pandas/io/parsers/base_parser.py\u001b[0m in \u001b[0;36m_open_handles\u001b[0;34m(self, src, kwds)\u001b[0m\n\u001b[1;32m    227\u001b[0m             \u001b[0mmemory_map\u001b[0m\u001b[0;34m=\u001b[0m\u001b[0mkwds\u001b[0m\u001b[0;34m.\u001b[0m\u001b[0mget\u001b[0m\u001b[0;34m(\u001b[0m\u001b[0;34m\"memory_map\"\u001b[0m\u001b[0;34m,\u001b[0m \u001b[0;32mFalse\u001b[0m\u001b[0;34m)\u001b[0m\u001b[0;34m,\u001b[0m\u001b[0;34m\u001b[0m\u001b[0;34m\u001b[0m\u001b[0m\n\u001b[1;32m    228\u001b[0m             \u001b[0mstorage_options\u001b[0m\u001b[0;34m=\u001b[0m\u001b[0mkwds\u001b[0m\u001b[0;34m.\u001b[0m\u001b[0mget\u001b[0m\u001b[0;34m(\u001b[0m\u001b[0;34m\"storage_options\"\u001b[0m\u001b[0;34m,\u001b[0m \u001b[0;32mNone\u001b[0m\u001b[0;34m)\u001b[0m\u001b[0;34m,\u001b[0m\u001b[0;34m\u001b[0m\u001b[0;34m\u001b[0m\u001b[0m\n\u001b[0;32m--> 229\u001b[0;31m             \u001b[0merrors\u001b[0m\u001b[0;34m=\u001b[0m\u001b[0mkwds\u001b[0m\u001b[0;34m.\u001b[0m\u001b[0mget\u001b[0m\u001b[0;34m(\u001b[0m\u001b[0;34m\"encoding_errors\"\u001b[0m\u001b[0;34m,\u001b[0m \u001b[0;34m\"strict\"\u001b[0m\u001b[0;34m)\u001b[0m\u001b[0;34m,\u001b[0m\u001b[0;34m\u001b[0m\u001b[0;34m\u001b[0m\u001b[0m\n\u001b[0m\u001b[1;32m    230\u001b[0m         )\n\u001b[1;32m    231\u001b[0m \u001b[0;34m\u001b[0m\u001b[0m\n",
      "\u001b[0;32m~/opt/anaconda3/envs/cis545/lib/python3.7/site-packages/pandas/io/common.py\u001b[0m in \u001b[0;36mget_handle\u001b[0;34m(path_or_buf, mode, encoding, compression, memory_map, is_text, errors, storage_options)\u001b[0m\n\u001b[1;32m    705\u001b[0m                 \u001b[0mencoding\u001b[0m\u001b[0;34m=\u001b[0m\u001b[0mioargs\u001b[0m\u001b[0;34m.\u001b[0m\u001b[0mencoding\u001b[0m\u001b[0;34m,\u001b[0m\u001b[0;34m\u001b[0m\u001b[0;34m\u001b[0m\u001b[0m\n\u001b[1;32m    706\u001b[0m                 \u001b[0merrors\u001b[0m\u001b[0;34m=\u001b[0m\u001b[0merrors\u001b[0m\u001b[0;34m,\u001b[0m\u001b[0;34m\u001b[0m\u001b[0;34m\u001b[0m\u001b[0m\n\u001b[0;32m--> 707\u001b[0;31m                 \u001b[0mnewline\u001b[0m\u001b[0;34m=\u001b[0m\u001b[0;34m\"\"\u001b[0m\u001b[0;34m,\u001b[0m\u001b[0;34m\u001b[0m\u001b[0;34m\u001b[0m\u001b[0m\n\u001b[0m\u001b[1;32m    708\u001b[0m             )\n\u001b[1;32m    709\u001b[0m         \u001b[0;32melse\u001b[0m\u001b[0;34m:\u001b[0m\u001b[0;34m\u001b[0m\u001b[0;34m\u001b[0m\u001b[0m\n",
      "\u001b[0;31mFileNotFoundError\u001b[0m: [Errno 2] No such file or directory: '../Data/PM2.5 Global Air Pollution 2010-2017.csv'"
     ]
    }
   ],
   "source": [
    "air_polution_pd = pd.read_csv(\"../Data/PM2.5 Global Air Pollution 2010-2017.csv\")\n",
    "air_polution_death_pd = pd.read_csv(\"../Data/death-rates-from-air-pollution.csv\")\n",
    "cities_air_polution_pd = pd.read_csv(\"../Data/cities_air_quality_water_pollution.18-10-2021.csv\")"
   ]
  },
  {
   "cell_type": "markdown",
   "metadata": {
    "id": "7REU4nXlF4OG"
   },
   "source": [
    "# Air polution dataset data cleaning and wrangling"
   ]
  },
  {
   "cell_type": "markdown",
   "metadata": {
    "id": "VKeSkDSjH_BG"
   },
   "source": [
    "Overall goals of data cleaning includes: \n",
    "\n",
    "\n",
    "*   Extract a standardlized date range and group the data by year and month \n",
    "*   Ensure consist country data format by updating country to include ISO ; https://en.wikipedia.org/wiki/List_of_ISO_3166_country_codes (3-alpha code)\n",
    "*   Drop columns that are not needed for analysis \n",
    "*   Drop any rows that have nulls \n",
    "*   Export cleaned dataset\n",
    "\n",
    "\n"
   ]
  },
  {
   "cell_type": "markdown",
   "metadata": {
    "id": "sfahcsU9uNZX"
   },
   "source": [
    "# Extraction of standardlize country codes"
   ]
  },
  {
   "cell_type": "markdown",
   "metadata": {
    "id": "OgRrLssguKvk"
   },
   "source": [
    "We extract the country name to country code mapping through wikipedia. Our approach is to make a request to the wikipedia page, and then use xpath to find the list of country names and country code."
   ]
  },
  {
   "cell_type": "code",
   "execution_count": null,
   "metadata": {
    "id": "QTW3fbp4uIIR"
   },
   "outputs": [],
   "source": [
    "def get_country_codes():\n",
    "    wiki = requests.get(\"https://en.wikipedia.org/wiki/ISO_3166-1_alpha-3\")\n",
    "    dom_tree = html.fromstring(wiki.content)\n",
    "    xpath = \"//div[@class=\\\"plainlist\\\"]/ul/li\"\n",
    "    country_list  = dom_tree.xpath(xpath)\n",
    "    country_map = {}\n",
    "\n",
    "    for country_elem in country_list:\n",
    "        country_map[country_elem[2].text] = country_elem[1].text\n",
    "\n",
    "    return country_map\n",
    "\n",
    "        \n",
    "def set_country_value(df):\n",
    "    country_to_code = get_country_codes()\n",
    "    #df[\"Country\"] = df['Country Name'].apply(lambda elem: country_to_code.get(elem))\n",
    "    df.insert(0, 'iso_code',df['Country Name'].apply(lambda elem: country_to_code.get(elem)) )\n",
    "    return df"
   ]
  },
  {
   "cell_type": "code",
   "execution_count": 17,
   "metadata": {
    "id": "xbSzEmx2zisG"
   },
   "outputs": [],
   "source": [
    "air_polution_pd = set_country_value(air_polution_pd)"
   ]
  },
  {
   "cell_type": "markdown",
   "metadata": {
    "id": "BFNij9cAvLWr"
   },
   "source": [
    "# Initial cleaning"
   ]
  },
  {
   "cell_type": "markdown",
   "metadata": {
    "id": "UCevp5-hunmE"
   },
   "source": [
    "First, we will print the initial dataframe to understand the shape of the data we are working with. "
   ]
  },
  {
   "cell_type": "code",
   "execution_count": 18,
   "metadata": {
    "colab": {
     "base_uri": "https://localhost:8080/",
     "height": 204
    },
    "id": "Nkczt5pMunJF",
    "outputId": "bf03c7e1-6ff6-45f0-9b67-45b00d025cbb"
   },
   "outputs": [
    {
     "data": {
      "text/html": [
       "<div>\n",
       "<style scoped>\n",
       "    .dataframe tbody tr th:only-of-type {\n",
       "        vertical-align: middle;\n",
       "    }\n",
       "\n",
       "    .dataframe tbody tr th {\n",
       "        vertical-align: top;\n",
       "    }\n",
       "\n",
       "    .dataframe thead th {\n",
       "        text-align: right;\n",
       "    }\n",
       "</style>\n",
       "<table border=\"1\" class=\"dataframe\">\n",
       "  <thead>\n",
       "    <tr style=\"text-align: right;\">\n",
       "      <th></th>\n",
       "      <th>iso_code</th>\n",
       "      <th>Country Name</th>\n",
       "      <th>Country Code</th>\n",
       "      <th>2010</th>\n",
       "      <th>2011</th>\n",
       "      <th>2012</th>\n",
       "      <th>2013</th>\n",
       "      <th>2014</th>\n",
       "      <th>2015</th>\n",
       "      <th>2016</th>\n",
       "      <th>2017</th>\n",
       "    </tr>\n",
       "  </thead>\n",
       "  <tbody>\n",
       "    <tr>\n",
       "      <th>0</th>\n",
       "      <td>AFG</td>\n",
       "      <td>Afghanistan</td>\n",
       "      <td>AFG</td>\n",
       "      <td>65.245592</td>\n",
       "      <td>66.835727</td>\n",
       "      <td>66.023174</td>\n",
       "      <td>61.366745</td>\n",
       "      <td>59.010330</td>\n",
       "      <td>61.252656</td>\n",
       "      <td>56.287047</td>\n",
       "      <td>56.910808</td>\n",
       "    </tr>\n",
       "    <tr>\n",
       "      <th>1</th>\n",
       "      <td>AGO</td>\n",
       "      <td>Angola</td>\n",
       "      <td>AGO</td>\n",
       "      <td>33.787247</td>\n",
       "      <td>33.104195</td>\n",
       "      <td>33.415495</td>\n",
       "      <td>34.663923</td>\n",
       "      <td>32.974025</td>\n",
       "      <td>32.729873</td>\n",
       "      <td>31.785389</td>\n",
       "      <td>32.388505</td>\n",
       "    </tr>\n",
       "    <tr>\n",
       "      <th>2</th>\n",
       "      <td>ALB</td>\n",
       "      <td>Albania</td>\n",
       "      <td>ALB</td>\n",
       "      <td>21.277828</td>\n",
       "      <td>22.772537</td>\n",
       "      <td>20.578259</td>\n",
       "      <td>19.938517</td>\n",
       "      <td>18.883955</td>\n",
       "      <td>19.512540</td>\n",
       "      <td>18.189934</td>\n",
       "      <td>18.200603</td>\n",
       "    </tr>\n",
       "    <tr>\n",
       "      <th>3</th>\n",
       "      <td>AND</td>\n",
       "      <td>Andorra</td>\n",
       "      <td>AND</td>\n",
       "      <td>12.807198</td>\n",
       "      <td>13.273506</td>\n",
       "      <td>12.407053</td>\n",
       "      <td>11.813673</td>\n",
       "      <td>10.830418</td>\n",
       "      <td>11.462178</td>\n",
       "      <td>10.255834</td>\n",
       "      <td>10.307621</td>\n",
       "    </tr>\n",
       "    <tr>\n",
       "      <th>4</th>\n",
       "      <td>None</td>\n",
       "      <td>Arab World</td>\n",
       "      <td>ARB</td>\n",
       "      <td>53.787001</td>\n",
       "      <td>52.652279</td>\n",
       "      <td>53.297270</td>\n",
       "      <td>54.053822</td>\n",
       "      <td>52.583603</td>\n",
       "      <td>60.406813</td>\n",
       "      <td>58.764905</td>\n",
       "      <td>58.689259</td>\n",
       "    </tr>\n",
       "  </tbody>\n",
       "</table>\n",
       "</div>"
      ],
      "text/plain": [
       "  iso_code Country Name Country Code  ...       2015       2016       2017\n",
       "0      AFG  Afghanistan          AFG  ...  61.252656  56.287047  56.910808\n",
       "1      AGO       Angola          AGO  ...  32.729873  31.785389  32.388505\n",
       "2      ALB      Albania          ALB  ...  19.512540  18.189934  18.200603\n",
       "3      AND      Andorra          AND  ...  11.462178  10.255834  10.307621\n",
       "4     None   Arab World          ARB  ...  60.406813  58.764905  58.689259\n",
       "\n",
       "[5 rows x 11 columns]"
      ]
     },
     "execution_count": 18,
     "metadata": {},
     "output_type": "execute_result"
    }
   ],
   "source": [
    "air_polution_pd.head(5)"
   ]
  },
  {
   "cell_type": "markdown",
   "metadata": {
    "id": "lruHWsMWvlIW"
   },
   "source": [
    "The next step we will use Pandas describe function to understand our dataset a bit further. \n",
    "\n",
    "\n",
    "*   The data set consist of 240 countries data in air pollution between 2010 to 2017 \n",
    "*   There are no country missing a data record between 2010 to 2017, since 2010 - 2017 all have 240 count of records \n",
    "\n"
   ]
  },
  {
   "cell_type": "code",
   "execution_count": 19,
   "metadata": {
    "colab": {
     "base_uri": "https://localhost:8080/",
     "height": 297
    },
    "id": "kcYSsO8wvbC2",
    "outputId": "20559f4a-de8d-4e25-9cd1-1cbd89819dd8"
   },
   "outputs": [
    {
     "data": {
      "text/html": [
       "<div>\n",
       "<style scoped>\n",
       "    .dataframe tbody tr th:only-of-type {\n",
       "        vertical-align: middle;\n",
       "    }\n",
       "\n",
       "    .dataframe tbody tr th {\n",
       "        vertical-align: top;\n",
       "    }\n",
       "\n",
       "    .dataframe thead th {\n",
       "        text-align: right;\n",
       "    }\n",
       "</style>\n",
       "<table border=\"1\" class=\"dataframe\">\n",
       "  <thead>\n",
       "    <tr style=\"text-align: right;\">\n",
       "      <th></th>\n",
       "      <th>2010</th>\n",
       "      <th>2011</th>\n",
       "      <th>2012</th>\n",
       "      <th>2013</th>\n",
       "      <th>2014</th>\n",
       "      <th>2015</th>\n",
       "      <th>2016</th>\n",
       "      <th>2017</th>\n",
       "    </tr>\n",
       "  </thead>\n",
       "  <tbody>\n",
       "    <tr>\n",
       "      <th>count</th>\n",
       "      <td>240.000000</td>\n",
       "      <td>240.000000</td>\n",
       "      <td>240.000000</td>\n",
       "      <td>240.000000</td>\n",
       "      <td>240.000000</td>\n",
       "      <td>240.000000</td>\n",
       "      <td>240.000000</td>\n",
       "      <td>240.000000</td>\n",
       "    </tr>\n",
       "    <tr>\n",
       "      <th>mean</th>\n",
       "      <td>30.872419</td>\n",
       "      <td>31.131758</td>\n",
       "      <td>30.340594</td>\n",
       "      <td>29.790453</td>\n",
       "      <td>28.683781</td>\n",
       "      <td>30.579904</td>\n",
       "      <td>29.161746</td>\n",
       "      <td>29.292363</td>\n",
       "    </tr>\n",
       "    <tr>\n",
       "      <th>std</th>\n",
       "      <td>17.978061</td>\n",
       "      <td>17.942650</td>\n",
       "      <td>17.787894</td>\n",
       "      <td>17.732915</td>\n",
       "      <td>17.165262</td>\n",
       "      <td>19.577582</td>\n",
       "      <td>19.034549</td>\n",
       "      <td>19.320528</td>\n",
       "    </tr>\n",
       "    <tr>\n",
       "      <th>min</th>\n",
       "      <td>7.152866</td>\n",
       "      <td>7.283700</td>\n",
       "      <td>6.601134</td>\n",
       "      <td>6.278689</td>\n",
       "      <td>6.180830</td>\n",
       "      <td>6.063834</td>\n",
       "      <td>5.893757</td>\n",
       "      <td>5.861331</td>\n",
       "    </tr>\n",
       "    <tr>\n",
       "      <th>25%</th>\n",
       "      <td>17.043463</td>\n",
       "      <td>17.362182</td>\n",
       "      <td>16.255018</td>\n",
       "      <td>15.809037</td>\n",
       "      <td>15.171312</td>\n",
       "      <td>15.513597</td>\n",
       "      <td>14.489949</td>\n",
       "      <td>14.572962</td>\n",
       "    </tr>\n",
       "    <tr>\n",
       "      <th>50%</th>\n",
       "      <td>27.004787</td>\n",
       "      <td>27.453521</td>\n",
       "      <td>25.948751</td>\n",
       "      <td>25.442579</td>\n",
       "      <td>24.193790</td>\n",
       "      <td>24.441082</td>\n",
       "      <td>23.079150</td>\n",
       "      <td>22.874830</td>\n",
       "    </tr>\n",
       "    <tr>\n",
       "      <th>75%</th>\n",
       "      <td>39.433401</td>\n",
       "      <td>40.142818</td>\n",
       "      <td>40.863400</td>\n",
       "      <td>40.343259</td>\n",
       "      <td>39.552618</td>\n",
       "      <td>43.850369</td>\n",
       "      <td>40.775888</td>\n",
       "      <td>40.966942</td>\n",
       "    </tr>\n",
       "    <tr>\n",
       "      <th>max</th>\n",
       "      <td>100.784428</td>\n",
       "      <td>100.766061</td>\n",
       "      <td>96.963291</td>\n",
       "      <td>95.313986</td>\n",
       "      <td>98.116017</td>\n",
       "      <td>97.432289</td>\n",
       "      <td>98.054714</td>\n",
       "      <td>99.734374</td>\n",
       "    </tr>\n",
       "  </tbody>\n",
       "</table>\n",
       "</div>"
      ],
      "text/plain": [
       "             2010        2011        2012  ...        2015        2016        2017\n",
       "count  240.000000  240.000000  240.000000  ...  240.000000  240.000000  240.000000\n",
       "mean    30.872419   31.131758   30.340594  ...   30.579904   29.161746   29.292363\n",
       "std     17.978061   17.942650   17.787894  ...   19.577582   19.034549   19.320528\n",
       "min      7.152866    7.283700    6.601134  ...    6.063834    5.893757    5.861331\n",
       "25%     17.043463   17.362182   16.255018  ...   15.513597   14.489949   14.572962\n",
       "50%     27.004787   27.453521   25.948751  ...   24.441082   23.079150   22.874830\n",
       "75%     39.433401   40.142818   40.863400  ...   43.850369   40.775888   40.966942\n",
       "max    100.784428  100.766061   96.963291  ...   97.432289   98.054714   99.734374\n",
       "\n",
       "[8 rows x 8 columns]"
      ]
     },
     "execution_count": 19,
     "metadata": {},
     "output_type": "execute_result"
    }
   ],
   "source": [
    "air_polution_pd.describe()"
   ]
  },
  {
   "cell_type": "code",
   "execution_count": 30,
   "metadata": {
    "colab": {
     "base_uri": "https://localhost:8080/",
     "height": 204
    },
    "id": "KDdY6FQqHxvK",
    "outputId": "1f000ec2-3397-45f1-c9c1-b2a35861985c"
   },
   "outputs": [
    {
     "data": {
      "text/html": [
       "<div>\n",
       "<style scoped>\n",
       "    .dataframe tbody tr th:only-of-type {\n",
       "        vertical-align: middle;\n",
       "    }\n",
       "\n",
       "    .dataframe tbody tr th {\n",
       "        vertical-align: top;\n",
       "    }\n",
       "\n",
       "    .dataframe thead th {\n",
       "        text-align: right;\n",
       "    }\n",
       "</style>\n",
       "<table border=\"1\" class=\"dataframe\">\n",
       "  <thead>\n",
       "    <tr style=\"text-align: right;\">\n",
       "      <th></th>\n",
       "      <th>iso_code</th>\n",
       "      <th>2010</th>\n",
       "      <th>2011</th>\n",
       "      <th>2012</th>\n",
       "      <th>2013</th>\n",
       "      <th>2014</th>\n",
       "      <th>2015</th>\n",
       "      <th>2016</th>\n",
       "      <th>2017</th>\n",
       "    </tr>\n",
       "  </thead>\n",
       "  <tbody>\n",
       "    <tr>\n",
       "      <th>0</th>\n",
       "      <td>AFG</td>\n",
       "      <td>65.245592</td>\n",
       "      <td>66.835727</td>\n",
       "      <td>66.023174</td>\n",
       "      <td>61.366745</td>\n",
       "      <td>59.010330</td>\n",
       "      <td>61.252656</td>\n",
       "      <td>56.287047</td>\n",
       "      <td>56.910808</td>\n",
       "    </tr>\n",
       "    <tr>\n",
       "      <th>1</th>\n",
       "      <td>AGO</td>\n",
       "      <td>33.787247</td>\n",
       "      <td>33.104195</td>\n",
       "      <td>33.415495</td>\n",
       "      <td>34.663923</td>\n",
       "      <td>32.974025</td>\n",
       "      <td>32.729873</td>\n",
       "      <td>31.785389</td>\n",
       "      <td>32.388505</td>\n",
       "    </tr>\n",
       "    <tr>\n",
       "      <th>2</th>\n",
       "      <td>ALB</td>\n",
       "      <td>21.277828</td>\n",
       "      <td>22.772537</td>\n",
       "      <td>20.578259</td>\n",
       "      <td>19.938517</td>\n",
       "      <td>18.883955</td>\n",
       "      <td>19.512540</td>\n",
       "      <td>18.189934</td>\n",
       "      <td>18.200603</td>\n",
       "    </tr>\n",
       "    <tr>\n",
       "      <th>3</th>\n",
       "      <td>AND</td>\n",
       "      <td>12.807198</td>\n",
       "      <td>13.273506</td>\n",
       "      <td>12.407053</td>\n",
       "      <td>11.813673</td>\n",
       "      <td>10.830418</td>\n",
       "      <td>11.462178</td>\n",
       "      <td>10.255834</td>\n",
       "      <td>10.307621</td>\n",
       "    </tr>\n",
       "    <tr>\n",
       "      <th>4</th>\n",
       "      <td>None</td>\n",
       "      <td>53.787001</td>\n",
       "      <td>52.652279</td>\n",
       "      <td>53.297270</td>\n",
       "      <td>54.053822</td>\n",
       "      <td>52.583603</td>\n",
       "      <td>60.406813</td>\n",
       "      <td>58.764905</td>\n",
       "      <td>58.689259</td>\n",
       "    </tr>\n",
       "  </tbody>\n",
       "</table>\n",
       "</div>"
      ],
      "text/plain": [
       "  iso_code       2010       2011  ...       2015       2016       2017\n",
       "0      AFG  65.245592  66.835727  ...  61.252656  56.287047  56.910808\n",
       "1      AGO  33.787247  33.104195  ...  32.729873  31.785389  32.388505\n",
       "2      ALB  21.277828  22.772537  ...  19.512540  18.189934  18.200603\n",
       "3      AND  12.807198  13.273506  ...  11.462178  10.255834  10.307621\n",
       "4     None  53.787001  52.652279  ...  60.406813  58.764905  58.689259\n",
       "\n",
       "[5 rows x 9 columns]"
      ]
     },
     "execution_count": 30,
     "metadata": {},
     "output_type": "execute_result"
    }
   ],
   "source": [
    "air_polution_pd_cleaned = air_polution_pd.dropna()\n",
    "air_polution_pd_cleaned = air_polution_pd.drop(columns=['Country Name', 'Country Code'])\n",
    "air_polution_pd_cleaned.head(5)\n",
    "\n",
    "\n"
   ]
  },
  {
   "cell_type": "code",
   "execution_count": 31,
   "metadata": {
    "colab": {
     "base_uri": "https://localhost:8080/"
    },
    "id": "KzF66Ytb5t3-",
    "outputId": "d415da40-d8a0-499c-94b4-aac78a239db2"
   },
   "outputs": [
    {
     "data": {
      "text/plain": [
       "iso_code    169\n",
       "2010        240\n",
       "2011        240\n",
       "2012        240\n",
       "2013        240\n",
       "2014        240\n",
       "2015        240\n",
       "2016        240\n",
       "2017        240\n",
       "dtype: int64"
      ]
     },
     "execution_count": 31,
     "metadata": {},
     "output_type": "execute_result"
    }
   ],
   "source": [
    "air_polution_pd_cleaned.count()"
   ]
  },
  {
   "cell_type": "code",
   "execution_count": 21,
   "metadata": {
    "colab": {
     "base_uri": "https://localhost:8080/",
     "height": 297
    },
    "id": "kV9wNxGdJZmi",
    "outputId": "9be89213-f9f1-4147-ddcd-4313d15127c3"
   },
   "outputs": [
    {
     "data": {
      "text/html": [
       "<div>\n",
       "<style scoped>\n",
       "    .dataframe tbody tr th:only-of-type {\n",
       "        vertical-align: middle;\n",
       "    }\n",
       "\n",
       "    .dataframe tbody tr th {\n",
       "        vertical-align: top;\n",
       "    }\n",
       "\n",
       "    .dataframe thead th {\n",
       "        text-align: right;\n",
       "    }\n",
       "</style>\n",
       "<table border=\"1\" class=\"dataframe\">\n",
       "  <thead>\n",
       "    <tr style=\"text-align: right;\">\n",
       "      <th></th>\n",
       "      <th>2010</th>\n",
       "      <th>2011</th>\n",
       "      <th>2012</th>\n",
       "      <th>2013</th>\n",
       "      <th>2014</th>\n",
       "      <th>2015</th>\n",
       "      <th>2016</th>\n",
       "      <th>2017</th>\n",
       "    </tr>\n",
       "  </thead>\n",
       "  <tbody>\n",
       "    <tr>\n",
       "      <th>count</th>\n",
       "      <td>240.000000</td>\n",
       "      <td>240.000000</td>\n",
       "      <td>240.000000</td>\n",
       "      <td>240.000000</td>\n",
       "      <td>240.000000</td>\n",
       "      <td>240.000000</td>\n",
       "      <td>240.000000</td>\n",
       "      <td>240.000000</td>\n",
       "    </tr>\n",
       "    <tr>\n",
       "      <th>mean</th>\n",
       "      <td>30.872419</td>\n",
       "      <td>31.131758</td>\n",
       "      <td>30.340594</td>\n",
       "      <td>29.790453</td>\n",
       "      <td>28.683781</td>\n",
       "      <td>30.579904</td>\n",
       "      <td>29.161746</td>\n",
       "      <td>29.292363</td>\n",
       "    </tr>\n",
       "    <tr>\n",
       "      <th>std</th>\n",
       "      <td>17.978061</td>\n",
       "      <td>17.942650</td>\n",
       "      <td>17.787894</td>\n",
       "      <td>17.732915</td>\n",
       "      <td>17.165262</td>\n",
       "      <td>19.577582</td>\n",
       "      <td>19.034549</td>\n",
       "      <td>19.320528</td>\n",
       "    </tr>\n",
       "    <tr>\n",
       "      <th>min</th>\n",
       "      <td>7.152866</td>\n",
       "      <td>7.283700</td>\n",
       "      <td>6.601134</td>\n",
       "      <td>6.278689</td>\n",
       "      <td>6.180830</td>\n",
       "      <td>6.063834</td>\n",
       "      <td>5.893757</td>\n",
       "      <td>5.861331</td>\n",
       "    </tr>\n",
       "    <tr>\n",
       "      <th>25%</th>\n",
       "      <td>17.043463</td>\n",
       "      <td>17.362182</td>\n",
       "      <td>16.255018</td>\n",
       "      <td>15.809037</td>\n",
       "      <td>15.171312</td>\n",
       "      <td>15.513597</td>\n",
       "      <td>14.489949</td>\n",
       "      <td>14.572962</td>\n",
       "    </tr>\n",
       "    <tr>\n",
       "      <th>50%</th>\n",
       "      <td>27.004787</td>\n",
       "      <td>27.453521</td>\n",
       "      <td>25.948751</td>\n",
       "      <td>25.442579</td>\n",
       "      <td>24.193790</td>\n",
       "      <td>24.441082</td>\n",
       "      <td>23.079150</td>\n",
       "      <td>22.874830</td>\n",
       "    </tr>\n",
       "    <tr>\n",
       "      <th>75%</th>\n",
       "      <td>39.433401</td>\n",
       "      <td>40.142818</td>\n",
       "      <td>40.863400</td>\n",
       "      <td>40.343259</td>\n",
       "      <td>39.552618</td>\n",
       "      <td>43.850369</td>\n",
       "      <td>40.775888</td>\n",
       "      <td>40.966942</td>\n",
       "    </tr>\n",
       "    <tr>\n",
       "      <th>max</th>\n",
       "      <td>100.784428</td>\n",
       "      <td>100.766061</td>\n",
       "      <td>96.963291</td>\n",
       "      <td>95.313986</td>\n",
       "      <td>98.116017</td>\n",
       "      <td>97.432289</td>\n",
       "      <td>98.054714</td>\n",
       "      <td>99.734374</td>\n",
       "    </tr>\n",
       "  </tbody>\n",
       "</table>\n",
       "</div>"
      ],
      "text/plain": [
       "             2010        2011        2012  ...        2015        2016        2017\n",
       "count  240.000000  240.000000  240.000000  ...  240.000000  240.000000  240.000000\n",
       "mean    30.872419   31.131758   30.340594  ...   30.579904   29.161746   29.292363\n",
       "std     17.978061   17.942650   17.787894  ...   19.577582   19.034549   19.320528\n",
       "min      7.152866    7.283700    6.601134  ...    6.063834    5.893757    5.861331\n",
       "25%     17.043463   17.362182   16.255018  ...   15.513597   14.489949   14.572962\n",
       "50%     27.004787   27.453521   25.948751  ...   24.441082   23.079150   22.874830\n",
       "75%     39.433401   40.142818   40.863400  ...   43.850369   40.775888   40.966942\n",
       "max    100.784428  100.766061   96.963291  ...   97.432289   98.054714   99.734374\n",
       "\n",
       "[8 rows x 8 columns]"
      ]
     },
     "execution_count": 21,
     "metadata": {},
     "output_type": "execute_result"
    }
   ],
   "source": [
    "air_polution_pd_cleaned.describe()"
   ]
  },
  {
   "cell_type": "markdown",
   "metadata": {
    "id": "U2xj5OV7xzK_"
   },
   "source": [
    "Next, we wil reformat the dataset that is consistent with the other datasets. We will have the iso_code, year and percent as columns of our dataframe"
   ]
  },
  {
   "cell_type": "code",
   "execution_count": 34,
   "metadata": {
    "id": "t-n83lwqxyq4"
   },
   "outputs": [],
   "source": [
    "air_polution_pd_cleaned = air_polution_pd_cleaned.set_index('iso_code').stack().reset_index().rename(columns={'level_1': 'year', 0:'percent'})\n"
   ]
  },
  {
   "cell_type": "code",
   "execution_count": 35,
   "metadata": {
    "colab": {
     "base_uri": "https://localhost:8080/",
     "height": 204
    },
    "id": "agUEn8DYy9hU",
    "outputId": "a3d01983-fe15-450e-8e23-70ed591104d5"
   },
   "outputs": [
    {
     "data": {
      "text/html": [
       "<div>\n",
       "<style scoped>\n",
       "    .dataframe tbody tr th:only-of-type {\n",
       "        vertical-align: middle;\n",
       "    }\n",
       "\n",
       "    .dataframe tbody tr th {\n",
       "        vertical-align: top;\n",
       "    }\n",
       "\n",
       "    .dataframe thead th {\n",
       "        text-align: right;\n",
       "    }\n",
       "</style>\n",
       "<table border=\"1\" class=\"dataframe\">\n",
       "  <thead>\n",
       "    <tr style=\"text-align: right;\">\n",
       "      <th></th>\n",
       "      <th>iso_code</th>\n",
       "      <th>year</th>\n",
       "      <th>percent</th>\n",
       "    </tr>\n",
       "  </thead>\n",
       "  <tbody>\n",
       "    <tr>\n",
       "      <th>0</th>\n",
       "      <td>AFG</td>\n",
       "      <td>2010</td>\n",
       "      <td>65.245592</td>\n",
       "    </tr>\n",
       "    <tr>\n",
       "      <th>1</th>\n",
       "      <td>AFG</td>\n",
       "      <td>2011</td>\n",
       "      <td>66.835727</td>\n",
       "    </tr>\n",
       "    <tr>\n",
       "      <th>2</th>\n",
       "      <td>AFG</td>\n",
       "      <td>2012</td>\n",
       "      <td>66.023174</td>\n",
       "    </tr>\n",
       "    <tr>\n",
       "      <th>3</th>\n",
       "      <td>AFG</td>\n",
       "      <td>2013</td>\n",
       "      <td>61.366745</td>\n",
       "    </tr>\n",
       "    <tr>\n",
       "      <th>4</th>\n",
       "      <td>AFG</td>\n",
       "      <td>2014</td>\n",
       "      <td>59.010330</td>\n",
       "    </tr>\n",
       "  </tbody>\n",
       "</table>\n",
       "</div>"
      ],
      "text/plain": [
       "  iso_code  year    percent\n",
       "0      AFG  2010  65.245592\n",
       "1      AFG  2011  66.835727\n",
       "2      AFG  2012  66.023174\n",
       "3      AFG  2013  61.366745\n",
       "4      AFG  2014  59.010330"
      ]
     },
     "execution_count": 35,
     "metadata": {},
     "output_type": "execute_result"
    }
   ],
   "source": [
    "air_polution_pd_cleaned.head(5)"
   ]
  },
  {
   "cell_type": "code",
   "execution_count": 36,
   "metadata": {
    "colab": {
     "base_uri": "https://localhost:8080/"
    },
    "id": "_oAi9AzI6rB-",
    "outputId": "5f04d945-ff2b-4be0-e992-89499ec7fb61"
   },
   "outputs": [
    {
     "data": {
      "text/plain": [
       "iso_code    1352\n",
       "year        1920\n",
       "percent     1920\n",
       "dtype: int64"
      ]
     },
     "execution_count": 36,
     "metadata": {},
     "output_type": "execute_result"
    }
   ],
   "source": [
    "air_polution_pd_cleaned.count()"
   ]
  },
  {
   "cell_type": "markdown",
   "metadata": {
    "id": "a6xWeES05MUJ"
   },
   "source": [
    "Finally, we will export our cleanned dataframe out to CSV"
   ]
  },
  {
   "cell_type": "code",
   "execution_count": 29,
   "metadata": {
    "id": "sedNJCJQzMWK"
   },
   "outputs": [],
   "source": [
    "air_polution_pd_cleaned.to_csv('../Data/pollution_data_cleaned.csv')"
   ]
  }
 ],
 "metadata": {
  "colab": {
   "authorship_tag": "ABX9TyNQsjVpRz+h2pLr5FTPsP6d",
   "include_colab_link": true,
   "mount_file_id": "1XKO4eEKuGD8EvNZtLa0fggHZmpLTRy-H",
   "name": "Polution_data_cleaning.ipynb",
   "provenance": []
  },
  "interpreter": {
   "hash": "aee8b7b246df8f9039afb4144a1f6fd8d2ca17a180786b69acc140d282b71a49"
  },
  "kernelspec": {
   "display_name": "Python 3 (ipykernel)",
   "language": "python",
   "name": "python3"
  },
  "language_info": {
   "codemirror_mode": {
    "name": "ipython",
    "version": 3
   },
   "file_extension": ".py",
   "mimetype": "text/x-python",
   "name": "python",
   "nbconvert_exporter": "python",
   "pygments_lexer": "ipython3",
   "version": "3.7.11"
  }
 },
 "nbformat": 4,
 "nbformat_minor": 2
}
