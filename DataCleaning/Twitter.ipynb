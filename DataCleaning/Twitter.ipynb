{
  "cells": [
    {
      "cell_type": "markdown",
      "metadata": {
        "colab_type": "text",
        "id": "view-in-github"
      },
      "source": [
        "<a href=\"https://colab.research.google.com/github/sumants-dev/CIS545-Project/blob/main/DataCleaning.ipynb\" target=\"_parent\"><img src=\"https://colab.research.google.com/assets/colab-badge.svg\" alt=\"Open In Colab\"/></a>"
      ]
    },
    {
      "cell_type": "code",
      "execution_count": 1,
      "metadata": {
        "id": "j2jqLTNq39r0"
      },
      "outputs": [],
      "source": [
        "import json\n",
        "import base64\n",
        "import requests\n",
        "import urllib"
      ]
    },
    {
      "cell_type": "markdown",
      "metadata": {},
      "source": [
        "https://benalexkeen.com/interacting-with-the-twitter-api-using-python/"
      ]
    },
    {
      "cell_type": "code",
      "execution_count": 2,
      "metadata": {},
      "outputs": [],
      "source": [
        "base_url = 'https://api.twitter.com'\n",
        "auth_url = f'{base_url}/oauth2/token'\n",
        "f = open('.twitter_keys', 'r')\n",
        "auth = json.load(f)\n",
        "f.close()\n",
        "\n",
        "bearer_token = auth['Bearer_Token']"
      ]
    },
    {
      "cell_type": "code",
      "execution_count": 3,
      "metadata": {},
      "outputs": [],
      "source": [
        "headers = {\"Authorization\": \"Bearer {}\".format(bearer_token)}\n"
      ]
    },
    {
      "cell_type": "code",
      "execution_count": 9,
      "metadata": {},
      "outputs": [],
      "source": [
        "def search_recent_tweets(keywords, headers):\n",
        "\n",
        "    search_url = \"https://api.twitter.com/2/tweets/search/recent\"\n",
        "    search_resp = requests.request(\"GET\", search_url,  headers=headers, params=keywords)\n",
        "    \n",
        "    return search_resp\n"
      ]
    },
    {
      "cell_type": "code",
      "execution_count": 20,
      "metadata": {},
      "outputs": [],
      "source": [
        "params = {\n",
        "    \"query\": \"climate\"\n",
        "}\n",
        "\n",
        "next_token = None\n",
        "\n",
        "full_results = []\n",
        "result = search_recent_tweets(params, headers).json()\n",
        "full_results += result\n",
        "next_token = result['meta']['next_token']\n",
        "# for next set of tweets since its is 10 tweets per call get the next token\n",
        "\n",
        "max_loops = 2 # for testing remove max_loops for prod run\n",
        "loops = 0\n",
        "while next_token != None and loops < max_loops: # remove loops < max_loops for production run\n",
        "    result = search_recent_tweets(params, headers).json()\n",
        "    full_results = full_results + result[\"data\"]\n",
        "    next_token = result['meta']['next_token']\n",
        "    params[\"next_token\"] = next_token\n",
        "    loops += 1\n"
      ]
    },
    {
      "cell_type": "code",
      "execution_count": 21,
      "metadata": {},
      "outputs": [
        {
          "name": "stdout",
          "output_type": "stream",
          "text": [
            "22 ['data', 'meta', {'id': '1465417789318049793', 'text': \"RT @MikeHudema: These are the top #solar energy producing countries from 2000-2020. It's time to catch-up.\\n\\nWe have so many solutions. Stop…\"}, {'id': '1465417787539660807', 'text': 'RT @PaganTrelawney: This seems like a very big plane to be transporting just Prince Charles and his entourage for a 2 day trip. I only ment…'}, {'id': '1465417786545655809', 'text': 'Stable, long-term cell lines will enable scientists to study everything from coral bleaching to biomineralization, knowledge that may help protect corals from ongoing climate change.  https://t.co/1h3dN2sVL7 https://t.co/8k5jfk5SdE'}, {'id': '1465417785538875395', 'text': 'Recent elections in Denmark saw a sharp rise in vote share for the Red-Green Alliance, making it the biggest party in Copenhagen. The result shows that the Social Democrats can’t keep letting down Danes who want action on the climate and soaring rents. https://t.co/ArIF8DUFgQ'}, {'id': '1465417785312428037', 'text': 'Corporations are responding to the climate crisis by intensifying plastic production.\\n\\n\"The constant &amp; prolific growth of oil has come under threat because of climate change &amp; renewable energy. These monoliths, they’re shifting those efforts into plastics\"\\nhttps://t.co/sYB4AJXc0O'}, {'id': '1465417785115389955', 'text': 'Government: We need to take more of your money to help you more.\\n\\nAlso government: Yeah, so we\\'re gonna spend $85M on studying link between climate change and \"pregnant, lactating, and postpartum individuals.\" https://t.co/LSKYcpzWT2'}, {'id': '1465417785090228226', 'text': 'The #BuildBackBetter Act makes bold investments in climate change, jobs, affordable housing, childcare, and so much more. \\n\\nThe Senate needs to pass this bill ASAP\\n\\nRT if you agree!'}, {'id': '1465417784523849730', 'text': '#InPics | Fires, floods, flying insects: Climate-fuelled disasters that wreaked havoc across world\\n\\nhttps://t.co/yffbHZ2Dy5'}, {'id': '1465417784062447618', 'text': 'RT @FossilFreeCA: Tick tock, @CalPERS @CalSTRS... https://t.co/3A3FIgtIcX'}, {'id': '1465417783810740224', 'text': 'I’m fascinated by the calculus that determines whether someone is a ‘climate migrant’ or ‘climate refugee.’\\n\\nhttps://t.co/OX8VxR9VhZ'}, {'id': '1465417783550701572', 'text': 'Conozca algunas firmas europeas de #inversion enfocadas en el medio ambiente y descubra lo que están buscando. \\n\\nhttps://t.co/IHg2iHqQTh\\n#inversionistas #medioambiente #emprendimiento #sostenibilidad #cambioclimatico https://t.co/TdqqMN9oD8'}, {'id': '1465417782875545604', 'text': 'TOMORROW AT 12:00PM: How should the US tackle climate change while protecting American interests?\\n\\nJoin Hudson Research Fellow @NateSibley for a discussion with @RepJohnCurtis, Chairman of the Conservative Climate Caucus.\\n\\nWatch it here: https://t.co/xdsQjnpviy'}, {'id': '1465417780744835076', 'text': 'RT @SenJeffMerkley: Now that the bipartisan infrastructure bill is law, we must again turn our attention to passing #BuildBackBetter and ma…'}, {'id': '1465417774801563661', 'text': 'RT @NYCDSA_Ecosoc: The secret is out: we are making climate *the* electoral issue for 2022. Democrats have stalled on action since taking b…'}, {'id': '1465417769638412292', 'text': 'RT @motorresx: For all the talk of “political polarization” today, I’m more concerned about the issues where US elites are in complete alig…'}, {'id': '1465417768690356229', 'text': 'RT @msanjayan: New mapping from @ConservationOrg scientists shows the carbon-rich areas humanity cannot afford to destroy if climate catast…'}, {'id': '1465417766828052481', 'text': 'RT @peterdaou: BIDEN/PELOSI:\\n\\nNo medicare for all\\nNo minimum wage hike\\nNo student debt relief\\nNo filibuster reform\\nNo court expansion\\nNo pa…'}, {'id': '1465417765989359617', 'text': 'RT @Ed_Miliband: As Labour’s new Shadow Secretary of State of Climate Change and Net Zero I will lead Labour’s Green New Deal, transforming…'}, {'id': '1465417755625205763', 'text': 'RT @johnettesnuggs: @JLVsTW1 Wow, the climate change is real! I had no idea that South Africa bordered Texas!!! It must have broken off and…'}, {'id': '1465417752533889027', 'text': 'RT @_waleedshahid: “\\u2066@JCisnerosTX\\u2069 is vying for the seat of one of the biggest Democratic recipients of fossil fuel industry money in Congr…'}]\n"
          ]
        }
      ],
      "source": [
        "print(len(full_results), full_results)"
      ]
    }
  ],
  "metadata": {
    "colab": {
      "authorship_tag": "ABX9TyNBDhfIoB5CYL49V+Q1hGDR",
      "include_colab_link": true,
      "name": "DataCleaning.ipynb",
      "provenance": []
    },
    "kernelspec": {
      "display_name": "Python 3",
      "name": "python3"
    },
    "language_info": {
      "codemirror_mode": {
        "name": "ipython",
        "version": 3
      },
      "file_extension": ".py",
      "mimetype": "text/x-python",
      "name": "python",
      "nbconvert_exporter": "python",
      "pygments_lexer": "ipython3",
      "version": "3.8.0"
    }
  },
  "nbformat": 4,
  "nbformat_minor": 0
}
