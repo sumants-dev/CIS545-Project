{
  "cells": [
    {
      "cell_type": "markdown",
      "metadata": {
        "colab_type": "text",
        "id": "view-in-github"
      },
      "source": [
        "<a href=\"https://colab.research.google.com/github/sumants-dev/CIS545-Project/blob/main/DataCleaning.ipynb\" target=\"_parent\"><img src=\"https://colab.research.google.com/assets/colab-badge.svg\" alt=\"Open In Colab\"/></a>"
      ]
    },
    {
      "cell_type": "code",
      "execution_count": 39,
      "metadata": {},
      "outputs": [
        {
          "name": "stdout",
          "output_type": "stream",
          "text": [
            "Requirement already satisfied: pandasql in /home/sumants/miniconda3/envs/cis545/lib/python3.8/site-packages (0.7.3)\n",
            "Requirement already satisfied: sqlalchemy in /home/sumants/miniconda3/envs/cis545/lib/python3.8/site-packages (from pandasql) (1.4.27)\n",
            "Requirement already satisfied: pandas in /home/sumants/miniconda3/envs/cis545/lib/python3.8/site-packages (from pandasql) (1.3.4)\n",
            "Requirement already satisfied: numpy in /home/sumants/miniconda3/envs/cis545/lib/python3.8/site-packages (from pandasql) (1.21.4)\n",
            "Requirement already satisfied: pytz>=2017.3 in /home/sumants/miniconda3/envs/cis545/lib/python3.8/site-packages (from pandas->pandasql) (2021.3)\n",
            "Requirement already satisfied: python-dateutil>=2.7.3 in /home/sumants/miniconda3/envs/cis545/lib/python3.8/site-packages (from pandas->pandasql) (2.8.2)\n",
            "Requirement already satisfied: six>=1.5 in /home/sumants/miniconda3/envs/cis545/lib/python3.8/site-packages (from python-dateutil>=2.7.3->pandas->pandasql) (1.16.0)\n",
            "Requirement already satisfied: greenlet!=0.4.17 in /home/sumants/miniconda3/envs/cis545/lib/python3.8/site-packages (from sqlalchemy->pandasql) (1.1.2)\n",
            "Requirement already satisfied: pandas in /home/sumants/miniconda3/envs/cis545/lib/python3.8/site-packages (1.3.4)\n",
            "Requirement already satisfied: python-dateutil>=2.7.3 in /home/sumants/miniconda3/envs/cis545/lib/python3.8/site-packages (from pandas) (2.8.2)\n",
            "Requirement already satisfied: numpy>=1.17.3 in /home/sumants/miniconda3/envs/cis545/lib/python3.8/site-packages (from pandas) (1.21.4)\n",
            "Requirement already satisfied: pytz>=2017.3 in /home/sumants/miniconda3/envs/cis545/lib/python3.8/site-packages (from pandas) (2021.3)\n",
            "Requirement already satisfied: six>=1.5 in /home/sumants/miniconda3/envs/cis545/lib/python3.8/site-packages (from python-dateutil>=2.7.3->pandas) (1.16.0)\n",
            "Requirement already satisfied: requests in /home/sumants/miniconda3/envs/cis545/lib/python3.8/site-packages (2.26.0)\n",
            "Requirement already satisfied: charset-normalizer~=2.0.0 in /home/sumants/miniconda3/envs/cis545/lib/python3.8/site-packages (from requests) (2.0.8)\n",
            "Requirement already satisfied: certifi>=2017.4.17 in /home/sumants/miniconda3/envs/cis545/lib/python3.8/site-packages (from requests) (2021.10.8)\n",
            "Requirement already satisfied: urllib3<1.27,>=1.21.1 in /home/sumants/miniconda3/envs/cis545/lib/python3.8/site-packages (from requests) (1.26.7)\n",
            "Requirement already satisfied: idna<4,>=2.5 in /home/sumants/miniconda3/envs/cis545/lib/python3.8/site-packages (from requests) (3.3)\n",
            "Requirement already satisfied: lxml in /home/sumants/miniconda3/envs/cis545/lib/python3.8/site-packages (4.6.4)\n",
            "Collecting nltk\n",
            "  Downloading nltk-3.6.5-py3-none-any.whl (1.5 MB)\n",
            "\u001b[K     |████████████████████████████████| 1.5 MB 1.9 MB/s \n",
            "\u001b[?25hCollecting joblib\n",
            "  Downloading joblib-1.1.0-py2.py3-none-any.whl (306 kB)\n",
            "\u001b[K     |████████████████████████████████| 306 kB 717 kB/s \n",
            "\u001b[?25hCollecting click\n",
            "  Using cached click-8.0.3-py3-none-any.whl (97 kB)\n",
            "Collecting tqdm\n",
            "  Using cached tqdm-4.62.3-py2.py3-none-any.whl (76 kB)\n",
            "Collecting regex>=2021.8.3\n",
            "  Downloading regex-2021.11.10-cp38-cp38-manylinux_2_17_x86_64.manylinux2014_x86_64.whl (764 kB)\n",
            "\u001b[K     |████████████████████████████████| 764 kB 1.1 MB/s \n",
            "\u001b[?25hInstalling collected packages: tqdm, regex, joblib, click, nltk\n",
            "Successfully installed click-8.0.3 joblib-1.1.0 nltk-3.6.5 regex-2021.11.10 tqdm-4.62.3\n"
          ]
        }
      ],
      "source": [
        "!pip install pandasql\n",
        "!pip install pandas\n",
        "!pip install requests\n",
        "!pip install lxml\n",
        "!pip install nltk"
      ]
    },
    {
      "cell_type": "code",
      "execution_count": 11,
      "metadata": {
        "id": "j2jqLTNq39r0"
      },
      "outputs": [],
      "source": [
        "# Imports\n",
        "import pandas as pd\n",
        "import pandasql as psql\n",
        "from lxml import html\n",
        "import requests\n",
        "import nltk"
      ]
    },
    {
      "cell_type": "markdown",
      "metadata": {},
      "source": [
        "# Cleaning and Wrangling of Global Land Temperature Dataset\n",
        "This dataset has the average monthly temperature for each country since 1743. For cleaning this dataset, we have two task:\n",
        "    1. Convert alphabetic country names to 3-alpha iso codes\n",
        "    2. Group by dates by year and country"
      ]
    },
    {
      "cell_type": "markdown",
      "metadata": {},
      "source": [
        "## Extraction of country codes \n",
        "We extract the country name to country code mapping through wikipedia. Our approach is to make a request to the wikipedia page, and then use xpath to find the list of country names and country code."
      ]
    },
    {
      "cell_type": "code",
      "execution_count": 5,
      "metadata": {},
      "outputs": [],
      "source": [
        "def get_country_codes():\n",
        "    wiki = requests.get(\"https://en.wikipedia.org/wiki/ISO_3166-1_alpha-3\")\n",
        "    dom_tree = html.fromstring(wiki.content)\n",
        "    xpath = \"//div[@class=\\\"plainlist\\\"]/ul/li\"\n",
        "    country_list  = dom_tree.xpath(xpath)\n",
        "    country_map = {}\n",
        "\n",
        "    for country_elem in country_list:\n",
        "        country_map[country_elem[2].text] = country_elem[1].text\n",
        "\n",
        "    return country_map\n",
        "\n",
        "        \n",
        "def set_country_value(df, column =):\n",
        "    country_to_code = get_country_codes()\n",
        "    df[\"Country\"] = df[\"Country\"].apply(lambda elem: country_to_code.get(elem))\n",
        "    return df\n"
      ]
    },
    {
      "cell_type": "code",
      "execution_count": 10,
      "metadata": {},
      "outputs": [
        {
          "data": {
            "text/html": [
              "<div>\n",
              "<style scoped>\n",
              "    .dataframe tbody tr th:only-of-type {\n",
              "        vertical-align: middle;\n",
              "    }\n",
              "\n",
              "    .dataframe tbody tr th {\n",
              "        vertical-align: top;\n",
              "    }\n",
              "\n",
              "    .dataframe thead th {\n",
              "        text-align: right;\n",
              "    }\n",
              "</style>\n",
              "<table border=\"1\" class=\"dataframe\">\n",
              "  <thead>\n",
              "    <tr style=\"text-align: right;\">\n",
              "      <th></th>\n",
              "      <th>dt</th>\n",
              "      <th>AverageTemperature</th>\n",
              "      <th>AverageTemperatureUncertainty</th>\n",
              "      <th>Country</th>\n",
              "    </tr>\n",
              "  </thead>\n",
              "  <tbody>\n",
              "    <tr>\n",
              "      <th>3239</th>\n",
              "      <td>1838-04-01</td>\n",
              "      <td>13.008</td>\n",
              "      <td>2.586</td>\n",
              "      <td>AFG</td>\n",
              "    </tr>\n",
              "    <tr>\n",
              "      <th>3241</th>\n",
              "      <td>1838-06-01</td>\n",
              "      <td>23.950</td>\n",
              "      <td>2.510</td>\n",
              "      <td>AFG</td>\n",
              "    </tr>\n",
              "    <tr>\n",
              "      <th>3242</th>\n",
              "      <td>1838-07-01</td>\n",
              "      <td>26.877</td>\n",
              "      <td>2.883</td>\n",
              "      <td>AFG</td>\n",
              "    </tr>\n",
              "    <tr>\n",
              "      <th>3243</th>\n",
              "      <td>1838-08-01</td>\n",
              "      <td>24.938</td>\n",
              "      <td>2.992</td>\n",
              "      <td>AFG</td>\n",
              "    </tr>\n",
              "    <tr>\n",
              "      <th>3244</th>\n",
              "      <td>1838-09-01</td>\n",
              "      <td>18.981</td>\n",
              "      <td>2.538</td>\n",
              "      <td>AFG</td>\n",
              "    </tr>\n",
              "    <tr>\n",
              "      <th>...</th>\n",
              "      <td>...</td>\n",
              "      <td>...</td>\n",
              "      <td>...</td>\n",
              "      <td>...</td>\n",
              "    </tr>\n",
              "    <tr>\n",
              "      <th>577456</th>\n",
              "      <td>2013-04-01</td>\n",
              "      <td>21.142</td>\n",
              "      <td>0.495</td>\n",
              "      <td>ZWE</td>\n",
              "    </tr>\n",
              "    <tr>\n",
              "      <th>577457</th>\n",
              "      <td>2013-05-01</td>\n",
              "      <td>19.059</td>\n",
              "      <td>1.022</td>\n",
              "      <td>ZWE</td>\n",
              "    </tr>\n",
              "    <tr>\n",
              "      <th>577458</th>\n",
              "      <td>2013-06-01</td>\n",
              "      <td>17.613</td>\n",
              "      <td>0.473</td>\n",
              "      <td>ZWE</td>\n",
              "    </tr>\n",
              "    <tr>\n",
              "      <th>577459</th>\n",
              "      <td>2013-07-01</td>\n",
              "      <td>17.000</td>\n",
              "      <td>0.453</td>\n",
              "      <td>ZWE</td>\n",
              "    </tr>\n",
              "    <tr>\n",
              "      <th>577460</th>\n",
              "      <td>2013-08-01</td>\n",
              "      <td>19.759</td>\n",
              "      <td>0.717</td>\n",
              "      <td>ZWE</td>\n",
              "    </tr>\n",
              "  </tbody>\n",
              "</table>\n",
              "<p>411181 rows × 4 columns</p>\n",
              "</div>"
            ],
            "text/plain": [
              "                dt  AverageTemperature  AverageTemperatureUncertainty Country\n",
              "3239    1838-04-01              13.008                          2.586     AFG\n",
              "3241    1838-06-01              23.950                          2.510     AFG\n",
              "3242    1838-07-01              26.877                          2.883     AFG\n",
              "3243    1838-08-01              24.938                          2.992     AFG\n",
              "3244    1838-09-01              18.981                          2.538     AFG\n",
              "...            ...                 ...                            ...     ...\n",
              "577456  2013-04-01              21.142                          0.495     ZWE\n",
              "577457  2013-05-01              19.059                          1.022     ZWE\n",
              "577458  2013-06-01              17.613                          0.473     ZWE\n",
              "577459  2013-07-01              17.000                          0.453     ZWE\n",
              "577460  2013-08-01              19.759                          0.717     ZWE\n",
              "\n",
              "[411181 rows x 4 columns]"
            ]
          },
          "execution_count": 10,
          "metadata": {},
          "output_type": "execute_result"
        }
      ],
      "source": [
        "global_temp_df = pd.read_csv('../Data/raw/GlobalLandTemperaturesByCountry.csv')\n",
        "country_maps = get_country_codes()\n",
        "global_temp_df = set_country_value(global_temp_df)\n",
        "global_temp_df = global_temp_df.dropna()\n",
        "global_temp_df"
      ]
    },
    {
      "cell_type": "markdown",
      "metadata": {},
      "source": [
        "Now, we group by dates by year and country for the final result of global yearly temperature by country."
      ]
    },
    {
      "cell_type": "code",
      "execution_count": 26,
      "metadata": {},
      "outputs": [
        {
          "data": {
            "text/html": [
              "<div>\n",
              "<style scoped>\n",
              "    .dataframe tbody tr th:only-of-type {\n",
              "        vertical-align: middle;\n",
              "    }\n",
              "\n",
              "    .dataframe tbody tr th {\n",
              "        vertical-align: top;\n",
              "    }\n",
              "\n",
              "    .dataframe thead th {\n",
              "        text-align: right;\n",
              "    }\n",
              "</style>\n",
              "<table border=\"1\" class=\"dataframe\">\n",
              "  <thead>\n",
              "    <tr style=\"text-align: right;\">\n",
              "      <th></th>\n",
              "      <th>Year</th>\n",
              "      <th>Country</th>\n",
              "      <th>AvgYearlyTemp</th>\n",
              "      <th>AvgTempUncertainty</th>\n",
              "    </tr>\n",
              "  </thead>\n",
              "  <tbody>\n",
              "    <tr>\n",
              "      <th>0</th>\n",
              "      <td>1743</td>\n",
              "      <td>ALB</td>\n",
              "      <td>8.620</td>\n",
              "      <td>2.268</td>\n",
              "    </tr>\n",
              "    <tr>\n",
              "      <th>1</th>\n",
              "      <td>1743</td>\n",
              "      <td>AND</td>\n",
              "      <td>7.556</td>\n",
              "      <td>2.188</td>\n",
              "    </tr>\n",
              "    <tr>\n",
              "      <th>2</th>\n",
              "      <td>1743</td>\n",
              "      <td>AUT</td>\n",
              "      <td>2.482</td>\n",
              "      <td>2.116</td>\n",
              "    </tr>\n",
              "    <tr>\n",
              "      <th>3</th>\n",
              "      <td>1743</td>\n",
              "      <td>BEL</td>\n",
              "      <td>7.106</td>\n",
              "      <td>1.855</td>\n",
              "    </tr>\n",
              "    <tr>\n",
              "      <th>4</th>\n",
              "      <td>1743</td>\n",
              "      <td>BGR</td>\n",
              "      <td>5.928</td>\n",
              "      <td>2.547</td>\n",
              "    </tr>\n",
              "  </tbody>\n",
              "</table>\n",
              "</div>"
            ],
            "text/plain": [
              "   Year Country  AvgYearlyTemp  AvgTempUncertainty\n",
              "0  1743     ALB          8.620               2.268\n",
              "1  1743     AND          7.556               2.188\n",
              "2  1743     AUT          2.482               2.116\n",
              "3  1743     BEL          7.106               1.855\n",
              "4  1743     BGR          5.928               2.547"
            ]
          },
          "execution_count": 26,
          "metadata": {},
          "output_type": "execute_result"
        }
      ],
      "source": [
        "group_by_query = '''\n",
        "SELECT strftime('%Y', dt) as Year, Country, AVG(AverageTemperature) as AvgYearlyTemp, AVG(AverageTemperatureUncertainty) as AvgTempUncertainty\n",
        "FROM global_temp_df\n",
        "GROUP BY strftime('%Y', dt), Country\n",
        "'''\n",
        "\n",
        "global_temps_final = psql.sqldf(group_by_query , locals())\n",
        "global_temps_final.head()"
      ]
    },
    {
      "cell_type": "code",
      "execution_count": 27,
      "metadata": {},
      "outputs": [],
      "source": [
        "global_temps_final.to_csv('../Data/global_average_yearly_temp_clean.csv', index= False)"
      ]
    }
  ],
  "metadata": {
    "colab": {
      "authorship_tag": "ABX9TyNBDhfIoB5CYL49V+Q1hGDR",
      "include_colab_link": true,
      "name": "DataCleaning.ipynb",
      "provenance": []
    },
    "kernelspec": {
      "display_name": "Python 3",
      "name": "python3"
    },
    "language_info": {
      "codemirror_mode": {
        "name": "ipython",
        "version": 3
      },
      "file_extension": ".py",
      "mimetype": "text/x-python",
      "name": "python",
      "nbconvert_exporter": "python",
      "pygments_lexer": "ipython3",
      "version": "3.8.0"
    }
  },
  "nbformat": 4,
  "nbformat_minor": 0
}
