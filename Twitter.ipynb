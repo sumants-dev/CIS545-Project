{
 "cells": [
  {
   "cell_type": "markdown",
   "metadata": {},
   "source": [
    "# Twitter Sentiment Analysis"
   ]
  },
  {
   "cell_type": "code",
   "execution_count": 74,
   "metadata": {
    "id": "j2jqLTNq39r0"
   },
   "outputs": [],
   "source": [
    "%%capture\n",
    "!pip install pandas\n",
    "!pip install tweet-preprocessor\n",
    "!pip install seaborn\n",
    "\n",
    "import json\n",
    "import base64\n",
    "import requests\n",
    "import urllib\n",
    "import pandas as pd\n",
    "import seaborn as sns"
   ]
  },
  {
   "cell_type": "markdown",
   "metadata": {},
   "source": [
    "## Authentication and Grabbing Twitter Data"
   ]
  },
  {
   "cell_type": "code",
   "execution_count": 2,
   "metadata": {},
   "outputs": [],
   "source": [
    "base_url = 'https://api.twitter.com'\n",
    "auth_url = f'{base_url}/oauth2/token'\n",
    "f = open('.twitter_keys', 'r')\n",
    "auth = json.load(f)\n",
    "f.close()\n",
    "\n",
    "bearer_token = auth['Bearer_Token']"
   ]
  },
  {
   "cell_type": "code",
   "execution_count": 3,
   "metadata": {},
   "outputs": [],
   "source": [
    "headers = {\"Authorization\": \"Bearer {}\".format(bearer_token)}\n"
   ]
  },
  {
   "cell_type": "code",
   "execution_count": 4,
   "metadata": {},
   "outputs": [],
   "source": [
    "def search_recent_tweets(keywords, headers):\n",
    "\n",
    "    search_url = \"https://api.twitter.com/2/tweets/search/recent\"\n",
    "    search_resp = requests.request(\"GET\", search_url,  headers=headers, params=keywords)\n",
    "    \n",
    "    return search_resp\n"
   ]
  },
  {
   "cell_type": "code",
   "execution_count": 84,
   "metadata": {},
   "outputs": [
    {
     "ename": "KeyError",
     "evalue": "'data'",
     "output_type": "error",
     "traceback": [
      "\u001b[0;31m---------------------------------------------------------------------------\u001b[0m",
      "\u001b[0;31mKeyError\u001b[0m                                  Traceback (most recent call last)",
      "\u001b[0;32m/tmp/ipykernel_10787/824978389.py\u001b[0m in \u001b[0;36m<module>\u001b[0;34m\u001b[0m\n\u001b[1;32m     18\u001b[0m \u001b[0;32mwhile\u001b[0m \u001b[0mnext_token\u001b[0m \u001b[0;34m!=\u001b[0m \u001b[0;32mNone\u001b[0m \u001b[0;32mand\u001b[0m \u001b[0mloops\u001b[0m \u001b[0;34m<\u001b[0m \u001b[0mmax_loops\u001b[0m\u001b[0;34m:\u001b[0m \u001b[0;31m# remove loops < max_loops for production run\u001b[0m\u001b[0;34m\u001b[0m\u001b[0;34m\u001b[0m\u001b[0m\n\u001b[1;32m     19\u001b[0m     \u001b[0mresult\u001b[0m \u001b[0;34m=\u001b[0m \u001b[0msearch_recent_tweets\u001b[0m\u001b[0;34m(\u001b[0m\u001b[0mparams\u001b[0m\u001b[0;34m,\u001b[0m \u001b[0mheaders\u001b[0m\u001b[0;34m)\u001b[0m\u001b[0;34m.\u001b[0m\u001b[0mjson\u001b[0m\u001b[0;34m(\u001b[0m\u001b[0;34m)\u001b[0m\u001b[0;34m\u001b[0m\u001b[0;34m\u001b[0m\u001b[0m\n\u001b[0;32m---> 20\u001b[0;31m     \u001b[0mfull_results\u001b[0m \u001b[0;34m=\u001b[0m \u001b[0mfull_results\u001b[0m \u001b[0;34m+\u001b[0m \u001b[0mresult\u001b[0m\u001b[0;34m[\u001b[0m\u001b[0;34m\"data\"\u001b[0m\u001b[0;34m]\u001b[0m\u001b[0;34m\u001b[0m\u001b[0;34m\u001b[0m\u001b[0m\n\u001b[0m\u001b[1;32m     21\u001b[0m     \u001b[0mnext_token\u001b[0m \u001b[0;34m=\u001b[0m \u001b[0mresult\u001b[0m\u001b[0;34m[\u001b[0m\u001b[0;34m'meta'\u001b[0m\u001b[0;34m]\u001b[0m\u001b[0;34m[\u001b[0m\u001b[0;34m'next_token'\u001b[0m\u001b[0;34m]\u001b[0m\u001b[0;34m\u001b[0m\u001b[0;34m\u001b[0m\u001b[0m\n\u001b[1;32m     22\u001b[0m     \u001b[0mparams\u001b[0m\u001b[0;34m[\u001b[0m\u001b[0;34m\"next_token\"\u001b[0m\u001b[0;34m]\u001b[0m \u001b[0;34m=\u001b[0m \u001b[0mnext_token\u001b[0m\u001b[0;34m\u001b[0m\u001b[0;34m\u001b[0m\u001b[0m\n",
      "\u001b[0;31mKeyError\u001b[0m: 'data'"
     ]
    }
   ],
   "source": [
    "params = {\n",
    "    \"query\": \"climate\"\n",
    "}\n",
    "\n",
    "next_token = None\n",
    "\n",
    "full_results = []\n",
    "result = search_recent_tweets(params, headers).json()\n",
    "full_results += result[\"data\"]\n",
    "next_token = result['meta']['next_token']\n",
    "# for next set of tweets since its is 10 tweets per call get the next token\n",
    "\n",
    "# limited by twitter in number of calls, so setting a reasonably large size\n",
    "# of 50000\n",
    "max_loops = 5000 # total_results = max_loops * 10\n",
    "\n",
    "loops = 0\n",
    "while next_token != None and loops < max_loops: # remove loops < max_loops for production run\n",
    "    try:\n",
    "        result = search_recent_tweets(params, headers).json()\n",
    "        full_results = full_results + result[\"data\"]\n",
    "        next_token = result['meta']['next_token']\n",
    "        params[\"next_token\"] = next_token\n",
    "        loops += 1\n",
    "    except:\n",
    "        break"
   ]
  },
  {
   "cell_type": "markdown",
   "metadata": {},
   "source": [
    "### Saving date for future use"
   ]
  },
  {
   "cell_type": "code",
   "execution_count": 90,
   "metadata": {},
   "outputs": [
    {
     "data": {
      "text/html": [
       "<div>\n",
       "<style scoped>\n",
       "    .dataframe tbody tr th:only-of-type {\n",
       "        vertical-align: middle;\n",
       "    }\n",
       "\n",
       "    .dataframe tbody tr th {\n",
       "        vertical-align: top;\n",
       "    }\n",
       "\n",
       "    .dataframe thead th {\n",
       "        text-align: right;\n",
       "    }\n",
       "</style>\n",
       "<table border=\"1\" class=\"dataframe\">\n",
       "  <thead>\n",
       "    <tr style=\"text-align: right;\">\n",
       "      <th></th>\n",
       "      <th>id</th>\n",
       "      <th>text</th>\n",
       "      <th>withheld</th>\n",
       "    </tr>\n",
       "  </thead>\n",
       "  <tbody>\n",
       "    <tr>\n",
       "      <th>0</th>\n",
       "      <td>1470070450155839490</td>\n",
       "      <td>If it anything like highest inflation in 40 ye...</td>\n",
       "      <td>NaN</td>\n",
       "    </tr>\n",
       "    <tr>\n",
       "      <th>1</th>\n",
       "      <td>1470070450138935301</td>\n",
       "      <td>RT @lavern_spicer: You gotta laugh that the pa...</td>\n",
       "      <td>NaN</td>\n",
       "    </tr>\n",
       "    <tr>\n",
       "      <th>2</th>\n",
       "      <td>1470070447744163843</td>\n",
       "      <td>RT @MarleyK20: There were a lot of incidents w...</td>\n",
       "      <td>NaN</td>\n",
       "    </tr>\n",
       "    <tr>\n",
       "      <th>3</th>\n",
       "      <td>1470070447043665923</td>\n",
       "      <td>Liberals use deadly tornados to attack Republi...</td>\n",
       "      <td>NaN</td>\n",
       "    </tr>\n",
       "    <tr>\n",
       "      <th>4</th>\n",
       "      <td>1470070444942237696</td>\n",
       "      <td>RT @AlexRamel: Unfortunately, there’s no simpl...</td>\n",
       "      <td>NaN</td>\n",
       "    </tr>\n",
       "    <tr>\n",
       "      <th>...</th>\n",
       "      <td>...</td>\n",
       "      <td>...</td>\n",
       "      <td>...</td>\n",
       "    </tr>\n",
       "    <tr>\n",
       "      <th>4495</th>\n",
       "      <td>1470061879611506693</td>\n",
       "      <td>RT @PlanetLuvie: @MWildsnake @TimOnTheTractor ...</td>\n",
       "      <td>NaN</td>\n",
       "    </tr>\n",
       "    <tr>\n",
       "      <th>4496</th>\n",
       "      <td>1470061879322193927</td>\n",
       "      <td>RT @mtgreenee: There is no amount of taxes and...</td>\n",
       "      <td>NaN</td>\n",
       "    </tr>\n",
       "    <tr>\n",
       "      <th>4497</th>\n",
       "      <td>1470061877233340418</td>\n",
       "      <td>RT @lavern_spicer: You gotta laugh that the pa...</td>\n",
       "      <td>NaN</td>\n",
       "    </tr>\n",
       "    <tr>\n",
       "      <th>4498</th>\n",
       "      <td>1470061874037334019</td>\n",
       "      <td>RT @TrishForTrump: WTH…Biden mentioned climate...</td>\n",
       "      <td>NaN</td>\n",
       "    </tr>\n",
       "    <tr>\n",
       "      <th>4499</th>\n",
       "      <td>1470061873294831621</td>\n",
       "      <td>RT @POTUS: Lowering the costs of child care, e...</td>\n",
       "      <td>NaN</td>\n",
       "    </tr>\n",
       "  </tbody>\n",
       "</table>\n",
       "<p>4500 rows × 3 columns</p>\n",
       "</div>"
      ],
      "text/plain": [
       "                       id                                               text  \\\n",
       "0     1470070450155839490  If it anything like highest inflation in 40 ye...   \n",
       "1     1470070450138935301  RT @lavern_spicer: You gotta laugh that the pa...   \n",
       "2     1470070447744163843  RT @MarleyK20: There were a lot of incidents w...   \n",
       "3     1470070447043665923  Liberals use deadly tornados to attack Republi...   \n",
       "4     1470070444942237696  RT @AlexRamel: Unfortunately, there’s no simpl...   \n",
       "...                   ...                                                ...   \n",
       "4495  1470061879611506693  RT @PlanetLuvie: @MWildsnake @TimOnTheTractor ...   \n",
       "4496  1470061879322193927  RT @mtgreenee: There is no amount of taxes and...   \n",
       "4497  1470061877233340418  RT @lavern_spicer: You gotta laugh that the pa...   \n",
       "4498  1470061874037334019  RT @TrishForTrump: WTH…Biden mentioned climate...   \n",
       "4499  1470061873294831621  RT @POTUS: Lowering the costs of child care, e...   \n",
       "\n",
       "     withheld  \n",
       "0         NaN  \n",
       "1         NaN  \n",
       "2         NaN  \n",
       "3         NaN  \n",
       "4         NaN  \n",
       "...       ...  \n",
       "4495      NaN  \n",
       "4496      NaN  \n",
       "4497      NaN  \n",
       "4498      NaN  \n",
       "4499      NaN  \n",
       "\n",
       "[4500 rows x 3 columns]"
      ]
     },
     "execution_count": 90,
     "metadata": {},
     "output_type": "execute_result"
    }
   ],
   "source": [
    "df = pd.DataFrame.from_records(full_results)\n",
    "df.to_csv('Twitter_Recent_Climate_Query.csv', index = False)\n",
    "df"
   ]
  },
  {
   "cell_type": "markdown",
   "metadata": {},
   "source": [
    "## Conducting Sentiment Analysis"
   ]
  },
  {
   "cell_type": "code",
   "execution_count": 56,
   "metadata": {},
   "outputs": [
    {
     "name": "stderr",
     "output_type": "stream",
     "text": [
      "[nltk_data] Downloading package vader_lexicon to\n",
      "[nltk_data]     /home/sumants/nltk_data...\n",
      "[nltk_data]   Package vader_lexicon is already up-to-date!\n",
      "[nltk_data] Downloading package stopwords to\n",
      "[nltk_data]     /home/sumants/nltk_data...\n",
      "[nltk_data]   Package stopwords is already up-to-date!\n",
      "[nltk_data] Downloading package punkt to /home/sumants/nltk_data...\n",
      "[nltk_data]   Unzipping tokenizers/punkt.zip.\n"
     ]
    }
   ],
   "source": [
    "from nltk.sentiment import SentimentIntensityAnalyzer\n",
    "import nltk\n",
    "from nltk.corpus import stopwords\n",
    "from nltk.tokenize import word_tokenize\n",
    "\n",
    "nltk.download('vader_lexicon')\n",
    "nltk.download('stopwords')\n",
    "nltk.download('punkt')"
   ]
  },
  {
   "cell_type": "code",
   "execution_count": 92,
   "metadata": {},
   "outputs": [
    {
     "data": {
      "text/html": [
       "<div>\n",
       "<style scoped>\n",
       "    .dataframe tbody tr th:only-of-type {\n",
       "        vertical-align: middle;\n",
       "    }\n",
       "\n",
       "    .dataframe tbody tr th {\n",
       "        vertical-align: top;\n",
       "    }\n",
       "\n",
       "    .dataframe thead th {\n",
       "        text-align: right;\n",
       "    }\n",
       "</style>\n",
       "<table border=\"1\" class=\"dataframe\">\n",
       "  <thead>\n",
       "    <tr style=\"text-align: right;\">\n",
       "      <th></th>\n",
       "      <th>id</th>\n",
       "      <th>text</th>\n",
       "      <th>withheld</th>\n",
       "    </tr>\n",
       "  </thead>\n",
       "  <tbody>\n",
       "    <tr>\n",
       "      <th>0</th>\n",
       "      <td>1470070450155839490</td>\n",
       "      <td>If it anything like highest inflation in years...</td>\n",
       "      <td>NaN</td>\n",
       "    </tr>\n",
       "    <tr>\n",
       "      <th>1</th>\n",
       "      <td>1470070450138935301</td>\n",
       "      <td>: You gotta laugh that the party that cant end...</td>\n",
       "      <td>NaN</td>\n",
       "    </tr>\n",
       "    <tr>\n",
       "      <th>2</th>\n",
       "      <td>1470070447744163843</td>\n",
       "      <td>: There were a lot of incidents with guns at s...</td>\n",
       "      <td>NaN</td>\n",
       "    </tr>\n",
       "    <tr>\n",
       "      <th>3</th>\n",
       "      <td>1470070447043665923</td>\n",
       "      <td>Liberals use deadly tornados to attack Republi...</td>\n",
       "      <td>NaN</td>\n",
       "    </tr>\n",
       "    <tr>\n",
       "      <th>4</th>\n",
       "      <td>1470070444942237696</td>\n",
       "      <td>: Unfortunately, theres no simple solution to ...</td>\n",
       "      <td>NaN</td>\n",
       "    </tr>\n",
       "  </tbody>\n",
       "</table>\n",
       "</div>"
      ],
      "text/plain": [
       "                    id                                               text  \\\n",
       "0  1470070450155839490  If it anything like highest inflation in years...   \n",
       "1  1470070450138935301  : You gotta laugh that the party that cant end...   \n",
       "2  1470070447744163843  : There were a lot of incidents with guns at s...   \n",
       "3  1470070447043665923  Liberals use deadly tornados to attack Republi...   \n",
       "4  1470070444942237696  : Unfortunately, theres no simple solution to ...   \n",
       "\n",
       "  withheld  \n",
       "0      NaN  \n",
       "1      NaN  \n",
       "2      NaN  \n",
       "3      NaN  \n",
       "4      NaN  "
      ]
     },
     "execution_count": 92,
     "metadata": {},
     "output_type": "execute_result"
    }
   ],
   "source": [
    "df = pd.read_csv('Twitter_Recent_Climate_Query.csv')\n",
    "df['text'] = df['text'].apply(p.clean)\n",
    "df.head()"
   ]
  },
  {
   "cell_type": "code",
   "execution_count": 93,
   "metadata": {},
   "outputs": [
    {
     "data": {
      "text/html": [
       "<div>\n",
       "<style scoped>\n",
       "    .dataframe tbody tr th:only-of-type {\n",
       "        vertical-align: middle;\n",
       "    }\n",
       "\n",
       "    .dataframe tbody tr th {\n",
       "        vertical-align: top;\n",
       "    }\n",
       "\n",
       "    .dataframe thead th {\n",
       "        text-align: right;\n",
       "    }\n",
       "</style>\n",
       "<table border=\"1\" class=\"dataframe\">\n",
       "  <thead>\n",
       "    <tr style=\"text-align: right;\">\n",
       "      <th></th>\n",
       "      <th>id</th>\n",
       "      <th>text</th>\n",
       "      <th>withheld</th>\n",
       "    </tr>\n",
       "  </thead>\n",
       "  <tbody>\n",
       "    <tr>\n",
       "      <th>0</th>\n",
       "      <td>1470070450155839490</td>\n",
       "      <td>anything like highest inflation years dont wan...</td>\n",
       "      <td>NaN</td>\n",
       "    </tr>\n",
       "    <tr>\n",
       "      <th>1</th>\n",
       "      <td>1470070450138935301</td>\n",
       "      <td>got ta laugh party cant end Covid wants believ...</td>\n",
       "      <td>NaN</td>\n",
       "    </tr>\n",
       "    <tr>\n",
       "      <th>2</th>\n",
       "      <td>1470070447744163843</td>\n",
       "      <td>lot incidents guns schools yesterday FL Black ...</td>\n",
       "      <td>NaN</td>\n",
       "    </tr>\n",
       "    <tr>\n",
       "      <th>3</th>\n",
       "      <td>1470070447043665923</td>\n",
       "      <td>Liberals use deadly tornados attack Republican...</td>\n",
       "      <td>NaN</td>\n",
       "    </tr>\n",
       "    <tr>\n",
       "      <th>4</th>\n",
       "      <td>1470070444942237696</td>\n",
       "      <td>Unfortunately theres simple solution prevent f...</td>\n",
       "      <td>NaN</td>\n",
       "    </tr>\n",
       "  </tbody>\n",
       "</table>\n",
       "</div>"
      ],
      "text/plain": [
       "                    id                                               text  \\\n",
       "0  1470070450155839490  anything like highest inflation years dont wan...   \n",
       "1  1470070450138935301  got ta laugh party cant end Covid wants believ...   \n",
       "2  1470070447744163843  lot incidents guns schools yesterday FL Black ...   \n",
       "3  1470070447043665923  Liberals use deadly tornados attack Republican...   \n",
       "4  1470070444942237696  Unfortunately theres simple solution prevent f...   \n",
       "\n",
       "  withheld  \n",
       "0      NaN  \n",
       "1      NaN  \n",
       "2      NaN  \n",
       "3      NaN  \n",
       "4      NaN  "
      ]
     },
     "execution_count": 93,
     "metadata": {},
     "output_type": "execute_result"
    }
   ],
   "source": [
    "stop_words = set(stopwords.words('english'))\n",
    "\n",
    "sentences = df['text'].apply(word_tokenize)\n",
    "sentences = sentences.apply(lambda words: [w for w in words if w.lower() not in stop_words and w.isalpha()])\n",
    "sentences = sentences.apply(lambda words: ' '.join(words))\n",
    "df['text'] = sentences\n",
    "df.head()\n"
   ]
  },
  {
   "cell_type": "code",
   "execution_count": 94,
   "metadata": {},
   "outputs": [
    {
     "data": {
      "text/html": [
       "<div>\n",
       "<style scoped>\n",
       "    .dataframe tbody tr th:only-of-type {\n",
       "        vertical-align: middle;\n",
       "    }\n",
       "\n",
       "    .dataframe tbody tr th {\n",
       "        vertical-align: top;\n",
       "    }\n",
       "\n",
       "    .dataframe thead th {\n",
       "        text-align: right;\n",
       "    }\n",
       "</style>\n",
       "<table border=\"1\" class=\"dataframe\">\n",
       "  <thead>\n",
       "    <tr style=\"text-align: right;\">\n",
       "      <th></th>\n",
       "      <th>id</th>\n",
       "      <th>text</th>\n",
       "      <th>withheld</th>\n",
       "      <th>Sentiments_pos</th>\n",
       "      <th>Sentiments_neu</th>\n",
       "      <th>Sentiments_neg</th>\n",
       "      <th>Sentiments_compound</th>\n",
       "    </tr>\n",
       "  </thead>\n",
       "  <tbody>\n",
       "    <tr>\n",
       "      <th>0</th>\n",
       "      <td>1470070450155839490</td>\n",
       "      <td>anything like highest inflation years dont wan...</td>\n",
       "      <td>NaN</td>\n",
       "      <td>0.156</td>\n",
       "      <td>0.720</td>\n",
       "      <td>0.124</td>\n",
       "      <td>0.2681</td>\n",
       "    </tr>\n",
       "    <tr>\n",
       "      <th>1</th>\n",
       "      <td>1470070450138935301</td>\n",
       "      <td>got ta laugh party cant end Covid wants believ...</td>\n",
       "      <td>NaN</td>\n",
       "      <td>0.344</td>\n",
       "      <td>0.656</td>\n",
       "      <td>0.000</td>\n",
       "      <td>0.7430</td>\n",
       "    </tr>\n",
       "    <tr>\n",
       "      <th>2</th>\n",
       "      <td>1470070447744163843</td>\n",
       "      <td>lot incidents guns schools yesterday FL Black ...</td>\n",
       "      <td>NaN</td>\n",
       "      <td>0.173</td>\n",
       "      <td>0.827</td>\n",
       "      <td>0.000</td>\n",
       "      <td>0.3182</td>\n",
       "    </tr>\n",
       "    <tr>\n",
       "      <th>3</th>\n",
       "      <td>1470070447043665923</td>\n",
       "      <td>Liberals use deadly tornados attack Republican...</td>\n",
       "      <td>NaN</td>\n",
       "      <td>0.074</td>\n",
       "      <td>0.343</td>\n",
       "      <td>0.583</td>\n",
       "      <td>-0.9601</td>\n",
       "    </tr>\n",
       "    <tr>\n",
       "      <th>4</th>\n",
       "      <td>1470070444942237696</td>\n",
       "      <td>Unfortunately theres simple solution prevent f...</td>\n",
       "      <td>NaN</td>\n",
       "      <td>0.215</td>\n",
       "      <td>0.633</td>\n",
       "      <td>0.152</td>\n",
       "      <td>0.0000</td>\n",
       "    </tr>\n",
       "  </tbody>\n",
       "</table>\n",
       "</div>"
      ],
      "text/plain": [
       "                    id                                               text  \\\n",
       "0  1470070450155839490  anything like highest inflation years dont wan...   \n",
       "1  1470070450138935301  got ta laugh party cant end Covid wants believ...   \n",
       "2  1470070447744163843  lot incidents guns schools yesterday FL Black ...   \n",
       "3  1470070447043665923  Liberals use deadly tornados attack Republican...   \n",
       "4  1470070444942237696  Unfortunately theres simple solution prevent f...   \n",
       "\n",
       "  withheld  Sentiments_pos  Sentiments_neu  Sentiments_neg  \\\n",
       "0      NaN           0.156           0.720           0.124   \n",
       "1      NaN           0.344           0.656           0.000   \n",
       "2      NaN           0.173           0.827           0.000   \n",
       "3      NaN           0.074           0.343           0.583   \n",
       "4      NaN           0.215           0.633           0.152   \n",
       "\n",
       "   Sentiments_compound  \n",
       "0               0.2681  \n",
       "1               0.7430  \n",
       "2               0.3182  \n",
       "3              -0.9601  \n",
       "4               0.0000  "
      ]
     },
     "execution_count": 94,
     "metadata": {},
     "output_type": "execute_result"
    }
   ],
   "source": [
    "sia = SentimentIntensityAnalyzer()\n",
    "df['Sentiments_pos'] = df['text'].apply(lambda s: sia.polarity_scores(s).get('pos'))\n",
    "df['Sentiments_neu'] = df['text'].apply(lambda s: sia.polarity_scores(s).get('neu'))\n",
    "df['Sentiments_neg'] = df['text'].apply(lambda s: sia.polarity_scores(s).get('neg'))\n",
    "df['Sentiments_compound'] = df['text'].apply(lambda s: sia.polarity_scores(s).get('compound'))\n",
    "df.head()"
   ]
  },
  {
   "cell_type": "code",
   "execution_count": 95,
   "metadata": {},
   "outputs": [
    {
     "data": {
      "text/plain": [
       "<AxesSubplot:xlabel='Sentiments_compound', ylabel='Percent'>"
      ]
     },
     "execution_count": 95,
     "metadata": {},
     "output_type": "execute_result"
    },
    {
     "data": {
      "image/png": "[encoded data removed]",
      "text/plain": [
       "<Figure size 432x288 with 1 Axes>"
      ]
     },
     "metadata": {
      "needs_background": "light"
     },
     "output_type": "display_data"
    }
   ],
   "source": [
    "fig = sns.histplot(df, x = 'Sentiments_compound', stat = 'percent')\n",
    "fig"
   ]
  },
  {
   "cell_type": "code",
   "execution_count": 104,
   "metadata": {},
   "outputs": [
    {
     "name": "stdout",
     "output_type": "stream",
     "text": [
      "Negative Tweets\n",
      "----------------------------------------\n",
      "Tweet:  Create good paying jobs Americans supporting clean energy standard national climate bank clean energy tax credits Justice budget reconciliation turning point climate action\n",
      "Tweet:  One terrific reason achieve best economic justice fair housing climate justice gun reform racial justice white progressives liberals take cue Black women better\n",
      "Tweet:  right healthy environment rights clean air safe climate healthy sustainably produced food access safe water adequate sanitation environments live work play healthy ecosystems biodiversity life necessity\n",
      "Tweet:  moment Support Justice Initiative clean energy standard climate bank amp clean energy tax credits Let make budget reconciliation turning point climate action\n",
      "Tweet:  moment Support Justice Initiative clean energy standard greenhouse gas reduction fund amp clean energy tax credits Let make budget reconciliation turning point climate action\n",
      "Tweet:  perspective observations truly tune happening would required change actually motivated love nature rather love civilization\n",
      "Tweet:  Please RT PhD opportunity lab great opportunity students interested origin life evol\n",
      "Tweet:  todays Observer Best Kids Books also LOVE open letter got shout point writing climate change youre trying change TY amp getting ball rolling\n",
      "Tweet:  make sense apply stat programs NFL football coaches use select plays greatest statistical chance success Biden Build Back Better monstrosity Including climate change inflation stopping\n",
      "Tweet:  happy see people championing fossil fuels energy freedom face climate catastrophis\n"
     ]
    }
   ],
   "source": [
    "# Top Negative Tweets\n",
    "df = df.sort_values(by = ['Sentiments_compound'], ascending = False)\n",
    "print('Top 10 Positive Tweets')\n",
    "print('----------------------------------------')\n",
    "for i in range(0, 10):\n",
    "    print('Tweet: ', df.iloc[i]['text'])\n",
    "    "
   ]
  },
  {
   "cell_type": "code",
   "execution_count": 105,
   "metadata": {},
   "outputs": [
    {
     "name": "stdout",
     "output_type": "stream",
     "text": [
      "Top 10 Negative Tweets\n",
      "----------------------------------------\n",
      "Tweet:  climate change cult hates rejects belief hate church hate bible FURIOUS mortal enemy Christians pose biggest threat fraud God created Earth made atmosphere fix time\n",
      "Tweet:  plot Trump double check questionable votes ignore terror citizens BLM Antifa committed year real threat democracy fuck lying climate change causing tornado Kentucky sad piece shit\n",
      "Tweet:  Liberals use deadly tornados attack Republicans climate change Liberals attack attack attack Liberal Progressive bitter cruel selfishusing every opportunity attack others\n",
      "Tweet:  Liberals use deadly tornados attack Republicans climate change Liberals attack attack attack Liberal Progressive bitter cruel selfishusing every opportunity attack others\n",
      "Tweet:  disgusting limit level sink justify climate bullshit People killed Thousands thousands losing jobs Disgusting\n",
      "Tweet:  Dont believe climate freaks Worst US may dead may dead StLous illin missori apr SDkota Tex albma Mar dead indna misspi illin\n",
      "Tweet:  Biden uses tornado tragedy push climate agenda suggests storms consequence warming Fox NewsWhat disgusting bag puke using tragedy push climate change crap\n",
      "Tweet:  climate disaster Maine fishermen dread threat Read climate crisis threatens one Maines busiest fishing villages depend\n",
      "Tweet:  completely disgusted ashamed leaders Dems taken tornado tragedy made ad political climate change bill beyond insensitive cruel\n",
      "Tweet:  climate freaks droves worst tornadoes US history mar dead DeepS apr apr tennse misspi georg virg apr Apr dead k injured Indina illnos mich\n"
     ]
    }
   ],
   "source": [
    "# Top Negative Tweets\n",
    "df = df.sort_values(by = ['Sentiments_compound'])\n",
    "print('Top 10 Negative Tweets')\n",
    "print('----------------------------------------')\n",
    "for i in range(0, 10):\n",
    "    print('Tweet: ', df.iloc[i]['text'])\n"
   ]
  }
 ],
 "metadata": {
  "colab": {
   "authorship_tag": "ABX9TyNBDhfIoB5CYL49V+Q1hGDR",
   "include_colab_link": true,
   "name": "DataCleaning.ipynb",
   "provenance": []
  },
  "kernelspec": {
   "display_name": "Python 3 (ipykernel)",
   "language": "python",
   "name": "python3"
  },
  "language_info": {
   "codemirror_mode": {
    "name": "ipython",
    "version": 3
   },
   "file_extension": ".py",
   "mimetype": "text/x-python",
   "name": "python",
   "nbconvert_exporter": "python",
   "pygments_lexer": "ipython3",
   "version": "3.7.11"
  }
 },
 "nbformat": 4,
 "nbformat_minor": 1
}
