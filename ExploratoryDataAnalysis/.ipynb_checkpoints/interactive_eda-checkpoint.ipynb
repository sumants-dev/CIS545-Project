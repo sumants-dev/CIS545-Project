{
 "cells": [
  {
   "cell_type": "markdown",
   "metadata": {
    "colab_type": "text",
    "id": "view-in-github"
   },
   "source": [
    "<a href=\"https://colab.research.google.com/github/sumants-dev/CIS545-Project/blob/main/DataCleaning.ipynb\" target=\"_parent\"><img src=\"https://colab.research.google.com/assets/colab-badge.svg\" alt=\"Open In Colab\"/></a>"
   ]
  },
  {
   "cell_type": "code",
   "execution_count": 2,
   "metadata": {
    "id": "j2jqLTNq39r0",
    "scrolled": false
   },
   "outputs": [
    {
     "name": "stdout",
     "output_type": "stream",
     "text": [
      "Collecting pandas\n",
      "  Downloading pandas-1.3.4-cp39-cp39-manylinux_2_17_x86_64.manylinux2014_x86_64.whl (11.5 MB)\n",
      "\u001b[K     |████████████████████████████████| 11.5 MB 1.8 MB/s eta 0:00:01\n",
      "\u001b[?25hCollecting numpy>=1.17.3\n",
      "  Downloading numpy-1.21.4-cp39-cp39-manylinux_2_12_x86_64.manylinux2010_x86_64.whl (15.7 MB)\n",
      "\u001b[K     |████████████████████████████████| 15.7 MB 17.3 MB/s eta 0:00:01\n",
      "\u001b[?25hRequirement already satisfied: python-dateutil>=2.7.3 in /home/sumants/miniconda3/lib/python3.9/site-packages (from pandas) (2.8.2)\n",
      "Collecting pytz>=2017.3\n",
      "  Using cached pytz-2021.3-py2.py3-none-any.whl (503 kB)\n",
      "Requirement already satisfied: six>=1.5 in /home/sumants/miniconda3/lib/python3.9/site-packages (from python-dateutil>=2.7.3->pandas) (1.16.0)\n",
      "Installing collected packages: pytz, numpy, pandas\n",
      "Successfully installed numpy-1.21.4 pandas-1.3.4 pytz-2021.3\n",
      "Collecting geopandas\n",
      "  Using cached geopandas-0.10.2-py2.py3-none-any.whl (1.0 MB)\n",
      "Collecting pyproj>=2.2.0\n",
      "  Downloading pyproj-3.3.0-cp39-cp39-manylinux_2_12_x86_64.manylinux2010_x86_64.whl (5.8 MB)\n",
      "\u001b[K     |████████████████████████████████| 5.8 MB 1.5 MB/s eta 0:00:01\n",
      "\u001b[?25hRequirement already satisfied: pandas>=0.25.0 in /home/sumants/miniconda3/lib/python3.9/site-packages (from geopandas) (1.3.4)\n",
      "Collecting fiona>=1.8\n",
      "  Downloading Fiona-1.8.20-cp39-cp39-manylinux_2_5_x86_64.manylinux1_x86_64.whl (15.4 MB)\n",
      "\u001b[K     |████████████████████████████████| 15.4 MB 12.6 MB/s eta 0:00:01\n",
      "\u001b[?25hCollecting shapely>=1.6\n",
      "  Downloading Shapely-1.8.0-cp39-cp39-manylinux_2_5_x86_64.manylinux1_x86_64.whl (1.1 MB)\n",
      "\u001b[K     |████████████████████████████████| 1.1 MB 38.4 MB/s eta 0:00:01\n",
      "\u001b[?25hCollecting munch\n",
      "  Using cached munch-2.5.0-py2.py3-none-any.whl (10 kB)\n",
      "Requirement already satisfied: click>=4.0 in /home/sumants/miniconda3/lib/python3.9/site-packages (from fiona>=1.8->geopandas) (8.0.3)\n",
      "Collecting click-plugins>=1.0\n",
      "  Using cached click_plugins-1.1.1-py2.py3-none-any.whl (7.5 kB)\n",
      "Requirement already satisfied: attrs>=17 in /home/sumants/miniconda3/lib/python3.9/site-packages (from fiona>=1.8->geopandas) (21.2.0)\n",
      "Requirement already satisfied: certifi in /home/sumants/miniconda3/lib/python3.9/site-packages (from fiona>=1.8->geopandas) (2021.5.30)\n",
      "Requirement already satisfied: six>=1.7 in /home/sumants/miniconda3/lib/python3.9/site-packages (from fiona>=1.8->geopandas) (1.16.0)\n",
      "Requirement already satisfied: setuptools in /home/sumants/miniconda3/lib/python3.9/site-packages (from fiona>=1.8->geopandas) (52.0.0.post20210125)\n",
      "Collecting cligj>=0.5\n",
      "  Using cached cligj-0.7.2-py3-none-any.whl (7.1 kB)\n",
      "Requirement already satisfied: numpy>=1.17.3 in /home/sumants/miniconda3/lib/python3.9/site-packages (from pandas>=0.25.0->geopandas) (1.21.4)\n",
      "Requirement already satisfied: python-dateutil>=2.7.3 in /home/sumants/miniconda3/lib/python3.9/site-packages (from pandas>=0.25.0->geopandas) (2.8.2)\n",
      "Requirement already satisfied: pytz>=2017.3 in /home/sumants/miniconda3/lib/python3.9/site-packages (from pandas>=0.25.0->geopandas) (2021.3)\n",
      "Installing collected packages: munch, cligj, click-plugins, shapely, pyproj, fiona, geopandas\n",
      "Successfully installed click-plugins-1.1.1 cligj-0.7.2 fiona-1.8.20 geopandas-0.10.2 munch-2.5.0 pyproj-3.3.0 shapely-1.8.0\n",
      "Collecting plotly-express\n",
      "  Using cached plotly_express-0.4.1-py2.py3-none-any.whl (2.9 kB)\n",
      "Collecting scipy>=0.18\n",
      "  Downloading scipy-1.7.3-cp39-cp39-manylinux_2_17_x86_64.manylinux2014_x86_64.whl (39.8 MB)\n",
      "\u001b[K     |████████████████████████████████| 39.8 MB 19.6 MB/s eta 0:00:01\n",
      "\u001b[?25hCollecting statsmodels>=0.9.0\n",
      "  Downloading statsmodels-0.13.1-cp39-cp39-manylinux_2_17_x86_64.manylinux2014_x86_64.whl (9.9 MB)\n",
      "\u001b[K     |████████████████████████████████| 9.9 MB 10.5 MB/s eta 0:00:01\n",
      "\u001b[?25hRequirement already satisfied: numpy>=1.11 in /home/sumants/miniconda3/lib/python3.9/site-packages (from plotly-express) (1.21.4)\n",
      "Collecting plotly>=4.1.0\n",
      "  Using cached plotly-5.4.0-py2.py3-none-any.whl (25.3 MB)\n",
      "Collecting patsy>=0.5\n",
      "  Using cached patsy-0.5.2-py2.py3-none-any.whl (233 kB)\n",
      "Requirement already satisfied: pandas>=0.20.0 in /home/sumants/miniconda3/lib/python3.9/site-packages (from plotly-express) (1.3.4)\n",
      "Requirement already satisfied: python-dateutil>=2.7.3 in /home/sumants/miniconda3/lib/python3.9/site-packages (from pandas>=0.20.0->plotly-express) (2.8.2)\n",
      "Requirement already satisfied: pytz>=2017.3 in /home/sumants/miniconda3/lib/python3.9/site-packages (from pandas>=0.20.0->plotly-express) (2021.3)\n",
      "Requirement already satisfied: six in /home/sumants/miniconda3/lib/python3.9/site-packages (from patsy>=0.5->plotly-express) (1.16.0)\n",
      "Collecting tenacity>=6.2.0\n",
      "  Using cached tenacity-8.0.1-py3-none-any.whl (24 kB)\n",
      "Installing collected packages: tenacity, scipy, patsy, statsmodels, plotly, plotly-express\n",
      "Successfully installed patsy-0.5.2 plotly-5.4.0 plotly-express-0.4.1 scipy-1.7.3 statsmodels-0.13.1 tenacity-8.0.1\n",
      "Requirement already satisfied: nbformat in /home/sumants/miniconda3/lib/python3.9/site-packages (5.1.3)\n",
      "Requirement already satisfied: ipython-genutils in /home/sumants/miniconda3/lib/python3.9/site-packages (from nbformat) (0.2.0)\n",
      "Requirement already satisfied: traitlets>=4.1 in /home/sumants/miniconda3/lib/python3.9/site-packages (from nbformat) (5.1.1)\n",
      "Requirement already satisfied: jupyter-core in /home/sumants/miniconda3/lib/python3.9/site-packages (from nbformat) (4.9.1)\n",
      "Requirement already satisfied: jsonschema!=2.5.0,>=2.4 in /home/sumants/miniconda3/lib/python3.9/site-packages (from nbformat) (4.2.1)\n",
      "Requirement already satisfied: pyrsistent!=0.17.0,!=0.17.1,!=0.17.2,>=0.14.0 in /home/sumants/miniconda3/lib/python3.9/site-packages (from jsonschema!=2.5.0,>=2.4->nbformat) (0.18.0)\n",
      "Requirement already satisfied: attrs>=17.4.0 in /home/sumants/miniconda3/lib/python3.9/site-packages (from jsonschema!=2.5.0,>=2.4->nbformat) (21.2.0)\n"
     ]
    }
   ],
   "source": [
    "!pip install pandas\n",
    "!pip install geopandas\n",
    "!pip install plotly-express\n",
    "!pip install nbformat"
   ]
  },
  {
   "cell_type": "code",
   "execution_count": 15,
   "metadata": {},
   "outputs": [
    {
     "name": "stdout",
     "output_type": "stream",
     "text": [
      "Requirement already satisfied: nbformat in /home/sumants/miniconda3/envs/cis545/lib/python3.8/site-packages (5.1.3)\n",
      "Requirement already satisfied: traitlets>=4.1 in /home/sumants/miniconda3/envs/cis545/lib/python3.8/site-packages (from nbformat) (5.1.1)\n",
      "Requirement already satisfied: ipython-genutils in /home/sumants/miniconda3/envs/cis545/lib/python3.8/site-packages (from nbformat) (0.2.0)\n",
      "Requirement already satisfied: jsonschema!=2.5.0,>=2.4 in /home/sumants/miniconda3/envs/cis545/lib/python3.8/site-packages (from nbformat) (3.2.0)\n",
      "Requirement already satisfied: jupyter-core in /home/sumants/miniconda3/envs/cis545/lib/python3.8/site-packages (from nbformat) (4.9.1)\n",
      "Requirement already satisfied: six>=1.11.0 in /home/sumants/miniconda3/envs/cis545/lib/python3.8/site-packages (from jsonschema!=2.5.0,>=2.4->nbformat) (1.16.0)\n",
      "Requirement already satisfied: pyrsistent>=0.14.0 in /home/sumants/miniconda3/envs/cis545/lib/python3.8/site-packages (from jsonschema!=2.5.0,>=2.4->nbformat) (0.18.0)\n",
      "Requirement already satisfied: attrs>=17.4.0 in /home/sumants/miniconda3/envs/cis545/lib/python3.8/site-packages (from jsonschema!=2.5.0,>=2.4->nbformat) (21.2.0)\n",
      "Requirement already satisfied: setuptools in /home/sumants/miniconda3/envs/cis545/lib/python3.8/site-packages (from jsonschema!=2.5.0,>=2.4->nbformat) (58.0.4)\n"
     ]
    }
   ],
   "source": [
    "!pip install --upgrade nbformat\n"
   ]
  },
  {
   "cell_type": "code",
   "execution_count": 1,
   "metadata": {},
   "outputs": [
    {
     "ename": "ModuleNotFoundError",
     "evalue": "No module named 'plotly'",
     "output_type": "error",
     "traceback": [
      "\u001b[0;31m---------------------------------------------------------------------------\u001b[0m",
      "\u001b[0;31mModuleNotFoundError\u001b[0m                       Traceback (most recent call last)",
      "\u001b[0;32m/tmp/ipykernel_10953/2582303920.py\u001b[0m in \u001b[0;36m<module>\u001b[0;34m\u001b[0m\n\u001b[0;32m----> 1\u001b[0;31m \u001b[0;32mimport\u001b[0m \u001b[0mplotly\u001b[0m\u001b[0;34m.\u001b[0m\u001b[0mexpress\u001b[0m \u001b[0;32mas\u001b[0m \u001b[0mpx\u001b[0m\u001b[0;34m\u001b[0m\u001b[0;34m\u001b[0m\u001b[0m\n\u001b[0m\u001b[1;32m      2\u001b[0m \u001b[0;32mimport\u001b[0m \u001b[0mpandas\u001b[0m \u001b[0;32mas\u001b[0m \u001b[0mpd\u001b[0m\u001b[0;34m\u001b[0m\u001b[0;34m\u001b[0m\u001b[0m\n\u001b[1;32m      3\u001b[0m \u001b[0;34m\u001b[0m\u001b[0m\n\u001b[1;32m      4\u001b[0m \u001b[0mcountry\u001b[0m \u001b[0;34m=\u001b[0m \u001b[0mpd\u001b[0m\u001b[0;34m.\u001b[0m\u001b[0mread_csv\u001b[0m\u001b[0;34m(\u001b[0m\u001b[0;34m'../Data/global_average_yearly_temp_with_features_clean.csv'\u001b[0m\u001b[0;34m)\u001b[0m\u001b[0;34m\u001b[0m\u001b[0;34m\u001b[0m\u001b[0m\n\u001b[1;32m      5\u001b[0m \u001b[0mcountry\u001b[0m\u001b[0;34m\u001b[0m\u001b[0;34m\u001b[0m\u001b[0m\n",
      "\u001b[0;31mModuleNotFoundError\u001b[0m: No module named 'plotly'"
     ]
    }
   ],
   "source": [
    "import plotly.express as px\n",
    "import pandas as pd\n",
    "\n",
    "country = pd.read_csv('../Data/global_average_yearly_temp_with_features_clean.csv')\n",
    "country\n"
   ]
  },
  {
   "cell_type": "code",
   "execution_count": 9,
   "metadata": {},
   "outputs": [
    {
     "data": {
      "application/vnd.plotly.v1+json": {
       "config": {
        "plotlyServerURL": "https://plot.ly"
       },
       "data": [
        {
         "coloraxis": "coloraxis",
         "geo": "geo",
         "hovertemplate": "<b>%{hovertext}</b><br><br>year=2011<br>iso_code=%{location}<br>AvgYearlyTemp=%{z}<extra></extra>",
         "hovertext": [
          "GLP",
          "GMB",
          "GNQ",
          "GRC",
          "GRD",
          "GRL",
          "GTM",
          "GUF",
          "GUY",
          "HKG",
          "HND",
          "HRV",
          "HTI",
          "HUN",
          "IDN",
          "IND",
          "IRL",
          "IRQ",
          "ISL",
          "ISR",
          "ITA",
          "JAM",
          "JOR",
          "JPN",
          "KAZ",
          "KEN",
          "KGZ",
          "KHM",
          "KIR",
          "KWT",
          "LBN",
          "LBR",
          "LBY",
          "LCA",
          "LIE",
          "LKA",
          "LSO",
          "LTU",
          "LUX",
          "LVA",
          "MAR",
          "MDG",
          "MEX",
          "MLI",
          "MLT",
          "MNE",
          "MNG",
          "MOZ",
          "MRT",
          "MSR",
          "MTQ",
          "MUS",
          "MWI",
          "MYS",
          "MYT",
          "NAM",
          "NCL",
          "NER",
          "NGA",
          "NIC",
          "NIU",
          "NLD",
          "NOR",
          "NPL",
          "NZL",
          "OMN",
          "PAK",
          "PAN",
          "PER",
          "PHL",
          "PLW",
          "PNG",
          "POL",
          "PRT",
          "PRY",
          "PYF",
          "QAT",
          "ROU",
          "RWA",
          "SAU",
          "SDN",
          "SEN",
          "SGP",
          "SLB",
          "SLE",
          "SLV",
          "SOM",
          "SRB",
          "SUR",
          "SVK",
          "SVN",
          "SWE",
          "SYC",
          "TCD",
          "TGO",
          "THA",
          "TJK",
          "TKM",
          "TON",
          "TUN",
          "TUR",
          "TWN",
          "UGA",
          "UKR",
          "URY",
          "UZB",
          "WSM",
          "YEM",
          "ZAF",
          "ZMB",
          "ZWE"
         ],
         "locations": [
          "GLP",
          "GMB",
          "GNQ",
          "GRC",
          "GRD",
          "GRL",
          "GTM",
          "GUF",
          "GUY",
          "HKG",
          "HND",
          "HRV",
          "HTI",
          "HUN",
          "IDN",
          "IND",
          "IRL",
          "IRQ",
          "ISL",
          "ISR",
          "ITA",
          "JAM",
          "JOR",
          "JPN",
          "KAZ",
          "KEN",
          "KGZ",
          "KHM",
          "KIR",
          "KWT",
          "LBN",
          "LBR",
          "LBY",
          "LCA",
          "LIE",
          "LKA",
          "LSO",
          "LTU",
          "LUX",
          "LVA",
          "MAR",
          "MDG",
          "MEX",
          "MLI",
          "MLT",
          "MNE",
          "MNG",
          "MOZ",
          "MRT",
          "MSR",
          "MTQ",
          "MUS",
          "MWI",
          "MYS",
          "MYT",
          "NAM",
          "NCL",
          "NER",
          "NGA",
          "NIC",
          "NIU",
          "NLD",
          "NOR",
          "NPL",
          "NZL",
          "OMN",
          "PAK",
          "PAN",
          "PER",
          "PHL",
          "PLW",
          "PNG",
          "POL",
          "PRT",
          "PRY",
          "PYF",
          "QAT",
          "ROU",
          "RWA",
          "SAU",
          "SDN",
          "SEN",
          "SGP",
          "SLB",
          "SLE",
          "SLV",
          "SOM",
          "SRB",
          "SUR",
          "SVK",
          "SVN",
          "SWE",
          "SYC",
          "TCD",
          "TGO",
          "THA",
          "TJK",
          "TKM",
          "TON",
          "TUN",
          "TUR",
          "TWN",
          "UGA",
          "UKR",
          "URY",
          "UZB",
          "WSM",
          "YEM",
          "ZAF",
          "ZMB",
          "ZWE"
         ],
         "name": "",
         "type": "choropleth",
         "z": [
          27.1765,
          28.282499999999995,
          25.545666666666666,
          15.261333333333331,
          27.66208333333333,
          -17.174333333333333,
          23.82083333333333,
          26.59133333333333,
          26.683416666666663,
          22.768166666666666,
          25.47425,
          12.755166666666668,
          26.943583333333336,
          10.877,
          26.202250000000003,
          24.41558333333333,
          10.345416666666669,
          22.59325,
          2.315416666666667,
          20.33125,
          14.173166666666663,
          26.640583333333336,
          20.1145,
          12.737749999999998,
          5.69625,
          24.96575,
          4.201583333333334,
          27.003500000000003,
          27.160666666666668,
          26.087499999999995,
          18.261666666666667,
          26.240666666666662,
          22.988333333333333,
          27.540166666666668,
          6.563083333333334,
          27.66916666666667,
          14.026916666666668,
          7.634999999999999,
          11.032000000000002,
          7.245249999999999,
          18.878833333333333,
          23.77683333333334,
          21.59933333333333,
          29.436666666666667,
          19.3135,
          11.23466666666667,
          -0.0920000000000002,
          24.30216666666667,
          28.63291666666667,
          27.2225,
          26.98783333333333,
          24.52233333333333,
          22.31325,
          26.440583333333336,
          27.188583333333337,
          20.350416666666668,
          23.530583333333336,
          28.487416666666665,
          27.622250000000008,
          26.614,
          25.982416666666666,
          11.076,
          2.1189166666666672,
          15.280666666666669,
          11.16325,
          28.150666666666663,
          21.768249999999995,
          26.70925,
          20.28408333333333,
          26.78591666666667,
          27.553416666666667,
          24.829833333333337,
          8.951666666666666,
          16.066416666666665,
          23.9915,
          26.39683333333333,
          28.1615,
          9.569,
          19.77375,
          26.63525000000001,
          27.80758333333333,
          28.77491666666667,
          27.282166666666665,
          27.23575,
          26.92625,
          25.549666666666667,
          27.92441666666667,
          10.823,
          27.0605,
          8.846,
          11.208083333333333,
          4.51875,
          27.731666666666666,
          27.78483333333334,
          27.77200000000001,
          26.25166666666667,
          5.351583333333334,
          15.786166666666666,
          24.236666666666668,
          20.994916666666665,
          11.914500000000002,
          22.27175,
          23.72675,
          8.790833333333333,
          17.824583333333337,
          13.141083333333333,
          26.71558333333333,
          27.288250000000005,
          17.552416666666666,
          21.77158333333333,
          21.602416666666667
         ]
        }
       ],
       "frames": [
        {
         "data": [
          {
           "coloraxis": "coloraxis",
           "geo": "geo",
           "hovertemplate": "<b>%{hovertext}</b><br><br>year=2011<br>iso_code=%{location}<br>AvgYearlyTemp=%{z}<extra></extra>",
           "hovertext": [
            "GLP",
            "GMB",
            "GNQ",
            "GRC",
            "GRD",
            "GRL",
            "GTM",
            "GUF",
            "GUY",
            "HKG",
            "HND",
            "HRV",
            "HTI",
            "HUN",
            "IDN",
            "IND",
            "IRL",
            "IRQ",
            "ISL",
            "ISR",
            "ITA",
            "JAM",
            "JOR",
            "JPN",
            "KAZ",
            "KEN",
            "KGZ",
            "KHM",
            "KIR",
            "KWT",
            "LBN",
            "LBR",
            "LBY",
            "LCA",
            "LIE",
            "LKA",
            "LSO",
            "LTU",
            "LUX",
            "LVA",
            "MAR",
            "MDG",
            "MEX",
            "MLI",
            "MLT",
            "MNE",
            "MNG",
            "MOZ",
            "MRT",
            "MSR",
            "MTQ",
            "MUS",
            "MWI",
            "MYS",
            "MYT",
            "NAM",
            "NCL",
            "NER",
            "NGA",
            "NIC",
            "NIU",
            "NLD",
            "NOR",
            "NPL",
            "NZL",
            "OMN",
            "PAK",
            "PAN",
            "PER",
            "PHL",
            "PLW",
            "PNG",
            "POL",
            "PRT",
            "PRY",
            "PYF",
            "QAT",
            "ROU",
            "RWA",
            "SAU",
            "SDN",
            "SEN",
            "SGP",
            "SLB",
            "SLE",
            "SLV",
            "SOM",
            "SRB",
            "SUR",
            "SVK",
            "SVN",
            "SWE",
            "SYC",
            "TCD",
            "TGO",
            "THA",
            "TJK",
            "TKM",
            "TON",
            "TUN",
            "TUR",
            "TWN",
            "UGA",
            "UKR",
            "URY",
            "UZB",
            "WSM",
            "YEM",
            "ZAF",
            "ZMB",
            "ZWE"
           ],
           "locations": [
            "GLP",
            "GMB",
            "GNQ",
            "GRC",
            "GRD",
            "GRL",
            "GTM",
            "GUF",
            "GUY",
            "HKG",
            "HND",
            "HRV",
            "HTI",
            "HUN",
            "IDN",
            "IND",
            "IRL",
            "IRQ",
            "ISL",
            "ISR",
            "ITA",
            "JAM",
            "JOR",
            "JPN",
            "KAZ",
            "KEN",
            "KGZ",
            "KHM",
            "KIR",
            "KWT",
            "LBN",
            "LBR",
            "LBY",
            "LCA",
            "LIE",
            "LKA",
            "LSO",
            "LTU",
            "LUX",
            "LVA",
            "MAR",
            "MDG",
            "MEX",
            "MLI",
            "MLT",
            "MNE",
            "MNG",
            "MOZ",
            "MRT",
            "MSR",
            "MTQ",
            "MUS",
            "MWI",
            "MYS",
            "MYT",
            "NAM",
            "NCL",
            "NER",
            "NGA",
            "NIC",
            "NIU",
            "NLD",
            "NOR",
            "NPL",
            "NZL",
            "OMN",
            "PAK",
            "PAN",
            "PER",
            "PHL",
            "PLW",
            "PNG",
            "POL",
            "PRT",
            "PRY",
            "PYF",
            "QAT",
            "ROU",
            "RWA",
            "SAU",
            "SDN",
            "SEN",
            "SGP",
            "SLB",
            "SLE",
            "SLV",
            "SOM",
            "SRB",
            "SUR",
            "SVK",
            "SVN",
            "SWE",
            "SYC",
            "TCD",
            "TGO",
            "THA",
            "TJK",
            "TKM",
            "TON",
            "TUN",
            "TUR",
            "TWN",
            "UGA",
            "UKR",
            "URY",
            "UZB",
            "WSM",
            "YEM",
            "ZAF",
            "ZMB",
            "ZWE"
           ],
           "name": "",
           "type": "choropleth",
           "z": [
            27.1765,
            28.282499999999995,
            25.545666666666666,
            15.261333333333331,
            27.66208333333333,
            -17.174333333333333,
            23.82083333333333,
            26.59133333333333,
            26.683416666666663,
            22.768166666666666,
            25.47425,
            12.755166666666668,
            26.943583333333336,
            10.877,
            26.202250000000003,
            24.41558333333333,
            10.345416666666669,
            22.59325,
            2.315416666666667,
            20.33125,
            14.173166666666663,
            26.640583333333336,
            20.1145,
            12.737749999999998,
            5.69625,
            24.96575,
            4.201583333333334,
            27.003500000000003,
            27.160666666666668,
            26.087499999999995,
            18.261666666666667,
            26.240666666666662,
            22.988333333333333,
            27.540166666666668,
            6.563083333333334,
            27.66916666666667,
            14.026916666666668,
            7.634999999999999,
            11.032000000000002,
            7.245249999999999,
            18.878833333333333,
            23.77683333333334,
            21.59933333333333,
            29.436666666666667,
            19.3135,
            11.23466666666667,
            -0.0920000000000002,
            24.30216666666667,
            28.63291666666667,
            27.2225,
            26.98783333333333,
            24.52233333333333,
            22.31325,
            26.440583333333336,
            27.188583333333337,
            20.350416666666668,
            23.530583333333336,
            28.487416666666665,
            27.622250000000008,
            26.614,
            25.982416666666666,
            11.076,
            2.1189166666666672,
            15.280666666666669,
            11.16325,
            28.150666666666663,
            21.768249999999995,
            26.70925,
            20.28408333333333,
            26.78591666666667,
            27.553416666666667,
            24.829833333333337,
            8.951666666666666,
            16.066416666666665,
            23.9915,
            26.39683333333333,
            28.1615,
            9.569,
            19.77375,
            26.63525000000001,
            27.80758333333333,
            28.77491666666667,
            27.282166666666665,
            27.23575,
            26.92625,
            25.549666666666667,
            27.92441666666667,
            10.823,
            27.0605,
            8.846,
            11.208083333333333,
            4.51875,
            27.731666666666666,
            27.78483333333334,
            27.77200000000001,
            26.25166666666667,
            5.351583333333334,
            15.786166666666666,
            24.236666666666668,
            20.994916666666665,
            11.914500000000002,
            22.27175,
            23.72675,
            8.790833333333333,
            17.824583333333337,
            13.141083333333333,
            26.71558333333333,
            27.288250000000005,
            17.552416666666666,
            21.77158333333333,
            21.602416666666667
           ]
          }
         ],
         "name": "2011"
        },
        {
         "data": [
          {
           "coloraxis": "coloraxis",
           "geo": "geo",
           "hovertemplate": "<b>%{hovertext}</b><br><br>year=2012<br>iso_code=%{location}<br>AvgYearlyTemp=%{z}<extra></extra>",
           "hovertext": [
            "ABW",
            "AFG",
            "AGO",
            "AIA",
            "ALB",
            "AND",
            "ARE",
            "ARG",
            "ARM",
            "AUS",
            "AUT",
            "AZE",
            "BDI",
            "BEL",
            "BEN",
            "BFA",
            "BGD",
            "BGR",
            "BHR",
            "BHS",
            "BLR",
            "BLZ",
            "BRA",
            "BRB",
            "BTN",
            "BWA",
            "CAF",
            "CAN",
            "CHE",
            "CHL",
            "CHN",
            "CMR",
            "COG",
            "COL",
            "COM",
            "CRI",
            "CUB",
            "CUW",
            "CYP",
            "DEU",
            "DJI",
            "DMA",
            "DNK",
            "DOM",
            "DZA",
            "ECU",
            "EGY",
            "ERI",
            "ESP",
            "EST",
            "ETH",
            "FIN",
            "FJI",
            "FRA",
            "FRO",
            "GAB",
            "GEO",
            "GHA",
            "GIN",
            "GLP",
            "GMB",
            "GNQ",
            "GRC",
            "GRD",
            "GRL",
            "GTM",
            "GUF",
            "GUY",
            "HKG",
            "HND",
            "HRV",
            "HTI",
            "HUN",
            "IDN",
            "IND",
            "IRL",
            "IRQ",
            "ISL",
            "ISR",
            "ITA",
            "JAM",
            "JOR",
            "JPN",
            "KAZ",
            "KEN",
            "KGZ",
            "KHM",
            "KIR",
            "KWT",
            "LBN",
            "LBR",
            "LBY",
            "LCA",
            "LIE",
            "LKA",
            "LSO",
            "LTU",
            "LUX",
            "LVA",
            "MAR",
            "MDG",
            "MEX",
            "MLI",
            "MLT",
            "MNE",
            "MNG",
            "MOZ",
            "MRT",
            "MSR",
            "MTQ",
            "MUS",
            "MWI",
            "MYS",
            "MYT",
            "NAM",
            "NCL",
            "NER",
            "NGA",
            "NIC",
            "NIU",
            "NLD",
            "NOR",
            "NPL",
            "NZL",
            "OMN",
            "PAK",
            "PAN",
            "PER",
            "PHL",
            "PLW",
            "PNG",
            "POL",
            "PRT",
            "PRY",
            "PYF",
            "QAT",
            "ROU",
            "RWA",
            "SAU",
            "SDN",
            "SEN",
            "SGP",
            "SLB",
            "SLE",
            "SLV",
            "SOM",
            "SRB",
            "SUR",
            "SVK",
            "SVN",
            "SWE",
            "SYC",
            "TCD",
            "TGO",
            "THA",
            "TJK",
            "TKM",
            "TON",
            "TUN",
            "TUR",
            "TWN",
            "UGA",
            "UKR",
            "URY",
            "UZB",
            "WSM",
            "YEM",
            "ZAF",
            "ZMB",
            "ZWE"
           ],
           "locations": [
            "ABW",
            "AFG",
            "AGO",
            "AIA",
            "ALB",
            "AND",
            "ARE",
            "ARG",
            "ARM",
            "AUS",
            "AUT",
            "AZE",
            "BDI",
            "BEL",
            "BEN",
            "BFA",
            "BGD",
            "BGR",
            "BHR",
            "BHS",
            "BLR",
            "BLZ",
            "BRA",
            "BRB",
            "BTN",
            "BWA",
            "CAF",
            "CAN",
            "CHE",
            "CHL",
            "CHN",
            "CMR",
            "COG",
            "COL",
            "COM",
            "CRI",
            "CUB",
            "CUW",
            "CYP",
            "DEU",
            "DJI",
            "DMA",
            "DNK",
            "DOM",
            "DZA",
            "ECU",
            "EGY",
            "ERI",
            "ESP",
            "EST",
            "ETH",
            "FIN",
            "FJI",
            "FRA",
            "FRO",
            "GAB",
            "GEO",
            "GHA",
            "GIN",
            "GLP",
            "GMB",
            "GNQ",
            "GRC",
            "GRD",
            "GRL",
            "GTM",
            "GUF",
            "GUY",
            "HKG",
            "HND",
            "HRV",
            "HTI",
            "HUN",
            "IDN",
            "IND",
            "IRL",
            "IRQ",
            "ISL",
            "ISR",
            "ITA",
            "JAM",
            "JOR",
            "JPN",
            "KAZ",
            "KEN",
            "KGZ",
            "KHM",
            "KIR",
            "KWT",
            "LBN",
            "LBR",
            "LBY",
            "LCA",
            "LIE",
            "LKA",
            "LSO",
            "LTU",
            "LUX",
            "LVA",
            "MAR",
            "MDG",
            "MEX",
            "MLI",
            "MLT",
            "MNE",
            "MNG",
            "MOZ",
            "MRT",
            "MSR",
            "MTQ",
            "MUS",
            "MWI",
            "MYS",
            "MYT",
            "NAM",
            "NCL",
            "NER",
            "NGA",
            "NIC",
            "NIU",
            "NLD",
            "NOR",
            "NPL",
            "NZL",
            "OMN",
            "PAK",
            "PAN",
            "PER",
            "PHL",
            "PLW",
            "PNG",
            "POL",
            "PRT",
            "PRY",
            "PYF",
            "QAT",
            "ROU",
            "RWA",
            "SAU",
            "SDN",
            "SEN",
            "SGP",
            "SLB",
            "SLE",
            "SLV",
            "SOM",
            "SRB",
            "SUR",
            "SVK",
            "SVN",
            "SWE",
            "SYC",
            "TCD",
            "TGO",
            "THA",
            "TJK",
            "TKM",
            "TON",
            "TUN",
            "TUR",
            "TWN",
            "UGA",
            "UKR",
            "URY",
            "UZB",
            "WSM",
            "YEM",
            "ZAF",
            "ZMB",
            "ZWE"
           ],
           "name": "",
           "type": "choropleth",
           "z": [
            28.65233333333333,
            14.481583333333331,
            22.12333333333333,
            27.639250000000004,
            13.76825,
            12.339916666666667,
            29.42583333333333,
            15.688999999999998,
            10.35075,
            22.0245,
            7.611333333333334,
            13.08675,
            20.75425,
            10.351833333333332,
            27.751833333333337,
            28.63,
            25.533583333333336,
            12.027583333333332,
            27.52933333333333,
            25.816416666666665,
            6.835166666666667,
            25.73441666666667,
            25.71708333333333,
            27.346666666666668,
            12.27975,
            22.40008333333333,
            25.6395,
            -3.176833333333334,
            8.159249999999998,
            10.272583333333335,
            7.077083333333332,
            24.877,
            24.873500000000003,
            25.38133333333333,
            26.38325,
            26.282,
            26.059,
            28.053,
            20.012,
            9.227166666666664,
            29.92358333333333,
            27.112333333333336,
            -16.260916666666667,
            26.340083333333336,
            23.95483333333333,
            22.445916666666665,
            23.770916666666665,
            27.88008333333333,
            14.58,
            5.486,
            23.976166666666668,
            1.90725,
            25.478250000000003,
            13.707166666666666,
            6.981416666666667,
            24.831666666666667,
            9.787333333333333,
            27.2795,
            26.06316666666667,
            27.318250000000003,
            28.301666666666662,
            25.53683333333333,
            16.0395,
            27.636416666666666,
            -16.77225,
            23.848166666666668,
            26.656333333333333,
            26.800166666666662,
            23.217,
            25.26058333333333,
            12.9735,
            27.04508333333333,
            11.293666666666669,
            26.32208333333333,
            24.640833333333337,
            10.035833333333333,
            23.428916666666662,
            2.463416666666667,
            21.006083333333333,
            14.079,
            26.88508333333333,
            20.82025,
            12.565666666666669,
            6.075416666666668,
            24.925416666666667,
            3.5769166666666674,
            27.806249999999995,
            27.3385,
            26.67558333333334,
            18.989083333333333,
            25.99558333333333,
            23.270666666666667,
            27.57891666666667,
            5.876083333333335,
            27.94983333333333,
            14.3865,
            6.723583333333333,
            10.10925,
            6.043333333333336,
            18.66875,
            23.325333333333333,
            21.652416666666667,
            28.60183333333333,
            19.829166666666666,
            11.531833333333331,
            -0.5962499999999994,
            24.009583333333328,
            28.02683333333333,
            27.3685,
            27.112333333333336,
            24.374,
            21.887416666666667,
            26.62275,
            26.97,
            20.795,
            23.21341666666667,
            28.07275,
            27.40791666666667,
            26.531916666666664,
            25.80558333333333,
            10.438166666666667,
            1.141666666666666,
            15.419833333333331,
            10.656916666666666,
            28.211583333333326,
            21.198,
            27.0825,
            20.460000000000004,
            27.14891666666667,
            27.72125,
            24.84358333333334,
            8.53775,
            15.392166666666666,
            24.46575,
            26.919833333333333,
            28.4845,
            10.301083333333333,
            19.95941666666667,
            26.988916666666665,
            27.8685,
            28.63558333333333,
            27.303583333333336,
            27.18,
            26.676416666666668,
            25.56033333333333,
            27.9385,
            11.45175,
            27.18941666666666,
            8.873166666666666,
            11.278250000000003,
            2.9728333333333343,
            27.772583333333333,
            27.701166666666666,
            27.419916666666666,
            27.289,
            4.337583333333333,
            15.855833333333337,
            23.84166666666667,
            21.479166666666668,
            12.854416666666667,
            22.558333333333337,
            23.805666666666667,
            9.290666666666665,
            18.509,
            13.144166666666669,
            26.926666666666662,
            27.445000000000004,
            17.84691666666667,
            21.69775,
            21.52133333333333
           ]
          }
         ],
         "name": "2012"
        },
        {
         "data": [
          {
           "coloraxis": "coloraxis",
           "geo": "geo",
           "hovertemplate": "<b>%{hovertext}</b><br><br>year=2013<br>iso_code=%{location}<br>AvgYearlyTemp=%{z}<extra></extra>",
           "hovertext": [
            "ABW",
            "AFG",
            "AGO",
            "AIA",
            "ALB",
            "AND",
            "ARE",
            "ARG",
            "ARM",
            "AUS",
            "AUT",
            "AZE",
            "BDI",
            "BEL",
            "BEN",
            "BFA",
            "BGD",
            "BGR",
            "BHR",
            "BHS",
            "BLR",
            "BLZ",
            "BRA",
            "BRB",
            "BTN",
            "BWA",
            "CAF",
            "CAN",
            "CHE",
            "CHL",
            "CHN",
            "CMR",
            "COG",
            "COL",
            "COM",
            "CRI",
            "CUB",
            "CUW",
            "CYP",
            "DEU",
            "DJI",
            "DMA",
            "DNK",
            "DOM",
            "DZA",
            "ECU",
            "EGY",
            "ERI",
            "ESP",
            "EST",
            "ETH",
            "FIN",
            "FJI",
            "FRA",
            "FRO",
            "GAB",
            "GEO",
            "GHA",
            "GIN",
            "GLP",
            "GMB",
            "GNQ",
            "GRC",
            "GRD",
            "GRL",
            "GTM",
            "GUF",
            "GUY",
            "HKG",
            "HND",
            "HRV",
            "HTI",
            "HUN",
            "IDN",
            "IND",
            "IRL",
            "IRQ",
            "ISL",
            "ISR",
            "ITA",
            "JAM",
            "JOR",
            "JPN",
            "KAZ",
            "KEN",
            "KGZ",
            "KHM",
            "KIR",
            "KWT",
            "LBN",
            "LBR",
            "LBY",
            "LCA",
            "LIE",
            "LKA",
            "LSO",
            "LTU",
            "LUX",
            "LVA",
            "MAR",
            "MDG",
            "MEX",
            "MLI",
            "MLT",
            "MNE",
            "MNG",
            "MOZ",
            "MRT",
            "MSR",
            "MTQ",
            "MUS",
            "MWI",
            "MYS",
            "MYT",
            "NAM",
            "NCL",
            "NER",
            "NGA",
            "NIC",
            "NIU",
            "NLD",
            "NOR",
            "NPL",
            "NZL",
            "OMN",
            "PAK",
            "PAN",
            "PER",
            "PHL",
            "PLW",
            "PNG",
            "POL",
            "PRT",
            "PRY",
            "PYF",
            "QAT",
            "ROU",
            "RWA",
            "SAU",
            "SDN",
            "SEN",
            "SGP",
            "SLB",
            "SLE",
            "SLV",
            "SOM",
            "SRB",
            "SUR",
            "SVK",
            "SVN",
            "SWE",
            "SYC",
            "TCD",
            "TGO",
            "THA",
            "TJK",
            "TKM",
            "TON",
            "TUN",
            "TUR",
            "TWN",
            "UGA",
            "UKR",
            "URY",
            "UZB",
            "WSM",
            "YEM",
            "ZAF",
            "ZMB"
           ],
           "locations": [
            "ABW",
            "AFG",
            "AGO",
            "AIA",
            "ALB",
            "AND",
            "ARE",
            "ARG",
            "ARM",
            "AUS",
            "AUT",
            "AZE",
            "BDI",
            "BEL",
            "BEN",
            "BFA",
            "BGD",
            "BGR",
            "BHR",
            "BHS",
            "BLR",
            "BLZ",
            "BRA",
            "BRB",
            "BTN",
            "BWA",
            "CAF",
            "CAN",
            "CHE",
            "CHL",
            "CHN",
            "CMR",
            "COG",
            "COL",
            "COM",
            "CRI",
            "CUB",
            "CUW",
            "CYP",
            "DEU",
            "DJI",
            "DMA",
            "DNK",
            "DOM",
            "DZA",
            "ECU",
            "EGY",
            "ERI",
            "ESP",
            "EST",
            "ETH",
            "FIN",
            "FJI",
            "FRA",
            "FRO",
            "GAB",
            "GEO",
            "GHA",
            "GIN",
            "GLP",
            "GMB",
            "GNQ",
            "GRC",
            "GRD",
            "GRL",
            "GTM",
            "GUF",
            "GUY",
            "HKG",
            "HND",
            "HRV",
            "HTI",
            "HUN",
            "IDN",
            "IND",
            "IRL",
            "IRQ",
            "ISL",
            "ISR",
            "ITA",
            "JAM",
            "JOR",
            "JPN",
            "KAZ",
            "KEN",
            "KGZ",
            "KHM",
            "KIR",
            "KWT",
            "LBN",
            "LBR",
            "LBY",
            "LCA",
            "LIE",
            "LKA",
            "LSO",
            "LTU",
            "LUX",
            "LVA",
            "MAR",
            "MDG",
            "MEX",
            "MLI",
            "MLT",
            "MNE",
            "MNG",
            "MOZ",
            "MRT",
            "MSR",
            "MTQ",
            "MUS",
            "MWI",
            "MYS",
            "MYT",
            "NAM",
            "NCL",
            "NER",
            "NGA",
            "NIC",
            "NIU",
            "NLD",
            "NOR",
            "NPL",
            "NZL",
            "OMN",
            "PAK",
            "PAN",
            "PER",
            "PHL",
            "PLW",
            "PNG",
            "POL",
            "PRT",
            "PRY",
            "PYF",
            "QAT",
            "ROU",
            "RWA",
            "SAU",
            "SDN",
            "SEN",
            "SGP",
            "SLB",
            "SLE",
            "SLV",
            "SOM",
            "SRB",
            "SUR",
            "SVK",
            "SVN",
            "SWE",
            "SYC",
            "TCD",
            "TGO",
            "THA",
            "TJK",
            "TKM",
            "TON",
            "TUN",
            "TUR",
            "TWN",
            "UGA",
            "UKR",
            "URY",
            "UZB",
            "WSM",
            "YEM",
            "ZAF",
            "ZMB"
           ],
           "name": "",
           "type": "choropleth",
           "z": [
            28.54125,
            16.533625,
            22.507875,
            27.363,
            14.993875000000005,
            12.307875,
            29.370625000000004,
            14.457124999999998,
            11.34375,
            22.142875,
            8.055125,
            14.173875,
            20.86275,
            10.060125,
            28.160625,
            29.3855,
            25.9675,
            13.411874999999998,
            27.925375000000003,
            26.011666666666667,
            8.2665,
            26.21333333333333,
            25.348125,
            27.251125,
            13.331374999999998,
            21.82575,
            26.210875,
            -1.6406666666666676,
            8.1775,
            9.877374999999995,
            9.295,
            25.307624999999994,
            25.139375,
            25.579500000000003,
            26.542875,
            26.457555555555555,
            26.250444444444447,
            28.1205,
            20.349875,
            9.23525,
            30.74475,
            26.922125,
            -14.92725,
            26.290333333333333,
            25.1215,
            22.264125,
            24.50525,
            28.503500000000003,
            14.858875,
            6.961749999999999,
            24.6315,
            4.064125,
            25.941375,
            13.584625,
            7.076625000000002,
            24.838500000000003,
            10.686625,
            27.717500000000005,
            26.68675,
            27.15675,
            28.72437500000001,
            25.5905,
            17.1535,
            27.612875000000003,
            -15.40975,
            24.29133333333333,
            26.528875000000003,
            26.687500000000004,
            23.690375000000003,
            25.732333333333333,
            13.589,
            27.03155555555556,
            12.3015,
            26.467,
            25.41325,
            9.97475,
            24.2405,
            2.92025,
            21.222375,
            14.165,
            27.12533333333333,
            21.319125,
            12.96475,
            8.937249999999999,
            24.935250000000003,
            6.263125,
            28.259625,
            27.551375,
            27.273375,
            19.17825,
            26.314,
            24.314,
            27.4655,
            6.002375,
            28.175125,
            13.773625,
            7.803999999999999,
            9.90025,
            7.322375000000001,
            19.30525,
            22.9595,
            22.219222222222225,
            29.942,
            19.437375000000003,
            12.870375,
            2.8077500000000004,
            23.488,
            29.11,
            27.21325,
            26.922125,
            24.312375000000003,
            21.269375,
            26.9735,
            27.13175,
            21.265875,
            23.382375000000003,
            29.231375,
            28.005875,
            26.87155555555556,
            26.047500000000003,
            9.8565,
            1.735375,
            15.951250000000003,
            11.0885,
            28.194375,
            22.320875,
            27.217500000000005,
            19.97625,
            27.416750000000004,
            27.82037500000001,
            25.069125000000003,
            9.257875,
            15.88925,
            22.81775,
            26.907875,
            28.57375,
            11.6455,
            20.103874999999995,
            27.74075,
            28.572000000000003,
            29.3015,
            27.602875,
            27.21025,
            26.948,
            25.91077777777778,
            27.975625,
            12.843625,
            26.95725,
            9.685624999999998,
            11.74475,
            4.199750000000001,
            27.451625000000007,
            28.356000000000005,
            27.718000000000004,
            27.864875,
            6.562625,
            18.6135,
            24.285875,
            21.887125,
            14.026625,
            23.015,
            24.024625,
            10.9135,
            16.754375,
            16.18825,
            27.176500000000004,
            28.12975,
            17.325375,
            21.196
           ]
          }
         ],
         "name": "2013"
        }
       ],
       "layout": {
        "coloraxis": {
         "colorbar": {
          "title": {
           "text": "AvgYearlyTemp"
          }
         },
         "colorscale": [
          [
           0,
           "#0d0887"
          ],
          [
           0.1111111111111111,
           "#46039f"
          ],
          [
           0.2222222222222222,
           "#7201a8"
          ],
          [
           0.3333333333333333,
           "#9c179e"
          ],
          [
           0.4444444444444444,
           "#bd3786"
          ],
          [
           0.5555555555555556,
           "#d8576b"
          ],
          [
           0.6666666666666666,
           "#ed7953"
          ],
          [
           0.7777777777777778,
           "#fb9f3a"
          ],
          [
           0.8888888888888888,
           "#fdca26"
          ],
          [
           1,
           "#f0f921"
          ]
         ]
        },
        "geo": {
         "center": {},
         "domain": {
          "x": [
           0,
           1
          ],
          "y": [
           0,
           1
          ]
         }
        },
        "legend": {
         "tracegroupgap": 0
        },
        "margin": {
         "t": 60
        },
        "sliders": [
         {
          "active": 0,
          "currentvalue": {
           "prefix": "year="
          },
          "len": 0.9,
          "pad": {
           "b": 10,
           "t": 60
          },
          "steps": [
           {
            "args": [
             [
              "2011"
             ],
             {
              "frame": {
               "duration": 0,
               "redraw": true
              },
              "fromcurrent": true,
              "mode": "immediate",
              "transition": {
               "duration": 0,
               "easing": "linear"
              }
             }
            ],
            "label": "2011",
            "method": "animate"
           },
           {
            "args": [
             [
              "2012"
             ],
             {
              "frame": {
               "duration": 0,
               "redraw": true
              },
              "fromcurrent": true,
              "mode": "immediate",
              "transition": {
               "duration": 0,
               "easing": "linear"
              }
             }
            ],
            "label": "2012",
            "method": "animate"
           },
           {
            "args": [
             [
              "2013"
             ],
             {
              "frame": {
               "duration": 0,
               "redraw": true
              },
              "fromcurrent": true,
              "mode": "immediate",
              "transition": {
               "duration": 0,
               "easing": "linear"
              }
             }
            ],
            "label": "2013",
            "method": "animate"
           }
          ],
          "x": 0.1,
          "xanchor": "left",
          "y": 0,
          "yanchor": "top"
         }
        ],
        "template": {
         "data": {
          "bar": [
           {
            "error_x": {
             "color": "#2a3f5f"
            },
            "error_y": {
             "color": "#2a3f5f"
            },
            "marker": {
             "line": {
              "color": "#E5ECF6",
              "width": 0.5
             },
             "pattern": {
              "fillmode": "overlay",
              "size": 10,
              "solidity": 0.2
             }
            },
            "type": "bar"
           }
          ],
          "barpolar": [
           {
            "marker": {
             "line": {
              "color": "#E5ECF6",
              "width": 0.5
             },
             "pattern": {
              "fillmode": "overlay",
              "size": 10,
              "solidity": 0.2
             }
            },
            "type": "barpolar"
           }
          ],
          "carpet": [
           {
            "aaxis": {
             "endlinecolor": "#2a3f5f",
             "gridcolor": "white",
             "linecolor": "white",
             "minorgridcolor": "white",
             "startlinecolor": "#2a3f5f"
            },
            "baxis": {
             "endlinecolor": "#2a3f5f",
             "gridcolor": "white",
             "linecolor": "white",
             "minorgridcolor": "white",
             "startlinecolor": "#2a3f5f"
            },
            "type": "carpet"
           }
          ],
          "choropleth": [
           {
            "colorbar": {
             "outlinewidth": 0,
             "ticks": ""
            },
            "type": "choropleth"
           }
          ],
          "contour": [
           {
            "colorbar": {
             "outlinewidth": 0,
             "ticks": ""
            },
            "colorscale": [
             [
              0,
              "#0d0887"
             ],
             [
              0.1111111111111111,
              "#46039f"
             ],
             [
              0.2222222222222222,
              "#7201a8"
             ],
             [
              0.3333333333333333,
              "#9c179e"
             ],
             [
              0.4444444444444444,
              "#bd3786"
             ],
             [
              0.5555555555555556,
              "#d8576b"
             ],
             [
              0.6666666666666666,
              "#ed7953"
             ],
             [
              0.7777777777777778,
              "#fb9f3a"
             ],
             [
              0.8888888888888888,
              "#fdca26"
             ],
             [
              1,
              "#f0f921"
             ]
            ],
            "type": "contour"
           }
          ],
          "contourcarpet": [
           {
            "colorbar": {
             "outlinewidth": 0,
             "ticks": ""
            },
            "type": "contourcarpet"
           }
          ],
          "heatmap": [
           {
            "colorbar": {
             "outlinewidth": 0,
             "ticks": ""
            },
            "colorscale": [
             [
              0,
              "#0d0887"
             ],
             [
              0.1111111111111111,
              "#46039f"
             ],
             [
              0.2222222222222222,
              "#7201a8"
             ],
             [
              0.3333333333333333,
              "#9c179e"
             ],
             [
              0.4444444444444444,
              "#bd3786"
             ],
             [
              0.5555555555555556,
              "#d8576b"
             ],
             [
              0.6666666666666666,
              "#ed7953"
             ],
             [
              0.7777777777777778,
              "#fb9f3a"
             ],
             [
              0.8888888888888888,
              "#fdca26"
             ],
             [
              1,
              "#f0f921"
             ]
            ],
            "type": "heatmap"
           }
          ],
          "heatmapgl": [
           {
            "colorbar": {
             "outlinewidth": 0,
             "ticks": ""
            },
            "colorscale": [
             [
              0,
              "#0d0887"
             ],
             [
              0.1111111111111111,
              "#46039f"
             ],
             [
              0.2222222222222222,
              "#7201a8"
             ],
             [
              0.3333333333333333,
              "#9c179e"
             ],
             [
              0.4444444444444444,
              "#bd3786"
             ],
             [
              0.5555555555555556,
              "#d8576b"
             ],
             [
              0.6666666666666666,
              "#ed7953"
             ],
             [
              0.7777777777777778,
              "#fb9f3a"
             ],
             [
              0.8888888888888888,
              "#fdca26"
             ],
             [
              1,
              "#f0f921"
             ]
            ],
            "type": "heatmapgl"
           }
          ],
          "histogram": [
           {
            "marker": {
             "pattern": {
              "fillmode": "overlay",
              "size": 10,
              "solidity": 0.2
             }
            },
            "type": "histogram"
           }
          ],
          "histogram2d": [
           {
            "colorbar": {
             "outlinewidth": 0,
             "ticks": ""
            },
            "colorscale": [
             [
              0,
              "#0d0887"
             ],
             [
              0.1111111111111111,
              "#46039f"
             ],
             [
              0.2222222222222222,
              "#7201a8"
             ],
             [
              0.3333333333333333,
              "#9c179e"
             ],
             [
              0.4444444444444444,
              "#bd3786"
             ],
             [
              0.5555555555555556,
              "#d8576b"
             ],
             [
              0.6666666666666666,
              "#ed7953"
             ],
             [
              0.7777777777777778,
              "#fb9f3a"
             ],
             [
              0.8888888888888888,
              "#fdca26"
             ],
             [
              1,
              "#f0f921"
             ]
            ],
            "type": "histogram2d"
           }
          ],
          "histogram2dcontour": [
           {
            "colorbar": {
             "outlinewidth": 0,
             "ticks": ""
            },
            "colorscale": [
             [
              0,
              "#0d0887"
             ],
             [
              0.1111111111111111,
              "#46039f"
             ],
             [
              0.2222222222222222,
              "#7201a8"
             ],
             [
              0.3333333333333333,
              "#9c179e"
             ],
             [
              0.4444444444444444,
              "#bd3786"
             ],
             [
              0.5555555555555556,
              "#d8576b"
             ],
             [
              0.6666666666666666,
              "#ed7953"
             ],
             [
              0.7777777777777778,
              "#fb9f3a"
             ],
             [
              0.8888888888888888,
              "#fdca26"
             ],
             [
              1,
              "#f0f921"
             ]
            ],
            "type": "histogram2dcontour"
           }
          ],
          "mesh3d": [
           {
            "colorbar": {
             "outlinewidth": 0,
             "ticks": ""
            },
            "type": "mesh3d"
           }
          ],
          "parcoords": [
           {
            "line": {
             "colorbar": {
              "outlinewidth": 0,
              "ticks": ""
             }
            },
            "type": "parcoords"
           }
          ],
          "pie": [
           {
            "automargin": true,
            "type": "pie"
           }
          ],
          "scatter": [
           {
            "marker": {
             "colorbar": {
              "outlinewidth": 0,
              "ticks": ""
             }
            },
            "type": "scatter"
           }
          ],
          "scatter3d": [
           {
            "line": {
             "colorbar": {
              "outlinewidth": 0,
              "ticks": ""
             }
            },
            "marker": {
             "colorbar": {
              "outlinewidth": 0,
              "ticks": ""
             }
            },
            "type": "scatter3d"
           }
          ],
          "scattercarpet": [
           {
            "marker": {
             "colorbar": {
              "outlinewidth": 0,
              "ticks": ""
             }
            },
            "type": "scattercarpet"
           }
          ],
          "scattergeo": [
           {
            "marker": {
             "colorbar": {
              "outlinewidth": 0,
              "ticks": ""
             }
            },
            "type": "scattergeo"
           }
          ],
          "scattergl": [
           {
            "marker": {
             "colorbar": {
              "outlinewidth": 0,
              "ticks": ""
             }
            },
            "type": "scattergl"
           }
          ],
          "scattermapbox": [
           {
            "marker": {
             "colorbar": {
              "outlinewidth": 0,
              "ticks": ""
             }
            },
            "type": "scattermapbox"
           }
          ],
          "scatterpolar": [
           {
            "marker": {
             "colorbar": {
              "outlinewidth": 0,
              "ticks": ""
             }
            },
            "type": "scatterpolar"
           }
          ],
          "scatterpolargl": [
           {
            "marker": {
             "colorbar": {
              "outlinewidth": 0,
              "ticks": ""
             }
            },
            "type": "scatterpolargl"
           }
          ],
          "scatterternary": [
           {
            "marker": {
             "colorbar": {
              "outlinewidth": 0,
              "ticks": ""
             }
            },
            "type": "scatterternary"
           }
          ],
          "surface": [
           {
            "colorbar": {
             "outlinewidth": 0,
             "ticks": ""
            },
            "colorscale": [
             [
              0,
              "#0d0887"
             ],
             [
              0.1111111111111111,
              "#46039f"
             ],
             [
              0.2222222222222222,
              "#7201a8"
             ],
             [
              0.3333333333333333,
              "#9c179e"
             ],
             [
              0.4444444444444444,
              "#bd3786"
             ],
             [
              0.5555555555555556,
              "#d8576b"
             ],
             [
              0.6666666666666666,
              "#ed7953"
             ],
             [
              0.7777777777777778,
              "#fb9f3a"
             ],
             [
              0.8888888888888888,
              "#fdca26"
             ],
             [
              1,
              "#f0f921"
             ]
            ],
            "type": "surface"
           }
          ],
          "table": [
           {
            "cells": {
             "fill": {
              "color": "#EBF0F8"
             },
             "line": {
              "color": "white"
             }
            },
            "header": {
             "fill": {
              "color": "#C8D4E3"
             },
             "line": {
              "color": "white"
             }
            },
            "type": "table"
           }
          ]
         },
         "layout": {
          "annotationdefaults": {
           "arrowcolor": "#2a3f5f",
           "arrowhead": 0,
           "arrowwidth": 1
          },
          "autotypenumbers": "strict",
          "coloraxis": {
           "colorbar": {
            "outlinewidth": 0,
            "ticks": ""
           }
          },
          "colorscale": {
           "diverging": [
            [
             0,
             "#8e0152"
            ],
            [
             0.1,
             "#c51b7d"
            ],
            [
             0.2,
             "#de77ae"
            ],
            [
             0.3,
             "#f1b6da"
            ],
            [
             0.4,
             "#fde0ef"
            ],
            [
             0.5,
             "#f7f7f7"
            ],
            [
             0.6,
             "#e6f5d0"
            ],
            [
             0.7,
             "#b8e186"
            ],
            [
             0.8,
             "#7fbc41"
            ],
            [
             0.9,
             "#4d9221"
            ],
            [
             1,
             "#276419"
            ]
           ],
           "sequential": [
            [
             0,
             "#0d0887"
            ],
            [
             0.1111111111111111,
             "#46039f"
            ],
            [
             0.2222222222222222,
             "#7201a8"
            ],
            [
             0.3333333333333333,
             "#9c179e"
            ],
            [
             0.4444444444444444,
             "#bd3786"
            ],
            [
             0.5555555555555556,
             "#d8576b"
            ],
            [
             0.6666666666666666,
             "#ed7953"
            ],
            [
             0.7777777777777778,
             "#fb9f3a"
            ],
            [
             0.8888888888888888,
             "#fdca26"
            ],
            [
             1,
             "#f0f921"
            ]
           ],
           "sequentialminus": [
            [
             0,
             "#0d0887"
            ],
            [
             0.1111111111111111,
             "#46039f"
            ],
            [
             0.2222222222222222,
             "#7201a8"
            ],
            [
             0.3333333333333333,
             "#9c179e"
            ],
            [
             0.4444444444444444,
             "#bd3786"
            ],
            [
             0.5555555555555556,
             "#d8576b"
            ],
            [
             0.6666666666666666,
             "#ed7953"
            ],
            [
             0.7777777777777778,
             "#fb9f3a"
            ],
            [
             0.8888888888888888,
             "#fdca26"
            ],
            [
             1,
             "#f0f921"
            ]
           ]
          },
          "colorway": [
           "#636efa",
           "#EF553B",
           "#00cc96",
           "#ab63fa",
           "#FFA15A",
           "#19d3f3",
           "#FF6692",
           "#B6E880",
           "#FF97FF",
           "#FECB52"
          ],
          "font": {
           "color": "#2a3f5f"
          },
          "geo": {
           "bgcolor": "white",
           "lakecolor": "white",
           "landcolor": "#E5ECF6",
           "showlakes": true,
           "showland": true,
           "subunitcolor": "white"
          },
          "hoverlabel": {
           "align": "left"
          },
          "hovermode": "closest",
          "mapbox": {
           "style": "light"
          },
          "paper_bgcolor": "white",
          "plot_bgcolor": "#E5ECF6",
          "polar": {
           "angularaxis": {
            "gridcolor": "white",
            "linecolor": "white",
            "ticks": ""
           },
           "bgcolor": "#E5ECF6",
           "radialaxis": {
            "gridcolor": "white",
            "linecolor": "white",
            "ticks": ""
           }
          },
          "scene": {
           "xaxis": {
            "backgroundcolor": "#E5ECF6",
            "gridcolor": "white",
            "gridwidth": 2,
            "linecolor": "white",
            "showbackground": true,
            "ticks": "",
            "zerolinecolor": "white"
           },
           "yaxis": {
            "backgroundcolor": "#E5ECF6",
            "gridcolor": "white",
            "gridwidth": 2,
            "linecolor": "white",
            "showbackground": true,
            "ticks": "",
            "zerolinecolor": "white"
           },
           "zaxis": {
            "backgroundcolor": "#E5ECF6",
            "gridcolor": "white",
            "gridwidth": 2,
            "linecolor": "white",
            "showbackground": true,
            "ticks": "",
            "zerolinecolor": "white"
           }
          },
          "shapedefaults": {
           "line": {
            "color": "#2a3f5f"
           }
          },
          "ternary": {
           "aaxis": {
            "gridcolor": "white",
            "linecolor": "white",
            "ticks": ""
           },
           "baxis": {
            "gridcolor": "white",
            "linecolor": "white",
            "ticks": ""
           },
           "bgcolor": "#E5ECF6",
           "caxis": {
            "gridcolor": "white",
            "linecolor": "white",
            "ticks": ""
           }
          },
          "title": {
           "x": 0.05
          },
          "xaxis": {
           "automargin": true,
           "gridcolor": "white",
           "linecolor": "white",
           "ticks": "",
           "title": {
            "standoff": 15
           },
           "zerolinecolor": "white",
           "zerolinewidth": 2
          },
          "yaxis": {
           "automargin": true,
           "gridcolor": "white",
           "linecolor": "white",
           "ticks": "",
           "title": {
            "standoff": 15
           },
           "zerolinecolor": "white",
           "zerolinewidth": 2
          }
         }
        },
        "updatemenus": [
         {
          "buttons": [
           {
            "args": [
             null,
             {
              "frame": {
               "duration": 500,
               "redraw": true
              },
              "fromcurrent": true,
              "mode": "immediate",
              "transition": {
               "duration": 500,
               "easing": "linear"
              }
             }
            ],
            "label": "&#9654;",
            "method": "animate"
           },
           {
            "args": [
             [
              null
             ],
             {
              "frame": {
               "duration": 0,
               "redraw": true
              },
              "fromcurrent": true,
              "mode": "immediate",
              "transition": {
               "duration": 0,
               "easing": "linear"
              }
             }
            ],
            "label": "&#9724;",
            "method": "animate"
           }
          ],
          "direction": "left",
          "pad": {
           "r": 10,
           "t": 70
          },
          "showactive": false,
          "type": "buttons",
          "x": 0.1,
          "xanchor": "right",
          "y": 0,
          "yanchor": "top"
         }
        ]
       }
      },
      "text/html": [
       "<div>                            <div id=\"23f1f571-2a80-4e2b-82b5-52b0f8a7db47\" class=\"plotly-graph-div\" style=\"height:525px; width:100%;\"></div>            <script type=\"text/javascript\">                require([\"plotly\"], function(Plotly) {                    window.PLOTLYENV=window.PLOTLYENV || {};                                    if (document.getElementById(\"23f1f571-2a80-4e2b-82b5-52b0f8a7db47\")) {                    Plotly.newPlot(                        \"23f1f571-2a80-4e2b-82b5-52b0f8a7db47\",                        [{\"coloraxis\":\"coloraxis\",\"geo\":\"geo\",\"hovertemplate\":\"<b>%{hovertext}</b><br><br>year=2011<br>iso_code=%{location}<br>AvgYearlyTemp=%{z}<extra></extra>\",\"hovertext\":[\"GLP\",\"GMB\",\"GNQ\",\"GRC\",\"GRD\",\"GRL\",\"GTM\",\"GUF\",\"GUY\",\"HKG\",\"HND\",\"HRV\",\"HTI\",\"HUN\",\"IDN\",\"IND\",\"IRL\",\"IRQ\",\"ISL\",\"ISR\",\"ITA\",\"JAM\",\"JOR\",\"JPN\",\"KAZ\",\"KEN\",\"KGZ\",\"KHM\",\"KIR\",\"KWT\",\"LBN\",\"LBR\",\"LBY\",\"LCA\",\"LIE\",\"LKA\",\"LSO\",\"LTU\",\"LUX\",\"LVA\",\"MAR\",\"MDG\",\"MEX\",\"MLI\",\"MLT\",\"MNE\",\"MNG\",\"MOZ\",\"MRT\",\"MSR\",\"MTQ\",\"MUS\",\"MWI\",\"MYS\",\"MYT\",\"NAM\",\"NCL\",\"NER\",\"NGA\",\"NIC\",\"NIU\",\"NLD\",\"NOR\",\"NPL\",\"NZL\",\"OMN\",\"PAK\",\"PAN\",\"PER\",\"PHL\",\"PLW\",\"PNG\",\"POL\",\"PRT\",\"PRY\",\"PYF\",\"QAT\",\"ROU\",\"RWA\",\"SAU\",\"SDN\",\"SEN\",\"SGP\",\"SLB\",\"SLE\",\"SLV\",\"SOM\",\"SRB\",\"SUR\",\"SVK\",\"SVN\",\"SWE\",\"SYC\",\"TCD\",\"TGO\",\"THA\",\"TJK\",\"TKM\",\"TON\",\"TUN\",\"TUR\",\"TWN\",\"UGA\",\"UKR\",\"URY\",\"UZB\",\"WSM\",\"YEM\",\"ZAF\",\"ZMB\",\"ZWE\"],\"locations\":[\"GLP\",\"GMB\",\"GNQ\",\"GRC\",\"GRD\",\"GRL\",\"GTM\",\"GUF\",\"GUY\",\"HKG\",\"HND\",\"HRV\",\"HTI\",\"HUN\",\"IDN\",\"IND\",\"IRL\",\"IRQ\",\"ISL\",\"ISR\",\"ITA\",\"JAM\",\"JOR\",\"JPN\",\"KAZ\",\"KEN\",\"KGZ\",\"KHM\",\"KIR\",\"KWT\",\"LBN\",\"LBR\",\"LBY\",\"LCA\",\"LIE\",\"LKA\",\"LSO\",\"LTU\",\"LUX\",\"LVA\",\"MAR\",\"MDG\",\"MEX\",\"MLI\",\"MLT\",\"MNE\",\"MNG\",\"MOZ\",\"MRT\",\"MSR\",\"MTQ\",\"MUS\",\"MWI\",\"MYS\",\"MYT\",\"NAM\",\"NCL\",\"NER\",\"NGA\",\"NIC\",\"NIU\",\"NLD\",\"NOR\",\"NPL\",\"NZL\",\"OMN\",\"PAK\",\"PAN\",\"PER\",\"PHL\",\"PLW\",\"PNG\",\"POL\",\"PRT\",\"PRY\",\"PYF\",\"QAT\",\"ROU\",\"RWA\",\"SAU\",\"SDN\",\"SEN\",\"SGP\",\"SLB\",\"SLE\",\"SLV\",\"SOM\",\"SRB\",\"SUR\",\"SVK\",\"SVN\",\"SWE\",\"SYC\",\"TCD\",\"TGO\",\"THA\",\"TJK\",\"TKM\",\"TON\",\"TUN\",\"TUR\",\"TWN\",\"UGA\",\"UKR\",\"URY\",\"UZB\",\"WSM\",\"YEM\",\"ZAF\",\"ZMB\",\"ZWE\"],\"name\":\"\",\"z\":[27.1765,28.282499999999995,25.545666666666666,15.261333333333331,27.66208333333333,-17.174333333333333,23.82083333333333,26.59133333333333,26.683416666666663,22.768166666666666,25.47425,12.755166666666668,26.943583333333336,10.877,26.202250000000003,24.41558333333333,10.345416666666669,22.59325,2.315416666666667,20.33125,14.173166666666663,26.640583333333336,20.1145,12.737749999999998,5.69625,24.96575,4.201583333333334,27.003500000000003,27.160666666666668,26.087499999999995,18.261666666666667,26.240666666666662,22.988333333333333,27.540166666666668,6.563083333333334,27.66916666666667,14.026916666666668,7.634999999999999,11.032000000000002,7.245249999999999,18.878833333333333,23.77683333333334,21.59933333333333,29.436666666666667,19.3135,11.23466666666667,-0.0920000000000002,24.30216666666667,28.63291666666667,27.2225,26.98783333333333,24.52233333333333,22.31325,26.440583333333336,27.188583333333337,20.350416666666668,23.530583333333336,28.487416666666665,27.622250000000008,26.614,25.982416666666666,11.076,2.1189166666666672,15.280666666666669,11.16325,28.150666666666663,21.768249999999995,26.70925,20.28408333333333,26.78591666666667,27.553416666666667,24.829833333333337,8.951666666666666,16.066416666666665,23.9915,26.39683333333333,28.1615,9.569,19.77375,26.63525000000001,27.80758333333333,28.77491666666667,27.282166666666665,27.23575,26.92625,25.549666666666667,27.92441666666667,10.823,27.0605,8.846,11.208083333333333,4.51875,27.731666666666666,27.78483333333334,27.77200000000001,26.25166666666667,5.351583333333334,15.786166666666666,24.236666666666668,20.994916666666665,11.914500000000002,22.27175,23.72675,8.790833333333333,17.824583333333337,13.141083333333333,26.71558333333333,27.288250000000005,17.552416666666666,21.77158333333333,21.602416666666667],\"type\":\"choropleth\"}],                        {\"template\":{\"data\":{\"bar\":[{\"error_x\":{\"color\":\"#2a3f5f\"},\"error_y\":{\"color\":\"#2a3f5f\"},\"marker\":{\"line\":{\"color\":\"#E5ECF6\",\"width\":0.5},\"pattern\":{\"fillmode\":\"overlay\",\"size\":10,\"solidity\":0.2}},\"type\":\"bar\"}],\"barpolar\":[{\"marker\":{\"line\":{\"color\":\"#E5ECF6\",\"width\":0.5},\"pattern\":{\"fillmode\":\"overlay\",\"size\":10,\"solidity\":0.2}},\"type\":\"barpolar\"}],\"carpet\":[{\"aaxis\":{\"endlinecolor\":\"#2a3f5f\",\"gridcolor\":\"white\",\"linecolor\":\"white\",\"minorgridcolor\":\"white\",\"startlinecolor\":\"#2a3f5f\"},\"baxis\":{\"endlinecolor\":\"#2a3f5f\",\"gridcolor\":\"white\",\"linecolor\":\"white\",\"minorgridcolor\":\"white\",\"startlinecolor\":\"#2a3f5f\"},\"type\":\"carpet\"}],\"choropleth\":[{\"colorbar\":{\"outlinewidth\":0,\"ticks\":\"\"},\"type\":\"choropleth\"}],\"contour\":[{\"colorbar\":{\"outlinewidth\":0,\"ticks\":\"\"},\"colorscale\":[[0.0,\"#0d0887\"],[0.1111111111111111,\"#46039f\"],[0.2222222222222222,\"#7201a8\"],[0.3333333333333333,\"#9c179e\"],[0.4444444444444444,\"#bd3786\"],[0.5555555555555556,\"#d8576b\"],[0.6666666666666666,\"#ed7953\"],[0.7777777777777778,\"#fb9f3a\"],[0.8888888888888888,\"#fdca26\"],[1.0,\"#f0f921\"]],\"type\":\"contour\"}],\"contourcarpet\":[{\"colorbar\":{\"outlinewidth\":0,\"ticks\":\"\"},\"type\":\"contourcarpet\"}],\"heatmap\":[{\"colorbar\":{\"outlinewidth\":0,\"ticks\":\"\"},\"colorscale\":[[0.0,\"#0d0887\"],[0.1111111111111111,\"#46039f\"],[0.2222222222222222,\"#7201a8\"],[0.3333333333333333,\"#9c179e\"],[0.4444444444444444,\"#bd3786\"],[0.5555555555555556,\"#d8576b\"],[0.6666666666666666,\"#ed7953\"],[0.7777777777777778,\"#fb9f3a\"],[0.8888888888888888,\"#fdca26\"],[1.0,\"#f0f921\"]],\"type\":\"heatmap\"}],\"heatmapgl\":[{\"colorbar\":{\"outlinewidth\":0,\"ticks\":\"\"},\"colorscale\":[[0.0,\"#0d0887\"],[0.1111111111111111,\"#46039f\"],[0.2222222222222222,\"#7201a8\"],[0.3333333333333333,\"#9c179e\"],[0.4444444444444444,\"#bd3786\"],[0.5555555555555556,\"#d8576b\"],[0.6666666666666666,\"#ed7953\"],[0.7777777777777778,\"#fb9f3a\"],[0.8888888888888888,\"#fdca26\"],[1.0,\"#f0f921\"]],\"type\":\"heatmapgl\"}],\"histogram\":[{\"marker\":{\"pattern\":{\"fillmode\":\"overlay\",\"size\":10,\"solidity\":0.2}},\"type\":\"histogram\"}],\"histogram2d\":[{\"colorbar\":{\"outlinewidth\":0,\"ticks\":\"\"},\"colorscale\":[[0.0,\"#0d0887\"],[0.1111111111111111,\"#46039f\"],[0.2222222222222222,\"#7201a8\"],[0.3333333333333333,\"#9c179e\"],[0.4444444444444444,\"#bd3786\"],[0.5555555555555556,\"#d8576b\"],[0.6666666666666666,\"#ed7953\"],[0.7777777777777778,\"#fb9f3a\"],[0.8888888888888888,\"#fdca26\"],[1.0,\"#f0f921\"]],\"type\":\"histogram2d\"}],\"histogram2dcontour\":[{\"colorbar\":{\"outlinewidth\":0,\"ticks\":\"\"},\"colorscale\":[[0.0,\"#0d0887\"],[0.1111111111111111,\"#46039f\"],[0.2222222222222222,\"#7201a8\"],[0.3333333333333333,\"#9c179e\"],[0.4444444444444444,\"#bd3786\"],[0.5555555555555556,\"#d8576b\"],[0.6666666666666666,\"#ed7953\"],[0.7777777777777778,\"#fb9f3a\"],[0.8888888888888888,\"#fdca26\"],[1.0,\"#f0f921\"]],\"type\":\"histogram2dcontour\"}],\"mesh3d\":[{\"colorbar\":{\"outlinewidth\":0,\"ticks\":\"\"},\"type\":\"mesh3d\"}],\"parcoords\":[{\"line\":{\"colorbar\":{\"outlinewidth\":0,\"ticks\":\"\"}},\"type\":\"parcoords\"}],\"pie\":[{\"automargin\":true,\"type\":\"pie\"}],\"scatter\":[{\"marker\":{\"colorbar\":{\"outlinewidth\":0,\"ticks\":\"\"}},\"type\":\"scatter\"}],\"scatter3d\":[{\"line\":{\"colorbar\":{\"outlinewidth\":0,\"ticks\":\"\"}},\"marker\":{\"colorbar\":{\"outlinewidth\":0,\"ticks\":\"\"}},\"type\":\"scatter3d\"}],\"scattercarpet\":[{\"marker\":{\"colorbar\":{\"outlinewidth\":0,\"ticks\":\"\"}},\"type\":\"scattercarpet\"}],\"scattergeo\":[{\"marker\":{\"colorbar\":{\"outlinewidth\":0,\"ticks\":\"\"}},\"type\":\"scattergeo\"}],\"scattergl\":[{\"marker\":{\"colorbar\":{\"outlinewidth\":0,\"ticks\":\"\"}},\"type\":\"scattergl\"}],\"scattermapbox\":[{\"marker\":{\"colorbar\":{\"outlinewidth\":0,\"ticks\":\"\"}},\"type\":\"scattermapbox\"}],\"scatterpolar\":[{\"marker\":{\"colorbar\":{\"outlinewidth\":0,\"ticks\":\"\"}},\"type\":\"scatterpolar\"}],\"scatterpolargl\":[{\"marker\":{\"colorbar\":{\"outlinewidth\":0,\"ticks\":\"\"}},\"type\":\"scatterpolargl\"}],\"scatterternary\":[{\"marker\":{\"colorbar\":{\"outlinewidth\":0,\"ticks\":\"\"}},\"type\":\"scatterternary\"}],\"surface\":[{\"colorbar\":{\"outlinewidth\":0,\"ticks\":\"\"},\"colorscale\":[[0.0,\"#0d0887\"],[0.1111111111111111,\"#46039f\"],[0.2222222222222222,\"#7201a8\"],[0.3333333333333333,\"#9c179e\"],[0.4444444444444444,\"#bd3786\"],[0.5555555555555556,\"#d8576b\"],[0.6666666666666666,\"#ed7953\"],[0.7777777777777778,\"#fb9f3a\"],[0.8888888888888888,\"#fdca26\"],[1.0,\"#f0f921\"]],\"type\":\"surface\"}],\"table\":[{\"cells\":{\"fill\":{\"color\":\"#EBF0F8\"},\"line\":{\"color\":\"white\"}},\"header\":{\"fill\":{\"color\":\"#C8D4E3\"},\"line\":{\"color\":\"white\"}},\"type\":\"table\"}]},\"layout\":{\"annotationdefaults\":{\"arrowcolor\":\"#2a3f5f\",\"arrowhead\":0,\"arrowwidth\":1},\"autotypenumbers\":\"strict\",\"coloraxis\":{\"colorbar\":{\"outlinewidth\":0,\"ticks\":\"\"}},\"colorscale\":{\"diverging\":[[0,\"#8e0152\"],[0.1,\"#c51b7d\"],[0.2,\"#de77ae\"],[0.3,\"#f1b6da\"],[0.4,\"#fde0ef\"],[0.5,\"#f7f7f7\"],[0.6,\"#e6f5d0\"],[0.7,\"#b8e186\"],[0.8,\"#7fbc41\"],[0.9,\"#4d9221\"],[1,\"#276419\"]],\"sequential\":[[0.0,\"#0d0887\"],[0.1111111111111111,\"#46039f\"],[0.2222222222222222,\"#7201a8\"],[0.3333333333333333,\"#9c179e\"],[0.4444444444444444,\"#bd3786\"],[0.5555555555555556,\"#d8576b\"],[0.6666666666666666,\"#ed7953\"],[0.7777777777777778,\"#fb9f3a\"],[0.8888888888888888,\"#fdca26\"],[1.0,\"#f0f921\"]],\"sequentialminus\":[[0.0,\"#0d0887\"],[0.1111111111111111,\"#46039f\"],[0.2222222222222222,\"#7201a8\"],[0.3333333333333333,\"#9c179e\"],[0.4444444444444444,\"#bd3786\"],[0.5555555555555556,\"#d8576b\"],[0.6666666666666666,\"#ed7953\"],[0.7777777777777778,\"#fb9f3a\"],[0.8888888888888888,\"#fdca26\"],[1.0,\"#f0f921\"]]},\"colorway\":[\"#636efa\",\"#EF553B\",\"#00cc96\",\"#ab63fa\",\"#FFA15A\",\"#19d3f3\",\"#FF6692\",\"#B6E880\",\"#FF97FF\",\"#FECB52\"],\"font\":{\"color\":\"#2a3f5f\"},\"geo\":{\"bgcolor\":\"white\",\"lakecolor\":\"white\",\"landcolor\":\"#E5ECF6\",\"showlakes\":true,\"showland\":true,\"subunitcolor\":\"white\"},\"hoverlabel\":{\"align\":\"left\"},\"hovermode\":\"closest\",\"mapbox\":{\"style\":\"light\"},\"paper_bgcolor\":\"white\",\"plot_bgcolor\":\"#E5ECF6\",\"polar\":{\"angularaxis\":{\"gridcolor\":\"white\",\"linecolor\":\"white\",\"ticks\":\"\"},\"bgcolor\":\"#E5ECF6\",\"radialaxis\":{\"gridcolor\":\"white\",\"linecolor\":\"white\",\"ticks\":\"\"}},\"scene\":{\"xaxis\":{\"backgroundcolor\":\"#E5ECF6\",\"gridcolor\":\"white\",\"gridwidth\":2,\"linecolor\":\"white\",\"showbackground\":true,\"ticks\":\"\",\"zerolinecolor\":\"white\"},\"yaxis\":{\"backgroundcolor\":\"#E5ECF6\",\"gridcolor\":\"white\",\"gridwidth\":2,\"linecolor\":\"white\",\"showbackground\":true,\"ticks\":\"\",\"zerolinecolor\":\"white\"},\"zaxis\":{\"backgroundcolor\":\"#E5ECF6\",\"gridcolor\":\"white\",\"gridwidth\":2,\"linecolor\":\"white\",\"showbackground\":true,\"ticks\":\"\",\"zerolinecolor\":\"white\"}},\"shapedefaults\":{\"line\":{\"color\":\"#2a3f5f\"}},\"ternary\":{\"aaxis\":{\"gridcolor\":\"white\",\"linecolor\":\"white\",\"ticks\":\"\"},\"baxis\":{\"gridcolor\":\"white\",\"linecolor\":\"white\",\"ticks\":\"\"},\"bgcolor\":\"#E5ECF6\",\"caxis\":{\"gridcolor\":\"white\",\"linecolor\":\"white\",\"ticks\":\"\"}},\"title\":{\"x\":0.05},\"xaxis\":{\"automargin\":true,\"gridcolor\":\"white\",\"linecolor\":\"white\",\"ticks\":\"\",\"title\":{\"standoff\":15},\"zerolinecolor\":\"white\",\"zerolinewidth\":2},\"yaxis\":{\"automargin\":true,\"gridcolor\":\"white\",\"linecolor\":\"white\",\"ticks\":\"\",\"title\":{\"standoff\":15},\"zerolinecolor\":\"white\",\"zerolinewidth\":2}}},\"geo\":{\"domain\":{\"x\":[0.0,1.0],\"y\":[0.0,1.0]},\"center\":{}},\"coloraxis\":{\"colorbar\":{\"title\":{\"text\":\"AvgYearlyTemp\"}},\"colorscale\":[[0.0,\"#0d0887\"],[0.1111111111111111,\"#46039f\"],[0.2222222222222222,\"#7201a8\"],[0.3333333333333333,\"#9c179e\"],[0.4444444444444444,\"#bd3786\"],[0.5555555555555556,\"#d8576b\"],[0.6666666666666666,\"#ed7953\"],[0.7777777777777778,\"#fb9f3a\"],[0.8888888888888888,\"#fdca26\"],[1.0,\"#f0f921\"]]},\"legend\":{\"tracegroupgap\":0},\"margin\":{\"t\":60},\"updatemenus\":[{\"buttons\":[{\"args\":[null,{\"frame\":{\"duration\":500,\"redraw\":true},\"mode\":\"immediate\",\"fromcurrent\":true,\"transition\":{\"duration\":500,\"easing\":\"linear\"}}],\"label\":\"&#9654;\",\"method\":\"animate\"},{\"args\":[[null],{\"frame\":{\"duration\":0,\"redraw\":true},\"mode\":\"immediate\",\"fromcurrent\":true,\"transition\":{\"duration\":0,\"easing\":\"linear\"}}],\"label\":\"&#9724;\",\"method\":\"animate\"}],\"direction\":\"left\",\"pad\":{\"r\":10,\"t\":70},\"showactive\":false,\"type\":\"buttons\",\"x\":0.1,\"xanchor\":\"right\",\"y\":0,\"yanchor\":\"top\"}],\"sliders\":[{\"active\":0,\"currentvalue\":{\"prefix\":\"year=\"},\"len\":0.9,\"pad\":{\"b\":10,\"t\":60},\"steps\":[{\"args\":[[\"2011\"],{\"frame\":{\"duration\":0,\"redraw\":true},\"mode\":\"immediate\",\"fromcurrent\":true,\"transition\":{\"duration\":0,\"easing\":\"linear\"}}],\"label\":\"2011\",\"method\":\"animate\"},{\"args\":[[\"2012\"],{\"frame\":{\"duration\":0,\"redraw\":true},\"mode\":\"immediate\",\"fromcurrent\":true,\"transition\":{\"duration\":0,\"easing\":\"linear\"}}],\"label\":\"2012\",\"method\":\"animate\"},{\"args\":[[\"2013\"],{\"frame\":{\"duration\":0,\"redraw\":true},\"mode\":\"immediate\",\"fromcurrent\":true,\"transition\":{\"duration\":0,\"easing\":\"linear\"}}],\"label\":\"2013\",\"method\":\"animate\"}],\"x\":0.1,\"xanchor\":\"left\",\"y\":0,\"yanchor\":\"top\"}]},                        {\"responsive\": true}                    ).then(function(){\n",
       "                            Plotly.addFrames('23f1f571-2a80-4e2b-82b5-52b0f8a7db47', [{\"data\":[{\"coloraxis\":\"coloraxis\",\"geo\":\"geo\",\"hovertemplate\":\"<b>%{hovertext}</b><br><br>year=2011<br>iso_code=%{location}<br>AvgYearlyTemp=%{z}<extra></extra>\",\"hovertext\":[\"GLP\",\"GMB\",\"GNQ\",\"GRC\",\"GRD\",\"GRL\",\"GTM\",\"GUF\",\"GUY\",\"HKG\",\"HND\",\"HRV\",\"HTI\",\"HUN\",\"IDN\",\"IND\",\"IRL\",\"IRQ\",\"ISL\",\"ISR\",\"ITA\",\"JAM\",\"JOR\",\"JPN\",\"KAZ\",\"KEN\",\"KGZ\",\"KHM\",\"KIR\",\"KWT\",\"LBN\",\"LBR\",\"LBY\",\"LCA\",\"LIE\",\"LKA\",\"LSO\",\"LTU\",\"LUX\",\"LVA\",\"MAR\",\"MDG\",\"MEX\",\"MLI\",\"MLT\",\"MNE\",\"MNG\",\"MOZ\",\"MRT\",\"MSR\",\"MTQ\",\"MUS\",\"MWI\",\"MYS\",\"MYT\",\"NAM\",\"NCL\",\"NER\",\"NGA\",\"NIC\",\"NIU\",\"NLD\",\"NOR\",\"NPL\",\"NZL\",\"OMN\",\"PAK\",\"PAN\",\"PER\",\"PHL\",\"PLW\",\"PNG\",\"POL\",\"PRT\",\"PRY\",\"PYF\",\"QAT\",\"ROU\",\"RWA\",\"SAU\",\"SDN\",\"SEN\",\"SGP\",\"SLB\",\"SLE\",\"SLV\",\"SOM\",\"SRB\",\"SUR\",\"SVK\",\"SVN\",\"SWE\",\"SYC\",\"TCD\",\"TGO\",\"THA\",\"TJK\",\"TKM\",\"TON\",\"TUN\",\"TUR\",\"TWN\",\"UGA\",\"UKR\",\"URY\",\"UZB\",\"WSM\",\"YEM\",\"ZAF\",\"ZMB\",\"ZWE\"],\"locations\":[\"GLP\",\"GMB\",\"GNQ\",\"GRC\",\"GRD\",\"GRL\",\"GTM\",\"GUF\",\"GUY\",\"HKG\",\"HND\",\"HRV\",\"HTI\",\"HUN\",\"IDN\",\"IND\",\"IRL\",\"IRQ\",\"ISL\",\"ISR\",\"ITA\",\"JAM\",\"JOR\",\"JPN\",\"KAZ\",\"KEN\",\"KGZ\",\"KHM\",\"KIR\",\"KWT\",\"LBN\",\"LBR\",\"LBY\",\"LCA\",\"LIE\",\"LKA\",\"LSO\",\"LTU\",\"LUX\",\"LVA\",\"MAR\",\"MDG\",\"MEX\",\"MLI\",\"MLT\",\"MNE\",\"MNG\",\"MOZ\",\"MRT\",\"MSR\",\"MTQ\",\"MUS\",\"MWI\",\"MYS\",\"MYT\",\"NAM\",\"NCL\",\"NER\",\"NGA\",\"NIC\",\"NIU\",\"NLD\",\"NOR\",\"NPL\",\"NZL\",\"OMN\",\"PAK\",\"PAN\",\"PER\",\"PHL\",\"PLW\",\"PNG\",\"POL\",\"PRT\",\"PRY\",\"PYF\",\"QAT\",\"ROU\",\"RWA\",\"SAU\",\"SDN\",\"SEN\",\"SGP\",\"SLB\",\"SLE\",\"SLV\",\"SOM\",\"SRB\",\"SUR\",\"SVK\",\"SVN\",\"SWE\",\"SYC\",\"TCD\",\"TGO\",\"THA\",\"TJK\",\"TKM\",\"TON\",\"TUN\",\"TUR\",\"TWN\",\"UGA\",\"UKR\",\"URY\",\"UZB\",\"WSM\",\"YEM\",\"ZAF\",\"ZMB\",\"ZWE\"],\"name\":\"\",\"z\":[27.1765,28.282499999999995,25.545666666666666,15.261333333333331,27.66208333333333,-17.174333333333333,23.82083333333333,26.59133333333333,26.683416666666663,22.768166666666666,25.47425,12.755166666666668,26.943583333333336,10.877,26.202250000000003,24.41558333333333,10.345416666666669,22.59325,2.315416666666667,20.33125,14.173166666666663,26.640583333333336,20.1145,12.737749999999998,5.69625,24.96575,4.201583333333334,27.003500000000003,27.160666666666668,26.087499999999995,18.261666666666667,26.240666666666662,22.988333333333333,27.540166666666668,6.563083333333334,27.66916666666667,14.026916666666668,7.634999999999999,11.032000000000002,7.245249999999999,18.878833333333333,23.77683333333334,21.59933333333333,29.436666666666667,19.3135,11.23466666666667,-0.0920000000000002,24.30216666666667,28.63291666666667,27.2225,26.98783333333333,24.52233333333333,22.31325,26.440583333333336,27.188583333333337,20.350416666666668,23.530583333333336,28.487416666666665,27.622250000000008,26.614,25.982416666666666,11.076,2.1189166666666672,15.280666666666669,11.16325,28.150666666666663,21.768249999999995,26.70925,20.28408333333333,26.78591666666667,27.553416666666667,24.829833333333337,8.951666666666666,16.066416666666665,23.9915,26.39683333333333,28.1615,9.569,19.77375,26.63525000000001,27.80758333333333,28.77491666666667,27.282166666666665,27.23575,26.92625,25.549666666666667,27.92441666666667,10.823,27.0605,8.846,11.208083333333333,4.51875,27.731666666666666,27.78483333333334,27.77200000000001,26.25166666666667,5.351583333333334,15.786166666666666,24.236666666666668,20.994916666666665,11.914500000000002,22.27175,23.72675,8.790833333333333,17.824583333333337,13.141083333333333,26.71558333333333,27.288250000000005,17.552416666666666,21.77158333333333,21.602416666666667],\"type\":\"choropleth\"}],\"name\":\"2011\"},{\"data\":[{\"coloraxis\":\"coloraxis\",\"geo\":\"geo\",\"hovertemplate\":\"<b>%{hovertext}</b><br><br>year=2012<br>iso_code=%{location}<br>AvgYearlyTemp=%{z}<extra></extra>\",\"hovertext\":[\"ABW\",\"AFG\",\"AGO\",\"AIA\",\"ALB\",\"AND\",\"ARE\",\"ARG\",\"ARM\",\"AUS\",\"AUT\",\"AZE\",\"BDI\",\"BEL\",\"BEN\",\"BFA\",\"BGD\",\"BGR\",\"BHR\",\"BHS\",\"BLR\",\"BLZ\",\"BRA\",\"BRB\",\"BTN\",\"BWA\",\"CAF\",\"CAN\",\"CHE\",\"CHL\",\"CHN\",\"CMR\",\"COG\",\"COL\",\"COM\",\"CRI\",\"CUB\",\"CUW\",\"CYP\",\"DEU\",\"DJI\",\"DMA\",\"DNK\",\"DOM\",\"DZA\",\"ECU\",\"EGY\",\"ERI\",\"ESP\",\"EST\",\"ETH\",\"FIN\",\"FJI\",\"FRA\",\"FRO\",\"GAB\",\"GEO\",\"GHA\",\"GIN\",\"GLP\",\"GMB\",\"GNQ\",\"GRC\",\"GRD\",\"GRL\",\"GTM\",\"GUF\",\"GUY\",\"HKG\",\"HND\",\"HRV\",\"HTI\",\"HUN\",\"IDN\",\"IND\",\"IRL\",\"IRQ\",\"ISL\",\"ISR\",\"ITA\",\"JAM\",\"JOR\",\"JPN\",\"KAZ\",\"KEN\",\"KGZ\",\"KHM\",\"KIR\",\"KWT\",\"LBN\",\"LBR\",\"LBY\",\"LCA\",\"LIE\",\"LKA\",\"LSO\",\"LTU\",\"LUX\",\"LVA\",\"MAR\",\"MDG\",\"MEX\",\"MLI\",\"MLT\",\"MNE\",\"MNG\",\"MOZ\",\"MRT\",\"MSR\",\"MTQ\",\"MUS\",\"MWI\",\"MYS\",\"MYT\",\"NAM\",\"NCL\",\"NER\",\"NGA\",\"NIC\",\"NIU\",\"NLD\",\"NOR\",\"NPL\",\"NZL\",\"OMN\",\"PAK\",\"PAN\",\"PER\",\"PHL\",\"PLW\",\"PNG\",\"POL\",\"PRT\",\"PRY\",\"PYF\",\"QAT\",\"ROU\",\"RWA\",\"SAU\",\"SDN\",\"SEN\",\"SGP\",\"SLB\",\"SLE\",\"SLV\",\"SOM\",\"SRB\",\"SUR\",\"SVK\",\"SVN\",\"SWE\",\"SYC\",\"TCD\",\"TGO\",\"THA\",\"TJK\",\"TKM\",\"TON\",\"TUN\",\"TUR\",\"TWN\",\"UGA\",\"UKR\",\"URY\",\"UZB\",\"WSM\",\"YEM\",\"ZAF\",\"ZMB\",\"ZWE\"],\"locations\":[\"ABW\",\"AFG\",\"AGO\",\"AIA\",\"ALB\",\"AND\",\"ARE\",\"ARG\",\"ARM\",\"AUS\",\"AUT\",\"AZE\",\"BDI\",\"BEL\",\"BEN\",\"BFA\",\"BGD\",\"BGR\",\"BHR\",\"BHS\",\"BLR\",\"BLZ\",\"BRA\",\"BRB\",\"BTN\",\"BWA\",\"CAF\",\"CAN\",\"CHE\",\"CHL\",\"CHN\",\"CMR\",\"COG\",\"COL\",\"COM\",\"CRI\",\"CUB\",\"CUW\",\"CYP\",\"DEU\",\"DJI\",\"DMA\",\"DNK\",\"DOM\",\"DZA\",\"ECU\",\"EGY\",\"ERI\",\"ESP\",\"EST\",\"ETH\",\"FIN\",\"FJI\",\"FRA\",\"FRO\",\"GAB\",\"GEO\",\"GHA\",\"GIN\",\"GLP\",\"GMB\",\"GNQ\",\"GRC\",\"GRD\",\"GRL\",\"GTM\",\"GUF\",\"GUY\",\"HKG\",\"HND\",\"HRV\",\"HTI\",\"HUN\",\"IDN\",\"IND\",\"IRL\",\"IRQ\",\"ISL\",\"ISR\",\"ITA\",\"JAM\",\"JOR\",\"JPN\",\"KAZ\",\"KEN\",\"KGZ\",\"KHM\",\"KIR\",\"KWT\",\"LBN\",\"LBR\",\"LBY\",\"LCA\",\"LIE\",\"LKA\",\"LSO\",\"LTU\",\"LUX\",\"LVA\",\"MAR\",\"MDG\",\"MEX\",\"MLI\",\"MLT\",\"MNE\",\"MNG\",\"MOZ\",\"MRT\",\"MSR\",\"MTQ\",\"MUS\",\"MWI\",\"MYS\",\"MYT\",\"NAM\",\"NCL\",\"NER\",\"NGA\",\"NIC\",\"NIU\",\"NLD\",\"NOR\",\"NPL\",\"NZL\",\"OMN\",\"PAK\",\"PAN\",\"PER\",\"PHL\",\"PLW\",\"PNG\",\"POL\",\"PRT\",\"PRY\",\"PYF\",\"QAT\",\"ROU\",\"RWA\",\"SAU\",\"SDN\",\"SEN\",\"SGP\",\"SLB\",\"SLE\",\"SLV\",\"SOM\",\"SRB\",\"SUR\",\"SVK\",\"SVN\",\"SWE\",\"SYC\",\"TCD\",\"TGO\",\"THA\",\"TJK\",\"TKM\",\"TON\",\"TUN\",\"TUR\",\"TWN\",\"UGA\",\"UKR\",\"URY\",\"UZB\",\"WSM\",\"YEM\",\"ZAF\",\"ZMB\",\"ZWE\"],\"name\":\"\",\"z\":[28.65233333333333,14.481583333333331,22.12333333333333,27.639250000000004,13.76825,12.339916666666667,29.42583333333333,15.688999999999998,10.35075,22.0245,7.611333333333334,13.08675,20.75425,10.351833333333332,27.751833333333337,28.63,25.533583333333336,12.027583333333332,27.52933333333333,25.816416666666665,6.835166666666667,25.73441666666667,25.71708333333333,27.346666666666668,12.27975,22.40008333333333,25.6395,-3.176833333333334,8.159249999999998,10.272583333333335,7.077083333333332,24.877,24.873500000000003,25.38133333333333,26.38325,26.282,26.059,28.053,20.012,9.227166666666664,29.92358333333333,27.112333333333336,-16.260916666666667,26.340083333333336,23.95483333333333,22.445916666666665,23.770916666666665,27.88008333333333,14.58,5.486,23.976166666666668,1.90725,25.478250000000003,13.707166666666666,6.981416666666667,24.831666666666667,9.787333333333333,27.2795,26.06316666666667,27.318250000000003,28.301666666666662,25.53683333333333,16.0395,27.636416666666666,-16.77225,23.848166666666668,26.656333333333333,26.800166666666662,23.217,25.26058333333333,12.9735,27.04508333333333,11.293666666666669,26.32208333333333,24.640833333333337,10.035833333333333,23.428916666666662,2.463416666666667,21.006083333333333,14.079,26.88508333333333,20.82025,12.565666666666669,6.075416666666668,24.925416666666667,3.5769166666666674,27.806249999999995,27.3385,26.67558333333334,18.989083333333333,25.99558333333333,23.270666666666667,27.57891666666667,5.876083333333335,27.94983333333333,14.3865,6.723583333333333,10.10925,6.043333333333336,18.66875,23.325333333333333,21.652416666666667,28.60183333333333,19.829166666666666,11.531833333333331,-0.5962499999999994,24.009583333333328,28.02683333333333,27.3685,27.112333333333336,24.374,21.887416666666667,26.62275,26.97,20.795,23.21341666666667,28.07275,27.40791666666667,26.531916666666664,25.80558333333333,10.438166666666667,1.141666666666666,15.419833333333331,10.656916666666666,28.211583333333326,21.198,27.0825,20.460000000000004,27.14891666666667,27.72125,24.84358333333334,8.53775,15.392166666666666,24.46575,26.919833333333333,28.4845,10.301083333333333,19.95941666666667,26.988916666666665,27.8685,28.63558333333333,27.303583333333336,27.18,26.676416666666668,25.56033333333333,27.9385,11.45175,27.18941666666666,8.873166666666666,11.278250000000003,2.9728333333333343,27.772583333333333,27.701166666666666,27.419916666666666,27.289,4.337583333333333,15.855833333333337,23.84166666666667,21.479166666666668,12.854416666666667,22.558333333333337,23.805666666666667,9.290666666666665,18.509,13.144166666666669,26.926666666666662,27.445000000000004,17.84691666666667,21.69775,21.52133333333333],\"type\":\"choropleth\"}],\"name\":\"2012\"},{\"data\":[{\"coloraxis\":\"coloraxis\",\"geo\":\"geo\",\"hovertemplate\":\"<b>%{hovertext}</b><br><br>year=2013<br>iso_code=%{location}<br>AvgYearlyTemp=%{z}<extra></extra>\",\"hovertext\":[\"ABW\",\"AFG\",\"AGO\",\"AIA\",\"ALB\",\"AND\",\"ARE\",\"ARG\",\"ARM\",\"AUS\",\"AUT\",\"AZE\",\"BDI\",\"BEL\",\"BEN\",\"BFA\",\"BGD\",\"BGR\",\"BHR\",\"BHS\",\"BLR\",\"BLZ\",\"BRA\",\"BRB\",\"BTN\",\"BWA\",\"CAF\",\"CAN\",\"CHE\",\"CHL\",\"CHN\",\"CMR\",\"COG\",\"COL\",\"COM\",\"CRI\",\"CUB\",\"CUW\",\"CYP\",\"DEU\",\"DJI\",\"DMA\",\"DNK\",\"DOM\",\"DZA\",\"ECU\",\"EGY\",\"ERI\",\"ESP\",\"EST\",\"ETH\",\"FIN\",\"FJI\",\"FRA\",\"FRO\",\"GAB\",\"GEO\",\"GHA\",\"GIN\",\"GLP\",\"GMB\",\"GNQ\",\"GRC\",\"GRD\",\"GRL\",\"GTM\",\"GUF\",\"GUY\",\"HKG\",\"HND\",\"HRV\",\"HTI\",\"HUN\",\"IDN\",\"IND\",\"IRL\",\"IRQ\",\"ISL\",\"ISR\",\"ITA\",\"JAM\",\"JOR\",\"JPN\",\"KAZ\",\"KEN\",\"KGZ\",\"KHM\",\"KIR\",\"KWT\",\"LBN\",\"LBR\",\"LBY\",\"LCA\",\"LIE\",\"LKA\",\"LSO\",\"LTU\",\"LUX\",\"LVA\",\"MAR\",\"MDG\",\"MEX\",\"MLI\",\"MLT\",\"MNE\",\"MNG\",\"MOZ\",\"MRT\",\"MSR\",\"MTQ\",\"MUS\",\"MWI\",\"MYS\",\"MYT\",\"NAM\",\"NCL\",\"NER\",\"NGA\",\"NIC\",\"NIU\",\"NLD\",\"NOR\",\"NPL\",\"NZL\",\"OMN\",\"PAK\",\"PAN\",\"PER\",\"PHL\",\"PLW\",\"PNG\",\"POL\",\"PRT\",\"PRY\",\"PYF\",\"QAT\",\"ROU\",\"RWA\",\"SAU\",\"SDN\",\"SEN\",\"SGP\",\"SLB\",\"SLE\",\"SLV\",\"SOM\",\"SRB\",\"SUR\",\"SVK\",\"SVN\",\"SWE\",\"SYC\",\"TCD\",\"TGO\",\"THA\",\"TJK\",\"TKM\",\"TON\",\"TUN\",\"TUR\",\"TWN\",\"UGA\",\"UKR\",\"URY\",\"UZB\",\"WSM\",\"YEM\",\"ZAF\",\"ZMB\"],\"locations\":[\"ABW\",\"AFG\",\"AGO\",\"AIA\",\"ALB\",\"AND\",\"ARE\",\"ARG\",\"ARM\",\"AUS\",\"AUT\",\"AZE\",\"BDI\",\"BEL\",\"BEN\",\"BFA\",\"BGD\",\"BGR\",\"BHR\",\"BHS\",\"BLR\",\"BLZ\",\"BRA\",\"BRB\",\"BTN\",\"BWA\",\"CAF\",\"CAN\",\"CHE\",\"CHL\",\"CHN\",\"CMR\",\"COG\",\"COL\",\"COM\",\"CRI\",\"CUB\",\"CUW\",\"CYP\",\"DEU\",\"DJI\",\"DMA\",\"DNK\",\"DOM\",\"DZA\",\"ECU\",\"EGY\",\"ERI\",\"ESP\",\"EST\",\"ETH\",\"FIN\",\"FJI\",\"FRA\",\"FRO\",\"GAB\",\"GEO\",\"GHA\",\"GIN\",\"GLP\",\"GMB\",\"GNQ\",\"GRC\",\"GRD\",\"GRL\",\"GTM\",\"GUF\",\"GUY\",\"HKG\",\"HND\",\"HRV\",\"HTI\",\"HUN\",\"IDN\",\"IND\",\"IRL\",\"IRQ\",\"ISL\",\"ISR\",\"ITA\",\"JAM\",\"JOR\",\"JPN\",\"KAZ\",\"KEN\",\"KGZ\",\"KHM\",\"KIR\",\"KWT\",\"LBN\",\"LBR\",\"LBY\",\"LCA\",\"LIE\",\"LKA\",\"LSO\",\"LTU\",\"LUX\",\"LVA\",\"MAR\",\"MDG\",\"MEX\",\"MLI\",\"MLT\",\"MNE\",\"MNG\",\"MOZ\",\"MRT\",\"MSR\",\"MTQ\",\"MUS\",\"MWI\",\"MYS\",\"MYT\",\"NAM\",\"NCL\",\"NER\",\"NGA\",\"NIC\",\"NIU\",\"NLD\",\"NOR\",\"NPL\",\"NZL\",\"OMN\",\"PAK\",\"PAN\",\"PER\",\"PHL\",\"PLW\",\"PNG\",\"POL\",\"PRT\",\"PRY\",\"PYF\",\"QAT\",\"ROU\",\"RWA\",\"SAU\",\"SDN\",\"SEN\",\"SGP\",\"SLB\",\"SLE\",\"SLV\",\"SOM\",\"SRB\",\"SUR\",\"SVK\",\"SVN\",\"SWE\",\"SYC\",\"TCD\",\"TGO\",\"THA\",\"TJK\",\"TKM\",\"TON\",\"TUN\",\"TUR\",\"TWN\",\"UGA\",\"UKR\",\"URY\",\"UZB\",\"WSM\",\"YEM\",\"ZAF\",\"ZMB\"],\"name\":\"\",\"z\":[28.54125,16.533625,22.507875,27.363,14.993875000000005,12.307875,29.370625000000004,14.457124999999998,11.34375,22.142875,8.055125,14.173875,20.86275,10.060125,28.160625,29.3855,25.9675,13.411874999999998,27.925375000000003,26.011666666666667,8.2665,26.21333333333333,25.348125,27.251125,13.331374999999998,21.82575,26.210875,-1.6406666666666676,8.1775,9.877374999999995,9.295,25.307624999999994,25.139375,25.579500000000003,26.542875,26.457555555555555,26.250444444444447,28.1205,20.349875,9.23525,30.74475,26.922125,-14.92725,26.290333333333333,25.1215,22.264125,24.50525,28.503500000000003,14.858875,6.961749999999999,24.6315,4.064125,25.941375,13.584625,7.076625000000002,24.838500000000003,10.686625,27.717500000000005,26.68675,27.15675,28.72437500000001,25.5905,17.1535,27.612875000000003,-15.40975,24.29133333333333,26.528875000000003,26.687500000000004,23.690375000000003,25.732333333333333,13.589,27.03155555555556,12.3015,26.467,25.41325,9.97475,24.2405,2.92025,21.222375,14.165,27.12533333333333,21.319125,12.96475,8.937249999999999,24.935250000000003,6.263125,28.259625,27.551375,27.273375,19.17825,26.314,24.314,27.4655,6.002375,28.175125,13.773625,7.803999999999999,9.90025,7.322375000000001,19.30525,22.9595,22.219222222222225,29.942,19.437375000000003,12.870375,2.8077500000000004,23.488,29.11,27.21325,26.922125,24.312375000000003,21.269375,26.9735,27.13175,21.265875,23.382375000000003,29.231375,28.005875,26.87155555555556,26.047500000000003,9.8565,1.735375,15.951250000000003,11.0885,28.194375,22.320875,27.217500000000005,19.97625,27.416750000000004,27.82037500000001,25.069125000000003,9.257875,15.88925,22.81775,26.907875,28.57375,11.6455,20.103874999999995,27.74075,28.572000000000003,29.3015,27.602875,27.21025,26.948,25.91077777777778,27.975625,12.843625,26.95725,9.685624999999998,11.74475,4.199750000000001,27.451625000000007,28.356000000000005,27.718000000000004,27.864875,6.562625,18.6135,24.285875,21.887125,14.026625,23.015,24.024625,10.9135,16.754375,16.18825,27.176500000000004,28.12975,17.325375,21.196],\"type\":\"choropleth\"}],\"name\":\"2013\"}]);\n",
       "                        }).then(function(){\n",
       "                            \n",
       "var gd = document.getElementById('23f1f571-2a80-4e2b-82b5-52b0f8a7db47');\n",
       "var x = new MutationObserver(function (mutations, observer) {{\n",
       "        var display = window.getComputedStyle(gd).display;\n",
       "        if (!display || display === 'none') {{\n",
       "            console.log([gd, 'removed!']);\n",
       "            Plotly.purge(gd);\n",
       "            observer.disconnect();\n",
       "        }}\n",
       "}});\n",
       "\n",
       "// Listen for the removal of the full notebook cells\n",
       "var notebookContainer = gd.closest('#notebook-container');\n",
       "if (notebookContainer) {{\n",
       "    x.observe(notebookContainer, {childList: true});\n",
       "}}\n",
       "\n",
       "// Listen for the clearing of the current output cell\n",
       "var outputEl = gd.closest('.output');\n",
       "if (outputEl) {{\n",
       "    x.observe(outputEl, {childList: true});\n",
       "}}\n",
       "\n",
       "                        })                };                });            </script>        </div>"
      ]
     },
     "metadata": {},
     "output_type": "display_data"
    }
   ],
   "source": [
    "fig = px.choropleth(country.iloc[13000: 13450], locations=\"iso_code\", color= \"AvgYearlyTemp\", hover_name= \"iso_code\", animation_frame= \"year\")\n",
    "fig.show()"
   ]
  }
 ],
 "metadata": {
  "colab": {
   "authorship_tag": "ABX9TyNBDhfIoB5CYL49V+Q1hGDR",
   "include_colab_link": true,
   "name": "DataCleaning.ipynb",
   "provenance": []
  },
  "kernelspec": {
   "display_name": "Python 3 (ipykernel)",
   "language": "python",
   "name": "python3"
  },
  "language_info": {
   "codemirror_mode": {
    "name": "ipython",
    "version": 3
   },
   "file_extension": ".py",
   "mimetype": "text/x-python",
   "name": "python",
   "nbconvert_exporter": "python",
   "pygments_lexer": "ipython3",
   "version": "3.9.5"
  }
 },
 "nbformat": 4,
 "nbformat_minor": 1
}
