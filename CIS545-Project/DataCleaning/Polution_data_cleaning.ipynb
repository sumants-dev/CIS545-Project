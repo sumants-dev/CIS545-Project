{
  "nbformat": 4,
  "nbformat_minor": 0,
  "metadata": {
    "colab": {
      "name": "Polution_data_cleaning.ipynb",
      "provenance": [],
      "mount_file_id": "1XKO4eEKuGD8EvNZtLa0fggHZmpLTRy-H",
      "authorship_tag": "ABX9TyNQsjVpRz+h2pLr5FTPsP6d",
      "include_colab_link": true
    },
    "kernelspec": {
      "name": "python3",
      "display_name": "Python 3"
    },
    "language_info": {
      "name": "python"
    }
  },
  "cells": [
    {
      "cell_type": "markdown",
      "metadata": {
        "id": "view-in-github",
        "colab_type": "text"
      },
      "source": [
        "<a href=\"https://colab.research.google.com/github/sumants-dev/CIS545-Project/blob/main/CIS545-Project/DataCleaning/Polution_data_cleaning.ipynb\" target=\"_parent\"><img src=\"https://colab.research.google.com/assets/colab-badge.svg\" alt=\"Open In Colab\"/></a>"
      ]
    },
    {
      "cell_type": "markdown",
      "metadata": {
        "id": "_9tZyWsp4bOk"
      },
      "source": [
        "\n",
        "Air Pollution By Country\n",
        "\n",
        "  Date range: 2010 - 2017\n",
        "  \n",
        "  Final dataset is 1352 records\n",
        "\n"
      ]
    },
    {
      "cell_type": "markdown",
      "metadata": {
        "id": "O74HLKAPF8-O"
      },
      "source": [
        "# Importing data and library"
      ]
    },
    {
      "cell_type": "code",
      "metadata": {
        "id": "j2jqLTNq39r0",
        "colab": {
          "base_uri": "https://localhost:8080/"
        },
        "outputId": "236514da-71a7-4f69-e0ad-15fcc47a7193"
      },
      "source": [
        "!pip install pandasql\n",
        "!pip install pandas\n",
        "!pip install requests\n",
        "!pip install lxml\n",
        "!pip install nltk"
      ],
      "execution_count": 13,
      "outputs": [
        {
          "output_type": "stream",
          "name": "stdout",
          "text": [
            "Requirement already satisfied: pandasql in /usr/local/lib/python3.7/dist-packages (0.7.3)\n",
            "Requirement already satisfied: numpy in /usr/local/lib/python3.7/dist-packages (from pandasql) (1.19.5)\n",
            "Requirement already satisfied: pandas in /usr/local/lib/python3.7/dist-packages (from pandasql) (1.1.5)\n",
            "Requirement already satisfied: sqlalchemy in /usr/local/lib/python3.7/dist-packages (from pandasql) (1.4.27)\n",
            "Requirement already satisfied: pytz>=2017.2 in /usr/local/lib/python3.7/dist-packages (from pandas->pandasql) (2018.9)\n",
            "Requirement already satisfied: python-dateutil>=2.7.3 in /usr/local/lib/python3.7/dist-packages (from pandas->pandasql) (2.8.2)\n",
            "Requirement already satisfied: six>=1.5 in /usr/local/lib/python3.7/dist-packages (from python-dateutil>=2.7.3->pandas->pandasql) (1.15.0)\n",
            "Requirement already satisfied: importlib-metadata in /usr/local/lib/python3.7/dist-packages (from sqlalchemy->pandasql) (4.8.2)\n",
            "Requirement already satisfied: greenlet!=0.4.17 in /usr/local/lib/python3.7/dist-packages (from sqlalchemy->pandasql) (1.1.2)\n",
            "Requirement already satisfied: zipp>=0.5 in /usr/local/lib/python3.7/dist-packages (from importlib-metadata->sqlalchemy->pandasql) (3.6.0)\n",
            "Requirement already satisfied: typing-extensions>=3.6.4 in /usr/local/lib/python3.7/dist-packages (from importlib-metadata->sqlalchemy->pandasql) (3.10.0.2)\n",
            "Requirement already satisfied: pandas in /usr/local/lib/python3.7/dist-packages (1.1.5)\n",
            "Requirement already satisfied: python-dateutil>=2.7.3 in /usr/local/lib/python3.7/dist-packages (from pandas) (2.8.2)\n",
            "Requirement already satisfied: pytz>=2017.2 in /usr/local/lib/python3.7/dist-packages (from pandas) (2018.9)\n",
            "Requirement already satisfied: numpy>=1.15.4 in /usr/local/lib/python3.7/dist-packages (from pandas) (1.19.5)\n",
            "Requirement already satisfied: six>=1.5 in /usr/local/lib/python3.7/dist-packages (from python-dateutil>=2.7.3->pandas) (1.15.0)\n",
            "Requirement already satisfied: requests in /usr/local/lib/python3.7/dist-packages (2.23.0)\n",
            "Requirement already satisfied: idna<3,>=2.5 in /usr/local/lib/python3.7/dist-packages (from requests) (2.10)\n",
            "Requirement already satisfied: urllib3!=1.25.0,!=1.25.1,<1.26,>=1.21.1 in /usr/local/lib/python3.7/dist-packages (from requests) (1.24.3)\n",
            "Requirement already satisfied: certifi>=2017.4.17 in /usr/local/lib/python3.7/dist-packages (from requests) (2021.10.8)\n",
            "Requirement already satisfied: chardet<4,>=3.0.2 in /usr/local/lib/python3.7/dist-packages (from requests) (3.0.4)\n",
            "Requirement already satisfied: lxml in /usr/local/lib/python3.7/dist-packages (4.2.6)\n",
            "Requirement already satisfied: nltk in /usr/local/lib/python3.7/dist-packages (3.2.5)\n",
            "Requirement already satisfied: six in /usr/local/lib/python3.7/dist-packages (from nltk) (1.15.0)\n"
          ]
        }
      ]
    },
    {
      "cell_type": "code",
      "metadata": {
        "id": "Tr7ssJ-rsSBC"
      },
      "source": [
        "# Imports\n",
        "import pandas as pd\n",
        "import pandasql as psql\n",
        "from lxml import html\n",
        "import requests\n",
        "import nltk"
      ],
      "execution_count": 14,
      "outputs": []
    },
    {
      "cell_type": "code",
      "metadata": {
        "id": "sNGOaWR3Img1"
      },
      "source": [
        "air_polution_pd = pd.read_csv(\"/content/drive/MyDrive/MCIT/CIS545/Data/PM2.5 Global Air Pollution 2010-2017.csv\")\n",
        "air_polution_death_pd = pd.read_csv(\"/content/drive/MyDrive/MCIT/CIS545/Data/death-rates-from-air-pollution.csv\")\n",
        "cities_air_polution_pd = pd.read_csv(\"/content/drive/MyDrive/MCIT/CIS545/Data/cities_air_quality_water_pollution.18-10-2021.csv\")"
      ],
      "execution_count": 15,
      "outputs": []
    },
    {
      "cell_type": "markdown",
      "metadata": {
        "id": "7REU4nXlF4OG"
      },
      "source": [
        "# Air polution dataset data cleaning and wrangling"
      ]
    },
    {
      "cell_type": "markdown",
      "metadata": {
        "id": "VKeSkDSjH_BG"
      },
      "source": [
        "Overall goals of data cleaning includes: \n",
        "\n",
        "\n",
        "*   Extract a standardlized date range and group the data by year and month \n",
        "*   Ensure consist country data format by updating country to include ISO ; https://en.wikipedia.org/wiki/List_of_ISO_3166_country_codes (3-alpha code)\n",
        "*   Drop columns that are not needed for analysis \n",
        "*   Drop any rows that have nulls \n",
        "*   Export cleaned dataset\n",
        "\n",
        "\n"
      ]
    },
    {
      "cell_type": "markdown",
      "metadata": {
        "id": "sfahcsU9uNZX"
      },
      "source": [
        "# Extraction of standardlize country codes"
      ]
    },
    {
      "cell_type": "markdown",
      "metadata": {
        "id": "OgRrLssguKvk"
      },
      "source": [
        "We extract the country name to country code mapping through wikipedia. Our approach is to make a request to the wikipedia page, and then use xpath to find the list of country names and country code."
      ]
    },
    {
      "cell_type": "code",
      "metadata": {
        "id": "QTW3fbp4uIIR"
      },
      "source": [
        "def get_country_codes():\n",
        "    wiki = requests.get(\"https://en.wikipedia.org/wiki/ISO_3166-1_alpha-3\")\n",
        "    dom_tree = html.fromstring(wiki.content)\n",
        "    xpath = \"//div[@class=\\\"plainlist\\\"]/ul/li\"\n",
        "    country_list  = dom_tree.xpath(xpath)\n",
        "    country_map = {}\n",
        "\n",
        "    for country_elem in country_list:\n",
        "        country_map[country_elem[2].text] = country_elem[1].text\n",
        "\n",
        "    return country_map\n",
        "\n",
        "        \n",
        "def set_country_value(df):\n",
        "    country_to_code = get_country_codes()\n",
        "    #df[\"Country\"] = df['Country Name'].apply(lambda elem: country_to_code.get(elem))\n",
        "    df.insert(0, 'iso_code',df['Country Name'].apply(lambda elem: country_to_code.get(elem)) )\n",
        "    return df"
      ],
      "execution_count": 16,
      "outputs": []
    },
    {
      "cell_type": "code",
      "metadata": {
        "id": "xbSzEmx2zisG"
      },
      "source": [
        "air_polution_pd = set_country_value(air_polution_pd)"
      ],
      "execution_count": 17,
      "outputs": []
    },
    {
      "cell_type": "markdown",
      "metadata": {
        "id": "BFNij9cAvLWr"
      },
      "source": [
        "# Initial cleaning"
      ]
    },
    {
      "cell_type": "markdown",
      "metadata": {
        "id": "UCevp5-hunmE"
      },
      "source": [
        "First, we will print the initial dataframe to understand the shape of the data we are working with. "
      ]
    },
    {
      "cell_type": "code",
      "metadata": {
        "colab": {
          "base_uri": "https://localhost:8080/",
          "height": 204
        },
        "id": "Nkczt5pMunJF",
        "outputId": "bf03c7e1-6ff6-45f0-9b67-45b00d025cbb"
      },
      "source": [
        "air_polution_pd.head(5)"
      ],
      "execution_count": 18,
      "outputs": [
        {
          "output_type": "execute_result",
          "data": {
            "text/html": [
              "<div>\n",
              "<style scoped>\n",
              "    .dataframe tbody tr th:only-of-type {\n",
              "        vertical-align: middle;\n",
              "    }\n",
              "\n",
              "    .dataframe tbody tr th {\n",
              "        vertical-align: top;\n",
              "    }\n",
              "\n",
              "    .dataframe thead th {\n",
              "        text-align: right;\n",
              "    }\n",
              "</style>\n",
              "<table border=\"1\" class=\"dataframe\">\n",
              "  <thead>\n",
              "    <tr style=\"text-align: right;\">\n",
              "      <th></th>\n",
              "      <th>iso_code</th>\n",
              "      <th>Country Name</th>\n",
              "      <th>Country Code</th>\n",
              "      <th>2010</th>\n",
              "      <th>2011</th>\n",
              "      <th>2012</th>\n",
              "      <th>2013</th>\n",
              "      <th>2014</th>\n",
              "      <th>2015</th>\n",
              "      <th>2016</th>\n",
              "      <th>2017</th>\n",
              "    </tr>\n",
              "  </thead>\n",
              "  <tbody>\n",
              "    <tr>\n",
              "      <th>0</th>\n",
              "      <td>AFG</td>\n",
              "      <td>Afghanistan</td>\n",
              "      <td>AFG</td>\n",
              "      <td>65.245592</td>\n",
              "      <td>66.835727</td>\n",
              "      <td>66.023174</td>\n",
              "      <td>61.366745</td>\n",
              "      <td>59.010330</td>\n",
              "      <td>61.252656</td>\n",
              "      <td>56.287047</td>\n",
              "      <td>56.910808</td>\n",
              "    </tr>\n",
              "    <tr>\n",
              "      <th>1</th>\n",
              "      <td>AGO</td>\n",
              "      <td>Angola</td>\n",
              "      <td>AGO</td>\n",
              "      <td>33.787247</td>\n",
              "      <td>33.104195</td>\n",
              "      <td>33.415495</td>\n",
              "      <td>34.663923</td>\n",
              "      <td>32.974025</td>\n",
              "      <td>32.729873</td>\n",
              "      <td>31.785389</td>\n",
              "      <td>32.388505</td>\n",
              "    </tr>\n",
              "    <tr>\n",
              "      <th>2</th>\n",
              "      <td>ALB</td>\n",
              "      <td>Albania</td>\n",
              "      <td>ALB</td>\n",
              "      <td>21.277828</td>\n",
              "      <td>22.772537</td>\n",
              "      <td>20.578259</td>\n",
              "      <td>19.938517</td>\n",
              "      <td>18.883955</td>\n",
              "      <td>19.512540</td>\n",
              "      <td>18.189934</td>\n",
              "      <td>18.200603</td>\n",
              "    </tr>\n",
              "    <tr>\n",
              "      <th>3</th>\n",
              "      <td>AND</td>\n",
              "      <td>Andorra</td>\n",
              "      <td>AND</td>\n",
              "      <td>12.807198</td>\n",
              "      <td>13.273506</td>\n",
              "      <td>12.407053</td>\n",
              "      <td>11.813673</td>\n",
              "      <td>10.830418</td>\n",
              "      <td>11.462178</td>\n",
              "      <td>10.255834</td>\n",
              "      <td>10.307621</td>\n",
              "    </tr>\n",
              "    <tr>\n",
              "      <th>4</th>\n",
              "      <td>None</td>\n",
              "      <td>Arab World</td>\n",
              "      <td>ARB</td>\n",
              "      <td>53.787001</td>\n",
              "      <td>52.652279</td>\n",
              "      <td>53.297270</td>\n",
              "      <td>54.053822</td>\n",
              "      <td>52.583603</td>\n",
              "      <td>60.406813</td>\n",
              "      <td>58.764905</td>\n",
              "      <td>58.689259</td>\n",
              "    </tr>\n",
              "  </tbody>\n",
              "</table>\n",
              "</div>"
            ],
            "text/plain": [
              "  iso_code Country Name Country Code  ...       2015       2016       2017\n",
              "0      AFG  Afghanistan          AFG  ...  61.252656  56.287047  56.910808\n",
              "1      AGO       Angola          AGO  ...  32.729873  31.785389  32.388505\n",
              "2      ALB      Albania          ALB  ...  19.512540  18.189934  18.200603\n",
              "3      AND      Andorra          AND  ...  11.462178  10.255834  10.307621\n",
              "4     None   Arab World          ARB  ...  60.406813  58.764905  58.689259\n",
              "\n",
              "[5 rows x 11 columns]"
            ]
          },
          "metadata": {},
          "execution_count": 18
        }
      ]
    },
    {
      "cell_type": "markdown",
      "metadata": {
        "id": "lruHWsMWvlIW"
      },
      "source": [
        "The next step we will use Pandas describe function to understand our dataset a bit further. \n",
        "\n",
        "\n",
        "*   The data set consist of 240 countries data in air pollution between 2010 to 2017 \n",
        "*   There are no country missing a data record between 2010 to 2017, since 2010 - 2017 all have 240 count of records \n",
        "\n"
      ]
    },
    {
      "cell_type": "code",
      "metadata": {
        "colab": {
          "base_uri": "https://localhost:8080/",
          "height": 297
        },
        "id": "kcYSsO8wvbC2",
        "outputId": "20559f4a-de8d-4e25-9cd1-1cbd89819dd8"
      },
      "source": [
        "air_polution_pd.describe()"
      ],
      "execution_count": 19,
      "outputs": [
        {
          "output_type": "execute_result",
          "data": {
            "text/html": [
              "<div>\n",
              "<style scoped>\n",
              "    .dataframe tbody tr th:only-of-type {\n",
              "        vertical-align: middle;\n",
              "    }\n",
              "\n",
              "    .dataframe tbody tr th {\n",
              "        vertical-align: top;\n",
              "    }\n",
              "\n",
              "    .dataframe thead th {\n",
              "        text-align: right;\n",
              "    }\n",
              "</style>\n",
              "<table border=\"1\" class=\"dataframe\">\n",
              "  <thead>\n",
              "    <tr style=\"text-align: right;\">\n",
              "      <th></th>\n",
              "      <th>2010</th>\n",
              "      <th>2011</th>\n",
              "      <th>2012</th>\n",
              "      <th>2013</th>\n",
              "      <th>2014</th>\n",
              "      <th>2015</th>\n",
              "      <th>2016</th>\n",
              "      <th>2017</th>\n",
              "    </tr>\n",
              "  </thead>\n",
              "  <tbody>\n",
              "    <tr>\n",
              "      <th>count</th>\n",
              "      <td>240.000000</td>\n",
              "      <td>240.000000</td>\n",
              "      <td>240.000000</td>\n",
              "      <td>240.000000</td>\n",
              "      <td>240.000000</td>\n",
              "      <td>240.000000</td>\n",
              "      <td>240.000000</td>\n",
              "      <td>240.000000</td>\n",
              "    </tr>\n",
              "    <tr>\n",
              "      <th>mean</th>\n",
              "      <td>30.872419</td>\n",
              "      <td>31.131758</td>\n",
              "      <td>30.340594</td>\n",
              "      <td>29.790453</td>\n",
              "      <td>28.683781</td>\n",
              "      <td>30.579904</td>\n",
              "      <td>29.161746</td>\n",
              "      <td>29.292363</td>\n",
              "    </tr>\n",
              "    <tr>\n",
              "      <th>std</th>\n",
              "      <td>17.978061</td>\n",
              "      <td>17.942650</td>\n",
              "      <td>17.787894</td>\n",
              "      <td>17.732915</td>\n",
              "      <td>17.165262</td>\n",
              "      <td>19.577582</td>\n",
              "      <td>19.034549</td>\n",
              "      <td>19.320528</td>\n",
              "    </tr>\n",
              "    <tr>\n",
              "      <th>min</th>\n",
              "      <td>7.152866</td>\n",
              "      <td>7.283700</td>\n",
              "      <td>6.601134</td>\n",
              "      <td>6.278689</td>\n",
              "      <td>6.180830</td>\n",
              "      <td>6.063834</td>\n",
              "      <td>5.893757</td>\n",
              "      <td>5.861331</td>\n",
              "    </tr>\n",
              "    <tr>\n",
              "      <th>25%</th>\n",
              "      <td>17.043463</td>\n",
              "      <td>17.362182</td>\n",
              "      <td>16.255018</td>\n",
              "      <td>15.809037</td>\n",
              "      <td>15.171312</td>\n",
              "      <td>15.513597</td>\n",
              "      <td>14.489949</td>\n",
              "      <td>14.572962</td>\n",
              "    </tr>\n",
              "    <tr>\n",
              "      <th>50%</th>\n",
              "      <td>27.004787</td>\n",
              "      <td>27.453521</td>\n",
              "      <td>25.948751</td>\n",
              "      <td>25.442579</td>\n",
              "      <td>24.193790</td>\n",
              "      <td>24.441082</td>\n",
              "      <td>23.079150</td>\n",
              "      <td>22.874830</td>\n",
              "    </tr>\n",
              "    <tr>\n",
              "      <th>75%</th>\n",
              "      <td>39.433401</td>\n",
              "      <td>40.142818</td>\n",
              "      <td>40.863400</td>\n",
              "      <td>40.343259</td>\n",
              "      <td>39.552618</td>\n",
              "      <td>43.850369</td>\n",
              "      <td>40.775888</td>\n",
              "      <td>40.966942</td>\n",
              "    </tr>\n",
              "    <tr>\n",
              "      <th>max</th>\n",
              "      <td>100.784428</td>\n",
              "      <td>100.766061</td>\n",
              "      <td>96.963291</td>\n",
              "      <td>95.313986</td>\n",
              "      <td>98.116017</td>\n",
              "      <td>97.432289</td>\n",
              "      <td>98.054714</td>\n",
              "      <td>99.734374</td>\n",
              "    </tr>\n",
              "  </tbody>\n",
              "</table>\n",
              "</div>"
            ],
            "text/plain": [
              "             2010        2011        2012  ...        2015        2016        2017\n",
              "count  240.000000  240.000000  240.000000  ...  240.000000  240.000000  240.000000\n",
              "mean    30.872419   31.131758   30.340594  ...   30.579904   29.161746   29.292363\n",
              "std     17.978061   17.942650   17.787894  ...   19.577582   19.034549   19.320528\n",
              "min      7.152866    7.283700    6.601134  ...    6.063834    5.893757    5.861331\n",
              "25%     17.043463   17.362182   16.255018  ...   15.513597   14.489949   14.572962\n",
              "50%     27.004787   27.453521   25.948751  ...   24.441082   23.079150   22.874830\n",
              "75%     39.433401   40.142818   40.863400  ...   43.850369   40.775888   40.966942\n",
              "max    100.784428  100.766061   96.963291  ...   97.432289   98.054714   99.734374\n",
              "\n",
              "[8 rows x 8 columns]"
            ]
          },
          "metadata": {},
          "execution_count": 19
        }
      ]
    },
    {
      "cell_type": "code",
      "metadata": {
        "id": "KDdY6FQqHxvK",
        "colab": {
          "base_uri": "https://localhost:8080/",
          "height": 204
        },
        "outputId": "1f000ec2-3397-45f1-c9c1-b2a35861985c"
      },
      "source": [
        "air_polution_pd_cleaned = air_polution_pd.dropna()\n",
        "air_polution_pd_cleaned = air_polution_pd.drop(columns=['Country Name', 'Country Code'])\n",
        "air_polution_pd_cleaned.head(5)\n",
        "\n",
        "\n"
      ],
      "execution_count": 30,
      "outputs": [
        {
          "output_type": "execute_result",
          "data": {
            "text/html": [
              "<div>\n",
              "<style scoped>\n",
              "    .dataframe tbody tr th:only-of-type {\n",
              "        vertical-align: middle;\n",
              "    }\n",
              "\n",
              "    .dataframe tbody tr th {\n",
              "        vertical-align: top;\n",
              "    }\n",
              "\n",
              "    .dataframe thead th {\n",
              "        text-align: right;\n",
              "    }\n",
              "</style>\n",
              "<table border=\"1\" class=\"dataframe\">\n",
              "  <thead>\n",
              "    <tr style=\"text-align: right;\">\n",
              "      <th></th>\n",
              "      <th>iso_code</th>\n",
              "      <th>2010</th>\n",
              "      <th>2011</th>\n",
              "      <th>2012</th>\n",
              "      <th>2013</th>\n",
              "      <th>2014</th>\n",
              "      <th>2015</th>\n",
              "      <th>2016</th>\n",
              "      <th>2017</th>\n",
              "    </tr>\n",
              "  </thead>\n",
              "  <tbody>\n",
              "    <tr>\n",
              "      <th>0</th>\n",
              "      <td>AFG</td>\n",
              "      <td>65.245592</td>\n",
              "      <td>66.835727</td>\n",
              "      <td>66.023174</td>\n",
              "      <td>61.366745</td>\n",
              "      <td>59.010330</td>\n",
              "      <td>61.252656</td>\n",
              "      <td>56.287047</td>\n",
              "      <td>56.910808</td>\n",
              "    </tr>\n",
              "    <tr>\n",
              "      <th>1</th>\n",
              "      <td>AGO</td>\n",
              "      <td>33.787247</td>\n",
              "      <td>33.104195</td>\n",
              "      <td>33.415495</td>\n",
              "      <td>34.663923</td>\n",
              "      <td>32.974025</td>\n",
              "      <td>32.729873</td>\n",
              "      <td>31.785389</td>\n",
              "      <td>32.388505</td>\n",
              "    </tr>\n",
              "    <tr>\n",
              "      <th>2</th>\n",
              "      <td>ALB</td>\n",
              "      <td>21.277828</td>\n",
              "      <td>22.772537</td>\n",
              "      <td>20.578259</td>\n",
              "      <td>19.938517</td>\n",
              "      <td>18.883955</td>\n",
              "      <td>19.512540</td>\n",
              "      <td>18.189934</td>\n",
              "      <td>18.200603</td>\n",
              "    </tr>\n",
              "    <tr>\n",
              "      <th>3</th>\n",
              "      <td>AND</td>\n",
              "      <td>12.807198</td>\n",
              "      <td>13.273506</td>\n",
              "      <td>12.407053</td>\n",
              "      <td>11.813673</td>\n",
              "      <td>10.830418</td>\n",
              "      <td>11.462178</td>\n",
              "      <td>10.255834</td>\n",
              "      <td>10.307621</td>\n",
              "    </tr>\n",
              "    <tr>\n",
              "      <th>4</th>\n",
              "      <td>None</td>\n",
              "      <td>53.787001</td>\n",
              "      <td>52.652279</td>\n",
              "      <td>53.297270</td>\n",
              "      <td>54.053822</td>\n",
              "      <td>52.583603</td>\n",
              "      <td>60.406813</td>\n",
              "      <td>58.764905</td>\n",
              "      <td>58.689259</td>\n",
              "    </tr>\n",
              "  </tbody>\n",
              "</table>\n",
              "</div>"
            ],
            "text/plain": [
              "  iso_code       2010       2011  ...       2015       2016       2017\n",
              "0      AFG  65.245592  66.835727  ...  61.252656  56.287047  56.910808\n",
              "1      AGO  33.787247  33.104195  ...  32.729873  31.785389  32.388505\n",
              "2      ALB  21.277828  22.772537  ...  19.512540  18.189934  18.200603\n",
              "3      AND  12.807198  13.273506  ...  11.462178  10.255834  10.307621\n",
              "4     None  53.787001  52.652279  ...  60.406813  58.764905  58.689259\n",
              "\n",
              "[5 rows x 9 columns]"
            ]
          },
          "metadata": {},
          "execution_count": 30
        }
      ]
    },
    {
      "cell_type": "code",
      "metadata": {
        "colab": {
          "base_uri": "https://localhost:8080/"
        },
        "id": "KzF66Ytb5t3-",
        "outputId": "d415da40-d8a0-499c-94b4-aac78a239db2"
      },
      "source": [
        "air_polution_pd_cleaned.count()"
      ],
      "execution_count": 31,
      "outputs": [
        {
          "output_type": "execute_result",
          "data": {
            "text/plain": [
              "iso_code    169\n",
              "2010        240\n",
              "2011        240\n",
              "2012        240\n",
              "2013        240\n",
              "2014        240\n",
              "2015        240\n",
              "2016        240\n",
              "2017        240\n",
              "dtype: int64"
            ]
          },
          "metadata": {},
          "execution_count": 31
        }
      ]
    },
    {
      "cell_type": "code",
      "metadata": {
        "id": "kV9wNxGdJZmi",
        "colab": {
          "base_uri": "https://localhost:8080/",
          "height": 297
        },
        "outputId": "9be89213-f9f1-4147-ddcd-4313d15127c3"
      },
      "source": [
        "air_polution_pd_cleaned.describe()"
      ],
      "execution_count": 21,
      "outputs": [
        {
          "output_type": "execute_result",
          "data": {
            "text/html": [
              "<div>\n",
              "<style scoped>\n",
              "    .dataframe tbody tr th:only-of-type {\n",
              "        vertical-align: middle;\n",
              "    }\n",
              "\n",
              "    .dataframe tbody tr th {\n",
              "        vertical-align: top;\n",
              "    }\n",
              "\n",
              "    .dataframe thead th {\n",
              "        text-align: right;\n",
              "    }\n",
              "</style>\n",
              "<table border=\"1\" class=\"dataframe\">\n",
              "  <thead>\n",
              "    <tr style=\"text-align: right;\">\n",
              "      <th></th>\n",
              "      <th>2010</th>\n",
              "      <th>2011</th>\n",
              "      <th>2012</th>\n",
              "      <th>2013</th>\n",
              "      <th>2014</th>\n",
              "      <th>2015</th>\n",
              "      <th>2016</th>\n",
              "      <th>2017</th>\n",
              "    </tr>\n",
              "  </thead>\n",
              "  <tbody>\n",
              "    <tr>\n",
              "      <th>count</th>\n",
              "      <td>240.000000</td>\n",
              "      <td>240.000000</td>\n",
              "      <td>240.000000</td>\n",
              "      <td>240.000000</td>\n",
              "      <td>240.000000</td>\n",
              "      <td>240.000000</td>\n",
              "      <td>240.000000</td>\n",
              "      <td>240.000000</td>\n",
              "    </tr>\n",
              "    <tr>\n",
              "      <th>mean</th>\n",
              "      <td>30.872419</td>\n",
              "      <td>31.131758</td>\n",
              "      <td>30.340594</td>\n",
              "      <td>29.790453</td>\n",
              "      <td>28.683781</td>\n",
              "      <td>30.579904</td>\n",
              "      <td>29.161746</td>\n",
              "      <td>29.292363</td>\n",
              "    </tr>\n",
              "    <tr>\n",
              "      <th>std</th>\n",
              "      <td>17.978061</td>\n",
              "      <td>17.942650</td>\n",
              "      <td>17.787894</td>\n",
              "      <td>17.732915</td>\n",
              "      <td>17.165262</td>\n",
              "      <td>19.577582</td>\n",
              "      <td>19.034549</td>\n",
              "      <td>19.320528</td>\n",
              "    </tr>\n",
              "    <tr>\n",
              "      <th>min</th>\n",
              "      <td>7.152866</td>\n",
              "      <td>7.283700</td>\n",
              "      <td>6.601134</td>\n",
              "      <td>6.278689</td>\n",
              "      <td>6.180830</td>\n",
              "      <td>6.063834</td>\n",
              "      <td>5.893757</td>\n",
              "      <td>5.861331</td>\n",
              "    </tr>\n",
              "    <tr>\n",
              "      <th>25%</th>\n",
              "      <td>17.043463</td>\n",
              "      <td>17.362182</td>\n",
              "      <td>16.255018</td>\n",
              "      <td>15.809037</td>\n",
              "      <td>15.171312</td>\n",
              "      <td>15.513597</td>\n",
              "      <td>14.489949</td>\n",
              "      <td>14.572962</td>\n",
              "    </tr>\n",
              "    <tr>\n",
              "      <th>50%</th>\n",
              "      <td>27.004787</td>\n",
              "      <td>27.453521</td>\n",
              "      <td>25.948751</td>\n",
              "      <td>25.442579</td>\n",
              "      <td>24.193790</td>\n",
              "      <td>24.441082</td>\n",
              "      <td>23.079150</td>\n",
              "      <td>22.874830</td>\n",
              "    </tr>\n",
              "    <tr>\n",
              "      <th>75%</th>\n",
              "      <td>39.433401</td>\n",
              "      <td>40.142818</td>\n",
              "      <td>40.863400</td>\n",
              "      <td>40.343259</td>\n",
              "      <td>39.552618</td>\n",
              "      <td>43.850369</td>\n",
              "      <td>40.775888</td>\n",
              "      <td>40.966942</td>\n",
              "    </tr>\n",
              "    <tr>\n",
              "      <th>max</th>\n",
              "      <td>100.784428</td>\n",
              "      <td>100.766061</td>\n",
              "      <td>96.963291</td>\n",
              "      <td>95.313986</td>\n",
              "      <td>98.116017</td>\n",
              "      <td>97.432289</td>\n",
              "      <td>98.054714</td>\n",
              "      <td>99.734374</td>\n",
              "    </tr>\n",
              "  </tbody>\n",
              "</table>\n",
              "</div>"
            ],
            "text/plain": [
              "             2010        2011        2012  ...        2015        2016        2017\n",
              "count  240.000000  240.000000  240.000000  ...  240.000000  240.000000  240.000000\n",
              "mean    30.872419   31.131758   30.340594  ...   30.579904   29.161746   29.292363\n",
              "std     17.978061   17.942650   17.787894  ...   19.577582   19.034549   19.320528\n",
              "min      7.152866    7.283700    6.601134  ...    6.063834    5.893757    5.861331\n",
              "25%     17.043463   17.362182   16.255018  ...   15.513597   14.489949   14.572962\n",
              "50%     27.004787   27.453521   25.948751  ...   24.441082   23.079150   22.874830\n",
              "75%     39.433401   40.142818   40.863400  ...   43.850369   40.775888   40.966942\n",
              "max    100.784428  100.766061   96.963291  ...   97.432289   98.054714   99.734374\n",
              "\n",
              "[8 rows x 8 columns]"
            ]
          },
          "metadata": {},
          "execution_count": 21
        }
      ]
    },
    {
      "cell_type": "markdown",
      "metadata": {
        "id": "U2xj5OV7xzK_"
      },
      "source": [
        "Next, we wil reformat the dataset that is consistent with the other datasets. We will have the iso_code, year and percent as columns of our dataframe"
      ]
    },
    {
      "cell_type": "code",
      "metadata": {
        "id": "t-n83lwqxyq4"
      },
      "source": [
        "air_polution_pd_cleaned = air_polution_pd_cleaned.set_index('iso_code').stack().reset_index().rename(columns={'level_1': 'year', 0:'percent'})\n"
      ],
      "execution_count": 34,
      "outputs": []
    },
    {
      "cell_type": "code",
      "metadata": {
        "colab": {
          "base_uri": "https://localhost:8080/",
          "height": 204
        },
        "id": "agUEn8DYy9hU",
        "outputId": "a3d01983-fe15-450e-8e23-70ed591104d5"
      },
      "source": [
        "air_polution_pd_cleaned.head(5)"
      ],
      "execution_count": 35,
      "outputs": [
        {
          "output_type": "execute_result",
          "data": {
            "text/html": [
              "<div>\n",
              "<style scoped>\n",
              "    .dataframe tbody tr th:only-of-type {\n",
              "        vertical-align: middle;\n",
              "    }\n",
              "\n",
              "    .dataframe tbody tr th {\n",
              "        vertical-align: top;\n",
              "    }\n",
              "\n",
              "    .dataframe thead th {\n",
              "        text-align: right;\n",
              "    }\n",
              "</style>\n",
              "<table border=\"1\" class=\"dataframe\">\n",
              "  <thead>\n",
              "    <tr style=\"text-align: right;\">\n",
              "      <th></th>\n",
              "      <th>iso_code</th>\n",
              "      <th>year</th>\n",
              "      <th>percent</th>\n",
              "    </tr>\n",
              "  </thead>\n",
              "  <tbody>\n",
              "    <tr>\n",
              "      <th>0</th>\n",
              "      <td>AFG</td>\n",
              "      <td>2010</td>\n",
              "      <td>65.245592</td>\n",
              "    </tr>\n",
              "    <tr>\n",
              "      <th>1</th>\n",
              "      <td>AFG</td>\n",
              "      <td>2011</td>\n",
              "      <td>66.835727</td>\n",
              "    </tr>\n",
              "    <tr>\n",
              "      <th>2</th>\n",
              "      <td>AFG</td>\n",
              "      <td>2012</td>\n",
              "      <td>66.023174</td>\n",
              "    </tr>\n",
              "    <tr>\n",
              "      <th>3</th>\n",
              "      <td>AFG</td>\n",
              "      <td>2013</td>\n",
              "      <td>61.366745</td>\n",
              "    </tr>\n",
              "    <tr>\n",
              "      <th>4</th>\n",
              "      <td>AFG</td>\n",
              "      <td>2014</td>\n",
              "      <td>59.010330</td>\n",
              "    </tr>\n",
              "  </tbody>\n",
              "</table>\n",
              "</div>"
            ],
            "text/plain": [
              "  iso_code  year    percent\n",
              "0      AFG  2010  65.245592\n",
              "1      AFG  2011  66.835727\n",
              "2      AFG  2012  66.023174\n",
              "3      AFG  2013  61.366745\n",
              "4      AFG  2014  59.010330"
            ]
          },
          "metadata": {},
          "execution_count": 35
        }
      ]
    },
    {
      "cell_type": "code",
      "metadata": {
        "colab": {
          "base_uri": "https://localhost:8080/"
        },
        "id": "_oAi9AzI6rB-",
        "outputId": "5f04d945-ff2b-4be0-e992-89499ec7fb61"
      },
      "source": [
        "air_polution_pd_cleaned.count()"
      ],
      "execution_count": 36,
      "outputs": [
        {
          "output_type": "execute_result",
          "data": {
            "text/plain": [
              "iso_code    1352\n",
              "year        1920\n",
              "percent     1920\n",
              "dtype: int64"
            ]
          },
          "metadata": {},
          "execution_count": 36
        }
      ]
    },
    {
      "cell_type": "markdown",
      "metadata": {
        "id": "a6xWeES05MUJ"
      },
      "source": [
        "Finally, we will export our cleanned dataframe out to CSV"
      ]
    },
    {
      "cell_type": "code",
      "metadata": {
        "id": "sedNJCJQzMWK"
      },
      "source": [
        "air_polution_pd_cleaned.to_csv('/content/drive/MyDrive/MCIT/CIS545/Data/pollution_data_cleaned.csv')"
      ],
      "execution_count": 29,
      "outputs": []
    }
  ]
}