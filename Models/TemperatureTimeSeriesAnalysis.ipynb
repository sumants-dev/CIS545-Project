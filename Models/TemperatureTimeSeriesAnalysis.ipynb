{
 "cells": [
  {
   "cell_type": "markdown",
   "id": "b579d06d",
   "metadata": {},
   "source": [
    "# Exploratory Data Analysis"
   ]
  },
  {
   "cell_type": "code",
   "execution_count": null,
   "id": "8eb8863a",
   "metadata": {},
   "outputs": [],
   "source": [
    "%%capture\n",
    "!pip install pandas\n",
    "!pip install geopandas\n",
    "!pip install plotly-express\n",
    "!pip install nbformat\n",
    "!pip install -U kaleido\n",
    "!pip install pycountry-convert"
   ]
  },
  {
   "cell_type": "code",
   "execution_count": null,
   "id": "09d5e538",
   "metadata": {},
   "outputs": [],
   "source": [
    "import plotly.express as px\n",
    "import pandas as pd\n",
    "import pycountry_convert as pc"
   ]
  },
  {
   "cell_type": "markdown",
   "id": "4272e25e",
   "metadata": {},
   "source": [
    "We first add continent information to our data frame"
   ]
  },
  {
   "cell_type": "code",
   "execution_count": null,
   "id": "aef7f6e4",
   "metadata": {},
   "outputs": [],
   "source": [
    "def f(x): return(pc.country_alpha2_to_continent_code(pc.country_alpha3_to_country_alpha2(x)))\n",
    "\n",
    "df = pd.read_csv('../Data/global_average_yearly_temp_with_features_clean.csv')\n",
    "df['datetime_year'] = pd.to_datetime(df['year'], format = \"%Y\")\n",
    "df['iso_continents_code'] = df['iso_code'].apply(f) \n"
   ]
  },
  {
   "cell_type": "markdown",
   "id": "f524e1df",
   "metadata": {},
   "source": [
    "## Global Trends\n",
    "We now see the general global trends of temperature overtime has been increasing. When we plot each continents temperature, we notice that the data has been most consistent for Europe, Asia, North America and South America, but Africa has sparse data before 1850."
   ]
  },
  {
   "cell_type": "markdown",
   "id": "16091612",
   "metadata": {},
   "source": [
    "### Global Average Temperature"
   ]
  },
  {
   "cell_type": "code",
   "execution_count": null,
   "id": "b4f4a284",
   "metadata": {},
   "outputs": [],
   "source": [
    "year_group_by = df.groupby(\"year\").mean()\n",
    "year_group_by = year_group_by.reset_index()\n",
    "fig = px.line(year_group_by, x = \"year\", y=\"AvgYearlyTemp\", title = \"Average Temperature Over Time\")\n",
    "fig.show()\n"
   ]
  },
  {
   "cell_type": "markdown",
   "id": "fe524239",
   "metadata": {},
   "source": [
    "### Continent Average Temperature "
   ]
  },
  {
   "cell_type": "code",
   "execution_count": null,
   "id": "943656eb",
   "metadata": {},
   "outputs": [],
   "source": [
    "continent_group_by = df.groupby([\"year\",\"iso_continents_code\"]).mean()\n",
    "continent_group_by = continent_group_by.reset_index()\n",
    "fig = px.line(continent_group_by, x = \"year\", y=\"AvgYearlyTemp\", color = \"iso_continents_code\")\n",
    "fig.show()"
   ]
  },
  {
   "cell_type": "markdown",
   "id": "ab5d25e0",
   "metadata": {},
   "source": [
    "### Map of the World With Average Temperature"
   ]
  },
  {
   "cell_type": "code",
   "execution_count": null,
   "id": "ba0acbf0",
   "metadata": {},
   "outputs": [],
   "source": [
    "fig = px.choropleth(df, locations=\"iso_code\", color= \"AvgYearlyTemp\", \n",
    "                    hover_name= \"iso_code\", animation_frame= \"year\", title = \"Average Yearly Temperature\" )\n",
    "# interactive\n",
    "fig.show()"
   ]
  },
  {
   "cell_type": "markdown",
   "id": "d734f682",
   "metadata": {},
   "source": [
    "### Percent Change In Temperature Year Over Year "
   ]
  },
  {
   "cell_type": "code",
   "execution_count": null,
   "id": "57695911",
   "metadata": {},
   "outputs": [],
   "source": [
    "year_group_by.sort_values(['year'], inplace = True, ascending=[False])\n",
    "temp_label, co2_label = 'Avg. Temperature Yearly Percent Change', 'Avg. Co2 Yearly Percent Change'\n",
    "year_group_by[temp_label] = year_group_by['AvgYearlyTemp'].pct_change() * 100\n",
    "year_group_by[co2_label] = year_group_by['co2'].pct_change() * 100\n",
    "fig = px.bar(year_group_by, x='year', y=temp_label, color = temp_label, color_continuous_scale ='bluered')\n",
    "fig.show()"
   ]
  },
  {
   "cell_type": "markdown",
   "id": "b823b89d",
   "metadata": {},
   "source": [
    "## Trends Between Data"
   ]
  },
  {
   "cell_type": "code",
   "execution_count": null,
   "id": "353586fc",
   "metadata": {},
   "outputs": [],
   "source": [
    "corr = df.corr()\n",
    "fig = px.imshow(corr, True, title = \"Correlation Heatmap\")\n",
    "fig.show()"
   ]
  },
  {
   "cell_type": "code",
   "execution_count": null,
   "id": "b8db5b7b",
   "metadata": {},
   "outputs": [],
   "source": [
    "fig = px.scatter_matrix(df, dimensions=[\"cumulative_co2\", \"population\", \"co2\", \"oil_co2\", \"AvgYearlyTemp\"])\n",
    "# interactive plot\n",
    "fig.show()"
   ]
  },
  {
   "cell_type": "code",
   "execution_count": null,
   "id": "05b87db2",
   "metadata": {},
   "outputs": [],
   "source": []
  },
  {
   "cell_type": "markdown",
   "id": "2e221792",
   "metadata": {},
   "source": [
    "# Creating Sarimax Model With Excog Variables At A Country Level\n",
    "\n",
    "We will be creating a Sarimax model at country level because each time forecasting relies on the trends in data, therefore you cannot have multiple instances for a single time point. Moreover, as a simple model, it only requires not many datapoints to make predictions. Below, we detail the process that we have for our model.\n",
    "\n",
    "1. Data Preperation\n",
    "2. Hypertuning Model Parameters With Training and Validation Set\n",
    "3. Testing model on holdout set\n"
   ]
  },
  {
   "cell_type": "code",
   "execution_count": null,
   "id": "54bef1fc",
   "metadata": {},
   "outputs": [],
   "source": [
    "%%capture\n",
    "!pip install pandas\n",
    "!pip install plotly-express\n",
    "!pip install statsmodels\n",
    "!pip install tqdm\n"
   ]
  },
  {
   "cell_type": "code",
   "execution_count": 14,
   "id": "a247f7a1",
   "metadata": {},
   "outputs": [],
   "source": [
    "import pandas as pd\n",
    "from sklearn.model_selection import train_test_split\n",
    "import statsmodels as sm \n",
    "from sklearn.metrics import r2_score\n",
    "from tqdm import tqdm\n",
    "import plotly.express as px\n",
    "from sklearn.preprocessing import StandardScaler\n",
    "# model imports\n",
    "from statsmodels.tsa.arima.model import ARIMA\n",
    "import statsmodels.api as sm1\n",
    "from sklearn.metrics import mean_squared_error, r2_score\n",
    "import itertools\n",
    "import math\n",
    "from sklearn.decomposition import PCA\n",
    "import pickle\n"
   ]
  },
  {
   "cell_type": "markdown",
   "id": "a58069a0",
   "metadata": {},
   "source": [
    "## Preparing Data for Arima\n",
    "We have multple task to prepare data for ARIMA\n",
    "### Data Wrangling\n",
    "1. We have to cast our Year into a datetime object\n",
    "2. We then have to set it as an index of the array\n",
    "3. Finally, we have to set the period of the data to Yearly frequency\n",
    "\n",
    "### Spliting Data into Training, Validation, and Holdout\n",
    "We selection the following time periods.\n",
    "```\n",
    "Training (1750 - 1950)\n",
    "Validation (1950 - 1980)\n",
    "Testing (1980 - 2013)\n",
    "```\n",
    "\n",
    "### Scaling Data By Standard Scalar\n",
    "The numerical method used for ARIMA involves BFGS, which is not\n",
    "scale invariant, therfore we scale the x-features by that of\n",
    "the training data"
   ]
  },
  {
   "cell_type": "code",
   "execution_count": 63,
   "id": "443917f4",
   "metadata": {},
   "outputs": [],
   "source": [
    "def get_country_df(country):\n",
    "    df = pd.read_csv('../Data/global_average_yearly_temp_with_features_clean.csv')\n",
    "    df = df[df[\"iso_code\"] == country]\n",
    "    df[\"Year_idx\"] = pd.to_datetime(df.year, format=\"%Y\")\n",
    "    df = df.set_index(\"Year_idx\")\n",
    "    df.index = df.index.to_period(\"Y\")\n",
    "    return df\n",
    "\n",
    "def get_test_train_valid(country, train_split = '1950', validation_split = '1980'):\n",
    "    country_df = get_country_df(country)\n",
    "    \n",
    "    train = country_df.loc[:train_split]\n",
    "    valid = country_df.loc[train_split: validation_split]\n",
    "    test  = country_df.loc[validation_split:]\n",
    "    \n",
    "    return train, test, valid\n",
    "\n",
    "def scale(train_x, valid_x, test_x):\n",
    "    scaler = StandardScaler()\n",
    "    model_x = pd.concat([train_x, valid_x])\n",
    "\n",
    "    scaler.fit(model_x)\n",
    "    model_x = scaler.transform(model_x)\n",
    "    train_x = scaler.transform(train_x)\n",
    "    valid_x = scaler.transform(valid_x)\n",
    "    test_x  = scaler.transform(test_x)\n",
    "    return train_x, valid_x, test_x, model_x\n",
    "\n",
    "def pca_fitter(train_x, threshold = .99):\n",
    "    n_features = train_x.shape[1]\n",
    "    \n",
    "    for n in range(1, n_features + 1):\n",
    "        pca_model = PCA(n)\n",
    "        pca_model.fit(train_x)\n",
    "        \n",
    "        if sum(pca_model.explained_variance_ratio_) >= threshold:\n",
    "            break\n",
    "    return pca_model\n",
    "        \n",
    "    "
   ]
  },
  {
   "cell_type": "markdown",
   "id": "b374b4dd",
   "metadata": {},
   "source": [
    "## Hypertuning Model Parameters With Training and Validation Set\n",
    "We opt for an exhaustive grid search to find the parameters that give the best result. Here, we only use the following assumptions for the sarimax model. The external regressors are time varying, and have measurement error. \n"
   ]
  },
  {
   "cell_type": "code",
   "execution_count": 64,
   "id": "2d447cdb",
   "metadata": {},
   "outputs": [],
   "source": [
    "def eval_arima_excog_walk_forward_validation_model(train_x, train_y, test_x, test_y, arima_order):\n",
    "    # DO NOT USE THIS \n",
    "\n",
    "    history = [x for x in train_y]\n",
    "    predictions = []\n",
    "    \n",
    "    for i in range(len(test_x)):\n",
    "        model = ARIMA(history, exog = train_x, order = arima_order)\n",
    "        model_fit = model.fit()\n",
    "        \n",
    "        y_hat = model_fit.forecast(exog = test_x.iloc[[i]])\n",
    "        predictions.append(y_hat[0])\n",
    "        \n",
    "        train_x = pd.concat([train_x, test_x.iloc[[i]]], axis = 0)\n",
    "        history.append(test_y[i])\n",
    "\n",
    "    rmse = math.sqrt(mean_squared_error(test_y, predictions))\n",
    "    return model_fit, rmse, predictions\n",
    "\n",
    "def eval_arima_excog(train_x, train_y, test_x, test_y, arima_order, trend = 'c'):\n",
    "    # DO NOT USE THIS \n",
    "    model = ARIMA(train_y, exog = train_x, order = arima_order, trend = trend)\n",
    "    model_fit = model.fit()\n",
    "    predictions = model_fit.forecast(len(test_x), exog = test_x)\n",
    "    rmse = math.sqrt(mean_squared_error(test_y, predictions))\n",
    "    return model_fit, rmse, predictions\n",
    "\n",
    "def eval_sarimax_excog(train_x, train_y, test_x, test_y, arima_order):\n",
    "    # USE THIS\n",
    "    model = sm1.tsa.statespace.SARIMAX(train_y, exog = train_x, order = arima_order, \\\n",
    "                                       time_varying_regression = True, mle_regression = False, measurement_error = True)\n",
    "    model_fit = model.fit(disp = 0)\n",
    "    predictions = model_fit.forecast(len(test_x), exog = test_x)\n",
    "    rmse = math.sqrt(mean_squared_error(test_y, predictions))\n",
    "    predictions.index = test_y.index\n",
    "    return model_fit, rmse, predictions\n",
    "\n",
    "def eval_excog_models(train_x, train_y, test_x, test_y, p_values, d_values, q_values, f):\n",
    "    arima_orders = itertools.product(*[p_values, d_values, q_values])\n",
    "    arima_orders = list(arima_orders)\n",
    "    best_order, best_score = None, float(\"inf\") \n",
    "    \n",
    "    count = 0\n",
    "    for arima_order in tqdm(arima_orders):\n",
    "        try:\n",
    "            _, rmse, _ = f(train_x, train_y, test_x, test_y, arima_order)\n",
    "            \n",
    "            if rmse < best_score:\n",
    "                best_score, best_order = rmse, arima_order\n",
    "                print(f\"ARIMA RMSE = {best_score}\")\n",
    "        except Exception as e:\n",
    "            print(e)\n",
    "            pass\n",
    "        count += 1\n",
    "    print('DONE')\n",
    "    return best_order\n",
    "    "
   ]
  },
  {
   "cell_type": "code",
   "execution_count": 65,
   "id": "775ab866",
   "metadata": {},
   "outputs": [],
   "source": [
    "def ml(country, p_values = [0, 1, 2, 3], d_values = range(0, 3), q_values = range(0, 3)):\n",
    "    train, test, valid = get_test_train_valid(country)\n",
    "\n",
    "    train_x, train_y = train[train.columns[2:-2]], train[\"AvgYearlyTemp\"]\n",
    "    test_x, test_y = test[test.columns[2:-2]], test[\"AvgYearlyTemp\"]\n",
    "    valid_x, valid_y = valid[valid.columns[2:-2]], valid[\"AvgYearlyTemp\"]\n",
    "\n",
    "    train_x, valid_x, test_x, model_x = scale(train_x, valid_x, test_x)\n",
    "\n",
    "    pca_model = pca_fitter(train_x)\n",
    "    train_x = pca_model.transform(train_x)\n",
    "    valid_x = pca_model.transform(valid_x) \n",
    "    test_x  = pca_model.transform(test_x)\n",
    "    model_x = pca_model.transform(model_x)\n",
    "    \n",
    "    model_y = pd.concat([train_y, valid_y])\n",
    "\n",
    "    best = eval_excog_models(train_x, train_y, valid_x, valid_y, p_values, d_values, q_values, eval_sarimax_excog)\n",
    "\n",
    "    model_fit, rmse, predictions = eval_sarimax_excog(model_x, model_y, test_x, test_y, best)\n",
    "    \n",
    "    return best, test_y, predictions"
   ]
  },
  {
   "cell_type": "code",
   "execution_count": 66,
   "id": "262e0e33",
   "metadata": {},
   "outputs": [],
   "source": [
    "def plot(df, country, layout, line1 = 'AvgYearlyTemp', line2 = 'Predictions', x = 'year', error = 'AvgTempUncertainty'):\n",
    "    from plotly.subplots import make_subplots\n",
    "    import plotly.graph_objects as go\n",
    "\n",
    "\n",
    "    fig = go.Figure(layout = layout)\n",
    "    trace_1 = go.Line(name = f\"Actual {country} Avg Yearly Temp\", \n",
    "                     x = test[x],\n",
    "                     y = test[line1],\n",
    "                     error_y = dict(type='data', array = test[error]))\n",
    "\n",
    "\n",
    "    trace_2 = go.Line(name = f\"Predictions of {country} Avg Yearly Temp\", \n",
    "                     x = test[x],\n",
    "                     y = test[line2])\n",
    "\n",
    "    fig.add_trace(trace_1)\n",
    "    fig.add_trace(trace_2)\n",
    "    \n",
    "    return fig"
   ]
  },
  {
   "cell_type": "markdown",
   "id": "df675635",
   "metadata": {},
   "source": [
    "## Testing on the holdout\n",
    "We now use the best parameters from an exhaustive grid search to predict on our holdout set"
   ]
  },
  {
   "cell_type": "code",
   "execution_count": 67,
   "id": "81711b81",
   "metadata": {
    "scrolled": false
   },
   "outputs": [
    {
     "name": "stderr",
     "output_type": "stream",
     "text": [
      "  3%|██▎                                                                                 | 1/36 [00:00<00:13,  2.65it/s]"
     ]
    },
    {
     "name": "stdout",
     "output_type": "stream",
     "text": [
      "ARIMA RMSE = 4.8265999555331565\n"
     ]
    },
    {
     "name": "stderr",
     "output_type": "stream",
     "text": [
      "  8%|███████                                                                             | 3/36 [00:01<00:13,  2.37it/s]"
     ]
    },
    {
     "name": "stdout",
     "output_type": "stream",
     "text": [
      "Invalid dimensions for design matrix: requires 7 columns, got 6\n"
     ]
    },
    {
     "name": "stderr",
     "output_type": "stream",
     "text": [
      "\r",
      " 14%|███████████▋                                                                        | 5/36 [00:01<00:12,  2.57it/s]"
     ]
    },
    {
     "name": "stdout",
     "output_type": "stream",
     "text": [
      "ARIMA RMSE = 0.39317069012112366\n"
     ]
    },
    {
     "name": "stderr",
     "output_type": "stream",
     "text": [
      "/home/sumants/miniconda3/envs/watts/lib/python3.7/site-packages/statsmodels/base/model.py:606: ConvergenceWarning:\n",
      "\n",
      "Maximum Likelihood optimization failed to converge. Check mle_retvals\n",
      "\n",
      "\r",
      " 17%|██████████████                                                                      | 6/36 [00:03<00:18,  1.62it/s]"
     ]
    },
    {
     "name": "stdout",
     "output_type": "stream",
     "text": [
      "Invalid dimensions for design matrix: requires 8 columns, got 6\n"
     ]
    },
    {
     "name": "stderr",
     "output_type": "stream",
     "text": [
      "/home/sumants/miniconda3/envs/watts/lib/python3.7/site-packages/statsmodels/base/model.py:606: ConvergenceWarning:\n",
      "\n",
      "Maximum Likelihood optimization failed to converge. Check mle_retvals\n",
      "\n",
      " 25%|█████████████████████                                                               | 9/36 [00:04<00:17,  1.54it/s]/home/sumants/miniconda3/envs/watts/lib/python3.7/site-packages/statsmodels/tsa/statespace/sarimax.py:966: UserWarning:\n",
      "\n",
      "Non-stationary starting autoregressive parameters found. Using zeros as starting parameters.\n",
      "\n",
      "/home/sumants/miniconda3/envs/watts/lib/python3.7/site-packages/statsmodels/base/model.py:606: ConvergenceWarning:\n",
      "\n",
      "Maximum Likelihood optimization failed to converge. Check mle_retvals\n",
      "\n",
      " 28%|███████████████████████                                                            | 10/36 [00:05<00:16,  1.60it/s]/home/sumants/miniconda3/envs/watts/lib/python3.7/site-packages/statsmodels/tsa/statespace/sarimax.py:966: UserWarning:\n",
      "\n",
      "Non-stationary starting autoregressive parameters found. Using zeros as starting parameters.\n",
      "\n",
      " 31%|█████████████████████████▎                                                         | 11/36 [00:05<00:14,  1.70it/s]/home/sumants/miniconda3/envs/watts/lib/python3.7/site-packages/statsmodels/tsa/statespace/sarimax.py:966: UserWarning:\n",
      "\n",
      "Non-stationary starting autoregressive parameters found. Using zeros as starting parameters.\n",
      "\n",
      "/home/sumants/miniconda3/envs/watts/lib/python3.7/site-packages/statsmodels/base/model.py:606: ConvergenceWarning:\n",
      "\n",
      "Maximum Likelihood optimization failed to converge. Check mle_retvals\n",
      "\n",
      " 33%|███████████████████████████▋                                                       | 12/36 [00:06<00:13,  1.80it/s]/home/sumants/miniconda3/envs/watts/lib/python3.7/site-packages/statsmodels/base/model.py:606: ConvergenceWarning:\n",
      "\n",
      "Maximum Likelihood optimization failed to converge. Check mle_retvals\n",
      "\n",
      " 50%|█████████████████████████████████████████▌                                         | 18/36 [00:10<00:12,  1.43it/s]/home/sumants/miniconda3/envs/watts/lib/python3.7/site-packages/statsmodels/tsa/statespace/sarimax.py:966: UserWarning:\n",
      "\n",
      "Non-stationary starting autoregressive parameters found. Using zeros as starting parameters.\n",
      "\n",
      "/home/sumants/miniconda3/envs/watts/lib/python3.7/site-packages/statsmodels/base/model.py:606: ConvergenceWarning:\n",
      "\n",
      "Maximum Likelihood optimization failed to converge. Check mle_retvals\n",
      "\n",
      " 53%|███████████████████████████████████████████▊                                       | 19/36 [00:10<00:09,  1.71it/s]/home/sumants/miniconda3/envs/watts/lib/python3.7/site-packages/statsmodels/base/model.py:606: ConvergenceWarning:\n",
      "\n",
      "Maximum Likelihood optimization failed to converge. Check mle_retvals\n",
      "\n",
      " 56%|██████████████████████████████████████████████                                     | 20/36 [00:11<00:10,  1.46it/s]/home/sumants/miniconda3/envs/watts/lib/python3.7/site-packages/statsmodels/tsa/statespace/sarimax.py:966: UserWarning:\n",
      "\n",
      "Non-stationary starting autoregressive parameters found. Using zeros as starting parameters.\n",
      "\n",
      "/home/sumants/miniconda3/envs/watts/lib/python3.7/site-packages/statsmodels/tsa/statespace/sarimax.py:978: UserWarning:\n",
      "\n",
      "Non-invertible starting MA parameters found. Using zeros as starting parameters.\n",
      "\n",
      "/home/sumants/miniconda3/envs/watts/lib/python3.7/site-packages/statsmodels/base/model.py:606: ConvergenceWarning:\n",
      "\n",
      "Maximum Likelihood optimization failed to converge. Check mle_retvals\n",
      "\n",
      " 61%|██████████████████████████████████████████████████▋                                | 22/36 [00:12<00:09,  1.44it/s]/home/sumants/miniconda3/envs/watts/lib/python3.7/site-packages/statsmodels/tsa/statespace/sarimax.py:966: UserWarning:\n",
      "\n",
      "Non-stationary starting autoregressive parameters found. Using zeros as starting parameters.\n",
      "\n",
      "/home/sumants/miniconda3/envs/watts/lib/python3.7/site-packages/statsmodels/tsa/statespace/sarimax.py:978: UserWarning:\n",
      "\n",
      "Non-invertible starting MA parameters found. Using zeros as starting parameters.\n",
      "\n",
      " 64%|█████████████████████████████████████████████████████                              | 23/36 [00:13<00:08,  1.50it/s]/home/sumants/miniconda3/envs/watts/lib/python3.7/site-packages/statsmodels/base/model.py:606: ConvergenceWarning:\n",
      "\n",
      "Maximum Likelihood optimization failed to converge. Check mle_retvals\n",
      "\n",
      " 69%|█████████████████████████████████████████████████████████▋                         | 25/36 [00:14<00:08,  1.37it/s]/home/sumants/miniconda3/envs/watts/lib/python3.7/site-packages/statsmodels/tsa/statespace/sarimax.py:978: UserWarning:\n",
      "\n",
      "Non-invertible starting MA parameters found. Using zeros as starting parameters.\n",
      "\n",
      " 75%|██████████████████████████████████████████████████████████████▎                    | 27/36 [00:17<00:08,  1.05it/s]/home/sumants/miniconda3/envs/watts/lib/python3.7/site-packages/statsmodels/tsa/statespace/sarimax.py:966: UserWarning:\n",
      "\n",
      "Non-stationary starting autoregressive parameters found. Using zeros as starting parameters.\n",
      "\n",
      "/home/sumants/miniconda3/envs/watts/lib/python3.7/site-packages/statsmodels/base/model.py:606: ConvergenceWarning:\n",
      "\n",
      "Maximum Likelihood optimization failed to converge. Check mle_retvals\n",
      "\n",
      " 78%|████████████████████████████████████████████████████████████████▌                  | 28/36 [00:17<00:06,  1.24it/s]/home/sumants/miniconda3/envs/watts/lib/python3.7/site-packages/statsmodels/tsa/statespace/sarimax.py:966: UserWarning:\n",
      "\n",
      "Non-stationary starting autoregressive parameters found. Using zeros as starting parameters.\n",
      "\n",
      "/home/sumants/miniconda3/envs/watts/lib/python3.7/site-packages/statsmodels/base/model.py:606: ConvergenceWarning:\n",
      "\n",
      "Maximum Likelihood optimization failed to converge. Check mle_retvals\n",
      "\n",
      " 81%|██████████████████████████████████████████████████████████████████▊                | 29/36 [00:18<00:05,  1.34it/s]/home/sumants/miniconda3/envs/watts/lib/python3.7/site-packages/statsmodels/tsa/statespace/sarimax.py:966: UserWarning:\n",
      "\n",
      "Non-stationary starting autoregressive parameters found. Using zeros as starting parameters.\n",
      "\n",
      "/home/sumants/miniconda3/envs/watts/lib/python3.7/site-packages/statsmodels/base/model.py:606: ConvergenceWarning:\n",
      "\n",
      "Maximum Likelihood optimization failed to converge. Check mle_retvals\n",
      "\n",
      " 86%|███████████████████████████████████████████████████████████████████████▍           | 31/36 [00:19<00:03,  1.28it/s]/home/sumants/miniconda3/envs/watts/lib/python3.7/site-packages/statsmodels/base/model.py:606: ConvergenceWarning:\n",
      "\n",
      "Maximum Likelihood optimization failed to converge. Check mle_retvals\n",
      "\n",
      " 89%|█████████████████████████████████████████████████████████████████████████▊         | 32/36 [00:20<00:02,  1.37it/s]/home/sumants/miniconda3/envs/watts/lib/python3.7/site-packages/statsmodels/base/model.py:606: ConvergenceWarning:\n",
      "\n",
      "Maximum Likelihood optimization failed to converge. Check mle_retvals\n",
      "\n",
      "100%|███████████████████████████████████████████████████████████████████████████████████| 36/36 [00:24<00:00,  1.45it/s]\n"
     ]
    },
    {
     "name": "stdout",
     "output_type": "stream",
     "text": [
      "DONE\n"
     ]
    },
    {
     "name": "stderr",
     "output_type": "stream",
     "text": [
      "  3%|██▎                                                                                 | 1/36 [00:00<00:08,  3.95it/s]"
     ]
    },
    {
     "name": "stdout",
     "output_type": "stream",
     "text": [
      "ARIMA RMSE = 4.55147269442265\n"
     ]
    },
    {
     "name": "stderr",
     "output_type": "stream",
     "text": [
      "\r",
      "  6%|████▋                                                                               | 2/36 [00:00<00:10,  3.25it/s]"
     ]
    },
    {
     "name": "stdout",
     "output_type": "stream",
     "text": [
      "ARIMA RMSE = 4.492407342799966\n"
     ]
    },
    {
     "name": "stderr",
     "output_type": "stream",
     "text": [
      "\r",
      "  8%|███████                                                                             | 3/36 [00:00<00:10,  3.19it/s]"
     ]
    },
    {
     "name": "stdout",
     "output_type": "stream",
     "text": [
      "Invalid dimensions for design matrix: requires 7 columns, got 6\n"
     ]
    },
    {
     "name": "stderr",
     "output_type": "stream",
     "text": [
      "/home/sumants/miniconda3/envs/watts/lib/python3.7/site-packages/statsmodels/base/model.py:606: ConvergenceWarning:\n",
      "\n",
      "Maximum Likelihood optimization failed to converge. Check mle_retvals\n",
      "\n",
      "\r",
      " 14%|███████████▋                                                                        | 5/36 [00:01<00:08,  3.71it/s]"
     ]
    },
    {
     "name": "stdout",
     "output_type": "stream",
     "text": [
      "ARIMA RMSE = 0.6233501705083685\n"
     ]
    },
    {
     "name": "stderr",
     "output_type": "stream",
     "text": [
      "\r",
      " 17%|██████████████                                                                      | 6/36 [00:02<00:11,  2.71it/s]"
     ]
    },
    {
     "name": "stdout",
     "output_type": "stream",
     "text": [
      "Invalid dimensions for design matrix: requires 8 columns, got 6\n"
     ]
    },
    {
     "name": "stderr",
     "output_type": "stream",
     "text": [
      " 22%|██████████████████▋                                                                 | 8/36 [00:02<00:09,  3.09it/s]/home/sumants/miniconda3/envs/watts/lib/python3.7/site-packages/statsmodels/base/model.py:606: ConvergenceWarning:\n",
      "\n",
      "Maximum Likelihood optimization failed to converge. Check mle_retvals\n",
      "\n",
      " 31%|█████████████████████████▎                                                         | 11/36 [00:04<00:10,  2.43it/s]/home/sumants/miniconda3/envs/watts/lib/python3.7/site-packages/statsmodels/tsa/statespace/sarimax.py:966: UserWarning:\n",
      "\n",
      "Non-stationary starting autoregressive parameters found. Using zeros as starting parameters.\n",
      "\n",
      " 36%|█████████████████████████████▉                                                     | 13/36 [00:05<00:10,  2.13it/s]/home/sumants/miniconda3/envs/watts/lib/python3.7/site-packages/statsmodels/base/model.py:606: ConvergenceWarning:\n",
      "\n",
      "Maximum Likelihood optimization failed to converge. Check mle_retvals\n",
      "\n",
      " 44%|████████████████████████████████████▉                                              | 16/36 [00:06<00:10,  1.93it/s]/home/sumants/miniconda3/envs/watts/lib/python3.7/site-packages/statsmodels/base/model.py:606: ConvergenceWarning:\n",
      "\n",
      "Maximum Likelihood optimization failed to converge. Check mle_retvals\n",
      "\n",
      " 47%|███████████████████████████████████████▏                                           | 17/36 [00:07<00:09,  1.96it/s]"
     ]
    },
    {
     "name": "stdout",
     "output_type": "stream",
     "text": [
      "ARIMA RMSE = 0.6052236845897783\n"
     ]
    },
    {
     "name": "stderr",
     "output_type": "stream",
     "text": [
      "/home/sumants/miniconda3/envs/watts/lib/python3.7/site-packages/statsmodels/base/model.py:606: ConvergenceWarning:\n",
      "\n",
      "Maximum Likelihood optimization failed to converge. Check mle_retvals\n",
      "\n",
      " 56%|██████████████████████████████████████████████                                     | 20/36 [00:09<00:09,  1.63it/s]/home/sumants/miniconda3/envs/watts/lib/python3.7/site-packages/statsmodels/tsa/statespace/sarimax.py:966: UserWarning:\n",
      "\n",
      "Non-stationary starting autoregressive parameters found. Using zeros as starting parameters.\n",
      "\n",
      " 61%|██████████████████████████████████████████████████▋                                | 22/36 [00:10<00:08,  1.71it/s]/home/sumants/miniconda3/envs/watts/lib/python3.7/site-packages/statsmodels/tsa/statespace/sarimax.py:966: UserWarning:\n",
      "\n",
      "Non-stationary starting autoregressive parameters found. Using zeros as starting parameters.\n",
      "\n",
      "/home/sumants/miniconda3/envs/watts/lib/python3.7/site-packages/statsmodels/tsa/statespace/sarimax.py:978: UserWarning:\n",
      "\n",
      "Non-invertible starting MA parameters found. Using zeros as starting parameters.\n",
      "\n",
      " 64%|█████████████████████████████████████████████████████                              | 23/36 [00:11<00:10,  1.24it/s]/home/sumants/miniconda3/envs/watts/lib/python3.7/site-packages/statsmodels/base/model.py:606: ConvergenceWarning:\n",
      "\n",
      "Maximum Likelihood optimization failed to converge. Check mle_retvals\n",
      "\n",
      " 69%|█████████████████████████████████████████████████████████▋                         | 25/36 [00:13<00:08,  1.31it/s]/home/sumants/miniconda3/envs/watts/lib/python3.7/site-packages/statsmodels/tsa/statespace/sarimax.py:978: UserWarning:\n",
      "\n",
      "Non-invertible starting MA parameters found. Using zeros as starting parameters.\n",
      "\n",
      " 75%|██████████████████████████████████████████████████████████████▎                    | 27/36 [00:14<00:06,  1.34it/s]/home/sumants/miniconda3/envs/watts/lib/python3.7/site-packages/statsmodels/base/model.py:606: ConvergenceWarning:\n",
      "\n",
      "Maximum Likelihood optimization failed to converge. Check mle_retvals\n",
      "\n",
      " 78%|████████████████████████████████████████████████████████████████▌                  | 28/36 [00:16<00:06,  1.17it/s]/home/sumants/miniconda3/envs/watts/lib/python3.7/site-packages/statsmodels/base/model.py:606: ConvergenceWarning:\n",
      "\n",
      "Maximum Likelihood optimization failed to converge. Check mle_retvals\n",
      "\n",
      " 81%|██████████████████████████████████████████████████████████████████▊                | 29/36 [00:16<00:05,  1.26it/s]/home/sumants/miniconda3/envs/watts/lib/python3.7/site-packages/statsmodels/tsa/statespace/sarimax.py:966: UserWarning:\n",
      "\n",
      "Non-stationary starting autoregressive parameters found. Using zeros as starting parameters.\n",
      "\n",
      "/home/sumants/miniconda3/envs/watts/lib/python3.7/site-packages/statsmodels/tsa/statespace/sarimax.py:978: UserWarning:\n",
      "\n",
      "Non-invertible starting MA parameters found. Using zeros as starting parameters.\n",
      "\n",
      " 83%|█████████████████████████████████████████████████████████████████████▏             | 30/36 [00:16<00:03,  1.55it/s]/home/sumants/miniconda3/envs/watts/lib/python3.7/site-packages/statsmodels/base/model.py:606: ConvergenceWarning:\n",
      "\n",
      "Maximum Likelihood optimization failed to converge. Check mle_retvals\n",
      "\n",
      " 89%|█████████████████████████████████████████████████████████████████████████▊         | 32/36 [00:18<00:02,  1.48it/s]/home/sumants/miniconda3/envs/watts/lib/python3.7/site-packages/statsmodels/base/model.py:606: ConvergenceWarning:\n",
      "\n",
      "Maximum Likelihood optimization failed to converge. Check mle_retvals\n",
      "\n",
      " 94%|██████████████████████████████████████████████████████████████████████████████▍    | 34/36 [00:20<00:01,  1.21it/s]/home/sumants/miniconda3/envs/watts/lib/python3.7/site-packages/statsmodels/base/model.py:606: ConvergenceWarning:\n",
      "\n",
      "Maximum Likelihood optimization failed to converge. Check mle_retvals\n",
      "\n",
      "100%|███████████████████████████████████████████████████████████████████████████████████| 36/36 [00:22<00:00,  1.62it/s]\n"
     ]
    },
    {
     "name": "stdout",
     "output_type": "stream",
     "text": [
      "DONE\n"
     ]
    },
    {
     "name": "stderr",
     "output_type": "stream",
     "text": [
      "  3%|██▎                                                                                 | 1/36 [00:00<00:10,  3.47it/s]"
     ]
    },
    {
     "name": "stdout",
     "output_type": "stream",
     "text": [
      "ARIMA RMSE = 4.904007329165935\n"
     ]
    },
    {
     "name": "stderr",
     "output_type": "stream",
     "text": [
      "\r",
      "  6%|████▋                                                                               | 2/36 [00:00<00:14,  2.28it/s]"
     ]
    },
    {
     "name": "stdout",
     "output_type": "stream",
     "text": [
      "ARIMA RMSE = 4.890337004139657\n"
     ]
    },
    {
     "name": "stderr",
     "output_type": "stream",
     "text": [
      "/home/sumants/miniconda3/envs/watts/lib/python3.7/site-packages/statsmodels/base/model.py:606: ConvergenceWarning:\n",
      "\n",
      "Maximum Likelihood optimization failed to converge. Check mle_retvals\n",
      "\n",
      "\r",
      "  8%|███████                                                                             | 3/36 [00:01<00:16,  2.00it/s]"
     ]
    },
    {
     "name": "stdout",
     "output_type": "stream",
     "text": [
      "Invalid dimensions for design matrix: requires 7 columns, got 6\n"
     ]
    },
    {
     "name": "stderr",
     "output_type": "stream",
     "text": [
      "/home/sumants/miniconda3/envs/watts/lib/python3.7/site-packages/statsmodels/base/model.py:606: ConvergenceWarning:\n",
      "\n",
      "Maximum Likelihood optimization failed to converge. Check mle_retvals\n",
      "\n",
      "\r",
      " 14%|███████████▋                                                                        | 5/36 [00:01<00:11,  2.74it/s]"
     ]
    },
    {
     "name": "stdout",
     "output_type": "stream",
     "text": [
      "ARIMA RMSE = 1.2798322160794686\n"
     ]
    },
    {
     "name": "stderr",
     "output_type": "stream",
     "text": [
      "\r",
      " 17%|██████████████                                                                      | 6/36 [00:02<00:11,  2.59it/s]"
     ]
    },
    {
     "name": "stdout",
     "output_type": "stream",
     "text": [
      "ARIMA RMSE = 1.0520517740007513\n",
      "Invalid dimensions for design matrix: requires 8 columns, got 6\n"
     ]
    },
    {
     "name": "stderr",
     "output_type": "stream",
     "text": [
      " 22%|██████████████████▋                                                                 | 8/36 [00:02<00:08,  3.18it/s]/home/sumants/miniconda3/envs/watts/lib/python3.7/site-packages/statsmodels/tsa/statespace/sarimax.py:978: UserWarning:\n",
      "\n",
      "Non-invertible starting MA parameters found. Using zeros as starting parameters.\n",
      "\n",
      "/home/sumants/miniconda3/envs/watts/lib/python3.7/site-packages/statsmodels/base/model.py:606: ConvergenceWarning:\n",
      "\n",
      "Maximum Likelihood optimization failed to converge. Check mle_retvals\n",
      "\n",
      " 25%|█████████████████████                                                               | 9/36 [00:03<00:10,  2.51it/s]/home/sumants/miniconda3/envs/watts/lib/python3.7/site-packages/statsmodels/base/model.py:606: ConvergenceWarning:\n",
      "\n",
      "Maximum Likelihood optimization failed to converge. Check mle_retvals\n",
      "\n",
      " 28%|███████████████████████                                                            | 10/36 [00:03<00:10,  2.44it/s]/home/sumants/miniconda3/envs/watts/lib/python3.7/site-packages/statsmodels/tsa/statespace/sarimax.py:966: UserWarning:\n",
      "\n",
      "Non-stationary starting autoregressive parameters found. Using zeros as starting parameters.\n",
      "\n",
      "/home/sumants/miniconda3/envs/watts/lib/python3.7/site-packages/statsmodels/base/model.py:606: ConvergenceWarning:\n",
      "\n",
      "Maximum Likelihood optimization failed to converge. Check mle_retvals\n",
      "\n",
      " 33%|███████████████████████████▋                                                       | 12/36 [00:04<00:10,  2.23it/s]"
     ]
    },
    {
     "name": "stdout",
     "output_type": "stream",
     "text": [
      "ARIMA RMSE = 0.6003606479597758\n"
     ]
    },
    {
     "name": "stderr",
     "output_type": "stream",
     "text": [
      " 36%|█████████████████████████████▉                                                     | 13/36 [00:05<00:10,  2.13it/s]/home/sumants/miniconda3/envs/watts/lib/python3.7/site-packages/statsmodels/base/model.py:606: ConvergenceWarning:\n",
      "\n",
      "Maximum Likelihood optimization failed to converge. Check mle_retvals\n",
      "\n",
      " 39%|████████████████████████████████▎                                                  | 14/36 [00:05<00:10,  2.05it/s]/home/sumants/miniconda3/envs/watts/lib/python3.7/site-packages/statsmodels/base/model.py:606: ConvergenceWarning:\n",
      "\n",
      "Maximum Likelihood optimization failed to converge. Check mle_retvals\n",
      "\n",
      " 44%|████████████████████████████████████▉                                              | 16/36 [00:06<00:09,  2.03it/s]/home/sumants/miniconda3/envs/watts/lib/python3.7/site-packages/statsmodels/base/model.py:606: ConvergenceWarning:\n",
      "\n",
      "Maximum Likelihood optimization failed to converge. Check mle_retvals\n",
      "\n",
      " 47%|███████████████████████████████████████▏                                           | 17/36 [00:07<00:10,  1.81it/s]/home/sumants/miniconda3/envs/watts/lib/python3.7/site-packages/statsmodels/tsa/statespace/sarimax.py:978: UserWarning:\n",
      "\n",
      "Non-invertible starting MA parameters found. Using zeros as starting parameters.\n",
      "\n",
      "/home/sumants/miniconda3/envs/watts/lib/python3.7/site-packages/statsmodels/base/model.py:606: ConvergenceWarning:\n",
      "\n",
      "Maximum Likelihood optimization failed to converge. Check mle_retvals\n",
      "\n",
      " 50%|█████████████████████████████████████████▌                                         | 18/36 [00:08<00:10,  1.73it/s]/home/sumants/miniconda3/envs/watts/lib/python3.7/site-packages/statsmodels/base/model.py:606: ConvergenceWarning:\n",
      "\n",
      "Maximum Likelihood optimization failed to converge. Check mle_retvals\n",
      "\n",
      " 53%|███████████████████████████████████████████▊                                       | 19/36 [00:08<00:09,  1.72it/s]/home/sumants/miniconda3/envs/watts/lib/python3.7/site-packages/statsmodels/tsa/statespace/sarimax.py:966: UserWarning:\n",
      "\n",
      "Non-stationary starting autoregressive parameters found. Using zeros as starting parameters.\n",
      "\n",
      "/home/sumants/miniconda3/envs/watts/lib/python3.7/site-packages/statsmodels/tsa/statespace/sarimax.py:978: UserWarning:\n",
      "\n",
      "Non-invertible starting MA parameters found. Using zeros as starting parameters.\n",
      "\n",
      " 56%|██████████████████████████████████████████████                                     | 20/36 [00:09<00:09,  1.74it/s]/home/sumants/miniconda3/envs/watts/lib/python3.7/site-packages/statsmodels/tsa/statespace/sarimax.py:966: UserWarning:\n",
      "\n",
      "Non-stationary starting autoregressive parameters found. Using zeros as starting parameters.\n",
      "\n",
      "/home/sumants/miniconda3/envs/watts/lib/python3.7/site-packages/statsmodels/base/model.py:606: ConvergenceWarning:\n",
      "\n",
      "Maximum Likelihood optimization failed to converge. Check mle_retvals\n",
      "\n",
      " 58%|████████████████████████████████████████████████▍                                  | 21/36 [00:10<00:08,  1.68it/s]/home/sumants/miniconda3/envs/watts/lib/python3.7/site-packages/statsmodels/base/model.py:606: ConvergenceWarning:\n",
      "\n",
      "Maximum Likelihood optimization failed to converge. Check mle_retvals\n",
      "\n",
      " 61%|██████████████████████████████████████████████████▋                                | 22/36 [00:10<00:07,  1.76it/s]/home/sumants/miniconda3/envs/watts/lib/python3.7/site-packages/statsmodels/base/model.py:606: ConvergenceWarning:\n",
      "\n",
      "Maximum Likelihood optimization failed to converge. Check mle_retvals\n",
      "\n",
      " 64%|█████████████████████████████████████████████████████                              | 23/36 [00:11<00:07,  1.70it/s]/home/sumants/miniconda3/envs/watts/lib/python3.7/site-packages/statsmodels/base/model.py:606: ConvergenceWarning:\n",
      "\n",
      "Maximum Likelihood optimization failed to converge. Check mle_retvals\n",
      "\n",
      " 67%|███████████████████████████████████████████████████████▎                           | 24/36 [00:11<00:07,  1.59it/s]/home/sumants/miniconda3/envs/watts/lib/python3.7/site-packages/statsmodels/base/model.py:606: ConvergenceWarning:\n",
      "\n",
      "Maximum Likelihood optimization failed to converge. Check mle_retvals\n",
      "\n",
      " 69%|█████████████████████████████████████████████████████████▋                         | 25/36 [00:12<00:06,  1.69it/s]/home/sumants/miniconda3/envs/watts/lib/python3.7/site-packages/statsmodels/base/model.py:606: ConvergenceWarning:\n",
      "\n",
      "Maximum Likelihood optimization failed to converge. Check mle_retvals\n",
      "\n",
      " 72%|███████████████████████████████████████████████████████████▉                       | 26/36 [00:13<00:06,  1.65it/s]/home/sumants/miniconda3/envs/watts/lib/python3.7/site-packages/statsmodels/base/model.py:606: ConvergenceWarning:\n",
      "\n",
      "Maximum Likelihood optimization failed to converge. Check mle_retvals\n",
      "\n",
      " 75%|██████████████████████████████████████████████████████████████▎                    | 27/36 [00:13<00:06,  1.48it/s]/home/sumants/miniconda3/envs/watts/lib/python3.7/site-packages/statsmodels/tsa/statespace/sarimax.py:966: UserWarning:\n",
      "\n",
      "Non-stationary starting autoregressive parameters found. Using zeros as starting parameters.\n",
      "\n",
      "/home/sumants/miniconda3/envs/watts/lib/python3.7/site-packages/statsmodels/base/model.py:606: ConvergenceWarning:\n",
      "\n",
      "Maximum Likelihood optimization failed to converge. Check mle_retvals\n",
      "\n",
      " 78%|████████████████████████████████████████████████████████████████▌                  | 28/36 [00:14<00:05,  1.49it/s]/home/sumants/miniconda3/envs/watts/lib/python3.7/site-packages/statsmodels/tsa/statespace/sarimax.py:966: UserWarning:\n",
      "\n",
      "Non-stationary starting autoregressive parameters found. Using zeros as starting parameters.\n",
      "\n",
      " 81%|██████████████████████████████████████████████████████████████████▊                | 29/36 [00:15<00:04,  1.45it/s]/home/sumants/miniconda3/envs/watts/lib/python3.7/site-packages/statsmodels/tsa/statespace/sarimax.py:966: UserWarning:\n",
      "\n",
      "Non-stationary starting autoregressive parameters found. Using zeros as starting parameters.\n",
      "\n",
      "/home/sumants/miniconda3/envs/watts/lib/python3.7/site-packages/statsmodels/base/model.py:606: ConvergenceWarning:\n",
      "\n",
      "Maximum Likelihood optimization failed to converge. Check mle_retvals\n",
      "\n",
      " 83%|█████████████████████████████████████████████████████████████████████▏             | 30/36 [00:16<00:04,  1.39it/s]/home/sumants/miniconda3/envs/watts/lib/python3.7/site-packages/statsmodels/base/model.py:606: ConvergenceWarning:\n",
      "\n",
      "Maximum Likelihood optimization failed to converge. Check mle_retvals\n",
      "\n",
      " 86%|███████████████████████████████████████████████████████████████████████▍           | 31/36 [00:16<00:03,  1.47it/s]/home/sumants/miniconda3/envs/watts/lib/python3.7/site-packages/statsmodels/base/model.py:606: ConvergenceWarning:\n",
      "\n",
      "Maximum Likelihood optimization failed to converge. Check mle_retvals\n",
      "\n",
      " 89%|█████████████████████████████████████████████████████████████████████████▊         | 32/36 [00:17<00:02,  1.47it/s]"
     ]
    },
    {
     "name": "stdout",
     "output_type": "stream",
     "text": [
      "ARIMA RMSE = 0.585198618500025\n"
     ]
    },
    {
     "name": "stderr",
     "output_type": "stream",
     "text": [
      "/home/sumants/miniconda3/envs/watts/lib/python3.7/site-packages/statsmodels/base/model.py:606: ConvergenceWarning:\n",
      "\n",
      "Maximum Likelihood optimization failed to converge. Check mle_retvals\n",
      "\n",
      " 94%|██████████████████████████████████████████████████████████████████████████████▍    | 34/36 [00:19<00:01,  1.26it/s]/home/sumants/miniconda3/envs/watts/lib/python3.7/site-packages/statsmodels/base/model.py:606: ConvergenceWarning:\n",
      "\n",
      "Maximum Likelihood optimization failed to converge. Check mle_retvals\n",
      "\n",
      " 97%|████████████████████████████████████████████████████████████████████████████████▋  | 35/36 [00:20<00:00,  1.17it/s]/home/sumants/miniconda3/envs/watts/lib/python3.7/site-packages/statsmodels/tsa/statespace/sarimax.py:966: UserWarning:\n",
      "\n",
      "Non-stationary starting autoregressive parameters found. Using zeros as starting parameters.\n",
      "\n",
      "/home/sumants/miniconda3/envs/watts/lib/python3.7/site-packages/statsmodels/tsa/statespace/sarimax.py:978: UserWarning:\n",
      "\n",
      "Non-invertible starting MA parameters found. Using zeros as starting parameters.\n",
      "\n",
      "100%|███████████████████████████████████████████████████████████████████████████████████| 36/36 [00:21<00:00,  1.70it/s]\n"
     ]
    },
    {
     "name": "stdout",
     "output_type": "stream",
     "text": [
      "DONE\n"
     ]
    },
    {
     "name": "stderr",
     "output_type": "stream",
     "text": [
      "  3%|██▎                                                                                 | 1/36 [00:00<00:07,  4.55it/s]"
     ]
    },
    {
     "name": "stdout",
     "output_type": "stream",
     "text": [
      "ARIMA RMSE = 4.010271015859658\n"
     ]
    },
    {
     "name": "stderr",
     "output_type": "stream",
     "text": [
      "\r",
      "  6%|████▋                                                                               | 2/36 [00:00<00:09,  3.60it/s]"
     ]
    },
    {
     "name": "stdout",
     "output_type": "stream",
     "text": [
      "ARIMA RMSE = 3.758255052387073\n"
     ]
    },
    {
     "name": "stderr",
     "output_type": "stream",
     "text": [
      "\r",
      "  8%|███████                                                                             | 3/36 [00:01<00:14,  2.27it/s]"
     ]
    },
    {
     "name": "stdout",
     "output_type": "stream",
     "text": [
      "Invalid dimensions for design matrix: requires 7 columns, got 6\n"
     ]
    },
    {
     "name": "stderr",
     "output_type": "stream",
     "text": [
      "\r",
      " 14%|███████████▋                                                                        | 5/36 [00:01<00:09,  3.33it/s]"
     ]
    },
    {
     "name": "stdout",
     "output_type": "stream",
     "text": [
      "ARIMA RMSE = 1.9812068188945628\n"
     ]
    },
    {
     "name": "stderr",
     "output_type": "stream",
     "text": [
      "/home/sumants/miniconda3/envs/watts/lib/python3.7/site-packages/statsmodels/base/model.py:606: ConvergenceWarning:\n",
      "\n",
      "Maximum Likelihood optimization failed to converge. Check mle_retvals\n",
      "\n",
      " 17%|██████████████                                                                      | 6/36 [00:02<00:11,  2.56it/s]/home/sumants/miniconda3/envs/watts/lib/python3.7/site-packages/statsmodels/tsa/statespace/sarimax.py:978: UserWarning:\n",
      "\n",
      "Non-invertible starting MA parameters found. Using zeros as starting parameters.\n",
      "\n"
     ]
    },
    {
     "name": "stdout",
     "output_type": "stream",
     "text": [
      "Invalid dimensions for design matrix: requires 8 columns, got 6\n"
     ]
    },
    {
     "name": "stderr",
     "output_type": "stream",
     "text": [
      "/home/sumants/miniconda3/envs/watts/lib/python3.7/site-packages/statsmodels/base/model.py:606: ConvergenceWarning:\n",
      "\n",
      "Maximum Likelihood optimization failed to converge. Check mle_retvals\n",
      "\n",
      " 25%|█████████████████████                                                               | 9/36 [00:03<00:09,  2.80it/s]/home/sumants/miniconda3/envs/watts/lib/python3.7/site-packages/statsmodels/base/model.py:606: ConvergenceWarning:\n",
      "\n",
      "Maximum Likelihood optimization failed to converge. Check mle_retvals\n",
      "\n",
      " 28%|███████████████████████                                                            | 10/36 [00:03<00:10,  2.50it/s]/home/sumants/miniconda3/envs/watts/lib/python3.7/site-packages/statsmodels/tsa/statespace/sarimax.py:966: UserWarning:\n",
      "\n",
      "Non-stationary starting autoregressive parameters found. Using zeros as starting parameters.\n",
      "\n",
      "/home/sumants/miniconda3/envs/watts/lib/python3.7/site-packages/statsmodels/base/model.py:606: ConvergenceWarning:\n",
      "\n",
      "Maximum Likelihood optimization failed to converge. Check mle_retvals\n",
      "\n",
      " 31%|█████████████████████████▎                                                         | 11/36 [00:03<00:09,  2.70it/s]/home/sumants/miniconda3/envs/watts/lib/python3.7/site-packages/statsmodels/base/model.py:606: ConvergenceWarning:\n",
      "\n",
      "Maximum Likelihood optimization failed to converge. Check mle_retvals\n",
      "\n",
      " 33%|███████████████████████████▋                                                       | 12/36 [00:04<00:10,  2.29it/s]/home/sumants/miniconda3/envs/watts/lib/python3.7/site-packages/statsmodels/base/model.py:606: ConvergenceWarning:\n",
      "\n",
      "Maximum Likelihood optimization failed to converge. Check mle_retvals\n",
      "\n",
      " 36%|█████████████████████████████▉                                                     | 13/36 [00:04<00:09,  2.45it/s]/home/sumants/miniconda3/envs/watts/lib/python3.7/site-packages/statsmodels/base/model.py:606: ConvergenceWarning:\n",
      "\n",
      "Maximum Likelihood optimization failed to converge. Check mle_retvals\n",
      "\n",
      " 39%|████████████████████████████████▎                                                  | 14/36 [00:05<00:09,  2.26it/s]/home/sumants/miniconda3/envs/watts/lib/python3.7/site-packages/statsmodels/base/model.py:606: ConvergenceWarning:\n",
      "\n",
      "Maximum Likelihood optimization failed to converge. Check mle_retvals\n",
      "\n",
      " 47%|███████████████████████████████████████▏                                           | 17/36 [00:07<00:11,  1.63it/s]/home/sumants/miniconda3/envs/watts/lib/python3.7/site-packages/statsmodels/tsa/statespace/sarimax.py:978: UserWarning:\n",
      "\n",
      "Non-invertible starting MA parameters found. Using zeros as starting parameters.\n",
      "\n",
      " 50%|█████████████████████████████████████████▌                                         | 18/36 [00:07<00:10,  1.66it/s]/home/sumants/miniconda3/envs/watts/lib/python3.7/site-packages/statsmodels/tsa/statespace/sarimax.py:966: UserWarning:\n",
      "\n",
      "Non-stationary starting autoregressive parameters found. Using zeros as starting parameters.\n",
      "\n",
      " 53%|███████████████████████████████████████████▊                                       | 19/36 [00:08<00:09,  1.85it/s]/home/sumants/miniconda3/envs/watts/lib/python3.7/site-packages/statsmodels/tsa/statespace/sarimax.py:966: UserWarning:\n",
      "\n",
      "Non-stationary starting autoregressive parameters found. Using zeros as starting parameters.\n",
      "\n",
      " 56%|██████████████████████████████████████████████                                     | 20/36 [00:08<00:06,  2.32it/s]/home/sumants/miniconda3/envs/watts/lib/python3.7/site-packages/statsmodels/tsa/statespace/sarimax.py:966: UserWarning:\n",
      "\n",
      "Non-stationary starting autoregressive parameters found. Using zeros as starting parameters.\n",
      "\n",
      " 58%|████████████████████████████████████████████████▍                                  | 21/36 [00:08<00:06,  2.24it/s]/home/sumants/miniconda3/envs/watts/lib/python3.7/site-packages/statsmodels/base/model.py:606: ConvergenceWarning:\n",
      "\n",
      "Maximum Likelihood optimization failed to converge. Check mle_retvals\n",
      "\n",
      " 61%|██████████████████████████████████████████████████▋                                | 22/36 [00:09<00:06,  2.13it/s]/home/sumants/miniconda3/envs/watts/lib/python3.7/site-packages/statsmodels/tsa/statespace/sarimax.py:966: UserWarning:\n",
      "\n",
      "Non-stationary starting autoregressive parameters found. Using zeros as starting parameters.\n",
      "\n",
      "/home/sumants/miniconda3/envs/watts/lib/python3.7/site-packages/statsmodels/tsa/statespace/sarimax.py:978: UserWarning:\n",
      "\n",
      "Non-invertible starting MA parameters found. Using zeros as starting parameters.\n",
      "\n",
      "/home/sumants/miniconda3/envs/watts/lib/python3.7/site-packages/statsmodels/base/model.py:606: ConvergenceWarning:\n",
      "\n",
      "Maximum Likelihood optimization failed to converge. Check mle_retvals\n",
      "\n",
      " 72%|███████████████████████████████████████████████████████████▉                       | 26/36 [00:11<00:05,  1.87it/s]/home/sumants/miniconda3/envs/watts/lib/python3.7/site-packages/statsmodels/tsa/statespace/sarimax.py:978: UserWarning:\n",
      "\n",
      "Non-invertible starting MA parameters found. Using zeros as starting parameters.\n",
      "\n",
      " 75%|██████████████████████████████████████████████████████████████▎                    | 27/36 [00:12<00:04,  1.80it/s]/home/sumants/miniconda3/envs/watts/lib/python3.7/site-packages/statsmodels/tsa/statespace/sarimax.py:966: UserWarning:\n",
      "\n",
      "Non-stationary starting autoregressive parameters found. Using zeros as starting parameters.\n",
      "\n",
      " 78%|████████████████████████████████████████████████████████████████▌                  | 28/36 [00:12<00:03,  2.24it/s]/home/sumants/miniconda3/envs/watts/lib/python3.7/site-packages/statsmodels/tsa/statespace/sarimax.py:966: UserWarning:\n",
      "\n",
      "Non-stationary starting autoregressive parameters found. Using zeros as starting parameters.\n",
      "\n",
      " 81%|██████████████████████████████████████████████████████████████████▊                | 29/36 [00:13<00:02,  2.39it/s]/home/sumants/miniconda3/envs/watts/lib/python3.7/site-packages/statsmodels/tsa/statespace/sarimax.py:966: UserWarning:\n",
      "\n",
      "Non-stationary starting autoregressive parameters found. Using zeros as starting parameters.\n",
      "\n",
      "/home/sumants/miniconda3/envs/watts/lib/python3.7/site-packages/statsmodels/tsa/statespace/sarimax.py:978: UserWarning:\n",
      "\n",
      "Non-invertible starting MA parameters found. Using zeros as starting parameters.\n",
      "\n",
      " 83%|█████████████████████████████████████████████████████████████████████▏             | 30/36 [00:13<00:02,  2.75it/s]/home/sumants/miniconda3/envs/watts/lib/python3.7/site-packages/statsmodels/base/model.py:606: ConvergenceWarning:\n",
      "\n",
      "Maximum Likelihood optimization failed to converge. Check mle_retvals\n",
      "\n",
      " 86%|███████████████████████████████████████████████████████████████████████▍           | 31/36 [00:14<00:02,  2.13it/s]/home/sumants/miniconda3/envs/watts/lib/python3.7/site-packages/statsmodels/base/model.py:606: ConvergenceWarning:\n",
      "\n",
      "Maximum Likelihood optimization failed to converge. Check mle_retvals\n",
      "\n",
      " 89%|█████████████████████████████████████████████████████████████████████████▊         | 32/36 [00:14<00:02,  1.85it/s]/home/sumants/miniconda3/envs/watts/lib/python3.7/site-packages/statsmodels/base/model.py:606: ConvergenceWarning:\n",
      "\n",
      "Maximum Likelihood optimization failed to converge. Check mle_retvals\n",
      "\n",
      " 94%|██████████████████████████████████████████████████████████████████████████████▍    | 34/36 [00:16<00:01,  1.70it/s]/home/sumants/miniconda3/envs/watts/lib/python3.7/site-packages/statsmodels/base/model.py:606: ConvergenceWarning:\n",
      "\n",
      "Maximum Likelihood optimization failed to converge. Check mle_retvals\n",
      "\n",
      " 97%|████████████████████████████████████████████████████████████████████████████████▋  | 35/36 [00:16<00:00,  1.68it/s]/home/sumants/miniconda3/envs/watts/lib/python3.7/site-packages/statsmodels/tsa/statespace/sarimax.py:978: UserWarning:\n",
      "\n",
      "Non-invertible starting MA parameters found. Using zeros as starting parameters.\n",
      "\n",
      "100%|███████████████████████████████████████████████████████████████████████████████████| 36/36 [00:17<00:00,  2.06it/s]\n"
     ]
    },
    {
     "name": "stdout",
     "output_type": "stream",
     "text": [
      "DONE\n"
     ]
    },
    {
     "name": "stderr",
     "output_type": "stream",
     "text": [
      "  3%|██▎                                                                                 | 1/36 [00:00<00:03,  9.92it/s]/home/sumants/miniconda3/envs/watts/lib/python3.7/site-packages/statsmodels/tsa/statespace/sarimax.py:978: UserWarning:\n",
      "\n",
      "Non-invertible starting MA parameters found. Using zeros as starting parameters.\n",
      "\n"
     ]
    },
    {
     "name": "stdout",
     "output_type": "stream",
     "text": [
      "ARIMA RMSE = 16.056644528602405\n"
     ]
    },
    {
     "name": "stderr",
     "output_type": "stream",
     "text": [
      "\r",
      "  6%|████▋                                                                               | 2/36 [00:00<00:07,  4.45it/s]"
     ]
    },
    {
     "name": "stdout",
     "output_type": "stream",
     "text": [
      "ARIMA RMSE = 16.016080812482375\n"
     ]
    },
    {
     "name": "stderr",
     "output_type": "stream",
     "text": [
      "/home/sumants/miniconda3/envs/watts/lib/python3.7/site-packages/statsmodels/tsa/statespace/sarimax.py:978: UserWarning:\n",
      "\n",
      "Non-invertible starting MA parameters found. Using zeros as starting parameters.\n",
      "\n",
      "  8%|███████                                                                             | 3/36 [00:00<00:10,  3.13it/s]"
     ]
    },
    {
     "name": "stdout",
     "output_type": "stream",
     "text": [
      "Invalid dimensions for design matrix: requires 6 columns, got 5\n"
     ]
    },
    {
     "name": "stderr",
     "output_type": "stream",
     "text": [
      "\r",
      " 14%|███████████▋                                                                        | 5/36 [00:01<00:08,  3.63it/s]"
     ]
    },
    {
     "name": "stdout",
     "output_type": "stream",
     "text": [
      "ARIMA RMSE = 0.6108186120377728\n"
     ]
    },
    {
     "name": "stderr",
     "output_type": "stream",
     "text": [
      " 17%|██████████████                                                                      | 6/36 [00:02<00:13,  2.19it/s]/home/sumants/miniconda3/envs/watts/lib/python3.7/site-packages/statsmodels/tsa/statespace/sarimax.py:978: UserWarning:\n",
      "\n",
      "Non-invertible starting MA parameters found. Using zeros as starting parameters.\n",
      "\n"
     ]
    },
    {
     "name": "stdout",
     "output_type": "stream",
     "text": [
      "Invalid dimensions for design matrix: requires 7 columns, got 5\n"
     ]
    },
    {
     "name": "stderr",
     "output_type": "stream",
     "text": [
      "/home/sumants/miniconda3/envs/watts/lib/python3.7/site-packages/statsmodels/base/model.py:606: ConvergenceWarning:\n",
      "\n",
      "Maximum Likelihood optimization failed to converge. Check mle_retvals\n",
      "\n",
      " 22%|██████████████████▋                                                                 | 8/36 [00:02<00:10,  2.77it/s]/home/sumants/miniconda3/envs/watts/lib/python3.7/site-packages/statsmodels/tsa/statespace/sarimax.py:978: UserWarning:\n",
      "\n",
      "Non-invertible starting MA parameters found. Using zeros as starting parameters.\n",
      "\n"
     ]
    },
    {
     "name": "stdout",
     "output_type": "stream",
     "text": [
      "ARIMA RMSE = 0.47570918103877796\n"
     ]
    },
    {
     "name": "stderr",
     "output_type": "stream",
     "text": [
      " 28%|███████████████████████                                                            | 10/36 [00:03<00:10,  2.38it/s]"
     ]
    },
    {
     "name": "stdout",
     "output_type": "stream",
     "text": [
      "ARIMA RMSE = 0.42915757217720096\n"
     ]
    },
    {
     "name": "stderr",
     "output_type": "stream",
     "text": [
      "/home/sumants/miniconda3/envs/watts/lib/python3.7/site-packages/statsmodels/base/model.py:606: ConvergenceWarning:\n",
      "\n",
      "Maximum Likelihood optimization failed to converge. Check mle_retvals\n",
      "\n",
      " 31%|█████████████████████████▎                                                         | 11/36 [00:04<00:13,  1.79it/s]/home/sumants/miniconda3/envs/watts/lib/python3.7/site-packages/statsmodels/tsa/statespace/sarimax.py:966: UserWarning:\n",
      "\n",
      "Non-stationary starting autoregressive parameters found. Using zeros as starting parameters.\n",
      "\n",
      " 36%|█████████████████████████████▉                                                     | 13/36 [00:05<00:09,  2.33it/s]/home/sumants/miniconda3/envs/watts/lib/python3.7/site-packages/statsmodels/base/model.py:606: ConvergenceWarning:\n",
      "\n",
      "Maximum Likelihood optimization failed to converge. Check mle_retvals\n",
      "\n",
      " 39%|████████████████████████████████▎                                                  | 14/36 [00:05<00:10,  2.16it/s]/home/sumants/miniconda3/envs/watts/lib/python3.7/site-packages/statsmodels/base/model.py:606: ConvergenceWarning:\n",
      "\n",
      "Maximum Likelihood optimization failed to converge. Check mle_retvals\n",
      "\n",
      " 42%|██████████████████████████████████▌                                                | 15/36 [00:06<00:10,  1.95it/s]/home/sumants/miniconda3/envs/watts/lib/python3.7/site-packages/statsmodels/base/model.py:606: ConvergenceWarning:\n",
      "\n",
      "Maximum Likelihood optimization failed to converge. Check mle_retvals\n",
      "\n",
      " 47%|███████████████████████████████████████▏                                           | 17/36 [00:07<00:09,  2.02it/s]"
     ]
    },
    {
     "name": "stdout",
     "output_type": "stream",
     "text": [
      "ARIMA RMSE = 0.36700898805176674\n"
     ]
    },
    {
     "name": "stderr",
     "output_type": "stream",
     "text": [
      "/home/sumants/miniconda3/envs/watts/lib/python3.7/site-packages/statsmodels/tsa/statespace/sarimax.py:978: UserWarning:\n",
      "\n",
      "Non-invertible starting MA parameters found. Using zeros as starting parameters.\n",
      "\n",
      "/home/sumants/miniconda3/envs/watts/lib/python3.7/site-packages/statsmodels/base/model.py:606: ConvergenceWarning:\n",
      "\n",
      "Maximum Likelihood optimization failed to converge. Check mle_retvals\n",
      "\n",
      " 50%|█████████████████████████████████████████▌                                         | 18/36 [00:08<00:10,  1.73it/s]/home/sumants/miniconda3/envs/watts/lib/python3.7/site-packages/statsmodels/base/model.py:606: ConvergenceWarning:\n",
      "\n",
      "Maximum Likelihood optimization failed to converge. Check mle_retvals\n",
      "\n",
      " 53%|███████████████████████████████████████████▊                                       | 19/36 [00:08<00:09,  1.86it/s]/home/sumants/miniconda3/envs/watts/lib/python3.7/site-packages/statsmodels/base/model.py:606: ConvergenceWarning:\n",
      "\n",
      "Maximum Likelihood optimization failed to converge. Check mle_retvals\n",
      "\n",
      " 56%|██████████████████████████████████████████████                                     | 20/36 [00:09<00:08,  1.83it/s]/home/sumants/miniconda3/envs/watts/lib/python3.7/site-packages/statsmodels/tsa/statespace/sarimax.py:966: UserWarning:\n",
      "\n",
      "Non-stationary starting autoregressive parameters found. Using zeros as starting parameters.\n",
      "\n",
      "/home/sumants/miniconda3/envs/watts/lib/python3.7/site-packages/statsmodels/tsa/statespace/sarimax.py:978: UserWarning:\n",
      "\n",
      "Non-invertible starting MA parameters found. Using zeros as starting parameters.\n",
      "\n",
      " 61%|██████████████████████████████████████████████████▋                                | 22/36 [00:09<00:05,  2.56it/s]/home/sumants/miniconda3/envs/watts/lib/python3.7/site-packages/statsmodels/base/model.py:606: ConvergenceWarning:\n",
      "\n",
      "Maximum Likelihood optimization failed to converge. Check mle_retvals\n",
      "\n",
      " 64%|█████████████████████████████████████████████████████                              | 23/36 [00:10<00:06,  2.04it/s]/home/sumants/miniconda3/envs/watts/lib/python3.7/site-packages/statsmodels/base/model.py:606: ConvergenceWarning:\n",
      "\n",
      "Maximum Likelihood optimization failed to converge. Check mle_retvals\n",
      "\n",
      " 67%|███████████████████████████████████████████████████████▎                           | 24/36 [00:11<00:08,  1.46it/s]/home/sumants/miniconda3/envs/watts/lib/python3.7/site-packages/statsmodels/base/model.py:606: ConvergenceWarning:\n",
      "\n",
      "Maximum Likelihood optimization failed to converge. Check mle_retvals\n",
      "\n",
      " 69%|█████████████████████████████████████████████████████████▋                         | 25/36 [00:12<00:08,  1.30it/s]/home/sumants/miniconda3/envs/watts/lib/python3.7/site-packages/statsmodels/base/model.py:606: ConvergenceWarning:\n",
      "\n",
      "Maximum Likelihood optimization failed to converge. Check mle_retvals\n",
      "\n",
      " 72%|███████████████████████████████████████████████████████████▉                       | 26/36 [00:13<00:08,  1.24it/s]"
     ]
    },
    {
     "name": "stdout",
     "output_type": "stream",
     "text": [
      "ARIMA RMSE = 0.3583480123415916\n"
     ]
    },
    {
     "name": "stderr",
     "output_type": "stream",
     "text": [
      "/home/sumants/miniconda3/envs/watts/lib/python3.7/site-packages/statsmodels/base/model.py:606: ConvergenceWarning:\n",
      "\n",
      "Maximum Likelihood optimization failed to converge. Check mle_retvals\n",
      "\n",
      "\r",
      " 75%|██████████████████████████████████████████████████████████████▎                    | 27/36 [00:14<00:08,  1.08it/s]"
     ]
    },
    {
     "name": "stdout",
     "output_type": "stream",
     "text": [
      "ARIMA RMSE = 0.3547846462272414\n"
     ]
    },
    {
     "name": "stderr",
     "output_type": "stream",
     "text": [
      "/home/sumants/miniconda3/envs/watts/lib/python3.7/site-packages/statsmodels/base/model.py:606: ConvergenceWarning:\n",
      "\n",
      "Maximum Likelihood optimization failed to converge. Check mle_retvals\n",
      "\n",
      " 81%|██████████████████████████████████████████████████████████████████▊                | 29/36 [00:15<00:05,  1.38it/s]/home/sumants/miniconda3/envs/watts/lib/python3.7/site-packages/statsmodels/tsa/statespace/sarimax.py:966: UserWarning:\n",
      "\n",
      "Non-stationary starting autoregressive parameters found. Using zeros as starting parameters.\n",
      "\n",
      "/home/sumants/miniconda3/envs/watts/lib/python3.7/site-packages/statsmodels/tsa/statespace/sarimax.py:978: UserWarning:\n",
      "\n",
      "Non-invertible starting MA parameters found. Using zeros as starting parameters.\n",
      "\n",
      " 83%|█████████████████████████████████████████████████████████████████████▏             | 30/36 [00:15<00:03,  1.77it/s]/home/sumants/miniconda3/envs/watts/lib/python3.7/site-packages/statsmodels/base/model.py:606: ConvergenceWarning:\n",
      "\n",
      "Maximum Likelihood optimization failed to converge. Check mle_retvals\n",
      "\n",
      " 86%|███████████████████████████████████████████████████████████████████████▍           | 31/36 [00:16<00:03,  1.65it/s]/home/sumants/miniconda3/envs/watts/lib/python3.7/site-packages/statsmodels/base/model.py:606: ConvergenceWarning:\n",
      "\n",
      "Maximum Likelihood optimization failed to converge. Check mle_retvals\n",
      "\n",
      " 89%|█████████████████████████████████████████████████████████████████████████▊         | 32/36 [00:17<00:02,  1.51it/s]/home/sumants/miniconda3/envs/watts/lib/python3.7/site-packages/statsmodels/tsa/statespace/sarimax.py:978: UserWarning:\n",
      "\n",
      "Non-invertible starting MA parameters found. Using zeros as starting parameters.\n",
      "\n",
      " 92%|████████████████████████████████████████████████████████████████████████████       | 33/36 [00:17<00:02,  1.45it/s]/home/sumants/miniconda3/envs/watts/lib/python3.7/site-packages/statsmodels/base/model.py:606: ConvergenceWarning:\n",
      "\n",
      "Maximum Likelihood optimization failed to converge. Check mle_retvals\n",
      "\n",
      "100%|███████████████████████████████████████████████████████████████████████████████████| 36/36 [00:20<00:00,  1.74it/s]"
     ]
    },
    {
     "name": "stdout",
     "output_type": "stream",
     "text": [
      "ARIMA RMSE = 0.35466725848349\n",
      "DONE\n"
     ]
    },
    {
     "name": "stderr",
     "output_type": "stream",
     "text": [
      "\n",
      "/home/sumants/miniconda3/envs/watts/lib/python3.7/site-packages/statsmodels/tsa/statespace/sarimax.py:978: UserWarning:\n",
      "\n",
      "Non-invertible starting MA parameters found. Using zeros as starting parameters.\n",
      "\n",
      "/home/sumants/miniconda3/envs/watts/lib/python3.7/site-packages/statsmodels/base/model.py:606: ConvergenceWarning:\n",
      "\n",
      "Maximum Likelihood optimization failed to converge. Check mle_retvals\n",
      "\n"
     ]
    }
   ],
   "source": [
    "results = {\"FRA\": None, \"DEU\": None, \n",
    "           \"CAN\": None, \"ESP\": None, \n",
    "           \"IND\": None}\n",
    "\n",
    "for k in results.keys():\n",
    "    results[k] = ml(k)\n"
   ]
  },
  {
   "cell_type": "code",
   "execution_count": 68,
   "id": "6f0509b9",
   "metadata": {},
   "outputs": [],
   "source": [
    "\n",
    "with open('Temperatue_Time_Series.pickle', 'wb') as fh:\n",
    "   pickle.dump(results, fh)"
   ]
  },
  {
   "cell_type": "code",
   "execution_count": 69,
   "id": "f40f5a7d",
   "metadata": {},
   "outputs": [],
   "source": [
    "pickle_off = open (\"Temperatue_Time_Series.pickle\", \"rb\")\n",
    "results = pickle.load(pickle_off)"
   ]
  },
  {
   "cell_type": "code",
   "execution_count": 71,
   "id": "025edd47",
   "metadata": {},
   "outputs": [
    {
     "name": "stdout",
     "output_type": "stream",
     "text": [
      "P, Q, D (0, 1, 1)\n"
     ]
    },
    {
     "data": {
      "application/vnd.plotly.v1+json": {
       "config": {
        "plotlyServerURL": "https://plot.ly"
       },
       "data": [
        {
         "error_y": {
          "array": [
           0.2020833333333333,
           0.2366666666666667,
           0.21575,
           0.2134166666666666,
           0.23,
           0.2394166666666667,
           0.2161666666666666,
           0.1983333333333333,
           0.2046666666666666,
           0.2469166666666666,
           0.2384166666666667,
           0.2031666666666666,
           0.259,
           0.2219166666666666,
           0.228,
           0.2109166666666666,
           0.2025833333333333,
           0.2368333333333333,
           0.1925,
           0.1906666666666666,
           0.2278333333333333,
           0.2181666666666667,
           0.2086666666666666,
           0.2710833333333334,
           0.2285,
           0.1983333333333333,
           0.23075,
           0.1970833333333333,
           0.19425,
           0.2046666666666666,
           0.2079999999999999,
           0.211,
           0.2831666666666666,
           0.3085
          ],
          "type": "data"
         },
         "name": "Actual FRA Avg Yearly Temp",
         "type": "scatter",
         "x": [
          1980,
          1981,
          1982,
          1983,
          1984,
          1985,
          1986,
          1987,
          1988,
          1989,
          1990,
          1991,
          1992,
          1993,
          1994,
          1995,
          1996,
          1997,
          1998,
          1999,
          2000,
          2001,
          2002,
          2003,
          2004,
          2005,
          2006,
          2007,
          2008,
          2009,
          2010,
          2011,
          2012,
          2013
         ],
         "y": [
          12.555833333333334,
          13.080666666666668,
          13.679416666666668,
          13.487833333333334,
          12.868250000000002,
          12.628,
          12.871666666666668,
          12.955166666666669,
          13.580916666666669,
          13.930083333333334,
          14.038833333333336,
          13.139499999999998,
          13.462916666666668,
          13.150166666666667,
          14.15616666666667,
          13.899749999999996,
          13.013916666666669,
          14.095999999999998,
          13.720666666666666,
          13.904916666666669,
          13.967333333333334,
          13.6965,
          14.048166666666669,
          14.337916666666668,
          13.66408333333333,
          13.694250000000002,
          14.143833333333331,
          13.896583333333332,
          13.581499999999998,
          13.941666666666665,
          13.115416666666668,
          14.479583333333336,
          13.707166666666666,
          13.584625
         ]
        },
        {
         "name": "Predictions of FRA Avg Yearly Temp",
         "type": "scatter",
         "x": [
          1980,
          1981,
          1982,
          1983,
          1984,
          1985,
          1986,
          1987,
          1988,
          1989,
          1990,
          1991,
          1992,
          1993,
          1994,
          1995,
          1996,
          1997,
          1998,
          1999,
          2000,
          2001,
          2002,
          2003,
          2004,
          2005,
          2006,
          2007,
          2008,
          2009,
          2010,
          2011,
          2012,
          2013
         ],
         "y": [
          12.822381654555155,
          12.792739579719823,
          12.909203089703597,
          12.93847036489868,
          12.969362949446548,
          12.993660607040272,
          12.997156153722546,
          13.041138181367517,
          13.053529917603502,
          13.099760297325265,
          13.064212185486893,
          13.133492459215848,
          13.067886732478222,
          13.071348491237117,
          13.121601494171042,
          13.159773137571475,
          13.189192887777484,
          13.147092867428,
          13.213910782350638,
          13.173381233114215,
          13.174707678697265,
          13.208902335597902,
          13.192104980487963,
          13.216685677132485,
          13.20645864651975,
          13.212208607941397,
          13.194195837392426,
          13.204964110649577,
          13.225832585073764,
          13.220916180783373,
          13.289771476147601,
          13.234441264476398,
          13.303966392076662,
          13.308786889589616
         ]
        }
       ],
       "layout": {
        "template": {
         "data": {
          "bar": [
           {
            "error_x": {
             "color": "#2a3f5f"
            },
            "error_y": {
             "color": "#2a3f5f"
            },
            "marker": {
             "line": {
              "color": "#E5ECF6",
              "width": 0.5
             },
             "pattern": {
              "fillmode": "overlay",
              "size": 10,
              "solidity": 0.2
             }
            },
            "type": "bar"
           }
          ],
          "barpolar": [
           {
            "marker": {
             "line": {
              "color": "#E5ECF6",
              "width": 0.5
             },
             "pattern": {
              "fillmode": "overlay",
              "size": 10,
              "solidity": 0.2
             }
            },
            "type": "barpolar"
           }
          ],
          "carpet": [
           {
            "aaxis": {
             "endlinecolor": "#2a3f5f",
             "gridcolor": "white",
             "linecolor": "white",
             "minorgridcolor": "white",
             "startlinecolor": "#2a3f5f"
            },
            "baxis": {
             "endlinecolor": "#2a3f5f",
             "gridcolor": "white",
             "linecolor": "white",
             "minorgridcolor": "white",
             "startlinecolor": "#2a3f5f"
            },
            "type": "carpet"
           }
          ],
          "choropleth": [
           {
            "colorbar": {
             "outlinewidth": 0,
             "ticks": ""
            },
            "type": "choropleth"
           }
          ],
          "contour": [
           {
            "colorbar": {
             "outlinewidth": 0,
             "ticks": ""
            },
            "colorscale": [
             [
              0,
              "#0d0887"
             ],
             [
              0.1111111111111111,
              "#46039f"
             ],
             [
              0.2222222222222222,
              "#7201a8"
             ],
             [
              0.3333333333333333,
              "#9c179e"
             ],
             [
              0.4444444444444444,
              "#bd3786"
             ],
             [
              0.5555555555555556,
              "#d8576b"
             ],
             [
              0.6666666666666666,
              "#ed7953"
             ],
             [
              0.7777777777777778,
              "#fb9f3a"
             ],
             [
              0.8888888888888888,
              "#fdca26"
             ],
             [
              1,
              "#f0f921"
             ]
            ],
            "type": "contour"
           }
          ],
          "contourcarpet": [
           {
            "colorbar": {
             "outlinewidth": 0,
             "ticks": ""
            },
            "type": "contourcarpet"
           }
          ],
          "heatmap": [
           {
            "colorbar": {
             "outlinewidth": 0,
             "ticks": ""
            },
            "colorscale": [
             [
              0,
              "#0d0887"
             ],
             [
              0.1111111111111111,
              "#46039f"
             ],
             [
              0.2222222222222222,
              "#7201a8"
             ],
             [
              0.3333333333333333,
              "#9c179e"
             ],
             [
              0.4444444444444444,
              "#bd3786"
             ],
             [
              0.5555555555555556,
              "#d8576b"
             ],
             [
              0.6666666666666666,
              "#ed7953"
             ],
             [
              0.7777777777777778,
              "#fb9f3a"
             ],
             [
              0.8888888888888888,
              "#fdca26"
             ],
             [
              1,
              "#f0f921"
             ]
            ],
            "type": "heatmap"
           }
          ],
          "heatmapgl": [
           {
            "colorbar": {
             "outlinewidth": 0,
             "ticks": ""
            },
            "colorscale": [
             [
              0,
              "#0d0887"
             ],
             [
              0.1111111111111111,
              "#46039f"
             ],
             [
              0.2222222222222222,
              "#7201a8"
             ],
             [
              0.3333333333333333,
              "#9c179e"
             ],
             [
              0.4444444444444444,
              "#bd3786"
             ],
             [
              0.5555555555555556,
              "#d8576b"
             ],
             [
              0.6666666666666666,
              "#ed7953"
             ],
             [
              0.7777777777777778,
              "#fb9f3a"
             ],
             [
              0.8888888888888888,
              "#fdca26"
             ],
             [
              1,
              "#f0f921"
             ]
            ],
            "type": "heatmapgl"
           }
          ],
          "histogram": [
           {
            "marker": {
             "pattern": {
              "fillmode": "overlay",
              "size": 10,
              "solidity": 0.2
             }
            },
            "type": "histogram"
           }
          ],
          "histogram2d": [
           {
            "colorbar": {
             "outlinewidth": 0,
             "ticks": ""
            },
            "colorscale": [
             [
              0,
              "#0d0887"
             ],
             [
              0.1111111111111111,
              "#46039f"
             ],
             [
              0.2222222222222222,
              "#7201a8"
             ],
             [
              0.3333333333333333,
              "#9c179e"
             ],
             [
              0.4444444444444444,
              "#bd3786"
             ],
             [
              0.5555555555555556,
              "#d8576b"
             ],
             [
              0.6666666666666666,
              "#ed7953"
             ],
             [
              0.7777777777777778,
              "#fb9f3a"
             ],
             [
              0.8888888888888888,
              "#fdca26"
             ],
             [
              1,
              "#f0f921"
             ]
            ],
            "type": "histogram2d"
           }
          ],
          "histogram2dcontour": [
           {
            "colorbar": {
             "outlinewidth": 0,
             "ticks": ""
            },
            "colorscale": [
             [
              0,
              "#0d0887"
             ],
             [
              0.1111111111111111,
              "#46039f"
             ],
             [
              0.2222222222222222,
              "#7201a8"
             ],
             [
              0.3333333333333333,
              "#9c179e"
             ],
             [
              0.4444444444444444,
              "#bd3786"
             ],
             [
              0.5555555555555556,
              "#d8576b"
             ],
             [
              0.6666666666666666,
              "#ed7953"
             ],
             [
              0.7777777777777778,
              "#fb9f3a"
             ],
             [
              0.8888888888888888,
              "#fdca26"
             ],
             [
              1,
              "#f0f921"
             ]
            ],
            "type": "histogram2dcontour"
           }
          ],
          "mesh3d": [
           {
            "colorbar": {
             "outlinewidth": 0,
             "ticks": ""
            },
            "type": "mesh3d"
           }
          ],
          "parcoords": [
           {
            "line": {
             "colorbar": {
              "outlinewidth": 0,
              "ticks": ""
             }
            },
            "type": "parcoords"
           }
          ],
          "pie": [
           {
            "automargin": true,
            "type": "pie"
           }
          ],
          "scatter": [
           {
            "marker": {
             "colorbar": {
              "outlinewidth": 0,
              "ticks": ""
             }
            },
            "type": "scatter"
           }
          ],
          "scatter3d": [
           {
            "line": {
             "colorbar": {
              "outlinewidth": 0,
              "ticks": ""
             }
            },
            "marker": {
             "colorbar": {
              "outlinewidth": 0,
              "ticks": ""
             }
            },
            "type": "scatter3d"
           }
          ],
          "scattercarpet": [
           {
            "marker": {
             "colorbar": {
              "outlinewidth": 0,
              "ticks": ""
             }
            },
            "type": "scattercarpet"
           }
          ],
          "scattergeo": [
           {
            "marker": {
             "colorbar": {
              "outlinewidth": 0,
              "ticks": ""
             }
            },
            "type": "scattergeo"
           }
          ],
          "scattergl": [
           {
            "marker": {
             "colorbar": {
              "outlinewidth": 0,
              "ticks": ""
             }
            },
            "type": "scattergl"
           }
          ],
          "scattermapbox": [
           {
            "marker": {
             "colorbar": {
              "outlinewidth": 0,
              "ticks": ""
             }
            },
            "type": "scattermapbox"
           }
          ],
          "scatterpolar": [
           {
            "marker": {
             "colorbar": {
              "outlinewidth": 0,
              "ticks": ""
             }
            },
            "type": "scatterpolar"
           }
          ],
          "scatterpolargl": [
           {
            "marker": {
             "colorbar": {
              "outlinewidth": 0,
              "ticks": ""
             }
            },
            "type": "scatterpolargl"
           }
          ],
          "scatterternary": [
           {
            "marker": {
             "colorbar": {
              "outlinewidth": 0,
              "ticks": ""
             }
            },
            "type": "scatterternary"
           }
          ],
          "surface": [
           {
            "colorbar": {
             "outlinewidth": 0,
             "ticks": ""
            },
            "colorscale": [
             [
              0,
              "#0d0887"
             ],
             [
              0.1111111111111111,
              "#46039f"
             ],
             [
              0.2222222222222222,
              "#7201a8"
             ],
             [
              0.3333333333333333,
              "#9c179e"
             ],
             [
              0.4444444444444444,
              "#bd3786"
             ],
             [
              0.5555555555555556,
              "#d8576b"
             ],
             [
              0.6666666666666666,
              "#ed7953"
             ],
             [
              0.7777777777777778,
              "#fb9f3a"
             ],
             [
              0.8888888888888888,
              "#fdca26"
             ],
             [
              1,
              "#f0f921"
             ]
            ],
            "type": "surface"
           }
          ],
          "table": [
           {
            "cells": {
             "fill": {
              "color": "#EBF0F8"
             },
             "line": {
              "color": "white"
             }
            },
            "header": {
             "fill": {
              "color": "#C8D4E3"
             },
             "line": {
              "color": "white"
             }
            },
            "type": "table"
           }
          ]
         },
         "layout": {
          "annotationdefaults": {
           "arrowcolor": "#2a3f5f",
           "arrowhead": 0,
           "arrowwidth": 1
          },
          "autotypenumbers": "strict",
          "coloraxis": {
           "colorbar": {
            "outlinewidth": 0,
            "ticks": ""
           }
          },
          "colorscale": {
           "diverging": [
            [
             0,
             "#8e0152"
            ],
            [
             0.1,
             "#c51b7d"
            ],
            [
             0.2,
             "#de77ae"
            ],
            [
             0.3,
             "#f1b6da"
            ],
            [
             0.4,
             "#fde0ef"
            ],
            [
             0.5,
             "#f7f7f7"
            ],
            [
             0.6,
             "#e6f5d0"
            ],
            [
             0.7,
             "#b8e186"
            ],
            [
             0.8,
             "#7fbc41"
            ],
            [
             0.9,
             "#4d9221"
            ],
            [
             1,
             "#276419"
            ]
           ],
           "sequential": [
            [
             0,
             "#0d0887"
            ],
            [
             0.1111111111111111,
             "#46039f"
            ],
            [
             0.2222222222222222,
             "#7201a8"
            ],
            [
             0.3333333333333333,
             "#9c179e"
            ],
            [
             0.4444444444444444,
             "#bd3786"
            ],
            [
             0.5555555555555556,
             "#d8576b"
            ],
            [
             0.6666666666666666,
             "#ed7953"
            ],
            [
             0.7777777777777778,
             "#fb9f3a"
            ],
            [
             0.8888888888888888,
             "#fdca26"
            ],
            [
             1,
             "#f0f921"
            ]
           ],
           "sequentialminus": [
            [
             0,
             "#0d0887"
            ],
            [
             0.1111111111111111,
             "#46039f"
            ],
            [
             0.2222222222222222,
             "#7201a8"
            ],
            [
             0.3333333333333333,
             "#9c179e"
            ],
            [
             0.4444444444444444,
             "#bd3786"
            ],
            [
             0.5555555555555556,
             "#d8576b"
            ],
            [
             0.6666666666666666,
             "#ed7953"
            ],
            [
             0.7777777777777778,
             "#fb9f3a"
            ],
            [
             0.8888888888888888,
             "#fdca26"
            ],
            [
             1,
             "#f0f921"
            ]
           ]
          },
          "colorway": [
           "#636efa",
           "#EF553B",
           "#00cc96",
           "#ab63fa",
           "#FFA15A",
           "#19d3f3",
           "#FF6692",
           "#B6E880",
           "#FF97FF",
           "#FECB52"
          ],
          "font": {
           "color": "#2a3f5f"
          },
          "geo": {
           "bgcolor": "white",
           "lakecolor": "white",
           "landcolor": "#E5ECF6",
           "showlakes": true,
           "showland": true,
           "subunitcolor": "white"
          },
          "hoverlabel": {
           "align": "left"
          },
          "hovermode": "closest",
          "mapbox": {
           "style": "light"
          },
          "paper_bgcolor": "white",
          "plot_bgcolor": "#E5ECF6",
          "polar": {
           "angularaxis": {
            "gridcolor": "white",
            "linecolor": "white",
            "ticks": ""
           },
           "bgcolor": "#E5ECF6",
           "radialaxis": {
            "gridcolor": "white",
            "linecolor": "white",
            "ticks": ""
           }
          },
          "scene": {
           "xaxis": {
            "backgroundcolor": "#E5ECF6",
            "gridcolor": "white",
            "gridwidth": 2,
            "linecolor": "white",
            "showbackground": true,
            "ticks": "",
            "zerolinecolor": "white"
           },
           "yaxis": {
            "backgroundcolor": "#E5ECF6",
            "gridcolor": "white",
            "gridwidth": 2,
            "linecolor": "white",
            "showbackground": true,
            "ticks": "",
            "zerolinecolor": "white"
           },
           "zaxis": {
            "backgroundcolor": "#E5ECF6",
            "gridcolor": "white",
            "gridwidth": 2,
            "linecolor": "white",
            "showbackground": true,
            "ticks": "",
            "zerolinecolor": "white"
           }
          },
          "shapedefaults": {
           "line": {
            "color": "#2a3f5f"
           }
          },
          "ternary": {
           "aaxis": {
            "gridcolor": "white",
            "linecolor": "white",
            "ticks": ""
           },
           "baxis": {
            "gridcolor": "white",
            "linecolor": "white",
            "ticks": ""
           },
           "bgcolor": "#E5ECF6",
           "caxis": {
            "gridcolor": "white",
            "linecolor": "white",
            "ticks": ""
           }
          },
          "title": {
           "x": 0.05
          },
          "xaxis": {
           "automargin": true,
           "gridcolor": "white",
           "linecolor": "white",
           "ticks": "",
           "title": {
            "standoff": 15
           },
           "zerolinecolor": "white",
           "zerolinewidth": 2
          },
          "yaxis": {
           "automargin": true,
           "gridcolor": "white",
           "linecolor": "white",
           "ticks": "",
           "title": {
            "standoff": 15
           },
           "zerolinecolor": "white",
           "zerolinewidth": 2
          }
         }
        },
        "xaxis": {
         "title": {
          "text": "Year"
         }
        },
        "yaxis": {
         "title": {
          "text": "Temperature"
         }
        }
       }
      },
      "text/html": [
       "<div>                            <div id=\"6d9d7602-51a6-4954-ad76-2def6809a8ab\" class=\"plotly-graph-div\" style=\"height:525px; width:100%;\"></div>            <script type=\"text/javascript\">                require([\"plotly\"], function(Plotly) {                    window.PLOTLYENV=window.PLOTLYENV || {};                                    if (document.getElementById(\"6d9d7602-51a6-4954-ad76-2def6809a8ab\")) {                    Plotly.newPlot(                        \"6d9d7602-51a6-4954-ad76-2def6809a8ab\",                        [{\"error_y\":{\"array\":[0.2020833333333333,0.2366666666666667,0.21575,0.2134166666666666,0.23,0.2394166666666667,0.2161666666666666,0.1983333333333333,0.2046666666666666,0.2469166666666666,0.2384166666666667,0.2031666666666666,0.259,0.2219166666666666,0.228,0.2109166666666666,0.2025833333333333,0.2368333333333333,0.1925,0.1906666666666666,0.2278333333333333,0.2181666666666667,0.2086666666666666,0.2710833333333334,0.2285,0.1983333333333333,0.23075,0.1970833333333333,0.19425,0.2046666666666666,0.2079999999999999,0.211,0.2831666666666666,0.3085],\"type\":\"data\"},\"name\":\"Actual FRA Avg Yearly Temp\",\"x\":[1980,1981,1982,1983,1984,1985,1986,1987,1988,1989,1990,1991,1992,1993,1994,1995,1996,1997,1998,1999,2000,2001,2002,2003,2004,2005,2006,2007,2008,2009,2010,2011,2012,2013],\"y\":[12.555833333333334,13.080666666666668,13.679416666666668,13.487833333333334,12.868250000000002,12.628,12.871666666666668,12.955166666666669,13.580916666666669,13.930083333333334,14.038833333333336,13.139499999999998,13.462916666666668,13.150166666666667,14.15616666666667,13.899749999999996,13.013916666666669,14.095999999999998,13.720666666666666,13.904916666666669,13.967333333333334,13.6965,14.048166666666669,14.337916666666668,13.66408333333333,13.694250000000002,14.143833333333331,13.896583333333332,13.581499999999998,13.941666666666665,13.115416666666668,14.479583333333336,13.707166666666666,13.584625],\"type\":\"scatter\"},{\"name\":\"Predictions of FRA Avg Yearly Temp\",\"x\":[1980,1981,1982,1983,1984,1985,1986,1987,1988,1989,1990,1991,1992,1993,1994,1995,1996,1997,1998,1999,2000,2001,2002,2003,2004,2005,2006,2007,2008,2009,2010,2011,2012,2013],\"y\":[12.822381654555155,12.792739579719823,12.909203089703597,12.93847036489868,12.969362949446548,12.993660607040272,12.997156153722546,13.041138181367517,13.053529917603502,13.099760297325265,13.064212185486893,13.133492459215848,13.067886732478222,13.071348491237117,13.121601494171042,13.159773137571475,13.189192887777484,13.147092867428,13.213910782350638,13.173381233114215,13.174707678697265,13.208902335597902,13.192104980487963,13.216685677132485,13.20645864651975,13.212208607941397,13.194195837392426,13.204964110649577,13.225832585073764,13.220916180783373,13.289771476147601,13.234441264476398,13.303966392076662,13.308786889589616],\"type\":\"scatter\"}],                        {\"xaxis\":{\"title\":{\"text\":\"Year\"}},\"yaxis\":{\"title\":{\"text\":\"Temperature\"}},\"template\":{\"data\":{\"bar\":[{\"error_x\":{\"color\":\"#2a3f5f\"},\"error_y\":{\"color\":\"#2a3f5f\"},\"marker\":{\"line\":{\"color\":\"#E5ECF6\",\"width\":0.5},\"pattern\":{\"fillmode\":\"overlay\",\"size\":10,\"solidity\":0.2}},\"type\":\"bar\"}],\"barpolar\":[{\"marker\":{\"line\":{\"color\":\"#E5ECF6\",\"width\":0.5},\"pattern\":{\"fillmode\":\"overlay\",\"size\":10,\"solidity\":0.2}},\"type\":\"barpolar\"}],\"carpet\":[{\"aaxis\":{\"endlinecolor\":\"#2a3f5f\",\"gridcolor\":\"white\",\"linecolor\":\"white\",\"minorgridcolor\":\"white\",\"startlinecolor\":\"#2a3f5f\"},\"baxis\":{\"endlinecolor\":\"#2a3f5f\",\"gridcolor\":\"white\",\"linecolor\":\"white\",\"minorgridcolor\":\"white\",\"startlinecolor\":\"#2a3f5f\"},\"type\":\"carpet\"}],\"choropleth\":[{\"colorbar\":{\"outlinewidth\":0,\"ticks\":\"\"},\"type\":\"choropleth\"}],\"contour\":[{\"colorbar\":{\"outlinewidth\":0,\"ticks\":\"\"},\"colorscale\":[[0.0,\"#0d0887\"],[0.1111111111111111,\"#46039f\"],[0.2222222222222222,\"#7201a8\"],[0.3333333333333333,\"#9c179e\"],[0.4444444444444444,\"#bd3786\"],[0.5555555555555556,\"#d8576b\"],[0.6666666666666666,\"#ed7953\"],[0.7777777777777778,\"#fb9f3a\"],[0.8888888888888888,\"#fdca26\"],[1.0,\"#f0f921\"]],\"type\":\"contour\"}],\"contourcarpet\":[{\"colorbar\":{\"outlinewidth\":0,\"ticks\":\"\"},\"type\":\"contourcarpet\"}],\"heatmap\":[{\"colorbar\":{\"outlinewidth\":0,\"ticks\":\"\"},\"colorscale\":[[0.0,\"#0d0887\"],[0.1111111111111111,\"#46039f\"],[0.2222222222222222,\"#7201a8\"],[0.3333333333333333,\"#9c179e\"],[0.4444444444444444,\"#bd3786\"],[0.5555555555555556,\"#d8576b\"],[0.6666666666666666,\"#ed7953\"],[0.7777777777777778,\"#fb9f3a\"],[0.8888888888888888,\"#fdca26\"],[1.0,\"#f0f921\"]],\"type\":\"heatmap\"}],\"heatmapgl\":[{\"colorbar\":{\"outlinewidth\":0,\"ticks\":\"\"},\"colorscale\":[[0.0,\"#0d0887\"],[0.1111111111111111,\"#46039f\"],[0.2222222222222222,\"#7201a8\"],[0.3333333333333333,\"#9c179e\"],[0.4444444444444444,\"#bd3786\"],[0.5555555555555556,\"#d8576b\"],[0.6666666666666666,\"#ed7953\"],[0.7777777777777778,\"#fb9f3a\"],[0.8888888888888888,\"#fdca26\"],[1.0,\"#f0f921\"]],\"type\":\"heatmapgl\"}],\"histogram\":[{\"marker\":{\"pattern\":{\"fillmode\":\"overlay\",\"size\":10,\"solidity\":0.2}},\"type\":\"histogram\"}],\"histogram2d\":[{\"colorbar\":{\"outlinewidth\":0,\"ticks\":\"\"},\"colorscale\":[[0.0,\"#0d0887\"],[0.1111111111111111,\"#46039f\"],[0.2222222222222222,\"#7201a8\"],[0.3333333333333333,\"#9c179e\"],[0.4444444444444444,\"#bd3786\"],[0.5555555555555556,\"#d8576b\"],[0.6666666666666666,\"#ed7953\"],[0.7777777777777778,\"#fb9f3a\"],[0.8888888888888888,\"#fdca26\"],[1.0,\"#f0f921\"]],\"type\":\"histogram2d\"}],\"histogram2dcontour\":[{\"colorbar\":{\"outlinewidth\":0,\"ticks\":\"\"},\"colorscale\":[[0.0,\"#0d0887\"],[0.1111111111111111,\"#46039f\"],[0.2222222222222222,\"#7201a8\"],[0.3333333333333333,\"#9c179e\"],[0.4444444444444444,\"#bd3786\"],[0.5555555555555556,\"#d8576b\"],[0.6666666666666666,\"#ed7953\"],[0.7777777777777778,\"#fb9f3a\"],[0.8888888888888888,\"#fdca26\"],[1.0,\"#f0f921\"]],\"type\":\"histogram2dcontour\"}],\"mesh3d\":[{\"colorbar\":{\"outlinewidth\":0,\"ticks\":\"\"},\"type\":\"mesh3d\"}],\"parcoords\":[{\"line\":{\"colorbar\":{\"outlinewidth\":0,\"ticks\":\"\"}},\"type\":\"parcoords\"}],\"pie\":[{\"automargin\":true,\"type\":\"pie\"}],\"scatter\":[{\"marker\":{\"colorbar\":{\"outlinewidth\":0,\"ticks\":\"\"}},\"type\":\"scatter\"}],\"scatter3d\":[{\"line\":{\"colorbar\":{\"outlinewidth\":0,\"ticks\":\"\"}},\"marker\":{\"colorbar\":{\"outlinewidth\":0,\"ticks\":\"\"}},\"type\":\"scatter3d\"}],\"scattercarpet\":[{\"marker\":{\"colorbar\":{\"outlinewidth\":0,\"ticks\":\"\"}},\"type\":\"scattercarpet\"}],\"scattergeo\":[{\"marker\":{\"colorbar\":{\"outlinewidth\":0,\"ticks\":\"\"}},\"type\":\"scattergeo\"}],\"scattergl\":[{\"marker\":{\"colorbar\":{\"outlinewidth\":0,\"ticks\":\"\"}},\"type\":\"scattergl\"}],\"scattermapbox\":[{\"marker\":{\"colorbar\":{\"outlinewidth\":0,\"ticks\":\"\"}},\"type\":\"scattermapbox\"}],\"scatterpolar\":[{\"marker\":{\"colorbar\":{\"outlinewidth\":0,\"ticks\":\"\"}},\"type\":\"scatterpolar\"}],\"scatterpolargl\":[{\"marker\":{\"colorbar\":{\"outlinewidth\":0,\"ticks\":\"\"}},\"type\":\"scatterpolargl\"}],\"scatterternary\":[{\"marker\":{\"colorbar\":{\"outlinewidth\":0,\"ticks\":\"\"}},\"type\":\"scatterternary\"}],\"surface\":[{\"colorbar\":{\"outlinewidth\":0,\"ticks\":\"\"},\"colorscale\":[[0.0,\"#0d0887\"],[0.1111111111111111,\"#46039f\"],[0.2222222222222222,\"#7201a8\"],[0.3333333333333333,\"#9c179e\"],[0.4444444444444444,\"#bd3786\"],[0.5555555555555556,\"#d8576b\"],[0.6666666666666666,\"#ed7953\"],[0.7777777777777778,\"#fb9f3a\"],[0.8888888888888888,\"#fdca26\"],[1.0,\"#f0f921\"]],\"type\":\"surface\"}],\"table\":[{\"cells\":{\"fill\":{\"color\":\"#EBF0F8\"},\"line\":{\"color\":\"white\"}},\"header\":{\"fill\":{\"color\":\"#C8D4E3\"},\"line\":{\"color\":\"white\"}},\"type\":\"table\"}]},\"layout\":{\"annotationdefaults\":{\"arrowcolor\":\"#2a3f5f\",\"arrowhead\":0,\"arrowwidth\":1},\"autotypenumbers\":\"strict\",\"coloraxis\":{\"colorbar\":{\"outlinewidth\":0,\"ticks\":\"\"}},\"colorscale\":{\"diverging\":[[0,\"#8e0152\"],[0.1,\"#c51b7d\"],[0.2,\"#de77ae\"],[0.3,\"#f1b6da\"],[0.4,\"#fde0ef\"],[0.5,\"#f7f7f7\"],[0.6,\"#e6f5d0\"],[0.7,\"#b8e186\"],[0.8,\"#7fbc41\"],[0.9,\"#4d9221\"],[1,\"#276419\"]],\"sequential\":[[0.0,\"#0d0887\"],[0.1111111111111111,\"#46039f\"],[0.2222222222222222,\"#7201a8\"],[0.3333333333333333,\"#9c179e\"],[0.4444444444444444,\"#bd3786\"],[0.5555555555555556,\"#d8576b\"],[0.6666666666666666,\"#ed7953\"],[0.7777777777777778,\"#fb9f3a\"],[0.8888888888888888,\"#fdca26\"],[1.0,\"#f0f921\"]],\"sequentialminus\":[[0.0,\"#0d0887\"],[0.1111111111111111,\"#46039f\"],[0.2222222222222222,\"#7201a8\"],[0.3333333333333333,\"#9c179e\"],[0.4444444444444444,\"#bd3786\"],[0.5555555555555556,\"#d8576b\"],[0.6666666666666666,\"#ed7953\"],[0.7777777777777778,\"#fb9f3a\"],[0.8888888888888888,\"#fdca26\"],[1.0,\"#f0f921\"]]},\"colorway\":[\"#636efa\",\"#EF553B\",\"#00cc96\",\"#ab63fa\",\"#FFA15A\",\"#19d3f3\",\"#FF6692\",\"#B6E880\",\"#FF97FF\",\"#FECB52\"],\"font\":{\"color\":\"#2a3f5f\"},\"geo\":{\"bgcolor\":\"white\",\"lakecolor\":\"white\",\"landcolor\":\"#E5ECF6\",\"showlakes\":true,\"showland\":true,\"subunitcolor\":\"white\"},\"hoverlabel\":{\"align\":\"left\"},\"hovermode\":\"closest\",\"mapbox\":{\"style\":\"light\"},\"paper_bgcolor\":\"white\",\"plot_bgcolor\":\"#E5ECF6\",\"polar\":{\"angularaxis\":{\"gridcolor\":\"white\",\"linecolor\":\"white\",\"ticks\":\"\"},\"bgcolor\":\"#E5ECF6\",\"radialaxis\":{\"gridcolor\":\"white\",\"linecolor\":\"white\",\"ticks\":\"\"}},\"scene\":{\"xaxis\":{\"backgroundcolor\":\"#E5ECF6\",\"gridcolor\":\"white\",\"gridwidth\":2,\"linecolor\":\"white\",\"showbackground\":true,\"ticks\":\"\",\"zerolinecolor\":\"white\"},\"yaxis\":{\"backgroundcolor\":\"#E5ECF6\",\"gridcolor\":\"white\",\"gridwidth\":2,\"linecolor\":\"white\",\"showbackground\":true,\"ticks\":\"\",\"zerolinecolor\":\"white\"},\"zaxis\":{\"backgroundcolor\":\"#E5ECF6\",\"gridcolor\":\"white\",\"gridwidth\":2,\"linecolor\":\"white\",\"showbackground\":true,\"ticks\":\"\",\"zerolinecolor\":\"white\"}},\"shapedefaults\":{\"line\":{\"color\":\"#2a3f5f\"}},\"ternary\":{\"aaxis\":{\"gridcolor\":\"white\",\"linecolor\":\"white\",\"ticks\":\"\"},\"baxis\":{\"gridcolor\":\"white\",\"linecolor\":\"white\",\"ticks\":\"\"},\"bgcolor\":\"#E5ECF6\",\"caxis\":{\"gridcolor\":\"white\",\"linecolor\":\"white\",\"ticks\":\"\"}},\"title\":{\"x\":0.05},\"xaxis\":{\"automargin\":true,\"gridcolor\":\"white\",\"linecolor\":\"white\",\"ticks\":\"\",\"title\":{\"standoff\":15},\"zerolinecolor\":\"white\",\"zerolinewidth\":2},\"yaxis\":{\"automargin\":true,\"gridcolor\":\"white\",\"linecolor\":\"white\",\"ticks\":\"\",\"title\":{\"standoff\":15},\"zerolinecolor\":\"white\",\"zerolinewidth\":2}}}},                        {\"responsive\": true}                    ).then(function(){\n",
       "                            \n",
       "var gd = document.getElementById('6d9d7602-51a6-4954-ad76-2def6809a8ab');\n",
       "var x = new MutationObserver(function (mutations, observer) {{\n",
       "        var display = window.getComputedStyle(gd).display;\n",
       "        if (!display || display === 'none') {{\n",
       "            console.log([gd, 'removed!']);\n",
       "            Plotly.purge(gd);\n",
       "            observer.disconnect();\n",
       "        }}\n",
       "}});\n",
       "\n",
       "// Listen for the removal of the full notebook cells\n",
       "var notebookContainer = gd.closest('#notebook-container');\n",
       "if (notebookContainer) {{\n",
       "    x.observe(notebookContainer, {childList: true});\n",
       "}}\n",
       "\n",
       "// Listen for the clearing of the current output cell\n",
       "var outputEl = gd.closest('.output');\n",
       "if (outputEl) {{\n",
       "    x.observe(outputEl, {childList: true});\n",
       "}}\n",
       "\n",
       "                        })                };                });            </script>        </div>"
      ]
     },
     "metadata": {},
     "output_type": "display_data"
    },
    {
     "name": "stdout",
     "output_type": "stream",
     "text": [
      "P, Q, D (1, 2, 1)\n"
     ]
    },
    {
     "data": {
      "application/vnd.plotly.v1+json": {
       "config": {
        "plotlyServerURL": "https://plot.ly"
       },
       "data": [
        {
         "error_y": {
          "array": [
           0.15625,
           0.1980833333333333,
           0.1846666666666666,
           0.17825,
           0.2023333333333333,
           0.2069999999999999,
           0.1878333333333333,
           0.1779166666666667,
           0.1651666666666666,
           0.2085833333333333,
           0.2196666666666666,
           0.1775833333333333,
           0.2553333333333333,
           0.1798333333333333,
           0.18425,
           0.1750833333333333,
           0.1699166666666666,
           0.1924166666666666,
           0.1563333333333333,
           0.1599166666666666,
           0.1954166666666666,
           0.18475,
           0.1600833333333333,
           0.2248333333333333,
           0.19825,
           0.1648333333333333,
           0.2120833333333333,
           0.1761666666666666,
           0.1951666666666666,
           0.2006666666666667,
           0.1875,
           0.2001666666666666,
           0.2445,
           0.2252499999999999
          ],
          "type": "data"
         },
         "name": "Actual DEU Avg Yearly Temp",
         "type": "scatter",
         "x": [
          1980,
          1981,
          1982,
          1983,
          1984,
          1985,
          1986,
          1987,
          1988,
          1989,
          1990,
          1991,
          1992,
          1993,
          1994,
          1995,
          1996,
          1997,
          1998,
          1999,
          2000,
          2001,
          2002,
          2003,
          2004,
          2005,
          2006,
          2007,
          2008,
          2009,
          2010,
          2011,
          2012,
          2013
         ],
         "y": [
          7.727250000000001,
          8.3205,
          9.073333333333332,
          9.185666666666668,
          8.123,
          7.613333333333333,
          8.085083333333332,
          7.58925,
          9.195583333333332,
          9.679833333333333,
          9.6895,
          8.523083333333334,
          9.505833333333332,
          8.6335,
          9.847,
          9.033499999999998,
          7.374416666666668,
          9.048666666666666,
          9.17175,
          9.62075,
          10.020416666666666,
          9.090416666666666,
          9.637333333333334,
          9.49425,
          9.053416666666664,
          9.128416666666665,
          9.706,
          9.9975,
          9.642166666666666,
          9.359166666666663,
          8.008999999999999,
          9.819583333333334,
          9.227166666666664,
          9.23525
         ]
        },
        {
         "name": "Predictions of DEU Avg Yearly Temp",
         "type": "scatter",
         "x": [
          1980,
          1981,
          1982,
          1983,
          1984,
          1985,
          1986,
          1987,
          1988,
          1989,
          1990,
          1991,
          1992,
          1993,
          1994,
          1995,
          1996,
          1997,
          1998,
          1999,
          2000,
          2001,
          2002,
          2003,
          2004,
          2005,
          2006,
          2007,
          2008,
          2009,
          2010,
          2011,
          2012,
          2013
         ],
         "y": [
          8.35843387925395,
          8.50294476395872,
          8.518084846486937,
          8.469296741297754,
          8.391551451815204,
          8.404346088606387,
          8.418185040262749,
          8.500424796015748,
          8.509972930044926,
          8.59079347568249,
          8.392061320184652,
          8.632666807446634,
          8.724724767809638,
          8.67974272042952,
          8.728906194614943,
          8.713448654027646,
          8.649476590258242,
          8.78884834486288,
          8.76036821976411,
          8.849588037152277,
          8.791570556680192,
          8.737161082594131,
          8.832276897260197,
          8.815336910968076,
          8.881885766843233,
          8.93182438416919,
          8.856002462897347,
          8.96669504615812,
          8.89722166070148,
          9.112507439081654,
          8.860670955262421,
          9.01446888777639,
          8.95211030757852,
          8.896361814906651
         ]
        }
       ],
       "layout": {
        "template": {
         "data": {
          "bar": [
           {
            "error_x": {
             "color": "#2a3f5f"
            },
            "error_y": {
             "color": "#2a3f5f"
            },
            "marker": {
             "line": {
              "color": "#E5ECF6",
              "width": 0.5
             },
             "pattern": {
              "fillmode": "overlay",
              "size": 10,
              "solidity": 0.2
             }
            },
            "type": "bar"
           }
          ],
          "barpolar": [
           {
            "marker": {
             "line": {
              "color": "#E5ECF6",
              "width": 0.5
             },
             "pattern": {
              "fillmode": "overlay",
              "size": 10,
              "solidity": 0.2
             }
            },
            "type": "barpolar"
           }
          ],
          "carpet": [
           {
            "aaxis": {
             "endlinecolor": "#2a3f5f",
             "gridcolor": "white",
             "linecolor": "white",
             "minorgridcolor": "white",
             "startlinecolor": "#2a3f5f"
            },
            "baxis": {
             "endlinecolor": "#2a3f5f",
             "gridcolor": "white",
             "linecolor": "white",
             "minorgridcolor": "white",
             "startlinecolor": "#2a3f5f"
            },
            "type": "carpet"
           }
          ],
          "choropleth": [
           {
            "colorbar": {
             "outlinewidth": 0,
             "ticks": ""
            },
            "type": "choropleth"
           }
          ],
          "contour": [
           {
            "colorbar": {
             "outlinewidth": 0,
             "ticks": ""
            },
            "colorscale": [
             [
              0,
              "#0d0887"
             ],
             [
              0.1111111111111111,
              "#46039f"
             ],
             [
              0.2222222222222222,
              "#7201a8"
             ],
             [
              0.3333333333333333,
              "#9c179e"
             ],
             [
              0.4444444444444444,
              "#bd3786"
             ],
             [
              0.5555555555555556,
              "#d8576b"
             ],
             [
              0.6666666666666666,
              "#ed7953"
             ],
             [
              0.7777777777777778,
              "#fb9f3a"
             ],
             [
              0.8888888888888888,
              "#fdca26"
             ],
             [
              1,
              "#f0f921"
             ]
            ],
            "type": "contour"
           }
          ],
          "contourcarpet": [
           {
            "colorbar": {
             "outlinewidth": 0,
             "ticks": ""
            },
            "type": "contourcarpet"
           }
          ],
          "heatmap": [
           {
            "colorbar": {
             "outlinewidth": 0,
             "ticks": ""
            },
            "colorscale": [
             [
              0,
              "#0d0887"
             ],
             [
              0.1111111111111111,
              "#46039f"
             ],
             [
              0.2222222222222222,
              "#7201a8"
             ],
             [
              0.3333333333333333,
              "#9c179e"
             ],
             [
              0.4444444444444444,
              "#bd3786"
             ],
             [
              0.5555555555555556,
              "#d8576b"
             ],
             [
              0.6666666666666666,
              "#ed7953"
             ],
             [
              0.7777777777777778,
              "#fb9f3a"
             ],
             [
              0.8888888888888888,
              "#fdca26"
             ],
             [
              1,
              "#f0f921"
             ]
            ],
            "type": "heatmap"
           }
          ],
          "heatmapgl": [
           {
            "colorbar": {
             "outlinewidth": 0,
             "ticks": ""
            },
            "colorscale": [
             [
              0,
              "#0d0887"
             ],
             [
              0.1111111111111111,
              "#46039f"
             ],
             [
              0.2222222222222222,
              "#7201a8"
             ],
             [
              0.3333333333333333,
              "#9c179e"
             ],
             [
              0.4444444444444444,
              "#bd3786"
             ],
             [
              0.5555555555555556,
              "#d8576b"
             ],
             [
              0.6666666666666666,
              "#ed7953"
             ],
             [
              0.7777777777777778,
              "#fb9f3a"
             ],
             [
              0.8888888888888888,
              "#fdca26"
             ],
             [
              1,
              "#f0f921"
             ]
            ],
            "type": "heatmapgl"
           }
          ],
          "histogram": [
           {
            "marker": {
             "pattern": {
              "fillmode": "overlay",
              "size": 10,
              "solidity": 0.2
             }
            },
            "type": "histogram"
           }
          ],
          "histogram2d": [
           {
            "colorbar": {
             "outlinewidth": 0,
             "ticks": ""
            },
            "colorscale": [
             [
              0,
              "#0d0887"
             ],
             [
              0.1111111111111111,
              "#46039f"
             ],
             [
              0.2222222222222222,
              "#7201a8"
             ],
             [
              0.3333333333333333,
              "#9c179e"
             ],
             [
              0.4444444444444444,
              "#bd3786"
             ],
             [
              0.5555555555555556,
              "#d8576b"
             ],
             [
              0.6666666666666666,
              "#ed7953"
             ],
             [
              0.7777777777777778,
              "#fb9f3a"
             ],
             [
              0.8888888888888888,
              "#fdca26"
             ],
             [
              1,
              "#f0f921"
             ]
            ],
            "type": "histogram2d"
           }
          ],
          "histogram2dcontour": [
           {
            "colorbar": {
             "outlinewidth": 0,
             "ticks": ""
            },
            "colorscale": [
             [
              0,
              "#0d0887"
             ],
             [
              0.1111111111111111,
              "#46039f"
             ],
             [
              0.2222222222222222,
              "#7201a8"
             ],
             [
              0.3333333333333333,
              "#9c179e"
             ],
             [
              0.4444444444444444,
              "#bd3786"
             ],
             [
              0.5555555555555556,
              "#d8576b"
             ],
             [
              0.6666666666666666,
              "#ed7953"
             ],
             [
              0.7777777777777778,
              "#fb9f3a"
             ],
             [
              0.8888888888888888,
              "#fdca26"
             ],
             [
              1,
              "#f0f921"
             ]
            ],
            "type": "histogram2dcontour"
           }
          ],
          "mesh3d": [
           {
            "colorbar": {
             "outlinewidth": 0,
             "ticks": ""
            },
            "type": "mesh3d"
           }
          ],
          "parcoords": [
           {
            "line": {
             "colorbar": {
              "outlinewidth": 0,
              "ticks": ""
             }
            },
            "type": "parcoords"
           }
          ],
          "pie": [
           {
            "automargin": true,
            "type": "pie"
           }
          ],
          "scatter": [
           {
            "marker": {
             "colorbar": {
              "outlinewidth": 0,
              "ticks": ""
             }
            },
            "type": "scatter"
           }
          ],
          "scatter3d": [
           {
            "line": {
             "colorbar": {
              "outlinewidth": 0,
              "ticks": ""
             }
            },
            "marker": {
             "colorbar": {
              "outlinewidth": 0,
              "ticks": ""
             }
            },
            "type": "scatter3d"
           }
          ],
          "scattercarpet": [
           {
            "marker": {
             "colorbar": {
              "outlinewidth": 0,
              "ticks": ""
             }
            },
            "type": "scattercarpet"
           }
          ],
          "scattergeo": [
           {
            "marker": {
             "colorbar": {
              "outlinewidth": 0,
              "ticks": ""
             }
            },
            "type": "scattergeo"
           }
          ],
          "scattergl": [
           {
            "marker": {
             "colorbar": {
              "outlinewidth": 0,
              "ticks": ""
             }
            },
            "type": "scattergl"
           }
          ],
          "scattermapbox": [
           {
            "marker": {
             "colorbar": {
              "outlinewidth": 0,
              "ticks": ""
             }
            },
            "type": "scattermapbox"
           }
          ],
          "scatterpolar": [
           {
            "marker": {
             "colorbar": {
              "outlinewidth": 0,
              "ticks": ""
             }
            },
            "type": "scatterpolar"
           }
          ],
          "scatterpolargl": [
           {
            "marker": {
             "colorbar": {
              "outlinewidth": 0,
              "ticks": ""
             }
            },
            "type": "scatterpolargl"
           }
          ],
          "scatterternary": [
           {
            "marker": {
             "colorbar": {
              "outlinewidth": 0,
              "ticks": ""
             }
            },
            "type": "scatterternary"
           }
          ],
          "surface": [
           {
            "colorbar": {
             "outlinewidth": 0,
             "ticks": ""
            },
            "colorscale": [
             [
              0,
              "#0d0887"
             ],
             [
              0.1111111111111111,
              "#46039f"
             ],
             [
              0.2222222222222222,
              "#7201a8"
             ],
             [
              0.3333333333333333,
              "#9c179e"
             ],
             [
              0.4444444444444444,
              "#bd3786"
             ],
             [
              0.5555555555555556,
              "#d8576b"
             ],
             [
              0.6666666666666666,
              "#ed7953"
             ],
             [
              0.7777777777777778,
              "#fb9f3a"
             ],
             [
              0.8888888888888888,
              "#fdca26"
             ],
             [
              1,
              "#f0f921"
             ]
            ],
            "type": "surface"
           }
          ],
          "table": [
           {
            "cells": {
             "fill": {
              "color": "#EBF0F8"
             },
             "line": {
              "color": "white"
             }
            },
            "header": {
             "fill": {
              "color": "#C8D4E3"
             },
             "line": {
              "color": "white"
             }
            },
            "type": "table"
           }
          ]
         },
         "layout": {
          "annotationdefaults": {
           "arrowcolor": "#2a3f5f",
           "arrowhead": 0,
           "arrowwidth": 1
          },
          "autotypenumbers": "strict",
          "coloraxis": {
           "colorbar": {
            "outlinewidth": 0,
            "ticks": ""
           }
          },
          "colorscale": {
           "diverging": [
            [
             0,
             "#8e0152"
            ],
            [
             0.1,
             "#c51b7d"
            ],
            [
             0.2,
             "#de77ae"
            ],
            [
             0.3,
             "#f1b6da"
            ],
            [
             0.4,
             "#fde0ef"
            ],
            [
             0.5,
             "#f7f7f7"
            ],
            [
             0.6,
             "#e6f5d0"
            ],
            [
             0.7,
             "#b8e186"
            ],
            [
             0.8,
             "#7fbc41"
            ],
            [
             0.9,
             "#4d9221"
            ],
            [
             1,
             "#276419"
            ]
           ],
           "sequential": [
            [
             0,
             "#0d0887"
            ],
            [
             0.1111111111111111,
             "#46039f"
            ],
            [
             0.2222222222222222,
             "#7201a8"
            ],
            [
             0.3333333333333333,
             "#9c179e"
            ],
            [
             0.4444444444444444,
             "#bd3786"
            ],
            [
             0.5555555555555556,
             "#d8576b"
            ],
            [
             0.6666666666666666,
             "#ed7953"
            ],
            [
             0.7777777777777778,
             "#fb9f3a"
            ],
            [
             0.8888888888888888,
             "#fdca26"
            ],
            [
             1,
             "#f0f921"
            ]
           ],
           "sequentialminus": [
            [
             0,
             "#0d0887"
            ],
            [
             0.1111111111111111,
             "#46039f"
            ],
            [
             0.2222222222222222,
             "#7201a8"
            ],
            [
             0.3333333333333333,
             "#9c179e"
            ],
            [
             0.4444444444444444,
             "#bd3786"
            ],
            [
             0.5555555555555556,
             "#d8576b"
            ],
            [
             0.6666666666666666,
             "#ed7953"
            ],
            [
             0.7777777777777778,
             "#fb9f3a"
            ],
            [
             0.8888888888888888,
             "#fdca26"
            ],
            [
             1,
             "#f0f921"
            ]
           ]
          },
          "colorway": [
           "#636efa",
           "#EF553B",
           "#00cc96",
           "#ab63fa",
           "#FFA15A",
           "#19d3f3",
           "#FF6692",
           "#B6E880",
           "#FF97FF",
           "#FECB52"
          ],
          "font": {
           "color": "#2a3f5f"
          },
          "geo": {
           "bgcolor": "white",
           "lakecolor": "white",
           "landcolor": "#E5ECF6",
           "showlakes": true,
           "showland": true,
           "subunitcolor": "white"
          },
          "hoverlabel": {
           "align": "left"
          },
          "hovermode": "closest",
          "mapbox": {
           "style": "light"
          },
          "paper_bgcolor": "white",
          "plot_bgcolor": "#E5ECF6",
          "polar": {
           "angularaxis": {
            "gridcolor": "white",
            "linecolor": "white",
            "ticks": ""
           },
           "bgcolor": "#E5ECF6",
           "radialaxis": {
            "gridcolor": "white",
            "linecolor": "white",
            "ticks": ""
           }
          },
          "scene": {
           "xaxis": {
            "backgroundcolor": "#E5ECF6",
            "gridcolor": "white",
            "gridwidth": 2,
            "linecolor": "white",
            "showbackground": true,
            "ticks": "",
            "zerolinecolor": "white"
           },
           "yaxis": {
            "backgroundcolor": "#E5ECF6",
            "gridcolor": "white",
            "gridwidth": 2,
            "linecolor": "white",
            "showbackground": true,
            "ticks": "",
            "zerolinecolor": "white"
           },
           "zaxis": {
            "backgroundcolor": "#E5ECF6",
            "gridcolor": "white",
            "gridwidth": 2,
            "linecolor": "white",
            "showbackground": true,
            "ticks": "",
            "zerolinecolor": "white"
           }
          },
          "shapedefaults": {
           "line": {
            "color": "#2a3f5f"
           }
          },
          "ternary": {
           "aaxis": {
            "gridcolor": "white",
            "linecolor": "white",
            "ticks": ""
           },
           "baxis": {
            "gridcolor": "white",
            "linecolor": "white",
            "ticks": ""
           },
           "bgcolor": "#E5ECF6",
           "caxis": {
            "gridcolor": "white",
            "linecolor": "white",
            "ticks": ""
           }
          },
          "title": {
           "x": 0.05
          },
          "xaxis": {
           "automargin": true,
           "gridcolor": "white",
           "linecolor": "white",
           "ticks": "",
           "title": {
            "standoff": 15
           },
           "zerolinecolor": "white",
           "zerolinewidth": 2
          },
          "yaxis": {
           "automargin": true,
           "gridcolor": "white",
           "linecolor": "white",
           "ticks": "",
           "title": {
            "standoff": 15
           },
           "zerolinecolor": "white",
           "zerolinewidth": 2
          }
         }
        },
        "xaxis": {
         "title": {
          "text": "Year"
         }
        },
        "yaxis": {
         "title": {
          "text": "Temperature"
         }
        }
       }
      },
      "text/html": [
       "<div>                            <div id=\"91e5e72d-569d-4b2b-9d62-84e83d6d7197\" class=\"plotly-graph-div\" style=\"height:525px; width:100%;\"></div>            <script type=\"text/javascript\">                require([\"plotly\"], function(Plotly) {                    window.PLOTLYENV=window.PLOTLYENV || {};                                    if (document.getElementById(\"91e5e72d-569d-4b2b-9d62-84e83d6d7197\")) {                    Plotly.newPlot(                        \"91e5e72d-569d-4b2b-9d62-84e83d6d7197\",                        [{\"error_y\":{\"array\":[0.15625,0.1980833333333333,0.1846666666666666,0.17825,0.2023333333333333,0.2069999999999999,0.1878333333333333,0.1779166666666667,0.1651666666666666,0.2085833333333333,0.2196666666666666,0.1775833333333333,0.2553333333333333,0.1798333333333333,0.18425,0.1750833333333333,0.1699166666666666,0.1924166666666666,0.1563333333333333,0.1599166666666666,0.1954166666666666,0.18475,0.1600833333333333,0.2248333333333333,0.19825,0.1648333333333333,0.2120833333333333,0.1761666666666666,0.1951666666666666,0.2006666666666667,0.1875,0.2001666666666666,0.2445,0.2252499999999999],\"type\":\"data\"},\"name\":\"Actual DEU Avg Yearly Temp\",\"x\":[1980,1981,1982,1983,1984,1985,1986,1987,1988,1989,1990,1991,1992,1993,1994,1995,1996,1997,1998,1999,2000,2001,2002,2003,2004,2005,2006,2007,2008,2009,2010,2011,2012,2013],\"y\":[7.727250000000001,8.3205,9.073333333333332,9.185666666666668,8.123,7.613333333333333,8.085083333333332,7.58925,9.195583333333332,9.679833333333333,9.6895,8.523083333333334,9.505833333333332,8.6335,9.847,9.033499999999998,7.374416666666668,9.048666666666666,9.17175,9.62075,10.020416666666666,9.090416666666666,9.637333333333334,9.49425,9.053416666666664,9.128416666666665,9.706,9.9975,9.642166666666666,9.359166666666663,8.008999999999999,9.819583333333334,9.227166666666664,9.23525],\"type\":\"scatter\"},{\"name\":\"Predictions of DEU Avg Yearly Temp\",\"x\":[1980,1981,1982,1983,1984,1985,1986,1987,1988,1989,1990,1991,1992,1993,1994,1995,1996,1997,1998,1999,2000,2001,2002,2003,2004,2005,2006,2007,2008,2009,2010,2011,2012,2013],\"y\":[8.35843387925395,8.50294476395872,8.518084846486937,8.469296741297754,8.391551451815204,8.404346088606387,8.418185040262749,8.500424796015748,8.509972930044926,8.59079347568249,8.392061320184652,8.632666807446634,8.724724767809638,8.67974272042952,8.728906194614943,8.713448654027646,8.649476590258242,8.78884834486288,8.76036821976411,8.849588037152277,8.791570556680192,8.737161082594131,8.832276897260197,8.815336910968076,8.881885766843233,8.93182438416919,8.856002462897347,8.96669504615812,8.89722166070148,9.112507439081654,8.860670955262421,9.01446888777639,8.95211030757852,8.896361814906651],\"type\":\"scatter\"}],                        {\"xaxis\":{\"title\":{\"text\":\"Year\"}},\"yaxis\":{\"title\":{\"text\":\"Temperature\"}},\"template\":{\"data\":{\"bar\":[{\"error_x\":{\"color\":\"#2a3f5f\"},\"error_y\":{\"color\":\"#2a3f5f\"},\"marker\":{\"line\":{\"color\":\"#E5ECF6\",\"width\":0.5},\"pattern\":{\"fillmode\":\"overlay\",\"size\":10,\"solidity\":0.2}},\"type\":\"bar\"}],\"barpolar\":[{\"marker\":{\"line\":{\"color\":\"#E5ECF6\",\"width\":0.5},\"pattern\":{\"fillmode\":\"overlay\",\"size\":10,\"solidity\":0.2}},\"type\":\"barpolar\"}],\"carpet\":[{\"aaxis\":{\"endlinecolor\":\"#2a3f5f\",\"gridcolor\":\"white\",\"linecolor\":\"white\",\"minorgridcolor\":\"white\",\"startlinecolor\":\"#2a3f5f\"},\"baxis\":{\"endlinecolor\":\"#2a3f5f\",\"gridcolor\":\"white\",\"linecolor\":\"white\",\"minorgridcolor\":\"white\",\"startlinecolor\":\"#2a3f5f\"},\"type\":\"carpet\"}],\"choropleth\":[{\"colorbar\":{\"outlinewidth\":0,\"ticks\":\"\"},\"type\":\"choropleth\"}],\"contour\":[{\"colorbar\":{\"outlinewidth\":0,\"ticks\":\"\"},\"colorscale\":[[0.0,\"#0d0887\"],[0.1111111111111111,\"#46039f\"],[0.2222222222222222,\"#7201a8\"],[0.3333333333333333,\"#9c179e\"],[0.4444444444444444,\"#bd3786\"],[0.5555555555555556,\"#d8576b\"],[0.6666666666666666,\"#ed7953\"],[0.7777777777777778,\"#fb9f3a\"],[0.8888888888888888,\"#fdca26\"],[1.0,\"#f0f921\"]],\"type\":\"contour\"}],\"contourcarpet\":[{\"colorbar\":{\"outlinewidth\":0,\"ticks\":\"\"},\"type\":\"contourcarpet\"}],\"heatmap\":[{\"colorbar\":{\"outlinewidth\":0,\"ticks\":\"\"},\"colorscale\":[[0.0,\"#0d0887\"],[0.1111111111111111,\"#46039f\"],[0.2222222222222222,\"#7201a8\"],[0.3333333333333333,\"#9c179e\"],[0.4444444444444444,\"#bd3786\"],[0.5555555555555556,\"#d8576b\"],[0.6666666666666666,\"#ed7953\"],[0.7777777777777778,\"#fb9f3a\"],[0.8888888888888888,\"#fdca26\"],[1.0,\"#f0f921\"]],\"type\":\"heatmap\"}],\"heatmapgl\":[{\"colorbar\":{\"outlinewidth\":0,\"ticks\":\"\"},\"colorscale\":[[0.0,\"#0d0887\"],[0.1111111111111111,\"#46039f\"],[0.2222222222222222,\"#7201a8\"],[0.3333333333333333,\"#9c179e\"],[0.4444444444444444,\"#bd3786\"],[0.5555555555555556,\"#d8576b\"],[0.6666666666666666,\"#ed7953\"],[0.7777777777777778,\"#fb9f3a\"],[0.8888888888888888,\"#fdca26\"],[1.0,\"#f0f921\"]],\"type\":\"heatmapgl\"}],\"histogram\":[{\"marker\":{\"pattern\":{\"fillmode\":\"overlay\",\"size\":10,\"solidity\":0.2}},\"type\":\"histogram\"}],\"histogram2d\":[{\"colorbar\":{\"outlinewidth\":0,\"ticks\":\"\"},\"colorscale\":[[0.0,\"#0d0887\"],[0.1111111111111111,\"#46039f\"],[0.2222222222222222,\"#7201a8\"],[0.3333333333333333,\"#9c179e\"],[0.4444444444444444,\"#bd3786\"],[0.5555555555555556,\"#d8576b\"],[0.6666666666666666,\"#ed7953\"],[0.7777777777777778,\"#fb9f3a\"],[0.8888888888888888,\"#fdca26\"],[1.0,\"#f0f921\"]],\"type\":\"histogram2d\"}],\"histogram2dcontour\":[{\"colorbar\":{\"outlinewidth\":0,\"ticks\":\"\"},\"colorscale\":[[0.0,\"#0d0887\"],[0.1111111111111111,\"#46039f\"],[0.2222222222222222,\"#7201a8\"],[0.3333333333333333,\"#9c179e\"],[0.4444444444444444,\"#bd3786\"],[0.5555555555555556,\"#d8576b\"],[0.6666666666666666,\"#ed7953\"],[0.7777777777777778,\"#fb9f3a\"],[0.8888888888888888,\"#fdca26\"],[1.0,\"#f0f921\"]],\"type\":\"histogram2dcontour\"}],\"mesh3d\":[{\"colorbar\":{\"outlinewidth\":0,\"ticks\":\"\"},\"type\":\"mesh3d\"}],\"parcoords\":[{\"line\":{\"colorbar\":{\"outlinewidth\":0,\"ticks\":\"\"}},\"type\":\"parcoords\"}],\"pie\":[{\"automargin\":true,\"type\":\"pie\"}],\"scatter\":[{\"marker\":{\"colorbar\":{\"outlinewidth\":0,\"ticks\":\"\"}},\"type\":\"scatter\"}],\"scatter3d\":[{\"line\":{\"colorbar\":{\"outlinewidth\":0,\"ticks\":\"\"}},\"marker\":{\"colorbar\":{\"outlinewidth\":0,\"ticks\":\"\"}},\"type\":\"scatter3d\"}],\"scattercarpet\":[{\"marker\":{\"colorbar\":{\"outlinewidth\":0,\"ticks\":\"\"}},\"type\":\"scattercarpet\"}],\"scattergeo\":[{\"marker\":{\"colorbar\":{\"outlinewidth\":0,\"ticks\":\"\"}},\"type\":\"scattergeo\"}],\"scattergl\":[{\"marker\":{\"colorbar\":{\"outlinewidth\":0,\"ticks\":\"\"}},\"type\":\"scattergl\"}],\"scattermapbox\":[{\"marker\":{\"colorbar\":{\"outlinewidth\":0,\"ticks\":\"\"}},\"type\":\"scattermapbox\"}],\"scatterpolar\":[{\"marker\":{\"colorbar\":{\"outlinewidth\":0,\"ticks\":\"\"}},\"type\":\"scatterpolar\"}],\"scatterpolargl\":[{\"marker\":{\"colorbar\":{\"outlinewidth\":0,\"ticks\":\"\"}},\"type\":\"scatterpolargl\"}],\"scatterternary\":[{\"marker\":{\"colorbar\":{\"outlinewidth\":0,\"ticks\":\"\"}},\"type\":\"scatterternary\"}],\"surface\":[{\"colorbar\":{\"outlinewidth\":0,\"ticks\":\"\"},\"colorscale\":[[0.0,\"#0d0887\"],[0.1111111111111111,\"#46039f\"],[0.2222222222222222,\"#7201a8\"],[0.3333333333333333,\"#9c179e\"],[0.4444444444444444,\"#bd3786\"],[0.5555555555555556,\"#d8576b\"],[0.6666666666666666,\"#ed7953\"],[0.7777777777777778,\"#fb9f3a\"],[0.8888888888888888,\"#fdca26\"],[1.0,\"#f0f921\"]],\"type\":\"surface\"}],\"table\":[{\"cells\":{\"fill\":{\"color\":\"#EBF0F8\"},\"line\":{\"color\":\"white\"}},\"header\":{\"fill\":{\"color\":\"#C8D4E3\"},\"line\":{\"color\":\"white\"}},\"type\":\"table\"}]},\"layout\":{\"annotationdefaults\":{\"arrowcolor\":\"#2a3f5f\",\"arrowhead\":0,\"arrowwidth\":1},\"autotypenumbers\":\"strict\",\"coloraxis\":{\"colorbar\":{\"outlinewidth\":0,\"ticks\":\"\"}},\"colorscale\":{\"diverging\":[[0,\"#8e0152\"],[0.1,\"#c51b7d\"],[0.2,\"#de77ae\"],[0.3,\"#f1b6da\"],[0.4,\"#fde0ef\"],[0.5,\"#f7f7f7\"],[0.6,\"#e6f5d0\"],[0.7,\"#b8e186\"],[0.8,\"#7fbc41\"],[0.9,\"#4d9221\"],[1,\"#276419\"]],\"sequential\":[[0.0,\"#0d0887\"],[0.1111111111111111,\"#46039f\"],[0.2222222222222222,\"#7201a8\"],[0.3333333333333333,\"#9c179e\"],[0.4444444444444444,\"#bd3786\"],[0.5555555555555556,\"#d8576b\"],[0.6666666666666666,\"#ed7953\"],[0.7777777777777778,\"#fb9f3a\"],[0.8888888888888888,\"#fdca26\"],[1.0,\"#f0f921\"]],\"sequentialminus\":[[0.0,\"#0d0887\"],[0.1111111111111111,\"#46039f\"],[0.2222222222222222,\"#7201a8\"],[0.3333333333333333,\"#9c179e\"],[0.4444444444444444,\"#bd3786\"],[0.5555555555555556,\"#d8576b\"],[0.6666666666666666,\"#ed7953\"],[0.7777777777777778,\"#fb9f3a\"],[0.8888888888888888,\"#fdca26\"],[1.0,\"#f0f921\"]]},\"colorway\":[\"#636efa\",\"#EF553B\",\"#00cc96\",\"#ab63fa\",\"#FFA15A\",\"#19d3f3\",\"#FF6692\",\"#B6E880\",\"#FF97FF\",\"#FECB52\"],\"font\":{\"color\":\"#2a3f5f\"},\"geo\":{\"bgcolor\":\"white\",\"lakecolor\":\"white\",\"landcolor\":\"#E5ECF6\",\"showlakes\":true,\"showland\":true,\"subunitcolor\":\"white\"},\"hoverlabel\":{\"align\":\"left\"},\"hovermode\":\"closest\",\"mapbox\":{\"style\":\"light\"},\"paper_bgcolor\":\"white\",\"plot_bgcolor\":\"#E5ECF6\",\"polar\":{\"angularaxis\":{\"gridcolor\":\"white\",\"linecolor\":\"white\",\"ticks\":\"\"},\"bgcolor\":\"#E5ECF6\",\"radialaxis\":{\"gridcolor\":\"white\",\"linecolor\":\"white\",\"ticks\":\"\"}},\"scene\":{\"xaxis\":{\"backgroundcolor\":\"#E5ECF6\",\"gridcolor\":\"white\",\"gridwidth\":2,\"linecolor\":\"white\",\"showbackground\":true,\"ticks\":\"\",\"zerolinecolor\":\"white\"},\"yaxis\":{\"backgroundcolor\":\"#E5ECF6\",\"gridcolor\":\"white\",\"gridwidth\":2,\"linecolor\":\"white\",\"showbackground\":true,\"ticks\":\"\",\"zerolinecolor\":\"white\"},\"zaxis\":{\"backgroundcolor\":\"#E5ECF6\",\"gridcolor\":\"white\",\"gridwidth\":2,\"linecolor\":\"white\",\"showbackground\":true,\"ticks\":\"\",\"zerolinecolor\":\"white\"}},\"shapedefaults\":{\"line\":{\"color\":\"#2a3f5f\"}},\"ternary\":{\"aaxis\":{\"gridcolor\":\"white\",\"linecolor\":\"white\",\"ticks\":\"\"},\"baxis\":{\"gridcolor\":\"white\",\"linecolor\":\"white\",\"ticks\":\"\"},\"bgcolor\":\"#E5ECF6\",\"caxis\":{\"gridcolor\":\"white\",\"linecolor\":\"white\",\"ticks\":\"\"}},\"title\":{\"x\":0.05},\"xaxis\":{\"automargin\":true,\"gridcolor\":\"white\",\"linecolor\":\"white\",\"ticks\":\"\",\"title\":{\"standoff\":15},\"zerolinecolor\":\"white\",\"zerolinewidth\":2},\"yaxis\":{\"automargin\":true,\"gridcolor\":\"white\",\"linecolor\":\"white\",\"ticks\":\"\",\"title\":{\"standoff\":15},\"zerolinecolor\":\"white\",\"zerolinewidth\":2}}}},                        {\"responsive\": true}                    ).then(function(){\n",
       "                            \n",
       "var gd = document.getElementById('91e5e72d-569d-4b2b-9d62-84e83d6d7197');\n",
       "var x = new MutationObserver(function (mutations, observer) {{\n",
       "        var display = window.getComputedStyle(gd).display;\n",
       "        if (!display || display === 'none') {{\n",
       "            console.log([gd, 'removed!']);\n",
       "            Plotly.purge(gd);\n",
       "            observer.disconnect();\n",
       "        }}\n",
       "}});\n",
       "\n",
       "// Listen for the removal of the full notebook cells\n",
       "var notebookContainer = gd.closest('#notebook-container');\n",
       "if (notebookContainer) {{\n",
       "    x.observe(notebookContainer, {childList: true});\n",
       "}}\n",
       "\n",
       "// Listen for the clearing of the current output cell\n",
       "var outputEl = gd.closest('.output');\n",
       "if (outputEl) {{\n",
       "    x.observe(outputEl, {childList: true});\n",
       "}}\n",
       "\n",
       "                        })                };                });            </script>        </div>"
      ]
     },
     "metadata": {},
     "output_type": "display_data"
    },
    {
     "name": "stdout",
     "output_type": "stream",
     "text": [
      "P, Q, D (3, 1, 1)\n"
     ]
    },
    {
     "data": {
      "application/vnd.plotly.v1+json": {
       "config": {
        "plotlyServerURL": "https://plot.ly"
       },
       "data": [
        {
         "error_y": {
          "array": [
           0.2621666666666666,
           0.2759999999999999,
           0.2495,
           0.2405833333333333,
           0.24325,
           0.2475833333333333,
           0.2445,
           0.23775,
           0.23125,
           0.2493333333333333,
           0.27125,
           0.2086666666666666,
           0.2716666666666666,
           0.2205,
           0.2468333333333333,
           0.2246666666666666,
           0.22375,
           0.22225,
           0.2299166666666666,
           0.21825,
           0.2246666666666666,
           0.2371666666666667,
           0.23725,
           0.2635,
           0.23225,
           0.2050833333333333,
           0.22075,
           0.2136666666666666,
           0.2199166666666666,
           0.2318333333333333,
           0.2185833333333333,
           0.2325833333333333,
           0.3000833333333333,
           0.5336666666666665
          ],
          "type": "data"
         },
         "name": "Actual CAN Avg Yearly Temp",
         "type": "scatter",
         "x": [
          1980,
          1981,
          1982,
          1983,
          1984,
          1985,
          1986,
          1987,
          1988,
          1989,
          1990,
          1991,
          1992,
          1993,
          1994,
          1995,
          1996,
          1997,
          1998,
          1999,
          2000,
          2001,
          2002,
          2003,
          2004,
          2005,
          2006,
          2007,
          2008,
          2009,
          2010,
          2011,
          2012,
          2013
         ],
         "y": [
          -4.416916666666666,
          -2.86725,
          -5.875166666666666,
          -4.75175,
          -4.634249999999999,
          -4.901166666666666,
          -4.843916666666668,
          -3.3433333333333337,
          -4.125166666666666,
          -5.073333333333334,
          -5.021916666666667,
          -4.426666666666667,
          -4.928916666666666,
          -4.4015,
          -4.433666666666667,
          -4.314333333333334,
          -4.941166666666667,
          -4.2315000000000005,
          -2.553916666666666,
          -3.1863333333333337,
          -4.025916666666666,
          -3.1000833333333326,
          -4.362833333333334,
          -3.8595000000000006,
          -4.9230833333333335,
          -3.30875,
          -2.4601666666666664,
          -4.060916666666667,
          -4.29525,
          -4.135083333333335,
          -1.8879166666666665,
          -3.557083333333333,
          -3.176833333333334,
          -1.6406666666666676
         ]
        },
        {
         "name": "Predictions of CAN Avg Yearly Temp",
         "type": "scatter",
         "x": [
          1980,
          1981,
          1982,
          1983,
          1984,
          1985,
          1986,
          1987,
          1988,
          1989,
          1990,
          1991,
          1992,
          1993,
          1994,
          1995,
          1996,
          1997,
          1998,
          1999,
          2000,
          2001,
          2002,
          2003,
          2004,
          2005,
          2006,
          2007,
          2008,
          2009,
          2010,
          2011,
          2012,
          2013
         ],
         "y": [
          -4.663601044314893,
          -4.340636260878742,
          -4.310187897003853,
          -4.53117408243925,
          -5.062549847037889,
          -4.60775918920084,
          -4.323763279483707,
          -5.320759437211524,
          -5.278299740787389,
          -4.875819620831256,
          -4.613560869384075,
          -4.551012038522629,
          -5.053040695791829,
          -4.755792388127675,
          -5.070523269374913,
          -5.033255215974313,
          -5.109835583009974,
          -5.065464148914349,
          -4.91340837557641,
          -5.0720623032650405,
          -5.250626483371888,
          -4.569737379471309,
          -4.876663807468156,
          -5.160440577376926,
          -4.735760360083731,
          -4.674662807276486,
          -4.701536663400589,
          -5.332219823451335,
          -4.466814222877404,
          -4.0942981028763725,
          -5.1318946468304985,
          -5.1115889612473016,
          -4.852749525223686,
          -4.970899742176627
         ]
        }
       ],
       "layout": {
        "template": {
         "data": {
          "bar": [
           {
            "error_x": {
             "color": "#2a3f5f"
            },
            "error_y": {
             "color": "#2a3f5f"
            },
            "marker": {
             "line": {
              "color": "#E5ECF6",
              "width": 0.5
             },
             "pattern": {
              "fillmode": "overlay",
              "size": 10,
              "solidity": 0.2
             }
            },
            "type": "bar"
           }
          ],
          "barpolar": [
           {
            "marker": {
             "line": {
              "color": "#E5ECF6",
              "width": 0.5
             },
             "pattern": {
              "fillmode": "overlay",
              "size": 10,
              "solidity": 0.2
             }
            },
            "type": "barpolar"
           }
          ],
          "carpet": [
           {
            "aaxis": {
             "endlinecolor": "#2a3f5f",
             "gridcolor": "white",
             "linecolor": "white",
             "minorgridcolor": "white",
             "startlinecolor": "#2a3f5f"
            },
            "baxis": {
             "endlinecolor": "#2a3f5f",
             "gridcolor": "white",
             "linecolor": "white",
             "minorgridcolor": "white",
             "startlinecolor": "#2a3f5f"
            },
            "type": "carpet"
           }
          ],
          "choropleth": [
           {
            "colorbar": {
             "outlinewidth": 0,
             "ticks": ""
            },
            "type": "choropleth"
           }
          ],
          "contour": [
           {
            "colorbar": {
             "outlinewidth": 0,
             "ticks": ""
            },
            "colorscale": [
             [
              0,
              "#0d0887"
             ],
             [
              0.1111111111111111,
              "#46039f"
             ],
             [
              0.2222222222222222,
              "#7201a8"
             ],
             [
              0.3333333333333333,
              "#9c179e"
             ],
             [
              0.4444444444444444,
              "#bd3786"
             ],
             [
              0.5555555555555556,
              "#d8576b"
             ],
             [
              0.6666666666666666,
              "#ed7953"
             ],
             [
              0.7777777777777778,
              "#fb9f3a"
             ],
             [
              0.8888888888888888,
              "#fdca26"
             ],
             [
              1,
              "#f0f921"
             ]
            ],
            "type": "contour"
           }
          ],
          "contourcarpet": [
           {
            "colorbar": {
             "outlinewidth": 0,
             "ticks": ""
            },
            "type": "contourcarpet"
           }
          ],
          "heatmap": [
           {
            "colorbar": {
             "outlinewidth": 0,
             "ticks": ""
            },
            "colorscale": [
             [
              0,
              "#0d0887"
             ],
             [
              0.1111111111111111,
              "#46039f"
             ],
             [
              0.2222222222222222,
              "#7201a8"
             ],
             [
              0.3333333333333333,
              "#9c179e"
             ],
             [
              0.4444444444444444,
              "#bd3786"
             ],
             [
              0.5555555555555556,
              "#d8576b"
             ],
             [
              0.6666666666666666,
              "#ed7953"
             ],
             [
              0.7777777777777778,
              "#fb9f3a"
             ],
             [
              0.8888888888888888,
              "#fdca26"
             ],
             [
              1,
              "#f0f921"
             ]
            ],
            "type": "heatmap"
           }
          ],
          "heatmapgl": [
           {
            "colorbar": {
             "outlinewidth": 0,
             "ticks": ""
            },
            "colorscale": [
             [
              0,
              "#0d0887"
             ],
             [
              0.1111111111111111,
              "#46039f"
             ],
             [
              0.2222222222222222,
              "#7201a8"
             ],
             [
              0.3333333333333333,
              "#9c179e"
             ],
             [
              0.4444444444444444,
              "#bd3786"
             ],
             [
              0.5555555555555556,
              "#d8576b"
             ],
             [
              0.6666666666666666,
              "#ed7953"
             ],
             [
              0.7777777777777778,
              "#fb9f3a"
             ],
             [
              0.8888888888888888,
              "#fdca26"
             ],
             [
              1,
              "#f0f921"
             ]
            ],
            "type": "heatmapgl"
           }
          ],
          "histogram": [
           {
            "marker": {
             "pattern": {
              "fillmode": "overlay",
              "size": 10,
              "solidity": 0.2
             }
            },
            "type": "histogram"
           }
          ],
          "histogram2d": [
           {
            "colorbar": {
             "outlinewidth": 0,
             "ticks": ""
            },
            "colorscale": [
             [
              0,
              "#0d0887"
             ],
             [
              0.1111111111111111,
              "#46039f"
             ],
             [
              0.2222222222222222,
              "#7201a8"
             ],
             [
              0.3333333333333333,
              "#9c179e"
             ],
             [
              0.4444444444444444,
              "#bd3786"
             ],
             [
              0.5555555555555556,
              "#d8576b"
             ],
             [
              0.6666666666666666,
              "#ed7953"
             ],
             [
              0.7777777777777778,
              "#fb9f3a"
             ],
             [
              0.8888888888888888,
              "#fdca26"
             ],
             [
              1,
              "#f0f921"
             ]
            ],
            "type": "histogram2d"
           }
          ],
          "histogram2dcontour": [
           {
            "colorbar": {
             "outlinewidth": 0,
             "ticks": ""
            },
            "colorscale": [
             [
              0,
              "#0d0887"
             ],
             [
              0.1111111111111111,
              "#46039f"
             ],
             [
              0.2222222222222222,
              "#7201a8"
             ],
             [
              0.3333333333333333,
              "#9c179e"
             ],
             [
              0.4444444444444444,
              "#bd3786"
             ],
             [
              0.5555555555555556,
              "#d8576b"
             ],
             [
              0.6666666666666666,
              "#ed7953"
             ],
             [
              0.7777777777777778,
              "#fb9f3a"
             ],
             [
              0.8888888888888888,
              "#fdca26"
             ],
             [
              1,
              "#f0f921"
             ]
            ],
            "type": "histogram2dcontour"
           }
          ],
          "mesh3d": [
           {
            "colorbar": {
             "outlinewidth": 0,
             "ticks": ""
            },
            "type": "mesh3d"
           }
          ],
          "parcoords": [
           {
            "line": {
             "colorbar": {
              "outlinewidth": 0,
              "ticks": ""
             }
            },
            "type": "parcoords"
           }
          ],
          "pie": [
           {
            "automargin": true,
            "type": "pie"
           }
          ],
          "scatter": [
           {
            "marker": {
             "colorbar": {
              "outlinewidth": 0,
              "ticks": ""
             }
            },
            "type": "scatter"
           }
          ],
          "scatter3d": [
           {
            "line": {
             "colorbar": {
              "outlinewidth": 0,
              "ticks": ""
             }
            },
            "marker": {
             "colorbar": {
              "outlinewidth": 0,
              "ticks": ""
             }
            },
            "type": "scatter3d"
           }
          ],
          "scattercarpet": [
           {
            "marker": {
             "colorbar": {
              "outlinewidth": 0,
              "ticks": ""
             }
            },
            "type": "scattercarpet"
           }
          ],
          "scattergeo": [
           {
            "marker": {
             "colorbar": {
              "outlinewidth": 0,
              "ticks": ""
             }
            },
            "type": "scattergeo"
           }
          ],
          "scattergl": [
           {
            "marker": {
             "colorbar": {
              "outlinewidth": 0,
              "ticks": ""
             }
            },
            "type": "scattergl"
           }
          ],
          "scattermapbox": [
           {
            "marker": {
             "colorbar": {
              "outlinewidth": 0,
              "ticks": ""
             }
            },
            "type": "scattermapbox"
           }
          ],
          "scatterpolar": [
           {
            "marker": {
             "colorbar": {
              "outlinewidth": 0,
              "ticks": ""
             }
            },
            "type": "scatterpolar"
           }
          ],
          "scatterpolargl": [
           {
            "marker": {
             "colorbar": {
              "outlinewidth": 0,
              "ticks": ""
             }
            },
            "type": "scatterpolargl"
           }
          ],
          "scatterternary": [
           {
            "marker": {
             "colorbar": {
              "outlinewidth": 0,
              "ticks": ""
             }
            },
            "type": "scatterternary"
           }
          ],
          "surface": [
           {
            "colorbar": {
             "outlinewidth": 0,
             "ticks": ""
            },
            "colorscale": [
             [
              0,
              "#0d0887"
             ],
             [
              0.1111111111111111,
              "#46039f"
             ],
             [
              0.2222222222222222,
              "#7201a8"
             ],
             [
              0.3333333333333333,
              "#9c179e"
             ],
             [
              0.4444444444444444,
              "#bd3786"
             ],
             [
              0.5555555555555556,
              "#d8576b"
             ],
             [
              0.6666666666666666,
              "#ed7953"
             ],
             [
              0.7777777777777778,
              "#fb9f3a"
             ],
             [
              0.8888888888888888,
              "#fdca26"
             ],
             [
              1,
              "#f0f921"
             ]
            ],
            "type": "surface"
           }
          ],
          "table": [
           {
            "cells": {
             "fill": {
              "color": "#EBF0F8"
             },
             "line": {
              "color": "white"
             }
            },
            "header": {
             "fill": {
              "color": "#C8D4E3"
             },
             "line": {
              "color": "white"
             }
            },
            "type": "table"
           }
          ]
         },
         "layout": {
          "annotationdefaults": {
           "arrowcolor": "#2a3f5f",
           "arrowhead": 0,
           "arrowwidth": 1
          },
          "autotypenumbers": "strict",
          "coloraxis": {
           "colorbar": {
            "outlinewidth": 0,
            "ticks": ""
           }
          },
          "colorscale": {
           "diverging": [
            [
             0,
             "#8e0152"
            ],
            [
             0.1,
             "#c51b7d"
            ],
            [
             0.2,
             "#de77ae"
            ],
            [
             0.3,
             "#f1b6da"
            ],
            [
             0.4,
             "#fde0ef"
            ],
            [
             0.5,
             "#f7f7f7"
            ],
            [
             0.6,
             "#e6f5d0"
            ],
            [
             0.7,
             "#b8e186"
            ],
            [
             0.8,
             "#7fbc41"
            ],
            [
             0.9,
             "#4d9221"
            ],
            [
             1,
             "#276419"
            ]
           ],
           "sequential": [
            [
             0,
             "#0d0887"
            ],
            [
             0.1111111111111111,
             "#46039f"
            ],
            [
             0.2222222222222222,
             "#7201a8"
            ],
            [
             0.3333333333333333,
             "#9c179e"
            ],
            [
             0.4444444444444444,
             "#bd3786"
            ],
            [
             0.5555555555555556,
             "#d8576b"
            ],
            [
             0.6666666666666666,
             "#ed7953"
            ],
            [
             0.7777777777777778,
             "#fb9f3a"
            ],
            [
             0.8888888888888888,
             "#fdca26"
            ],
            [
             1,
             "#f0f921"
            ]
           ],
           "sequentialminus": [
            [
             0,
             "#0d0887"
            ],
            [
             0.1111111111111111,
             "#46039f"
            ],
            [
             0.2222222222222222,
             "#7201a8"
            ],
            [
             0.3333333333333333,
             "#9c179e"
            ],
            [
             0.4444444444444444,
             "#bd3786"
            ],
            [
             0.5555555555555556,
             "#d8576b"
            ],
            [
             0.6666666666666666,
             "#ed7953"
            ],
            [
             0.7777777777777778,
             "#fb9f3a"
            ],
            [
             0.8888888888888888,
             "#fdca26"
            ],
            [
             1,
             "#f0f921"
            ]
           ]
          },
          "colorway": [
           "#636efa",
           "#EF553B",
           "#00cc96",
           "#ab63fa",
           "#FFA15A",
           "#19d3f3",
           "#FF6692",
           "#B6E880",
           "#FF97FF",
           "#FECB52"
          ],
          "font": {
           "color": "#2a3f5f"
          },
          "geo": {
           "bgcolor": "white",
           "lakecolor": "white",
           "landcolor": "#E5ECF6",
           "showlakes": true,
           "showland": true,
           "subunitcolor": "white"
          },
          "hoverlabel": {
           "align": "left"
          },
          "hovermode": "closest",
          "mapbox": {
           "style": "light"
          },
          "paper_bgcolor": "white",
          "plot_bgcolor": "#E5ECF6",
          "polar": {
           "angularaxis": {
            "gridcolor": "white",
            "linecolor": "white",
            "ticks": ""
           },
           "bgcolor": "#E5ECF6",
           "radialaxis": {
            "gridcolor": "white",
            "linecolor": "white",
            "ticks": ""
           }
          },
          "scene": {
           "xaxis": {
            "backgroundcolor": "#E5ECF6",
            "gridcolor": "white",
            "gridwidth": 2,
            "linecolor": "white",
            "showbackground": true,
            "ticks": "",
            "zerolinecolor": "white"
           },
           "yaxis": {
            "backgroundcolor": "#E5ECF6",
            "gridcolor": "white",
            "gridwidth": 2,
            "linecolor": "white",
            "showbackground": true,
            "ticks": "",
            "zerolinecolor": "white"
           },
           "zaxis": {
            "backgroundcolor": "#E5ECF6",
            "gridcolor": "white",
            "gridwidth": 2,
            "linecolor": "white",
            "showbackground": true,
            "ticks": "",
            "zerolinecolor": "white"
           }
          },
          "shapedefaults": {
           "line": {
            "color": "#2a3f5f"
           }
          },
          "ternary": {
           "aaxis": {
            "gridcolor": "white",
            "linecolor": "white",
            "ticks": ""
           },
           "baxis": {
            "gridcolor": "white",
            "linecolor": "white",
            "ticks": ""
           },
           "bgcolor": "#E5ECF6",
           "caxis": {
            "gridcolor": "white",
            "linecolor": "white",
            "ticks": ""
           }
          },
          "title": {
           "x": 0.05
          },
          "xaxis": {
           "automargin": true,
           "gridcolor": "white",
           "linecolor": "white",
           "ticks": "",
           "title": {
            "standoff": 15
           },
           "zerolinecolor": "white",
           "zerolinewidth": 2
          },
          "yaxis": {
           "automargin": true,
           "gridcolor": "white",
           "linecolor": "white",
           "ticks": "",
           "title": {
            "standoff": 15
           },
           "zerolinecolor": "white",
           "zerolinewidth": 2
          }
         }
        },
        "xaxis": {
         "title": {
          "text": "Year"
         }
        },
        "yaxis": {
         "title": {
          "text": "Temperature"
         }
        }
       }
      },
      "text/html": [
       "<div>                            <div id=\"2172f769-c642-4887-82d5-8970b3386406\" class=\"plotly-graph-div\" style=\"height:525px; width:100%;\"></div>            <script type=\"text/javascript\">                require([\"plotly\"], function(Plotly) {                    window.PLOTLYENV=window.PLOTLYENV || {};                                    if (document.getElementById(\"2172f769-c642-4887-82d5-8970b3386406\")) {                    Plotly.newPlot(                        \"2172f769-c642-4887-82d5-8970b3386406\",                        [{\"error_y\":{\"array\":[0.2621666666666666,0.2759999999999999,0.2495,0.2405833333333333,0.24325,0.2475833333333333,0.2445,0.23775,0.23125,0.2493333333333333,0.27125,0.2086666666666666,0.2716666666666666,0.2205,0.2468333333333333,0.2246666666666666,0.22375,0.22225,0.2299166666666666,0.21825,0.2246666666666666,0.2371666666666667,0.23725,0.2635,0.23225,0.2050833333333333,0.22075,0.2136666666666666,0.2199166666666666,0.2318333333333333,0.2185833333333333,0.2325833333333333,0.3000833333333333,0.5336666666666665],\"type\":\"data\"},\"name\":\"Actual CAN Avg Yearly Temp\",\"x\":[1980,1981,1982,1983,1984,1985,1986,1987,1988,1989,1990,1991,1992,1993,1994,1995,1996,1997,1998,1999,2000,2001,2002,2003,2004,2005,2006,2007,2008,2009,2010,2011,2012,2013],\"y\":[-4.416916666666666,-2.86725,-5.875166666666666,-4.75175,-4.634249999999999,-4.901166666666666,-4.843916666666668,-3.3433333333333337,-4.125166666666666,-5.073333333333334,-5.021916666666667,-4.426666666666667,-4.928916666666666,-4.4015,-4.433666666666667,-4.314333333333334,-4.941166666666667,-4.2315000000000005,-2.553916666666666,-3.1863333333333337,-4.025916666666666,-3.1000833333333326,-4.362833333333334,-3.8595000000000006,-4.9230833333333335,-3.30875,-2.4601666666666664,-4.060916666666667,-4.29525,-4.135083333333335,-1.8879166666666665,-3.557083333333333,-3.176833333333334,-1.6406666666666676],\"type\":\"scatter\"},{\"name\":\"Predictions of CAN Avg Yearly Temp\",\"x\":[1980,1981,1982,1983,1984,1985,1986,1987,1988,1989,1990,1991,1992,1993,1994,1995,1996,1997,1998,1999,2000,2001,2002,2003,2004,2005,2006,2007,2008,2009,2010,2011,2012,2013],\"y\":[-4.663601044314893,-4.340636260878742,-4.310187897003853,-4.53117408243925,-5.062549847037889,-4.60775918920084,-4.323763279483707,-5.320759437211524,-5.278299740787389,-4.875819620831256,-4.613560869384075,-4.551012038522629,-5.053040695791829,-4.755792388127675,-5.070523269374913,-5.033255215974313,-5.109835583009974,-5.065464148914349,-4.91340837557641,-5.0720623032650405,-5.250626483371888,-4.569737379471309,-4.876663807468156,-5.160440577376926,-4.735760360083731,-4.674662807276486,-4.701536663400589,-5.332219823451335,-4.466814222877404,-4.0942981028763725,-5.1318946468304985,-5.1115889612473016,-4.852749525223686,-4.970899742176627],\"type\":\"scatter\"}],                        {\"xaxis\":{\"title\":{\"text\":\"Year\"}},\"yaxis\":{\"title\":{\"text\":\"Temperature\"}},\"template\":{\"data\":{\"bar\":[{\"error_x\":{\"color\":\"#2a3f5f\"},\"error_y\":{\"color\":\"#2a3f5f\"},\"marker\":{\"line\":{\"color\":\"#E5ECF6\",\"width\":0.5},\"pattern\":{\"fillmode\":\"overlay\",\"size\":10,\"solidity\":0.2}},\"type\":\"bar\"}],\"barpolar\":[{\"marker\":{\"line\":{\"color\":\"#E5ECF6\",\"width\":0.5},\"pattern\":{\"fillmode\":\"overlay\",\"size\":10,\"solidity\":0.2}},\"type\":\"barpolar\"}],\"carpet\":[{\"aaxis\":{\"endlinecolor\":\"#2a3f5f\",\"gridcolor\":\"white\",\"linecolor\":\"white\",\"minorgridcolor\":\"white\",\"startlinecolor\":\"#2a3f5f\"},\"baxis\":{\"endlinecolor\":\"#2a3f5f\",\"gridcolor\":\"white\",\"linecolor\":\"white\",\"minorgridcolor\":\"white\",\"startlinecolor\":\"#2a3f5f\"},\"type\":\"carpet\"}],\"choropleth\":[{\"colorbar\":{\"outlinewidth\":0,\"ticks\":\"\"},\"type\":\"choropleth\"}],\"contour\":[{\"colorbar\":{\"outlinewidth\":0,\"ticks\":\"\"},\"colorscale\":[[0.0,\"#0d0887\"],[0.1111111111111111,\"#46039f\"],[0.2222222222222222,\"#7201a8\"],[0.3333333333333333,\"#9c179e\"],[0.4444444444444444,\"#bd3786\"],[0.5555555555555556,\"#d8576b\"],[0.6666666666666666,\"#ed7953\"],[0.7777777777777778,\"#fb9f3a\"],[0.8888888888888888,\"#fdca26\"],[1.0,\"#f0f921\"]],\"type\":\"contour\"}],\"contourcarpet\":[{\"colorbar\":{\"outlinewidth\":0,\"ticks\":\"\"},\"type\":\"contourcarpet\"}],\"heatmap\":[{\"colorbar\":{\"outlinewidth\":0,\"ticks\":\"\"},\"colorscale\":[[0.0,\"#0d0887\"],[0.1111111111111111,\"#46039f\"],[0.2222222222222222,\"#7201a8\"],[0.3333333333333333,\"#9c179e\"],[0.4444444444444444,\"#bd3786\"],[0.5555555555555556,\"#d8576b\"],[0.6666666666666666,\"#ed7953\"],[0.7777777777777778,\"#fb9f3a\"],[0.8888888888888888,\"#fdca26\"],[1.0,\"#f0f921\"]],\"type\":\"heatmap\"}],\"heatmapgl\":[{\"colorbar\":{\"outlinewidth\":0,\"ticks\":\"\"},\"colorscale\":[[0.0,\"#0d0887\"],[0.1111111111111111,\"#46039f\"],[0.2222222222222222,\"#7201a8\"],[0.3333333333333333,\"#9c179e\"],[0.4444444444444444,\"#bd3786\"],[0.5555555555555556,\"#d8576b\"],[0.6666666666666666,\"#ed7953\"],[0.7777777777777778,\"#fb9f3a\"],[0.8888888888888888,\"#fdca26\"],[1.0,\"#f0f921\"]],\"type\":\"heatmapgl\"}],\"histogram\":[{\"marker\":{\"pattern\":{\"fillmode\":\"overlay\",\"size\":10,\"solidity\":0.2}},\"type\":\"histogram\"}],\"histogram2d\":[{\"colorbar\":{\"outlinewidth\":0,\"ticks\":\"\"},\"colorscale\":[[0.0,\"#0d0887\"],[0.1111111111111111,\"#46039f\"],[0.2222222222222222,\"#7201a8\"],[0.3333333333333333,\"#9c179e\"],[0.4444444444444444,\"#bd3786\"],[0.5555555555555556,\"#d8576b\"],[0.6666666666666666,\"#ed7953\"],[0.7777777777777778,\"#fb9f3a\"],[0.8888888888888888,\"#fdca26\"],[1.0,\"#f0f921\"]],\"type\":\"histogram2d\"}],\"histogram2dcontour\":[{\"colorbar\":{\"outlinewidth\":0,\"ticks\":\"\"},\"colorscale\":[[0.0,\"#0d0887\"],[0.1111111111111111,\"#46039f\"],[0.2222222222222222,\"#7201a8\"],[0.3333333333333333,\"#9c179e\"],[0.4444444444444444,\"#bd3786\"],[0.5555555555555556,\"#d8576b\"],[0.6666666666666666,\"#ed7953\"],[0.7777777777777778,\"#fb9f3a\"],[0.8888888888888888,\"#fdca26\"],[1.0,\"#f0f921\"]],\"type\":\"histogram2dcontour\"}],\"mesh3d\":[{\"colorbar\":{\"outlinewidth\":0,\"ticks\":\"\"},\"type\":\"mesh3d\"}],\"parcoords\":[{\"line\":{\"colorbar\":{\"outlinewidth\":0,\"ticks\":\"\"}},\"type\":\"parcoords\"}],\"pie\":[{\"automargin\":true,\"type\":\"pie\"}],\"scatter\":[{\"marker\":{\"colorbar\":{\"outlinewidth\":0,\"ticks\":\"\"}},\"type\":\"scatter\"}],\"scatter3d\":[{\"line\":{\"colorbar\":{\"outlinewidth\":0,\"ticks\":\"\"}},\"marker\":{\"colorbar\":{\"outlinewidth\":0,\"ticks\":\"\"}},\"type\":\"scatter3d\"}],\"scattercarpet\":[{\"marker\":{\"colorbar\":{\"outlinewidth\":0,\"ticks\":\"\"}},\"type\":\"scattercarpet\"}],\"scattergeo\":[{\"marker\":{\"colorbar\":{\"outlinewidth\":0,\"ticks\":\"\"}},\"type\":\"scattergeo\"}],\"scattergl\":[{\"marker\":{\"colorbar\":{\"outlinewidth\":0,\"ticks\":\"\"}},\"type\":\"scattergl\"}],\"scattermapbox\":[{\"marker\":{\"colorbar\":{\"outlinewidth\":0,\"ticks\":\"\"}},\"type\":\"scattermapbox\"}],\"scatterpolar\":[{\"marker\":{\"colorbar\":{\"outlinewidth\":0,\"ticks\":\"\"}},\"type\":\"scatterpolar\"}],\"scatterpolargl\":[{\"marker\":{\"colorbar\":{\"outlinewidth\":0,\"ticks\":\"\"}},\"type\":\"scatterpolargl\"}],\"scatterternary\":[{\"marker\":{\"colorbar\":{\"outlinewidth\":0,\"ticks\":\"\"}},\"type\":\"scatterternary\"}],\"surface\":[{\"colorbar\":{\"outlinewidth\":0,\"ticks\":\"\"},\"colorscale\":[[0.0,\"#0d0887\"],[0.1111111111111111,\"#46039f\"],[0.2222222222222222,\"#7201a8\"],[0.3333333333333333,\"#9c179e\"],[0.4444444444444444,\"#bd3786\"],[0.5555555555555556,\"#d8576b\"],[0.6666666666666666,\"#ed7953\"],[0.7777777777777778,\"#fb9f3a\"],[0.8888888888888888,\"#fdca26\"],[1.0,\"#f0f921\"]],\"type\":\"surface\"}],\"table\":[{\"cells\":{\"fill\":{\"color\":\"#EBF0F8\"},\"line\":{\"color\":\"white\"}},\"header\":{\"fill\":{\"color\":\"#C8D4E3\"},\"line\":{\"color\":\"white\"}},\"type\":\"table\"}]},\"layout\":{\"annotationdefaults\":{\"arrowcolor\":\"#2a3f5f\",\"arrowhead\":0,\"arrowwidth\":1},\"autotypenumbers\":\"strict\",\"coloraxis\":{\"colorbar\":{\"outlinewidth\":0,\"ticks\":\"\"}},\"colorscale\":{\"diverging\":[[0,\"#8e0152\"],[0.1,\"#c51b7d\"],[0.2,\"#de77ae\"],[0.3,\"#f1b6da\"],[0.4,\"#fde0ef\"],[0.5,\"#f7f7f7\"],[0.6,\"#e6f5d0\"],[0.7,\"#b8e186\"],[0.8,\"#7fbc41\"],[0.9,\"#4d9221\"],[1,\"#276419\"]],\"sequential\":[[0.0,\"#0d0887\"],[0.1111111111111111,\"#46039f\"],[0.2222222222222222,\"#7201a8\"],[0.3333333333333333,\"#9c179e\"],[0.4444444444444444,\"#bd3786\"],[0.5555555555555556,\"#d8576b\"],[0.6666666666666666,\"#ed7953\"],[0.7777777777777778,\"#fb9f3a\"],[0.8888888888888888,\"#fdca26\"],[1.0,\"#f0f921\"]],\"sequentialminus\":[[0.0,\"#0d0887\"],[0.1111111111111111,\"#46039f\"],[0.2222222222222222,\"#7201a8\"],[0.3333333333333333,\"#9c179e\"],[0.4444444444444444,\"#bd3786\"],[0.5555555555555556,\"#d8576b\"],[0.6666666666666666,\"#ed7953\"],[0.7777777777777778,\"#fb9f3a\"],[0.8888888888888888,\"#fdca26\"],[1.0,\"#f0f921\"]]},\"colorway\":[\"#636efa\",\"#EF553B\",\"#00cc96\",\"#ab63fa\",\"#FFA15A\",\"#19d3f3\",\"#FF6692\",\"#B6E880\",\"#FF97FF\",\"#FECB52\"],\"font\":{\"color\":\"#2a3f5f\"},\"geo\":{\"bgcolor\":\"white\",\"lakecolor\":\"white\",\"landcolor\":\"#E5ECF6\",\"showlakes\":true,\"showland\":true,\"subunitcolor\":\"white\"},\"hoverlabel\":{\"align\":\"left\"},\"hovermode\":\"closest\",\"mapbox\":{\"style\":\"light\"},\"paper_bgcolor\":\"white\",\"plot_bgcolor\":\"#E5ECF6\",\"polar\":{\"angularaxis\":{\"gridcolor\":\"white\",\"linecolor\":\"white\",\"ticks\":\"\"},\"bgcolor\":\"#E5ECF6\",\"radialaxis\":{\"gridcolor\":\"white\",\"linecolor\":\"white\",\"ticks\":\"\"}},\"scene\":{\"xaxis\":{\"backgroundcolor\":\"#E5ECF6\",\"gridcolor\":\"white\",\"gridwidth\":2,\"linecolor\":\"white\",\"showbackground\":true,\"ticks\":\"\",\"zerolinecolor\":\"white\"},\"yaxis\":{\"backgroundcolor\":\"#E5ECF6\",\"gridcolor\":\"white\",\"gridwidth\":2,\"linecolor\":\"white\",\"showbackground\":true,\"ticks\":\"\",\"zerolinecolor\":\"white\"},\"zaxis\":{\"backgroundcolor\":\"#E5ECF6\",\"gridcolor\":\"white\",\"gridwidth\":2,\"linecolor\":\"white\",\"showbackground\":true,\"ticks\":\"\",\"zerolinecolor\":\"white\"}},\"shapedefaults\":{\"line\":{\"color\":\"#2a3f5f\"}},\"ternary\":{\"aaxis\":{\"gridcolor\":\"white\",\"linecolor\":\"white\",\"ticks\":\"\"},\"baxis\":{\"gridcolor\":\"white\",\"linecolor\":\"white\",\"ticks\":\"\"},\"bgcolor\":\"#E5ECF6\",\"caxis\":{\"gridcolor\":\"white\",\"linecolor\":\"white\",\"ticks\":\"\"}},\"title\":{\"x\":0.05},\"xaxis\":{\"automargin\":true,\"gridcolor\":\"white\",\"linecolor\":\"white\",\"ticks\":\"\",\"title\":{\"standoff\":15},\"zerolinecolor\":\"white\",\"zerolinewidth\":2},\"yaxis\":{\"automargin\":true,\"gridcolor\":\"white\",\"linecolor\":\"white\",\"ticks\":\"\",\"title\":{\"standoff\":15},\"zerolinecolor\":\"white\",\"zerolinewidth\":2}}}},                        {\"responsive\": true}                    ).then(function(){\n",
       "                            \n",
       "var gd = document.getElementById('2172f769-c642-4887-82d5-8970b3386406');\n",
       "var x = new MutationObserver(function (mutations, observer) {{\n",
       "        var display = window.getComputedStyle(gd).display;\n",
       "        if (!display || display === 'none') {{\n",
       "            console.log([gd, 'removed!']);\n",
       "            Plotly.purge(gd);\n",
       "            observer.disconnect();\n",
       "        }}\n",
       "}});\n",
       "\n",
       "// Listen for the removal of the full notebook cells\n",
       "var notebookContainer = gd.closest('#notebook-container');\n",
       "if (notebookContainer) {{\n",
       "    x.observe(notebookContainer, {childList: true});\n",
       "}}\n",
       "\n",
       "// Listen for the clearing of the current output cell\n",
       "var outputEl = gd.closest('.output');\n",
       "if (outputEl) {{\n",
       "    x.observe(outputEl, {childList: true});\n",
       "}}\n",
       "\n",
       "                        })                };                });            </script>        </div>"
      ]
     },
     "metadata": {},
     "output_type": "display_data"
    },
    {
     "name": "stdout",
     "output_type": "stream",
     "text": [
      "P, Q, D (0, 1, 1)\n"
     ]
    },
    {
     "data": {
      "application/vnd.plotly.v1+json": {
       "config": {
        "plotlyServerURL": "https://plot.ly"
       },
       "data": [
        {
         "error_y": {
          "array": [
           0.194,
           0.2475,
           0.2040833333333333,
           0.2139999999999999,
           0.1913333333333333,
           0.24325,
           0.2327499999999999,
           0.2126666666666666,
           0.1807499999999999,
           0.2364166666666667,
           0.2349166666666666,
           0.20325,
           0.25225,
           0.20875,
           0.2118333333333333,
           0.2258333333333333,
           0.2089166666666666,
           0.249,
           0.2031666666666666,
           0.1945,
           0.25025,
           0.2125833333333333,
           0.21775,
           0.2609166666666667,
           0.23075,
           0.1971666666666666,
           0.2345833333333333,
           0.2329166666666666,
           0.2333333333333334,
           0.238,
           0.2191666666666667,
           0.2579166666666667,
           0.3034166666666666,
           0.28425
          ],
          "type": "data"
         },
         "name": "Actual ESP Avg Yearly Temp",
         "type": "scatter",
         "x": [
          1980,
          1981,
          1982,
          1983,
          1984,
          1985,
          1986,
          1987,
          1988,
          1989,
          1990,
          1991,
          1992,
          1993,
          1994,
          1995,
          1996,
          1997,
          1998,
          1999,
          2000,
          2001,
          2002,
          2003,
          2004,
          2005,
          2006,
          2007,
          2008,
          2009,
          2010,
          2011,
          2012,
          2013
         ],
         "y": [
          13.60425,
          14.27325,
          14.204999999999998,
          14.1945,
          13.365749999999998,
          14.131833333333333,
          13.87625,
          14.460916666666664,
          14.161333333333332,
          15.045916666666663,
          14.762083333333337,
          14.007166666666665,
          13.955249999999998,
          13.500666666666667,
          14.650999999999998,
          15.072166666666666,
          14.151250000000005,
          15.105916666666666,
          14.552,
          14.3665,
          14.46875,
          14.616083333333334,
          14.647916666666667,
          14.996916666666666,
          14.396416666666669,
          14.303583333333334,
          15.105916666666666,
          14.241333333333335,
          14.229500000000002,
          14.968083333333333,
          14.246000000000002,
          15.321083333333334,
          14.58,
          14.858875
         ]
        },
        {
         "name": "Predictions of ESP Avg Yearly Temp",
         "type": "scatter",
         "x": [
          1980,
          1981,
          1982,
          1983,
          1984,
          1985,
          1986,
          1987,
          1988,
          1989,
          1990,
          1991,
          1992,
          1993,
          1994,
          1995,
          1996,
          1997,
          1998,
          1999,
          2000,
          2001,
          2002,
          2003,
          2004,
          2005,
          2006,
          2007,
          2008,
          2009,
          2010,
          2011,
          2012,
          2013
         ],
         "y": [
          13.595139931695238,
          13.588349238099855,
          13.570467158557921,
          13.555140566788621,
          13.505495664362737,
          13.499489726864471,
          13.463003173445324,
          13.460664669676492,
          13.502333106128614,
          13.580763398421091,
          13.631866425305645,
          13.6692120773083,
          13.750474231519123,
          13.741581368837455,
          13.773679991327263,
          13.840410165783886,
          13.849432838887997,
          13.840166098683286,
          13.910541261332938,
          13.962784628144762,
          14.033803857671549,
          14.095006431361076,
          14.14272937708494,
          14.200910076442096,
          14.213856152652767,
          14.284673369827944,
          14.312772520971258,
          14.309832851051281,
          14.331996658495203,
          14.231599419522212,
          14.123608160070644,
          14.094351617335436,
          14.089763288524665,
          14.074255521385753
         ]
        }
       ],
       "layout": {
        "template": {
         "data": {
          "bar": [
           {
            "error_x": {
             "color": "#2a3f5f"
            },
            "error_y": {
             "color": "#2a3f5f"
            },
            "marker": {
             "line": {
              "color": "#E5ECF6",
              "width": 0.5
             },
             "pattern": {
              "fillmode": "overlay",
              "size": 10,
              "solidity": 0.2
             }
            },
            "type": "bar"
           }
          ],
          "barpolar": [
           {
            "marker": {
             "line": {
              "color": "#E5ECF6",
              "width": 0.5
             },
             "pattern": {
              "fillmode": "overlay",
              "size": 10,
              "solidity": 0.2
             }
            },
            "type": "barpolar"
           }
          ],
          "carpet": [
           {
            "aaxis": {
             "endlinecolor": "#2a3f5f",
             "gridcolor": "white",
             "linecolor": "white",
             "minorgridcolor": "white",
             "startlinecolor": "#2a3f5f"
            },
            "baxis": {
             "endlinecolor": "#2a3f5f",
             "gridcolor": "white",
             "linecolor": "white",
             "minorgridcolor": "white",
             "startlinecolor": "#2a3f5f"
            },
            "type": "carpet"
           }
          ],
          "choropleth": [
           {
            "colorbar": {
             "outlinewidth": 0,
             "ticks": ""
            },
            "type": "choropleth"
           }
          ],
          "contour": [
           {
            "colorbar": {
             "outlinewidth": 0,
             "ticks": ""
            },
            "colorscale": [
             [
              0,
              "#0d0887"
             ],
             [
              0.1111111111111111,
              "#46039f"
             ],
             [
              0.2222222222222222,
              "#7201a8"
             ],
             [
              0.3333333333333333,
              "#9c179e"
             ],
             [
              0.4444444444444444,
              "#bd3786"
             ],
             [
              0.5555555555555556,
              "#d8576b"
             ],
             [
              0.6666666666666666,
              "#ed7953"
             ],
             [
              0.7777777777777778,
              "#fb9f3a"
             ],
             [
              0.8888888888888888,
              "#fdca26"
             ],
             [
              1,
              "#f0f921"
             ]
            ],
            "type": "contour"
           }
          ],
          "contourcarpet": [
           {
            "colorbar": {
             "outlinewidth": 0,
             "ticks": ""
            },
            "type": "contourcarpet"
           }
          ],
          "heatmap": [
           {
            "colorbar": {
             "outlinewidth": 0,
             "ticks": ""
            },
            "colorscale": [
             [
              0,
              "#0d0887"
             ],
             [
              0.1111111111111111,
              "#46039f"
             ],
             [
              0.2222222222222222,
              "#7201a8"
             ],
             [
              0.3333333333333333,
              "#9c179e"
             ],
             [
              0.4444444444444444,
              "#bd3786"
             ],
             [
              0.5555555555555556,
              "#d8576b"
             ],
             [
              0.6666666666666666,
              "#ed7953"
             ],
             [
              0.7777777777777778,
              "#fb9f3a"
             ],
             [
              0.8888888888888888,
              "#fdca26"
             ],
             [
              1,
              "#f0f921"
             ]
            ],
            "type": "heatmap"
           }
          ],
          "heatmapgl": [
           {
            "colorbar": {
             "outlinewidth": 0,
             "ticks": ""
            },
            "colorscale": [
             [
              0,
              "#0d0887"
             ],
             [
              0.1111111111111111,
              "#46039f"
             ],
             [
              0.2222222222222222,
              "#7201a8"
             ],
             [
              0.3333333333333333,
              "#9c179e"
             ],
             [
              0.4444444444444444,
              "#bd3786"
             ],
             [
              0.5555555555555556,
              "#d8576b"
             ],
             [
              0.6666666666666666,
              "#ed7953"
             ],
             [
              0.7777777777777778,
              "#fb9f3a"
             ],
             [
              0.8888888888888888,
              "#fdca26"
             ],
             [
              1,
              "#f0f921"
             ]
            ],
            "type": "heatmapgl"
           }
          ],
          "histogram": [
           {
            "marker": {
             "pattern": {
              "fillmode": "overlay",
              "size": 10,
              "solidity": 0.2
             }
            },
            "type": "histogram"
           }
          ],
          "histogram2d": [
           {
            "colorbar": {
             "outlinewidth": 0,
             "ticks": ""
            },
            "colorscale": [
             [
              0,
              "#0d0887"
             ],
             [
              0.1111111111111111,
              "#46039f"
             ],
             [
              0.2222222222222222,
              "#7201a8"
             ],
             [
              0.3333333333333333,
              "#9c179e"
             ],
             [
              0.4444444444444444,
              "#bd3786"
             ],
             [
              0.5555555555555556,
              "#d8576b"
             ],
             [
              0.6666666666666666,
              "#ed7953"
             ],
             [
              0.7777777777777778,
              "#fb9f3a"
             ],
             [
              0.8888888888888888,
              "#fdca26"
             ],
             [
              1,
              "#f0f921"
             ]
            ],
            "type": "histogram2d"
           }
          ],
          "histogram2dcontour": [
           {
            "colorbar": {
             "outlinewidth": 0,
             "ticks": ""
            },
            "colorscale": [
             [
              0,
              "#0d0887"
             ],
             [
              0.1111111111111111,
              "#46039f"
             ],
             [
              0.2222222222222222,
              "#7201a8"
             ],
             [
              0.3333333333333333,
              "#9c179e"
             ],
             [
              0.4444444444444444,
              "#bd3786"
             ],
             [
              0.5555555555555556,
              "#d8576b"
             ],
             [
              0.6666666666666666,
              "#ed7953"
             ],
             [
              0.7777777777777778,
              "#fb9f3a"
             ],
             [
              0.8888888888888888,
              "#fdca26"
             ],
             [
              1,
              "#f0f921"
             ]
            ],
            "type": "histogram2dcontour"
           }
          ],
          "mesh3d": [
           {
            "colorbar": {
             "outlinewidth": 0,
             "ticks": ""
            },
            "type": "mesh3d"
           }
          ],
          "parcoords": [
           {
            "line": {
             "colorbar": {
              "outlinewidth": 0,
              "ticks": ""
             }
            },
            "type": "parcoords"
           }
          ],
          "pie": [
           {
            "automargin": true,
            "type": "pie"
           }
          ],
          "scatter": [
           {
            "marker": {
             "colorbar": {
              "outlinewidth": 0,
              "ticks": ""
             }
            },
            "type": "scatter"
           }
          ],
          "scatter3d": [
           {
            "line": {
             "colorbar": {
              "outlinewidth": 0,
              "ticks": ""
             }
            },
            "marker": {
             "colorbar": {
              "outlinewidth": 0,
              "ticks": ""
             }
            },
            "type": "scatter3d"
           }
          ],
          "scattercarpet": [
           {
            "marker": {
             "colorbar": {
              "outlinewidth": 0,
              "ticks": ""
             }
            },
            "type": "scattercarpet"
           }
          ],
          "scattergeo": [
           {
            "marker": {
             "colorbar": {
              "outlinewidth": 0,
              "ticks": ""
             }
            },
            "type": "scattergeo"
           }
          ],
          "scattergl": [
           {
            "marker": {
             "colorbar": {
              "outlinewidth": 0,
              "ticks": ""
             }
            },
            "type": "scattergl"
           }
          ],
          "scattermapbox": [
           {
            "marker": {
             "colorbar": {
              "outlinewidth": 0,
              "ticks": ""
             }
            },
            "type": "scattermapbox"
           }
          ],
          "scatterpolar": [
           {
            "marker": {
             "colorbar": {
              "outlinewidth": 0,
              "ticks": ""
             }
            },
            "type": "scatterpolar"
           }
          ],
          "scatterpolargl": [
           {
            "marker": {
             "colorbar": {
              "outlinewidth": 0,
              "ticks": ""
             }
            },
            "type": "scatterpolargl"
           }
          ],
          "scatterternary": [
           {
            "marker": {
             "colorbar": {
              "outlinewidth": 0,
              "ticks": ""
             }
            },
            "type": "scatterternary"
           }
          ],
          "surface": [
           {
            "colorbar": {
             "outlinewidth": 0,
             "ticks": ""
            },
            "colorscale": [
             [
              0,
              "#0d0887"
             ],
             [
              0.1111111111111111,
              "#46039f"
             ],
             [
              0.2222222222222222,
              "#7201a8"
             ],
             [
              0.3333333333333333,
              "#9c179e"
             ],
             [
              0.4444444444444444,
              "#bd3786"
             ],
             [
              0.5555555555555556,
              "#d8576b"
             ],
             [
              0.6666666666666666,
              "#ed7953"
             ],
             [
              0.7777777777777778,
              "#fb9f3a"
             ],
             [
              0.8888888888888888,
              "#fdca26"
             ],
             [
              1,
              "#f0f921"
             ]
            ],
            "type": "surface"
           }
          ],
          "table": [
           {
            "cells": {
             "fill": {
              "color": "#EBF0F8"
             },
             "line": {
              "color": "white"
             }
            },
            "header": {
             "fill": {
              "color": "#C8D4E3"
             },
             "line": {
              "color": "white"
             }
            },
            "type": "table"
           }
          ]
         },
         "layout": {
          "annotationdefaults": {
           "arrowcolor": "#2a3f5f",
           "arrowhead": 0,
           "arrowwidth": 1
          },
          "autotypenumbers": "strict",
          "coloraxis": {
           "colorbar": {
            "outlinewidth": 0,
            "ticks": ""
           }
          },
          "colorscale": {
           "diverging": [
            [
             0,
             "#8e0152"
            ],
            [
             0.1,
             "#c51b7d"
            ],
            [
             0.2,
             "#de77ae"
            ],
            [
             0.3,
             "#f1b6da"
            ],
            [
             0.4,
             "#fde0ef"
            ],
            [
             0.5,
             "#f7f7f7"
            ],
            [
             0.6,
             "#e6f5d0"
            ],
            [
             0.7,
             "#b8e186"
            ],
            [
             0.8,
             "#7fbc41"
            ],
            [
             0.9,
             "#4d9221"
            ],
            [
             1,
             "#276419"
            ]
           ],
           "sequential": [
            [
             0,
             "#0d0887"
            ],
            [
             0.1111111111111111,
             "#46039f"
            ],
            [
             0.2222222222222222,
             "#7201a8"
            ],
            [
             0.3333333333333333,
             "#9c179e"
            ],
            [
             0.4444444444444444,
             "#bd3786"
            ],
            [
             0.5555555555555556,
             "#d8576b"
            ],
            [
             0.6666666666666666,
             "#ed7953"
            ],
            [
             0.7777777777777778,
             "#fb9f3a"
            ],
            [
             0.8888888888888888,
             "#fdca26"
            ],
            [
             1,
             "#f0f921"
            ]
           ],
           "sequentialminus": [
            [
             0,
             "#0d0887"
            ],
            [
             0.1111111111111111,
             "#46039f"
            ],
            [
             0.2222222222222222,
             "#7201a8"
            ],
            [
             0.3333333333333333,
             "#9c179e"
            ],
            [
             0.4444444444444444,
             "#bd3786"
            ],
            [
             0.5555555555555556,
             "#d8576b"
            ],
            [
             0.6666666666666666,
             "#ed7953"
            ],
            [
             0.7777777777777778,
             "#fb9f3a"
            ],
            [
             0.8888888888888888,
             "#fdca26"
            ],
            [
             1,
             "#f0f921"
            ]
           ]
          },
          "colorway": [
           "#636efa",
           "#EF553B",
           "#00cc96",
           "#ab63fa",
           "#FFA15A",
           "#19d3f3",
           "#FF6692",
           "#B6E880",
           "#FF97FF",
           "#FECB52"
          ],
          "font": {
           "color": "#2a3f5f"
          },
          "geo": {
           "bgcolor": "white",
           "lakecolor": "white",
           "landcolor": "#E5ECF6",
           "showlakes": true,
           "showland": true,
           "subunitcolor": "white"
          },
          "hoverlabel": {
           "align": "left"
          },
          "hovermode": "closest",
          "mapbox": {
           "style": "light"
          },
          "paper_bgcolor": "white",
          "plot_bgcolor": "#E5ECF6",
          "polar": {
           "angularaxis": {
            "gridcolor": "white",
            "linecolor": "white",
            "ticks": ""
           },
           "bgcolor": "#E5ECF6",
           "radialaxis": {
            "gridcolor": "white",
            "linecolor": "white",
            "ticks": ""
           }
          },
          "scene": {
           "xaxis": {
            "backgroundcolor": "#E5ECF6",
            "gridcolor": "white",
            "gridwidth": 2,
            "linecolor": "white",
            "showbackground": true,
            "ticks": "",
            "zerolinecolor": "white"
           },
           "yaxis": {
            "backgroundcolor": "#E5ECF6",
            "gridcolor": "white",
            "gridwidth": 2,
            "linecolor": "white",
            "showbackground": true,
            "ticks": "",
            "zerolinecolor": "white"
           },
           "zaxis": {
            "backgroundcolor": "#E5ECF6",
            "gridcolor": "white",
            "gridwidth": 2,
            "linecolor": "white",
            "showbackground": true,
            "ticks": "",
            "zerolinecolor": "white"
           }
          },
          "shapedefaults": {
           "line": {
            "color": "#2a3f5f"
           }
          },
          "ternary": {
           "aaxis": {
            "gridcolor": "white",
            "linecolor": "white",
            "ticks": ""
           },
           "baxis": {
            "gridcolor": "white",
            "linecolor": "white",
            "ticks": ""
           },
           "bgcolor": "#E5ECF6",
           "caxis": {
            "gridcolor": "white",
            "linecolor": "white",
            "ticks": ""
           }
          },
          "title": {
           "x": 0.05
          },
          "xaxis": {
           "automargin": true,
           "gridcolor": "white",
           "linecolor": "white",
           "ticks": "",
           "title": {
            "standoff": 15
           },
           "zerolinecolor": "white",
           "zerolinewidth": 2
          },
          "yaxis": {
           "automargin": true,
           "gridcolor": "white",
           "linecolor": "white",
           "ticks": "",
           "title": {
            "standoff": 15
           },
           "zerolinecolor": "white",
           "zerolinewidth": 2
          }
         }
        },
        "xaxis": {
         "title": {
          "text": "Year"
         }
        },
        "yaxis": {
         "title": {
          "text": "Temperature"
         }
        }
       }
      },
      "text/html": [
       "<div>                            <div id=\"d733b7ce-f58d-4b8e-85e9-e21651ee02b0\" class=\"plotly-graph-div\" style=\"height:525px; width:100%;\"></div>            <script type=\"text/javascript\">                require([\"plotly\"], function(Plotly) {                    window.PLOTLYENV=window.PLOTLYENV || {};                                    if (document.getElementById(\"d733b7ce-f58d-4b8e-85e9-e21651ee02b0\")) {                    Plotly.newPlot(                        \"d733b7ce-f58d-4b8e-85e9-e21651ee02b0\",                        [{\"error_y\":{\"array\":[0.194,0.2475,0.2040833333333333,0.2139999999999999,0.1913333333333333,0.24325,0.2327499999999999,0.2126666666666666,0.1807499999999999,0.2364166666666667,0.2349166666666666,0.20325,0.25225,0.20875,0.2118333333333333,0.2258333333333333,0.2089166666666666,0.249,0.2031666666666666,0.1945,0.25025,0.2125833333333333,0.21775,0.2609166666666667,0.23075,0.1971666666666666,0.2345833333333333,0.2329166666666666,0.2333333333333334,0.238,0.2191666666666667,0.2579166666666667,0.3034166666666666,0.28425],\"type\":\"data\"},\"name\":\"Actual ESP Avg Yearly Temp\",\"x\":[1980,1981,1982,1983,1984,1985,1986,1987,1988,1989,1990,1991,1992,1993,1994,1995,1996,1997,1998,1999,2000,2001,2002,2003,2004,2005,2006,2007,2008,2009,2010,2011,2012,2013],\"y\":[13.60425,14.27325,14.204999999999998,14.1945,13.365749999999998,14.131833333333333,13.87625,14.460916666666664,14.161333333333332,15.045916666666663,14.762083333333337,14.007166666666665,13.955249999999998,13.500666666666667,14.650999999999998,15.072166666666666,14.151250000000005,15.105916666666666,14.552,14.3665,14.46875,14.616083333333334,14.647916666666667,14.996916666666666,14.396416666666669,14.303583333333334,15.105916666666666,14.241333333333335,14.229500000000002,14.968083333333333,14.246000000000002,15.321083333333334,14.58,14.858875],\"type\":\"scatter\"},{\"name\":\"Predictions of ESP Avg Yearly Temp\",\"x\":[1980,1981,1982,1983,1984,1985,1986,1987,1988,1989,1990,1991,1992,1993,1994,1995,1996,1997,1998,1999,2000,2001,2002,2003,2004,2005,2006,2007,2008,2009,2010,2011,2012,2013],\"y\":[13.595139931695238,13.588349238099855,13.570467158557921,13.555140566788621,13.505495664362737,13.499489726864471,13.463003173445324,13.460664669676492,13.502333106128614,13.580763398421091,13.631866425305645,13.6692120773083,13.750474231519123,13.741581368837455,13.773679991327263,13.840410165783886,13.849432838887997,13.840166098683286,13.910541261332938,13.962784628144762,14.033803857671549,14.095006431361076,14.14272937708494,14.200910076442096,14.213856152652767,14.284673369827944,14.312772520971258,14.309832851051281,14.331996658495203,14.231599419522212,14.123608160070644,14.094351617335436,14.089763288524665,14.074255521385753],\"type\":\"scatter\"}],                        {\"xaxis\":{\"title\":{\"text\":\"Year\"}},\"yaxis\":{\"title\":{\"text\":\"Temperature\"}},\"template\":{\"data\":{\"bar\":[{\"error_x\":{\"color\":\"#2a3f5f\"},\"error_y\":{\"color\":\"#2a3f5f\"},\"marker\":{\"line\":{\"color\":\"#E5ECF6\",\"width\":0.5},\"pattern\":{\"fillmode\":\"overlay\",\"size\":10,\"solidity\":0.2}},\"type\":\"bar\"}],\"barpolar\":[{\"marker\":{\"line\":{\"color\":\"#E5ECF6\",\"width\":0.5},\"pattern\":{\"fillmode\":\"overlay\",\"size\":10,\"solidity\":0.2}},\"type\":\"barpolar\"}],\"carpet\":[{\"aaxis\":{\"endlinecolor\":\"#2a3f5f\",\"gridcolor\":\"white\",\"linecolor\":\"white\",\"minorgridcolor\":\"white\",\"startlinecolor\":\"#2a3f5f\"},\"baxis\":{\"endlinecolor\":\"#2a3f5f\",\"gridcolor\":\"white\",\"linecolor\":\"white\",\"minorgridcolor\":\"white\",\"startlinecolor\":\"#2a3f5f\"},\"type\":\"carpet\"}],\"choropleth\":[{\"colorbar\":{\"outlinewidth\":0,\"ticks\":\"\"},\"type\":\"choropleth\"}],\"contour\":[{\"colorbar\":{\"outlinewidth\":0,\"ticks\":\"\"},\"colorscale\":[[0.0,\"#0d0887\"],[0.1111111111111111,\"#46039f\"],[0.2222222222222222,\"#7201a8\"],[0.3333333333333333,\"#9c179e\"],[0.4444444444444444,\"#bd3786\"],[0.5555555555555556,\"#d8576b\"],[0.6666666666666666,\"#ed7953\"],[0.7777777777777778,\"#fb9f3a\"],[0.8888888888888888,\"#fdca26\"],[1.0,\"#f0f921\"]],\"type\":\"contour\"}],\"contourcarpet\":[{\"colorbar\":{\"outlinewidth\":0,\"ticks\":\"\"},\"type\":\"contourcarpet\"}],\"heatmap\":[{\"colorbar\":{\"outlinewidth\":0,\"ticks\":\"\"},\"colorscale\":[[0.0,\"#0d0887\"],[0.1111111111111111,\"#46039f\"],[0.2222222222222222,\"#7201a8\"],[0.3333333333333333,\"#9c179e\"],[0.4444444444444444,\"#bd3786\"],[0.5555555555555556,\"#d8576b\"],[0.6666666666666666,\"#ed7953\"],[0.7777777777777778,\"#fb9f3a\"],[0.8888888888888888,\"#fdca26\"],[1.0,\"#f0f921\"]],\"type\":\"heatmap\"}],\"heatmapgl\":[{\"colorbar\":{\"outlinewidth\":0,\"ticks\":\"\"},\"colorscale\":[[0.0,\"#0d0887\"],[0.1111111111111111,\"#46039f\"],[0.2222222222222222,\"#7201a8\"],[0.3333333333333333,\"#9c179e\"],[0.4444444444444444,\"#bd3786\"],[0.5555555555555556,\"#d8576b\"],[0.6666666666666666,\"#ed7953\"],[0.7777777777777778,\"#fb9f3a\"],[0.8888888888888888,\"#fdca26\"],[1.0,\"#f0f921\"]],\"type\":\"heatmapgl\"}],\"histogram\":[{\"marker\":{\"pattern\":{\"fillmode\":\"overlay\",\"size\":10,\"solidity\":0.2}},\"type\":\"histogram\"}],\"histogram2d\":[{\"colorbar\":{\"outlinewidth\":0,\"ticks\":\"\"},\"colorscale\":[[0.0,\"#0d0887\"],[0.1111111111111111,\"#46039f\"],[0.2222222222222222,\"#7201a8\"],[0.3333333333333333,\"#9c179e\"],[0.4444444444444444,\"#bd3786\"],[0.5555555555555556,\"#d8576b\"],[0.6666666666666666,\"#ed7953\"],[0.7777777777777778,\"#fb9f3a\"],[0.8888888888888888,\"#fdca26\"],[1.0,\"#f0f921\"]],\"type\":\"histogram2d\"}],\"histogram2dcontour\":[{\"colorbar\":{\"outlinewidth\":0,\"ticks\":\"\"},\"colorscale\":[[0.0,\"#0d0887\"],[0.1111111111111111,\"#46039f\"],[0.2222222222222222,\"#7201a8\"],[0.3333333333333333,\"#9c179e\"],[0.4444444444444444,\"#bd3786\"],[0.5555555555555556,\"#d8576b\"],[0.6666666666666666,\"#ed7953\"],[0.7777777777777778,\"#fb9f3a\"],[0.8888888888888888,\"#fdca26\"],[1.0,\"#f0f921\"]],\"type\":\"histogram2dcontour\"}],\"mesh3d\":[{\"colorbar\":{\"outlinewidth\":0,\"ticks\":\"\"},\"type\":\"mesh3d\"}],\"parcoords\":[{\"line\":{\"colorbar\":{\"outlinewidth\":0,\"ticks\":\"\"}},\"type\":\"parcoords\"}],\"pie\":[{\"automargin\":true,\"type\":\"pie\"}],\"scatter\":[{\"marker\":{\"colorbar\":{\"outlinewidth\":0,\"ticks\":\"\"}},\"type\":\"scatter\"}],\"scatter3d\":[{\"line\":{\"colorbar\":{\"outlinewidth\":0,\"ticks\":\"\"}},\"marker\":{\"colorbar\":{\"outlinewidth\":0,\"ticks\":\"\"}},\"type\":\"scatter3d\"}],\"scattercarpet\":[{\"marker\":{\"colorbar\":{\"outlinewidth\":0,\"ticks\":\"\"}},\"type\":\"scattercarpet\"}],\"scattergeo\":[{\"marker\":{\"colorbar\":{\"outlinewidth\":0,\"ticks\":\"\"}},\"type\":\"scattergeo\"}],\"scattergl\":[{\"marker\":{\"colorbar\":{\"outlinewidth\":0,\"ticks\":\"\"}},\"type\":\"scattergl\"}],\"scattermapbox\":[{\"marker\":{\"colorbar\":{\"outlinewidth\":0,\"ticks\":\"\"}},\"type\":\"scattermapbox\"}],\"scatterpolar\":[{\"marker\":{\"colorbar\":{\"outlinewidth\":0,\"ticks\":\"\"}},\"type\":\"scatterpolar\"}],\"scatterpolargl\":[{\"marker\":{\"colorbar\":{\"outlinewidth\":0,\"ticks\":\"\"}},\"type\":\"scatterpolargl\"}],\"scatterternary\":[{\"marker\":{\"colorbar\":{\"outlinewidth\":0,\"ticks\":\"\"}},\"type\":\"scatterternary\"}],\"surface\":[{\"colorbar\":{\"outlinewidth\":0,\"ticks\":\"\"},\"colorscale\":[[0.0,\"#0d0887\"],[0.1111111111111111,\"#46039f\"],[0.2222222222222222,\"#7201a8\"],[0.3333333333333333,\"#9c179e\"],[0.4444444444444444,\"#bd3786\"],[0.5555555555555556,\"#d8576b\"],[0.6666666666666666,\"#ed7953\"],[0.7777777777777778,\"#fb9f3a\"],[0.8888888888888888,\"#fdca26\"],[1.0,\"#f0f921\"]],\"type\":\"surface\"}],\"table\":[{\"cells\":{\"fill\":{\"color\":\"#EBF0F8\"},\"line\":{\"color\":\"white\"}},\"header\":{\"fill\":{\"color\":\"#C8D4E3\"},\"line\":{\"color\":\"white\"}},\"type\":\"table\"}]},\"layout\":{\"annotationdefaults\":{\"arrowcolor\":\"#2a3f5f\",\"arrowhead\":0,\"arrowwidth\":1},\"autotypenumbers\":\"strict\",\"coloraxis\":{\"colorbar\":{\"outlinewidth\":0,\"ticks\":\"\"}},\"colorscale\":{\"diverging\":[[0,\"#8e0152\"],[0.1,\"#c51b7d\"],[0.2,\"#de77ae\"],[0.3,\"#f1b6da\"],[0.4,\"#fde0ef\"],[0.5,\"#f7f7f7\"],[0.6,\"#e6f5d0\"],[0.7,\"#b8e186\"],[0.8,\"#7fbc41\"],[0.9,\"#4d9221\"],[1,\"#276419\"]],\"sequential\":[[0.0,\"#0d0887\"],[0.1111111111111111,\"#46039f\"],[0.2222222222222222,\"#7201a8\"],[0.3333333333333333,\"#9c179e\"],[0.4444444444444444,\"#bd3786\"],[0.5555555555555556,\"#d8576b\"],[0.6666666666666666,\"#ed7953\"],[0.7777777777777778,\"#fb9f3a\"],[0.8888888888888888,\"#fdca26\"],[1.0,\"#f0f921\"]],\"sequentialminus\":[[0.0,\"#0d0887\"],[0.1111111111111111,\"#46039f\"],[0.2222222222222222,\"#7201a8\"],[0.3333333333333333,\"#9c179e\"],[0.4444444444444444,\"#bd3786\"],[0.5555555555555556,\"#d8576b\"],[0.6666666666666666,\"#ed7953\"],[0.7777777777777778,\"#fb9f3a\"],[0.8888888888888888,\"#fdca26\"],[1.0,\"#f0f921\"]]},\"colorway\":[\"#636efa\",\"#EF553B\",\"#00cc96\",\"#ab63fa\",\"#FFA15A\",\"#19d3f3\",\"#FF6692\",\"#B6E880\",\"#FF97FF\",\"#FECB52\"],\"font\":{\"color\":\"#2a3f5f\"},\"geo\":{\"bgcolor\":\"white\",\"lakecolor\":\"white\",\"landcolor\":\"#E5ECF6\",\"showlakes\":true,\"showland\":true,\"subunitcolor\":\"white\"},\"hoverlabel\":{\"align\":\"left\"},\"hovermode\":\"closest\",\"mapbox\":{\"style\":\"light\"},\"paper_bgcolor\":\"white\",\"plot_bgcolor\":\"#E5ECF6\",\"polar\":{\"angularaxis\":{\"gridcolor\":\"white\",\"linecolor\":\"white\",\"ticks\":\"\"},\"bgcolor\":\"#E5ECF6\",\"radialaxis\":{\"gridcolor\":\"white\",\"linecolor\":\"white\",\"ticks\":\"\"}},\"scene\":{\"xaxis\":{\"backgroundcolor\":\"#E5ECF6\",\"gridcolor\":\"white\",\"gridwidth\":2,\"linecolor\":\"white\",\"showbackground\":true,\"ticks\":\"\",\"zerolinecolor\":\"white\"},\"yaxis\":{\"backgroundcolor\":\"#E5ECF6\",\"gridcolor\":\"white\",\"gridwidth\":2,\"linecolor\":\"white\",\"showbackground\":true,\"ticks\":\"\",\"zerolinecolor\":\"white\"},\"zaxis\":{\"backgroundcolor\":\"#E5ECF6\",\"gridcolor\":\"white\",\"gridwidth\":2,\"linecolor\":\"white\",\"showbackground\":true,\"ticks\":\"\",\"zerolinecolor\":\"white\"}},\"shapedefaults\":{\"line\":{\"color\":\"#2a3f5f\"}},\"ternary\":{\"aaxis\":{\"gridcolor\":\"white\",\"linecolor\":\"white\",\"ticks\":\"\"},\"baxis\":{\"gridcolor\":\"white\",\"linecolor\":\"white\",\"ticks\":\"\"},\"bgcolor\":\"#E5ECF6\",\"caxis\":{\"gridcolor\":\"white\",\"linecolor\":\"white\",\"ticks\":\"\"}},\"title\":{\"x\":0.05},\"xaxis\":{\"automargin\":true,\"gridcolor\":\"white\",\"linecolor\":\"white\",\"ticks\":\"\",\"title\":{\"standoff\":15},\"zerolinecolor\":\"white\",\"zerolinewidth\":2},\"yaxis\":{\"automargin\":true,\"gridcolor\":\"white\",\"linecolor\":\"white\",\"ticks\":\"\",\"title\":{\"standoff\":15},\"zerolinecolor\":\"white\",\"zerolinewidth\":2}}}},                        {\"responsive\": true}                    ).then(function(){\n",
       "                            \n",
       "var gd = document.getElementById('d733b7ce-f58d-4b8e-85e9-e21651ee02b0');\n",
       "var x = new MutationObserver(function (mutations, observer) {{\n",
       "        var display = window.getComputedStyle(gd).display;\n",
       "        if (!display || display === 'none') {{\n",
       "            console.log([gd, 'removed!']);\n",
       "            Plotly.purge(gd);\n",
       "            observer.disconnect();\n",
       "        }}\n",
       "}});\n",
       "\n",
       "// Listen for the removal of the full notebook cells\n",
       "var notebookContainer = gd.closest('#notebook-container');\n",
       "if (notebookContainer) {{\n",
       "    x.observe(notebookContainer, {childList: true});\n",
       "}}\n",
       "\n",
       "// Listen for the clearing of the current output cell\n",
       "var outputEl = gd.closest('.output');\n",
       "if (outputEl) {{\n",
       "    x.observe(outputEl, {childList: true});\n",
       "}}\n",
       "\n",
       "                        })                };                });            </script>        </div>"
      ]
     },
     "metadata": {},
     "output_type": "display_data"
    },
    {
     "name": "stdout",
     "output_type": "stream",
     "text": [
      "P, Q, D (3, 2, 2)\n"
     ]
    },
    {
     "data": {
      "application/vnd.plotly.v1+json": {
       "config": {
        "plotlyServerURL": "https://plot.ly"
       },
       "data": [
        {
         "error_y": {
          "array": [
           0.2151666666666667,
           0.2184166666666667,
           0.1899166666666666,
           0.1779999999999999,
           0.18925,
           0.2143333333333333,
           0.2204166666666666,
           0.2003333333333333,
           0.167,
           0.2182499999999999,
           0.2363333333333332,
           0.18575,
           0.2160833333333333,
           0.21525,
           0.2319166666666666,
           0.1885833333333333,
           0.1850833333333333,
           0.2230833333333333,
           0.1646666666666666,
           0.1710833333333333,
           0.20025,
           0.2025833333333333,
           0.19375,
           0.2565,
           0.1989999999999999,
           0.1815833333333333,
           0.2188333333333333,
           0.1759166666666667,
           0.1780833333333333,
           0.165,
           0.2068333333333333,
           0.2133333333333333,
           0.2709166666666667,
           0.2935
          ],
          "type": "data"
         },
         "name": "Actual IND Avg Yearly Temp",
         "type": "scatter",
         "x": [
          1980,
          1981,
          1982,
          1983,
          1984,
          1985,
          1986,
          1987,
          1988,
          1989,
          1990,
          1991,
          1992,
          1993,
          1994,
          1995,
          1996,
          1997,
          1998,
          1999,
          2000,
          2001,
          2002,
          2003,
          2004,
          2005,
          2006,
          2007,
          2008,
          2009,
          2010,
          2011,
          2012,
          2013
         ],
         "y": [
          24.59308333333333,
          24.22841666666667,
          24.21825,
          23.938,
          24.18508333333334,
          24.48633333333333,
          24.294500000000003,
          24.789083333333338,
          24.72775,
          24.162333333333333,
          24.17816666666667,
          24.31175,
          24.222916666666663,
          24.408666666666672,
          24.29641666666667,
          24.429749999999995,
          24.436916666666672,
          24.04733333333333,
          24.755416666666665,
          24.65983333333333,
          24.498,
          24.581916666666668,
          24.913,
          24.649916666666662,
          24.63458333333333,
          24.49541666666667,
          24.73208333333333,
          24.649916666666662,
          24.40600000000001,
          25.146666666666658,
          25.05083333333333,
          24.41558333333333,
          24.640833333333337,
          25.41325
         ]
        },
        {
         "name": "Predictions of IND Avg Yearly Temp",
         "type": "scatter",
         "x": [
          1980,
          1981,
          1982,
          1983,
          1984,
          1985,
          1986,
          1987,
          1988,
          1989,
          1990,
          1991,
          1992,
          1993,
          1994,
          1995,
          1996,
          1997,
          1998,
          1999,
          2000,
          2001,
          2002,
          2003,
          2004,
          2005,
          2006,
          2007,
          2008,
          2009,
          2010,
          2011,
          2012,
          2013
         ],
         "y": [
          24.395877361770857,
          24.34629881081059,
          24.584388801697067,
          24.405919223455143,
          24.6829956374967,
          24.330092319985358,
          24.530266314262775,
          24.589885193917734,
          24.55964911112897,
          24.460734152440825,
          24.739589388791273,
          24.845921065390485,
          24.90095175778967,
          25.282732315723557,
          25.1015590822416,
          25.089442408511363,
          24.88956798030914,
          25.515165952765102,
          25.835782975636267,
          25.03791881728263,
          25.875291009775335,
          26.16972773274411,
          25.95913613341528,
          25.92053499247594,
          25.538922554486273,
          25.75946047719322,
          25.66177432878729,
          25.41396469516959,
          25.503360761123687,
          25.08572947319155,
          26.610600146441648,
          26.141591274407517,
          25.114463556459437,
          27.171371373420637
         ]
        }
       ],
       "layout": {
        "template": {
         "data": {
          "bar": [
           {
            "error_x": {
             "color": "#2a3f5f"
            },
            "error_y": {
             "color": "#2a3f5f"
            },
            "marker": {
             "line": {
              "color": "#E5ECF6",
              "width": 0.5
             },
             "pattern": {
              "fillmode": "overlay",
              "size": 10,
              "solidity": 0.2
             }
            },
            "type": "bar"
           }
          ],
          "barpolar": [
           {
            "marker": {
             "line": {
              "color": "#E5ECF6",
              "width": 0.5
             },
             "pattern": {
              "fillmode": "overlay",
              "size": 10,
              "solidity": 0.2
             }
            },
            "type": "barpolar"
           }
          ],
          "carpet": [
           {
            "aaxis": {
             "endlinecolor": "#2a3f5f",
             "gridcolor": "white",
             "linecolor": "white",
             "minorgridcolor": "white",
             "startlinecolor": "#2a3f5f"
            },
            "baxis": {
             "endlinecolor": "#2a3f5f",
             "gridcolor": "white",
             "linecolor": "white",
             "minorgridcolor": "white",
             "startlinecolor": "#2a3f5f"
            },
            "type": "carpet"
           }
          ],
          "choropleth": [
           {
            "colorbar": {
             "outlinewidth": 0,
             "ticks": ""
            },
            "type": "choropleth"
           }
          ],
          "contour": [
           {
            "colorbar": {
             "outlinewidth": 0,
             "ticks": ""
            },
            "colorscale": [
             [
              0,
              "#0d0887"
             ],
             [
              0.1111111111111111,
              "#46039f"
             ],
             [
              0.2222222222222222,
              "#7201a8"
             ],
             [
              0.3333333333333333,
              "#9c179e"
             ],
             [
              0.4444444444444444,
              "#bd3786"
             ],
             [
              0.5555555555555556,
              "#d8576b"
             ],
             [
              0.6666666666666666,
              "#ed7953"
             ],
             [
              0.7777777777777778,
              "#fb9f3a"
             ],
             [
              0.8888888888888888,
              "#fdca26"
             ],
             [
              1,
              "#f0f921"
             ]
            ],
            "type": "contour"
           }
          ],
          "contourcarpet": [
           {
            "colorbar": {
             "outlinewidth": 0,
             "ticks": ""
            },
            "type": "contourcarpet"
           }
          ],
          "heatmap": [
           {
            "colorbar": {
             "outlinewidth": 0,
             "ticks": ""
            },
            "colorscale": [
             [
              0,
              "#0d0887"
             ],
             [
              0.1111111111111111,
              "#46039f"
             ],
             [
              0.2222222222222222,
              "#7201a8"
             ],
             [
              0.3333333333333333,
              "#9c179e"
             ],
             [
              0.4444444444444444,
              "#bd3786"
             ],
             [
              0.5555555555555556,
              "#d8576b"
             ],
             [
              0.6666666666666666,
              "#ed7953"
             ],
             [
              0.7777777777777778,
              "#fb9f3a"
             ],
             [
              0.8888888888888888,
              "#fdca26"
             ],
             [
              1,
              "#f0f921"
             ]
            ],
            "type": "heatmap"
           }
          ],
          "heatmapgl": [
           {
            "colorbar": {
             "outlinewidth": 0,
             "ticks": ""
            },
            "colorscale": [
             [
              0,
              "#0d0887"
             ],
             [
              0.1111111111111111,
              "#46039f"
             ],
             [
              0.2222222222222222,
              "#7201a8"
             ],
             [
              0.3333333333333333,
              "#9c179e"
             ],
             [
              0.4444444444444444,
              "#bd3786"
             ],
             [
              0.5555555555555556,
              "#d8576b"
             ],
             [
              0.6666666666666666,
              "#ed7953"
             ],
             [
              0.7777777777777778,
              "#fb9f3a"
             ],
             [
              0.8888888888888888,
              "#fdca26"
             ],
             [
              1,
              "#f0f921"
             ]
            ],
            "type": "heatmapgl"
           }
          ],
          "histogram": [
           {
            "marker": {
             "pattern": {
              "fillmode": "overlay",
              "size": 10,
              "solidity": 0.2
             }
            },
            "type": "histogram"
           }
          ],
          "histogram2d": [
           {
            "colorbar": {
             "outlinewidth": 0,
             "ticks": ""
            },
            "colorscale": [
             [
              0,
              "#0d0887"
             ],
             [
              0.1111111111111111,
              "#46039f"
             ],
             [
              0.2222222222222222,
              "#7201a8"
             ],
             [
              0.3333333333333333,
              "#9c179e"
             ],
             [
              0.4444444444444444,
              "#bd3786"
             ],
             [
              0.5555555555555556,
              "#d8576b"
             ],
             [
              0.6666666666666666,
              "#ed7953"
             ],
             [
              0.7777777777777778,
              "#fb9f3a"
             ],
             [
              0.8888888888888888,
              "#fdca26"
             ],
             [
              1,
              "#f0f921"
             ]
            ],
            "type": "histogram2d"
           }
          ],
          "histogram2dcontour": [
           {
            "colorbar": {
             "outlinewidth": 0,
             "ticks": ""
            },
            "colorscale": [
             [
              0,
              "#0d0887"
             ],
             [
              0.1111111111111111,
              "#46039f"
             ],
             [
              0.2222222222222222,
              "#7201a8"
             ],
             [
              0.3333333333333333,
              "#9c179e"
             ],
             [
              0.4444444444444444,
              "#bd3786"
             ],
             [
              0.5555555555555556,
              "#d8576b"
             ],
             [
              0.6666666666666666,
              "#ed7953"
             ],
             [
              0.7777777777777778,
              "#fb9f3a"
             ],
             [
              0.8888888888888888,
              "#fdca26"
             ],
             [
              1,
              "#f0f921"
             ]
            ],
            "type": "histogram2dcontour"
           }
          ],
          "mesh3d": [
           {
            "colorbar": {
             "outlinewidth": 0,
             "ticks": ""
            },
            "type": "mesh3d"
           }
          ],
          "parcoords": [
           {
            "line": {
             "colorbar": {
              "outlinewidth": 0,
              "ticks": ""
             }
            },
            "type": "parcoords"
           }
          ],
          "pie": [
           {
            "automargin": true,
            "type": "pie"
           }
          ],
          "scatter": [
           {
            "marker": {
             "colorbar": {
              "outlinewidth": 0,
              "ticks": ""
             }
            },
            "type": "scatter"
           }
          ],
          "scatter3d": [
           {
            "line": {
             "colorbar": {
              "outlinewidth": 0,
              "ticks": ""
             }
            },
            "marker": {
             "colorbar": {
              "outlinewidth": 0,
              "ticks": ""
             }
            },
            "type": "scatter3d"
           }
          ],
          "scattercarpet": [
           {
            "marker": {
             "colorbar": {
              "outlinewidth": 0,
              "ticks": ""
             }
            },
            "type": "scattercarpet"
           }
          ],
          "scattergeo": [
           {
            "marker": {
             "colorbar": {
              "outlinewidth": 0,
              "ticks": ""
             }
            },
            "type": "scattergeo"
           }
          ],
          "scattergl": [
           {
            "marker": {
             "colorbar": {
              "outlinewidth": 0,
              "ticks": ""
             }
            },
            "type": "scattergl"
           }
          ],
          "scattermapbox": [
           {
            "marker": {
             "colorbar": {
              "outlinewidth": 0,
              "ticks": ""
             }
            },
            "type": "scattermapbox"
           }
          ],
          "scatterpolar": [
           {
            "marker": {
             "colorbar": {
              "outlinewidth": 0,
              "ticks": ""
             }
            },
            "type": "scatterpolar"
           }
          ],
          "scatterpolargl": [
           {
            "marker": {
             "colorbar": {
              "outlinewidth": 0,
              "ticks": ""
             }
            },
            "type": "scatterpolargl"
           }
          ],
          "scatterternary": [
           {
            "marker": {
             "colorbar": {
              "outlinewidth": 0,
              "ticks": ""
             }
            },
            "type": "scatterternary"
           }
          ],
          "surface": [
           {
            "colorbar": {
             "outlinewidth": 0,
             "ticks": ""
            },
            "colorscale": [
             [
              0,
              "#0d0887"
             ],
             [
              0.1111111111111111,
              "#46039f"
             ],
             [
              0.2222222222222222,
              "#7201a8"
             ],
             [
              0.3333333333333333,
              "#9c179e"
             ],
             [
              0.4444444444444444,
              "#bd3786"
             ],
             [
              0.5555555555555556,
              "#d8576b"
             ],
             [
              0.6666666666666666,
              "#ed7953"
             ],
             [
              0.7777777777777778,
              "#fb9f3a"
             ],
             [
              0.8888888888888888,
              "#fdca26"
             ],
             [
              1,
              "#f0f921"
             ]
            ],
            "type": "surface"
           }
          ],
          "table": [
           {
            "cells": {
             "fill": {
              "color": "#EBF0F8"
             },
             "line": {
              "color": "white"
             }
            },
            "header": {
             "fill": {
              "color": "#C8D4E3"
             },
             "line": {
              "color": "white"
             }
            },
            "type": "table"
           }
          ]
         },
         "layout": {
          "annotationdefaults": {
           "arrowcolor": "#2a3f5f",
           "arrowhead": 0,
           "arrowwidth": 1
          },
          "autotypenumbers": "strict",
          "coloraxis": {
           "colorbar": {
            "outlinewidth": 0,
            "ticks": ""
           }
          },
          "colorscale": {
           "diverging": [
            [
             0,
             "#8e0152"
            ],
            [
             0.1,
             "#c51b7d"
            ],
            [
             0.2,
             "#de77ae"
            ],
            [
             0.3,
             "#f1b6da"
            ],
            [
             0.4,
             "#fde0ef"
            ],
            [
             0.5,
             "#f7f7f7"
            ],
            [
             0.6,
             "#e6f5d0"
            ],
            [
             0.7,
             "#b8e186"
            ],
            [
             0.8,
             "#7fbc41"
            ],
            [
             0.9,
             "#4d9221"
            ],
            [
             1,
             "#276419"
            ]
           ],
           "sequential": [
            [
             0,
             "#0d0887"
            ],
            [
             0.1111111111111111,
             "#46039f"
            ],
            [
             0.2222222222222222,
             "#7201a8"
            ],
            [
             0.3333333333333333,
             "#9c179e"
            ],
            [
             0.4444444444444444,
             "#bd3786"
            ],
            [
             0.5555555555555556,
             "#d8576b"
            ],
            [
             0.6666666666666666,
             "#ed7953"
            ],
            [
             0.7777777777777778,
             "#fb9f3a"
            ],
            [
             0.8888888888888888,
             "#fdca26"
            ],
            [
             1,
             "#f0f921"
            ]
           ],
           "sequentialminus": [
            [
             0,
             "#0d0887"
            ],
            [
             0.1111111111111111,
             "#46039f"
            ],
            [
             0.2222222222222222,
             "#7201a8"
            ],
            [
             0.3333333333333333,
             "#9c179e"
            ],
            [
             0.4444444444444444,
             "#bd3786"
            ],
            [
             0.5555555555555556,
             "#d8576b"
            ],
            [
             0.6666666666666666,
             "#ed7953"
            ],
            [
             0.7777777777777778,
             "#fb9f3a"
            ],
            [
             0.8888888888888888,
             "#fdca26"
            ],
            [
             1,
             "#f0f921"
            ]
           ]
          },
          "colorway": [
           "#636efa",
           "#EF553B",
           "#00cc96",
           "#ab63fa",
           "#FFA15A",
           "#19d3f3",
           "#FF6692",
           "#B6E880",
           "#FF97FF",
           "#FECB52"
          ],
          "font": {
           "color": "#2a3f5f"
          },
          "geo": {
           "bgcolor": "white",
           "lakecolor": "white",
           "landcolor": "#E5ECF6",
           "showlakes": true,
           "showland": true,
           "subunitcolor": "white"
          },
          "hoverlabel": {
           "align": "left"
          },
          "hovermode": "closest",
          "mapbox": {
           "style": "light"
          },
          "paper_bgcolor": "white",
          "plot_bgcolor": "#E5ECF6",
          "polar": {
           "angularaxis": {
            "gridcolor": "white",
            "linecolor": "white",
            "ticks": ""
           },
           "bgcolor": "#E5ECF6",
           "radialaxis": {
            "gridcolor": "white",
            "linecolor": "white",
            "ticks": ""
           }
          },
          "scene": {
           "xaxis": {
            "backgroundcolor": "#E5ECF6",
            "gridcolor": "white",
            "gridwidth": 2,
            "linecolor": "white",
            "showbackground": true,
            "ticks": "",
            "zerolinecolor": "white"
           },
           "yaxis": {
            "backgroundcolor": "#E5ECF6",
            "gridcolor": "white",
            "gridwidth": 2,
            "linecolor": "white",
            "showbackground": true,
            "ticks": "",
            "zerolinecolor": "white"
           },
           "zaxis": {
            "backgroundcolor": "#E5ECF6",
            "gridcolor": "white",
            "gridwidth": 2,
            "linecolor": "white",
            "showbackground": true,
            "ticks": "",
            "zerolinecolor": "white"
           }
          },
          "shapedefaults": {
           "line": {
            "color": "#2a3f5f"
           }
          },
          "ternary": {
           "aaxis": {
            "gridcolor": "white",
            "linecolor": "white",
            "ticks": ""
           },
           "baxis": {
            "gridcolor": "white",
            "linecolor": "white",
            "ticks": ""
           },
           "bgcolor": "#E5ECF6",
           "caxis": {
            "gridcolor": "white",
            "linecolor": "white",
            "ticks": ""
           }
          },
          "title": {
           "x": 0.05
          },
          "xaxis": {
           "automargin": true,
           "gridcolor": "white",
           "linecolor": "white",
           "ticks": "",
           "title": {
            "standoff": 15
           },
           "zerolinecolor": "white",
           "zerolinewidth": 2
          },
          "yaxis": {
           "automargin": true,
           "gridcolor": "white",
           "linecolor": "white",
           "ticks": "",
           "title": {
            "standoff": 15
           },
           "zerolinecolor": "white",
           "zerolinewidth": 2
          }
         }
        },
        "xaxis": {
         "title": {
          "text": "Year"
         }
        },
        "yaxis": {
         "title": {
          "text": "Temperature"
         }
        }
       }
      },
      "text/html": [
       "<div>                            <div id=\"cf5085a0-5498-435a-a2d3-378546a69102\" class=\"plotly-graph-div\" style=\"height:525px; width:100%;\"></div>            <script type=\"text/javascript\">                require([\"plotly\"], function(Plotly) {                    window.PLOTLYENV=window.PLOTLYENV || {};                                    if (document.getElementById(\"cf5085a0-5498-435a-a2d3-378546a69102\")) {                    Plotly.newPlot(                        \"cf5085a0-5498-435a-a2d3-378546a69102\",                        [{\"error_y\":{\"array\":[0.2151666666666667,0.2184166666666667,0.1899166666666666,0.1779999999999999,0.18925,0.2143333333333333,0.2204166666666666,0.2003333333333333,0.167,0.2182499999999999,0.2363333333333332,0.18575,0.2160833333333333,0.21525,0.2319166666666666,0.1885833333333333,0.1850833333333333,0.2230833333333333,0.1646666666666666,0.1710833333333333,0.20025,0.2025833333333333,0.19375,0.2565,0.1989999999999999,0.1815833333333333,0.2188333333333333,0.1759166666666667,0.1780833333333333,0.165,0.2068333333333333,0.2133333333333333,0.2709166666666667,0.2935],\"type\":\"data\"},\"name\":\"Actual IND Avg Yearly Temp\",\"x\":[1980,1981,1982,1983,1984,1985,1986,1987,1988,1989,1990,1991,1992,1993,1994,1995,1996,1997,1998,1999,2000,2001,2002,2003,2004,2005,2006,2007,2008,2009,2010,2011,2012,2013],\"y\":[24.59308333333333,24.22841666666667,24.21825,23.938,24.18508333333334,24.48633333333333,24.294500000000003,24.789083333333338,24.72775,24.162333333333333,24.17816666666667,24.31175,24.222916666666663,24.408666666666672,24.29641666666667,24.429749999999995,24.436916666666672,24.04733333333333,24.755416666666665,24.65983333333333,24.498,24.581916666666668,24.913,24.649916666666662,24.63458333333333,24.49541666666667,24.73208333333333,24.649916666666662,24.40600000000001,25.146666666666658,25.05083333333333,24.41558333333333,24.640833333333337,25.41325],\"type\":\"scatter\"},{\"name\":\"Predictions of IND Avg Yearly Temp\",\"x\":[1980,1981,1982,1983,1984,1985,1986,1987,1988,1989,1990,1991,1992,1993,1994,1995,1996,1997,1998,1999,2000,2001,2002,2003,2004,2005,2006,2007,2008,2009,2010,2011,2012,2013],\"y\":[24.395877361770857,24.34629881081059,24.584388801697067,24.405919223455143,24.6829956374967,24.330092319985358,24.530266314262775,24.589885193917734,24.55964911112897,24.460734152440825,24.739589388791273,24.845921065390485,24.90095175778967,25.282732315723557,25.1015590822416,25.089442408511363,24.88956798030914,25.515165952765102,25.835782975636267,25.03791881728263,25.875291009775335,26.16972773274411,25.95913613341528,25.92053499247594,25.538922554486273,25.75946047719322,25.66177432878729,25.41396469516959,25.503360761123687,25.08572947319155,26.610600146441648,26.141591274407517,25.114463556459437,27.171371373420637],\"type\":\"scatter\"}],                        {\"xaxis\":{\"title\":{\"text\":\"Year\"}},\"yaxis\":{\"title\":{\"text\":\"Temperature\"}},\"template\":{\"data\":{\"bar\":[{\"error_x\":{\"color\":\"#2a3f5f\"},\"error_y\":{\"color\":\"#2a3f5f\"},\"marker\":{\"line\":{\"color\":\"#E5ECF6\",\"width\":0.5},\"pattern\":{\"fillmode\":\"overlay\",\"size\":10,\"solidity\":0.2}},\"type\":\"bar\"}],\"barpolar\":[{\"marker\":{\"line\":{\"color\":\"#E5ECF6\",\"width\":0.5},\"pattern\":{\"fillmode\":\"overlay\",\"size\":10,\"solidity\":0.2}},\"type\":\"barpolar\"}],\"carpet\":[{\"aaxis\":{\"endlinecolor\":\"#2a3f5f\",\"gridcolor\":\"white\",\"linecolor\":\"white\",\"minorgridcolor\":\"white\",\"startlinecolor\":\"#2a3f5f\"},\"baxis\":{\"endlinecolor\":\"#2a3f5f\",\"gridcolor\":\"white\",\"linecolor\":\"white\",\"minorgridcolor\":\"white\",\"startlinecolor\":\"#2a3f5f\"},\"type\":\"carpet\"}],\"choropleth\":[{\"colorbar\":{\"outlinewidth\":0,\"ticks\":\"\"},\"type\":\"choropleth\"}],\"contour\":[{\"colorbar\":{\"outlinewidth\":0,\"ticks\":\"\"},\"colorscale\":[[0.0,\"#0d0887\"],[0.1111111111111111,\"#46039f\"],[0.2222222222222222,\"#7201a8\"],[0.3333333333333333,\"#9c179e\"],[0.4444444444444444,\"#bd3786\"],[0.5555555555555556,\"#d8576b\"],[0.6666666666666666,\"#ed7953\"],[0.7777777777777778,\"#fb9f3a\"],[0.8888888888888888,\"#fdca26\"],[1.0,\"#f0f921\"]],\"type\":\"contour\"}],\"contourcarpet\":[{\"colorbar\":{\"outlinewidth\":0,\"ticks\":\"\"},\"type\":\"contourcarpet\"}],\"heatmap\":[{\"colorbar\":{\"outlinewidth\":0,\"ticks\":\"\"},\"colorscale\":[[0.0,\"#0d0887\"],[0.1111111111111111,\"#46039f\"],[0.2222222222222222,\"#7201a8\"],[0.3333333333333333,\"#9c179e\"],[0.4444444444444444,\"#bd3786\"],[0.5555555555555556,\"#d8576b\"],[0.6666666666666666,\"#ed7953\"],[0.7777777777777778,\"#fb9f3a\"],[0.8888888888888888,\"#fdca26\"],[1.0,\"#f0f921\"]],\"type\":\"heatmap\"}],\"heatmapgl\":[{\"colorbar\":{\"outlinewidth\":0,\"ticks\":\"\"},\"colorscale\":[[0.0,\"#0d0887\"],[0.1111111111111111,\"#46039f\"],[0.2222222222222222,\"#7201a8\"],[0.3333333333333333,\"#9c179e\"],[0.4444444444444444,\"#bd3786\"],[0.5555555555555556,\"#d8576b\"],[0.6666666666666666,\"#ed7953\"],[0.7777777777777778,\"#fb9f3a\"],[0.8888888888888888,\"#fdca26\"],[1.0,\"#f0f921\"]],\"type\":\"heatmapgl\"}],\"histogram\":[{\"marker\":{\"pattern\":{\"fillmode\":\"overlay\",\"size\":10,\"solidity\":0.2}},\"type\":\"histogram\"}],\"histogram2d\":[{\"colorbar\":{\"outlinewidth\":0,\"ticks\":\"\"},\"colorscale\":[[0.0,\"#0d0887\"],[0.1111111111111111,\"#46039f\"],[0.2222222222222222,\"#7201a8\"],[0.3333333333333333,\"#9c179e\"],[0.4444444444444444,\"#bd3786\"],[0.5555555555555556,\"#d8576b\"],[0.6666666666666666,\"#ed7953\"],[0.7777777777777778,\"#fb9f3a\"],[0.8888888888888888,\"#fdca26\"],[1.0,\"#f0f921\"]],\"type\":\"histogram2d\"}],\"histogram2dcontour\":[{\"colorbar\":{\"outlinewidth\":0,\"ticks\":\"\"},\"colorscale\":[[0.0,\"#0d0887\"],[0.1111111111111111,\"#46039f\"],[0.2222222222222222,\"#7201a8\"],[0.3333333333333333,\"#9c179e\"],[0.4444444444444444,\"#bd3786\"],[0.5555555555555556,\"#d8576b\"],[0.6666666666666666,\"#ed7953\"],[0.7777777777777778,\"#fb9f3a\"],[0.8888888888888888,\"#fdca26\"],[1.0,\"#f0f921\"]],\"type\":\"histogram2dcontour\"}],\"mesh3d\":[{\"colorbar\":{\"outlinewidth\":0,\"ticks\":\"\"},\"type\":\"mesh3d\"}],\"parcoords\":[{\"line\":{\"colorbar\":{\"outlinewidth\":0,\"ticks\":\"\"}},\"type\":\"parcoords\"}],\"pie\":[{\"automargin\":true,\"type\":\"pie\"}],\"scatter\":[{\"marker\":{\"colorbar\":{\"outlinewidth\":0,\"ticks\":\"\"}},\"type\":\"scatter\"}],\"scatter3d\":[{\"line\":{\"colorbar\":{\"outlinewidth\":0,\"ticks\":\"\"}},\"marker\":{\"colorbar\":{\"outlinewidth\":0,\"ticks\":\"\"}},\"type\":\"scatter3d\"}],\"scattercarpet\":[{\"marker\":{\"colorbar\":{\"outlinewidth\":0,\"ticks\":\"\"}},\"type\":\"scattercarpet\"}],\"scattergeo\":[{\"marker\":{\"colorbar\":{\"outlinewidth\":0,\"ticks\":\"\"}},\"type\":\"scattergeo\"}],\"scattergl\":[{\"marker\":{\"colorbar\":{\"outlinewidth\":0,\"ticks\":\"\"}},\"type\":\"scattergl\"}],\"scattermapbox\":[{\"marker\":{\"colorbar\":{\"outlinewidth\":0,\"ticks\":\"\"}},\"type\":\"scattermapbox\"}],\"scatterpolar\":[{\"marker\":{\"colorbar\":{\"outlinewidth\":0,\"ticks\":\"\"}},\"type\":\"scatterpolar\"}],\"scatterpolargl\":[{\"marker\":{\"colorbar\":{\"outlinewidth\":0,\"ticks\":\"\"}},\"type\":\"scatterpolargl\"}],\"scatterternary\":[{\"marker\":{\"colorbar\":{\"outlinewidth\":0,\"ticks\":\"\"}},\"type\":\"scatterternary\"}],\"surface\":[{\"colorbar\":{\"outlinewidth\":0,\"ticks\":\"\"},\"colorscale\":[[0.0,\"#0d0887\"],[0.1111111111111111,\"#46039f\"],[0.2222222222222222,\"#7201a8\"],[0.3333333333333333,\"#9c179e\"],[0.4444444444444444,\"#bd3786\"],[0.5555555555555556,\"#d8576b\"],[0.6666666666666666,\"#ed7953\"],[0.7777777777777778,\"#fb9f3a\"],[0.8888888888888888,\"#fdca26\"],[1.0,\"#f0f921\"]],\"type\":\"surface\"}],\"table\":[{\"cells\":{\"fill\":{\"color\":\"#EBF0F8\"},\"line\":{\"color\":\"white\"}},\"header\":{\"fill\":{\"color\":\"#C8D4E3\"},\"line\":{\"color\":\"white\"}},\"type\":\"table\"}]},\"layout\":{\"annotationdefaults\":{\"arrowcolor\":\"#2a3f5f\",\"arrowhead\":0,\"arrowwidth\":1},\"autotypenumbers\":\"strict\",\"coloraxis\":{\"colorbar\":{\"outlinewidth\":0,\"ticks\":\"\"}},\"colorscale\":{\"diverging\":[[0,\"#8e0152\"],[0.1,\"#c51b7d\"],[0.2,\"#de77ae\"],[0.3,\"#f1b6da\"],[0.4,\"#fde0ef\"],[0.5,\"#f7f7f7\"],[0.6,\"#e6f5d0\"],[0.7,\"#b8e186\"],[0.8,\"#7fbc41\"],[0.9,\"#4d9221\"],[1,\"#276419\"]],\"sequential\":[[0.0,\"#0d0887\"],[0.1111111111111111,\"#46039f\"],[0.2222222222222222,\"#7201a8\"],[0.3333333333333333,\"#9c179e\"],[0.4444444444444444,\"#bd3786\"],[0.5555555555555556,\"#d8576b\"],[0.6666666666666666,\"#ed7953\"],[0.7777777777777778,\"#fb9f3a\"],[0.8888888888888888,\"#fdca26\"],[1.0,\"#f0f921\"]],\"sequentialminus\":[[0.0,\"#0d0887\"],[0.1111111111111111,\"#46039f\"],[0.2222222222222222,\"#7201a8\"],[0.3333333333333333,\"#9c179e\"],[0.4444444444444444,\"#bd3786\"],[0.5555555555555556,\"#d8576b\"],[0.6666666666666666,\"#ed7953\"],[0.7777777777777778,\"#fb9f3a\"],[0.8888888888888888,\"#fdca26\"],[1.0,\"#f0f921\"]]},\"colorway\":[\"#636efa\",\"#EF553B\",\"#00cc96\",\"#ab63fa\",\"#FFA15A\",\"#19d3f3\",\"#FF6692\",\"#B6E880\",\"#FF97FF\",\"#FECB52\"],\"font\":{\"color\":\"#2a3f5f\"},\"geo\":{\"bgcolor\":\"white\",\"lakecolor\":\"white\",\"landcolor\":\"#E5ECF6\",\"showlakes\":true,\"showland\":true,\"subunitcolor\":\"white\"},\"hoverlabel\":{\"align\":\"left\"},\"hovermode\":\"closest\",\"mapbox\":{\"style\":\"light\"},\"paper_bgcolor\":\"white\",\"plot_bgcolor\":\"#E5ECF6\",\"polar\":{\"angularaxis\":{\"gridcolor\":\"white\",\"linecolor\":\"white\",\"ticks\":\"\"},\"bgcolor\":\"#E5ECF6\",\"radialaxis\":{\"gridcolor\":\"white\",\"linecolor\":\"white\",\"ticks\":\"\"}},\"scene\":{\"xaxis\":{\"backgroundcolor\":\"#E5ECF6\",\"gridcolor\":\"white\",\"gridwidth\":2,\"linecolor\":\"white\",\"showbackground\":true,\"ticks\":\"\",\"zerolinecolor\":\"white\"},\"yaxis\":{\"backgroundcolor\":\"#E5ECF6\",\"gridcolor\":\"white\",\"gridwidth\":2,\"linecolor\":\"white\",\"showbackground\":true,\"ticks\":\"\",\"zerolinecolor\":\"white\"},\"zaxis\":{\"backgroundcolor\":\"#E5ECF6\",\"gridcolor\":\"white\",\"gridwidth\":2,\"linecolor\":\"white\",\"showbackground\":true,\"ticks\":\"\",\"zerolinecolor\":\"white\"}},\"shapedefaults\":{\"line\":{\"color\":\"#2a3f5f\"}},\"ternary\":{\"aaxis\":{\"gridcolor\":\"white\",\"linecolor\":\"white\",\"ticks\":\"\"},\"baxis\":{\"gridcolor\":\"white\",\"linecolor\":\"white\",\"ticks\":\"\"},\"bgcolor\":\"#E5ECF6\",\"caxis\":{\"gridcolor\":\"white\",\"linecolor\":\"white\",\"ticks\":\"\"}},\"title\":{\"x\":0.05},\"xaxis\":{\"automargin\":true,\"gridcolor\":\"white\",\"linecolor\":\"white\",\"ticks\":\"\",\"title\":{\"standoff\":15},\"zerolinecolor\":\"white\",\"zerolinewidth\":2},\"yaxis\":{\"automargin\":true,\"gridcolor\":\"white\",\"linecolor\":\"white\",\"ticks\":\"\",\"title\":{\"standoff\":15},\"zerolinecolor\":\"white\",\"zerolinewidth\":2}}}},                        {\"responsive\": true}                    ).then(function(){\n",
       "                            \n",
       "var gd = document.getElementById('cf5085a0-5498-435a-a2d3-378546a69102');\n",
       "var x = new MutationObserver(function (mutations, observer) {{\n",
       "        var display = window.getComputedStyle(gd).display;\n",
       "        if (!display || display === 'none') {{\n",
       "            console.log([gd, 'removed!']);\n",
       "            Plotly.purge(gd);\n",
       "            observer.disconnect();\n",
       "        }}\n",
       "}});\n",
       "\n",
       "// Listen for the removal of the full notebook cells\n",
       "var notebookContainer = gd.closest('#notebook-container');\n",
       "if (notebookContainer) {{\n",
       "    x.observe(notebookContainer, {childList: true});\n",
       "}}\n",
       "\n",
       "// Listen for the clearing of the current output cell\n",
       "var outputEl = gd.closest('.output');\n",
       "if (outputEl) {{\n",
       "    x.observe(outputEl, {childList: true});\n",
       "}}\n",
       "\n",
       "                        })                };                });            </script>        </div>"
      ]
     },
     "metadata": {},
     "output_type": "display_data"
    }
   ],
   "source": [
    "layout = dict(xaxis=dict(title='Year'),\n",
    "              yaxis=dict(title='Temperature'))\n",
    "\n",
    "for k, v in results.items():\n",
    "    _, test, _ = get_test_train_valid(k)\n",
    "    print(\"P, Q, D\", v[0])\n",
    "    test['Predictions'] = v[-1]\n",
    "    fig = plot(test, k, layout)\n",
    "    fig.show()"
   ]
  },
  {
   "cell_type": "markdown",
   "id": "1e3c6398",
   "metadata": {},
   "source": [
    "Interpert the coefficient\n",
    "Arima \n",
    "-> p, q, d\n",
    "Five Countries\n",
    "Time Series Specific\n",
    "R"
   ]
  },
  {
   "cell_type": "code",
   "execution_count": null,
   "id": "933d26e5",
   "metadata": {},
   "outputs": [],
   "source": []
  }
 ],
 "metadata": {
  "kernelspec": {
   "display_name": "Python 3 (ipykernel)",
   "language": "python",
   "name": "python3"
  },
  "language_info": {
   "codemirror_mode": {
    "name": "ipython",
    "version": 3
   },
   "file_extension": ".py",
   "mimetype": "text/x-python",
   "name": "python",
   "nbconvert_exporter": "python",
   "pygments_lexer": "ipython3",
   "version": "3.7.11"
  }
 },
 "nbformat": 4,
 "nbformat_minor": 5
}
