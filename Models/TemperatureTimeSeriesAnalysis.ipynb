{
 "cells": [
  {
   "cell_type": "code",
   "execution_count": 1,
   "id": "54bef1fc",
   "metadata": {},
   "outputs": [],
   "source": [
    "%%capture\n",
    "!pip install pandas\n",
    "!pip install plotly-express\n",
    "!pip install statsmodels\n",
    "!pip install tqdm\n"
   ]
  },
  {
   "cell_type": "code",
   "execution_count": 2,
   "id": "a247f7a1",
   "metadata": {},
   "outputs": [],
   "source": [
    "import pandas as pd\n",
    "from sklearn.model_selection import train_test_split\n",
    "import statsmodels as sm \n",
    "from sklearn.metrics import r2_score\n",
    "from tqdm import tqdm\n",
    "import plotly.express as px\n",
    "from sklearn.preprocessing import StandardScaler\n",
    "# model imports\n",
    "from statsmodels.tsa.arima.model import ARIMA\n",
    "import statsmodels.api as sm1\n",
    "from sklearn.metrics import mean_squared_error, r2_score\n",
    "import itertools\n",
    "import math\n"
   ]
  },
  {
   "cell_type": "markdown",
   "id": "2e221792",
   "metadata": {},
   "source": [
    "# Creating Sarimax Model With Excog Variables At A Country Level\n",
    "\n",
    "We will be creating a Sarimax model at country level because each time forecasting relies on the trends in data, therefore you cannot have multiple instances for a single time point. Moreover, as a simple model, it only requires not many datapoints to make predictions. Below, we detail the process that we have for our model.\n",
    "\n",
    "1. Data Preperation\n",
    "2. Hypertuning Model Parameters With Training and Validation Set\n",
    "3. Testing model on holdout set\n"
   ]
  },
  {
   "cell_type": "markdown",
   "id": "a58069a0",
   "metadata": {},
   "source": [
    "## Preparing Data for Arima\n",
    "We have multple task to prepare data for ARIMA\n",
    "### Data Wrangling\n",
    "1. We have to cast our Year into a datetime object\n",
    "2. We then have to set it as an index of the array\n",
    "3. Finally, we have to set the period of the data to Yearly frequency\n",
    "\n",
    "### Spliting Data into Training, Validation, and Holdout\n",
    "We selection the following time periods.\n",
    "```\n",
    "Training (1750 - 1950)\n",
    "Validation (1950 - 1980)\n",
    "Testing (1980 - 2013)\n",
    "```\n",
    "\n",
    "### Scaling Data By Standard Scalar\n",
    "The numerical method used for ARIMA involves BFGS, which is not\n",
    "scale invariant, therfore we scale the x-features by that of\n",
    "the training data"
   ]
  },
  {
   "cell_type": "code",
   "execution_count": 3,
   "id": "443917f4",
   "metadata": {},
   "outputs": [],
   "source": [
    "def get_country_df(country):\n",
    "    df = pd.read_csv('../Data/global_average_yearly_temp_with_features_clean.csv')\n",
    "    df = df[df[\"iso_code\"] == country]\n",
    "    df[\"Year_idx\"] = pd.to_datetime(df.year, format=\"%Y\")\n",
    "    df = df.set_index(\"Year_idx\")\n",
    "    df.index = df.index.to_period(\"Y\")\n",
    "    return df\n",
    "\n",
    "def get_test_train_valid(country, train_split = '1950', validation_split = '1980'):\n",
    "    country_df = get_country_df(country)\n",
    "    \n",
    "    train = country_df.loc[:train_split]\n",
    "    valid = country_df.loc[train_split: validation_split]\n",
    "    test  = country_df.loc[validation_split:]\n",
    "    \n",
    "    return train, test, valid\n",
    "\n",
    "def scale(train_x, valid_x, test_x):\n",
    "    scaler = StandardScaler()\n",
    "    model_x = pd.concat([train_x, valid_x])\n",
    "\n",
    "    scaler.fit(model_x)\n",
    "    model_x = scaler.transform(model_x)\n",
    "    train_x = scaler.transform(train_x)\n",
    "    valid_x = scaler.transform(valid_x)\n",
    "    test_x  = scaler.transform(test_x)\n",
    "    return train_x, valid_x, test_x, model_x"
   ]
  },
  {
   "cell_type": "code",
   "execution_count": 4,
   "id": "62c13cc9",
   "metadata": {},
   "outputs": [],
   "source": [
    "country = \"FRA\"\n",
    "train, test, valid = get_test_train_valid(country)\n",
    "\n",
    "train_x, train_y = train[train.columns[2:-2]], train[\"AvgYearlyTemp\"]\n",
    "test_x, test_y = test[test.columns[2:-2]], test[\"AvgYearlyTemp\"]\n",
    "valid_x, valid_y = valid[valid.columns[2:-2]], valid[\"AvgYearlyTemp\"]\n",
    "\n",
    "train_x, valid_x, test_x, model_x = scale(train_x, valid_x, test_x)\n",
    "model_y = pd.concat([train_y, valid_y])"
   ]
  },
  {
   "cell_type": "markdown",
   "id": "b374b4dd",
   "metadata": {},
   "source": [
    "## Hypertuning Model Parameters With Training and Validation Set\n",
    "We opt for an exhaustive grid search to find the parameters that give the best result. Here, we only use the following assumptions for the sarimax model. The external regressors are time varying, and have measurement error. \n"
   ]
  },
  {
   "cell_type": "code",
   "execution_count": 5,
   "id": "2d447cdb",
   "metadata": {},
   "outputs": [],
   "source": [
    "def eval_arima_excog_walk_forward_validation_model(train_x, train_y, test_x, test_y, arima_order):\n",
    "    # DO NOT USE THIS \n",
    "\n",
    "    history = [x for x in train_y]\n",
    "    predictions = []\n",
    "    \n",
    "    for i in range(len(test_x)):\n",
    "        model = ARIMA(history, exog = train_x, order = arima_order)\n",
    "        model_fit = model.fit()\n",
    "        \n",
    "        y_hat = model_fit.forecast(exog = test_x.iloc[[i]])\n",
    "        predictions.append(y_hat[0])\n",
    "        \n",
    "        train_x = pd.concat([train_x, test_x.iloc[[i]]], axis = 0)\n",
    "        history.append(test_y[i])\n",
    "\n",
    "    rmse = math.sqrt(mean_squared_error(test_y, predictions))\n",
    "    return model_fit, rmse, predictions\n",
    "\n",
    "def eval_arima_excog(train_x, train_y, test_x, test_y, arima_order, trend = 'c'):\n",
    "    # DO NOT USE THIS \n",
    "    model = ARIMA(train_y, exog = train_x, order = arima_order, trend = trend)\n",
    "    model_fit = model.fit()\n",
    "    predictions = model_fit.forecast(len(test_x), exog = test_x)\n",
    "    rmse = math.sqrt(mean_squared_error(test_y, predictions))\n",
    "    return model_fit, rmse, predictions\n",
    "\n",
    "def eval_sarimax_excog(train_x, train_y, test_x, test_y, arima_order):\n",
    "    # USE THIS\n",
    "    model = sm1.tsa.statespace.SARIMAX(train_y, exog = train_x, order = arima_order, \\\n",
    "                                       time_varying_regression = True, mle_regression = False, measurement_error = True)\n",
    "    model_fit = model.fit()\n",
    "    predictions = model_fit.forecast(len(test_x), exog = test_x)\n",
    "    rmse = math.sqrt(mean_squared_error(test_y, predictions))\n",
    "    predictions.index = test_y.index\n",
    "    return model_fit, rmse, predictions\n",
    "\n",
    "def eval_excog_models(train_x, train_y, test_x, test_y, p_values, d_values, q_values, f):\n",
    "    arima_orders = itertools.product(*[p_values, d_values, q_values])\n",
    "    arima_orders = list(arima_orders)\n",
    "    best_order, best_score = None, float(\"inf\") \n",
    "    \n",
    "    count = 0\n",
    "    for arima_order in tqdm(arima_orders):\n",
    "        try:\n",
    "            _, rmse, _ = f(train_x, train_y, test_x, test_y, arima_order)\n",
    "            \n",
    "            if rmse < best_score:\n",
    "                best_score, best_order = rmse, arima_order\n",
    "                print(f\"ARIMA RMSE = {best_score}\")\n",
    "        except Exception as e:\n",
    "            print(e)\n",
    "            pass\n",
    "        count += 1\n",
    "    print('DONE')\n",
    "    return best_order\n",
    "    "
   ]
  },
  {
   "cell_type": "code",
   "execution_count": 6,
   "id": "706c75bd",
   "metadata": {},
   "outputs": [
    {
     "name": "stderr",
     "output_type": "stream",
     "text": [
      "  0%|                                                                                            | 0/36 [00:00<?, ?it/s] This problem is unconstrained.\n"
     ]
    },
    {
     "name": "stdout",
     "output_type": "stream",
     "text": [
      "RUNNING THE L-BFGS-B CODE\n",
      "\n",
      "           * * *\n",
      "\n",
      "Machine precision = 2.220D-16\n",
      " N =           14     M =           10\n",
      "\n",
      "At X0         0 variables are exactly at the bounds\n",
      "\n",
      "At iterate    0    f=  2.19161D+00    |proj g|=  2.00451D-01\n",
      "\n",
      "At iterate    5    f=  1.10007D+00    |proj g|=  7.37511D-01\n",
      "\n",
      "At iterate   10    f=  1.02092D+00    |proj g|=  1.08452D-01\n",
      "\n",
      "At iterate   15    f=  1.00944D+00    |proj g|=  4.43219D-02\n",
      "\n",
      "At iterate   20    f=  1.00373D+00    |proj g|=  4.39403D-02\n",
      "\n",
      "At iterate   25    f=  9.97262D-01    |proj g|=  6.95343D-02\n",
      "\n",
      "At iterate   30    f=  9.80300D-01    |proj g|=  9.99451D-02\n",
      "  ys=-3.159E-06  -gs= 1.949E-06 BFGS update SKIPPED\n"
     ]
    },
    {
     "name": "stderr",
     "output_type": "stream",
     "text": [
      "\n",
      " Bad direction in the line search;\n",
      "   refresh the lbfgs memory and restart the iteration.\n"
     ]
    },
    {
     "name": "stdout",
     "output_type": "stream",
     "text": [
      "\n",
      "At iterate   35    f=  9.79888D-01    |proj g|=  1.65039D-01\n",
      "  ys=-6.700E-10  -gs= 2.584E-09 BFGS update SKIPPED\n",
      "\n",
      "At iterate   40    f=  9.79886D-01    |proj g|=  1.34142D-01\n"
     ]
    },
    {
     "name": "stderr",
     "output_type": "stream",
     "text": [
      "\n",
      " Bad direction in the line search;\n",
      "   refresh the lbfgs memory and restart the iteration.\n"
     ]
    },
    {
     "name": "stdout",
     "output_type": "stream",
     "text": [
      "\n",
      "At iterate   45    f=  9.79819D-01    |proj g|=  1.52927D-01\n",
      "  ys=-1.421E-14  -gs= 1.918E-13 BFGS update SKIPPED\n"
     ]
    },
    {
     "name": "stderr",
     "output_type": "stream",
     "text": [
      "\n",
      " Warning:  more than 10 function and gradient\n",
      "   evaluations in the last line search.  Termination\n",
      "   may possibly be caused by a bad search direction.\n",
      "  3%|██▎                                                                                 | 1/36 [00:01<00:46,  1.32s/it] This problem is unconstrained.\n"
     ]
    },
    {
     "name": "stdout",
     "output_type": "stream",
     "text": [
      "\n",
      "           * * *\n",
      "\n",
      "Tit   = total number of iterations\n",
      "Tnf   = total number of function evaluations\n",
      "Tnint = total number of segments explored during Cauchy searches\n",
      "Skip  = number of BFGS updates skipped\n",
      "Nact  = number of active bounds at final generalized Cauchy point\n",
      "Projg = norm of the final projected gradient\n",
      "F     = final function value\n",
      "\n",
      "           * * *\n",
      "\n",
      "   N    Tit     Tnf  Tnint  Skip  Nact     Projg        F\n",
      "   14     47    185      3     3     0   1.556D-01   9.798D-01\n",
      "  F =  0.97981882231358797     \n",
      "\n",
      "CONVERGENCE: REL_REDUCTION_OF_F_<=_FACTR*EPSMCH             \n",
      "ARIMA RMSE = 59.489494396861595\n",
      "RUNNING THE L-BFGS-B CODE\n",
      "\n",
      "           * * *\n",
      "\n",
      "Machine precision = 2.220D-16\n",
      " N =           16     M =           10\n",
      "\n",
      "At X0         0 variables are exactly at the bounds\n",
      "\n",
      "At iterate    0    f=  2.20532D+00    |proj g|=  1.90158D-01\n",
      "\n",
      "At iterate    5    f=  1.09273D+00    |proj g|=  4.32763D-01\n",
      "\n",
      "At iterate   10    f=  1.00730D+00    |proj g|=  7.34926D-02\n",
      "\n",
      "At iterate   15    f=  9.97529D-01    |proj g|=  8.12270D-02\n",
      "\n",
      "At iterate   20    f=  9.96180D-01    |proj g|=  1.29420D-01\n"
     ]
    },
    {
     "name": "stderr",
     "output_type": "stream",
     "text": [
      "\n",
      " Bad direction in the line search;\n",
      "   refresh the lbfgs memory and restart the iteration.\n"
     ]
    },
    {
     "name": "stdout",
     "output_type": "stream",
     "text": [
      "\n",
      "At iterate   25    f=  9.94114D-01    |proj g|=  9.94879D-02\n",
      "\n",
      "At iterate   30    f=  9.92954D-01    |proj g|=  9.76848D-02\n",
      "  ys=-2.644E-10  -gs= 3.536E-10 BFGS update SKIPPED\n"
     ]
    },
    {
     "name": "stderr",
     "output_type": "stream",
     "text": [
      "\n",
      " Bad direction in the line search;\n",
      "   refresh the lbfgs memory and restart the iteration.\n",
      "\n",
      " Line search cannot locate an adequate point after MAXLS\n",
      "  function and gradient evaluations.\n",
      "  Previous x, f and g restored.\n",
      " Possible causes: 1 error in function or gradient evaluation;\n",
      "                  2 rounding error dominate computation.\n",
      "/home/sumants/miniconda3/envs/cis545/lib/python3.8/site-packages/statsmodels/base/model.py:604: ConvergenceWarning: Maximum Likelihood optimization failed to converge. Check mle_retvals\n",
      "  warnings.warn(\"Maximum Likelihood optimization failed to \"\n",
      "  6%|████▋                                                                               | 2/36 [00:02<00:50,  1.48s/it]"
     ]
    },
    {
     "name": "stdout",
     "output_type": "stream",
     "text": [
      "\n",
      "           * * *\n",
      "\n",
      "Tit   = total number of iterations\n",
      "Tnf   = total number of function evaluations\n",
      "Tnint = total number of segments explored during Cauchy searches\n",
      "Skip  = number of BFGS updates skipped\n",
      "Nact  = number of active bounds at final generalized Cauchy point\n",
      "Projg = norm of the final projected gradient\n",
      "F     = final function value\n",
      "\n",
      "           * * *\n",
      "\n",
      "   N    Tit     Tnf  Tnint  Skip  Nact     Projg        F\n",
      "   16     34    139      3     1     0   1.714D-01   9.929D-01\n",
      "  F =  0.99294576040569382     \n",
      "\n",
      "ABNORMAL_TERMINATION_IN_LNSRCH                              \n",
      "RUNNING THE L-BFGS-B CODE\n",
      "\n",
      "           * * *\n",
      "\n",
      "Machine precision = 2.220D-16\n",
      " N =           17     M =           10\n",
      "\n",
      "At X0         0 variables are exactly at the bounds\n",
      "\n",
      "At iterate    0    f=  2.20492D+00    |proj g|=  1.89763D-01\n",
      "\n",
      "At iterate    5    f=  1.07762D+00    |proj g|=  5.19157D-01\n"
     ]
    },
    {
     "name": "stderr",
     "output_type": "stream",
     "text": [
      " This problem is unconstrained.\n"
     ]
    },
    {
     "name": "stdout",
     "output_type": "stream",
     "text": [
      "\n",
      "At iterate   10    f=  1.02937D+00    |proj g|=  1.77235D-01\n",
      "\n",
      "At iterate   15    f=  1.00601D+00    |proj g|=  5.71208D-02\n",
      "\n",
      "At iterate   20    f=  9.98800D-01    |proj g|=  4.65321D-02\n",
      "\n",
      "At iterate   25    f=  9.81684D-01    |proj g|=  1.28995D-01\n"
     ]
    },
    {
     "name": "stderr",
     "output_type": "stream",
     "text": [
      "\n",
      " Bad direction in the line search;\n",
      "   refresh the lbfgs memory and restart the iteration.\n"
     ]
    },
    {
     "name": "stdout",
     "output_type": "stream",
     "text": [
      "\n",
      "At iterate   30    f=  9.80223D-01    |proj g|=  1.16119D-01\n",
      "  ys=-5.044E-11  -gs= 2.118E-10 BFGS update SKIPPED\n",
      "\n",
      "At iterate   35    f=  9.78306D-01    |proj g|=  1.92658D-01\n",
      "  ys=-4.072E-10  -gs= 1.010E-09 BFGS update SKIPPED\n",
      "  ys=-1.001E-14  -gs= 5.067E-13 BFGS update SKIPPED\n",
      "  ys=-2.570E-12  -gs= 1.099E-10 BFGS update SKIPPED\n"
     ]
    },
    {
     "name": "stderr",
     "output_type": "stream",
     "text": [
      "\n",
      " Bad direction in the line search;\n",
      "   refresh the lbfgs memory and restart the iteration.\n",
      "/home/sumants/miniconda3/envs/cis545/lib/python3.8/site-packages/statsmodels/base/model.py:604: ConvergenceWarning: Maximum Likelihood optimization failed to converge. Check mle_retvals\n",
      "  warnings.warn(\"Maximum Likelihood optimization failed to \"\n",
      "\n",
      " Line search cannot locate an adequate point after MAXLS\n",
      "  function and gradient evaluations.\n",
      "  Previous x, f and g restored.\n",
      " Possible causes: 1 error in function or gradient evaluation;\n",
      "                  2 rounding error dominate computation.\n",
      "  8%|███████                                                                             | 3/36 [00:05<01:02,  1.88s/it] This problem is unconstrained.\n"
     ]
    },
    {
     "name": "stdout",
     "output_type": "stream",
     "text": [
      "\n",
      "           * * *\n",
      "\n",
      "Tit   = total number of iterations\n",
      "Tnf   = total number of function evaluations\n",
      "Tnint = total number of segments explored during Cauchy searches\n",
      "Skip  = number of BFGS updates skipped\n",
      "Nact  = number of active bounds at final generalized Cauchy point\n",
      "Projg = norm of the final projected gradient\n",
      "F     = final function value\n",
      "\n",
      "           * * *\n",
      "\n",
      "   N    Tit     Tnf  Tnint  Skip  Nact     Projg        F\n",
      "   17     38    193      3     4     0   2.086D-01   9.783D-01\n",
      "  F =  0.97830615644041696     \n",
      "\n",
      "ABNORMAL_TERMINATION_IN_LNSRCH                              \n",
      "Invalid dimensions for design matrix: requires 14 columns, got 13\n",
      "RUNNING THE L-BFGS-B CODE\n",
      "\n",
      "           * * *\n",
      "\n",
      "Machine precision = 2.220D-16\n",
      " N =           16     M =           10\n",
      "\n",
      "At X0         0 variables are exactly at the bounds\n",
      "\n",
      "At iterate    0    f=  2.22947D+00    |proj g|=  1.89912D-01\n",
      "\n",
      "At iterate    5    f=  1.08946D+00    |proj g|=  7.35539D-01\n",
      "\n",
      "At iterate   10    f=  1.02308D+00    |proj g|=  1.07334D-01\n",
      "\n",
      "At iterate   15    f=  9.99152D-01    |proj g|=  9.95306D-02\n",
      "\n",
      "At iterate   20    f=  9.73898D-01    |proj g|=  2.23088D-01\n",
      "\n",
      "At iterate   25    f=  9.62212D-01    |proj g|=  5.73900D-02\n",
      "  ys=-1.195E-10  -gs= 1.260E-10 BFGS update SKIPPED\n",
      "\n",
      "At iterate   30    f=  9.62098D-01    |proj g|=  6.30052D-02\n",
      "\n",
      "At iterate   35    f=  9.62037D-01    |proj g|=  5.18972D-02\n",
      "  ys=-6.654E-10  -gs= 3.847E-10 BFGS update SKIPPED\n"
     ]
    },
    {
     "name": "stderr",
     "output_type": "stream",
     "text": [
      "\n",
      " Bad direction in the line search;\n",
      "   refresh the lbfgs memory and restart the iteration.\n",
      "/home/sumants/miniconda3/envs/cis545/lib/python3.8/site-packages/statsmodels/base/model.py:604: ConvergenceWarning: Maximum Likelihood optimization failed to converge. Check mle_retvals\n",
      "  warnings.warn(\"Maximum Likelihood optimization failed to \"\n",
      "\n",
      " Line search cannot locate an adequate point after MAXLS\n",
      "  function and gradient evaluations.\n",
      "  Previous x, f and g restored.\n",
      " Possible causes: 1 error in function or gradient evaluation;\n",
      "                  2 rounding error dominate computation.\n",
      "\r",
      " 14%|███████████▋                                                                        | 5/36 [00:06<00:38,  1.25s/it]"
     ]
    },
    {
     "name": "stdout",
     "output_type": "stream",
     "text": [
      "\n",
      "           * * *\n",
      "\n",
      "Tit   = total number of iterations\n",
      "Tnf   = total number of function evaluations\n",
      "Tnint = total number of segments explored during Cauchy searches\n",
      "Skip  = number of BFGS updates skipped\n",
      "Nact  = number of active bounds at final generalized Cauchy point\n",
      "Projg = norm of the final projected gradient\n",
      "F     = final function value\n",
      "\n",
      "           * * *\n",
      "\n",
      "   N    Tit     Tnf  Tnint  Skip  Nact     Projg        F\n",
      "   16     36    141      2     2     0   5.190D-02   9.620D-01\n",
      "  F =  0.96203656031978402     \n",
      "\n",
      "ABNORMAL_TERMINATION_IN_LNSRCH                              \n",
      "ARIMA RMSE = 39.33052290197128\n",
      "RUNNING THE L-BFGS-B CODE\n",
      "\n",
      "           * * *\n",
      "\n",
      "Machine precision = 2.220D-16\n",
      " N =           17     M =           10\n",
      "\n",
      "At X0         0 variables are exactly at the bounds\n",
      "\n",
      "At iterate    0    f=  2.22986D+00    |proj g|=  1.89692D-01\n",
      "\n",
      "At iterate    5    f=  1.06107D+00    |proj g|=  1.92387D-01\n"
     ]
    },
    {
     "name": "stderr",
     "output_type": "stream",
     "text": [
      " This problem is unconstrained.\n"
     ]
    },
    {
     "name": "stdout",
     "output_type": "stream",
     "text": [
      "\n",
      "At iterate   10    f=  9.93890D-01    |proj g|=  2.35313D-01\n",
      "\n",
      "At iterate   15    f=  9.70007D-01    |proj g|=  2.24757D-01\n",
      "\n",
      "At iterate   20    f=  9.66230D-01    |proj g|=  2.13171D-01\n",
      "  ys=-2.251E-06  -gs= 2.027E-06 BFGS update SKIPPED\n",
      "  ys=-5.493E-14  -gs= 8.125E-13 BFGS update SKIPPED\n"
     ]
    },
    {
     "name": "stderr",
     "output_type": "stream",
     "text": [
      "\n",
      " Bad direction in the line search;\n",
      "   refresh the lbfgs memory and restart the iteration.\n"
     ]
    },
    {
     "name": "stdout",
     "output_type": "stream",
     "text": [
      "\n",
      "At iterate   25    f=  9.66070D-01    |proj g|=  9.19029D-02\n",
      "\n",
      "At iterate   30    f=  9.66020D-01    |proj g|=  1.22605D-01\n",
      "\n",
      "At iterate   35    f=  9.65892D-01    |proj g|=  1.20208D-01\n",
      "\n",
      "At iterate   40    f=  9.65547D-01    |proj g|=  1.06317D-01\n",
      "  ys=-1.242E-11  -gs= 2.415E-11 BFGS update SKIPPED\n",
      "\n",
      "At iterate   45    f=  9.65502D-01    |proj g|=  8.04831D-02\n"
     ]
    },
    {
     "name": "stderr",
     "output_type": "stream",
     "text": [
      "/home/sumants/miniconda3/envs/cis545/lib/python3.8/site-packages/statsmodels/base/model.py:604: ConvergenceWarning: Maximum Likelihood optimization failed to converge. Check mle_retvals\n",
      "  warnings.warn(\"Maximum Likelihood optimization failed to \"\n",
      " 17%|██████████████                                                                      | 6/36 [00:09<00:47,  1.57s/it] This problem is unconstrained.\n"
     ]
    },
    {
     "name": "stdout",
     "output_type": "stream",
     "text": [
      "\n",
      "At iterate   50    f=  9.65451D-01    |proj g|=  6.87199D-02\n",
      "\n",
      "           * * *\n",
      "\n",
      "Tit   = total number of iterations\n",
      "Tnf   = total number of function evaluations\n",
      "Tnint = total number of segments explored during Cauchy searches\n",
      "Skip  = number of BFGS updates skipped\n",
      "Nact  = number of active bounds at final generalized Cauchy point\n",
      "Projg = norm of the final projected gradient\n",
      "F     = final function value\n",
      "\n",
      "           * * *\n",
      "\n",
      "   N    Tit     Tnf  Tnint  Skip  Nact     Projg        F\n",
      "   17     50    166      2     3     0   6.872D-02   9.655D-01\n",
      "  F =  0.96545050556460843     \n",
      "\n",
      "STOP: TOTAL NO. of ITERATIONS REACHED LIMIT                 \n",
      "Invalid dimensions for design matrix: requires 15 columns, got 13\n",
      "RUNNING THE L-BFGS-B CODE\n",
      "\n",
      "           * * *\n",
      "\n",
      "Machine precision = 2.220D-16\n",
      " N =           16     M =           10\n",
      "\n",
      "At X0         0 variables are exactly at the bounds\n",
      "\n",
      "At iterate    0    f=  2.32363D+00    |proj g|=  2.23617D-01\n",
      "\n",
      "At iterate    5    f=  1.42544D+00    |proj g|=  5.61514D-01\n",
      "\n",
      "At iterate   10    f=  1.11658D+00    |proj g|=  3.64653D-01\n",
      "\n",
      "At iterate   15    f=  1.07992D+00    |proj g|=  3.48050D-01\n",
      "\n",
      "At iterate   20    f=  1.04933D+00    |proj g|=  1.11496D-01\n",
      "\n",
      "At iterate   25    f=  1.02330D+00    |proj g|=  2.90230D-01\n",
      "\n",
      "At iterate   30    f=  1.00512D+00    |proj g|=  2.89222D-01\n",
      "\n",
      "At iterate   35    f=  9.97356D-01    |proj g|=  8.27538D-02\n",
      "  ys=-4.258E-09  -gs= 8.194E-09 BFGS update SKIPPED\n"
     ]
    },
    {
     "name": "stderr",
     "output_type": "stream",
     "text": [
      "\n",
      " Bad direction in the line search;\n",
      "   refresh the lbfgs memory and restart the iteration.\n"
     ]
    },
    {
     "name": "stdout",
     "output_type": "stream",
     "text": [
      "\n",
      "At iterate   40    f=  9.96292D-01    |proj g|=  1.26713D-01\n",
      "\n",
      "At iterate   45    f=  9.96064D-01    |proj g|=  1.34050D-01\n"
     ]
    },
    {
     "name": "stderr",
     "output_type": "stream",
     "text": [
      "/home/sumants/miniconda3/envs/cis545/lib/python3.8/site-packages/statsmodels/base/model.py:604: ConvergenceWarning: Maximum Likelihood optimization failed to converge. Check mle_retvals\n",
      "  warnings.warn(\"Maximum Likelihood optimization failed to \"\n",
      " 22%|██████████████████▋                                                                 | 8/36 [00:10<00:33,  1.20s/it] This problem is unconstrained.\n"
     ]
    },
    {
     "name": "stdout",
     "output_type": "stream",
     "text": [
      "\n",
      "At iterate   50    f=  9.95994D-01    |proj g|=  8.02567D-02\n",
      "\n",
      "           * * *\n",
      "\n",
      "Tit   = total number of iterations\n",
      "Tnf   = total number of function evaluations\n",
      "Tnint = total number of segments explored during Cauchy searches\n",
      "Skip  = number of BFGS updates skipped\n",
      "Nact  = number of active bounds at final generalized Cauchy point\n",
      "Projg = norm of the final projected gradient\n",
      "F     = final function value\n",
      "\n",
      "           * * *\n",
      "\n",
      "   N    Tit     Tnf  Tnint  Skip  Nact     Projg        F\n",
      "   16     50    119      2     1     0   8.026D-02   9.960D-01\n",
      "  F =  0.99599394967507038     \n",
      "\n",
      "STOP: TOTAL NO. of ITERATIONS REACHED LIMIT                 \n",
      "ARIMA RMSE = 33.253920317083235\n",
      "RUNNING THE L-BFGS-B CODE\n",
      "\n",
      "           * * *\n",
      "\n",
      "Machine precision = 2.220D-16\n",
      " N =           17     M =           10\n",
      "\n",
      "At X0         0 variables are exactly at the bounds\n",
      "\n",
      "At iterate    0    f=  2.30121D+00    |proj g|=  1.99126D-01\n",
      "\n",
      "At iterate    5    f=  1.28608D+00    |proj g|=  3.01529D-01\n",
      "\n",
      "At iterate   10    f=  1.06077D+00    |proj g|=  1.36345D-01\n",
      "\n",
      "At iterate   15    f=  1.00022D+00    |proj g|=  1.24151D-01\n",
      "\n",
      "At iterate   20    f=  9.98144D-01    |proj g|=  1.14070D-01\n"
     ]
    },
    {
     "name": "stderr",
     "output_type": "stream",
     "text": [
      "\n",
      " Bad direction in the line search;\n",
      "   refresh the lbfgs memory and restart the iteration.\n",
      "/home/sumants/miniconda3/envs/cis545/lib/python3.8/site-packages/statsmodels/base/model.py:604: ConvergenceWarning: Maximum Likelihood optimization failed to converge. Check mle_retvals\n",
      "  warnings.warn(\"Maximum Likelihood optimization failed to \"\n",
      "\n",
      " Line search cannot locate an adequate point after MAXLS\n",
      "  function and gradient evaluations.\n",
      "  Previous x, f and g restored.\n",
      " Possible causes: 1 error in function or gradient evaluation;\n",
      "                  2 rounding error dominate computation.\n",
      " 25%|█████████████████████                                                               | 9/36 [00:12<00:33,  1.24s/it] This problem is unconstrained.\n"
     ]
    },
    {
     "name": "stdout",
     "output_type": "stream",
     "text": [
      "\n",
      "           * * *\n",
      "\n",
      "Tit   = total number of iterations\n",
      "Tnf   = total number of function evaluations\n",
      "Tnint = total number of segments explored during Cauchy searches\n",
      "Skip  = number of BFGS updates skipped\n",
      "Nact  = number of active bounds at final generalized Cauchy point\n",
      "Projg = norm of the final projected gradient\n",
      "F     = final function value\n",
      "\n",
      "           * * *\n",
      "\n",
      "   N    Tit     Tnf  Tnint  Skip  Nact     Projg        F\n",
      "   17     22     92      2     0     0   2.063D-01   9.981D-01\n",
      "  F =  0.99814316006766068     \n",
      "\n",
      "ABNORMAL_TERMINATION_IN_LNSRCH                              \n",
      "RUNNING THE L-BFGS-B CODE\n",
      "\n",
      "           * * *\n",
      "\n",
      "Machine precision = 2.220D-16\n",
      " N =           16     M =           10\n",
      "\n",
      "At X0         0 variables are exactly at the bounds\n",
      "\n",
      "At iterate    0    f=  2.20497D+00    |proj g|=  1.90377D-01\n",
      "\n",
      "At iterate    5    f=  1.10627D+00    |proj g|=  1.16783D+00\n",
      "\n",
      "At iterate   10    f=  1.01406D+00    |proj g|=  1.05231D-01\n",
      "\n",
      "At iterate   15    f=  1.00617D+00    |proj g|=  4.30354D-02\n",
      "\n",
      "At iterate   20    f=  1.00009D+00    |proj g|=  6.95244D-02\n",
      "\n",
      "At iterate   25    f=  9.89455D-01    |proj g|=  1.36123D-01\n",
      "\n",
      "At iterate   30    f=  9.80417D-01    |proj g|=  1.72247D-01\n"
     ]
    },
    {
     "name": "stderr",
     "output_type": "stream",
     "text": [
      "\n",
      " Bad direction in the line search;\n",
      "   refresh the lbfgs memory and restart the iteration.\n"
     ]
    },
    {
     "name": "stdout",
     "output_type": "stream",
     "text": [
      "  ys=-4.034E-17  -gs= 5.254E-15 BFGS update SKIPPED\n"
     ]
    },
    {
     "name": "stderr",
     "output_type": "stream",
     "text": [
      "\n",
      " Bad direction in the line search;\n",
      "   refresh the lbfgs memory and restart the iteration.\n",
      "/home/sumants/miniconda3/envs/cis545/lib/python3.8/site-packages/statsmodels/base/model.py:604: ConvergenceWarning: Maximum Likelihood optimization failed to converge. Check mle_retvals\n",
      "  warnings.warn(\"Maximum Likelihood optimization failed to \"\n",
      "\n",
      " Line search cannot locate an adequate point after MAXLS\n",
      "  function and gradient evaluations.\n",
      "  Previous x, f and g restored.\n",
      " Possible causes: 1 error in function or gradient evaluation;\n",
      "                  2 rounding error dominate computation.\n",
      "\r",
      " 28%|███████████████████████                                                            | 10/36 [00:13<00:32,  1.24s/it]"
     ]
    },
    {
     "name": "stdout",
     "output_type": "stream",
     "text": [
      "\n",
      "           * * *\n",
      "\n",
      "Tit   = total number of iterations\n",
      "Tnf   = total number of function evaluations\n",
      "Tnint = total number of segments explored during Cauchy searches\n",
      "Skip  = number of BFGS updates skipped\n",
      "Nact  = number of active bounds at final generalized Cauchy point\n",
      "Projg = norm of the final projected gradient\n",
      "F     = final function value\n",
      "\n",
      "           * * *\n",
      "\n",
      "   N    Tit     Tnf  Tnint  Skip  Nact     Projg        F\n",
      "   16     35    138      3     1     0   8.179D-02   9.800D-01\n",
      "  F =  0.98002628335127273     \n",
      "\n",
      "ABNORMAL_TERMINATION_IN_LNSRCH                              \n",
      "RUNNING THE L-BFGS-B CODE\n",
      "\n",
      "           * * *\n",
      "\n",
      "Machine precision = 2.220D-16\n",
      " N =           17     M =           10\n",
      "\n",
      "At X0         0 variables are exactly at the bounds\n",
      "\n",
      "At iterate    0    f=  2.20502D+00    |proj g|=  1.90370D-01\n",
      "\n",
      "At iterate    5    f=  1.10634D+00    |proj g|=  4.83195D-01\n"
     ]
    },
    {
     "name": "stderr",
     "output_type": "stream",
     "text": [
      " This problem is unconstrained.\n"
     ]
    },
    {
     "name": "stdout",
     "output_type": "stream",
     "text": [
      "\n",
      "At iterate   10    f=  1.01303D+00    |proj g|=  1.84152D-01\n",
      "\n",
      "At iterate   15    f=  9.89453D-01    |proj g|=  1.55511D-01\n",
      "\n",
      "At iterate   20    f=  9.88037D-01    |proj g|=  1.18081D-01\n",
      "\n",
      "At iterate   25    f=  9.87915D-01    |proj g|=  9.48658D-02\n",
      "  ys=-3.544E-06  -gs= 1.379E-06 BFGS update SKIPPED\n",
      "\n",
      "At iterate   30    f=  9.87878D-01    |proj g|=  2.20704D-01\n",
      "  ys=-1.504E-08  -gs= 1.407E-07 BFGS update SKIPPED\n",
      "  ys=-1.851E-13  -gs= 5.097E-12 BFGS update SKIPPED\n"
     ]
    },
    {
     "name": "stderr",
     "output_type": "stream",
     "text": [
      "\n",
      " Bad direction in the line search;\n",
      "   refresh the lbfgs memory and restart the iteration.\n"
     ]
    },
    {
     "name": "stdout",
     "output_type": "stream",
     "text": [
      "\n",
      "At iterate   35    f=  9.87777D-01    |proj g|=  1.97643D-01\n",
      "  ys=-4.714E-08  -gs= 1.749E-08 BFGS update SKIPPED\n"
     ]
    },
    {
     "name": "stderr",
     "output_type": "stream",
     "text": [
      "\n",
      " Bad direction in the line search;\n",
      "   refresh the lbfgs memory and restart the iteration.\n",
      "\n",
      " Warning:  more than 10 function and gradient\n",
      "   evaluations in the last line search.  Termination\n",
      "   may possibly be caused by a bad search direction.\n",
      " 31%|█████████████████████████▎                                                         | 11/36 [00:15<00:38,  1.53s/it] This problem is unconstrained.\n"
     ]
    },
    {
     "name": "stdout",
     "output_type": "stream",
     "text": [
      "\n",
      "           * * *\n",
      "\n",
      "Tit   = total number of iterations\n",
      "Tnf   = total number of function evaluations\n",
      "Tnint = total number of segments explored during Cauchy searches\n",
      "Skip  = number of BFGS updates skipped\n",
      "Nact  = number of active bounds at final generalized Cauchy point\n",
      "Projg = norm of the final projected gradient\n",
      "F     = final function value\n",
      "\n",
      "           * * *\n",
      "\n",
      "   N    Tit     Tnf  Tnint  Skip  Nact     Projg        F\n",
      "   17     39    208      3     4     0   1.254D-01   9.877D-01\n",
      "  F =  0.98770521369735231     \n",
      "\n",
      "CONVERGENCE: REL_REDUCTION_OF_F_<=_FACTR*EPSMCH             \n",
      "RUNNING THE L-BFGS-B CODE\n",
      "\n",
      "           * * *\n",
      "\n",
      "Machine precision = 2.220D-16\n",
      " N =           18     M =           10\n",
      "\n",
      "At X0         0 variables are exactly at the bounds\n",
      "\n",
      "At iterate    0    f=  2.20496D+00    |proj g|=  1.90010D-01\n",
      "\n",
      "At iterate    5    f=  1.08445D+00    |proj g|=  7.11656D-01\n",
      "\n",
      "At iterate   10    f=  1.02574D+00    |proj g|=  8.59477D-02\n",
      "\n",
      "At iterate   15    f=  1.00691D+00    |proj g|=  1.50642D-01\n",
      "\n",
      "At iterate   20    f=  1.00173D+00    |proj g|=  5.06609D-02\n",
      "\n",
      "At iterate   25    f=  9.80664D-01    |proj g|=  7.97744D-02\n",
      "\n",
      "At iterate   30    f=  9.74632D-01    |proj g|=  1.50838D-01\n",
      "\n",
      "At iterate   35    f=  9.71238D-01    |proj g|=  7.30681D-02\n",
      "\n",
      "At iterate   40    f=  9.68830D-01    |proj g|=  1.14954D-01\n",
      "  ys=-3.536E-10  -gs= 1.262E-09 BFGS update SKIPPED\n"
     ]
    },
    {
     "name": "stderr",
     "output_type": "stream",
     "text": [
      "\n",
      " Bad direction in the line search;\n",
      "   refresh the lbfgs memory and restart the iteration.\n"
     ]
    },
    {
     "name": "stdout",
     "output_type": "stream",
     "text": [
      "\n",
      "At iterate   45    f=  9.68745D-01    |proj g|=  7.94562D-02\n",
      "  ys=-1.138E-07  -gs= 1.071E-06 BFGS update SKIPPED\n",
      "  ys=-8.648E-10  -gs= 3.206E-09 BFGS update SKIPPED\n"
     ]
    },
    {
     "name": "stderr",
     "output_type": "stream",
     "text": [
      "\n",
      " Bad direction in the line search;\n",
      "   refresh the lbfgs memory and restart the iteration.\n",
      "/home/sumants/miniconda3/envs/cis545/lib/python3.8/site-packages/statsmodels/base/model.py:604: ConvergenceWarning: Maximum Likelihood optimization failed to converge. Check mle_retvals\n",
      "  warnings.warn(\"Maximum Likelihood optimization failed to \"\n",
      "\n",
      " Line search cannot locate an adequate point after MAXLS\n",
      "  function and gradient evaluations.\n",
      "  Previous x, f and g restored.\n",
      " Possible causes: 1 error in function or gradient evaluation;\n",
      "                  2 rounding error dominate computation.\n",
      " 33%|███████████████████████████▋                                                       | 12/36 [00:17<00:42,  1.77s/it]"
     ]
    },
    {
     "name": "stdout",
     "output_type": "stream",
     "text": [
      "\n",
      "           * * *\n",
      "\n",
      "Tit   = total number of iterations\n",
      "Tnf   = total number of function evaluations\n",
      "Tnint = total number of segments explored during Cauchy searches\n",
      "Skip  = number of BFGS updates skipped\n",
      "Nact  = number of active bounds at final generalized Cauchy point\n",
      "Projg = norm of the final projected gradient\n",
      "F     = final function value\n",
      "\n",
      "           * * *\n",
      "\n",
      "   N    Tit     Tnf  Tnint  Skip  Nact     Projg        F\n",
      "   18     48    181      3     3     0   1.186D-01   9.687D-01\n",
      "  F =  0.96874484989650345     \n",
      "\n",
      "ABNORMAL_TERMINATION_IN_LNSRCH                              \n",
      "RUNNING THE L-BFGS-B CODE\n",
      "\n",
      "           * * *\n",
      "\n",
      "Machine precision = 2.220D-16\n",
      " N =           16     M =           10\n",
      "\n",
      "At X0         0 variables are exactly at the bounds\n",
      "\n",
      "At iterate    0    f=  2.22877D+00    |proj g|=  1.93015D-01\n"
     ]
    },
    {
     "name": "stderr",
     "output_type": "stream",
     "text": [
      " This problem is unconstrained.\n"
     ]
    },
    {
     "name": "stdout",
     "output_type": "stream",
     "text": [
      "\n",
      "At iterate    5    f=  1.10784D+00    |proj g|=  2.99051D-01\n",
      "\n",
      "At iterate   10    f=  1.01086D+00    |proj g|=  7.60127D-02\n",
      "\n",
      "At iterate   15    f=  9.81503D-01    |proj g|=  1.20691D-01\n",
      "\n",
      "At iterate   20    f=  9.67820D-01    |proj g|=  7.32261D-02\n",
      "\n",
      "At iterate   25    f=  9.66651D-01    |proj g|=  1.11588D-01\n",
      "  ys=-1.050E-05  -gs= 7.587E-05 BFGS update SKIPPED\n",
      "\n",
      "At iterate   30    f=  9.66611D-01    |proj g|=  1.35623D-01\n"
     ]
    },
    {
     "name": "stderr",
     "output_type": "stream",
     "text": [
      "\n",
      " Bad direction in the line search;\n",
      "   refresh the lbfgs memory and restart the iteration.\n"
     ]
    },
    {
     "name": "stdout",
     "output_type": "stream",
     "text": [
      "\n",
      "At iterate   35    f=  9.66570D-01    |proj g|=  8.65612D-02\n",
      "\n",
      "At iterate   40    f=  9.66550D-01    |proj g|=  1.01632D-01\n",
      "\n",
      "           * * *\n",
      "\n",
      "Tit   = total number of iterations\n",
      "Tnf   = total number of function evaluations\n",
      "Tnint = total number of segments explored during Cauchy searches\n",
      "Skip  = number of BFGS updates skipped\n",
      "Nact  = number of active bounds at final generalized Cauchy point\n",
      "Projg = norm of the final projected gradient\n",
      "F     = final function value\n",
      "\n",
      "           * * *\n",
      "\n",
      "   N    Tit     Tnf  Tnint  Skip  Nact     Projg        F\n",
      "   16     43    133      2     1     0   1.353D-01   9.665D-01\n",
      "  F =  0.96654238361713496     \n",
      "\n",
      "CONVERGENCE: REL_REDUCTION_OF_F_<=_FACTR*EPSMCH             \n"
     ]
    },
    {
     "name": "stderr",
     "output_type": "stream",
     "text": [
      " 36%|█████████████████████████████▉                                                     | 13/36 [00:19<00:38,  1.66s/it] This problem is unconstrained.\n"
     ]
    },
    {
     "name": "stdout",
     "output_type": "stream",
     "text": [
      "RUNNING THE L-BFGS-B CODE\n",
      "\n",
      "           * * *\n",
      "\n",
      "Machine precision = 2.220D-16\n",
      " N =           17     M =           10\n",
      "\n",
      "At X0         0 variables are exactly at the bounds\n",
      "\n",
      "At iterate    0    f=  2.22838D+00    |proj g|=  1.90716D-01\n",
      "\n",
      "At iterate    5    f=  1.07473D+00    |proj g|=  9.50720D-02\n",
      "\n",
      "At iterate   10    f=  9.98988D-01    |proj g|=  6.31251D-02\n",
      "\n",
      "At iterate   15    f=  9.66247D-01    |proj g|=  6.79696D-02\n",
      "\n",
      "At iterate   20    f=  9.66225D-01    |proj g|=  9.51596D-02\n",
      "\n",
      "At iterate   25    f=  9.66162D-01    |proj g|=  1.31509D-01\n",
      "  ys=-4.504E-09  -gs= 7.133E-09 BFGS update SKIPPED\n",
      "  ys=-1.963E-16  -gs= 2.127E-15 BFGS update SKIPPED\n",
      "  ys=-5.899E-13  -gs= 3.332E-12 BFGS update SKIPPED\n"
     ]
    },
    {
     "name": "stderr",
     "output_type": "stream",
     "text": [
      "\n",
      " Bad direction in the line search;\n",
      "   refresh the lbfgs memory and restart the iteration.\n"
     ]
    },
    {
     "name": "stdout",
     "output_type": "stream",
     "text": [
      "\n",
      "At iterate   30    f=  9.66107D-01    |proj g|=  1.23549D-01\n",
      "  ys=-3.156E-09  -gs= 3.930E-09 BFGS update SKIPPED\n"
     ]
    },
    {
     "name": "stderr",
     "output_type": "stream",
     "text": [
      "\n",
      " Bad direction in the line search;\n",
      "   refresh the lbfgs memory and restart the iteration.\n"
     ]
    },
    {
     "name": "stdout",
     "output_type": "stream",
     "text": [
      "  ys=-5.337E-05  -gs= 7.416E-05 BFGS update SKIPPED\n",
      "\n",
      "At iterate   35    f=  9.66048D-01    |proj g|=  1.31960D-01\n",
      "  ys=-4.193E-12  -gs= 1.384E-11 BFGS update SKIPPED\n"
     ]
    },
    {
     "name": "stderr",
     "output_type": "stream",
     "text": [
      "\n",
      " Bad direction in the line search;\n",
      "   refresh the lbfgs memory and restart the iteration.\n",
      "/home/sumants/miniconda3/envs/cis545/lib/python3.8/site-packages/statsmodels/base/model.py:604: ConvergenceWarning: Maximum Likelihood optimization failed to converge. Check mle_retvals\n",
      "  warnings.warn(\"Maximum Likelihood optimization failed to \"\n",
      "\n",
      " Line search cannot locate an adequate point after MAXLS\n",
      "  function and gradient evaluations.\n",
      "  Previous x, f and g restored.\n",
      " Possible causes: 1 error in function or gradient evaluation;\n",
      "                  2 rounding error dominate computation.\n",
      " 39%|████████████████████████████████▎                                                  | 14/36 [00:22<00:45,  2.05s/it]"
     ]
    },
    {
     "name": "stdout",
     "output_type": "stream",
     "text": [
      "\n",
      "           * * *\n",
      "\n",
      "Tit   = total number of iterations\n",
      "Tnf   = total number of function evaluations\n",
      "Tnint = total number of segments explored during Cauchy searches\n",
      "Skip  = number of BFGS updates skipped\n",
      "Nact  = number of active bounds at final generalized Cauchy point\n",
      "Projg = norm of the final projected gradient\n",
      "F     = final function value\n",
      "\n",
      "           * * *\n",
      "\n",
      "   N    Tit     Tnf  Tnint  Skip  Nact     Projg        F\n",
      "   17     38    271      4     6     0   1.697D-01   9.660D-01\n",
      "  F =  0.96604748636751636     \n",
      "\n",
      "ABNORMAL_TERMINATION_IN_LNSRCH                              \n",
      "RUNNING THE L-BFGS-B CODE\n",
      "\n",
      "           * * *\n",
      "\n",
      "Machine precision = 2.220D-16\n",
      " N =           18     M =           10\n",
      "\n",
      "At X0         0 variables are exactly at the bounds\n",
      "\n",
      "At iterate    0    f=  2.22933D+00    |proj g|=  1.91341D-01\n",
      "\n",
      "At iterate    5    f=  1.10009D+00    |proj g|=  7.40232D-01\n"
     ]
    },
    {
     "name": "stderr",
     "output_type": "stream",
     "text": [
      " This problem is unconstrained.\n"
     ]
    },
    {
     "name": "stdout",
     "output_type": "stream",
     "text": [
      "\n",
      "At iterate   10    f=  1.01810D+00    |proj g|=  1.27534D-01\n",
      "\n",
      "At iterate   15    f=  9.69169D-01    |proj g|=  1.91229D-01\n"
     ]
    },
    {
     "name": "stderr",
     "output_type": "stream",
     "text": [
      "\n",
      " Bad direction in the line search;\n",
      "   refresh the lbfgs memory and restart the iteration.\n"
     ]
    },
    {
     "name": "stdout",
     "output_type": "stream",
     "text": [
      "\n",
      "At iterate   20    f=  9.65920D-01    |proj g|=  1.29967D-01\n",
      "\n",
      "At iterate   25    f=  9.65343D-01    |proj g|=  3.09923D-01\n",
      "\n",
      "At iterate   30    f=  9.65032D-01    |proj g|=  1.44110D-01\n",
      "\n",
      "At iterate   35    f=  9.64993D-01    |proj g|=  5.32286D-02\n",
      "\n",
      "At iterate   40    f=  9.64974D-01    |proj g|=  1.31927D-01\n",
      "  ys=-1.503E-05  -gs= 5.458E-06 BFGS update SKIPPED\n",
      "  ys=-1.166E-05  -gs= 2.549E-05 BFGS update SKIPPED\n",
      "\n",
      "At iterate   45    f=  9.64967D-01    |proj g|=  1.99292D-01\n",
      "  ys=-2.809E-14  -gs= 1.933E-13 BFGS update SKIPPED\n"
     ]
    },
    {
     "name": "stderr",
     "output_type": "stream",
     "text": [
      "\n",
      " Bad direction in the line search;\n",
      "   refresh the lbfgs memory and restart the iteration.\n",
      "/home/sumants/miniconda3/envs/cis545/lib/python3.8/site-packages/statsmodels/base/model.py:604: ConvergenceWarning: Maximum Likelihood optimization failed to converge. Check mle_retvals\n",
      "  warnings.warn(\"Maximum Likelihood optimization failed to \"\n",
      "\n",
      " Line search cannot locate an adequate point after MAXLS\n",
      "  function and gradient evaluations.\n",
      "  Previous x, f and g restored.\n",
      " Possible causes: 1 error in function or gradient evaluation;\n",
      "                  2 rounding error dominate computation.\n",
      " 42%|██████████████████████████████████▌                                                | 15/36 [00:25<00:49,  2.34s/it] This problem is unconstrained.\n"
     ]
    },
    {
     "name": "stdout",
     "output_type": "stream",
     "text": [
      "\n",
      "           * * *\n",
      "\n",
      "Tit   = total number of iterations\n",
      "Tnf   = total number of function evaluations\n",
      "Tnint = total number of segments explored during Cauchy searches\n",
      "Skip  = number of BFGS updates skipped\n",
      "Nact  = number of active bounds at final generalized Cauchy point\n",
      "Projg = norm of the final projected gradient\n",
      "F     = final function value\n",
      "\n",
      "           * * *\n",
      "\n",
      "   N    Tit     Tnf  Tnint  Skip  Nact     Projg        F\n",
      "   18     46    203      3     3     0   1.993D-01   9.650D-01\n",
      "  F =  0.96496725342366008     \n",
      "\n",
      "ABNORMAL_TERMINATION_IN_LNSRCH                              \n",
      "RUNNING THE L-BFGS-B CODE\n",
      "\n",
      "           * * *\n",
      "\n",
      "Machine precision = 2.220D-16\n",
      " N =           16     M =           10\n",
      "\n",
      "At X0         0 variables are exactly at the bounds\n",
      "\n",
      "At iterate    0    f=  2.25160D+00    |proj g|=  1.86643D-01\n",
      "\n",
      "At iterate    5    f=  1.12685D+00    |proj g|=  1.62769D-01\n",
      "\n",
      "At iterate   10    f=  1.07184D+00    |proj g|=  1.56992D-01\n",
      "\n",
      "At iterate   15    f=  1.02432D+00    |proj g|=  9.21237D-02\n",
      "\n",
      "At iterate   20    f=  9.97843D-01    |proj g|=  9.24259D-02\n"
     ]
    },
    {
     "name": "stderr",
     "output_type": "stream",
     "text": [
      "\n",
      " Bad direction in the line search;\n",
      "   refresh the lbfgs memory and restart the iteration.\n",
      "\n",
      " Bad direction in the line search;\n",
      "   refresh the lbfgs memory and restart the iteration.\n",
      "/home/sumants/miniconda3/envs/cis545/lib/python3.8/site-packages/statsmodels/base/model.py:604: ConvergenceWarning: Maximum Likelihood optimization failed to converge. Check mle_retvals\n",
      "  warnings.warn(\"Maximum Likelihood optimization failed to \"\n",
      "\n",
      " Line search cannot locate an adequate point after MAXLS\n",
      "  function and gradient evaluations.\n",
      "  Previous x, f and g restored.\n",
      " Possible causes: 1 error in function or gradient evaluation;\n",
      "                  2 rounding error dominate computation.\n",
      " 44%|████████████████████████████████████▉                                              | 16/36 [00:26<00:39,  2.00s/it]"
     ]
    },
    {
     "name": "stdout",
     "output_type": "stream",
     "text": [
      "\n",
      "At iterate   25    f=  9.97740D-01    |proj g|=  1.05575D-01\n",
      "  ys=-2.502E-13  -gs= 1.238E-12 BFGS update SKIPPED\n",
      "\n",
      "           * * *\n",
      "\n",
      "Tit   = total number of iterations\n",
      "Tnf   = total number of function evaluations\n",
      "Tnint = total number of segments explored during Cauchy searches\n",
      "Skip  = number of BFGS updates skipped\n",
      "Nact  = number of active bounds at final generalized Cauchy point\n",
      "Projg = norm of the final projected gradient\n",
      "F     = final function value\n",
      "\n",
      "           * * *\n",
      "\n",
      "   N    Tit     Tnf  Tnint  Skip  Nact     Projg        F\n",
      "   16     26    130      4     1     0   1.056D-01   9.977D-01\n",
      "  F =  0.99773990050029793     \n",
      "\n",
      "ABNORMAL_TERMINATION_IN_LNSRCH                              \n",
      "RUNNING THE L-BFGS-B CODE\n",
      "\n",
      "           * * *\n",
      "\n",
      "Machine precision = 2.220D-16\n",
      " N =           17     M =           10\n",
      "\n",
      "At X0         0 variables are exactly at the bounds\n",
      "\n",
      "At iterate    0    f=  2.27021D+00    |proj g|=  1.81397D-01\n"
     ]
    },
    {
     "name": "stderr",
     "output_type": "stream",
     "text": [
      " This problem is unconstrained.\n"
     ]
    },
    {
     "name": "stdout",
     "output_type": "stream",
     "text": [
      "\n",
      "At iterate    5    f=  1.18223D+00    |proj g|=  2.56411D-01\n",
      "\n",
      "At iterate   10    f=  1.06230D+00    |proj g|=  2.63505D-01\n",
      "\n",
      "At iterate   15    f=  1.02194D+00    |proj g|=  1.04502D-01\n",
      "\n",
      "At iterate   20    f=  9.97732D-01    |proj g|=  1.33289D-01\n",
      "\n",
      "At iterate   25    f=  9.96532D-01    |proj g|=  8.16123D-02\n",
      "\n",
      "At iterate   30    f=  9.95630D-01    |proj g|=  8.80433D-02\n",
      "\n",
      "At iterate   35    f=  9.95576D-01    |proj g|=  7.83772D-02\n",
      "  ys=-2.403E-06  -gs= 2.085E-06 BFGS update SKIPPED\n",
      "\n",
      "At iterate   40    f=  9.95575D-01    |proj g|=  7.56534D-02\n",
      "  ys=-1.366E-17  -gs= 2.541E-16 BFGS update SKIPPED\n",
      "  ys=-1.700E-06  -gs= 1.652E-06 BFGS update SKIPPED\n"
     ]
    },
    {
     "name": "stderr",
     "output_type": "stream",
     "text": [
      "\n",
      " Warning:  more than 10 function and gradient\n",
      "   evaluations in the last line search.  Termination\n",
      "   may possibly be caused by a bad search direction.\n",
      " 47%|███████████████████████████████████████▏                                           | 17/36 [00:28<00:37,  1.98s/it] This problem is unconstrained.\n"
     ]
    },
    {
     "name": "stdout",
     "output_type": "stream",
     "text": [
      "\n",
      "           * * *\n",
      "\n",
      "Tit   = total number of iterations\n",
      "Tnf   = total number of function evaluations\n",
      "Tnint = total number of segments explored during Cauchy searches\n",
      "Skip  = number of BFGS updates skipped\n",
      "Nact  = number of active bounds at final generalized Cauchy point\n",
      "Projg = norm of the final projected gradient\n",
      "F     = final function value\n",
      "\n",
      "           * * *\n",
      "\n",
      "   N    Tit     Tnf  Tnint  Skip  Nact     Projg        F\n",
      "   17     44    149      1     3     0   1.538D-01   9.956D-01\n",
      "  F =  0.99557420614995773     \n",
      "\n",
      "CONVERGENCE: REL_REDUCTION_OF_F_<=_FACTR*EPSMCH             \n",
      "ARIMA RMSE = 30.3913428472426\n",
      "RUNNING THE L-BFGS-B CODE\n",
      "\n",
      "           * * *\n",
      "\n",
      "Machine precision = 2.220D-16\n",
      " N =           18     M =           10\n",
      "\n",
      "At X0         0 variables are exactly at the bounds\n",
      "\n",
      "At iterate    0    f=  2.27057D+00    |proj g|=  1.83400D-01\n",
      "\n",
      "At iterate    5    f=  1.14579D+00    |proj g|=  2.09109D-01\n",
      "\n",
      "At iterate   10    f=  1.06865D+00    |proj g|=  3.88064D-01\n",
      "\n",
      "At iterate   15    f=  1.02056D+00    |proj g|=  1.44690D-01\n",
      "\n",
      "At iterate   20    f=  9.98975D-01    |proj g|=  1.72315D-01\n",
      "\n",
      "At iterate   25    f=  9.98218D-01    |proj g|=  8.19618D-02\n",
      "\n",
      "At iterate   30    f=  9.97795D-01    |proj g|=  1.08330D-01\n",
      "\n",
      "At iterate   35    f=  9.97703D-01    |proj g|=  7.64997D-02\n",
      "  ys=-2.181E-11  -gs= 2.315E-11 BFGS update SKIPPED\n"
     ]
    },
    {
     "name": "stderr",
     "output_type": "stream",
     "text": [
      "\n",
      " Bad direction in the line search;\n",
      "   refresh the lbfgs memory and restart the iteration.\n",
      "\n",
      " Bad direction in the line search;\n",
      "   refresh the lbfgs memory and restart the iteration.\n"
     ]
    },
    {
     "name": "stdout",
     "output_type": "stream",
     "text": [
      "\n",
      "At iterate   40    f=  9.97695D-01    |proj g|=  2.16371D-01\n",
      "  ys=-2.522E-08  -gs= 3.722E-08 BFGS update SKIPPED\n"
     ]
    },
    {
     "name": "stderr",
     "output_type": "stream",
     "text": [
      "\n",
      " Bad direction in the line search;\n",
      "   refresh the lbfgs memory and restart the iteration.\n"
     ]
    },
    {
     "name": "stdout",
     "output_type": "stream",
     "text": [
      "  ys=-6.190E-12  -gs= 5.434E-11 BFGS update SKIPPED\n"
     ]
    },
    {
     "name": "stderr",
     "output_type": "stream",
     "text": [
      "\n",
      " Bad direction in the line search;\n",
      "   refresh the lbfgs memory and restart the iteration.\n",
      "/home/sumants/miniconda3/envs/cis545/lib/python3.8/site-packages/statsmodels/base/model.py:604: ConvergenceWarning: Maximum Likelihood optimization failed to converge. Check mle_retvals\n",
      "  warnings.warn(\"Maximum Likelihood optimization failed to \"\n",
      "\n",
      " Line search cannot locate an adequate point after MAXLS\n",
      "  function and gradient evaluations.\n",
      "  Previous x, f and g restored.\n",
      " Possible causes: 1 error in function or gradient evaluation;\n",
      "                  2 rounding error dominate computation.\n",
      " 50%|█████████████████████████████████████████▌                                         | 18/36 [00:31<00:43,  2.43s/it] This problem is unconstrained.\n"
     ]
    },
    {
     "name": "stdout",
     "output_type": "stream",
     "text": [
      "\n",
      "           * * *\n",
      "\n",
      "Tit   = total number of iterations\n",
      "Tnf   = total number of function evaluations\n",
      "Tnint = total number of segments explored during Cauchy searches\n",
      "Skip  = number of BFGS updates skipped\n",
      "Nact  = number of active bounds at final generalized Cauchy point\n",
      "Projg = norm of the final projected gradient\n",
      "F     = final function value\n",
      "\n",
      "           * * *\n",
      "\n",
      "   N    Tit     Tnf  Tnint  Skip  Nact     Projg        F\n",
      "   18     43    228      5     3     0   2.915D-01   9.977D-01\n",
      "  F =  0.99769445362753773     \n",
      "\n",
      "ABNORMAL_TERMINATION_IN_LNSRCH                              \n",
      "RUNNING THE L-BFGS-B CODE\n",
      "\n",
      "           * * *\n",
      "\n",
      "Machine precision = 2.220D-16\n",
      " N =           17     M =           10\n",
      "\n",
      "At X0         0 variables are exactly at the bounds\n",
      "\n",
      "At iterate    0    f=  2.20493D+00    |proj g|=  1.90026D-01\n",
      "\n",
      "At iterate    5    f=  1.09430D+00    |proj g|=  5.49417D-01\n",
      "\n",
      "At iterate   10    f=  1.02087D+00    |proj g|=  2.02427D-01\n",
      "\n",
      "At iterate   15    f=  9.96736D-01    |proj g|=  1.66033D-01\n",
      "\n",
      "At iterate   20    f=  9.94963D-01    |proj g|=  8.66588D-02\n",
      "\n",
      "At iterate   25    f=  9.91922D-01    |proj g|=  9.97998D-02\n",
      "\n",
      "At iterate   30    f=  9.91681D-01    |proj g|=  1.05338D-01\n",
      "\n",
      "At iterate   35    f=  9.91093D-01    |proj g|=  8.95640D-02\n",
      "\n",
      "At iterate   40    f=  9.90983D-01    |proj g|=  1.42994D-01\n"
     ]
    },
    {
     "name": "stderr",
     "output_type": "stream",
     "text": [
      "/home/sumants/miniconda3/envs/cis545/lib/python3.8/site-packages/statsmodels/base/model.py:604: ConvergenceWarning: Maximum Likelihood optimization failed to converge. Check mle_retvals\n",
      "  warnings.warn(\"Maximum Likelihood optimization failed to \"\n",
      "\r",
      " 53%|███████████████████████████████████████████▊                                       | 19/36 [00:33<00:35,  2.07s/it]"
     ]
    },
    {
     "name": "stdout",
     "output_type": "stream",
     "text": [
      "\n",
      "At iterate   45    f=  9.89449D-01    |proj g|=  8.77073D-02\n",
      "\n",
      "At iterate   50    f=  9.89358D-01    |proj g|=  8.24304D-02\n",
      "\n",
      "           * * *\n",
      "\n",
      "Tit   = total number of iterations\n",
      "Tnf   = total number of function evaluations\n",
      "Tnint = total number of segments explored during Cauchy searches\n",
      "Skip  = number of BFGS updates skipped\n",
      "Nact  = number of active bounds at final generalized Cauchy point\n",
      "Projg = norm of the final projected gradient\n",
      "F     = final function value\n",
      "\n",
      "           * * *\n",
      "\n",
      "   N    Tit     Tnf  Tnint  Skip  Nact     Projg        F\n",
      "   17     50     99      1     0     0   8.243D-02   9.894D-01\n",
      "  F =  0.98935803198562766     \n",
      "\n",
      "STOP: TOTAL NO. of ITERATIONS REACHED LIMIT                 \n"
     ]
    },
    {
     "name": "stderr",
     "output_type": "stream",
     "text": [
      "/home/sumants/miniconda3/envs/cis545/lib/python3.8/site-packages/statsmodels/tsa/statespace/sarimax.py:966: UserWarning: Non-stationary starting autoregressive parameters found. Using zeros as starting parameters.\n",
      "  warn('Non-stationary starting autoregressive parameters'\n",
      "/home/sumants/miniconda3/envs/cis545/lib/python3.8/site-packages/statsmodels/tsa/statespace/sarimax.py:978: UserWarning: Non-invertible starting MA parameters found. Using zeros as starting parameters.\n",
      "  warn('Non-invertible starting MA parameters found.'\n",
      " This problem is unconstrained.\n"
     ]
    },
    {
     "name": "stdout",
     "output_type": "stream",
     "text": [
      "RUNNING THE L-BFGS-B CODE\n",
      "\n",
      "           * * *\n",
      "\n",
      "Machine precision = 2.220D-16\n",
      " N =           18     M =           10\n",
      "\n",
      "At X0         0 variables are exactly at the bounds\n",
      "\n",
      "At iterate    0    f=  2.20637D+00    |proj g|=  1.88772D-01\n",
      "\n",
      "At iterate    5    f=  1.11466D+00    |proj g|=  3.82821D-01\n",
      "\n",
      "At iterate   10    f=  1.01393D+00    |proj g|=  7.03600D-02\n",
      "\n",
      "At iterate   15    f=  1.00349D+00    |proj g|=  1.09135D-01\n",
      "\n",
      "At iterate   20    f=  9.92178D-01    |proj g|=  1.80892D-01\n",
      "\n",
      "At iterate   25    f=  9.83961D-01    |proj g|=  1.40527D-01\n",
      "\n",
      "At iterate   30    f=  9.78090D-01    |proj g|=  1.48021D-01\n",
      "\n",
      "At iterate   35    f=  9.77224D-01    |proj g|=  2.41428D-01\n",
      "\n",
      "At iterate   40    f=  9.76883D-01    |proj g|=  6.03442D-02\n",
      "\n",
      "At iterate   45    f=  9.74787D-01    |proj g|=  6.00151D-02\n",
      "  ys=-1.893E-12  -gs= 1.064E-11 BFGS update SKIPPED\n",
      "  ys=-1.469E-13  -gs= 7.937E-13 BFGS update SKIPPED\n"
     ]
    },
    {
     "name": "stderr",
     "output_type": "stream",
     "text": [
      "\n",
      " Bad direction in the line search;\n",
      "   refresh the lbfgs memory and restart the iteration.\n",
      "/home/sumants/miniconda3/envs/cis545/lib/python3.8/site-packages/statsmodels/base/model.py:604: ConvergenceWarning: Maximum Likelihood optimization failed to converge. Check mle_retvals\n",
      "  warnings.warn(\"Maximum Likelihood optimization failed to \"\n",
      " 56%|██████████████████████████████████████████████                                     | 20/36 [00:35<00:32,  2.06s/it] This problem is unconstrained.\n"
     ]
    },
    {
     "name": "stdout",
     "output_type": "stream",
     "text": [
      "\n",
      "At iterate   50    f=  9.74690D-01    |proj g|=  6.62649D-02\n",
      "\n",
      "           * * *\n",
      "\n",
      "Tit   = total number of iterations\n",
      "Tnf   = total number of function evaluations\n",
      "Tnint = total number of segments explored during Cauchy searches\n",
      "Skip  = number of BFGS updates skipped\n",
      "Nact  = number of active bounds at final generalized Cauchy point\n",
      "Projg = norm of the final projected gradient\n",
      "F     = final function value\n",
      "\n",
      "           * * *\n",
      "\n",
      "   N    Tit     Tnf  Tnint  Skip  Nact     Projg        F\n",
      "   18     50    147      2     2     0   6.626D-02   9.747D-01\n",
      "  F =  0.97468963482841253     \n",
      "\n",
      "STOP: TOTAL NO. of ITERATIONS REACHED LIMIT                 \n",
      "RUNNING THE L-BFGS-B CODE\n",
      "\n",
      "           * * *\n",
      "\n",
      "Machine precision = 2.220D-16\n",
      " N =           19     M =           10\n",
      "\n",
      "At X0         0 variables are exactly at the bounds\n",
      "\n",
      "At iterate    0    f=  2.20492D+00    |proj g|=  1.90008D-01\n",
      "\n",
      "At iterate    5    f=  1.06551D+00    |proj g|=  6.89011D-01\n",
      "\n",
      "At iterate   10    f=  1.01246D+00    |proj g|=  1.31467D-01\n",
      "\n",
      "At iterate   15    f=  1.00180D+00    |proj g|=  1.51731D-01\n",
      "\n",
      "At iterate   20    f=  9.81257D-01    |proj g|=  1.42135D-01\n",
      "\n",
      "At iterate   25    f=  9.71196D-01    |proj g|=  1.41750D-01\n",
      "\n",
      "At iterate   30    f=  9.70001D-01    |proj g|=  6.97137D-02\n"
     ]
    },
    {
     "name": "stderr",
     "output_type": "stream",
     "text": [
      "\n",
      " Bad direction in the line search;\n",
      "   refresh the lbfgs memory and restart the iteration.\n"
     ]
    },
    {
     "name": "stdout",
     "output_type": "stream",
     "text": [
      "\n",
      "At iterate   35    f=  9.69917D-01    |proj g|=  1.15038D-01\n",
      "\n",
      "At iterate   40    f=  9.69206D-01    |proj g|=  8.80189D-02\n",
      "\n",
      "At iterate   45    f=  9.68664D-01    |proj g|=  1.06069D-01\n"
     ]
    },
    {
     "name": "stderr",
     "output_type": "stream",
     "text": [
      "/home/sumants/miniconda3/envs/cis545/lib/python3.8/site-packages/statsmodels/base/model.py:604: ConvergenceWarning: Maximum Likelihood optimization failed to converge. Check mle_retvals\n",
      "  warnings.warn(\"Maximum Likelihood optimization failed to \"\n",
      " 58%|████████████████████████████████████████████████▍                                  | 21/36 [00:37<00:30,  2.02s/it] This problem is unconstrained.\n"
     ]
    },
    {
     "name": "stdout",
     "output_type": "stream",
     "text": [
      "\n",
      "At iterate   50    f=  9.68056D-01    |proj g|=  1.51549D-01\n",
      "\n",
      "           * * *\n",
      "\n",
      "Tit   = total number of iterations\n",
      "Tnf   = total number of function evaluations\n",
      "Tnint = total number of segments explored during Cauchy searches\n",
      "Skip  = number of BFGS updates skipped\n",
      "Nact  = number of active bounds at final generalized Cauchy point\n",
      "Projg = norm of the final projected gradient\n",
      "F     = final function value\n",
      "\n",
      "           * * *\n",
      "\n",
      "   N    Tit     Tnf  Tnint  Skip  Nact     Projg        F\n",
      "   19     50    119      2     0     0   1.515D-01   9.681D-01\n",
      "  F =  0.96805619842828916     \n",
      "\n",
      "STOP: TOTAL NO. of ITERATIONS REACHED LIMIT                 \n",
      "RUNNING THE L-BFGS-B CODE\n",
      "\n",
      "           * * *\n",
      "\n",
      "Machine precision = 2.220D-16\n",
      " N =           17     M =           10\n",
      "\n",
      "At X0         0 variables are exactly at the bounds\n",
      "\n",
      "At iterate    0    f=  2.22843D+00    |proj g|=  1.92409D-01\n",
      "\n",
      "At iterate    5    f=  1.07546D+00    |proj g|=  1.47156D-01\n",
      "\n",
      "At iterate   10    f=  1.03967D+00    |proj g|=  1.54341D-01\n",
      "\n",
      "At iterate   15    f=  1.00886D+00    |proj g|=  1.45084D-01\n",
      "\n",
      "At iterate   20    f=  9.89325D-01    |proj g|=  1.34075D-01\n",
      "\n",
      "At iterate   25    f=  9.79986D-01    |proj g|=  1.45913D-01\n",
      "\n",
      "At iterate   30    f=  9.73027D-01    |proj g|=  1.07092D-01\n",
      "\n",
      "At iterate   35    f=  9.68494D-01    |proj g|=  1.52600D-01\n",
      "\n",
      "At iterate   40    f=  9.65687D-01    |proj g|=  1.07635D-01\n",
      "\n",
      "At iterate   45    f=  9.65255D-01    |proj g|=  1.09473D-01\n"
     ]
    },
    {
     "name": "stderr",
     "output_type": "stream",
     "text": [
      "/home/sumants/miniconda3/envs/cis545/lib/python3.8/site-packages/statsmodels/base/model.py:604: ConvergenceWarning: Maximum Likelihood optimization failed to converge. Check mle_retvals\n",
      "  warnings.warn(\"Maximum Likelihood optimization failed to \"\n",
      "\r",
      " 61%|██████████████████████████████████████████████████▋                                | 22/36 [00:38<00:24,  1.74s/it]"
     ]
    },
    {
     "name": "stdout",
     "output_type": "stream",
     "text": [
      "\n",
      "At iterate   50    f=  9.64917D-01    |proj g|=  1.47680D-01\n",
      "\n",
      "           * * *\n",
      "\n",
      "Tit   = total number of iterations\n",
      "Tnf   = total number of function evaluations\n",
      "Tnint = total number of segments explored during Cauchy searches\n",
      "Skip  = number of BFGS updates skipped\n",
      "Nact  = number of active bounds at final generalized Cauchy point\n",
      "Projg = norm of the final projected gradient\n",
      "F     = final function value\n",
      "\n",
      "           * * *\n",
      "\n",
      "   N    Tit     Tnf  Tnint  Skip  Nact     Projg        F\n",
      "   17     50     88      1     0     0   1.477D-01   9.649D-01\n",
      "  F =  0.96491730142086052     \n",
      "\n",
      "STOP: TOTAL NO. of ITERATIONS REACHED LIMIT                 \n",
      "RUNNING THE L-BFGS-B CODE\n",
      "\n",
      "           * * *\n",
      "\n",
      "Machine precision = 2.220D-16\n",
      " N =           18     M =           10\n",
      "\n",
      "At X0         0 variables are exactly at the bounds\n",
      "\n",
      "At iterate    0    f=  2.22814D+00    |proj g|=  1.92554D-01\n"
     ]
    },
    {
     "name": "stderr",
     "output_type": "stream",
     "text": [
      "/home/sumants/miniconda3/envs/cis545/lib/python3.8/site-packages/statsmodels/tsa/statespace/sarimax.py:966: UserWarning: Non-stationary starting autoregressive parameters found. Using zeros as starting parameters.\n",
      "  warn('Non-stationary starting autoregressive parameters'\n",
      "/home/sumants/miniconda3/envs/cis545/lib/python3.8/site-packages/statsmodels/tsa/statespace/sarimax.py:978: UserWarning: Non-invertible starting MA parameters found. Using zeros as starting parameters.\n",
      "  warn('Non-invertible starting MA parameters found.'\n",
      " This problem is unconstrained.\n"
     ]
    },
    {
     "name": "stdout",
     "output_type": "stream",
     "text": [
      "\n",
      "At iterate    5    f=  1.08258D+00    |proj g|=  2.46865D-01\n",
      "\n",
      "At iterate   10    f=  1.00806D+00    |proj g|=  1.42446D-01\n",
      "\n",
      "At iterate   15    f=  9.73763D-01    |proj g|=  3.28582D-01\n",
      "\n",
      "At iterate   20    f=  9.65902D-01    |proj g|=  9.72602D-02\n",
      "\n",
      "At iterate   25    f=  9.65831D-01    |proj g|=  4.81551D-02\n",
      "\n",
      "At iterate   30    f=  9.65250D-01    |proj g|=  1.24678D-01\n",
      "  ys=-1.028E-11  -gs= 4.997E-11 BFGS update SKIPPED\n"
     ]
    },
    {
     "name": "stderr",
     "output_type": "stream",
     "text": [
      "\n",
      " Bad direction in the line search;\n",
      "   refresh the lbfgs memory and restart the iteration.\n"
     ]
    },
    {
     "name": "stdout",
     "output_type": "stream",
     "text": [
      "\n",
      "At iterate   35    f=  9.65127D-01    |proj g|=  6.01130D-02\n",
      "  ys=-4.028E-13  -gs= 4.293E-13 BFGS update SKIPPED\n"
     ]
    },
    {
     "name": "stderr",
     "output_type": "stream",
     "text": [
      "\n",
      " Bad direction in the line search;\n",
      "   refresh the lbfgs memory and restart the iteration.\n"
     ]
    },
    {
     "name": "stdout",
     "output_type": "stream",
     "text": [
      "\n",
      "At iterate   40    f=  9.65119D-01    |proj g|=  1.36706D-01\n",
      "  ys=-3.818E-10  -gs= 4.704E-09 BFGS update SKIPPED\n",
      "  ys=-3.938E-14  -gs= 9.336E-12 BFGS update SKIPPED\n"
     ]
    },
    {
     "name": "stderr",
     "output_type": "stream",
     "text": [
      "\n",
      " Bad direction in the line search;\n",
      "   refresh the lbfgs memory and restart the iteration.\n"
     ]
    },
    {
     "name": "stdout",
     "output_type": "stream",
     "text": [
      "  ys=-5.768E-12  -gs= 3.636E-11 BFGS update SKIPPED\n"
     ]
    },
    {
     "name": "stderr",
     "output_type": "stream",
     "text": [
      "/home/sumants/miniconda3/envs/cis545/lib/python3.8/site-packages/statsmodels/base/model.py:604: ConvergenceWarning: Maximum Likelihood optimization failed to converge. Check mle_retvals\n",
      "  warnings.warn(\"Maximum Likelihood optimization failed to \"\n",
      "\n",
      " Line search cannot locate an adequate point after MAXLS\n",
      "  function and gradient evaluations.\n",
      "  Previous x, f and g restored.\n",
      " Possible causes: 1 error in function or gradient evaluation;\n",
      "                  2 rounding error dominate computation.\n",
      " 64%|█████████████████████████████████████████████████████                              | 23/36 [00:41<00:27,  2.13s/it] This problem is unconstrained.\n"
     ]
    },
    {
     "name": "stdout",
     "output_type": "stream",
     "text": [
      "\n",
      "           * * *\n",
      "\n",
      "Tit   = total number of iterations\n",
      "Tnf   = total number of function evaluations\n",
      "Tnint = total number of segments explored during Cauchy searches\n",
      "Skip  = number of BFGS updates skipped\n",
      "Nact  = number of active bounds at final generalized Cauchy point\n",
      "Projg = norm of the final projected gradient\n",
      "F     = final function value\n",
      "\n",
      "           * * *\n",
      "\n",
      "   N    Tit     Tnf  Tnint  Skip  Nact     Projg        F\n",
      "   18     43    253      5     5     0   1.580D-01   9.651D-01\n",
      "  F =  0.96511858537359285     \n",
      "\n",
      "ABNORMAL_TERMINATION_IN_LNSRCH                              \n",
      "RUNNING THE L-BFGS-B CODE\n",
      "\n",
      "           * * *\n",
      "\n",
      "Machine precision = 2.220D-16\n",
      " N =           19     M =           10\n",
      "\n",
      "At X0         0 variables are exactly at the bounds\n",
      "\n",
      "At iterate    0    f=  2.22954D+00    |proj g|=  1.90769D-01\n",
      "\n",
      "At iterate    5    f=  1.05704D+00    |proj g|=  2.18975D-01\n",
      "\n",
      "At iterate   10    f=  9.91356D-01    |proj g|=  1.39680D-01\n",
      "  ys=-2.969E-07  -gs= 2.386E-06 BFGS update SKIPPED\n",
      "\n",
      "At iterate   15    f=  9.74052D-01    |proj g|=  1.38781D-01\n",
      "\n",
      "At iterate   20    f=  9.64141D-01    |proj g|=  1.30428D-01\n",
      "  ys=-1.334E-10  -gs= 2.597E-10 BFGS update SKIPPED\n"
     ]
    },
    {
     "name": "stderr",
     "output_type": "stream",
     "text": [
      "\n",
      " Bad direction in the line search;\n",
      "   refresh the lbfgs memory and restart the iteration.\n",
      "/home/sumants/miniconda3/envs/cis545/lib/python3.8/site-packages/statsmodels/base/model.py:604: ConvergenceWarning: Maximum Likelihood optimization failed to converge. Check mle_retvals\n",
      "  warnings.warn(\"Maximum Likelihood optimization failed to \"\n",
      "\n",
      " Line search cannot locate an adequate point after MAXLS\n",
      "  function and gradient evaluations.\n",
      "  Previous x, f and g restored.\n",
      " Possible causes: 1 error in function or gradient evaluation;\n",
      "                  2 rounding error dominate computation.\n",
      " 67%|███████████████████████████████████████████████████████▎                           | 24/36 [00:43<00:26,  2.18s/it] This problem is unconstrained.\n"
     ]
    },
    {
     "name": "stdout",
     "output_type": "stream",
     "text": [
      "\n",
      "           * * *\n",
      "\n",
      "Tit   = total number of iterations\n",
      "Tnf   = total number of function evaluations\n",
      "Tnint = total number of segments explored during Cauchy searches\n",
      "Skip  = number of BFGS updates skipped\n",
      "Nact  = number of active bounds at final generalized Cauchy point\n",
      "Projg = norm of the final projected gradient\n",
      "F     = final function value\n",
      "\n",
      "           * * *\n",
      "\n",
      "   N    Tit     Tnf  Tnint  Skip  Nact     Projg        F\n",
      "   19     24    129      2     2     0   1.372D-01   9.641D-01\n",
      "  F =  0.96414090496380433     \n",
      "\n",
      "ABNORMAL_TERMINATION_IN_LNSRCH                              \n",
      "RUNNING THE L-BFGS-B CODE\n",
      "\n",
      "           * * *\n",
      "\n",
      "Machine precision = 2.220D-16\n",
      " N =           17     M =           10\n",
      "\n",
      "At X0         0 variables are exactly at the bounds\n",
      "\n",
      "At iterate    0    f=  2.24988D+00    |proj g|=  1.87161D-01\n",
      "\n",
      "At iterate    5    f=  1.10793D+00    |proj g|=  6.11765D-02\n",
      "\n",
      "At iterate   10    f=  1.01012D+00    |proj g|=  2.53634D-01\n",
      "\n",
      "At iterate   15    f=  9.98134D-01    |proj g|=  1.15564D-01\n"
     ]
    },
    {
     "name": "stderr",
     "output_type": "stream",
     "text": [
      "\n",
      " Bad direction in the line search;\n",
      "   refresh the lbfgs memory and restart the iteration.\n"
     ]
    },
    {
     "name": "stdout",
     "output_type": "stream",
     "text": [
      "\n",
      "At iterate   20    f=  9.97477D-01    |proj g|=  6.94133D-02\n",
      "\n",
      "At iterate   25    f=  9.96075D-01    |proj g|=  5.80695D-02\n",
      "\n",
      "At iterate   30    f=  9.95857D-01    |proj g|=  6.74464D-02\n",
      "\n",
      "At iterate   35    f=  9.95588D-01    |proj g|=  9.56827D-02\n",
      "\n",
      "At iterate   40    f=  9.95584D-01    |proj g|=  8.08520D-02\n"
     ]
    },
    {
     "name": "stderr",
     "output_type": "stream",
     "text": [
      "\n",
      " Warning:  more than 10 function and gradient\n",
      "   evaluations in the last line search.  Termination\n",
      "   may possibly be caused by a bad search direction.\n",
      "\r",
      " 69%|█████████████████████████████████████████████████████████▋                         | 25/36 [00:45<00:23,  2.09s/it]"
     ]
    },
    {
     "name": "stdout",
     "output_type": "stream",
     "text": [
      "\n",
      "           * * *\n",
      "\n",
      "Tit   = total number of iterations\n",
      "Tnf   = total number of function evaluations\n",
      "Tnint = total number of segments explored during Cauchy searches\n",
      "Skip  = number of BFGS updates skipped\n",
      "Nact  = number of active bounds at final generalized Cauchy point\n",
      "Projg = norm of the final projected gradient\n",
      "F     = final function value\n",
      "\n",
      "           * * *\n",
      "\n",
      "   N    Tit     Tnf  Tnint  Skip  Nact     Projg        F\n",
      "   17     44    140      2     0     0   1.267D-01   9.956D-01\n",
      "  F =  0.99558180955572695     \n",
      "\n",
      "CONVERGENCE: REL_REDUCTION_OF_F_<=_FACTR*EPSMCH             \n",
      "RUNNING THE L-BFGS-B CODE\n",
      "\n",
      "           * * *\n",
      "\n",
      "Machine precision = 2.220D-16\n",
      " N =           18     M =           10\n",
      "\n",
      "At X0         0 variables are exactly at the bounds\n",
      "\n",
      "At iterate    0    f=  2.33820D+00    |proj g|=  2.50803D-01\n",
      "\n",
      "At iterate    5    f=  1.32638D+00    |proj g|=  4.24419D-01\n"
     ]
    },
    {
     "name": "stderr",
     "output_type": "stream",
     "text": [
      " This problem is unconstrained.\n"
     ]
    },
    {
     "name": "stdout",
     "output_type": "stream",
     "text": [
      "\n",
      "At iterate   10    f=  1.10966D+00    |proj g|=  1.41504D-01\n",
      "\n",
      "At iterate   15    f=  1.03462D+00    |proj g|=  2.77183D-01\n",
      "\n",
      "At iterate   20    f=  1.00293D+00    |proj g|=  9.18003D-02\n",
      "\n",
      "At iterate   25    f=  9.96176D-01    |proj g|=  7.59118D-02\n"
     ]
    },
    {
     "name": "stderr",
     "output_type": "stream",
     "text": [
      "\n",
      " Bad direction in the line search;\n",
      "   refresh the lbfgs memory and restart the iteration.\n"
     ]
    },
    {
     "name": "stdout",
     "output_type": "stream",
     "text": [
      "\n",
      "At iterate   30    f=  9.95977D-01    |proj g|=  3.04708D-01\n",
      "  ys=-3.491E-16  -gs= 9.578E-15 BFGS update SKIPPED\n",
      "  ys=-1.081E-07  -gs= 4.268E-07 BFGS update SKIPPED\n"
     ]
    },
    {
     "name": "stderr",
     "output_type": "stream",
     "text": [
      "\n",
      " Bad direction in the line search;\n",
      "   refresh the lbfgs memory and restart the iteration.\n"
     ]
    },
    {
     "name": "stdout",
     "output_type": "stream",
     "text": [
      "\n",
      "At iterate   35    f=  9.95830D-01    |proj g|=  3.99082D-01\n",
      "\n",
      "At iterate   40    f=  9.95767D-01    |proj g|=  7.70254D-02\n",
      "  ys=-6.537E-13  -gs= 9.811E-12 BFGS update SKIPPED\n"
     ]
    },
    {
     "name": "stderr",
     "output_type": "stream",
     "text": [
      "\n",
      " Bad direction in the line search;\n",
      "   refresh the lbfgs memory and restart the iteration.\n",
      "\n",
      " Bad direction in the line search;\n",
      "   refresh the lbfgs memory and restart the iteration.\n",
      "/home/sumants/miniconda3/envs/cis545/lib/python3.8/site-packages/statsmodels/base/model.py:604: ConvergenceWarning: Maximum Likelihood optimization failed to converge. Check mle_retvals\n",
      "  warnings.warn(\"Maximum Likelihood optimization failed to \"\n",
      " 72%|███████████████████████████████████████████████████████████▉                       | 26/36 [00:48<00:23,  2.38s/it]"
     ]
    },
    {
     "name": "stdout",
     "output_type": "stream",
     "text": [
      "\n",
      "At iterate   45    f=  9.95755D-01    |proj g|=  2.35626D-01\n",
      "\n",
      "At iterate   50    f=  9.95603D-01    |proj g|=  8.95960D-02\n",
      "\n",
      "           * * *\n",
      "\n",
      "Tit   = total number of iterations\n",
      "Tnf   = total number of function evaluations\n",
      "Tnint = total number of segments explored during Cauchy searches\n",
      "Skip  = number of BFGS updates skipped\n",
      "Nact  = number of active bounds at final generalized Cauchy point\n",
      "Projg = norm of the final projected gradient\n",
      "F     = final function value\n",
      "\n",
      "           * * *\n",
      "\n",
      "   N    Tit     Tnf  Tnint  Skip  Nact     Projg        F\n",
      "   18     50    225      5     3     0   8.960D-02   9.956D-01\n",
      "  F =  0.99560335040852466     \n",
      "\n",
      "STOP: TOTAL NO. of ITERATIONS REACHED LIMIT                 \n"
     ]
    },
    {
     "name": "stderr",
     "output_type": "stream",
     "text": [
      " This problem is unconstrained.\n"
     ]
    },
    {
     "name": "stdout",
     "output_type": "stream",
     "text": [
      "RUNNING THE L-BFGS-B CODE\n",
      "\n",
      "           * * *\n",
      "\n",
      "Machine precision = 2.220D-16\n",
      " N =           19     M =           10\n",
      "\n",
      "At X0         0 variables are exactly at the bounds\n",
      "\n",
      "At iterate    0    f=  2.28361D+00    |proj g|=  1.80944D-01\n",
      "\n",
      "At iterate    5    f=  1.25168D+00    |proj g|=  2.40038D-01\n",
      "\n",
      "At iterate   10    f=  1.04868D+00    |proj g|=  1.37041D-01\n",
      "\n",
      "At iterate   15    f=  1.01195D+00    |proj g|=  5.46049D-01\n",
      "\n",
      "At iterate   20    f=  9.96585D-01    |proj g|=  7.95622D-02\n",
      "\n",
      "At iterate   25    f=  9.96402D-01    |proj g|=  2.26431D-01\n",
      "\n",
      "At iterate   30    f=  9.96221D-01    |proj g|=  5.43522D-02\n",
      "\n",
      "At iterate   35    f=  9.96182D-01    |proj g|=  7.52946D-02\n",
      "  ys=-2.087E-06  -gs= 2.221E-06 BFGS update SKIPPED\n",
      "  ys=-1.628E-07  -gs= 2.329E-06 BFGS update SKIPPED\n",
      "\n",
      "At iterate   40    f=  9.96181D-01    |proj g|=  1.72549D-01\n",
      "  ys=-3.818E-07  -gs= 1.328E-06 BFGS update SKIPPED\n",
      "  ys=-4.621E-16  -gs= 2.256E-14 BFGS update SKIPPED\n"
     ]
    },
    {
     "name": "stderr",
     "output_type": "stream",
     "text": [
      "\n",
      " Bad direction in the line search;\n",
      "   refresh the lbfgs memory and restart the iteration.\n"
     ]
    },
    {
     "name": "stdout",
     "output_type": "stream",
     "text": [
      "\n",
      "At iterate   45    f=  9.96146D-01    |proj g|=  7.73937D-02\n"
     ]
    },
    {
     "name": "stderr",
     "output_type": "stream",
     "text": [
      "/home/sumants/miniconda3/envs/cis545/lib/python3.8/site-packages/statsmodels/base/model.py:604: ConvergenceWarning: Maximum Likelihood optimization failed to converge. Check mle_retvals\n",
      "  warnings.warn(\"Maximum Likelihood optimization failed to \"\n",
      " 75%|██████████████████████████████████████████████████████████████▎                    | 27/36 [00:52<00:24,  2.74s/it] This problem is unconstrained.\n"
     ]
    },
    {
     "name": "stdout",
     "output_type": "stream",
     "text": [
      "\n",
      "At iterate   50    f=  9.96100D-01    |proj g|=  1.96870D-01\n",
      "\n",
      "           * * *\n",
      "\n",
      "Tit   = total number of iterations\n",
      "Tnf   = total number of function evaluations\n",
      "Tnint = total number of segments explored during Cauchy searches\n",
      "Skip  = number of BFGS updates skipped\n",
      "Nact  = number of active bounds at final generalized Cauchy point\n",
      "Projg = norm of the final projected gradient\n",
      "F     = final function value\n",
      "\n",
      "           * * *\n",
      "\n",
      "   N    Tit     Tnf  Tnint  Skip  Nact     Projg        F\n",
      "   19     50    203      2     4     0   1.969D-01   9.961D-01\n",
      "  F =  0.99610017619349844     \n",
      "\n",
      "STOP: TOTAL NO. of ITERATIONS REACHED LIMIT                 \n",
      "RUNNING THE L-BFGS-B CODE\n",
      "\n",
      "           * * *\n",
      "\n",
      "Machine precision = 2.220D-16\n",
      " N =           19     M =           10\n",
      "\n",
      "At X0         0 variables are exactly at the bounds\n",
      "\n",
      "At iterate    0    f=  2.20506D+00    |proj g|=  1.91216D-01\n",
      "\n",
      "At iterate    5    f=  1.09313D+00    |proj g|=  3.96051D-01\n",
      "\n",
      "At iterate   10    f=  1.00526D+00    |proj g|=  7.73654D-02\n",
      "\n",
      "At iterate   15    f=  9.80478D-01    |proj g|=  7.84007D-02\n",
      "\n",
      "At iterate   20    f=  9.77904D-01    |proj g|=  1.14596D-01\n"
     ]
    },
    {
     "name": "stderr",
     "output_type": "stream",
     "text": [
      "\n",
      " Bad direction in the line search;\n",
      "   refresh the lbfgs memory and restart the iteration.\n"
     ]
    },
    {
     "name": "stdout",
     "output_type": "stream",
     "text": [
      "\n",
      "At iterate   25    f=  9.76931D-01    |proj g|=  6.83340D-02\n",
      "\n",
      "At iterate   30    f=  9.76917D-01    |proj g|=  1.75700D-01\n",
      "  ys=-1.544E-10  -gs= 7.831E-10 BFGS update SKIPPED\n"
     ]
    },
    {
     "name": "stderr",
     "output_type": "stream",
     "text": [
      "\n",
      " Bad direction in the line search;\n",
      "   refresh the lbfgs memory and restart the iteration.\n"
     ]
    },
    {
     "name": "stdout",
     "output_type": "stream",
     "text": [
      "  ys=-8.368E-13  -gs= 1.791E-11 BFGS update SKIPPED\n",
      "  ys=-3.660E-12  -gs= 5.483E-11 BFGS update SKIPPED\n"
     ]
    },
    {
     "name": "stderr",
     "output_type": "stream",
     "text": [
      "/home/sumants/miniconda3/envs/cis545/lib/python3.8/site-packages/statsmodels/base/model.py:604: ConvergenceWarning: Maximum Likelihood optimization failed to converge. Check mle_retvals\n",
      "  warnings.warn(\"Maximum Likelihood optimization failed to \"\n",
      "\n",
      " Line search cannot locate an adequate point after MAXLS\n",
      "  function and gradient evaluations.\n",
      "  Previous x, f and g restored.\n",
      " Possible causes: 1 error in function or gradient evaluation;\n",
      "                  2 rounding error dominate computation.\n",
      " 78%|████████████████████████████████████████████████████████████████▌                  | 28/36 [00:55<00:23,  2.92s/it] This problem is unconstrained.\n"
     ]
    },
    {
     "name": "stdout",
     "output_type": "stream",
     "text": [
      "\n",
      "           * * *\n",
      "\n",
      "Tit   = total number of iterations\n",
      "Tnf   = total number of function evaluations\n",
      "Tnint = total number of segments explored during Cauchy searches\n",
      "Skip  = number of BFGS updates skipped\n",
      "Nact  = number of active bounds at final generalized Cauchy point\n",
      "Projg = norm of the final projected gradient\n",
      "F     = final function value\n",
      "\n",
      "           * * *\n",
      "\n",
      "   N    Tit     Tnf  Tnint  Skip  Nact     Projg        F\n",
      "   19     33    176      5     3     0   1.913D-01   9.769D-01\n",
      "  F =  0.97691697003990896     \n",
      "\n",
      "ABNORMAL_TERMINATION_IN_LNSRCH                              \n",
      "RUNNING THE L-BFGS-B CODE\n",
      "\n",
      "           * * *\n",
      "\n",
      "Machine precision = 2.220D-16\n",
      " N =           20     M =           10\n",
      "\n",
      "At X0         0 variables are exactly at the bounds\n",
      "\n",
      "At iterate    0    f=  2.20482D+00    |proj g|=  1.90291D-01\n",
      "\n",
      "At iterate    5    f=  1.09204D+00    |proj g|=  4.04971D-01\n",
      "\n",
      "At iterate   10    f=  1.01517D+00    |proj g|=  1.02236D-01\n",
      "\n",
      "At iterate   15    f=  9.99501D-01    |proj g|=  5.81483D-02\n",
      "\n",
      "At iterate   20    f=  9.82800D-01    |proj g|=  1.04995D-01\n",
      "\n",
      "At iterate   25    f=  9.80461D-01    |proj g|=  9.12872D-02\n",
      "\n",
      "At iterate   30    f=  9.78633D-01    |proj g|=  1.05466D-01\n",
      "\n",
      "At iterate   35    f=  9.76520D-01    |proj g|=  1.29385D-01\n",
      "  ys=-1.270E-07  -gs= 2.831E-07 BFGS update SKIPPED\n",
      "  ys=-7.049E-08  -gs= 1.789E-07 BFGS update SKIPPED\n",
      "  ys=-7.655E-12  -gs= 2.305E-08 BFGS update SKIPPED\n"
     ]
    },
    {
     "name": "stderr",
     "output_type": "stream",
     "text": [
      "\n",
      " Bad direction in the line search;\n",
      "   refresh the lbfgs memory and restart the iteration.\n"
     ]
    },
    {
     "name": "stdout",
     "output_type": "stream",
     "text": [
      "\n",
      "At iterate   40    f=  9.76009D-01    |proj g|=  1.64545D-01\n",
      "  ys=-6.768E-09  -gs= 3.442E-08 BFGS update SKIPPED\n",
      "  ys=-1.630E-08  -gs= 1.595E-07 BFGS update SKIPPED\n",
      "  ys=-4.838E-10  -gs= 3.017E-08 BFGS update SKIPPED\n"
     ]
    },
    {
     "name": "stderr",
     "output_type": "stream",
     "text": [
      "\n",
      " Bad direction in the line search;\n",
      "   refresh the lbfgs memory and restart the iteration.\n",
      "\n",
      " Bad direction in the line search;\n",
      "   refresh the lbfgs memory and restart the iteration.\n",
      "/home/sumants/miniconda3/envs/cis545/lib/python3.8/site-packages/statsmodels/base/model.py:604: ConvergenceWarning: Maximum Likelihood optimization failed to converge. Check mle_retvals\n",
      "  warnings.warn(\"Maximum Likelihood optimization failed to \"\n",
      "\n",
      " Line search cannot locate an adequate point after MAXLS\n",
      "  function and gradient evaluations.\n",
      "  Previous x, f and g restored.\n",
      " Possible causes: 1 error in function or gradient evaluation;\n",
      "                  2 rounding error dominate computation.\n",
      " 81%|██████████████████████████████████████████████████████████████████▊                | 29/36 [01:00<00:24,  3.56s/it]"
     ]
    },
    {
     "name": "stdout",
     "output_type": "stream",
     "text": [
      "\n",
      "           * * *\n",
      "\n",
      "Tit   = total number of iterations\n",
      "Tnf   = total number of function evaluations\n",
      "Tnint = total number of segments explored during Cauchy searches\n",
      "Skip  = number of BFGS updates skipped\n",
      "Nact  = number of active bounds at final generalized Cauchy point\n",
      "Projg = norm of the final projected gradient\n",
      "F     = final function value\n",
      "\n",
      "           * * *\n",
      "\n",
      "   N    Tit     Tnf  Tnint  Skip  Nact     Projg        F\n",
      "   20     44    231      4     6     0   1.500D-01   9.760D-01\n",
      "  F =  0.97600842894012008     \n",
      "\n",
      "ABNORMAL_TERMINATION_IN_LNSRCH                              \n",
      "RUNNING THE L-BFGS-B CODE\n",
      "\n",
      "           * * *\n",
      "\n",
      "Machine precision = 2.220D-16\n",
      " N =           21     M =           10\n",
      "\n",
      "At X0         0 variables are exactly at the bounds\n",
      "\n",
      "At iterate    0    f=  2.20617D+00    |proj g|=  1.89341D-01\n"
     ]
    },
    {
     "name": "stderr",
     "output_type": "stream",
     "text": [
      "/home/sumants/miniconda3/envs/cis545/lib/python3.8/site-packages/statsmodels/tsa/statespace/sarimax.py:966: UserWarning: Non-stationary starting autoregressive parameters found. Using zeros as starting parameters.\n",
      "  warn('Non-stationary starting autoregressive parameters'\n",
      "/home/sumants/miniconda3/envs/cis545/lib/python3.8/site-packages/statsmodels/tsa/statespace/sarimax.py:978: UserWarning: Non-invertible starting MA parameters found. Using zeros as starting parameters.\n",
      "  warn('Non-invertible starting MA parameters found.'\n",
      " This problem is unconstrained.\n"
     ]
    },
    {
     "name": "stdout",
     "output_type": "stream",
     "text": [
      "\n",
      "At iterate    5    f=  1.08748D+00    |proj g|=  7.95370D-01\n",
      "\n",
      "At iterate   10    f=  1.01626D+00    |proj g|=  1.41644D-01\n",
      "\n",
      "At iterate   15    f=  1.00042D+00    |proj g|=  1.08399D-01\n",
      "\n",
      "At iterate   20    f=  9.85469D-01    |proj g|=  8.09392D-02\n",
      "\n",
      "At iterate   25    f=  9.71732D-01    |proj g|=  1.06967D-01\n",
      "\n",
      "At iterate   30    f=  9.68124D-01    |proj g|=  8.18973D-02\n",
      "  ys=-5.625E-10  -gs= 7.318E-09 BFGS update SKIPPED\n"
     ]
    },
    {
     "name": "stderr",
     "output_type": "stream",
     "text": [
      "\n",
      " Bad direction in the line search;\n",
      "   refresh the lbfgs memory and restart the iteration.\n"
     ]
    },
    {
     "name": "stdout",
     "output_type": "stream",
     "text": [
      "\n",
      "At iterate   35    f=  9.66126D-01    |proj g|=  1.02066D-01\n"
     ]
    },
    {
     "name": "stderr",
     "output_type": "stream",
     "text": [
      "\n",
      " Bad direction in the line search;\n",
      "   refresh the lbfgs memory and restart the iteration.\n"
     ]
    },
    {
     "name": "stdout",
     "output_type": "stream",
     "text": [
      "  ys=-2.248E-13  -gs= 2.218E-11 BFGS update SKIPPED\n"
     ]
    },
    {
     "name": "stderr",
     "output_type": "stream",
     "text": [
      "/home/sumants/miniconda3/envs/cis545/lib/python3.8/site-packages/statsmodels/base/model.py:604: ConvergenceWarning: Maximum Likelihood optimization failed to converge. Check mle_retvals\n",
      "  warnings.warn(\"Maximum Likelihood optimization failed to \"\n",
      "\n",
      " Line search cannot locate an adequate point after MAXLS\n",
      "  function and gradient evaluations.\n",
      "  Previous x, f and g restored.\n",
      " Possible causes: 1 error in function or gradient evaluation;\n",
      "                  2 rounding error dominate computation.\n",
      " 83%|█████████████████████████████████████████████████████████████████████▏             | 30/36 [01:03<00:21,  3.52s/it] This problem is unconstrained.\n"
     ]
    },
    {
     "name": "stdout",
     "output_type": "stream",
     "text": [
      "\n",
      "           * * *\n",
      "\n",
      "Tit   = total number of iterations\n",
      "Tnf   = total number of function evaluations\n",
      "Tnint = total number of segments explored during Cauchy searches\n",
      "Skip  = number of BFGS updates skipped\n",
      "Nact  = number of active bounds at final generalized Cauchy point\n",
      "Projg = norm of the final projected gradient\n",
      "F     = final function value\n",
      "\n",
      "           * * *\n",
      "\n",
      "   N    Tit     Tnf  Tnint  Skip  Nact     Projg        F\n",
      "   21     40    157      4     2     0   1.517D-01   9.649D-01\n",
      "  F =  0.96486815446785290     \n",
      "\n",
      "ABNORMAL_TERMINATION_IN_LNSRCH                              \n",
      "RUNNING THE L-BFGS-B CODE\n",
      "\n",
      "           * * *\n",
      "\n",
      "Machine precision = 2.220D-16\n",
      " N =           19     M =           10\n",
      "\n",
      "At X0         0 variables are exactly at the bounds\n",
      "\n",
      "At iterate    0    f=  2.22804D+00    |proj g|=  1.93110D-01\n",
      "\n",
      "At iterate    5    f=  1.09821D+00    |proj g|=  4.69871D-01\n",
      "\n",
      "At iterate   10    f=  1.04070D+00    |proj g|=  1.12688D-01\n",
      "\n",
      "At iterate   15    f=  9.80727D-01    |proj g|=  3.41479D-01\n",
      "\n",
      "At iterate   20    f=  9.67182D-01    |proj g|=  7.96782D-02\n",
      "\n",
      "At iterate   25    f=  9.67099D-01    |proj g|=  8.97811D-02\n",
      "\n",
      "At iterate   30    f=  9.66805D-01    |proj g|=  1.48505D-01\n",
      "\n",
      "At iterate   35    f=  9.66671D-01    |proj g|=  5.30602D-02\n",
      "\n",
      "At iterate   40    f=  9.66658D-01    |proj g|=  6.47631D-02\n",
      "\n",
      "At iterate   45    f=  9.66651D-01    |proj g|=  1.15714D-01\n"
     ]
    },
    {
     "name": "stderr",
     "output_type": "stream",
     "text": [
      "/home/sumants/miniconda3/envs/cis545/lib/python3.8/site-packages/statsmodels/base/model.py:604: ConvergenceWarning: Maximum Likelihood optimization failed to converge. Check mle_retvals\n",
      "  warnings.warn(\"Maximum Likelihood optimization failed to \"\n",
      " 86%|███████████████████████████████████████████████████████████████████████▍           | 31/36 [01:06<00:16,  3.20s/it] This problem is unconstrained.\n"
     ]
    },
    {
     "name": "stdout",
     "output_type": "stream",
     "text": [
      "\n",
      "At iterate   50    f=  9.66640D-01    |proj g|=  8.13327D-02\n",
      "\n",
      "           * * *\n",
      "\n",
      "Tit   = total number of iterations\n",
      "Tnf   = total number of function evaluations\n",
      "Tnint = total number of segments explored during Cauchy searches\n",
      "Skip  = number of BFGS updates skipped\n",
      "Nact  = number of active bounds at final generalized Cauchy point\n",
      "Projg = norm of the final projected gradient\n",
      "F     = final function value\n",
      "\n",
      "           * * *\n",
      "\n",
      "   N    Tit     Tnf  Tnint  Skip  Nact     Projg        F\n",
      "   19     50    124      1     0     0   8.133D-02   9.666D-01\n",
      "  F =  0.96664012600872318     \n",
      "\n",
      "STOP: TOTAL NO. of ITERATIONS REACHED LIMIT                 \n",
      "RUNNING THE L-BFGS-B CODE\n",
      "\n",
      "           * * *\n",
      "\n",
      "Machine precision = 2.220D-16\n",
      " N =           20     M =           10\n",
      "\n",
      "At X0         0 variables are exactly at the bounds\n",
      "\n",
      "At iterate    0    f=  2.22796D+00    |proj g|=  1.92095D-01\n",
      "\n",
      "At iterate    5    f=  1.05600D+00    |proj g|=  6.60851D-01\n",
      "\n",
      "At iterate   10    f=  1.01063D+00    |proj g|=  2.99058D-01\n",
      "\n",
      "At iterate   15    f=  9.73973D-01    |proj g|=  1.57390D-01\n",
      "\n",
      "At iterate   20    f=  9.65991D-01    |proj g|=  1.30242D-01\n",
      "\n",
      "At iterate   25    f=  9.65076D-01    |proj g|=  7.70883D-02\n",
      "\n",
      "At iterate   30    f=  9.65048D-01    |proj g|=  1.02673D-01\n",
      "  ys=-9.688E-06  -gs= 7.608E-06 BFGS update SKIPPED\n"
     ]
    },
    {
     "name": "stderr",
     "output_type": "stream",
     "text": [
      "\n",
      " Bad direction in the line search;\n",
      "   refresh the lbfgs memory and restart the iteration.\n"
     ]
    },
    {
     "name": "stdout",
     "output_type": "stream",
     "text": [
      "\n",
      "At iterate   35    f=  9.64691D-01    |proj g|=  7.04491D-02\n",
      "  ys=-1.479E-05  -gs= 1.040E-05 BFGS update SKIPPED\n",
      "\n",
      "At iterate   40    f=  9.64436D-01    |proj g|=  1.85275D-01\n",
      "  ys=-7.791E-06  -gs= 4.080E-05 BFGS update SKIPPED\n",
      "  ys=-5.558E-14  -gs= 7.714E-13 BFGS update SKIPPED\n",
      "  ys=-2.567E-08  -gs= 6.007E-08 BFGS update SKIPPED\n"
     ]
    },
    {
     "name": "stderr",
     "output_type": "stream",
     "text": [
      "\n",
      " Bad direction in the line search;\n",
      "   refresh the lbfgs memory and restart the iteration.\n",
      "/home/sumants/miniconda3/envs/cis545/lib/python3.8/site-packages/statsmodels/base/model.py:604: ConvergenceWarning: Maximum Likelihood optimization failed to converge. Check mle_retvals\n",
      "  warnings.warn(\"Maximum Likelihood optimization failed to \"\n",
      "\n",
      " Line search cannot locate an adequate point after MAXLS\n",
      "  function and gradient evaluations.\n",
      "  Previous x, f and g restored.\n",
      " Possible causes: 1 error in function or gradient evaluation;\n",
      "                  2 rounding error dominate computation.\n",
      " 89%|█████████████████████████████████████████████████████████████████████████▊         | 32/36 [01:10<00:14,  3.51s/it] This problem is unconstrained.\n"
     ]
    },
    {
     "name": "stdout",
     "output_type": "stream",
     "text": [
      "\n",
      "           * * *\n",
      "\n",
      "Tit   = total number of iterations\n",
      "Tnf   = total number of function evaluations\n",
      "Tnint = total number of segments explored during Cauchy searches\n",
      "Skip  = number of BFGS updates skipped\n",
      "Nact  = number of active bounds at final generalized Cauchy point\n",
      "Projg = norm of the final projected gradient\n",
      "F     = final function value\n",
      "\n",
      "           * * *\n",
      "\n",
      "   N    Tit     Tnf  Tnint  Skip  Nact     Projg        F\n",
      "   20     44    193      3     5     0   1.627D-01   9.644D-01\n",
      "  F =  0.96443600398582874     \n",
      "\n",
      "ABNORMAL_TERMINATION_IN_LNSRCH                              \n",
      "RUNNING THE L-BFGS-B CODE\n",
      "\n",
      "           * * *\n",
      "\n",
      "Machine precision = 2.220D-16\n",
      " N =           21     M =           10\n",
      "\n",
      "At X0         0 variables are exactly at the bounds\n",
      "\n",
      "At iterate    0    f=  2.23039D+00    |proj g|=  1.89294D-01\n",
      "\n",
      "At iterate    5    f=  1.06221D+00    |proj g|=  1.44342D-01\n",
      "\n",
      "At iterate   10    f=  9.86297D-01    |proj g|=  2.55391D-01\n",
      "\n",
      "At iterate   15    f=  9.67243D-01    |proj g|=  1.13139D-01\n",
      "\n",
      "At iterate   20    f=  9.67073D-01    |proj g|=  7.53572D-02\n",
      "\n",
      "At iterate   25    f=  9.66553D-01    |proj g|=  6.64198D-02\n",
      "  ys=-3.665E-08  -gs= 3.897E-08 BFGS update SKIPPED\n",
      "  ys=-2.190E-12  -gs= 1.084E-11 BFGS update SKIPPED\n"
     ]
    },
    {
     "name": "stderr",
     "output_type": "stream",
     "text": [
      "\n",
      " Bad direction in the line search;\n",
      "   refresh the lbfgs memory and restart the iteration.\n",
      "/home/sumants/miniconda3/envs/cis545/lib/python3.8/site-packages/statsmodels/base/model.py:604: ConvergenceWarning: Maximum Likelihood optimization failed to converge. Check mle_retvals\n",
      "  warnings.warn(\"Maximum Likelihood optimization failed to \"\n",
      "\n",
      " Line search cannot locate an adequate point after MAXLS\n",
      "  function and gradient evaluations.\n",
      "  Previous x, f and g restored.\n",
      " Possible causes: 1 error in function or gradient evaluation;\n",
      "                  2 rounding error dominate computation.\n",
      " 92%|████████████████████████████████████████████████████████████████████████████       | 33/36 [01:13<00:10,  3.41s/it]"
     ]
    },
    {
     "name": "stdout",
     "output_type": "stream",
     "text": [
      "\n",
      "           * * *\n",
      "\n",
      "Tit   = total number of iterations\n",
      "Tnf   = total number of function evaluations\n",
      "Tnint = total number of segments explored during Cauchy searches\n",
      "Skip  = number of BFGS updates skipped\n",
      "Nact  = number of active bounds at final generalized Cauchy point\n",
      "Projg = norm of the final projected gradient\n",
      "F     = final function value\n",
      "\n",
      "           * * *\n",
      "\n",
      "   N    Tit     Tnf  Tnint  Skip  Nact     Projg        F\n",
      "   21     30    141      2     2     0   1.471D-01   9.666D-01\n",
      "  F =  0.96655280437287017     \n",
      "\n",
      "ABNORMAL_TERMINATION_IN_LNSRCH                              \n",
      "RUNNING THE L-BFGS-B CODE\n",
      "\n",
      "           * * *\n",
      "\n",
      "Machine precision = 2.220D-16\n",
      " N =           19     M =           10\n",
      "\n",
      "At X0         0 variables are exactly at the bounds\n",
      "\n",
      "At iterate    0    f=  2.24819D+00    |proj g|=  1.88494D-01\n"
     ]
    },
    {
     "name": "stderr",
     "output_type": "stream",
     "text": [
      " This problem is unconstrained.\n"
     ]
    },
    {
     "name": "stdout",
     "output_type": "stream",
     "text": [
      "\n",
      "At iterate    5    f=  1.14091D+00    |proj g|=  2.89958D-01\n",
      "\n",
      "At iterate   10    f=  1.01551D+00    |proj g|=  2.27378D-01\n",
      "\n",
      "At iterate   15    f=  9.98368D-01    |proj g|=  6.49647D-02\n",
      "\n",
      "At iterate   20    f=  9.98189D-01    |proj g|=  7.71645D-02\n",
      "\n",
      "At iterate   25    f=  9.96967D-01    |proj g|=  8.65885D-02\n",
      "\n",
      "At iterate   30    f=  9.96729D-01    |proj g|=  1.07795D-01\n",
      "  ys=-8.081E-17  -gs= 1.113E-14 BFGS update SKIPPED\n"
     ]
    },
    {
     "name": "stderr",
     "output_type": "stream",
     "text": [
      "\n",
      " Bad direction in the line search;\n",
      "   refresh the lbfgs memory and restart the iteration.\n"
     ]
    },
    {
     "name": "stdout",
     "output_type": "stream",
     "text": [
      "  ys=-4.641E-09  -gs= 4.440E-08 BFGS update SKIPPED\n",
      "\n",
      "At iterate   35    f=  9.96728D-01    |proj g|=  2.06270D-01\n",
      "  ys=-7.721E-17  -gs= 2.826E-15 BFGS update SKIPPED\n"
     ]
    },
    {
     "name": "stderr",
     "output_type": "stream",
     "text": [
      "\n",
      " Bad direction in the line search;\n",
      "   refresh the lbfgs memory and restart the iteration.\n"
     ]
    },
    {
     "name": "stdout",
     "output_type": "stream",
     "text": [
      "\n",
      "At iterate   40    f=  9.96313D-01    |proj g|=  9.69232D-02\n",
      "\n",
      "At iterate   45    f=  9.96159D-01    |proj g|=  1.10695D-01\n",
      "  ys=-9.612E-08  -gs= 1.133E-07 BFGS update SKIPPED\n"
     ]
    },
    {
     "name": "stderr",
     "output_type": "stream",
     "text": [
      "\n",
      " Bad direction in the line search;\n",
      "   refresh the lbfgs memory and restart the iteration.\n"
     ]
    },
    {
     "name": "stdout",
     "output_type": "stream",
     "text": [
      "  ys=-7.412E-11  -gs= 2.724E-10 BFGS update SKIPPED\n"
     ]
    },
    {
     "name": "stderr",
     "output_type": "stream",
     "text": [
      "/home/sumants/miniconda3/envs/cis545/lib/python3.8/site-packages/statsmodels/base/model.py:604: ConvergenceWarning: Maximum Likelihood optimization failed to converge. Check mle_retvals\n",
      "  warnings.warn(\"Maximum Likelihood optimization failed to \"\n",
      "\n",
      " Line search cannot locate an adequate point after MAXLS\n",
      "  function and gradient evaluations.\n",
      "  Previous x, f and g restored.\n",
      " Possible causes: 1 error in function or gradient evaluation;\n",
      "                  2 rounding error dominate computation.\n",
      " 94%|██████████████████████████████████████████████████████████████████████████████▍    | 34/36 [01:19<00:08,  4.02s/it] This problem is unconstrained.\n"
     ]
    },
    {
     "name": "stdout",
     "output_type": "stream",
     "text": [
      "\n",
      "           * * *\n",
      "\n",
      "Tit   = total number of iterations\n",
      "Tnf   = total number of function evaluations\n",
      "Tnint = total number of segments explored during Cauchy searches\n",
      "Skip  = number of BFGS updates skipped\n",
      "Nact  = number of active bounds at final generalized Cauchy point\n",
      "Projg = norm of the final projected gradient\n",
      "F     = final function value\n",
      "\n",
      "           * * *\n",
      "\n",
      "   N    Tit     Tnf  Tnint  Skip  Nact     Projg        F\n",
      "   19     48    253      5     5     0   1.378D-01   9.962D-01\n",
      "  F =  0.99615877730139801     \n",
      "\n",
      "ABNORMAL_TERMINATION_IN_LNSRCH                              \n",
      "RUNNING THE L-BFGS-B CODE\n",
      "\n",
      "           * * *\n",
      "\n",
      "Machine precision = 2.220D-16\n",
      " N =           20     M =           10\n",
      "\n",
      "At X0         0 variables are exactly at the bounds\n",
      "\n",
      "At iterate    0    f=  2.26294D+00    |proj g|=  1.82078D-01\n",
      "\n",
      "At iterate    5    f=  1.19005D+00    |proj g|=  2.52829D-01\n",
      "\n",
      "At iterate   10    f=  1.05814D+00    |proj g|=  2.79773D-01\n",
      "\n",
      "At iterate   15    f=  1.00529D+00    |proj g|=  1.42056D-01\n",
      "\n",
      "At iterate   20    f=  9.97070D-01    |proj g|=  1.89138D-01\n",
      "\n",
      "At iterate   25    f=  9.95658D-01    |proj g|=  9.98225D-02\n",
      "\n",
      "At iterate   30    f=  9.95567D-01    |proj g|=  8.48765D-02\n",
      "  ys=-2.436E-09  -gs= 2.318E-08 BFGS update SKIPPED\n"
     ]
    },
    {
     "name": "stderr",
     "output_type": "stream",
     "text": [
      "\n",
      " Bad direction in the line search;\n",
      "   refresh the lbfgs memory and restart the iteration.\n"
     ]
    },
    {
     "name": "stdout",
     "output_type": "stream",
     "text": [
      "\n",
      "At iterate   35    f=  9.95549D-01    |proj g|=  8.93539D-02\n",
      "  ys=-9.253E-14  -gs= 2.483E-13 BFGS update SKIPPED\n"
     ]
    },
    {
     "name": "stderr",
     "output_type": "stream",
     "text": [
      "\n",
      " Bad direction in the line search;\n",
      "   refresh the lbfgs memory and restart the iteration.\n",
      "/home/sumants/miniconda3/envs/cis545/lib/python3.8/site-packages/statsmodels/base/model.py:604: ConvergenceWarning: Maximum Likelihood optimization failed to converge. Check mle_retvals\n",
      "  warnings.warn(\"Maximum Likelihood optimization failed to \"\n",
      "\n",
      " Line search cannot locate an adequate point after MAXLS\n",
      "  function and gradient evaluations.\n",
      "  Previous x, f and g restored.\n",
      " Possible causes: 1 error in function or gradient evaluation;\n",
      "                  2 rounding error dominate computation.\n",
      " 97%|████████████████████████████████████████████████████████████████████████████████▋  | 35/36 [01:23<00:04,  4.18s/it]"
     ]
    },
    {
     "name": "stdout",
     "output_type": "stream",
     "text": [
      "\n",
      "           * * *\n",
      "\n",
      "Tit   = total number of iterations\n",
      "Tnf   = total number of function evaluations\n",
      "Tnint = total number of segments explored during Cauchy searches\n",
      "Skip  = number of BFGS updates skipped\n",
      "Nact  = number of active bounds at final generalized Cauchy point\n",
      "Projg = norm of the final projected gradient\n",
      "F     = final function value\n",
      "\n",
      "           * * *\n",
      "\n",
      "   N    Tit     Tnf  Tnint  Skip  Nact     Projg        F\n",
      "   20     39    195      3     2     0   1.478D-01   9.955D-01\n",
      "  F =  0.99554848432130683     \n",
      "\n",
      "ABNORMAL_TERMINATION_IN_LNSRCH                              \n",
      "RUNNING THE L-BFGS-B CODE\n",
      "\n",
      "           * * *\n",
      "\n",
      "Machine precision = 2.220D-16\n",
      " N =           21     M =           10\n",
      "\n",
      "At X0         0 variables are exactly at the bounds\n",
      "\n",
      "At iterate    0    f=  2.26222D+00    |proj g|=  1.83801D-01\n"
     ]
    },
    {
     "name": "stderr",
     "output_type": "stream",
     "text": [
      " This problem is unconstrained.\n"
     ]
    },
    {
     "name": "stdout",
     "output_type": "stream",
     "text": [
      "\n",
      "At iterate    5    f=  1.15112D+00    |proj g|=  7.39937D-01\n",
      "\n",
      "At iterate   10    f=  1.06634D+00    |proj g|=  1.33959D-01\n",
      "\n",
      "At iterate   15    f=  1.03445D+00    |proj g|=  9.98667D-02\n",
      "\n",
      "At iterate   20    f=  9.97530D-01    |proj g|=  1.61477D-01\n",
      "\n",
      "At iterate   25    f=  9.95731D-01    |proj g|=  8.83632D-02\n",
      "\n",
      "At iterate   30    f=  9.95519D-01    |proj g|=  1.09238D-01\n",
      "\n",
      "At iterate   35    f=  9.95503D-01    |proj g|=  5.52107D-02\n",
      "\n",
      "At iterate   40    f=  9.95485D-01    |proj g|=  1.31976D-01\n",
      "\n",
      "At iterate   45    f=  9.95474D-01    |proj g|=  6.36860D-02\n",
      "  ys=-5.675E-05  -gs= 6.280E-06 BFGS update SKIPPED\n"
     ]
    },
    {
     "name": "stderr",
     "output_type": "stream",
     "text": [
      "/home/sumants/miniconda3/envs/cis545/lib/python3.8/site-packages/statsmodels/base/model.py:604: ConvergenceWarning: Maximum Likelihood optimization failed to converge. Check mle_retvals\n",
      "  warnings.warn(\"Maximum Likelihood optimization failed to \"\n",
      "100%|███████████████████████████████████████████████████████████████████████████████████| 36/36 [01:27<00:00,  2.43s/it]"
     ]
    },
    {
     "name": "stdout",
     "output_type": "stream",
     "text": [
      "\n",
      "At iterate   50    f=  9.95471D-01    |proj g|=  9.10169D-02\n",
      "\n",
      "           * * *\n",
      "\n",
      "Tit   = total number of iterations\n",
      "Tnf   = total number of function evaluations\n",
      "Tnint = total number of segments explored during Cauchy searches\n",
      "Skip  = number of BFGS updates skipped\n",
      "Nact  = number of active bounds at final generalized Cauchy point\n",
      "Projg = norm of the final projected gradient\n",
      "F     = final function value\n",
      "\n",
      "           * * *\n",
      "\n",
      "   N    Tit     Tnf  Tnint  Skip  Nact     Projg        F\n",
      "   21     50    148      1     1     0   9.102D-02   9.955D-01\n",
      "  F =  0.99547105578843109     \n",
      "\n",
      "STOP: TOTAL NO. of ITERATIONS REACHED LIMIT                 \n",
      "DONE\n",
      "(1, 2, 1)\n"
     ]
    },
    {
     "name": "stderr",
     "output_type": "stream",
     "text": [
      "\n"
     ]
    }
   ],
   "source": [
    "p_values = [0, 1, 2, 4]\n",
    "d_values = range(0, 3)\n",
    "q_values = range(0, 3)\n",
    "best = eval_excog_models(train_x, train_y, valid_x, valid_y, p_values, d_values, q_values, eval_sarimax_excog)\n",
    "print(best)"
   ]
  },
  {
   "cell_type": "markdown",
   "id": "df675635",
   "metadata": {},
   "source": [
    "## Testing on the holdout\n",
    "We now use the best parameters from an exhaustive grid search to predict on our holdout set"
   ]
  },
  {
   "cell_type": "code",
   "execution_count": 16,
   "id": "7a1e776f",
   "metadata": {},
   "outputs": [],
   "source": [
    "def plot(df, country, layout, line1 = 'AvgYearlyTemp', line2 = 'Predictions', x = 'year', error = 'AvgTempUncertainty'):\n",
    "    from plotly.subplots import make_subplots\n",
    "    import plotly.graph_objects as go\n",
    "\n",
    "\n",
    "    fig = go.Figure(layout = layout)\n",
    "    trace_1 = go.Line(name = f\"Actual {country} Avg Yearly Temp\", \n",
    "                     x = test[x],\n",
    "                     y = test[line1],\n",
    "                     error_y = dict(type='data', array = test[error]))\n",
    "\n",
    "\n",
    "    trace_2 = go.Line(name = f\"Predictions of {country} Avg Yearly Temp\", \n",
    "                     x = test[x],\n",
    "                     y = test[line2])\n",
    "\n",
    "    fig.add_trace(trace_1)\n",
    "    fig.add_trace(trace_2)\n",
    "    \n",
    "    return fig"
   ]
  },
  {
   "cell_type": "code",
   "execution_count": 7,
   "id": "d479e257",
   "metadata": {},
   "outputs": [
    {
     "name": "stderr",
     "output_type": "stream",
     "text": [
      " This problem is unconstrained.\n"
     ]
    },
    {
     "name": "stdout",
     "output_type": "stream",
     "text": [
      "RUNNING THE L-BFGS-B CODE\n",
      "\n",
      "           * * *\n",
      "\n",
      "Machine precision = 2.220D-16\n",
      " N =           17     M =           10\n",
      "\n",
      "At X0         0 variables are exactly at the bounds\n",
      "\n",
      "At iterate    0    f=  2.39543D+00    |proj g|=  1.63774D-01\n",
      "\n",
      "At iterate    5    f=  1.05812D+00    |proj g|=  1.84565D-01\n",
      "\n",
      "At iterate   10    f=  1.01208D+00    |proj g|=  1.86223D-01\n",
      "\n",
      "At iterate   15    f=  9.99406D-01    |proj g|=  7.92741D-02\n",
      "\n",
      "At iterate   20    f=  9.77967D-01    |proj g|=  7.75493D-02\n",
      "\n",
      "At iterate   25    f=  9.76222D-01    |proj g|=  9.19232D-02\n",
      "\n",
      "At iterate   30    f=  9.75887D-01    |proj g|=  3.63840D-02\n",
      "\n",
      "At iterate   35    f=  9.75817D-01    |proj g|=  8.45809D-02\n",
      "\n",
      "At iterate   40    f=  9.75753D-01    |proj g|=  2.81821D-02\n",
      "\n",
      "At iterate   45    f=  9.75655D-01    |proj g|=  4.00342D-02\n",
      "\n",
      "At iterate   50    f=  9.75533D-01    |proj g|=  5.62488D-02\n",
      "\n",
      "           * * *\n",
      "\n",
      "Tit   = total number of iterations\n",
      "Tnf   = total number of function evaluations\n",
      "Tnint = total number of segments explored during Cauchy searches\n",
      "Skip  = number of BFGS updates skipped\n",
      "Nact  = number of active bounds at final generalized Cauchy point\n",
      "Projg = norm of the final projected gradient\n",
      "F     = final function value\n",
      "\n",
      "           * * *\n",
      "\n",
      "   N    Tit     Tnf  Tnint  Skip  Nact     Projg        F\n",
      "   17     50     99      1     0     0   5.625D-02   9.755D-01\n",
      "  F =  0.97553256380475983     \n",
      "\n",
      "STOP: TOTAL NO. of ITERATIONS REACHED LIMIT                 \n"
     ]
    },
    {
     "name": "stderr",
     "output_type": "stream",
     "text": [
      "/home/sumants/miniconda3/envs/cis545/lib/python3.8/site-packages/statsmodels/base/model.py:604: ConvergenceWarning: Maximum Likelihood optimization failed to converge. Check mle_retvals\n",
      "  warnings.warn(\"Maximum Likelihood optimization failed to \"\n"
     ]
    }
   ],
   "source": [
    "model_fit, rmse, predictions = eval_sarimax_excog(model_x, model_y, test_x, test_y, best)"
   ]
  },
  {
   "cell_type": "code",
   "execution_count": 13,
   "id": "81711b81",
   "metadata": {},
   "outputs": [],
   "source": [
    "%%capture\n",
    "test[\"Predictions\"] = predictions\n"
   ]
  },
  {
   "cell_type": "code",
   "execution_count": 17,
   "id": "025edd47",
   "metadata": {},
   "outputs": [
    {
     "data": {
      "application/vnd.plotly.v1+json": {
       "config": {
        "plotlyServerURL": "https://plot.ly"
       },
       "data": [
        {
         "error_y": {
          "array": [
           0.2020833333333333,
           0.2366666666666667,
           0.21575,
           0.2134166666666666,
           0.23,
           0.2394166666666667,
           0.2161666666666666,
           0.1983333333333333,
           0.2046666666666666,
           0.2469166666666666,
           0.2384166666666667,
           0.2031666666666666,
           0.259,
           0.2219166666666666,
           0.228,
           0.2109166666666666,
           0.2025833333333333,
           0.2368333333333333,
           0.1925,
           0.1906666666666666,
           0.2278333333333333,
           0.2181666666666667,
           0.2086666666666666,
           0.2710833333333334,
           0.2285,
           0.1983333333333333,
           0.23075,
           0.1970833333333333,
           0.19425,
           0.2046666666666666,
           0.2079999999999999,
           0.211,
           0.2831666666666666,
           0.3085
          ],
          "type": "data"
         },
         "name": "Actual France Avg Yearly Temp",
         "type": "scatter",
         "x": [
          1980,
          1981,
          1982,
          1983,
          1984,
          1985,
          1986,
          1987,
          1988,
          1989,
          1990,
          1991,
          1992,
          1993,
          1994,
          1995,
          1996,
          1997,
          1998,
          1999,
          2000,
          2001,
          2002,
          2003,
          2004,
          2005,
          2006,
          2007,
          2008,
          2009,
          2010,
          2011,
          2012,
          2013
         ],
         "y": [
          12.555833333333334,
          13.080666666666668,
          13.679416666666668,
          13.487833333333334,
          12.868250000000002,
          12.628,
          12.871666666666668,
          12.955166666666669,
          13.580916666666669,
          13.930083333333334,
          14.038833333333336,
          13.139499999999998,
          13.462916666666668,
          13.150166666666667,
          14.15616666666667,
          13.899749999999996,
          13.013916666666669,
          14.095999999999998,
          13.720666666666666,
          13.904916666666669,
          13.967333333333334,
          13.6965,
          14.048166666666669,
          14.337916666666668,
          13.66408333333333,
          13.694250000000002,
          14.143833333333331,
          13.896583333333332,
          13.581499999999998,
          13.941666666666665,
          13.115416666666668,
          14.479583333333336,
          13.707166666666666,
          13.584625
         ]
        },
        {
         "name": "Predictions of France Avg Yearly Temp",
         "type": "scatter",
         "x": [
          1980,
          1981,
          1982,
          1983,
          1984,
          1985,
          1986,
          1987,
          1988,
          1989,
          1990,
          1991,
          1992,
          1993,
          1994,
          1995,
          1996,
          1997,
          1998,
          1999,
          2000,
          2001,
          2002,
          2003,
          2004,
          2005,
          2006,
          2007,
          2008,
          2009,
          2010,
          2011,
          2012,
          2013
         ],
         "y": [
          12.734290272214409,
          12.817726307459413,
          12.957002426016103,
          13.097149570578452,
          13.144895339648368,
          13.187154909939236,
          13.397182946616034,
          13.561253769004843,
          13.555599557132268,
          13.590989608211167,
          13.357026069803767,
          13.33298433750327,
          13.368489275348491,
          13.535270888986899,
          13.594828577001184,
          13.629663137636237,
          13.57889010968747,
          13.58260191197422,
          13.542441836972927,
          13.528062132529293,
          13.473578415434881,
          13.657923469243373,
          13.640592440600598,
          13.672053297358344,
          13.69347421247656,
          13.659146942406238,
          13.700810675606824,
          13.694938804500659,
          13.75416632218963,
          13.948488261632214,
          13.912313762044892,
          14.047693926853555,
          14.045709717930155,
          14.026016067255572
         ]
        }
       ],
       "layout": {
        "template": {
         "data": {
          "bar": [
           {
            "error_x": {
             "color": "#2a3f5f"
            },
            "error_y": {
             "color": "#2a3f5f"
            },
            "marker": {
             "line": {
              "color": "#E5ECF6",
              "width": 0.5
             },
             "pattern": {
              "fillmode": "overlay",
              "size": 10,
              "solidity": 0.2
             }
            },
            "type": "bar"
           }
          ],
          "barpolar": [
           {
            "marker": {
             "line": {
              "color": "#E5ECF6",
              "width": 0.5
             },
             "pattern": {
              "fillmode": "overlay",
              "size": 10,
              "solidity": 0.2
             }
            },
            "type": "barpolar"
           }
          ],
          "carpet": [
           {
            "aaxis": {
             "endlinecolor": "#2a3f5f",
             "gridcolor": "white",
             "linecolor": "white",
             "minorgridcolor": "white",
             "startlinecolor": "#2a3f5f"
            },
            "baxis": {
             "endlinecolor": "#2a3f5f",
             "gridcolor": "white",
             "linecolor": "white",
             "minorgridcolor": "white",
             "startlinecolor": "#2a3f5f"
            },
            "type": "carpet"
           }
          ],
          "choropleth": [
           {
            "colorbar": {
             "outlinewidth": 0,
             "ticks": ""
            },
            "type": "choropleth"
           }
          ],
          "contour": [
           {
            "colorbar": {
             "outlinewidth": 0,
             "ticks": ""
            },
            "colorscale": [
             [
              0,
              "#0d0887"
             ],
             [
              0.1111111111111111,
              "#46039f"
             ],
             [
              0.2222222222222222,
              "#7201a8"
             ],
             [
              0.3333333333333333,
              "#9c179e"
             ],
             [
              0.4444444444444444,
              "#bd3786"
             ],
             [
              0.5555555555555556,
              "#d8576b"
             ],
             [
              0.6666666666666666,
              "#ed7953"
             ],
             [
              0.7777777777777778,
              "#fb9f3a"
             ],
             [
              0.8888888888888888,
              "#fdca26"
             ],
             [
              1,
              "#f0f921"
             ]
            ],
            "type": "contour"
           }
          ],
          "contourcarpet": [
           {
            "colorbar": {
             "outlinewidth": 0,
             "ticks": ""
            },
            "type": "contourcarpet"
           }
          ],
          "heatmap": [
           {
            "colorbar": {
             "outlinewidth": 0,
             "ticks": ""
            },
            "colorscale": [
             [
              0,
              "#0d0887"
             ],
             [
              0.1111111111111111,
              "#46039f"
             ],
             [
              0.2222222222222222,
              "#7201a8"
             ],
             [
              0.3333333333333333,
              "#9c179e"
             ],
             [
              0.4444444444444444,
              "#bd3786"
             ],
             [
              0.5555555555555556,
              "#d8576b"
             ],
             [
              0.6666666666666666,
              "#ed7953"
             ],
             [
              0.7777777777777778,
              "#fb9f3a"
             ],
             [
              0.8888888888888888,
              "#fdca26"
             ],
             [
              1,
              "#f0f921"
             ]
            ],
            "type": "heatmap"
           }
          ],
          "heatmapgl": [
           {
            "colorbar": {
             "outlinewidth": 0,
             "ticks": ""
            },
            "colorscale": [
             [
              0,
              "#0d0887"
             ],
             [
              0.1111111111111111,
              "#46039f"
             ],
             [
              0.2222222222222222,
              "#7201a8"
             ],
             [
              0.3333333333333333,
              "#9c179e"
             ],
             [
              0.4444444444444444,
              "#bd3786"
             ],
             [
              0.5555555555555556,
              "#d8576b"
             ],
             [
              0.6666666666666666,
              "#ed7953"
             ],
             [
              0.7777777777777778,
              "#fb9f3a"
             ],
             [
              0.8888888888888888,
              "#fdca26"
             ],
             [
              1,
              "#f0f921"
             ]
            ],
            "type": "heatmapgl"
           }
          ],
          "histogram": [
           {
            "marker": {
             "pattern": {
              "fillmode": "overlay",
              "size": 10,
              "solidity": 0.2
             }
            },
            "type": "histogram"
           }
          ],
          "histogram2d": [
           {
            "colorbar": {
             "outlinewidth": 0,
             "ticks": ""
            },
            "colorscale": [
             [
              0,
              "#0d0887"
             ],
             [
              0.1111111111111111,
              "#46039f"
             ],
             [
              0.2222222222222222,
              "#7201a8"
             ],
             [
              0.3333333333333333,
              "#9c179e"
             ],
             [
              0.4444444444444444,
              "#bd3786"
             ],
             [
              0.5555555555555556,
              "#d8576b"
             ],
             [
              0.6666666666666666,
              "#ed7953"
             ],
             [
              0.7777777777777778,
              "#fb9f3a"
             ],
             [
              0.8888888888888888,
              "#fdca26"
             ],
             [
              1,
              "#f0f921"
             ]
            ],
            "type": "histogram2d"
           }
          ],
          "histogram2dcontour": [
           {
            "colorbar": {
             "outlinewidth": 0,
             "ticks": ""
            },
            "colorscale": [
             [
              0,
              "#0d0887"
             ],
             [
              0.1111111111111111,
              "#46039f"
             ],
             [
              0.2222222222222222,
              "#7201a8"
             ],
             [
              0.3333333333333333,
              "#9c179e"
             ],
             [
              0.4444444444444444,
              "#bd3786"
             ],
             [
              0.5555555555555556,
              "#d8576b"
             ],
             [
              0.6666666666666666,
              "#ed7953"
             ],
             [
              0.7777777777777778,
              "#fb9f3a"
             ],
             [
              0.8888888888888888,
              "#fdca26"
             ],
             [
              1,
              "#f0f921"
             ]
            ],
            "type": "histogram2dcontour"
           }
          ],
          "mesh3d": [
           {
            "colorbar": {
             "outlinewidth": 0,
             "ticks": ""
            },
            "type": "mesh3d"
           }
          ],
          "parcoords": [
           {
            "line": {
             "colorbar": {
              "outlinewidth": 0,
              "ticks": ""
             }
            },
            "type": "parcoords"
           }
          ],
          "pie": [
           {
            "automargin": true,
            "type": "pie"
           }
          ],
          "scatter": [
           {
            "marker": {
             "colorbar": {
              "outlinewidth": 0,
              "ticks": ""
             }
            },
            "type": "scatter"
           }
          ],
          "scatter3d": [
           {
            "line": {
             "colorbar": {
              "outlinewidth": 0,
              "ticks": ""
             }
            },
            "marker": {
             "colorbar": {
              "outlinewidth": 0,
              "ticks": ""
             }
            },
            "type": "scatter3d"
           }
          ],
          "scattercarpet": [
           {
            "marker": {
             "colorbar": {
              "outlinewidth": 0,
              "ticks": ""
             }
            },
            "type": "scattercarpet"
           }
          ],
          "scattergeo": [
           {
            "marker": {
             "colorbar": {
              "outlinewidth": 0,
              "ticks": ""
             }
            },
            "type": "scattergeo"
           }
          ],
          "scattergl": [
           {
            "marker": {
             "colorbar": {
              "outlinewidth": 0,
              "ticks": ""
             }
            },
            "type": "scattergl"
           }
          ],
          "scattermapbox": [
           {
            "marker": {
             "colorbar": {
              "outlinewidth": 0,
              "ticks": ""
             }
            },
            "type": "scattermapbox"
           }
          ],
          "scatterpolar": [
           {
            "marker": {
             "colorbar": {
              "outlinewidth": 0,
              "ticks": ""
             }
            },
            "type": "scatterpolar"
           }
          ],
          "scatterpolargl": [
           {
            "marker": {
             "colorbar": {
              "outlinewidth": 0,
              "ticks": ""
             }
            },
            "type": "scatterpolargl"
           }
          ],
          "scatterternary": [
           {
            "marker": {
             "colorbar": {
              "outlinewidth": 0,
              "ticks": ""
             }
            },
            "type": "scatterternary"
           }
          ],
          "surface": [
           {
            "colorbar": {
             "outlinewidth": 0,
             "ticks": ""
            },
            "colorscale": [
             [
              0,
              "#0d0887"
             ],
             [
              0.1111111111111111,
              "#46039f"
             ],
             [
              0.2222222222222222,
              "#7201a8"
             ],
             [
              0.3333333333333333,
              "#9c179e"
             ],
             [
              0.4444444444444444,
              "#bd3786"
             ],
             [
              0.5555555555555556,
              "#d8576b"
             ],
             [
              0.6666666666666666,
              "#ed7953"
             ],
             [
              0.7777777777777778,
              "#fb9f3a"
             ],
             [
              0.8888888888888888,
              "#fdca26"
             ],
             [
              1,
              "#f0f921"
             ]
            ],
            "type": "surface"
           }
          ],
          "table": [
           {
            "cells": {
             "fill": {
              "color": "#EBF0F8"
             },
             "line": {
              "color": "white"
             }
            },
            "header": {
             "fill": {
              "color": "#C8D4E3"
             },
             "line": {
              "color": "white"
             }
            },
            "type": "table"
           }
          ]
         },
         "layout": {
          "annotationdefaults": {
           "arrowcolor": "#2a3f5f",
           "arrowhead": 0,
           "arrowwidth": 1
          },
          "autotypenumbers": "strict",
          "coloraxis": {
           "colorbar": {
            "outlinewidth": 0,
            "ticks": ""
           }
          },
          "colorscale": {
           "diverging": [
            [
             0,
             "#8e0152"
            ],
            [
             0.1,
             "#c51b7d"
            ],
            [
             0.2,
             "#de77ae"
            ],
            [
             0.3,
             "#f1b6da"
            ],
            [
             0.4,
             "#fde0ef"
            ],
            [
             0.5,
             "#f7f7f7"
            ],
            [
             0.6,
             "#e6f5d0"
            ],
            [
             0.7,
             "#b8e186"
            ],
            [
             0.8,
             "#7fbc41"
            ],
            [
             0.9,
             "#4d9221"
            ],
            [
             1,
             "#276419"
            ]
           ],
           "sequential": [
            [
             0,
             "#0d0887"
            ],
            [
             0.1111111111111111,
             "#46039f"
            ],
            [
             0.2222222222222222,
             "#7201a8"
            ],
            [
             0.3333333333333333,
             "#9c179e"
            ],
            [
             0.4444444444444444,
             "#bd3786"
            ],
            [
             0.5555555555555556,
             "#d8576b"
            ],
            [
             0.6666666666666666,
             "#ed7953"
            ],
            [
             0.7777777777777778,
             "#fb9f3a"
            ],
            [
             0.8888888888888888,
             "#fdca26"
            ],
            [
             1,
             "#f0f921"
            ]
           ],
           "sequentialminus": [
            [
             0,
             "#0d0887"
            ],
            [
             0.1111111111111111,
             "#46039f"
            ],
            [
             0.2222222222222222,
             "#7201a8"
            ],
            [
             0.3333333333333333,
             "#9c179e"
            ],
            [
             0.4444444444444444,
             "#bd3786"
            ],
            [
             0.5555555555555556,
             "#d8576b"
            ],
            [
             0.6666666666666666,
             "#ed7953"
            ],
            [
             0.7777777777777778,
             "#fb9f3a"
            ],
            [
             0.8888888888888888,
             "#fdca26"
            ],
            [
             1,
             "#f0f921"
            ]
           ]
          },
          "colorway": [
           "#636efa",
           "#EF553B",
           "#00cc96",
           "#ab63fa",
           "#FFA15A",
           "#19d3f3",
           "#FF6692",
           "#B6E880",
           "#FF97FF",
           "#FECB52"
          ],
          "font": {
           "color": "#2a3f5f"
          },
          "geo": {
           "bgcolor": "white",
           "lakecolor": "white",
           "landcolor": "#E5ECF6",
           "showlakes": true,
           "showland": true,
           "subunitcolor": "white"
          },
          "hoverlabel": {
           "align": "left"
          },
          "hovermode": "closest",
          "mapbox": {
           "style": "light"
          },
          "paper_bgcolor": "white",
          "plot_bgcolor": "#E5ECF6",
          "polar": {
           "angularaxis": {
            "gridcolor": "white",
            "linecolor": "white",
            "ticks": ""
           },
           "bgcolor": "#E5ECF6",
           "radialaxis": {
            "gridcolor": "white",
            "linecolor": "white",
            "ticks": ""
           }
          },
          "scene": {
           "xaxis": {
            "backgroundcolor": "#E5ECF6",
            "gridcolor": "white",
            "gridwidth": 2,
            "linecolor": "white",
            "showbackground": true,
            "ticks": "",
            "zerolinecolor": "white"
           },
           "yaxis": {
            "backgroundcolor": "#E5ECF6",
            "gridcolor": "white",
            "gridwidth": 2,
            "linecolor": "white",
            "showbackground": true,
            "ticks": "",
            "zerolinecolor": "white"
           },
           "zaxis": {
            "backgroundcolor": "#E5ECF6",
            "gridcolor": "white",
            "gridwidth": 2,
            "linecolor": "white",
            "showbackground": true,
            "ticks": "",
            "zerolinecolor": "white"
           }
          },
          "shapedefaults": {
           "line": {
            "color": "#2a3f5f"
           }
          },
          "ternary": {
           "aaxis": {
            "gridcolor": "white",
            "linecolor": "white",
            "ticks": ""
           },
           "baxis": {
            "gridcolor": "white",
            "linecolor": "white",
            "ticks": ""
           },
           "bgcolor": "#E5ECF6",
           "caxis": {
            "gridcolor": "white",
            "linecolor": "white",
            "ticks": ""
           }
          },
          "title": {
           "x": 0.05
          },
          "xaxis": {
           "automargin": true,
           "gridcolor": "white",
           "linecolor": "white",
           "ticks": "",
           "title": {
            "standoff": 15
           },
           "zerolinecolor": "white",
           "zerolinewidth": 2
          },
          "yaxis": {
           "automargin": true,
           "gridcolor": "white",
           "linecolor": "white",
           "ticks": "",
           "title": {
            "standoff": 15
           },
           "zerolinecolor": "white",
           "zerolinewidth": 2
          }
         }
        },
        "xaxis": {
         "title": {
          "text": "Year"
         }
        },
        "yaxis": {
         "title": {
          "text": "Temperature"
         }
        }
       }
      },
      "text/html": [
       "<div>                            <div id=\"83cd533f-bbb1-4c66-86f6-ffe6ee9e9d58\" class=\"plotly-graph-div\" style=\"height:525px; width:100%;\"></div>            <script type=\"text/javascript\">                require([\"plotly\"], function(Plotly) {                    window.PLOTLYENV=window.PLOTLYENV || {};                                    if (document.getElementById(\"83cd533f-bbb1-4c66-86f6-ffe6ee9e9d58\")) {                    Plotly.newPlot(                        \"83cd533f-bbb1-4c66-86f6-ffe6ee9e9d58\",                        [{\"error_y\":{\"array\":[0.2020833333333333,0.2366666666666667,0.21575,0.2134166666666666,0.23,0.2394166666666667,0.2161666666666666,0.1983333333333333,0.2046666666666666,0.2469166666666666,0.2384166666666667,0.2031666666666666,0.259,0.2219166666666666,0.228,0.2109166666666666,0.2025833333333333,0.2368333333333333,0.1925,0.1906666666666666,0.2278333333333333,0.2181666666666667,0.2086666666666666,0.2710833333333334,0.2285,0.1983333333333333,0.23075,0.1970833333333333,0.19425,0.2046666666666666,0.2079999999999999,0.211,0.2831666666666666,0.3085],\"type\":\"data\"},\"name\":\"Actual France Avg Yearly Temp\",\"x\":[1980,1981,1982,1983,1984,1985,1986,1987,1988,1989,1990,1991,1992,1993,1994,1995,1996,1997,1998,1999,2000,2001,2002,2003,2004,2005,2006,2007,2008,2009,2010,2011,2012,2013],\"y\":[12.555833333333334,13.080666666666668,13.679416666666668,13.487833333333334,12.868250000000002,12.628,12.871666666666668,12.955166666666669,13.580916666666669,13.930083333333334,14.038833333333336,13.139499999999998,13.462916666666668,13.150166666666667,14.15616666666667,13.899749999999996,13.013916666666669,14.095999999999998,13.720666666666666,13.904916666666669,13.967333333333334,13.6965,14.048166666666669,14.337916666666668,13.66408333333333,13.694250000000002,14.143833333333331,13.896583333333332,13.581499999999998,13.941666666666665,13.115416666666668,14.479583333333336,13.707166666666666,13.584625],\"type\":\"scatter\"},{\"name\":\"Predictions of France Avg Yearly Temp\",\"x\":[1980,1981,1982,1983,1984,1985,1986,1987,1988,1989,1990,1991,1992,1993,1994,1995,1996,1997,1998,1999,2000,2001,2002,2003,2004,2005,2006,2007,2008,2009,2010,2011,2012,2013],\"y\":[12.734290272214409,12.817726307459413,12.957002426016103,13.097149570578452,13.144895339648368,13.187154909939236,13.397182946616034,13.561253769004843,13.555599557132268,13.590989608211167,13.357026069803767,13.33298433750327,13.368489275348491,13.535270888986899,13.594828577001184,13.629663137636237,13.57889010968747,13.58260191197422,13.542441836972927,13.528062132529293,13.473578415434881,13.657923469243373,13.640592440600598,13.672053297358344,13.69347421247656,13.659146942406238,13.700810675606824,13.694938804500659,13.75416632218963,13.948488261632214,13.912313762044892,14.047693926853555,14.045709717930155,14.026016067255572],\"type\":\"scatter\"}],                        {\"xaxis\":{\"title\":{\"text\":\"Year\"}},\"yaxis\":{\"title\":{\"text\":\"Temperature\"}},\"template\":{\"data\":{\"bar\":[{\"error_x\":{\"color\":\"#2a3f5f\"},\"error_y\":{\"color\":\"#2a3f5f\"},\"marker\":{\"line\":{\"color\":\"#E5ECF6\",\"width\":0.5},\"pattern\":{\"fillmode\":\"overlay\",\"size\":10,\"solidity\":0.2}},\"type\":\"bar\"}],\"barpolar\":[{\"marker\":{\"line\":{\"color\":\"#E5ECF6\",\"width\":0.5},\"pattern\":{\"fillmode\":\"overlay\",\"size\":10,\"solidity\":0.2}},\"type\":\"barpolar\"}],\"carpet\":[{\"aaxis\":{\"endlinecolor\":\"#2a3f5f\",\"gridcolor\":\"white\",\"linecolor\":\"white\",\"minorgridcolor\":\"white\",\"startlinecolor\":\"#2a3f5f\"},\"baxis\":{\"endlinecolor\":\"#2a3f5f\",\"gridcolor\":\"white\",\"linecolor\":\"white\",\"minorgridcolor\":\"white\",\"startlinecolor\":\"#2a3f5f\"},\"type\":\"carpet\"}],\"choropleth\":[{\"colorbar\":{\"outlinewidth\":0,\"ticks\":\"\"},\"type\":\"choropleth\"}],\"contour\":[{\"colorbar\":{\"outlinewidth\":0,\"ticks\":\"\"},\"colorscale\":[[0.0,\"#0d0887\"],[0.1111111111111111,\"#46039f\"],[0.2222222222222222,\"#7201a8\"],[0.3333333333333333,\"#9c179e\"],[0.4444444444444444,\"#bd3786\"],[0.5555555555555556,\"#d8576b\"],[0.6666666666666666,\"#ed7953\"],[0.7777777777777778,\"#fb9f3a\"],[0.8888888888888888,\"#fdca26\"],[1.0,\"#f0f921\"]],\"type\":\"contour\"}],\"contourcarpet\":[{\"colorbar\":{\"outlinewidth\":0,\"ticks\":\"\"},\"type\":\"contourcarpet\"}],\"heatmap\":[{\"colorbar\":{\"outlinewidth\":0,\"ticks\":\"\"},\"colorscale\":[[0.0,\"#0d0887\"],[0.1111111111111111,\"#46039f\"],[0.2222222222222222,\"#7201a8\"],[0.3333333333333333,\"#9c179e\"],[0.4444444444444444,\"#bd3786\"],[0.5555555555555556,\"#d8576b\"],[0.6666666666666666,\"#ed7953\"],[0.7777777777777778,\"#fb9f3a\"],[0.8888888888888888,\"#fdca26\"],[1.0,\"#f0f921\"]],\"type\":\"heatmap\"}],\"heatmapgl\":[{\"colorbar\":{\"outlinewidth\":0,\"ticks\":\"\"},\"colorscale\":[[0.0,\"#0d0887\"],[0.1111111111111111,\"#46039f\"],[0.2222222222222222,\"#7201a8\"],[0.3333333333333333,\"#9c179e\"],[0.4444444444444444,\"#bd3786\"],[0.5555555555555556,\"#d8576b\"],[0.6666666666666666,\"#ed7953\"],[0.7777777777777778,\"#fb9f3a\"],[0.8888888888888888,\"#fdca26\"],[1.0,\"#f0f921\"]],\"type\":\"heatmapgl\"}],\"histogram\":[{\"marker\":{\"pattern\":{\"fillmode\":\"overlay\",\"size\":10,\"solidity\":0.2}},\"type\":\"histogram\"}],\"histogram2d\":[{\"colorbar\":{\"outlinewidth\":0,\"ticks\":\"\"},\"colorscale\":[[0.0,\"#0d0887\"],[0.1111111111111111,\"#46039f\"],[0.2222222222222222,\"#7201a8\"],[0.3333333333333333,\"#9c179e\"],[0.4444444444444444,\"#bd3786\"],[0.5555555555555556,\"#d8576b\"],[0.6666666666666666,\"#ed7953\"],[0.7777777777777778,\"#fb9f3a\"],[0.8888888888888888,\"#fdca26\"],[1.0,\"#f0f921\"]],\"type\":\"histogram2d\"}],\"histogram2dcontour\":[{\"colorbar\":{\"outlinewidth\":0,\"ticks\":\"\"},\"colorscale\":[[0.0,\"#0d0887\"],[0.1111111111111111,\"#46039f\"],[0.2222222222222222,\"#7201a8\"],[0.3333333333333333,\"#9c179e\"],[0.4444444444444444,\"#bd3786\"],[0.5555555555555556,\"#d8576b\"],[0.6666666666666666,\"#ed7953\"],[0.7777777777777778,\"#fb9f3a\"],[0.8888888888888888,\"#fdca26\"],[1.0,\"#f0f921\"]],\"type\":\"histogram2dcontour\"}],\"mesh3d\":[{\"colorbar\":{\"outlinewidth\":0,\"ticks\":\"\"},\"type\":\"mesh3d\"}],\"parcoords\":[{\"line\":{\"colorbar\":{\"outlinewidth\":0,\"ticks\":\"\"}},\"type\":\"parcoords\"}],\"pie\":[{\"automargin\":true,\"type\":\"pie\"}],\"scatter\":[{\"marker\":{\"colorbar\":{\"outlinewidth\":0,\"ticks\":\"\"}},\"type\":\"scatter\"}],\"scatter3d\":[{\"line\":{\"colorbar\":{\"outlinewidth\":0,\"ticks\":\"\"}},\"marker\":{\"colorbar\":{\"outlinewidth\":0,\"ticks\":\"\"}},\"type\":\"scatter3d\"}],\"scattercarpet\":[{\"marker\":{\"colorbar\":{\"outlinewidth\":0,\"ticks\":\"\"}},\"type\":\"scattercarpet\"}],\"scattergeo\":[{\"marker\":{\"colorbar\":{\"outlinewidth\":0,\"ticks\":\"\"}},\"type\":\"scattergeo\"}],\"scattergl\":[{\"marker\":{\"colorbar\":{\"outlinewidth\":0,\"ticks\":\"\"}},\"type\":\"scattergl\"}],\"scattermapbox\":[{\"marker\":{\"colorbar\":{\"outlinewidth\":0,\"ticks\":\"\"}},\"type\":\"scattermapbox\"}],\"scatterpolar\":[{\"marker\":{\"colorbar\":{\"outlinewidth\":0,\"ticks\":\"\"}},\"type\":\"scatterpolar\"}],\"scatterpolargl\":[{\"marker\":{\"colorbar\":{\"outlinewidth\":0,\"ticks\":\"\"}},\"type\":\"scatterpolargl\"}],\"scatterternary\":[{\"marker\":{\"colorbar\":{\"outlinewidth\":0,\"ticks\":\"\"}},\"type\":\"scatterternary\"}],\"surface\":[{\"colorbar\":{\"outlinewidth\":0,\"ticks\":\"\"},\"colorscale\":[[0.0,\"#0d0887\"],[0.1111111111111111,\"#46039f\"],[0.2222222222222222,\"#7201a8\"],[0.3333333333333333,\"#9c179e\"],[0.4444444444444444,\"#bd3786\"],[0.5555555555555556,\"#d8576b\"],[0.6666666666666666,\"#ed7953\"],[0.7777777777777778,\"#fb9f3a\"],[0.8888888888888888,\"#fdca26\"],[1.0,\"#f0f921\"]],\"type\":\"surface\"}],\"table\":[{\"cells\":{\"fill\":{\"color\":\"#EBF0F8\"},\"line\":{\"color\":\"white\"}},\"header\":{\"fill\":{\"color\":\"#C8D4E3\"},\"line\":{\"color\":\"white\"}},\"type\":\"table\"}]},\"layout\":{\"annotationdefaults\":{\"arrowcolor\":\"#2a3f5f\",\"arrowhead\":0,\"arrowwidth\":1},\"autotypenumbers\":\"strict\",\"coloraxis\":{\"colorbar\":{\"outlinewidth\":0,\"ticks\":\"\"}},\"colorscale\":{\"diverging\":[[0,\"#8e0152\"],[0.1,\"#c51b7d\"],[0.2,\"#de77ae\"],[0.3,\"#f1b6da\"],[0.4,\"#fde0ef\"],[0.5,\"#f7f7f7\"],[0.6,\"#e6f5d0\"],[0.7,\"#b8e186\"],[0.8,\"#7fbc41\"],[0.9,\"#4d9221\"],[1,\"#276419\"]],\"sequential\":[[0.0,\"#0d0887\"],[0.1111111111111111,\"#46039f\"],[0.2222222222222222,\"#7201a8\"],[0.3333333333333333,\"#9c179e\"],[0.4444444444444444,\"#bd3786\"],[0.5555555555555556,\"#d8576b\"],[0.6666666666666666,\"#ed7953\"],[0.7777777777777778,\"#fb9f3a\"],[0.8888888888888888,\"#fdca26\"],[1.0,\"#f0f921\"]],\"sequentialminus\":[[0.0,\"#0d0887\"],[0.1111111111111111,\"#46039f\"],[0.2222222222222222,\"#7201a8\"],[0.3333333333333333,\"#9c179e\"],[0.4444444444444444,\"#bd3786\"],[0.5555555555555556,\"#d8576b\"],[0.6666666666666666,\"#ed7953\"],[0.7777777777777778,\"#fb9f3a\"],[0.8888888888888888,\"#fdca26\"],[1.0,\"#f0f921\"]]},\"colorway\":[\"#636efa\",\"#EF553B\",\"#00cc96\",\"#ab63fa\",\"#FFA15A\",\"#19d3f3\",\"#FF6692\",\"#B6E880\",\"#FF97FF\",\"#FECB52\"],\"font\":{\"color\":\"#2a3f5f\"},\"geo\":{\"bgcolor\":\"white\",\"lakecolor\":\"white\",\"landcolor\":\"#E5ECF6\",\"showlakes\":true,\"showland\":true,\"subunitcolor\":\"white\"},\"hoverlabel\":{\"align\":\"left\"},\"hovermode\":\"closest\",\"mapbox\":{\"style\":\"light\"},\"paper_bgcolor\":\"white\",\"plot_bgcolor\":\"#E5ECF6\",\"polar\":{\"angularaxis\":{\"gridcolor\":\"white\",\"linecolor\":\"white\",\"ticks\":\"\"},\"bgcolor\":\"#E5ECF6\",\"radialaxis\":{\"gridcolor\":\"white\",\"linecolor\":\"white\",\"ticks\":\"\"}},\"scene\":{\"xaxis\":{\"backgroundcolor\":\"#E5ECF6\",\"gridcolor\":\"white\",\"gridwidth\":2,\"linecolor\":\"white\",\"showbackground\":true,\"ticks\":\"\",\"zerolinecolor\":\"white\"},\"yaxis\":{\"backgroundcolor\":\"#E5ECF6\",\"gridcolor\":\"white\",\"gridwidth\":2,\"linecolor\":\"white\",\"showbackground\":true,\"ticks\":\"\",\"zerolinecolor\":\"white\"},\"zaxis\":{\"backgroundcolor\":\"#E5ECF6\",\"gridcolor\":\"white\",\"gridwidth\":2,\"linecolor\":\"white\",\"showbackground\":true,\"ticks\":\"\",\"zerolinecolor\":\"white\"}},\"shapedefaults\":{\"line\":{\"color\":\"#2a3f5f\"}},\"ternary\":{\"aaxis\":{\"gridcolor\":\"white\",\"linecolor\":\"white\",\"ticks\":\"\"},\"baxis\":{\"gridcolor\":\"white\",\"linecolor\":\"white\",\"ticks\":\"\"},\"bgcolor\":\"#E5ECF6\",\"caxis\":{\"gridcolor\":\"white\",\"linecolor\":\"white\",\"ticks\":\"\"}},\"title\":{\"x\":0.05},\"xaxis\":{\"automargin\":true,\"gridcolor\":\"white\",\"linecolor\":\"white\",\"ticks\":\"\",\"title\":{\"standoff\":15},\"zerolinecolor\":\"white\",\"zerolinewidth\":2},\"yaxis\":{\"automargin\":true,\"gridcolor\":\"white\",\"linecolor\":\"white\",\"ticks\":\"\",\"title\":{\"standoff\":15},\"zerolinecolor\":\"white\",\"zerolinewidth\":2}}}},                        {\"responsive\": true}                    ).then(function(){\n",
       "                            \n",
       "var gd = document.getElementById('83cd533f-bbb1-4c66-86f6-ffe6ee9e9d58');\n",
       "var x = new MutationObserver(function (mutations, observer) {{\n",
       "        var display = window.getComputedStyle(gd).display;\n",
       "        if (!display || display === 'none') {{\n",
       "            console.log([gd, 'removed!']);\n",
       "            Plotly.purge(gd);\n",
       "            observer.disconnect();\n",
       "        }}\n",
       "}});\n",
       "\n",
       "// Listen for the removal of the full notebook cells\n",
       "var notebookContainer = gd.closest('#notebook-container');\n",
       "if (notebookContainer) {{\n",
       "    x.observe(notebookContainer, {childList: true});\n",
       "}}\n",
       "\n",
       "// Listen for the clearing of the current output cell\n",
       "var outputEl = gd.closest('.output');\n",
       "if (outputEl) {{\n",
       "    x.observe(outputEl, {childList: true});\n",
       "}}\n",
       "\n",
       "                        })                };                });            </script>        </div>"
      ]
     },
     "metadata": {},
     "output_type": "display_data"
    }
   ],
   "source": [
    "layout = dict(xaxis=dict(title='Year'),\n",
    "              yaxis=dict(title='Temperature'))\n",
    "fig = plot(test, \"France\", layout)\n",
    "fig.show()"
   ]
  }
 ],
 "metadata": {
  "kernelspec": {
   "display_name": "Python 3 (ipykernel)",
   "language": "python",
   "name": "python3"
  },
  "language_info": {
   "codemirror_mode": {
    "name": "ipython",
    "version": 3
   },
   "file_extension": ".py",
   "mimetype": "text/x-python",
   "name": "python",
   "nbconvert_exporter": "python",
   "pygments_lexer": "ipython3",
   "version": "3.8.0"
  }
 },
 "nbformat": 4,
 "nbformat_minor": 5
}
